{
 "cells": [
  {
   "cell_type": "markdown",
   "id": "clear-saint",
   "metadata": {},
   "source": [
    "# Imports"
   ]
  },
  {
   "cell_type": "code",
   "execution_count": 1,
   "id": "southern-pointer",
   "metadata": {
    "ExecuteTime": {
     "end_time": "2021-03-22T16:29:25.832858Z",
     "start_time": "2021-03-22T16:29:25.443347Z"
    },
    "scrolled": true
   },
   "outputs": [],
   "source": [
    "import os\n",
    "import pandas as pd\n",
    "from google.cloud import bigquery"
   ]
  },
  {
   "cell_type": "code",
   "execution_count": 2,
   "id": "communist-billion",
   "metadata": {
    "ExecuteTime": {
     "end_time": "2021-03-22T16:29:29.622260Z",
     "start_time": "2021-03-22T16:29:29.613743Z"
    },
    "scrolled": true
   },
   "outputs": [],
   "source": [
    "# set credentials\n",
    "os.environ['GOOGLE_APPLICATION_CREDENTIALS'] = \"../documents/key.json\"\n",
    "# creates a client\n",
    "client = bigquery.Client()"
   ]
  },
  {
   "cell_type": "markdown",
   "id": "enormous-weekly",
   "metadata": {},
   "source": [
    "# Loading Data"
   ]
  },
  {
   "cell_type": "code",
   "execution_count": 3,
   "id": "signal-program",
   "metadata": {
    "ExecuteTime": {
     "end_time": "2021-03-22T16:29:33.018450Z",
     "start_time": "2021-03-22T16:29:32.531191Z"
    },
    "scrolled": true
   },
   "outputs": [
    {
     "data": {
      "text/plain": [
       "[SchemaField('date_received', 'DATE', 'NULLABLE', 'Date the complaint was received by the CPFB', (), None),\n",
       " SchemaField('product', 'STRING', 'NULLABLE', 'The type of product the consumer identified in the complaint', (), None),\n",
       " SchemaField('subproduct', 'STRING', 'NULLABLE', 'The type of sub-product the consumer identified in the complaint', (), None),\n",
       " SchemaField('issue', 'STRING', 'NULLABLE', 'The issue the consumer identified in the complaint', (), None),\n",
       " SchemaField('subissue', 'STRING', 'NULLABLE', 'The sub-issue the consumer identified in the complaint', (), None),\n",
       " SchemaField('consumer_complaint_narrative', 'STRING', 'NULLABLE', 'A description of the complaint provided by the consumer', (), None),\n",
       " SchemaField('company_public_response', 'STRING', 'NULLABLE', \"The company's optional, public-facing response to a consumer's complaint\", (), None),\n",
       " SchemaField('company_name', 'STRING', 'NULLABLE', 'Name of the company identified in the complaint by the consumer', (), None),\n",
       " SchemaField('state', 'STRING', 'NULLABLE', 'Two letter postal abbreviation of the state of the mailing address provided by the consumer', (), None),\n",
       " SchemaField('zip_code', 'STRING', 'NULLABLE', 'The mailing ZIP code provided by the consumer', (), None),\n",
       " SchemaField('tags', 'STRING', 'NULLABLE', 'Data that supports easier searching and sorting of complaints', (), None),\n",
       " SchemaField('consumer_consent_provided', 'STRING', 'NULLABLE', 'Identifies whether the consumer opted in to publish their complaint narrative', (), None),\n",
       " SchemaField('submitted_via', 'STRING', 'NULLABLE', 'How the complaint was submitted to the CFPB', (), None),\n",
       " SchemaField('date_sent_to_company', 'DATE', 'NULLABLE', 'The date the CFPB sent the complaint to the company', (), None),\n",
       " SchemaField('company_response_to_consumer', 'STRING', 'NULLABLE', 'The response from the company about this complaint', (), None),\n",
       " SchemaField('timely_response', 'BOOLEAN', 'NULLABLE', 'Indicates whether the company gave a timely response or not', (), None),\n",
       " SchemaField('consumer_disputed', 'BOOLEAN', 'NULLABLE', \"Whether the consumer disputed the company's response\", (), None),\n",
       " SchemaField('complaint_id', 'STRING', 'NULLABLE', 'Unique ID for complaints registered with the CFPB', (), None)]"
      ]
     },
     "execution_count": 3,
     "metadata": {},
     "output_type": "execute_result"
    }
   ],
   "source": [
    "# References\n",
    "ds_ref = client.dataset('cfpb_complaints', project='bigquery-public-data')\n",
    "df_ref = ds_ref.table('complaint_database')\n",
    "# API - request Fetch the table\n",
    "df = client.get_table(df_ref)\n",
    "df.schema"
   ]
  },
  {
   "cell_type": "code",
   "execution_count": 4,
   "id": "latin-vegetation",
   "metadata": {
    "ExecuteTime": {
     "end_time": "2021-03-22T16:39:21.169681Z",
     "start_time": "2021-03-22T16:39:19.929425Z"
    }
   },
   "outputs": [
    {
     "name": "stderr",
     "output_type": "stream",
     "text": [
      "/home/caiomts/anaconda3/envs/financial-complaints/lib/python3.8/site-packages/google/cloud/bigquery/table.py:1763: UserWarning: Cannot use bqstorage_client if max_results is set, reverting to fetching data with the REST endpoint.\n",
      "  if not self._validate_bqstorage(bqstorage_client, create_bqstorage_client):\n"
     ]
    },
    {
     "data": {
      "text/html": [
       "<div>\n",
       "<style scoped>\n",
       "    .dataframe tbody tr th:only-of-type {\n",
       "        vertical-align: middle;\n",
       "    }\n",
       "\n",
       "    .dataframe tbody tr th {\n",
       "        vertical-align: top;\n",
       "    }\n",
       "\n",
       "    .dataframe thead th {\n",
       "        text-align: right;\n",
       "    }\n",
       "</style>\n",
       "<table border=\"1\" class=\"dataframe\">\n",
       "  <thead>\n",
       "    <tr style=\"text-align: right;\">\n",
       "      <th></th>\n",
       "      <th>date_received</th>\n",
       "      <th>product</th>\n",
       "      <th>subproduct</th>\n",
       "      <th>issue</th>\n",
       "      <th>subissue</th>\n",
       "      <th>consumer_complaint_narrative</th>\n",
       "      <th>company_public_response</th>\n",
       "      <th>company_name</th>\n",
       "      <th>state</th>\n",
       "      <th>zip_code</th>\n",
       "      <th>tags</th>\n",
       "      <th>consumer_consent_provided</th>\n",
       "      <th>submitted_via</th>\n",
       "      <th>date_sent_to_company</th>\n",
       "      <th>company_response_to_consumer</th>\n",
       "      <th>timely_response</th>\n",
       "      <th>consumer_disputed</th>\n",
       "      <th>complaint_id</th>\n",
       "    </tr>\n",
       "  </thead>\n",
       "  <tbody>\n",
       "    <tr>\n",
       "      <th>0</th>\n",
       "      <td>2021-03-10</td>\n",
       "      <td>Credit card or prepaid card</td>\n",
       "      <td>Government benefit card</td>\n",
       "      <td>Advertising</td>\n",
       "      <td>Confusing or misleading advertising about the ...</td>\n",
       "      <td>None</td>\n",
       "      <td>None</td>\n",
       "      <td>TRANSUNION INTERMEDIATE HOLDINGS, INC.</td>\n",
       "      <td>VA</td>\n",
       "      <td>236XX</td>\n",
       "      <td>None</td>\n",
       "      <td>None</td>\n",
       "      <td>Web</td>\n",
       "      <td>2021-03-10</td>\n",
       "      <td>In progress</td>\n",
       "      <td>True</td>\n",
       "      <td>None</td>\n",
       "      <td>4202423</td>\n",
       "    </tr>\n",
       "    <tr>\n",
       "      <th>1</th>\n",
       "      <td>2021-01-28</td>\n",
       "      <td>Credit card or prepaid card</td>\n",
       "      <td>General-purpose prepaid card</td>\n",
       "      <td>Advertising</td>\n",
       "      <td>Confusing or misleading advertising about the ...</td>\n",
       "      <td>None</td>\n",
       "      <td>None</td>\n",
       "      <td>Populus Financial Group, Inc.</td>\n",
       "      <td>MI</td>\n",
       "      <td>None</td>\n",
       "      <td>None</td>\n",
       "      <td>None</td>\n",
       "      <td>Web</td>\n",
       "      <td>2021-01-28</td>\n",
       "      <td>Closed with explanation</td>\n",
       "      <td>True</td>\n",
       "      <td>None</td>\n",
       "      <td>4099910</td>\n",
       "    </tr>\n",
       "    <tr>\n",
       "      <th>2</th>\n",
       "      <td>2021-01-31</td>\n",
       "      <td>Credit card or prepaid card</td>\n",
       "      <td>General-purpose prepaid card</td>\n",
       "      <td>Advertising</td>\n",
       "      <td>Changes in terms from what was offered or adve...</td>\n",
       "      <td>None</td>\n",
       "      <td>None</td>\n",
       "      <td>AMERICAN EXPRESS COMPANY</td>\n",
       "      <td>NY</td>\n",
       "      <td>11803</td>\n",
       "      <td>None</td>\n",
       "      <td>None</td>\n",
       "      <td>Web</td>\n",
       "      <td>2021-01-31</td>\n",
       "      <td>Closed with monetary relief</td>\n",
       "      <td>True</td>\n",
       "      <td>None</td>\n",
       "      <td>4106307</td>\n",
       "    </tr>\n",
       "    <tr>\n",
       "      <th>3</th>\n",
       "      <td>2021-02-21</td>\n",
       "      <td>Credit card or prepaid card</td>\n",
       "      <td>General-purpose prepaid card</td>\n",
       "      <td>Advertising</td>\n",
       "      <td>Confusing or misleading advertising about the ...</td>\n",
       "      <td>None</td>\n",
       "      <td>None</td>\n",
       "      <td>CARD Corporation</td>\n",
       "      <td>CA</td>\n",
       "      <td>932XX</td>\n",
       "      <td>None</td>\n",
       "      <td>None</td>\n",
       "      <td>Web</td>\n",
       "      <td>2021-02-21</td>\n",
       "      <td>Closed with explanation</td>\n",
       "      <td>True</td>\n",
       "      <td>None</td>\n",
       "      <td>4155271</td>\n",
       "    </tr>\n",
       "    <tr>\n",
       "      <th>4</th>\n",
       "      <td>2021-01-26</td>\n",
       "      <td>Money transfer, virtual currency, or money ser...</td>\n",
       "      <td>Virtual currency</td>\n",
       "      <td>Fraud or scam</td>\n",
       "      <td>None</td>\n",
       "      <td>None</td>\n",
       "      <td>None</td>\n",
       "      <td>Coinbase, Inc.</td>\n",
       "      <td>None</td>\n",
       "      <td>None</td>\n",
       "      <td>None</td>\n",
       "      <td>None</td>\n",
       "      <td>Web</td>\n",
       "      <td>2021-01-26</td>\n",
       "      <td>Closed with explanation</td>\n",
       "      <td>True</td>\n",
       "      <td>None</td>\n",
       "      <td>4096429</td>\n",
       "    </tr>\n",
       "  </tbody>\n",
       "</table>\n",
       "</div>"
      ],
      "text/plain": [
       "  date_received                                            product  \\\n",
       "0    2021-03-10                        Credit card or prepaid card   \n",
       "1    2021-01-28                        Credit card or prepaid card   \n",
       "2    2021-01-31                        Credit card or prepaid card   \n",
       "3    2021-02-21                        Credit card or prepaid card   \n",
       "4    2021-01-26  Money transfer, virtual currency, or money ser...   \n",
       "\n",
       "                     subproduct          issue  \\\n",
       "0       Government benefit card    Advertising   \n",
       "1  General-purpose prepaid card    Advertising   \n",
       "2  General-purpose prepaid card    Advertising   \n",
       "3  General-purpose prepaid card    Advertising   \n",
       "4              Virtual currency  Fraud or scam   \n",
       "\n",
       "                                            subissue  \\\n",
       "0  Confusing or misleading advertising about the ...   \n",
       "1  Confusing or misleading advertising about the ...   \n",
       "2  Changes in terms from what was offered or adve...   \n",
       "3  Confusing or misleading advertising about the ...   \n",
       "4                                               None   \n",
       "\n",
       "  consumer_complaint_narrative company_public_response  \\\n",
       "0                         None                    None   \n",
       "1                         None                    None   \n",
       "2                         None                    None   \n",
       "3                         None                    None   \n",
       "4                         None                    None   \n",
       "\n",
       "                             company_name state zip_code  tags  \\\n",
       "0  TRANSUNION INTERMEDIATE HOLDINGS, INC.    VA    236XX  None   \n",
       "1           Populus Financial Group, Inc.    MI     None  None   \n",
       "2                AMERICAN EXPRESS COMPANY    NY    11803  None   \n",
       "3                        CARD Corporation    CA    932XX  None   \n",
       "4                          Coinbase, Inc.  None     None  None   \n",
       "\n",
       "  consumer_consent_provided submitted_via date_sent_to_company  \\\n",
       "0                      None           Web           2021-03-10   \n",
       "1                      None           Web           2021-01-28   \n",
       "2                      None           Web           2021-01-31   \n",
       "3                      None           Web           2021-02-21   \n",
       "4                      None           Web           2021-01-26   \n",
       "\n",
       "  company_response_to_consumer  timely_response consumer_disputed complaint_id  \n",
       "0                  In progress             True              None      4202423  \n",
       "1      Closed with explanation             True              None      4099910  \n",
       "2  Closed with monetary relief             True              None      4106307  \n",
       "3      Closed with explanation             True              None      4155271  \n",
       "4      Closed with explanation             True              None      4096429  "
      ]
     },
     "execution_count": 4,
     "metadata": {},
     "output_type": "execute_result"
    }
   ],
   "source": [
    "client.list_rows(df, max_results=5).to_dataframe()"
   ]
  },
  {
   "cell_type": "code",
   "execution_count": 35,
   "id": "stopped-practitioner",
   "metadata": {
    "ExecuteTime": {
     "end_time": "2021-03-23T10:07:12.520086Z",
     "start_time": "2021-03-23T10:07:12.516982Z"
    },
    "scrolled": true
   },
   "outputs": [],
   "source": [
    "query = \"\"\"\n",
    "        SELECT date_received, product, subproduct, issue, company_name, \n",
    "        state, date_sent_to_company, company_response_to_consumer, timely_response, \n",
    "        complaint_id\n",
    "        FROM `bigquery-public-data.cfpb_complaints.complaint_database`\n",
    "        WHERE EXTRACT(YEAR FROM date_received) >= 2018 OR company_response_to_consumer = 'In progress'\n",
    "        ORDER BY date_received DESC\n",
    "        \"\"\""
   ]
  },
  {
   "cell_type": "code",
   "execution_count": 36,
   "id": "architectural-cathedral",
   "metadata": {
    "ExecuteTime": {
     "end_time": "2021-03-23T10:07:14.599694Z",
     "start_time": "2021-03-23T10:07:14.596152Z"
    }
   },
   "outputs": [],
   "source": [
    "# setting limits\n",
    "safe_config = bigquery.QueryJobConfig(maximum_bytes_billed=10**10)"
   ]
  },
  {
   "cell_type": "code",
   "execution_count": 37,
   "id": "careful-ownership",
   "metadata": {
    "ExecuteTime": {
     "end_time": "2021-03-23T10:07:41.334085Z",
     "start_time": "2021-03-23T10:07:16.693336Z"
    },
    "scrolled": true
   },
   "outputs": [
    {
     "data": {
      "text/html": [
       "<div>\n",
       "<style scoped>\n",
       "    .dataframe tbody tr th:only-of-type {\n",
       "        vertical-align: middle;\n",
       "    }\n",
       "\n",
       "    .dataframe tbody tr th {\n",
       "        vertical-align: top;\n",
       "    }\n",
       "\n",
       "    .dataframe thead th {\n",
       "        text-align: right;\n",
       "    }\n",
       "</style>\n",
       "<table border=\"1\" class=\"dataframe\">\n",
       "  <thead>\n",
       "    <tr style=\"text-align: right;\">\n",
       "      <th></th>\n",
       "      <th>date_received</th>\n",
       "      <th>product</th>\n",
       "      <th>subproduct</th>\n",
       "      <th>issue</th>\n",
       "      <th>company_name</th>\n",
       "      <th>state</th>\n",
       "      <th>date_sent_to_company</th>\n",
       "      <th>company_response_to_consumer</th>\n",
       "      <th>timely_response</th>\n",
       "      <th>complaint_id</th>\n",
       "    </tr>\n",
       "  </thead>\n",
       "  <tbody>\n",
       "    <tr>\n",
       "      <th>0</th>\n",
       "      <td>2021-03-20</td>\n",
       "      <td>Credit reporting, credit repair services, or o...</td>\n",
       "      <td>Credit reporting</td>\n",
       "      <td>Improper use of your report</td>\n",
       "      <td>TRANSUNION INTERMEDIATE HOLDINGS, INC.</td>\n",
       "      <td>PA</td>\n",
       "      <td>2021-03-20</td>\n",
       "      <td>In progress</td>\n",
       "      <td>True</td>\n",
       "      <td>4231432</td>\n",
       "    </tr>\n",
       "    <tr>\n",
       "      <th>1</th>\n",
       "      <td>2021-03-20</td>\n",
       "      <td>Credit reporting, credit repair services, or o...</td>\n",
       "      <td>Credit reporting</td>\n",
       "      <td>Improper use of your report</td>\n",
       "      <td>TRANSUNION INTERMEDIATE HOLDINGS, INC.</td>\n",
       "      <td>IL</td>\n",
       "      <td>2021-03-20</td>\n",
       "      <td>In progress</td>\n",
       "      <td>True</td>\n",
       "      <td>4232518</td>\n",
       "    </tr>\n",
       "    <tr>\n",
       "      <th>2</th>\n",
       "      <td>2021-03-20</td>\n",
       "      <td>Credit reporting, credit repair services, or o...</td>\n",
       "      <td>Credit reporting</td>\n",
       "      <td>Improper use of your report</td>\n",
       "      <td>TRANSUNION INTERMEDIATE HOLDINGS, INC.</td>\n",
       "      <td>WI</td>\n",
       "      <td>2021-03-20</td>\n",
       "      <td>In progress</td>\n",
       "      <td>True</td>\n",
       "      <td>4231457</td>\n",
       "    </tr>\n",
       "    <tr>\n",
       "      <th>3</th>\n",
       "      <td>2021-03-20</td>\n",
       "      <td>Debt collection</td>\n",
       "      <td>Auto debt</td>\n",
       "      <td>False statements or representation</td>\n",
       "      <td>TRANSUNION INTERMEDIATE HOLDINGS, INC.</td>\n",
       "      <td>UT</td>\n",
       "      <td>2021-03-20</td>\n",
       "      <td>In progress</td>\n",
       "      <td>True</td>\n",
       "      <td>4232490</td>\n",
       "    </tr>\n",
       "    <tr>\n",
       "      <th>4</th>\n",
       "      <td>2021-03-20</td>\n",
       "      <td>Credit reporting, credit repair services, or o...</td>\n",
       "      <td>Credit reporting</td>\n",
       "      <td>Incorrect information on your report</td>\n",
       "      <td>TRANSUNION INTERMEDIATE HOLDINGS, INC.</td>\n",
       "      <td>PA</td>\n",
       "      <td>2021-03-20</td>\n",
       "      <td>In progress</td>\n",
       "      <td>True</td>\n",
       "      <td>4231241</td>\n",
       "    </tr>\n",
       "  </tbody>\n",
       "</table>\n",
       "</div>"
      ],
      "text/plain": [
       "  date_received                                            product  \\\n",
       "0    2021-03-20  Credit reporting, credit repair services, or o...   \n",
       "1    2021-03-20  Credit reporting, credit repair services, or o...   \n",
       "2    2021-03-20  Credit reporting, credit repair services, or o...   \n",
       "3    2021-03-20                                    Debt collection   \n",
       "4    2021-03-20  Credit reporting, credit repair services, or o...   \n",
       "\n",
       "         subproduct                                 issue  \\\n",
       "0  Credit reporting           Improper use of your report   \n",
       "1  Credit reporting           Improper use of your report   \n",
       "2  Credit reporting           Improper use of your report   \n",
       "3         Auto debt    False statements or representation   \n",
       "4  Credit reporting  Incorrect information on your report   \n",
       "\n",
       "                             company_name state date_sent_to_company  \\\n",
       "0  TRANSUNION INTERMEDIATE HOLDINGS, INC.    PA           2021-03-20   \n",
       "1  TRANSUNION INTERMEDIATE HOLDINGS, INC.    IL           2021-03-20   \n",
       "2  TRANSUNION INTERMEDIATE HOLDINGS, INC.    WI           2021-03-20   \n",
       "3  TRANSUNION INTERMEDIATE HOLDINGS, INC.    UT           2021-03-20   \n",
       "4  TRANSUNION INTERMEDIATE HOLDINGS, INC.    PA           2021-03-20   \n",
       "\n",
       "  company_response_to_consumer  timely_response complaint_id  \n",
       "0                  In progress             True      4231432  \n",
       "1                  In progress             True      4232518  \n",
       "2                  In progress             True      4231457  \n",
       "3                  In progress             True      4232490  \n",
       "4                  In progress             True      4231241  "
      ]
     },
     "execution_count": 37,
     "metadata": {},
     "output_type": "execute_result"
    }
   ],
   "source": [
    "query_job = client.query(query, job_config=safe_config)\n",
    "# API request\n",
    "raw_df = query_job.to_dataframe()\n",
    "raw_df.head()"
   ]
  },
  {
   "cell_type": "code",
   "execution_count": 38,
   "id": "reserved-spine",
   "metadata": {
    "ExecuteTime": {
     "end_time": "2021-03-23T10:07:54.899708Z",
     "start_time": "2021-03-23T10:07:54.896347Z"
    }
   },
   "outputs": [],
   "source": [
    "# Copy\n",
    "backup_raw_df = raw_df"
   ]
  },
  {
   "cell_type": "markdown",
   "id": "inappropriate-camera",
   "metadata": {},
   "source": [
    "# Data Preparation"
   ]
  },
  {
   "cell_type": "code",
   "execution_count": 29,
   "id": "worth-commons",
   "metadata": {
    "ExecuteTime": {
     "end_time": "2021-03-23T09:18:08.336458Z",
     "start_time": "2021-03-23T09:18:05.736936Z"
    }
   },
   "outputs": [
    {
     "name": "stderr",
     "output_type": "stream",
     "text": [
      "<ipython-input-29-25f136b5770c>:1: FutureWarning: Treating datetime data as categorical rather than numeric in `.describe` is deprecated and will be removed in a future version of pandas. Specify `datetime_is_numeric=True` to silence this warning and adopt the future behavior now.\n",
      "  raw_df.describe()\n",
      "<ipython-input-29-25f136b5770c>:1: FutureWarning: Treating datetime data as categorical rather than numeric in `.describe` is deprecated and will be removed in a future version of pandas. Specify `datetime_is_numeric=True` to silence this warning and adopt the future behavior now.\n",
      "  raw_df.describe()\n"
     ]
    },
    {
     "data": {
      "text/html": [
       "<div>\n",
       "<style scoped>\n",
       "    .dataframe tbody tr th:only-of-type {\n",
       "        vertical-align: middle;\n",
       "    }\n",
       "\n",
       "    .dataframe tbody tr th {\n",
       "        vertical-align: top;\n",
       "    }\n",
       "\n",
       "    .dataframe thead th {\n",
       "        text-align: right;\n",
       "    }\n",
       "</style>\n",
       "<table border=\"1\" class=\"dataframe\">\n",
       "  <thead>\n",
       "    <tr style=\"text-align: right;\">\n",
       "      <th></th>\n",
       "      <th>date_received</th>\n",
       "      <th>product</th>\n",
       "      <th>subproduct</th>\n",
       "      <th>issue</th>\n",
       "      <th>company_name</th>\n",
       "      <th>state</th>\n",
       "      <th>date_sent_to_company</th>\n",
       "      <th>company_response_to_consumer</th>\n",
       "      <th>timely_response</th>\n",
       "      <th>complaint_id</th>\n",
       "    </tr>\n",
       "  </thead>\n",
       "  <tbody>\n",
       "    <tr>\n",
       "      <th>count</th>\n",
       "      <td>1999428</td>\n",
       "      <td>1999428</td>\n",
       "      <td>1764263</td>\n",
       "      <td>1999428</td>\n",
       "      <td>1999428</td>\n",
       "      <td>1962520</td>\n",
       "      <td>1999428</td>\n",
       "      <td>1999428</td>\n",
       "      <td>1999428</td>\n",
       "      <td>1999428</td>\n",
       "    </tr>\n",
       "    <tr>\n",
       "      <th>unique</th>\n",
       "      <td>3397</td>\n",
       "      <td>18</td>\n",
       "      <td>76</td>\n",
       "      <td>165</td>\n",
       "      <td>5929</td>\n",
       "      <td>63</td>\n",
       "      <td>3346</td>\n",
       "      <td>7</td>\n",
       "      <td>2</td>\n",
       "      <td>1999428</td>\n",
       "    </tr>\n",
       "    <tr>\n",
       "      <th>top</th>\n",
       "      <td>2017-09-08 00:00:00</td>\n",
       "      <td>Credit reporting, credit repair services, or o...</td>\n",
       "      <td>Credit reporting</td>\n",
       "      <td>Incorrect information on your report</td>\n",
       "      <td>EQUIFAX, INC.</td>\n",
       "      <td>CA</td>\n",
       "      <td>2017-09-08 00:00:00</td>\n",
       "      <td>Closed with explanation</td>\n",
       "      <td>True</td>\n",
       "      <td>3011770</td>\n",
       "    </tr>\n",
       "    <tr>\n",
       "      <th>freq</th>\n",
       "      <td>3553</td>\n",
       "      <td>658719</td>\n",
       "      <td>650334</td>\n",
       "      <td>428250</td>\n",
       "      <td>243174</td>\n",
       "      <td>261927</td>\n",
       "      <td>3387</td>\n",
       "      <td>1630782</td>\n",
       "      <td>1959158</td>\n",
       "      <td>1</td>\n",
       "    </tr>\n",
       "    <tr>\n",
       "      <th>first</th>\n",
       "      <td>2011-12-01 00:00:00</td>\n",
       "      <td>NaN</td>\n",
       "      <td>NaN</td>\n",
       "      <td>NaN</td>\n",
       "      <td>NaN</td>\n",
       "      <td>NaN</td>\n",
       "      <td>2011-12-01 00:00:00</td>\n",
       "      <td>NaN</td>\n",
       "      <td>NaN</td>\n",
       "      <td>NaN</td>\n",
       "    </tr>\n",
       "    <tr>\n",
       "      <th>last</th>\n",
       "      <td>2021-03-20 00:00:00</td>\n",
       "      <td>NaN</td>\n",
       "      <td>NaN</td>\n",
       "      <td>NaN</td>\n",
       "      <td>NaN</td>\n",
       "      <td>NaN</td>\n",
       "      <td>2021-03-20 00:00:00</td>\n",
       "      <td>NaN</td>\n",
       "      <td>NaN</td>\n",
       "      <td>NaN</td>\n",
       "    </tr>\n",
       "  </tbody>\n",
       "</table>\n",
       "</div>"
      ],
      "text/plain": [
       "              date_received  \\\n",
       "count               1999428   \n",
       "unique                 3397   \n",
       "top     2017-09-08 00:00:00   \n",
       "freq                   3553   \n",
       "first   2011-12-01 00:00:00   \n",
       "last    2021-03-20 00:00:00   \n",
       "\n",
       "                                                  product        subproduct  \\\n",
       "count                                             1999428           1764263   \n",
       "unique                                                 18                76   \n",
       "top     Credit reporting, credit repair services, or o...  Credit reporting   \n",
       "freq                                               658719            650334   \n",
       "first                                                 NaN               NaN   \n",
       "last                                                  NaN               NaN   \n",
       "\n",
       "                                       issue   company_name    state  \\\n",
       "count                                1999428        1999428  1962520   \n",
       "unique                                   165           5929       63   \n",
       "top     Incorrect information on your report  EQUIFAX, INC.       CA   \n",
       "freq                                  428250         243174   261927   \n",
       "first                                    NaN            NaN      NaN   \n",
       "last                                     NaN            NaN      NaN   \n",
       "\n",
       "       date_sent_to_company company_response_to_consumer timely_response  \\\n",
       "count               1999428                      1999428         1999428   \n",
       "unique                 3346                            7               2   \n",
       "top     2017-09-08 00:00:00      Closed with explanation            True   \n",
       "freq                   3387                      1630782         1959158   \n",
       "first   2011-12-01 00:00:00                          NaN             NaN   \n",
       "last    2021-03-20 00:00:00                          NaN             NaN   \n",
       "\n",
       "       complaint_id  \n",
       "count       1999428  \n",
       "unique      1999428  \n",
       "top         3011770  \n",
       "freq              1  \n",
       "first           NaN  \n",
       "last            NaN  "
      ]
     },
     "execution_count": 29,
     "metadata": {},
     "output_type": "execute_result"
    }
   ],
   "source": [
    "raw_df.describe()"
   ]
  },
  {
   "cell_type": "code",
   "execution_count": 30,
   "id": "mounted-office",
   "metadata": {
    "ExecuteTime": {
     "end_time": "2021-03-23T09:18:41.925556Z",
     "start_time": "2021-03-23T09:18:41.918501Z"
    }
   },
   "outputs": [
    {
     "data": {
      "text/plain": [
       "date_received                   datetime64[ns]\n",
       "product                                 object\n",
       "subproduct                              object\n",
       "issue                                   object\n",
       "company_name                            object\n",
       "state                                   object\n",
       "date_sent_to_company            datetime64[ns]\n",
       "company_response_to_consumer            object\n",
       "timely_response                           bool\n",
       "complaint_id                            object\n",
       "dtype: object"
      ]
     },
     "execution_count": 30,
     "metadata": {},
     "output_type": "execute_result"
    }
   ],
   "source": [
    "raw_df.dtypes"
   ]
  },
  {
   "cell_type": "code",
   "execution_count": 31,
   "id": "conservative-shareware",
   "metadata": {
    "ExecuteTime": {
     "end_time": "2021-03-23T09:18:45.124345Z",
     "start_time": "2021-03-23T09:18:45.048983Z"
    }
   },
   "outputs": [],
   "source": [
    "dates = ['date_received', 'date_sent_to_company']\n",
    "for date in dates:\n",
    "    raw_df[date] = pd.to_datetime(raw_df[date], format='%Y-%m-%d')"
   ]
  },
  {
   "cell_type": "markdown",
   "id": "alert-bonus",
   "metadata": {},
   "source": [
    "# Descriptive Statistics"
   ]
  },
  {
   "cell_type": "code",
   "execution_count": null,
   "id": "played-nudist",
   "metadata": {},
   "outputs": [],
   "source": [
    "# Frquencies\n",
    "# Proportions\n",
    "# Marginals - Cross tabulation\n",
    "# "
   ]
  },
  {
   "cell_type": "markdown",
   "id": "sitting-morgan",
   "metadata": {},
   "source": [
    "# Graphs and Insights"
   ]
  },
  {
   "cell_type": "code",
   "execution_count": null,
   "id": "impossible-running",
   "metadata": {
    "scrolled": true
   },
   "outputs": [],
   "source": []
  }
 ],
 "metadata": {
  "kernelspec": {
   "display_name": "Python [conda env:financial-complaints] *",
   "language": "python",
   "name": "conda-env-financial-complaints-py"
  },
  "language_info": {
   "codemirror_mode": {
    "name": "ipython",
    "version": 3
   },
   "file_extension": ".py",
   "mimetype": "text/x-python",
   "name": "python",
   "nbconvert_exporter": "python",
   "pygments_lexer": "ipython3",
   "version": "3.8.8"
  }
 },
 "nbformat": 4,
 "nbformat_minor": 5
}
