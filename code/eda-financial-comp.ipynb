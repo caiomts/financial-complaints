{
 "cells": [
  {
   "cell_type": "markdown",
   "id": "clear-saint",
   "metadata": {},
   "source": [
    "# Imports"
   ]
  },
  {
   "cell_type": "code",
   "execution_count": 183,
   "id": "southern-pointer",
   "metadata": {
    "ExecuteTime": {
     "end_time": "2021-03-30T18:51:01.015776Z",
     "start_time": "2021-03-30T18:51:01.012251Z"
    },
    "scrolled": true
   },
   "outputs": [],
   "source": [
    "import os\n",
    "import pandas as pd\n",
    "from google.cloud import bigquery\n",
    "import matplotlib.pyplot as plt\n",
    "import plotly.figure_factory as ff\n",
    "import seaborn as sns\n",
    "import numpy as np"
   ]
  },
  {
   "cell_type": "code",
   "execution_count": 2,
   "id": "communist-billion",
   "metadata": {
    "ExecuteTime": {
     "end_time": "2021-03-29T09:40:31.485581Z",
     "start_time": "2021-03-29T09:40:31.480271Z"
    },
    "scrolled": true
   },
   "outputs": [],
   "source": [
    "# set credentials\n",
    "os.environ['GOOGLE_APPLICATION_CREDENTIALS'] = \"../documents/key.json\"\n",
    "# creates a client\n",
    "client = bigquery.Client()"
   ]
  },
  {
   "cell_type": "markdown",
   "id": "enormous-weekly",
   "metadata": {},
   "source": [
    "# Loading Data"
   ]
  },
  {
   "cell_type": "code",
   "execution_count": 3,
   "id": "signal-program",
   "metadata": {
    "ExecuteTime": {
     "end_time": "2021-03-29T09:40:31.954434Z",
     "start_time": "2021-03-29T09:40:31.526481Z"
    },
    "scrolled": true
   },
   "outputs": [
    {
     "data": {
      "text/plain": [
       "[SchemaField('date_received', 'DATE', 'NULLABLE', 'Date the complaint was received by the CPFB', (), None),\n",
       " SchemaField('product', 'STRING', 'NULLABLE', 'The type of product the consumer identified in the complaint', (), None),\n",
       " SchemaField('subproduct', 'STRING', 'NULLABLE', 'The type of sub-product the consumer identified in the complaint', (), None),\n",
       " SchemaField('issue', 'STRING', 'NULLABLE', 'The issue the consumer identified in the complaint', (), None),\n",
       " SchemaField('subissue', 'STRING', 'NULLABLE', 'The sub-issue the consumer identified in the complaint', (), None),\n",
       " SchemaField('consumer_complaint_narrative', 'STRING', 'NULLABLE', 'A description of the complaint provided by the consumer', (), None),\n",
       " SchemaField('company_public_response', 'STRING', 'NULLABLE', \"The company's optional, public-facing response to a consumer's complaint\", (), None),\n",
       " SchemaField('company_name', 'STRING', 'NULLABLE', 'Name of the company identified in the complaint by the consumer', (), None),\n",
       " SchemaField('state', 'STRING', 'NULLABLE', 'Two letter postal abbreviation of the state of the mailing address provided by the consumer', (), None),\n",
       " SchemaField('zip_code', 'STRING', 'NULLABLE', 'The mailing ZIP code provided by the consumer', (), None),\n",
       " SchemaField('tags', 'STRING', 'NULLABLE', 'Data that supports easier searching and sorting of complaints', (), None),\n",
       " SchemaField('consumer_consent_provided', 'STRING', 'NULLABLE', 'Identifies whether the consumer opted in to publish their complaint narrative', (), None),\n",
       " SchemaField('submitted_via', 'STRING', 'NULLABLE', 'How the complaint was submitted to the CFPB', (), None),\n",
       " SchemaField('date_sent_to_company', 'DATE', 'NULLABLE', 'The date the CFPB sent the complaint to the company', (), None),\n",
       " SchemaField('company_response_to_consumer', 'STRING', 'NULLABLE', 'The response from the company about this complaint', (), None),\n",
       " SchemaField('timely_response', 'BOOLEAN', 'NULLABLE', 'Indicates whether the company gave a timely response or not', (), None),\n",
       " SchemaField('consumer_disputed', 'BOOLEAN', 'NULLABLE', \"Whether the consumer disputed the company's response\", (), None),\n",
       " SchemaField('complaint_id', 'STRING', 'NULLABLE', 'Unique ID for complaints registered with the CFPB', (), None)]"
      ]
     },
     "execution_count": 3,
     "metadata": {},
     "output_type": "execute_result"
    }
   ],
   "source": [
    "# References\n",
    "ds_ref = client.dataset('cfpb_complaints', project='bigquery-public-data')\n",
    "df_ref = ds_ref.table('complaint_database')\n",
    "# API - request Fetch the table\n",
    "df = client.get_table(df_ref)\n",
    "df.schema"
   ]
  },
  {
   "cell_type": "code",
   "execution_count": 4,
   "id": "latin-vegetation",
   "metadata": {
    "ExecuteTime": {
     "end_time": "2021-03-29T09:40:32.442447Z",
     "start_time": "2021-03-29T09:40:31.957889Z"
    }
   },
   "outputs": [
    {
     "name": "stderr",
     "output_type": "stream",
     "text": [
      "/home/caiomts/anaconda3/envs/financial-complaints/lib/python3.8/site-packages/google/cloud/bigquery/table.py:1763: UserWarning: Cannot use bqstorage_client if max_results is set, reverting to fetching data with the REST endpoint.\n",
      "  if not self._validate_bqstorage(bqstorage_client, create_bqstorage_client):\n"
     ]
    },
    {
     "data": {
      "text/html": [
       "<div>\n",
       "<style scoped>\n",
       "    .dataframe tbody tr th:only-of-type {\n",
       "        vertical-align: middle;\n",
       "    }\n",
       "\n",
       "    .dataframe tbody tr th {\n",
       "        vertical-align: top;\n",
       "    }\n",
       "\n",
       "    .dataframe thead th {\n",
       "        text-align: right;\n",
       "    }\n",
       "</style>\n",
       "<table border=\"1\" class=\"dataframe\">\n",
       "  <thead>\n",
       "    <tr style=\"text-align: right;\">\n",
       "      <th></th>\n",
       "      <th>date_received</th>\n",
       "      <th>product</th>\n",
       "      <th>subproduct</th>\n",
       "      <th>issue</th>\n",
       "      <th>subissue</th>\n",
       "      <th>consumer_complaint_narrative</th>\n",
       "      <th>company_public_response</th>\n",
       "      <th>company_name</th>\n",
       "      <th>state</th>\n",
       "      <th>zip_code</th>\n",
       "      <th>tags</th>\n",
       "      <th>consumer_consent_provided</th>\n",
       "      <th>submitted_via</th>\n",
       "      <th>date_sent_to_company</th>\n",
       "      <th>company_response_to_consumer</th>\n",
       "      <th>timely_response</th>\n",
       "      <th>consumer_disputed</th>\n",
       "      <th>complaint_id</th>\n",
       "    </tr>\n",
       "  </thead>\n",
       "  <tbody>\n",
       "    <tr>\n",
       "      <th>0</th>\n",
       "      <td>2020-06-29</td>\n",
       "      <td>Money transfer, virtual currency, or money ser...</td>\n",
       "      <td>International money transfer</td>\n",
       "      <td>Fraud or scam</td>\n",
       "      <td>None</td>\n",
       "      <td>None</td>\n",
       "      <td>Company has responded to the consumer and the ...</td>\n",
       "      <td>SANTANDER BANK, NATIONAL ASSOCIATION</td>\n",
       "      <td>NJ</td>\n",
       "      <td>07011</td>\n",
       "      <td>None</td>\n",
       "      <td>Consent withdrawn</td>\n",
       "      <td>Web</td>\n",
       "      <td>2020-06-29</td>\n",
       "      <td>Closed with explanation</td>\n",
       "      <td>True</td>\n",
       "      <td>None</td>\n",
       "      <td>3721484</td>\n",
       "    </tr>\n",
       "    <tr>\n",
       "      <th>1</th>\n",
       "      <td>2019-07-19</td>\n",
       "      <td>Money transfer, virtual currency, or money ser...</td>\n",
       "      <td>Debt settlement</td>\n",
       "      <td>Fraud or scam</td>\n",
       "      <td>None</td>\n",
       "      <td>None</td>\n",
       "      <td>None</td>\n",
       "      <td>FREEDOM FINANCIAL NETWORK</td>\n",
       "      <td>CA</td>\n",
       "      <td>94561</td>\n",
       "      <td>Servicemember</td>\n",
       "      <td>Consent withdrawn</td>\n",
       "      <td>Web</td>\n",
       "      <td>2019-07-22</td>\n",
       "      <td>Closed with explanation</td>\n",
       "      <td>True</td>\n",
       "      <td>None</td>\n",
       "      <td>3311693</td>\n",
       "    </tr>\n",
       "    <tr>\n",
       "      <th>2</th>\n",
       "      <td>2019-10-16</td>\n",
       "      <td>Money transfer, virtual currency, or money ser...</td>\n",
       "      <td>Mobile or digital wallet</td>\n",
       "      <td>Fraud or scam</td>\n",
       "      <td>None</td>\n",
       "      <td>None</td>\n",
       "      <td>None</td>\n",
       "      <td>Paypal Holdings, Inc</td>\n",
       "      <td>WA</td>\n",
       "      <td>98107</td>\n",
       "      <td>None</td>\n",
       "      <td>Consent withdrawn</td>\n",
       "      <td>Web</td>\n",
       "      <td>2019-10-16</td>\n",
       "      <td>Closed with explanation</td>\n",
       "      <td>True</td>\n",
       "      <td>None</td>\n",
       "      <td>3407290</td>\n",
       "    </tr>\n",
       "    <tr>\n",
       "      <th>3</th>\n",
       "      <td>2018-04-10</td>\n",
       "      <td>Money transfer, virtual currency, or money ser...</td>\n",
       "      <td>Domestic (US) money transfer</td>\n",
       "      <td>Fraud or scam</td>\n",
       "      <td>None</td>\n",
       "      <td>None</td>\n",
       "      <td>None</td>\n",
       "      <td>Home Loan Center, Inc.</td>\n",
       "      <td>MD</td>\n",
       "      <td>20735</td>\n",
       "      <td>None</td>\n",
       "      <td>Consent withdrawn</td>\n",
       "      <td>Web</td>\n",
       "      <td>2018-04-16</td>\n",
       "      <td>Closed with explanation</td>\n",
       "      <td>True</td>\n",
       "      <td>None</td>\n",
       "      <td>2870698</td>\n",
       "    </tr>\n",
       "    <tr>\n",
       "      <th>4</th>\n",
       "      <td>2020-01-15</td>\n",
       "      <td>Money transfer, virtual currency, or money ser...</td>\n",
       "      <td>Domestic (US) money transfer</td>\n",
       "      <td>Fraud or scam</td>\n",
       "      <td>None</td>\n",
       "      <td>None</td>\n",
       "      <td>Company has responded to the consumer and the ...</td>\n",
       "      <td>WELLS FARGO &amp; COMPANY</td>\n",
       "      <td>FL</td>\n",
       "      <td>33326</td>\n",
       "      <td>None</td>\n",
       "      <td>Consent withdrawn</td>\n",
       "      <td>Web</td>\n",
       "      <td>2020-01-15</td>\n",
       "      <td>Closed with explanation</td>\n",
       "      <td>True</td>\n",
       "      <td>None</td>\n",
       "      <td>3496215</td>\n",
       "    </tr>\n",
       "  </tbody>\n",
       "</table>\n",
       "</div>"
      ],
      "text/plain": [
       "  date_received                                            product  \\\n",
       "0    2020-06-29  Money transfer, virtual currency, or money ser...   \n",
       "1    2019-07-19  Money transfer, virtual currency, or money ser...   \n",
       "2    2019-10-16  Money transfer, virtual currency, or money ser...   \n",
       "3    2018-04-10  Money transfer, virtual currency, or money ser...   \n",
       "4    2020-01-15  Money transfer, virtual currency, or money ser...   \n",
       "\n",
       "                     subproduct          issue subissue  \\\n",
       "0  International money transfer  Fraud or scam     None   \n",
       "1               Debt settlement  Fraud or scam     None   \n",
       "2      Mobile or digital wallet  Fraud or scam     None   \n",
       "3  Domestic (US) money transfer  Fraud or scam     None   \n",
       "4  Domestic (US) money transfer  Fraud or scam     None   \n",
       "\n",
       "  consumer_complaint_narrative  \\\n",
       "0                         None   \n",
       "1                         None   \n",
       "2                         None   \n",
       "3                         None   \n",
       "4                         None   \n",
       "\n",
       "                             company_public_response  \\\n",
       "0  Company has responded to the consumer and the ...   \n",
       "1                                               None   \n",
       "2                                               None   \n",
       "3                                               None   \n",
       "4  Company has responded to the consumer and the ...   \n",
       "\n",
       "                           company_name state zip_code           tags  \\\n",
       "0  SANTANDER BANK, NATIONAL ASSOCIATION    NJ    07011           None   \n",
       "1             FREEDOM FINANCIAL NETWORK    CA    94561  Servicemember   \n",
       "2                  Paypal Holdings, Inc    WA    98107           None   \n",
       "3                Home Loan Center, Inc.    MD    20735           None   \n",
       "4                 WELLS FARGO & COMPANY    FL    33326           None   \n",
       "\n",
       "  consumer_consent_provided submitted_via date_sent_to_company  \\\n",
       "0         Consent withdrawn           Web           2020-06-29   \n",
       "1         Consent withdrawn           Web           2019-07-22   \n",
       "2         Consent withdrawn           Web           2019-10-16   \n",
       "3         Consent withdrawn           Web           2018-04-16   \n",
       "4         Consent withdrawn           Web           2020-01-15   \n",
       "\n",
       "  company_response_to_consumer  timely_response consumer_disputed complaint_id  \n",
       "0      Closed with explanation             True              None      3721484  \n",
       "1      Closed with explanation             True              None      3311693  \n",
       "2      Closed with explanation             True              None      3407290  \n",
       "3      Closed with explanation             True              None      2870698  \n",
       "4      Closed with explanation             True              None      3496215  "
      ]
     },
     "execution_count": 4,
     "metadata": {},
     "output_type": "execute_result"
    }
   ],
   "source": [
    "client.list_rows(df, max_results=5).to_dataframe()"
   ]
  },
  {
   "cell_type": "code",
   "execution_count": 5,
   "id": "stopped-practitioner",
   "metadata": {
    "ExecuteTime": {
     "end_time": "2021-03-29T09:40:32.447566Z",
     "start_time": "2021-03-29T09:40:32.444406Z"
    },
    "scrolled": true
   },
   "outputs": [],
   "source": [
    "query = \"\"\"\n",
    "        SELECT date_received, product, subproduct, issue, company_name, \n",
    "        state, date_sent_to_company, company_response_to_consumer, timely_response, \n",
    "        complaint_id\n",
    "        FROM `bigquery-public-data.cfpb_complaints.complaint_database`\n",
    "        WHERE EXTRACT(YEAR FROM date_received) >= 2018 OR company_response_to_consumer = 'In progress'\n",
    "        ORDER BY date_received DESC\n",
    "        \"\"\""
   ]
  },
  {
   "cell_type": "code",
   "execution_count": 6,
   "id": "architectural-cathedral",
   "metadata": {
    "ExecuteTime": {
     "end_time": "2021-03-29T09:40:32.452168Z",
     "start_time": "2021-03-29T09:40:32.449241Z"
    }
   },
   "outputs": [],
   "source": [
    "# setting limits\n",
    "safe_config = bigquery.QueryJobConfig(maximum_bytes_billed=10**10)"
   ]
  },
  {
   "cell_type": "code",
   "execution_count": 7,
   "id": "careful-ownership",
   "metadata": {
    "ExecuteTime": {
     "end_time": "2021-03-29T09:40:55.891517Z",
     "start_time": "2021-03-29T09:40:32.454111Z"
    },
    "scrolled": true
   },
   "outputs": [
    {
     "data": {
      "text/html": [
       "<div>\n",
       "<style scoped>\n",
       "    .dataframe tbody tr th:only-of-type {\n",
       "        vertical-align: middle;\n",
       "    }\n",
       "\n",
       "    .dataframe tbody tr th {\n",
       "        vertical-align: top;\n",
       "    }\n",
       "\n",
       "    .dataframe thead th {\n",
       "        text-align: right;\n",
       "    }\n",
       "</style>\n",
       "<table border=\"1\" class=\"dataframe\">\n",
       "  <thead>\n",
       "    <tr style=\"text-align: right;\">\n",
       "      <th></th>\n",
       "      <th>date_received</th>\n",
       "      <th>product</th>\n",
       "      <th>subproduct</th>\n",
       "      <th>issue</th>\n",
       "      <th>company_name</th>\n",
       "      <th>state</th>\n",
       "      <th>date_sent_to_company</th>\n",
       "      <th>company_response_to_consumer</th>\n",
       "      <th>timely_response</th>\n",
       "      <th>complaint_id</th>\n",
       "    </tr>\n",
       "  </thead>\n",
       "  <tbody>\n",
       "    <tr>\n",
       "      <th>0</th>\n",
       "      <td>2021-03-26</td>\n",
       "      <td>Debt collection</td>\n",
       "      <td>Auto debt</td>\n",
       "      <td>Written notification about debt</td>\n",
       "      <td>NAVY FEDERAL CREDIT UNION</td>\n",
       "      <td>NV</td>\n",
       "      <td>2021-03-26</td>\n",
       "      <td>In progress</td>\n",
       "      <td>True</td>\n",
       "      <td>4247708</td>\n",
       "    </tr>\n",
       "    <tr>\n",
       "      <th>1</th>\n",
       "      <td>2021-03-26</td>\n",
       "      <td>Debt collection</td>\n",
       "      <td>Other debt</td>\n",
       "      <td>Attempts to collect debt not owed</td>\n",
       "      <td>HCFS Health Care Financial Services, Inc.</td>\n",
       "      <td>TX</td>\n",
       "      <td>2021-03-26</td>\n",
       "      <td>Closed with explanation</td>\n",
       "      <td>True</td>\n",
       "      <td>4250323</td>\n",
       "    </tr>\n",
       "    <tr>\n",
       "      <th>2</th>\n",
       "      <td>2021-03-26</td>\n",
       "      <td>Debt collection</td>\n",
       "      <td>I do not know</td>\n",
       "      <td>Attempts to collect debt not owed</td>\n",
       "      <td>Medical Data Systems, Inc.</td>\n",
       "      <td>NC</td>\n",
       "      <td>2021-03-26</td>\n",
       "      <td>In progress</td>\n",
       "      <td>True</td>\n",
       "      <td>4248600</td>\n",
       "    </tr>\n",
       "    <tr>\n",
       "      <th>3</th>\n",
       "      <td>2021-03-26</td>\n",
       "      <td>Student loan</td>\n",
       "      <td>Federal student loan servicing</td>\n",
       "      <td>Dealing with your lender or servicer</td>\n",
       "      <td>AES/PHEAA</td>\n",
       "      <td>RI</td>\n",
       "      <td>2021-03-26</td>\n",
       "      <td>Closed with explanation</td>\n",
       "      <td>True</td>\n",
       "      <td>4246344</td>\n",
       "    </tr>\n",
       "    <tr>\n",
       "      <th>4</th>\n",
       "      <td>2021-03-26</td>\n",
       "      <td>Mortgage</td>\n",
       "      <td>Conventional home mortgage</td>\n",
       "      <td>Closing on a mortgage</td>\n",
       "      <td>NAVY FEDERAL CREDIT UNION</td>\n",
       "      <td>GA</td>\n",
       "      <td>2021-03-26</td>\n",
       "      <td>In progress</td>\n",
       "      <td>True</td>\n",
       "      <td>4248281</td>\n",
       "    </tr>\n",
       "  </tbody>\n",
       "</table>\n",
       "</div>"
      ],
      "text/plain": [
       "  date_received          product                      subproduct  \\\n",
       "0    2021-03-26  Debt collection                       Auto debt   \n",
       "1    2021-03-26  Debt collection                      Other debt   \n",
       "2    2021-03-26  Debt collection                   I do not know   \n",
       "3    2021-03-26     Student loan  Federal student loan servicing   \n",
       "4    2021-03-26         Mortgage      Conventional home mortgage   \n",
       "\n",
       "                                  issue  \\\n",
       "0       Written notification about debt   \n",
       "1     Attempts to collect debt not owed   \n",
       "2     Attempts to collect debt not owed   \n",
       "3  Dealing with your lender or servicer   \n",
       "4                 Closing on a mortgage   \n",
       "\n",
       "                                company_name state date_sent_to_company  \\\n",
       "0                  NAVY FEDERAL CREDIT UNION    NV           2021-03-26   \n",
       "1  HCFS Health Care Financial Services, Inc.    TX           2021-03-26   \n",
       "2                 Medical Data Systems, Inc.    NC           2021-03-26   \n",
       "3                                  AES/PHEAA    RI           2021-03-26   \n",
       "4                  NAVY FEDERAL CREDIT UNION    GA           2021-03-26   \n",
       "\n",
       "  company_response_to_consumer  timely_response complaint_id  \n",
       "0                  In progress             True      4247708  \n",
       "1      Closed with explanation             True      4250323  \n",
       "2                  In progress             True      4248600  \n",
       "3      Closed with explanation             True      4246344  \n",
       "4                  In progress             True      4248281  "
      ]
     },
     "execution_count": 7,
     "metadata": {},
     "output_type": "execute_result"
    }
   ],
   "source": [
    "query_job = client.query(query, job_config=safe_config)\n",
    "# API request\n",
    "raw_df = query_job.to_dataframe()\n",
    "raw_df.head()"
   ]
  },
  {
   "cell_type": "code",
   "execution_count": 8,
   "id": "reserved-spine",
   "metadata": {
    "ExecuteTime": {
     "end_time": "2021-03-29T09:40:55.942880Z",
     "start_time": "2021-03-29T09:40:55.894969Z"
    }
   },
   "outputs": [],
   "source": [
    "# Copy\n",
    "backup_raw_df = raw_df.copy()"
   ]
  },
  {
   "cell_type": "markdown",
   "id": "inappropriate-camera",
   "metadata": {},
   "source": [
    "# Data Preparation"
   ]
  },
  {
   "cell_type": "code",
   "execution_count": 9,
   "id": "worth-commons",
   "metadata": {
    "ExecuteTime": {
     "end_time": "2021-03-29T09:40:57.497078Z",
     "start_time": "2021-03-29T09:40:55.945339Z"
    }
   },
   "outputs": [
    {
     "data": {
      "text/html": [
       "<div>\n",
       "<style scoped>\n",
       "    .dataframe tbody tr th:only-of-type {\n",
       "        vertical-align: middle;\n",
       "    }\n",
       "\n",
       "    .dataframe tbody tr th {\n",
       "        vertical-align: top;\n",
       "    }\n",
       "\n",
       "    .dataframe thead th {\n",
       "        text-align: right;\n",
       "    }\n",
       "</style>\n",
       "<table border=\"1\" class=\"dataframe\">\n",
       "  <thead>\n",
       "    <tr style=\"text-align: right;\">\n",
       "      <th></th>\n",
       "      <th>date_received</th>\n",
       "      <th>product</th>\n",
       "      <th>subproduct</th>\n",
       "      <th>issue</th>\n",
       "      <th>company_name</th>\n",
       "      <th>state</th>\n",
       "      <th>date_sent_to_company</th>\n",
       "      <th>company_response_to_consumer</th>\n",
       "      <th>timely_response</th>\n",
       "      <th>complaint_id</th>\n",
       "    </tr>\n",
       "  </thead>\n",
       "  <tbody>\n",
       "    <tr>\n",
       "      <th>count</th>\n",
       "      <td>1082380</td>\n",
       "      <td>1082380</td>\n",
       "      <td>1082380</td>\n",
       "      <td>1082380</td>\n",
       "      <td>1082380</td>\n",
       "      <td>1054168</td>\n",
       "      <td>1082380</td>\n",
       "      <td>1082378</td>\n",
       "      <td>1082380</td>\n",
       "      <td>1082380</td>\n",
       "    </tr>\n",
       "    <tr>\n",
       "      <th>unique</th>\n",
       "      <td>1181</td>\n",
       "      <td>9</td>\n",
       "      <td>48</td>\n",
       "      <td>81</td>\n",
       "      <td>4675</td>\n",
       "      <td>62</td>\n",
       "      <td>1181</td>\n",
       "      <td>5</td>\n",
       "      <td>2</td>\n",
       "      <td>1082380</td>\n",
       "    </tr>\n",
       "    <tr>\n",
       "      <th>top</th>\n",
       "      <td>2021-01-05</td>\n",
       "      <td>Credit reporting, credit repair services, or o...</td>\n",
       "      <td>Credit reporting</td>\n",
       "      <td>Incorrect information on your report</td>\n",
       "      <td>TRANSUNION INTERMEDIATE HOLDINGS, INC.</td>\n",
       "      <td>CA</td>\n",
       "      <td>2021-01-05</td>\n",
       "      <td>Closed with explanation</td>\n",
       "      <td>True</td>\n",
       "      <td>3116991</td>\n",
       "    </tr>\n",
       "    <tr>\n",
       "      <th>freq</th>\n",
       "      <td>2309</td>\n",
       "      <td>598370</td>\n",
       "      <td>591422</td>\n",
       "      <td>397817</td>\n",
       "      <td>177202</td>\n",
       "      <td>131806</td>\n",
       "      <td>2328</td>\n",
       "      <td>917676</td>\n",
       "      <td>1068012</td>\n",
       "      <td>1</td>\n",
       "    </tr>\n",
       "  </tbody>\n",
       "</table>\n",
       "</div>"
      ],
      "text/plain": [
       "       date_received                                            product  \\\n",
       "count        1082380                                            1082380   \n",
       "unique          1181                                                  9   \n",
       "top       2021-01-05  Credit reporting, credit repair services, or o...   \n",
       "freq            2309                                             598370   \n",
       "\n",
       "              subproduct                                 issue  \\\n",
       "count            1082380                               1082380   \n",
       "unique                48                                    81   \n",
       "top     Credit reporting  Incorrect information on your report   \n",
       "freq              591422                                397817   \n",
       "\n",
       "                                  company_name    state date_sent_to_company  \\\n",
       "count                                  1082380  1054168              1082380   \n",
       "unique                                    4675       62                 1181   \n",
       "top     TRANSUNION INTERMEDIATE HOLDINGS, INC.       CA           2021-01-05   \n",
       "freq                                    177202   131806                 2328   \n",
       "\n",
       "       company_response_to_consumer timely_response complaint_id  \n",
       "count                       1082378         1082380      1082380  \n",
       "unique                            5               2      1082380  \n",
       "top         Closed with explanation            True      3116991  \n",
       "freq                         917676         1068012            1  "
      ]
     },
     "execution_count": 9,
     "metadata": {},
     "output_type": "execute_result"
    }
   ],
   "source": [
    "raw_df.describe()"
   ]
  },
  {
   "cell_type": "code",
   "execution_count": 10,
   "id": "mounted-office",
   "metadata": {
    "ExecuteTime": {
     "end_time": "2021-03-29T09:40:57.504574Z",
     "start_time": "2021-03-29T09:40:57.498533Z"
    }
   },
   "outputs": [
    {
     "data": {
      "text/plain": [
       "date_received                   object\n",
       "product                         object\n",
       "subproduct                      object\n",
       "issue                           object\n",
       "company_name                    object\n",
       "state                           object\n",
       "date_sent_to_company            object\n",
       "company_response_to_consumer    object\n",
       "timely_response                   bool\n",
       "complaint_id                    object\n",
       "dtype: object"
      ]
     },
     "execution_count": 10,
     "metadata": {},
     "output_type": "execute_result"
    }
   ],
   "source": [
    "raw_df.dtypes"
   ]
  },
  {
   "cell_type": "code",
   "execution_count": 11,
   "id": "conservative-shareware",
   "metadata": {
    "ExecuteTime": {
     "end_time": "2021-03-29T09:40:57.765693Z",
     "start_time": "2021-03-29T09:40:57.507193Z"
    }
   },
   "outputs": [],
   "source": [
    "# adjusting the date format\n",
    "dates = ['date_received', 'date_sent_to_company']\n",
    "for date in dates:\n",
    "    raw_df[date] = pd.to_datetime(raw_df[date], format='%Y-%m-%d')"
   ]
  },
  {
   "cell_type": "code",
   "execution_count": 12,
   "id": "particular-collins",
   "metadata": {
    "ExecuteTime": {
     "end_time": "2021-03-29T09:40:57.771627Z",
     "start_time": "2021-03-29T09:40:57.767366Z"
    }
   },
   "outputs": [],
   "source": [
    "raw_df.set_index('date_received', inplace=True)"
   ]
  },
  {
   "cell_type": "code",
   "execution_count": 13,
   "id": "cooperative-budget",
   "metadata": {
    "ExecuteTime": {
     "end_time": "2021-03-29T09:40:57.787170Z",
     "start_time": "2021-03-29T09:40:57.774435Z"
    }
   },
   "outputs": [
    {
     "data": {
      "text/html": [
       "<div>\n",
       "<style scoped>\n",
       "    .dataframe tbody tr th:only-of-type {\n",
       "        vertical-align: middle;\n",
       "    }\n",
       "\n",
       "    .dataframe tbody tr th {\n",
       "        vertical-align: top;\n",
       "    }\n",
       "\n",
       "    .dataframe thead th {\n",
       "        text-align: right;\n",
       "    }\n",
       "</style>\n",
       "<table border=\"1\" class=\"dataframe\">\n",
       "  <thead>\n",
       "    <tr style=\"text-align: right;\">\n",
       "      <th></th>\n",
       "      <th>product</th>\n",
       "      <th>subproduct</th>\n",
       "      <th>issue</th>\n",
       "      <th>company_name</th>\n",
       "      <th>state</th>\n",
       "      <th>date_sent_to_company</th>\n",
       "      <th>company_response_to_consumer</th>\n",
       "      <th>timely_response</th>\n",
       "      <th>complaint_id</th>\n",
       "    </tr>\n",
       "    <tr>\n",
       "      <th>date_received</th>\n",
       "      <th></th>\n",
       "      <th></th>\n",
       "      <th></th>\n",
       "      <th></th>\n",
       "      <th></th>\n",
       "      <th></th>\n",
       "      <th></th>\n",
       "      <th></th>\n",
       "      <th></th>\n",
       "    </tr>\n",
       "  </thead>\n",
       "  <tbody>\n",
       "    <tr>\n",
       "      <th>2021-03-26</th>\n",
       "      <td>Debt collection</td>\n",
       "      <td>Auto debt</td>\n",
       "      <td>Written notification about debt</td>\n",
       "      <td>NAVY FEDERAL CREDIT UNION</td>\n",
       "      <td>NV</td>\n",
       "      <td>2021-03-26</td>\n",
       "      <td>In progress</td>\n",
       "      <td>True</td>\n",
       "      <td>4247708</td>\n",
       "    </tr>\n",
       "    <tr>\n",
       "      <th>2021-03-26</th>\n",
       "      <td>Debt collection</td>\n",
       "      <td>Other debt</td>\n",
       "      <td>Attempts to collect debt not owed</td>\n",
       "      <td>HCFS Health Care Financial Services, Inc.</td>\n",
       "      <td>TX</td>\n",
       "      <td>2021-03-26</td>\n",
       "      <td>Closed with explanation</td>\n",
       "      <td>True</td>\n",
       "      <td>4250323</td>\n",
       "    </tr>\n",
       "    <tr>\n",
       "      <th>2021-03-26</th>\n",
       "      <td>Debt collection</td>\n",
       "      <td>I do not know</td>\n",
       "      <td>Attempts to collect debt not owed</td>\n",
       "      <td>Medical Data Systems, Inc.</td>\n",
       "      <td>NC</td>\n",
       "      <td>2021-03-26</td>\n",
       "      <td>In progress</td>\n",
       "      <td>True</td>\n",
       "      <td>4248600</td>\n",
       "    </tr>\n",
       "    <tr>\n",
       "      <th>2021-03-26</th>\n",
       "      <td>Student loan</td>\n",
       "      <td>Federal student loan servicing</td>\n",
       "      <td>Dealing with your lender or servicer</td>\n",
       "      <td>AES/PHEAA</td>\n",
       "      <td>RI</td>\n",
       "      <td>2021-03-26</td>\n",
       "      <td>Closed with explanation</td>\n",
       "      <td>True</td>\n",
       "      <td>4246344</td>\n",
       "    </tr>\n",
       "    <tr>\n",
       "      <th>2021-03-26</th>\n",
       "      <td>Mortgage</td>\n",
       "      <td>Conventional home mortgage</td>\n",
       "      <td>Closing on a mortgage</td>\n",
       "      <td>NAVY FEDERAL CREDIT UNION</td>\n",
       "      <td>GA</td>\n",
       "      <td>2021-03-26</td>\n",
       "      <td>In progress</td>\n",
       "      <td>True</td>\n",
       "      <td>4248281</td>\n",
       "    </tr>\n",
       "  </tbody>\n",
       "</table>\n",
       "</div>"
      ],
      "text/plain": [
       "                       product                      subproduct  \\\n",
       "date_received                                                    \n",
       "2021-03-26     Debt collection                       Auto debt   \n",
       "2021-03-26     Debt collection                      Other debt   \n",
       "2021-03-26     Debt collection                   I do not know   \n",
       "2021-03-26        Student loan  Federal student loan servicing   \n",
       "2021-03-26            Mortgage      Conventional home mortgage   \n",
       "\n",
       "                                              issue  \\\n",
       "date_received                                         \n",
       "2021-03-26          Written notification about debt   \n",
       "2021-03-26        Attempts to collect debt not owed   \n",
       "2021-03-26        Attempts to collect debt not owed   \n",
       "2021-03-26     Dealing with your lender or servicer   \n",
       "2021-03-26                    Closing on a mortgage   \n",
       "\n",
       "                                            company_name state  \\\n",
       "date_received                                                    \n",
       "2021-03-26                     NAVY FEDERAL CREDIT UNION    NV   \n",
       "2021-03-26     HCFS Health Care Financial Services, Inc.    TX   \n",
       "2021-03-26                    Medical Data Systems, Inc.    NC   \n",
       "2021-03-26                                     AES/PHEAA    RI   \n",
       "2021-03-26                     NAVY FEDERAL CREDIT UNION    GA   \n",
       "\n",
       "              date_sent_to_company company_response_to_consumer  \\\n",
       "date_received                                                     \n",
       "2021-03-26              2021-03-26                  In progress   \n",
       "2021-03-26              2021-03-26      Closed with explanation   \n",
       "2021-03-26              2021-03-26                  In progress   \n",
       "2021-03-26              2021-03-26      Closed with explanation   \n",
       "2021-03-26              2021-03-26                  In progress   \n",
       "\n",
       "               timely_response complaint_id  \n",
       "date_received                                \n",
       "2021-03-26                True      4247708  \n",
       "2021-03-26                True      4250323  \n",
       "2021-03-26                True      4248600  \n",
       "2021-03-26                True      4246344  \n",
       "2021-03-26                True      4248281  "
      ]
     },
     "execution_count": 13,
     "metadata": {},
     "output_type": "execute_result"
    }
   ],
   "source": [
    "raw_df.head()"
   ]
  },
  {
   "cell_type": "code",
   "execution_count": 14,
   "id": "endless-tournament",
   "metadata": {
    "ExecuteTime": {
     "end_time": "2021-03-29T09:40:57.827406Z",
     "start_time": "2021-03-29T09:40:57.788784Z"
    }
   },
   "outputs": [
    {
     "data": {
      "text/plain": [
       "array(['In progress', 'Closed with explanation',\n",
       "       'Closed with non-monetary relief', 'Closed with monetary relief',\n",
       "       'Untimely response', None], dtype=object)"
      ]
     },
     "execution_count": 14,
     "metadata": {},
     "output_type": "execute_result"
    }
   ],
   "source": [
    "raw_df.company_response_to_consumer.unique()"
   ]
  },
  {
   "cell_type": "markdown",
   "id": "alert-bonus",
   "metadata": {},
   "source": [
    "# EDA"
   ]
  },
  {
   "cell_type": "markdown",
   "id": "discrete-designer",
   "metadata": {
    "ExecuteTime": {
     "end_time": "2021-03-25T13:20:41.686300Z",
     "start_time": "2021-03-25T13:20:41.666817Z"
    }
   },
   "source": [
    "### 1 - Which companies have the most complaints?"
   ]
  },
  {
   "cell_type": "code",
   "execution_count": 15,
   "id": "played-nudist",
   "metadata": {
    "ExecuteTime": {
     "end_time": "2021-03-29T09:40:57.984918Z",
     "start_time": "2021-03-29T09:40:57.828509Z"
    }
   },
   "outputs": [],
   "source": [
    "comp_most_complaints = raw_df[['company_name', 'complaint_id']] \\\n",
    ".groupby('company_name').count().sort_values(by='complaint_id', ascending=False).head(20).index.to_list()"
   ]
  },
  {
   "cell_type": "markdown",
   "id": "later-privilege",
   "metadata": {
    "ExecuteTime": {
     "end_time": "2021-03-25T13:45:27.911664Z",
     "start_time": "2021-03-25T13:45:18.817381Z"
    }
   },
   "source": [
    "### 2 - Which companies have the most complaints this year?"
   ]
  },
  {
   "cell_type": "code",
   "execution_count": 16,
   "id": "local-gambling",
   "metadata": {
    "ExecuteTime": {
     "end_time": "2021-03-29T09:40:58.024842Z",
     "start_time": "2021-03-29T09:40:57.986815Z"
    },
    "scrolled": true
   },
   "outputs": [],
   "source": [
    "comp_most_complaints_2021 = raw_df.loc['2021' , ['company_name', 'complaint_id']] \\\n",
    ".groupby('company_name').count().sort_values(by='complaint_id', ascending=False).head(20).index.to_list()"
   ]
  },
  {
   "cell_type": "markdown",
   "id": "leading-software",
   "metadata": {},
   "source": [
    "### 3 - Which companies have the most complaints 'in progress' or 'Untimely response'?"
   ]
  },
  {
   "cell_type": "code",
   "execution_count": 17,
   "id": "continuing-silly",
   "metadata": {
    "ExecuteTime": {
     "end_time": "2021-03-29T09:40:58.063153Z",
     "start_time": "2021-03-29T09:40:58.025832Z"
    }
   },
   "outputs": [],
   "source": [
    "comp_most_complaints_unsolved = raw_df.loc[raw_df.company_response_to_consumer.isin(['In progress', 'Untimely response']),\n",
    "           ['company_name', 'complaint_id']] \\\n",
    ".groupby('company_name').count().sort_values(by='complaint_id', ascending=False).head(20).index.to_list()"
   ]
  },
  {
   "cell_type": "markdown",
   "id": "mounted-exhibition",
   "metadata": {},
   "source": [
    "### 4 - What are the most recurring issues per company? "
   ]
  },
  {
   "cell_type": "code",
   "execution_count": 18,
   "id": "continued-estonia",
   "metadata": {
    "ExecuteTime": {
     "end_time": "2021-03-29T09:40:58.326004Z",
     "start_time": "2021-03-29T09:40:58.064053Z"
    }
   },
   "outputs": [],
   "source": [
    "comp_recurring_issue = raw_df[['company_name', 'issue', 'complaint_id']] \\\n",
    ".groupby(['issue', 'company_name']).count().sort_values(by='complaint_id', \n",
    "                                                        ascending=False).head(20).index \\\n",
    ".get_level_values('company_name').to_list()"
   ]
  },
  {
   "cell_type": "code",
   "execution_count": 19,
   "id": "single-extent",
   "metadata": {
    "ExecuteTime": {
     "end_time": "2021-03-29T09:40:58.331657Z",
     "start_time": "2021-03-29T09:40:58.327336Z"
    }
   },
   "outputs": [
    {
     "data": {
      "text/plain": [
       "31"
      ]
     },
     "execution_count": 19,
     "metadata": {},
     "output_type": "execute_result"
    }
   ],
   "source": [
    "potential_customers = list(set(comp_most_complaints) | \n",
    "                        set(comp_most_complaints_2021) |\n",
    "                        set(comp_most_complaints_unsolved)|\n",
    "                          set (comp_recurring_issue))\n",
    "len(potential_customers)"
   ]
  },
  {
   "cell_type": "code",
   "execution_count": 20,
   "id": "valued-deployment",
   "metadata": {
    "ExecuteTime": {
     "end_time": "2021-03-29T09:40:58.337534Z",
     "start_time": "2021-03-29T09:40:58.333667Z"
    }
   },
   "outputs": [
    {
     "data": {
      "text/plain": [
       "['Colony Brands, Inc.',\n",
       " 'Santander Consumer USA Holdings Inc.',\n",
       " 'SYNCHRONY FINANCIAL',\n",
       " 'JPMORGAN CHASE & CO.',\n",
       " 'CAPITAL ONE FINANCIAL CORPORATION',\n",
       " 'AES/PHEAA',\n",
       " 'PNC Bank N.A.',\n",
       " 'Chime Financial Inc',\n",
       " 'TD BANK US HOLDING COMPANY',\n",
       " 'PORTFOLIO RECOVERY ASSOCIATES INC',\n",
       " 'Paypal Holdings, Inc',\n",
       " 'Experian Information Solutions Inc.',\n",
       " 'Navient Solutions, LLC.',\n",
       " 'WELLS FARGO & COMPANY',\n",
       " 'Coinbase, Inc.',\n",
       " 'ENCORE CAPITAL GROUP INC.',\n",
       " 'TRANSUNION INTERMEDIATE HOLDINGS, INC.',\n",
       " 'Mobiloans, LLC',\n",
       " 'EQUIFAX, INC.',\n",
       " 'ALLY FINANCIAL INC.',\n",
       " 'Ameritech Financial',\n",
       " 'CITIBANK, N.A.',\n",
       " 'Alliance Data Card Services',\n",
       " 'AMERICAN EXPRESS COMPANY',\n",
       " 'CITIZENS FINANCIAL GROUP, INC.',\n",
       " 'BARCLAYS BANK DELAWARE',\n",
       " 'U.S. BANCORP',\n",
       " 'Premier\\xa0Student\\xa0Loan\\xa0Center',\n",
       " 'BANK OF AMERICA, NATIONAL ASSOCIATION',\n",
       " 'DISCOVER BANK',\n",
       " 'NAVY FEDERAL CREDIT UNION']"
      ]
     },
     "execution_count": 20,
     "metadata": {},
     "output_type": "execute_result"
    }
   ],
   "source": [
    "potential_customers"
   ]
  },
  {
   "cell_type": "markdown",
   "id": "developing-alarm",
   "metadata": {},
   "source": [
    "**The first step was to access large numbers. But there are few insights and that list is still large (31 companies), so the next step is to analyse especifically those companies.**"
   ]
  },
  {
   "cell_type": "markdown",
   "id": "sitting-morgan",
   "metadata": {},
   "source": [
    "# Saving data\n",
    "\n",
    "Saves shortlist data for further analysis"
   ]
  },
  {
   "cell_type": "code",
   "execution_count": 28,
   "id": "impossible-running",
   "metadata": {
    "ExecuteTime": {
     "end_time": "2021-03-29T09:53:14.122538Z",
     "start_time": "2021-03-29T09:53:04.685384Z"
    },
    "scrolled": true
   },
   "outputs": [],
   "source": [
    "# Save shortlist 1 as csv\n",
    "shortlist_1 = raw_df[raw_df.company_name.isin(potential_customers)]\n",
    "compression_opts = dict(method='zip', \n",
    "                        archive_name='shortlist.csv') \n",
    "shortlist_1.to_csv('../raw_data/shortlist.zip',\n",
    "                  compression=compression_opts)"
   ]
  },
  {
   "cell_type": "markdown",
   "id": "stuck-publisher",
   "metadata": {},
   "source": [
    "## Complaints by company per year"
   ]
  },
  {
   "cell_type": "code",
   "execution_count": null,
   "id": "opening-knowing",
   "metadata": {},
   "outputs": [],
   "source": [
    "shortlist_1 = pd.read_csv('../raw_data/shortlist.zip', index_col='date_received', parse_dates=True)"
   ]
  },
  {
   "cell_type": "code",
   "execution_count": 4,
   "id": "thermal-chase",
   "metadata": {
    "ExecuteTime": {
     "end_time": "2021-03-30T11:23:13.596612Z",
     "start_time": "2021-03-30T11:23:12.196131Z"
    }
   },
   "outputs": [],
   "source": [
    "# Complaints by company per year\n",
    "df_1 = shortlist_1[['company_name']].groupby(['company_name']).resample('Y').count().unstack(level=1)\n",
    "data_1 = df_1.sort_values(by=('company_name', '2021-12-31'), ascending=False).values\n",
    "index_1 = df_1.sort_values(by=('company_name', '2021-12-31'), ascending=False).index\n",
    "\n",
    "# CSV (streamlit)\n",
    "pd.DataFrame(data=data_1, index=index_1, columns=[2018, 2019, 2020, 2021]).to_csv('../tidy_data/fc_per_y.zip',\n",
    "                                                                                 compression=compression_opts)"
   ]
  },
  {
   "cell_type": "code",
   "execution_count": 76,
   "id": "prostate-entity",
   "metadata": {
    "ExecuteTime": {
     "end_time": "2021-03-30T15:03:25.294424Z",
     "start_time": "2021-03-30T15:03:24.898402Z"
    },
    "scrolled": false
   },
   "outputs": [
    {
     "data": {
      "application/vnd.plotly.v1+json": {
       "config": {
        "plotlyServerURL": "https://plot.ly"
       },
       "data": [
        {
         "hovertemplate": "Companies=AES/PHEAA<br>Date=%{x}<br>Complaints=%{y}<extra></extra>",
         "legendgroup": "AES/PHEAA",
         "line": {
          "color": "#1F77B4",
          "dash": "solid"
         },
         "mode": "lines",
         "name": "AES/PHEAA",
         "showlegend": true,
         "type": "scattergl",
         "x": [
          "2018-01-31T00:00:00",
          "2018-02-28T00:00:00",
          "2018-03-31T00:00:00",
          "2018-04-30T00:00:00",
          "2018-05-31T00:00:00",
          "2018-06-30T00:00:00",
          "2018-07-31T00:00:00",
          "2018-08-31T00:00:00",
          "2018-09-30T00:00:00",
          "2018-10-31T00:00:00",
          "2018-11-30T00:00:00",
          "2018-12-31T00:00:00",
          "2019-01-31T00:00:00",
          "2019-02-28T00:00:00",
          "2019-03-31T00:00:00",
          "2019-04-30T00:00:00",
          "2019-05-31T00:00:00",
          "2019-06-30T00:00:00",
          "2019-07-31T00:00:00",
          "2019-08-31T00:00:00",
          "2019-09-30T00:00:00",
          "2019-10-31T00:00:00",
          "2019-11-30T00:00:00",
          "2019-12-31T00:00:00",
          "2020-01-31T00:00:00",
          "2020-02-29T00:00:00",
          "2020-03-31T00:00:00",
          "2020-04-30T00:00:00",
          "2020-05-31T00:00:00",
          "2020-06-30T00:00:00",
          "2020-07-31T00:00:00",
          "2020-08-31T00:00:00",
          "2020-09-30T00:00:00",
          "2020-10-31T00:00:00",
          "2020-11-30T00:00:00",
          "2020-12-31T00:00:00",
          "2021-01-31T00:00:00",
          "2021-02-28T00:00:00",
          "2021-03-31T00:00:00"
         ],
         "xaxis": "x",
         "y": [
          211,
          165,
          205,
          222,
          188,
          145,
          183,
          201,
          185,
          216,
          163,
          183,
          197,
          214,
          229,
          246,
          189,
          149,
          180,
          178,
          161,
          184,
          162,
          116,
          196,
          147,
          170,
          170,
          156,
          95,
          114,
          104,
          99,
          99,
          120,
          96,
          126,
          134,
          84
         ],
         "yaxis": "y"
        },
        {
         "hovertemplate": "Companies=ALLY FINANCIAL INC.<br>Date=%{x}<br>Complaints=%{y}<extra></extra>",
         "legendgroup": "ALLY FINANCIAL INC.",
         "line": {
          "color": "#FF7F0E",
          "dash": "solid"
         },
         "mode": "lines",
         "name": "ALLY FINANCIAL INC.",
         "showlegend": true,
         "type": "scattergl",
         "x": [
          "2018-01-31T00:00:00",
          "2018-02-28T00:00:00",
          "2018-03-31T00:00:00",
          "2018-04-30T00:00:00",
          "2018-05-31T00:00:00",
          "2018-06-30T00:00:00",
          "2018-07-31T00:00:00",
          "2018-08-31T00:00:00",
          "2018-09-30T00:00:00",
          "2018-10-31T00:00:00",
          "2018-11-30T00:00:00",
          "2018-12-31T00:00:00",
          "2019-01-31T00:00:00",
          "2019-02-28T00:00:00",
          "2019-03-31T00:00:00",
          "2019-04-30T00:00:00",
          "2019-05-31T00:00:00",
          "2019-06-30T00:00:00",
          "2019-07-31T00:00:00",
          "2019-08-31T00:00:00",
          "2019-09-30T00:00:00",
          "2019-10-31T00:00:00",
          "2019-11-30T00:00:00",
          "2019-12-31T00:00:00",
          "2020-01-31T00:00:00",
          "2020-02-29T00:00:00",
          "2020-03-31T00:00:00",
          "2020-04-30T00:00:00",
          "2020-05-31T00:00:00",
          "2020-06-30T00:00:00",
          "2020-07-31T00:00:00",
          "2020-08-31T00:00:00",
          "2020-09-30T00:00:00",
          "2020-10-31T00:00:00",
          "2020-11-30T00:00:00",
          "2020-12-31T00:00:00",
          "2021-01-31T00:00:00",
          "2021-02-28T00:00:00",
          "2021-03-31T00:00:00"
         ],
         "xaxis": "x",
         "y": [
          132,
          114,
          101,
          105,
          118,
          84,
          79,
          84,
          82,
          76,
          71,
          73,
          78,
          96,
          102,
          113,
          90,
          81,
          91,
          88,
          85,
          87,
          102,
          68,
          106,
          110,
          122,
          104,
          132,
          142,
          146,
          142,
          158,
          151,
          144,
          164,
          156,
          169,
          209
         ],
         "yaxis": "y"
        },
        {
         "hovertemplate": "Companies=AMERICAN EXPRESS COMPANY<br>Date=%{x}<br>Complaints=%{y}<extra></extra>",
         "legendgroup": "AMERICAN EXPRESS COMPANY",
         "line": {
          "color": "#2CA02C",
          "dash": "solid"
         },
         "mode": "lines",
         "name": "AMERICAN EXPRESS COMPANY",
         "showlegend": true,
         "type": "scattergl",
         "x": [
          "2018-01-31T00:00:00",
          "2018-02-28T00:00:00",
          "2018-03-31T00:00:00",
          "2018-04-30T00:00:00",
          "2018-05-31T00:00:00",
          "2018-06-30T00:00:00",
          "2018-07-31T00:00:00",
          "2018-08-31T00:00:00",
          "2018-09-30T00:00:00",
          "2018-10-31T00:00:00",
          "2018-11-30T00:00:00",
          "2018-12-31T00:00:00",
          "2019-01-31T00:00:00",
          "2019-02-28T00:00:00",
          "2019-03-31T00:00:00",
          "2019-04-30T00:00:00",
          "2019-05-31T00:00:00",
          "2019-06-30T00:00:00",
          "2019-07-31T00:00:00",
          "2019-08-31T00:00:00",
          "2019-09-30T00:00:00",
          "2019-10-31T00:00:00",
          "2019-11-30T00:00:00",
          "2019-12-31T00:00:00",
          "2020-01-31T00:00:00",
          "2020-02-29T00:00:00",
          "2020-03-31T00:00:00",
          "2020-04-30T00:00:00",
          "2020-05-31T00:00:00",
          "2020-06-30T00:00:00",
          "2020-07-31T00:00:00",
          "2020-08-31T00:00:00",
          "2020-09-30T00:00:00",
          "2020-10-31T00:00:00",
          "2020-11-30T00:00:00",
          "2020-12-31T00:00:00",
          "2021-01-31T00:00:00",
          "2021-02-28T00:00:00",
          "2021-03-31T00:00:00"
         ],
         "xaxis": "x",
         "y": [
          234,
          228,
          250,
          226,
          237,
          175,
          239,
          234,
          197,
          354,
          253,
          232,
          240,
          229,
          264,
          226,
          253,
          230,
          238,
          261,
          231,
          224,
          208,
          222,
          228,
          204,
          251,
          352,
          362,
          281,
          277,
          291,
          233,
          233,
          218,
          242,
          266,
          247,
          163
         ],
         "yaxis": "y"
        },
        {
         "hovertemplate": "Companies=Alliance Data Card Services<br>Date=%{x}<br>Complaints=%{y}<extra></extra>",
         "legendgroup": "Alliance Data Card Services",
         "line": {
          "color": "#D62728",
          "dash": "solid"
         },
         "mode": "lines",
         "name": "Alliance Data Card Services",
         "showlegend": true,
         "type": "scattergl",
         "x": [
          "2018-01-31T00:00:00",
          "2018-02-28T00:00:00",
          "2018-03-31T00:00:00",
          "2018-04-30T00:00:00",
          "2018-05-31T00:00:00",
          "2018-06-30T00:00:00",
          "2018-07-31T00:00:00",
          "2018-08-31T00:00:00",
          "2018-09-30T00:00:00",
          "2018-10-31T00:00:00",
          "2018-11-30T00:00:00",
          "2018-12-31T00:00:00",
          "2019-01-31T00:00:00",
          "2019-02-28T00:00:00",
          "2019-03-31T00:00:00",
          "2019-04-30T00:00:00",
          "2019-05-31T00:00:00",
          "2019-06-30T00:00:00",
          "2019-07-31T00:00:00",
          "2019-08-31T00:00:00",
          "2019-09-30T00:00:00",
          "2019-10-31T00:00:00",
          "2019-11-30T00:00:00",
          "2019-12-31T00:00:00",
          "2020-01-31T00:00:00",
          "2020-02-29T00:00:00",
          "2020-03-31T00:00:00",
          "2020-04-30T00:00:00",
          "2020-05-31T00:00:00",
          "2020-06-30T00:00:00",
          "2020-07-31T00:00:00",
          "2020-08-31T00:00:00",
          "2020-09-30T00:00:00",
          "2020-10-31T00:00:00",
          "2020-11-30T00:00:00",
          "2020-12-31T00:00:00",
          "2021-01-31T00:00:00",
          "2021-02-28T00:00:00",
          "2021-03-31T00:00:00"
         ],
         "xaxis": "x",
         "y": [
          257,
          229,
          247,
          257,
          254,
          225,
          207,
          211,
          182,
          220,
          190,
          176,
          187,
          212,
          233,
          215,
          221,
          223,
          260,
          222,
          221,
          241,
          218,
          213,
          206,
          205,
          224,
          256,
          275,
          266,
          246,
          321,
          237,
          259,
          308,
          287,
          281,
          344,
          190
         ],
         "yaxis": "y"
        },
        {
         "hovertemplate": "Companies=Ameritech Financial<br>Date=%{x}<br>Complaints=%{y}<extra></extra>",
         "legendgroup": "Ameritech Financial",
         "line": {
          "color": "#9467BD",
          "dash": "solid"
         },
         "mode": "lines",
         "name": "Ameritech Financial",
         "showlegend": true,
         "type": "scattergl",
         "x": [
          "2018-01-31T00:00:00",
          "2018-02-28T00:00:00",
          "2018-03-31T00:00:00",
          "2018-04-30T00:00:00",
          "2018-05-31T00:00:00",
          "2018-06-30T00:00:00",
          "2018-07-31T00:00:00",
          "2018-08-31T00:00:00",
          "2018-09-30T00:00:00",
          "2018-10-31T00:00:00",
          "2018-11-30T00:00:00",
          "2018-12-31T00:00:00",
          "2019-01-31T00:00:00",
          "2019-02-28T00:00:00",
          "2019-03-31T00:00:00",
          "2019-04-30T00:00:00",
          "2019-05-31T00:00:00",
          "2019-06-30T00:00:00",
          "2019-07-31T00:00:00",
          "2019-08-31T00:00:00",
          "2019-09-30T00:00:00",
          "2019-10-31T00:00:00",
          "2019-11-30T00:00:00",
          "2019-12-31T00:00:00",
          "2020-01-31T00:00:00",
          "2020-02-29T00:00:00",
          "2020-03-31T00:00:00",
          "2020-04-30T00:00:00",
          "2020-05-31T00:00:00"
         ],
         "xaxis": "x",
         "y": [
          3,
          1,
          0,
          2,
          1,
          2,
          90,
          28,
          7,
          5,
          2,
          8,
          3,
          18,
          17,
          3,
          4,
          6,
          3,
          2,
          2,
          1,
          0,
          0,
          2,
          2,
          1,
          2,
          1
         ],
         "yaxis": "y"
        },
        {
         "hovertemplate": "Companies=BANK OF AMERICA, NATIONAL ASSOCIATION<br>Date=%{x}<br>Complaints=%{y}<extra></extra>",
         "legendgroup": "BANK OF AMERICA, NATIONAL ASSOCIATION",
         "line": {
          "color": "#8C564B",
          "dash": "solid"
         },
         "mode": "lines",
         "name": "BANK OF AMERICA, NATIONAL ASSOCIATION",
         "showlegend": true,
         "type": "scattergl",
         "x": [
          "2018-01-31T00:00:00",
          "2018-02-28T00:00:00",
          "2018-03-31T00:00:00",
          "2018-04-30T00:00:00",
          "2018-05-31T00:00:00",
          "2018-06-30T00:00:00",
          "2018-07-31T00:00:00",
          "2018-08-31T00:00:00",
          "2018-09-30T00:00:00",
          "2018-10-31T00:00:00",
          "2018-11-30T00:00:00",
          "2018-12-31T00:00:00",
          "2019-01-31T00:00:00",
          "2019-02-28T00:00:00",
          "2019-03-31T00:00:00",
          "2019-04-30T00:00:00",
          "2019-05-31T00:00:00",
          "2019-06-30T00:00:00",
          "2019-07-31T00:00:00",
          "2019-08-31T00:00:00",
          "2019-09-30T00:00:00",
          "2019-10-31T00:00:00",
          "2019-11-30T00:00:00",
          "2019-12-31T00:00:00",
          "2020-01-31T00:00:00",
          "2020-02-29T00:00:00",
          "2020-03-31T00:00:00",
          "2020-04-30T00:00:00",
          "2020-05-31T00:00:00",
          "2020-06-30T00:00:00",
          "2020-07-31T00:00:00",
          "2020-08-31T00:00:00",
          "2020-09-30T00:00:00",
          "2020-10-31T00:00:00",
          "2020-11-30T00:00:00",
          "2020-12-31T00:00:00",
          "2021-01-31T00:00:00",
          "2021-02-28T00:00:00",
          "2021-03-31T00:00:00"
         ],
         "xaxis": "x",
         "y": [
          711,
          662,
          790,
          936,
          762,
          686,
          731,
          700,
          678,
          741,
          496,
          419,
          455,
          414,
          540,
          699,
          650,
          638,
          716,
          767,
          695,
          702,
          603,
          656,
          693,
          626,
          675,
          806,
          690,
          794,
          718,
          769,
          851,
          923,
          880,
          1025,
          997,
          1066,
          561
         ],
         "yaxis": "y"
        },
        {
         "hovertemplate": "Companies=BARCLAYS BANK DELAWARE<br>Date=%{x}<br>Complaints=%{y}<extra></extra>",
         "legendgroup": "BARCLAYS BANK DELAWARE",
         "line": {
          "color": "#E377C2",
          "dash": "solid"
         },
         "mode": "lines",
         "name": "BARCLAYS BANK DELAWARE",
         "showlegend": true,
         "type": "scattergl",
         "x": [
          "2018-01-31T00:00:00",
          "2018-02-28T00:00:00",
          "2018-03-31T00:00:00",
          "2018-04-30T00:00:00",
          "2018-05-31T00:00:00",
          "2018-06-30T00:00:00",
          "2018-07-31T00:00:00",
          "2018-08-31T00:00:00",
          "2018-09-30T00:00:00",
          "2018-10-31T00:00:00",
          "2018-11-30T00:00:00",
          "2018-12-31T00:00:00",
          "2019-01-31T00:00:00",
          "2019-02-28T00:00:00",
          "2019-03-31T00:00:00",
          "2019-04-30T00:00:00",
          "2019-05-31T00:00:00",
          "2019-06-30T00:00:00",
          "2019-07-31T00:00:00",
          "2019-08-31T00:00:00",
          "2019-09-30T00:00:00",
          "2019-10-31T00:00:00",
          "2019-11-30T00:00:00",
          "2019-12-31T00:00:00",
          "2020-01-31T00:00:00",
          "2020-02-29T00:00:00",
          "2020-03-31T00:00:00",
          "2020-04-30T00:00:00",
          "2020-05-31T00:00:00",
          "2020-06-30T00:00:00",
          "2020-07-31T00:00:00",
          "2020-08-31T00:00:00",
          "2020-09-30T00:00:00",
          "2020-10-31T00:00:00",
          "2020-11-30T00:00:00",
          "2020-12-31T00:00:00",
          "2021-01-31T00:00:00",
          "2021-02-28T00:00:00",
          "2021-03-31T00:00:00"
         ],
         "xaxis": "x",
         "y": [
          132,
          133,
          146,
          135,
          126,
          92,
          95,
          108,
          99,
          119,
          83,
          90,
          88,
          109,
          107,
          117,
          128,
          100,
          125,
          132,
          104,
          120,
          100,
          93,
          123,
          117,
          123,
          156,
          135,
          161,
          163,
          157,
          134,
          152,
          135,
          138,
          133,
          126,
          142
         ],
         "yaxis": "y"
        },
        {
         "hovertemplate": "Companies=CAPITAL ONE FINANCIAL CORPORATION<br>Date=%{x}<br>Complaints=%{y}<extra></extra>",
         "legendgroup": "CAPITAL ONE FINANCIAL CORPORATION",
         "line": {
          "color": "#7F7F7F",
          "dash": "solid"
         },
         "mode": "lines",
         "name": "CAPITAL ONE FINANCIAL CORPORATION",
         "showlegend": true,
         "type": "scattergl",
         "x": [
          "2018-01-31T00:00:00",
          "2018-02-28T00:00:00",
          "2018-03-31T00:00:00",
          "2018-04-30T00:00:00",
          "2018-05-31T00:00:00",
          "2018-06-30T00:00:00",
          "2018-07-31T00:00:00",
          "2018-08-31T00:00:00",
          "2018-09-30T00:00:00",
          "2018-10-31T00:00:00",
          "2018-11-30T00:00:00",
          "2018-12-31T00:00:00",
          "2019-01-31T00:00:00",
          "2019-02-28T00:00:00",
          "2019-03-31T00:00:00",
          "2019-04-30T00:00:00",
          "2019-05-31T00:00:00",
          "2019-06-30T00:00:00",
          "2019-07-31T00:00:00",
          "2019-08-31T00:00:00",
          "2019-09-30T00:00:00",
          "2019-10-31T00:00:00",
          "2019-11-30T00:00:00",
          "2019-12-31T00:00:00",
          "2020-01-31T00:00:00",
          "2020-02-29T00:00:00",
          "2020-03-31T00:00:00",
          "2020-04-30T00:00:00",
          "2020-05-31T00:00:00",
          "2020-06-30T00:00:00",
          "2020-07-31T00:00:00",
          "2020-08-31T00:00:00",
          "2020-09-30T00:00:00",
          "2020-10-31T00:00:00",
          "2020-11-30T00:00:00",
          "2020-12-31T00:00:00",
          "2021-01-31T00:00:00",
          "2021-02-28T00:00:00",
          "2021-03-31T00:00:00"
         ],
         "xaxis": "x",
         "y": [
          701,
          598,
          745,
          726,
          733,
          687,
          601,
          568,
          569,
          634,
          555,
          561,
          587,
          580,
          641,
          590,
          609,
          606,
          666,
          708,
          638,
          757,
          693,
          580,
          766,
          691,
          696,
          788,
          833,
          821,
          842,
          896,
          743,
          876,
          918,
          906,
          852,
          947,
          694
         ],
         "yaxis": "y"
        },
        {
         "hovertemplate": "Companies=CITIBANK, N.A.<br>Date=%{x}<br>Complaints=%{y}<extra></extra>",
         "legendgroup": "CITIBANK, N.A.",
         "line": {
          "color": "#BCBD22",
          "dash": "solid"
         },
         "mode": "lines",
         "name": "CITIBANK, N.A.",
         "showlegend": true,
         "type": "scattergl",
         "x": [
          "2018-01-31T00:00:00",
          "2018-02-28T00:00:00",
          "2018-03-31T00:00:00",
          "2018-04-30T00:00:00",
          "2018-05-31T00:00:00",
          "2018-06-30T00:00:00",
          "2018-07-31T00:00:00",
          "2018-08-31T00:00:00",
          "2018-09-30T00:00:00",
          "2018-10-31T00:00:00",
          "2018-11-30T00:00:00",
          "2018-12-31T00:00:00",
          "2019-01-31T00:00:00",
          "2019-02-28T00:00:00",
          "2019-03-31T00:00:00",
          "2019-04-30T00:00:00",
          "2019-05-31T00:00:00",
          "2019-06-30T00:00:00",
          "2019-07-31T00:00:00",
          "2019-08-31T00:00:00",
          "2019-09-30T00:00:00",
          "2019-10-31T00:00:00",
          "2019-11-30T00:00:00",
          "2019-12-31T00:00:00",
          "2020-01-31T00:00:00",
          "2020-02-29T00:00:00",
          "2020-03-31T00:00:00",
          "2020-04-30T00:00:00",
          "2020-05-31T00:00:00",
          "2020-06-30T00:00:00",
          "2020-07-31T00:00:00",
          "2020-08-31T00:00:00",
          "2020-09-30T00:00:00",
          "2020-10-31T00:00:00",
          "2020-11-30T00:00:00",
          "2020-12-31T00:00:00",
          "2021-01-31T00:00:00",
          "2021-02-28T00:00:00",
          "2021-03-31T00:00:00"
         ],
         "xaxis": "x",
         "y": [
          658,
          608,
          644,
          705,
          584,
          508,
          552,
          611,
          523,
          656,
          609,
          605,
          587,
          543,
          628,
          601,
          590,
          578,
          606,
          611,
          563,
          637,
          559,
          562,
          599,
          638,
          686,
          850,
          801,
          772,
          783,
          709,
          724,
          739,
          644,
          775,
          817,
          768,
          456
         ],
         "yaxis": "y"
        },
        {
         "hovertemplate": "Companies=CITIZENS FINANCIAL GROUP, INC.<br>Date=%{x}<br>Complaints=%{y}<extra></extra>",
         "legendgroup": "CITIZENS FINANCIAL GROUP, INC.",
         "line": {
          "color": "#17BECF",
          "dash": "solid"
         },
         "mode": "lines",
         "name": "CITIZENS FINANCIAL GROUP, INC.",
         "showlegend": true,
         "type": "scattergl",
         "x": [
          "2018-01-31T00:00:00",
          "2018-02-28T00:00:00",
          "2018-03-31T00:00:00",
          "2018-04-30T00:00:00",
          "2018-05-31T00:00:00",
          "2018-06-30T00:00:00",
          "2018-07-31T00:00:00",
          "2018-08-31T00:00:00",
          "2018-09-30T00:00:00",
          "2018-10-31T00:00:00",
          "2018-11-30T00:00:00",
          "2018-12-31T00:00:00",
          "2019-01-31T00:00:00",
          "2019-02-28T00:00:00",
          "2019-03-31T00:00:00",
          "2019-04-30T00:00:00",
          "2019-05-31T00:00:00",
          "2019-06-30T00:00:00",
          "2019-07-31T00:00:00",
          "2019-08-31T00:00:00",
          "2019-09-30T00:00:00",
          "2019-10-31T00:00:00",
          "2019-11-30T00:00:00",
          "2019-12-31T00:00:00",
          "2020-01-31T00:00:00",
          "2020-02-29T00:00:00",
          "2020-03-31T00:00:00",
          "2020-04-30T00:00:00",
          "2020-05-31T00:00:00",
          "2020-06-30T00:00:00",
          "2020-07-31T00:00:00",
          "2020-08-31T00:00:00",
          "2020-09-30T00:00:00",
          "2020-10-31T00:00:00",
          "2020-11-30T00:00:00",
          "2020-12-31T00:00:00",
          "2021-01-31T00:00:00",
          "2021-02-28T00:00:00",
          "2021-03-31T00:00:00"
         ],
         "xaxis": "x",
         "y": [
          66,
          72,
          75,
          80,
          80,
          43,
          76,
          83,
          99,
          112,
          69,
          101,
          104,
          87,
          75,
          99,
          97,
          79,
          78,
          81,
          71,
          105,
          66,
          76,
          57,
          73,
          68,
          90,
          79,
          75,
          86,
          74,
          81,
          86,
          43,
          93,
          114,
          97,
          71
         ],
         "yaxis": "y"
        },
        {
         "hovertemplate": "Companies=Chime Financial Inc<br>Date=%{x}<br>Complaints=%{y}<extra></extra>",
         "legendgroup": "Chime Financial Inc",
         "line": {
          "color": "#1F77B4",
          "dash": "solid"
         },
         "mode": "lines",
         "name": "Chime Financial Inc",
         "showlegend": true,
         "type": "scattergl",
         "x": [
          "2020-04-30T00:00:00",
          "2020-05-31T00:00:00",
          "2020-06-30T00:00:00",
          "2020-07-31T00:00:00",
          "2020-08-31T00:00:00",
          "2020-09-30T00:00:00",
          "2020-10-31T00:00:00",
          "2020-11-30T00:00:00",
          "2020-12-31T00:00:00",
          "2021-01-31T00:00:00",
          "2021-02-28T00:00:00",
          "2021-03-31T00:00:00"
         ],
         "xaxis": "x",
         "y": [
          1,
          0,
          0,
          0,
          14,
          63,
          87,
          119,
          113,
          116,
          102,
          62
         ],
         "yaxis": "y"
        },
        {
         "hovertemplate": "Companies=Coinbase, Inc.<br>Date=%{x}<br>Complaints=%{y}<extra></extra>",
         "legendgroup": "Coinbase, Inc.",
         "line": {
          "color": "#FF7F0E",
          "dash": "solid"
         },
         "mode": "lines",
         "name": "Coinbase, Inc.",
         "showlegend": true,
         "type": "scattergl",
         "x": [
          "2018-01-31T00:00:00",
          "2018-02-28T00:00:00",
          "2018-03-31T00:00:00",
          "2018-04-30T00:00:00",
          "2018-05-31T00:00:00",
          "2018-06-30T00:00:00",
          "2018-07-31T00:00:00",
          "2018-08-31T00:00:00",
          "2018-09-30T00:00:00",
          "2018-10-31T00:00:00",
          "2018-11-30T00:00:00",
          "2018-12-31T00:00:00",
          "2019-01-31T00:00:00",
          "2019-02-28T00:00:00",
          "2019-03-31T00:00:00",
          "2019-04-30T00:00:00",
          "2019-05-31T00:00:00",
          "2019-06-30T00:00:00",
          "2019-07-31T00:00:00",
          "2019-08-31T00:00:00",
          "2019-09-30T00:00:00",
          "2019-10-31T00:00:00",
          "2019-11-30T00:00:00",
          "2019-12-31T00:00:00",
          "2020-01-31T00:00:00",
          "2020-02-29T00:00:00",
          "2020-03-31T00:00:00",
          "2020-04-30T00:00:00",
          "2020-05-31T00:00:00",
          "2020-06-30T00:00:00",
          "2020-07-31T00:00:00",
          "2020-08-31T00:00:00",
          "2020-09-30T00:00:00",
          "2020-10-31T00:00:00",
          "2020-11-30T00:00:00",
          "2020-12-31T00:00:00",
          "2021-01-31T00:00:00",
          "2021-02-28T00:00:00",
          "2021-03-31T00:00:00"
         ],
         "xaxis": "x",
         "y": [
          889,
          337,
          190,
          87,
          63,
          47,
          23,
          17,
          14,
          7,
          9,
          11,
          8,
          6,
          10,
          8,
          19,
          21,
          44,
          20,
          15,
          20,
          13,
          7,
          13,
          12,
          19,
          18,
          36,
          25,
          39,
          27,
          24,
          19,
          31,
          58,
          117,
          126,
          110
         ],
         "yaxis": "y"
        },
        {
         "hovertemplate": "Companies=Colony Brands, Inc.<br>Date=%{x}<br>Complaints=%{y}<extra></extra>",
         "legendgroup": "Colony Brands, Inc.",
         "line": {
          "color": "#2CA02C",
          "dash": "solid"
         },
         "mode": "lines",
         "name": "Colony Brands, Inc.",
         "showlegend": true,
         "type": "scattergl",
         "x": [
          "2018-01-31T00:00:00",
          "2018-02-28T00:00:00",
          "2018-03-31T00:00:00",
          "2018-04-30T00:00:00",
          "2018-05-31T00:00:00",
          "2018-06-30T00:00:00",
          "2018-07-31T00:00:00",
          "2018-08-31T00:00:00",
          "2018-09-30T00:00:00",
          "2018-10-31T00:00:00",
          "2018-11-30T00:00:00",
          "2018-12-31T00:00:00",
          "2019-01-31T00:00:00",
          "2019-02-28T00:00:00",
          "2019-03-31T00:00:00",
          "2019-04-30T00:00:00",
          "2019-05-31T00:00:00",
          "2019-06-30T00:00:00",
          "2019-07-31T00:00:00",
          "2019-08-31T00:00:00",
          "2019-09-30T00:00:00",
          "2019-10-31T00:00:00",
          "2019-11-30T00:00:00",
          "2019-12-31T00:00:00",
          "2020-01-31T00:00:00",
          "2020-02-29T00:00:00",
          "2020-03-31T00:00:00",
          "2020-04-30T00:00:00",
          "2020-05-31T00:00:00",
          "2020-06-30T00:00:00",
          "2020-07-31T00:00:00",
          "2020-08-31T00:00:00",
          "2020-09-30T00:00:00",
          "2020-10-31T00:00:00",
          "2020-11-30T00:00:00",
          "2020-12-31T00:00:00",
          "2021-01-31T00:00:00",
          "2021-02-28T00:00:00",
          "2021-03-31T00:00:00"
         ],
         "xaxis": "x",
         "y": [
          21,
          17,
          14,
          19,
          17,
          18,
          18,
          21,
          15,
          13,
          27,
          15,
          26,
          16,
          31,
          13,
          26,
          23,
          24,
          11,
          14,
          14,
          11,
          14,
          13,
          15,
          11,
          11,
          13,
          12,
          15,
          10,
          20,
          16,
          19,
          16,
          13,
          27,
          12
         ],
         "yaxis": "y"
        },
        {
         "hovertemplate": "Companies=DISCOVER BANK<br>Date=%{x}<br>Complaints=%{y}<extra></extra>",
         "legendgroup": "DISCOVER BANK",
         "line": {
          "color": "#D62728",
          "dash": "solid"
         },
         "mode": "lines",
         "name": "DISCOVER BANK",
         "showlegend": true,
         "type": "scattergl",
         "x": [
          "2018-01-31T00:00:00",
          "2018-02-28T00:00:00",
          "2018-03-31T00:00:00",
          "2018-04-30T00:00:00",
          "2018-05-31T00:00:00",
          "2018-06-30T00:00:00",
          "2018-07-31T00:00:00",
          "2018-08-31T00:00:00",
          "2018-09-30T00:00:00",
          "2018-10-31T00:00:00",
          "2018-11-30T00:00:00",
          "2018-12-31T00:00:00",
          "2019-01-31T00:00:00",
          "2019-02-28T00:00:00",
          "2019-03-31T00:00:00",
          "2019-04-30T00:00:00",
          "2019-05-31T00:00:00",
          "2019-06-30T00:00:00",
          "2019-07-31T00:00:00",
          "2019-08-31T00:00:00",
          "2019-09-30T00:00:00",
          "2019-10-31T00:00:00",
          "2019-11-30T00:00:00",
          "2019-12-31T00:00:00",
          "2020-01-31T00:00:00",
          "2020-02-29T00:00:00",
          "2020-03-31T00:00:00",
          "2020-04-30T00:00:00",
          "2020-05-31T00:00:00",
          "2020-06-30T00:00:00",
          "2020-07-31T00:00:00",
          "2020-08-31T00:00:00",
          "2020-09-30T00:00:00",
          "2020-10-31T00:00:00",
          "2020-11-30T00:00:00",
          "2020-12-31T00:00:00",
          "2021-01-31T00:00:00",
          "2021-02-28T00:00:00",
          "2021-03-31T00:00:00"
         ],
         "xaxis": "x",
         "y": [
          172,
          174,
          195,
          182,
          183,
          165,
          140,
          200,
          151,
          147,
          161,
          138,
          145,
          148,
          177,
          168,
          178,
          193,
          195,
          188,
          171,
          209,
          179,
          190,
          208,
          203,
          227,
          243,
          198,
          216,
          205,
          224,
          177,
          235,
          215,
          228,
          220,
          277,
          153
         ],
         "yaxis": "y"
        },
        {
         "hovertemplate": "Companies=ENCORE CAPITAL GROUP INC.<br>Date=%{x}<br>Complaints=%{y}<extra></extra>",
         "legendgroup": "ENCORE CAPITAL GROUP INC.",
         "line": {
          "color": "#9467BD",
          "dash": "solid"
         },
         "mode": "lines",
         "name": "ENCORE CAPITAL GROUP INC.",
         "showlegend": true,
         "type": "scattergl",
         "x": [
          "2018-01-31T00:00:00",
          "2018-02-28T00:00:00",
          "2018-03-31T00:00:00",
          "2018-04-30T00:00:00",
          "2018-05-31T00:00:00",
          "2018-06-30T00:00:00",
          "2018-07-31T00:00:00",
          "2018-08-31T00:00:00",
          "2018-09-30T00:00:00",
          "2018-10-31T00:00:00",
          "2018-11-30T00:00:00",
          "2018-12-31T00:00:00",
          "2019-01-31T00:00:00",
          "2019-02-28T00:00:00",
          "2019-03-31T00:00:00",
          "2019-04-30T00:00:00",
          "2019-05-31T00:00:00",
          "2019-06-30T00:00:00",
          "2019-07-31T00:00:00",
          "2019-08-31T00:00:00",
          "2019-09-30T00:00:00",
          "2019-10-31T00:00:00",
          "2019-11-30T00:00:00",
          "2019-12-31T00:00:00",
          "2020-01-31T00:00:00",
          "2020-02-29T00:00:00",
          "2020-03-31T00:00:00",
          "2020-04-30T00:00:00",
          "2020-05-31T00:00:00",
          "2020-06-30T00:00:00",
          "2020-07-31T00:00:00",
          "2020-08-31T00:00:00",
          "2020-09-30T00:00:00",
          "2020-10-31T00:00:00",
          "2020-11-30T00:00:00",
          "2020-12-31T00:00:00",
          "2021-01-31T00:00:00",
          "2021-02-28T00:00:00",
          "2021-03-31T00:00:00"
         ],
         "xaxis": "x",
         "y": [
          152,
          163,
          196,
          183,
          182,
          162,
          147,
          142,
          130,
          159,
          127,
          108,
          100,
          119,
          181,
          165,
          168,
          129,
          122,
          132,
          160,
          126,
          129,
          145,
          166,
          171,
          184,
          138,
          149,
          141,
          136,
          164,
          181,
          170,
          169,
          180,
          174,
          245,
          131
         ],
         "yaxis": "y"
        },
        {
         "hovertemplate": "Companies=EQUIFAX, INC.<br>Date=%{x}<br>Complaints=%{y}<extra></extra>",
         "legendgroup": "EQUIFAX, INC.",
         "line": {
          "color": "#8C564B",
          "dash": "solid"
         },
         "mode": "lines",
         "name": "EQUIFAX, INC.",
         "showlegend": true,
         "type": "scattergl",
         "x": [
          "2018-01-31T00:00:00",
          "2018-02-28T00:00:00",
          "2018-03-31T00:00:00",
          "2018-04-30T00:00:00",
          "2018-05-31T00:00:00",
          "2018-06-30T00:00:00",
          "2018-07-31T00:00:00",
          "2018-08-31T00:00:00",
          "2018-09-30T00:00:00",
          "2018-10-31T00:00:00",
          "2018-11-30T00:00:00",
          "2018-12-31T00:00:00",
          "2019-01-31T00:00:00",
          "2019-02-28T00:00:00",
          "2019-03-31T00:00:00",
          "2019-04-30T00:00:00",
          "2019-05-31T00:00:00",
          "2019-06-30T00:00:00",
          "2019-07-31T00:00:00",
          "2019-08-31T00:00:00",
          "2019-09-30T00:00:00",
          "2019-10-31T00:00:00",
          "2019-11-30T00:00:00",
          "2019-12-31T00:00:00",
          "2020-01-31T00:00:00",
          "2020-02-29T00:00:00",
          "2020-03-31T00:00:00",
          "2020-04-30T00:00:00",
          "2020-05-31T00:00:00",
          "2020-06-30T00:00:00",
          "2020-07-31T00:00:00",
          "2020-08-31T00:00:00",
          "2020-09-30T00:00:00",
          "2020-10-31T00:00:00",
          "2020-11-30T00:00:00",
          "2020-12-31T00:00:00",
          "2021-01-31T00:00:00",
          "2021-02-28T00:00:00",
          "2021-03-31T00:00:00"
         ],
         "xaxis": "x",
         "y": [
          2376,
          2484,
          2406,
          2647,
          2529,
          2311,
          2523,
          2590,
          2369,
          2818,
          2586,
          2418,
          2354,
          2571,
          3206,
          3145,
          3338,
          3519,
          3957,
          4058,
          3743,
          4048,
          3570,
          3409,
          4446,
          3971,
          5202,
          5995,
          6572,
          6322,
          6875,
          6562,
          7133,
          8019,
          7634,
          9657,
          9299,
          6729,
          5305
         ],
         "yaxis": "y"
        },
        {
         "hovertemplate": "Companies=Experian Information Solutions Inc.<br>Date=%{x}<br>Complaints=%{y}<extra></extra>",
         "legendgroup": "Experian Information Solutions Inc.",
         "line": {
          "color": "#E377C2",
          "dash": "solid"
         },
         "mode": "lines",
         "name": "Experian Information Solutions Inc.",
         "showlegend": true,
         "type": "scattergl",
         "x": [
          "2018-01-31T00:00:00",
          "2018-02-28T00:00:00",
          "2018-03-31T00:00:00",
          "2018-04-30T00:00:00",
          "2018-05-31T00:00:00",
          "2018-06-30T00:00:00",
          "2018-07-31T00:00:00",
          "2018-08-31T00:00:00",
          "2018-09-30T00:00:00",
          "2018-10-31T00:00:00",
          "2018-11-30T00:00:00",
          "2018-12-31T00:00:00",
          "2019-01-31T00:00:00",
          "2019-02-28T00:00:00",
          "2019-03-31T00:00:00",
          "2019-04-30T00:00:00",
          "2019-05-31T00:00:00",
          "2019-06-30T00:00:00",
          "2019-07-31T00:00:00",
          "2019-08-31T00:00:00",
          "2019-09-30T00:00:00",
          "2019-10-31T00:00:00",
          "2019-11-30T00:00:00",
          "2019-12-31T00:00:00",
          "2020-01-31T00:00:00",
          "2020-02-29T00:00:00",
          "2020-03-31T00:00:00",
          "2020-04-30T00:00:00",
          "2020-05-31T00:00:00",
          "2020-06-30T00:00:00",
          "2020-07-31T00:00:00",
          "2020-08-31T00:00:00",
          "2020-09-30T00:00:00",
          "2020-10-31T00:00:00",
          "2020-11-30T00:00:00",
          "2020-12-31T00:00:00",
          "2021-01-31T00:00:00",
          "2021-02-28T00:00:00",
          "2021-03-31T00:00:00"
         ],
         "xaxis": "x",
         "y": [
          2539,
          2578,
          2648,
          2825,
          2548,
          2375,
          2469,
          2566,
          2165,
          2629,
          2341,
          2238,
          2280,
          2587,
          2981,
          2912,
          3167,
          3164,
          3235,
          3577,
          3194,
          3625,
          3179,
          3103,
          4065,
          3890,
          4866,
          6202,
          7276,
          7549,
          8262,
          8119,
          8632,
          9943,
          9159,
          11258,
          3633,
          2098,
          1780
         ],
         "yaxis": "y"
        },
        {
         "hovertemplate": "Companies=JPMORGAN CHASE & CO.<br>Date=%{x}<br>Complaints=%{y}<extra></extra>",
         "legendgroup": "JPMORGAN CHASE & CO.",
         "line": {
          "color": "#7F7F7F",
          "dash": "solid"
         },
         "mode": "lines",
         "name": "JPMORGAN CHASE & CO.",
         "showlegend": true,
         "type": "scattergl",
         "x": [
          "2018-01-31T00:00:00",
          "2018-02-28T00:00:00",
          "2018-03-31T00:00:00",
          "2018-04-30T00:00:00",
          "2018-05-31T00:00:00",
          "2018-06-30T00:00:00",
          "2018-07-31T00:00:00",
          "2018-08-31T00:00:00",
          "2018-09-30T00:00:00",
          "2018-10-31T00:00:00",
          "2018-11-30T00:00:00",
          "2018-12-31T00:00:00",
          "2019-01-31T00:00:00",
          "2019-02-28T00:00:00",
          "2019-03-31T00:00:00",
          "2019-04-30T00:00:00",
          "2019-05-31T00:00:00",
          "2019-06-30T00:00:00",
          "2019-07-31T00:00:00",
          "2019-08-31T00:00:00",
          "2019-09-30T00:00:00",
          "2019-10-31T00:00:00",
          "2019-11-30T00:00:00",
          "2019-12-31T00:00:00",
          "2020-01-31T00:00:00",
          "2020-02-29T00:00:00",
          "2020-03-31T00:00:00",
          "2020-04-30T00:00:00",
          "2020-05-31T00:00:00",
          "2020-06-30T00:00:00",
          "2020-07-31T00:00:00",
          "2020-08-31T00:00:00",
          "2020-09-30T00:00:00",
          "2020-10-31T00:00:00",
          "2020-11-30T00:00:00",
          "2020-12-31T00:00:00",
          "2021-01-31T00:00:00",
          "2021-02-28T00:00:00",
          "2021-03-31T00:00:00"
         ],
         "xaxis": "x",
         "y": [
          745,
          723,
          811,
          920,
          828,
          683,
          722,
          746,
          640,
          727,
          695,
          666,
          756,
          634,
          756,
          749,
          778,
          710,
          688,
          762,
          659,
          657,
          541,
          570,
          616,
          597,
          707,
          832,
          780,
          868,
          941,
          831,
          749,
          776,
          740,
          785,
          793,
          816,
          461
         ],
         "yaxis": "y"
        },
        {
         "hovertemplate": "Companies=Mobiloans, LLC<br>Date=%{x}<br>Complaints=%{y}<extra></extra>",
         "legendgroup": "Mobiloans, LLC",
         "line": {
          "color": "#BCBD22",
          "dash": "solid"
         },
         "mode": "lines",
         "name": "Mobiloans, LLC",
         "showlegend": true,
         "type": "scattergl",
         "x": [
          "2018-01-31T00:00:00",
          "2018-02-28T00:00:00",
          "2018-03-31T00:00:00",
          "2018-04-30T00:00:00",
          "2018-05-31T00:00:00",
          "2018-06-30T00:00:00",
          "2018-07-31T00:00:00",
          "2018-08-31T00:00:00",
          "2018-09-30T00:00:00",
          "2018-10-31T00:00:00",
          "2018-11-30T00:00:00",
          "2018-12-31T00:00:00",
          "2019-01-31T00:00:00",
          "2019-02-28T00:00:00",
          "2019-03-31T00:00:00",
          "2019-04-30T00:00:00",
          "2019-05-31T00:00:00",
          "2019-06-30T00:00:00",
          "2019-07-31T00:00:00",
          "2019-08-31T00:00:00",
          "2019-09-30T00:00:00",
          "2019-10-31T00:00:00",
          "2019-11-30T00:00:00",
          "2019-12-31T00:00:00",
          "2020-01-31T00:00:00",
          "2020-02-29T00:00:00",
          "2020-03-31T00:00:00",
          "2020-04-30T00:00:00",
          "2020-05-31T00:00:00",
          "2020-06-30T00:00:00",
          "2020-07-31T00:00:00",
          "2020-08-31T00:00:00",
          "2020-09-30T00:00:00",
          "2020-10-31T00:00:00",
          "2020-11-30T00:00:00",
          "2020-12-31T00:00:00",
          "2021-01-31T00:00:00",
          "2021-02-28T00:00:00"
         ],
         "xaxis": "x",
         "y": [
          3,
          6,
          5,
          5,
          4,
          5,
          2,
          6,
          3,
          9,
          3,
          3,
          5,
          4,
          3,
          3,
          4,
          5,
          10,
          4,
          2,
          6,
          3,
          6,
          5,
          5,
          4,
          3,
          2,
          3,
          4,
          6,
          2,
          3,
          3,
          1,
          2,
          2
         ],
         "yaxis": "y"
        },
        {
         "hovertemplate": "Companies=NAVY FEDERAL CREDIT UNION<br>Date=%{x}<br>Complaints=%{y}<extra></extra>",
         "legendgroup": "NAVY FEDERAL CREDIT UNION",
         "line": {
          "color": "#17BECF",
          "dash": "solid"
         },
         "mode": "lines",
         "name": "NAVY FEDERAL CREDIT UNION",
         "showlegend": true,
         "type": "scattergl",
         "x": [
          "2018-01-31T00:00:00",
          "2018-02-28T00:00:00",
          "2018-03-31T00:00:00",
          "2018-04-30T00:00:00",
          "2018-05-31T00:00:00",
          "2018-06-30T00:00:00",
          "2018-07-31T00:00:00",
          "2018-08-31T00:00:00",
          "2018-09-30T00:00:00",
          "2018-10-31T00:00:00",
          "2018-11-30T00:00:00",
          "2018-12-31T00:00:00",
          "2019-01-31T00:00:00",
          "2019-02-28T00:00:00",
          "2019-03-31T00:00:00",
          "2019-04-30T00:00:00",
          "2019-05-31T00:00:00",
          "2019-06-30T00:00:00",
          "2019-07-31T00:00:00",
          "2019-08-31T00:00:00",
          "2019-09-30T00:00:00",
          "2019-10-31T00:00:00",
          "2019-11-30T00:00:00",
          "2019-12-31T00:00:00",
          "2020-01-31T00:00:00",
          "2020-02-29T00:00:00",
          "2020-03-31T00:00:00",
          "2020-04-30T00:00:00",
          "2020-05-31T00:00:00",
          "2020-06-30T00:00:00",
          "2020-07-31T00:00:00",
          "2020-08-31T00:00:00",
          "2020-09-30T00:00:00",
          "2020-10-31T00:00:00",
          "2020-11-30T00:00:00",
          "2020-12-31T00:00:00",
          "2021-01-31T00:00:00",
          "2021-02-28T00:00:00",
          "2021-03-31T00:00:00"
         ],
         "xaxis": "x",
         "y": [
          103,
          112,
          105,
          77,
          107,
          99,
          78,
          114,
          67,
          96,
          88,
          87,
          88,
          126,
          74,
          92,
          95,
          84,
          101,
          118,
          94,
          111,
          96,
          83,
          103,
          94,
          121,
          124,
          111,
          137,
          144,
          159,
          125,
          126,
          116,
          138,
          162,
          150,
          206
         ],
         "yaxis": "y"
        },
        {
         "hovertemplate": "Companies=Navient Solutions, LLC.<br>Date=%{x}<br>Complaints=%{y}<extra></extra>",
         "legendgroup": "Navient Solutions, LLC.",
         "line": {
          "color": "#1F77B4",
          "dash": "solid"
         },
         "mode": "lines",
         "name": "Navient Solutions, LLC.",
         "showlegend": true,
         "type": "scattergl",
         "x": [
          "2018-01-31T00:00:00",
          "2018-02-28T00:00:00",
          "2018-03-31T00:00:00",
          "2018-04-30T00:00:00",
          "2018-05-31T00:00:00",
          "2018-06-30T00:00:00",
          "2018-07-31T00:00:00",
          "2018-08-31T00:00:00",
          "2018-09-30T00:00:00",
          "2018-10-31T00:00:00",
          "2018-11-30T00:00:00",
          "2018-12-31T00:00:00",
          "2019-01-31T00:00:00",
          "2019-02-28T00:00:00",
          "2019-03-31T00:00:00",
          "2019-04-30T00:00:00",
          "2019-05-31T00:00:00",
          "2019-06-30T00:00:00",
          "2019-07-31T00:00:00",
          "2019-08-31T00:00:00",
          "2019-09-30T00:00:00",
          "2019-10-31T00:00:00",
          "2019-11-30T00:00:00",
          "2019-12-31T00:00:00",
          "2020-01-31T00:00:00",
          "2020-02-29T00:00:00",
          "2020-03-31T00:00:00",
          "2020-04-30T00:00:00",
          "2020-05-31T00:00:00",
          "2020-06-30T00:00:00",
          "2020-07-31T00:00:00",
          "2020-08-31T00:00:00",
          "2020-09-30T00:00:00",
          "2020-10-31T00:00:00",
          "2020-11-30T00:00:00",
          "2020-12-31T00:00:00",
          "2021-01-31T00:00:00",
          "2021-02-28T00:00:00",
          "2021-03-31T00:00:00"
         ],
         "xaxis": "x",
         "y": [
          529,
          430,
          497,
          484,
          444,
          361,
          434,
          425,
          356,
          372,
          358,
          412,
          455,
          439,
          396,
          329,
          268,
          324,
          305,
          288,
          231,
          313,
          254,
          194,
          223,
          222,
          205,
          209,
          191,
          183,
          159,
          155,
          110,
          162,
          166,
          166,
          187,
          150,
          112
         ],
         "yaxis": "y"
        },
        {
         "hovertemplate": "Companies=PNC Bank N.A.<br>Date=%{x}<br>Complaints=%{y}<extra></extra>",
         "legendgroup": "PNC Bank N.A.",
         "line": {
          "color": "#FF7F0E",
          "dash": "solid"
         },
         "mode": "lines",
         "name": "PNC Bank N.A.",
         "showlegend": true,
         "type": "scattergl",
         "x": [
          "2018-01-31T00:00:00",
          "2018-02-28T00:00:00",
          "2018-03-31T00:00:00",
          "2018-04-30T00:00:00",
          "2018-05-31T00:00:00",
          "2018-06-30T00:00:00",
          "2018-07-31T00:00:00",
          "2018-08-31T00:00:00",
          "2018-09-30T00:00:00",
          "2018-10-31T00:00:00",
          "2018-11-30T00:00:00",
          "2018-12-31T00:00:00",
          "2019-01-31T00:00:00",
          "2019-02-28T00:00:00",
          "2019-03-31T00:00:00",
          "2019-04-30T00:00:00",
          "2019-05-31T00:00:00",
          "2019-06-30T00:00:00",
          "2019-07-31T00:00:00",
          "2019-08-31T00:00:00",
          "2019-09-30T00:00:00",
          "2019-10-31T00:00:00",
          "2019-11-30T00:00:00",
          "2019-12-31T00:00:00",
          "2020-01-31T00:00:00",
          "2020-02-29T00:00:00",
          "2020-03-31T00:00:00",
          "2020-04-30T00:00:00",
          "2020-05-31T00:00:00",
          "2020-06-30T00:00:00",
          "2020-07-31T00:00:00",
          "2020-08-31T00:00:00",
          "2020-09-30T00:00:00",
          "2020-10-31T00:00:00",
          "2020-11-30T00:00:00",
          "2020-12-31T00:00:00",
          "2021-01-31T00:00:00",
          "2021-02-28T00:00:00",
          "2021-03-31T00:00:00"
         ],
         "xaxis": "x",
         "y": [
          105,
          126,
          140,
          192,
          140,
          141,
          166,
          151,
          117,
          146,
          123,
          103,
          115,
          123,
          142,
          149,
          128,
          130,
          112,
          125,
          119,
          144,
          106,
          113,
          115,
          119,
          125,
          332,
          318,
          1065,
          1062,
          458,
          148,
          122,
          94,
          128,
          124,
          120,
          72
         ],
         "yaxis": "y"
        },
        {
         "hovertemplate": "Companies=PORTFOLIO RECOVERY ASSOCIATES INC<br>Date=%{x}<br>Complaints=%{y}<extra></extra>",
         "legendgroup": "PORTFOLIO RECOVERY ASSOCIATES INC",
         "line": {
          "color": "#2CA02C",
          "dash": "solid"
         },
         "mode": "lines",
         "name": "PORTFOLIO RECOVERY ASSOCIATES INC",
         "showlegend": true,
         "type": "scattergl",
         "x": [
          "2018-01-31T00:00:00",
          "2018-02-28T00:00:00",
          "2018-03-31T00:00:00",
          "2018-04-30T00:00:00",
          "2018-05-31T00:00:00",
          "2018-06-30T00:00:00",
          "2018-07-31T00:00:00",
          "2018-08-31T00:00:00",
          "2018-09-30T00:00:00",
          "2018-10-31T00:00:00",
          "2018-11-30T00:00:00",
          "2018-12-31T00:00:00",
          "2019-01-31T00:00:00",
          "2019-02-28T00:00:00",
          "2019-03-31T00:00:00",
          "2019-04-30T00:00:00",
          "2019-05-31T00:00:00",
          "2019-06-30T00:00:00",
          "2019-07-31T00:00:00",
          "2019-08-31T00:00:00",
          "2019-09-30T00:00:00",
          "2019-10-31T00:00:00",
          "2019-11-30T00:00:00",
          "2019-12-31T00:00:00",
          "2020-01-31T00:00:00",
          "2020-02-29T00:00:00",
          "2020-03-31T00:00:00",
          "2020-04-30T00:00:00",
          "2020-05-31T00:00:00",
          "2020-06-30T00:00:00",
          "2020-07-31T00:00:00",
          "2020-08-31T00:00:00",
          "2020-09-30T00:00:00",
          "2020-10-31T00:00:00",
          "2020-11-30T00:00:00",
          "2020-12-31T00:00:00",
          "2021-01-31T00:00:00",
          "2021-02-28T00:00:00",
          "2021-03-31T00:00:00"
         ],
         "xaxis": "x",
         "y": [
          255,
          246,
          301,
          282,
          307,
          220,
          232,
          228,
          205,
          255,
          174,
          176,
          166,
          212,
          201,
          202,
          192,
          199,
          186,
          192,
          209,
          190,
          158,
          152,
          201,
          181,
          242,
          228,
          249,
          219,
          264,
          316,
          307,
          300,
          331,
          322,
          345,
          386,
          215
         ],
         "yaxis": "y"
        },
        {
         "hovertemplate": "Companies=Paypal Holdings, Inc<br>Date=%{x}<br>Complaints=%{y}<extra></extra>",
         "legendgroup": "Paypal Holdings, Inc",
         "line": {
          "color": "#D62728",
          "dash": "solid"
         },
         "mode": "lines",
         "name": "Paypal Holdings, Inc",
         "showlegend": true,
         "type": "scattergl",
         "x": [
          "2018-01-31T00:00:00",
          "2018-02-28T00:00:00",
          "2018-03-31T00:00:00",
          "2018-04-30T00:00:00",
          "2018-05-31T00:00:00",
          "2018-06-30T00:00:00",
          "2018-07-31T00:00:00",
          "2018-08-31T00:00:00",
          "2018-09-30T00:00:00",
          "2018-10-31T00:00:00",
          "2018-11-30T00:00:00",
          "2018-12-31T00:00:00",
          "2019-01-31T00:00:00",
          "2019-02-28T00:00:00",
          "2019-03-31T00:00:00",
          "2019-04-30T00:00:00",
          "2019-05-31T00:00:00",
          "2019-06-30T00:00:00",
          "2019-07-31T00:00:00",
          "2019-08-31T00:00:00",
          "2019-09-30T00:00:00",
          "2019-10-31T00:00:00",
          "2019-11-30T00:00:00",
          "2019-12-31T00:00:00",
          "2020-01-31T00:00:00",
          "2020-02-29T00:00:00",
          "2020-03-31T00:00:00",
          "2020-04-30T00:00:00",
          "2020-05-31T00:00:00",
          "2020-06-30T00:00:00",
          "2020-07-31T00:00:00",
          "2020-08-31T00:00:00",
          "2020-09-30T00:00:00",
          "2020-10-31T00:00:00",
          "2020-11-30T00:00:00",
          "2020-12-31T00:00:00",
          "2021-01-31T00:00:00",
          "2021-02-28T00:00:00",
          "2021-03-31T00:00:00"
         ],
         "xaxis": "x",
         "y": [
          77,
          82,
          72,
          83,
          73,
          78,
          69,
          95,
          72,
          88,
          90,
          108,
          120,
          126,
          129,
          122,
          142,
          137,
          148,
          128,
          142,
          145,
          147,
          142,
          124,
          122,
          124,
          190,
          221,
          271,
          277,
          267,
          216,
          230,
          191,
          264,
          234,
          486,
          335
         ],
         "yaxis": "y"
        },
        {
         "hovertemplate": "Companies=Premier Student Loan Center<br>Date=%{x}<br>Complaints=%{y}<extra></extra>",
         "legendgroup": "Premier Student Loan Center",
         "line": {
          "color": "#9467BD",
          "dash": "solid"
         },
         "mode": "lines",
         "name": "Premier Student Loan Center",
         "showlegend": true,
         "type": "scattergl",
         "x": [
          "2018-01-31T00:00:00",
          "2018-02-28T00:00:00",
          "2018-03-31T00:00:00",
          "2018-04-30T00:00:00",
          "2018-05-31T00:00:00",
          "2018-06-30T00:00:00",
          "2018-07-31T00:00:00",
          "2018-08-31T00:00:00",
          "2018-09-30T00:00:00",
          "2018-10-31T00:00:00",
          "2018-11-30T00:00:00",
          "2018-12-31T00:00:00",
          "2019-01-31T00:00:00",
          "2019-02-28T00:00:00",
          "2019-03-31T00:00:00",
          "2019-04-30T00:00:00",
          "2019-05-31T00:00:00",
          "2019-06-30T00:00:00",
          "2019-07-31T00:00:00",
          "2019-08-31T00:00:00",
          "2019-09-30T00:00:00",
          "2019-10-31T00:00:00",
          "2019-11-30T00:00:00",
          "2019-12-31T00:00:00",
          "2020-01-31T00:00:00",
          "2020-02-29T00:00:00",
          "2020-03-31T00:00:00",
          "2020-04-30T00:00:00",
          "2020-05-31T00:00:00",
          "2020-06-30T00:00:00",
          "2020-07-31T00:00:00",
          "2020-08-31T00:00:00",
          "2020-09-30T00:00:00",
          "2020-10-31T00:00:00",
          "2020-11-30T00:00:00",
          "2020-12-31T00:00:00",
          "2021-01-31T00:00:00"
         ],
         "xaxis": "x",
         "y": [
          2,
          7,
          2,
          4,
          4,
          9,
          7,
          7,
          4,
          3,
          5,
          3,
          9,
          2,
          6,
          5,
          5,
          2,
          4,
          1,
          2,
          6,
          20,
          18,
          15,
          13,
          8,
          2,
          1,
          1,
          1,
          0,
          0,
          2,
          2,
          1,
          2
         ],
         "yaxis": "y"
        },
        {
         "hovertemplate": "Companies=SYNCHRONY FINANCIAL<br>Date=%{x}<br>Complaints=%{y}<extra></extra>",
         "legendgroup": "SYNCHRONY FINANCIAL",
         "line": {
          "color": "#8C564B",
          "dash": "solid"
         },
         "mode": "lines",
         "name": "SYNCHRONY FINANCIAL",
         "showlegend": true,
         "type": "scattergl",
         "x": [
          "2018-01-31T00:00:00",
          "2018-02-28T00:00:00",
          "2018-03-31T00:00:00",
          "2018-04-30T00:00:00",
          "2018-05-31T00:00:00",
          "2018-06-30T00:00:00",
          "2018-07-31T00:00:00",
          "2018-08-31T00:00:00",
          "2018-09-30T00:00:00",
          "2018-10-31T00:00:00",
          "2018-11-30T00:00:00",
          "2018-12-31T00:00:00",
          "2019-01-31T00:00:00",
          "2019-02-28T00:00:00",
          "2019-03-31T00:00:00",
          "2019-04-30T00:00:00",
          "2019-05-31T00:00:00",
          "2019-06-30T00:00:00",
          "2019-07-31T00:00:00",
          "2019-08-31T00:00:00",
          "2019-09-30T00:00:00",
          "2019-10-31T00:00:00",
          "2019-11-30T00:00:00",
          "2019-12-31T00:00:00",
          "2020-01-31T00:00:00",
          "2020-02-29T00:00:00",
          "2020-03-31T00:00:00",
          "2020-04-30T00:00:00",
          "2020-05-31T00:00:00",
          "2020-06-30T00:00:00",
          "2020-07-31T00:00:00",
          "2020-08-31T00:00:00",
          "2020-09-30T00:00:00",
          "2020-10-31T00:00:00",
          "2020-11-30T00:00:00",
          "2020-12-31T00:00:00",
          "2021-01-31T00:00:00",
          "2021-02-28T00:00:00",
          "2021-03-31T00:00:00"
         ],
         "xaxis": "x",
         "y": [
          412,
          367,
          433,
          404,
          399,
          354,
          395,
          431,
          359,
          429,
          362,
          331,
          341,
          311,
          466,
          415,
          401,
          385,
          422,
          443,
          366,
          355,
          430,
          319,
          337,
          364,
          345,
          388,
          405,
          401,
          469,
          450,
          409,
          404,
          422,
          448,
          417,
          494,
          240
         ],
         "yaxis": "y"
        },
        {
         "hovertemplate": "Companies=Santander Consumer USA Holdings Inc.<br>Date=%{x}<br>Complaints=%{y}<extra></extra>",
         "legendgroup": "Santander Consumer USA Holdings Inc.",
         "line": {
          "color": "#E377C2",
          "dash": "solid"
         },
         "mode": "lines",
         "name": "Santander Consumer USA Holdings Inc.",
         "showlegend": true,
         "type": "scattergl",
         "x": [
          "2018-01-31T00:00:00",
          "2018-02-28T00:00:00",
          "2018-03-31T00:00:00",
          "2018-04-30T00:00:00",
          "2018-05-31T00:00:00",
          "2018-06-30T00:00:00",
          "2018-07-31T00:00:00",
          "2018-08-31T00:00:00",
          "2018-09-30T00:00:00",
          "2018-10-31T00:00:00",
          "2018-11-30T00:00:00",
          "2018-12-31T00:00:00",
          "2019-01-31T00:00:00",
          "2019-02-28T00:00:00",
          "2019-03-31T00:00:00",
          "2019-04-30T00:00:00",
          "2019-05-31T00:00:00",
          "2019-06-30T00:00:00",
          "2019-07-31T00:00:00",
          "2019-08-31T00:00:00",
          "2019-09-30T00:00:00",
          "2019-10-31T00:00:00",
          "2019-11-30T00:00:00",
          "2019-12-31T00:00:00",
          "2020-01-31T00:00:00",
          "2020-02-29T00:00:00",
          "2020-03-31T00:00:00",
          "2020-04-30T00:00:00",
          "2020-05-31T00:00:00",
          "2020-06-30T00:00:00",
          "2020-07-31T00:00:00",
          "2020-08-31T00:00:00",
          "2020-09-30T00:00:00",
          "2020-10-31T00:00:00",
          "2020-11-30T00:00:00",
          "2020-12-31T00:00:00",
          "2021-01-31T00:00:00",
          "2021-02-28T00:00:00",
          "2021-03-31T00:00:00"
         ],
         "xaxis": "x",
         "y": [
          118,
          119,
          119,
          122,
          113,
          102,
          105,
          118,
          109,
          110,
          101,
          91,
          88,
          105,
          112,
          114,
          110,
          108,
          118,
          93,
          100,
          102,
          97,
          78,
          88,
          91,
          122,
          120,
          174,
          173,
          178,
          200,
          170,
          219,
          196,
          184,
          230,
          225,
          130
         ],
         "yaxis": "y"
        },
        {
         "hovertemplate": "Companies=TD BANK US HOLDING COMPANY<br>Date=%{x}<br>Complaints=%{y}<extra></extra>",
         "legendgroup": "TD BANK US HOLDING COMPANY",
         "line": {
          "color": "#7F7F7F",
          "dash": "solid"
         },
         "mode": "lines",
         "name": "TD BANK US HOLDING COMPANY",
         "showlegend": true,
         "type": "scattergl",
         "x": [
          "2018-01-31T00:00:00",
          "2018-02-28T00:00:00",
          "2018-03-31T00:00:00",
          "2018-04-30T00:00:00",
          "2018-05-31T00:00:00",
          "2018-06-30T00:00:00",
          "2018-07-31T00:00:00",
          "2018-08-31T00:00:00",
          "2018-09-30T00:00:00",
          "2018-10-31T00:00:00",
          "2018-11-30T00:00:00",
          "2018-12-31T00:00:00",
          "2019-01-31T00:00:00",
          "2019-02-28T00:00:00",
          "2019-03-31T00:00:00",
          "2019-04-30T00:00:00",
          "2019-05-31T00:00:00",
          "2019-06-30T00:00:00",
          "2019-07-31T00:00:00",
          "2019-08-31T00:00:00",
          "2019-09-30T00:00:00",
          "2019-10-31T00:00:00",
          "2019-11-30T00:00:00",
          "2019-12-31T00:00:00",
          "2020-01-31T00:00:00",
          "2020-02-29T00:00:00",
          "2020-03-31T00:00:00",
          "2020-04-30T00:00:00",
          "2020-05-31T00:00:00",
          "2020-06-30T00:00:00",
          "2020-07-31T00:00:00",
          "2020-08-31T00:00:00",
          "2020-09-30T00:00:00",
          "2020-10-31T00:00:00",
          "2020-11-30T00:00:00",
          "2020-12-31T00:00:00",
          "2021-01-31T00:00:00",
          "2021-02-28T00:00:00",
          "2021-03-31T00:00:00"
         ],
         "xaxis": "x",
         "y": [
          307,
          155,
          205,
          215,
          146,
          158,
          157,
          185,
          138,
          167,
          145,
          139,
          146,
          123,
          150,
          150,
          148,
          153,
          170,
          195,
          187,
          162,
          149,
          147,
          162,
          160,
          160,
          186,
          203,
          202,
          224,
          250,
          225,
          214,
          216,
          246,
          265,
          276,
          131
         ],
         "yaxis": "y"
        },
        {
         "hovertemplate": "Companies=TRANSUNION INTERMEDIATE HOLDINGS, INC.<br>Date=%{x}<br>Complaints=%{y}<extra></extra>",
         "legendgroup": "TRANSUNION INTERMEDIATE HOLDINGS, INC.",
         "line": {
          "color": "#BCBD22",
          "dash": "solid"
         },
         "mode": "lines",
         "name": "TRANSUNION INTERMEDIATE HOLDINGS, INC.",
         "showlegend": true,
         "type": "scattergl",
         "x": [
          "2018-01-31T00:00:00",
          "2018-02-28T00:00:00",
          "2018-03-31T00:00:00",
          "2018-04-30T00:00:00",
          "2018-05-31T00:00:00",
          "2018-06-30T00:00:00",
          "2018-07-31T00:00:00",
          "2018-08-31T00:00:00",
          "2018-09-30T00:00:00",
          "2018-10-31T00:00:00",
          "2018-11-30T00:00:00",
          "2018-12-31T00:00:00",
          "2019-01-31T00:00:00",
          "2019-02-28T00:00:00",
          "2019-03-31T00:00:00",
          "2019-04-30T00:00:00",
          "2019-05-31T00:00:00",
          "2019-06-30T00:00:00",
          "2019-07-31T00:00:00",
          "2019-08-31T00:00:00",
          "2019-09-30T00:00:00",
          "2019-10-31T00:00:00",
          "2019-11-30T00:00:00",
          "2019-12-31T00:00:00",
          "2020-01-31T00:00:00",
          "2020-02-29T00:00:00",
          "2020-03-31T00:00:00",
          "2020-04-30T00:00:00",
          "2020-05-31T00:00:00",
          "2020-06-30T00:00:00",
          "2020-07-31T00:00:00",
          "2020-08-31T00:00:00",
          "2020-09-30T00:00:00",
          "2020-10-31T00:00:00",
          "2020-11-30T00:00:00",
          "2020-12-31T00:00:00",
          "2021-01-31T00:00:00",
          "2021-02-28T00:00:00",
          "2021-03-31T00:00:00"
         ],
         "xaxis": "x",
         "y": [
          2376,
          2310,
          2446,
          2599,
          2452,
          2190,
          2326,
          2429,
          2235,
          2596,
          2267,
          2126,
          2176,
          2460,
          2982,
          3042,
          3380,
          3409,
          3686,
          3931,
          3454,
          3765,
          3347,
          3242,
          4308,
          3881,
          5225,
          6339,
          7122,
          7090,
          7701,
          7579,
          7829,
          9131,
          8444,
          10456,
          11478,
          5328,
          8065
         ],
         "yaxis": "y"
        },
        {
         "hovertemplate": "Companies=U.S. BANCORP<br>Date=%{x}<br>Complaints=%{y}<extra></extra>",
         "legendgroup": "U.S. BANCORP",
         "line": {
          "color": "#17BECF",
          "dash": "solid"
         },
         "mode": "lines",
         "name": "U.S. BANCORP",
         "showlegend": true,
         "type": "scattergl",
         "x": [
          "2018-01-31T00:00:00",
          "2018-02-28T00:00:00",
          "2018-03-31T00:00:00",
          "2018-04-30T00:00:00",
          "2018-05-31T00:00:00",
          "2018-06-30T00:00:00",
          "2018-07-31T00:00:00",
          "2018-08-31T00:00:00",
          "2018-09-30T00:00:00",
          "2018-10-31T00:00:00",
          "2018-11-30T00:00:00",
          "2018-12-31T00:00:00",
          "2019-01-31T00:00:00",
          "2019-02-28T00:00:00",
          "2019-03-31T00:00:00",
          "2019-04-30T00:00:00",
          "2019-05-31T00:00:00",
          "2019-06-30T00:00:00",
          "2019-07-31T00:00:00",
          "2019-08-31T00:00:00",
          "2019-09-30T00:00:00",
          "2019-10-31T00:00:00",
          "2019-11-30T00:00:00",
          "2019-12-31T00:00:00",
          "2020-01-31T00:00:00",
          "2020-02-29T00:00:00",
          "2020-03-31T00:00:00",
          "2020-04-30T00:00:00",
          "2020-05-31T00:00:00",
          "2020-06-30T00:00:00",
          "2020-07-31T00:00:00",
          "2020-08-31T00:00:00",
          "2020-09-30T00:00:00",
          "2020-10-31T00:00:00",
          "2020-11-30T00:00:00",
          "2020-12-31T00:00:00",
          "2021-01-31T00:00:00",
          "2021-02-28T00:00:00",
          "2021-03-31T00:00:00"
         ],
         "xaxis": "x",
         "y": [
          205,
          185,
          227,
          257,
          185,
          173,
          175,
          229,
          183,
          205,
          173,
          194,
          177,
          150,
          220,
          194,
          198,
          203,
          241,
          218,
          220,
          235,
          206,
          211,
          214,
          211,
          226,
          382,
          261,
          289,
          380,
          420,
          446,
          487,
          444,
          394,
          418,
          379,
          258
         ],
         "yaxis": "y"
        },
        {
         "hovertemplate": "Companies=WELLS FARGO & COMPANY<br>Date=%{x}<br>Complaints=%{y}<extra></extra>",
         "legendgroup": "WELLS FARGO & COMPANY",
         "line": {
          "color": "#1F77B4",
          "dash": "solid"
         },
         "mode": "lines",
         "name": "WELLS FARGO & COMPANY",
         "showlegend": true,
         "type": "scattergl",
         "x": [
          "2018-01-31T00:00:00",
          "2018-02-28T00:00:00",
          "2018-03-31T00:00:00",
          "2018-04-30T00:00:00",
          "2018-05-31T00:00:00",
          "2018-06-30T00:00:00",
          "2018-07-31T00:00:00",
          "2018-08-31T00:00:00",
          "2018-09-30T00:00:00",
          "2018-10-31T00:00:00",
          "2018-11-30T00:00:00",
          "2018-12-31T00:00:00",
          "2019-01-31T00:00:00",
          "2019-02-28T00:00:00",
          "2019-03-31T00:00:00",
          "2019-04-30T00:00:00",
          "2019-05-31T00:00:00",
          "2019-06-30T00:00:00",
          "2019-07-31T00:00:00",
          "2019-08-31T00:00:00",
          "2019-09-30T00:00:00",
          "2019-10-31T00:00:00",
          "2019-11-30T00:00:00",
          "2019-12-31T00:00:00",
          "2020-01-31T00:00:00",
          "2020-02-29T00:00:00",
          "2020-03-31T00:00:00",
          "2020-04-30T00:00:00",
          "2020-05-31T00:00:00",
          "2020-06-30T00:00:00",
          "2020-07-31T00:00:00",
          "2020-08-31T00:00:00",
          "2020-09-30T00:00:00",
          "2020-10-31T00:00:00",
          "2020-11-30T00:00:00",
          "2020-12-31T00:00:00",
          "2021-01-31T00:00:00",
          "2021-02-28T00:00:00",
          "2021-03-31T00:00:00"
         ],
         "xaxis": "x",
         "y": [
          714,
          697,
          842,
          1015,
          818,
          706,
          696,
          776,
          658,
          672,
          577,
          618,
          600,
          659,
          743,
          674,
          718,
          649,
          686,
          602,
          512,
          595,
          478,
          507,
          561,
          557,
          608,
          605,
          645,
          677,
          704,
          664,
          675,
          654,
          565,
          619,
          613,
          639,
          424
         ],
         "yaxis": "y"
        }
       ],
       "layout": {
        "height": 600,
        "legend": {
         "orientation": "h",
         "title": {},
         "tracegroupgap": 0,
         "x": 0.7,
         "xanchor": "center",
         "y": 1,
         "yanchor": "bottom"
        },
        "template": {
         "data": {
          "bar": [
           {
            "error_x": {
             "color": "rgb(36,36,36)"
            },
            "error_y": {
             "color": "rgb(36,36,36)"
            },
            "marker": {
             "line": {
              "color": "white",
              "width": 0.5
             }
            },
            "type": "bar"
           }
          ],
          "barpolar": [
           {
            "marker": {
             "line": {
              "color": "white",
              "width": 0.5
             }
            },
            "type": "barpolar"
           }
          ],
          "carpet": [
           {
            "aaxis": {
             "endlinecolor": "rgb(36,36,36)",
             "gridcolor": "white",
             "linecolor": "white",
             "minorgridcolor": "white",
             "startlinecolor": "rgb(36,36,36)"
            },
            "baxis": {
             "endlinecolor": "rgb(36,36,36)",
             "gridcolor": "white",
             "linecolor": "white",
             "minorgridcolor": "white",
             "startlinecolor": "rgb(36,36,36)"
            },
            "type": "carpet"
           }
          ],
          "choropleth": [
           {
            "colorbar": {
             "outlinewidth": 1,
             "tickcolor": "rgb(36,36,36)",
             "ticks": "outside"
            },
            "type": "choropleth"
           }
          ],
          "contour": [
           {
            "colorbar": {
             "outlinewidth": 1,
             "tickcolor": "rgb(36,36,36)",
             "ticks": "outside"
            },
            "colorscale": [
             [
              0,
              "#440154"
             ],
             [
              0.1111111111111111,
              "#482878"
             ],
             [
              0.2222222222222222,
              "#3e4989"
             ],
             [
              0.3333333333333333,
              "#31688e"
             ],
             [
              0.4444444444444444,
              "#26828e"
             ],
             [
              0.5555555555555556,
              "#1f9e89"
             ],
             [
              0.6666666666666666,
              "#35b779"
             ],
             [
              0.7777777777777778,
              "#6ece58"
             ],
             [
              0.8888888888888888,
              "#b5de2b"
             ],
             [
              1,
              "#fde725"
             ]
            ],
            "type": "contour"
           }
          ],
          "contourcarpet": [
           {
            "colorbar": {
             "outlinewidth": 1,
             "tickcolor": "rgb(36,36,36)",
             "ticks": "outside"
            },
            "type": "contourcarpet"
           }
          ],
          "heatmap": [
           {
            "colorbar": {
             "outlinewidth": 1,
             "tickcolor": "rgb(36,36,36)",
             "ticks": "outside"
            },
            "colorscale": [
             [
              0,
              "#440154"
             ],
             [
              0.1111111111111111,
              "#482878"
             ],
             [
              0.2222222222222222,
              "#3e4989"
             ],
             [
              0.3333333333333333,
              "#31688e"
             ],
             [
              0.4444444444444444,
              "#26828e"
             ],
             [
              0.5555555555555556,
              "#1f9e89"
             ],
             [
              0.6666666666666666,
              "#35b779"
             ],
             [
              0.7777777777777778,
              "#6ece58"
             ],
             [
              0.8888888888888888,
              "#b5de2b"
             ],
             [
              1,
              "#fde725"
             ]
            ],
            "type": "heatmap"
           }
          ],
          "heatmapgl": [
           {
            "colorbar": {
             "outlinewidth": 1,
             "tickcolor": "rgb(36,36,36)",
             "ticks": "outside"
            },
            "colorscale": [
             [
              0,
              "#440154"
             ],
             [
              0.1111111111111111,
              "#482878"
             ],
             [
              0.2222222222222222,
              "#3e4989"
             ],
             [
              0.3333333333333333,
              "#31688e"
             ],
             [
              0.4444444444444444,
              "#26828e"
             ],
             [
              0.5555555555555556,
              "#1f9e89"
             ],
             [
              0.6666666666666666,
              "#35b779"
             ],
             [
              0.7777777777777778,
              "#6ece58"
             ],
             [
              0.8888888888888888,
              "#b5de2b"
             ],
             [
              1,
              "#fde725"
             ]
            ],
            "type": "heatmapgl"
           }
          ],
          "histogram": [
           {
            "marker": {
             "line": {
              "color": "white",
              "width": 0.6
             }
            },
            "type": "histogram"
           }
          ],
          "histogram2d": [
           {
            "colorbar": {
             "outlinewidth": 1,
             "tickcolor": "rgb(36,36,36)",
             "ticks": "outside"
            },
            "colorscale": [
             [
              0,
              "#440154"
             ],
             [
              0.1111111111111111,
              "#482878"
             ],
             [
              0.2222222222222222,
              "#3e4989"
             ],
             [
              0.3333333333333333,
              "#31688e"
             ],
             [
              0.4444444444444444,
              "#26828e"
             ],
             [
              0.5555555555555556,
              "#1f9e89"
             ],
             [
              0.6666666666666666,
              "#35b779"
             ],
             [
              0.7777777777777778,
              "#6ece58"
             ],
             [
              0.8888888888888888,
              "#b5de2b"
             ],
             [
              1,
              "#fde725"
             ]
            ],
            "type": "histogram2d"
           }
          ],
          "histogram2dcontour": [
           {
            "colorbar": {
             "outlinewidth": 1,
             "tickcolor": "rgb(36,36,36)",
             "ticks": "outside"
            },
            "colorscale": [
             [
              0,
              "#440154"
             ],
             [
              0.1111111111111111,
              "#482878"
             ],
             [
              0.2222222222222222,
              "#3e4989"
             ],
             [
              0.3333333333333333,
              "#31688e"
             ],
             [
              0.4444444444444444,
              "#26828e"
             ],
             [
              0.5555555555555556,
              "#1f9e89"
             ],
             [
              0.6666666666666666,
              "#35b779"
             ],
             [
              0.7777777777777778,
              "#6ece58"
             ],
             [
              0.8888888888888888,
              "#b5de2b"
             ],
             [
              1,
              "#fde725"
             ]
            ],
            "type": "histogram2dcontour"
           }
          ],
          "mesh3d": [
           {
            "colorbar": {
             "outlinewidth": 1,
             "tickcolor": "rgb(36,36,36)",
             "ticks": "outside"
            },
            "type": "mesh3d"
           }
          ],
          "parcoords": [
           {
            "line": {
             "colorbar": {
              "outlinewidth": 1,
              "tickcolor": "rgb(36,36,36)",
              "ticks": "outside"
             }
            },
            "type": "parcoords"
           }
          ],
          "pie": [
           {
            "automargin": true,
            "type": "pie"
           }
          ],
          "scatter": [
           {
            "marker": {
             "colorbar": {
              "outlinewidth": 1,
              "tickcolor": "rgb(36,36,36)",
              "ticks": "outside"
             }
            },
            "type": "scatter"
           }
          ],
          "scatter3d": [
           {
            "line": {
             "colorbar": {
              "outlinewidth": 1,
              "tickcolor": "rgb(36,36,36)",
              "ticks": "outside"
             }
            },
            "marker": {
             "colorbar": {
              "outlinewidth": 1,
              "tickcolor": "rgb(36,36,36)",
              "ticks": "outside"
             }
            },
            "type": "scatter3d"
           }
          ],
          "scattercarpet": [
           {
            "marker": {
             "colorbar": {
              "outlinewidth": 1,
              "tickcolor": "rgb(36,36,36)",
              "ticks": "outside"
             }
            },
            "type": "scattercarpet"
           }
          ],
          "scattergeo": [
           {
            "marker": {
             "colorbar": {
              "outlinewidth": 1,
              "tickcolor": "rgb(36,36,36)",
              "ticks": "outside"
             }
            },
            "type": "scattergeo"
           }
          ],
          "scattergl": [
           {
            "marker": {
             "colorbar": {
              "outlinewidth": 1,
              "tickcolor": "rgb(36,36,36)",
              "ticks": "outside"
             }
            },
            "type": "scattergl"
           }
          ],
          "scattermapbox": [
           {
            "marker": {
             "colorbar": {
              "outlinewidth": 1,
              "tickcolor": "rgb(36,36,36)",
              "ticks": "outside"
             }
            },
            "type": "scattermapbox"
           }
          ],
          "scatterpolar": [
           {
            "marker": {
             "colorbar": {
              "outlinewidth": 1,
              "tickcolor": "rgb(36,36,36)",
              "ticks": "outside"
             }
            },
            "type": "scatterpolar"
           }
          ],
          "scatterpolargl": [
           {
            "marker": {
             "colorbar": {
              "outlinewidth": 1,
              "tickcolor": "rgb(36,36,36)",
              "ticks": "outside"
             }
            },
            "type": "scatterpolargl"
           }
          ],
          "scatterternary": [
           {
            "marker": {
             "colorbar": {
              "outlinewidth": 1,
              "tickcolor": "rgb(36,36,36)",
              "ticks": "outside"
             }
            },
            "type": "scatterternary"
           }
          ],
          "surface": [
           {
            "colorbar": {
             "outlinewidth": 1,
             "tickcolor": "rgb(36,36,36)",
             "ticks": "outside"
            },
            "colorscale": [
             [
              0,
              "#440154"
             ],
             [
              0.1111111111111111,
              "#482878"
             ],
             [
              0.2222222222222222,
              "#3e4989"
             ],
             [
              0.3333333333333333,
              "#31688e"
             ],
             [
              0.4444444444444444,
              "#26828e"
             ],
             [
              0.5555555555555556,
              "#1f9e89"
             ],
             [
              0.6666666666666666,
              "#35b779"
             ],
             [
              0.7777777777777778,
              "#6ece58"
             ],
             [
              0.8888888888888888,
              "#b5de2b"
             ],
             [
              1,
              "#fde725"
             ]
            ],
            "type": "surface"
           }
          ],
          "table": [
           {
            "cells": {
             "fill": {
              "color": "rgb(237,237,237)"
             },
             "line": {
              "color": "white"
             }
            },
            "header": {
             "fill": {
              "color": "rgb(217,217,217)"
             },
             "line": {
              "color": "white"
             }
            },
            "type": "table"
           }
          ]
         },
         "layout": {
          "annotationdefaults": {
           "arrowhead": 0,
           "arrowwidth": 1
          },
          "autotypenumbers": "strict",
          "coloraxis": {
           "colorbar": {
            "outlinewidth": 1,
            "tickcolor": "rgb(36,36,36)",
            "ticks": "outside"
           }
          },
          "colorscale": {
           "diverging": [
            [
             0,
             "rgb(103,0,31)"
            ],
            [
             0.1,
             "rgb(178,24,43)"
            ],
            [
             0.2,
             "rgb(214,96,77)"
            ],
            [
             0.3,
             "rgb(244,165,130)"
            ],
            [
             0.4,
             "rgb(253,219,199)"
            ],
            [
             0.5,
             "rgb(247,247,247)"
            ],
            [
             0.6,
             "rgb(209,229,240)"
            ],
            [
             0.7,
             "rgb(146,197,222)"
            ],
            [
             0.8,
             "rgb(67,147,195)"
            ],
            [
             0.9,
             "rgb(33,102,172)"
            ],
            [
             1,
             "rgb(5,48,97)"
            ]
           ],
           "sequential": [
            [
             0,
             "#440154"
            ],
            [
             0.1111111111111111,
             "#482878"
            ],
            [
             0.2222222222222222,
             "#3e4989"
            ],
            [
             0.3333333333333333,
             "#31688e"
            ],
            [
             0.4444444444444444,
             "#26828e"
            ],
            [
             0.5555555555555556,
             "#1f9e89"
            ],
            [
             0.6666666666666666,
             "#35b779"
            ],
            [
             0.7777777777777778,
             "#6ece58"
            ],
            [
             0.8888888888888888,
             "#b5de2b"
            ],
            [
             1,
             "#fde725"
            ]
           ],
           "sequentialminus": [
            [
             0,
             "#440154"
            ],
            [
             0.1111111111111111,
             "#482878"
            ],
            [
             0.2222222222222222,
             "#3e4989"
            ],
            [
             0.3333333333333333,
             "#31688e"
            ],
            [
             0.4444444444444444,
             "#26828e"
            ],
            [
             0.5555555555555556,
             "#1f9e89"
            ],
            [
             0.6666666666666666,
             "#35b779"
            ],
            [
             0.7777777777777778,
             "#6ece58"
            ],
            [
             0.8888888888888888,
             "#b5de2b"
            ],
            [
             1,
             "#fde725"
            ]
           ]
          },
          "colorway": [
           "#1F77B4",
           "#FF7F0E",
           "#2CA02C",
           "#D62728",
           "#9467BD",
           "#8C564B",
           "#E377C2",
           "#7F7F7F",
           "#BCBD22",
           "#17BECF"
          ],
          "font": {
           "color": "rgb(36,36,36)"
          },
          "geo": {
           "bgcolor": "white",
           "lakecolor": "white",
           "landcolor": "white",
           "showlakes": true,
           "showland": true,
           "subunitcolor": "white"
          },
          "hoverlabel": {
           "align": "left"
          },
          "hovermode": "closest",
          "mapbox": {
           "style": "light"
          },
          "paper_bgcolor": "white",
          "plot_bgcolor": "white",
          "polar": {
           "angularaxis": {
            "gridcolor": "rgb(232,232,232)",
            "linecolor": "rgb(36,36,36)",
            "showgrid": false,
            "showline": true,
            "ticks": "outside"
           },
           "bgcolor": "white",
           "radialaxis": {
            "gridcolor": "rgb(232,232,232)",
            "linecolor": "rgb(36,36,36)",
            "showgrid": false,
            "showline": true,
            "ticks": "outside"
           }
          },
          "scene": {
           "xaxis": {
            "backgroundcolor": "white",
            "gridcolor": "rgb(232,232,232)",
            "gridwidth": 2,
            "linecolor": "rgb(36,36,36)",
            "showbackground": true,
            "showgrid": false,
            "showline": true,
            "ticks": "outside",
            "zeroline": false,
            "zerolinecolor": "rgb(36,36,36)"
           },
           "yaxis": {
            "backgroundcolor": "white",
            "gridcolor": "rgb(232,232,232)",
            "gridwidth": 2,
            "linecolor": "rgb(36,36,36)",
            "showbackground": true,
            "showgrid": false,
            "showline": true,
            "ticks": "outside",
            "zeroline": false,
            "zerolinecolor": "rgb(36,36,36)"
           },
           "zaxis": {
            "backgroundcolor": "white",
            "gridcolor": "rgb(232,232,232)",
            "gridwidth": 2,
            "linecolor": "rgb(36,36,36)",
            "showbackground": true,
            "showgrid": false,
            "showline": true,
            "ticks": "outside",
            "zeroline": false,
            "zerolinecolor": "rgb(36,36,36)"
           }
          },
          "shapedefaults": {
           "fillcolor": "black",
           "line": {
            "width": 0
           },
           "opacity": 0.3
          },
          "ternary": {
           "aaxis": {
            "gridcolor": "rgb(232,232,232)",
            "linecolor": "rgb(36,36,36)",
            "showgrid": false,
            "showline": true,
            "ticks": "outside"
           },
           "baxis": {
            "gridcolor": "rgb(232,232,232)",
            "linecolor": "rgb(36,36,36)",
            "showgrid": false,
            "showline": true,
            "ticks": "outside"
           },
           "bgcolor": "white",
           "caxis": {
            "gridcolor": "rgb(232,232,232)",
            "linecolor": "rgb(36,36,36)",
            "showgrid": false,
            "showline": true,
            "ticks": "outside"
           }
          },
          "title": {
           "x": 0.05
          },
          "xaxis": {
           "automargin": true,
           "gridcolor": "rgb(232,232,232)",
           "linecolor": "rgb(36,36,36)",
           "showgrid": false,
           "showline": true,
           "ticks": "outside",
           "title": {
            "standoff": 15
           },
           "zeroline": false,
           "zerolinecolor": "rgb(36,36,36)"
          },
          "yaxis": {
           "automargin": true,
           "gridcolor": "rgb(232,232,232)",
           "linecolor": "rgb(36,36,36)",
           "showgrid": false,
           "showline": true,
           "ticks": "outside",
           "title": {
            "standoff": 15
           },
           "zeroline": false,
           "zerolinecolor": "rgb(36,36,36)"
          }
         }
        },
        "title": {
         "text": "Monthly Complaints"
        },
        "width": 800,
        "xaxis": {
         "anchor": "y",
         "domain": [
          0,
          1
         ],
         "title": {
          "text": "Date"
         }
        },
        "yaxis": {
         "anchor": "x",
         "domain": [
          0,
          1
         ],
         "title": {
          "text": "Complaints"
         }
        }
       }
      },
      "text/html": [
       "<div>                            <div id=\"607898d4-6306-420b-a27f-3d9c8cc0a401\" class=\"plotly-graph-div\" style=\"height:600px; width:800px;\"></div>            <script type=\"text/javascript\">                require([\"plotly\"], function(Plotly) {                    window.PLOTLYENV=window.PLOTLYENV || {};                                    if (document.getElementById(\"607898d4-6306-420b-a27f-3d9c8cc0a401\")) {                    Plotly.newPlot(                        \"607898d4-6306-420b-a27f-3d9c8cc0a401\",                        [{\"hovertemplate\": \"Companies=AES/PHEAA<br>Date=%{x}<br>Complaints=%{y}<extra></extra>\", \"legendgroup\": \"AES/PHEAA\", \"line\": {\"color\": \"#1F77B4\", \"dash\": \"solid\"}, \"mode\": \"lines\", \"name\": \"AES/PHEAA\", \"showlegend\": true, \"type\": \"scattergl\", \"x\": [\"2018-01-31T00:00:00\", \"2018-02-28T00:00:00\", \"2018-03-31T00:00:00\", \"2018-04-30T00:00:00\", \"2018-05-31T00:00:00\", \"2018-06-30T00:00:00\", \"2018-07-31T00:00:00\", \"2018-08-31T00:00:00\", \"2018-09-30T00:00:00\", \"2018-10-31T00:00:00\", \"2018-11-30T00:00:00\", \"2018-12-31T00:00:00\", \"2019-01-31T00:00:00\", \"2019-02-28T00:00:00\", \"2019-03-31T00:00:00\", \"2019-04-30T00:00:00\", \"2019-05-31T00:00:00\", \"2019-06-30T00:00:00\", \"2019-07-31T00:00:00\", \"2019-08-31T00:00:00\", \"2019-09-30T00:00:00\", \"2019-10-31T00:00:00\", \"2019-11-30T00:00:00\", \"2019-12-31T00:00:00\", \"2020-01-31T00:00:00\", \"2020-02-29T00:00:00\", \"2020-03-31T00:00:00\", \"2020-04-30T00:00:00\", \"2020-05-31T00:00:00\", \"2020-06-30T00:00:00\", \"2020-07-31T00:00:00\", \"2020-08-31T00:00:00\", \"2020-09-30T00:00:00\", \"2020-10-31T00:00:00\", \"2020-11-30T00:00:00\", \"2020-12-31T00:00:00\", \"2021-01-31T00:00:00\", \"2021-02-28T00:00:00\", \"2021-03-31T00:00:00\"], \"xaxis\": \"x\", \"y\": [211, 165, 205, 222, 188, 145, 183, 201, 185, 216, 163, 183, 197, 214, 229, 246, 189, 149, 180, 178, 161, 184, 162, 116, 196, 147, 170, 170, 156, 95, 114, 104, 99, 99, 120, 96, 126, 134, 84], \"yaxis\": \"y\"}, {\"hovertemplate\": \"Companies=ALLY FINANCIAL INC.<br>Date=%{x}<br>Complaints=%{y}<extra></extra>\", \"legendgroup\": \"ALLY FINANCIAL INC.\", \"line\": {\"color\": \"#FF7F0E\", \"dash\": \"solid\"}, \"mode\": \"lines\", \"name\": \"ALLY FINANCIAL INC.\", \"showlegend\": true, \"type\": \"scattergl\", \"x\": [\"2018-01-31T00:00:00\", \"2018-02-28T00:00:00\", \"2018-03-31T00:00:00\", \"2018-04-30T00:00:00\", \"2018-05-31T00:00:00\", \"2018-06-30T00:00:00\", \"2018-07-31T00:00:00\", \"2018-08-31T00:00:00\", \"2018-09-30T00:00:00\", \"2018-10-31T00:00:00\", \"2018-11-30T00:00:00\", \"2018-12-31T00:00:00\", \"2019-01-31T00:00:00\", \"2019-02-28T00:00:00\", \"2019-03-31T00:00:00\", \"2019-04-30T00:00:00\", \"2019-05-31T00:00:00\", \"2019-06-30T00:00:00\", \"2019-07-31T00:00:00\", \"2019-08-31T00:00:00\", \"2019-09-30T00:00:00\", \"2019-10-31T00:00:00\", \"2019-11-30T00:00:00\", \"2019-12-31T00:00:00\", \"2020-01-31T00:00:00\", \"2020-02-29T00:00:00\", \"2020-03-31T00:00:00\", \"2020-04-30T00:00:00\", \"2020-05-31T00:00:00\", \"2020-06-30T00:00:00\", \"2020-07-31T00:00:00\", \"2020-08-31T00:00:00\", \"2020-09-30T00:00:00\", \"2020-10-31T00:00:00\", \"2020-11-30T00:00:00\", \"2020-12-31T00:00:00\", \"2021-01-31T00:00:00\", \"2021-02-28T00:00:00\", \"2021-03-31T00:00:00\"], \"xaxis\": \"x\", \"y\": [132, 114, 101, 105, 118, 84, 79, 84, 82, 76, 71, 73, 78, 96, 102, 113, 90, 81, 91, 88, 85, 87, 102, 68, 106, 110, 122, 104, 132, 142, 146, 142, 158, 151, 144, 164, 156, 169, 209], \"yaxis\": \"y\"}, {\"hovertemplate\": \"Companies=AMERICAN EXPRESS COMPANY<br>Date=%{x}<br>Complaints=%{y}<extra></extra>\", \"legendgroup\": \"AMERICAN EXPRESS COMPANY\", \"line\": {\"color\": \"#2CA02C\", \"dash\": \"solid\"}, \"mode\": \"lines\", \"name\": \"AMERICAN EXPRESS COMPANY\", \"showlegend\": true, \"type\": \"scattergl\", \"x\": [\"2018-01-31T00:00:00\", \"2018-02-28T00:00:00\", \"2018-03-31T00:00:00\", \"2018-04-30T00:00:00\", \"2018-05-31T00:00:00\", \"2018-06-30T00:00:00\", \"2018-07-31T00:00:00\", \"2018-08-31T00:00:00\", \"2018-09-30T00:00:00\", \"2018-10-31T00:00:00\", \"2018-11-30T00:00:00\", \"2018-12-31T00:00:00\", \"2019-01-31T00:00:00\", \"2019-02-28T00:00:00\", \"2019-03-31T00:00:00\", \"2019-04-30T00:00:00\", \"2019-05-31T00:00:00\", \"2019-06-30T00:00:00\", \"2019-07-31T00:00:00\", \"2019-08-31T00:00:00\", \"2019-09-30T00:00:00\", \"2019-10-31T00:00:00\", \"2019-11-30T00:00:00\", \"2019-12-31T00:00:00\", \"2020-01-31T00:00:00\", \"2020-02-29T00:00:00\", \"2020-03-31T00:00:00\", \"2020-04-30T00:00:00\", \"2020-05-31T00:00:00\", \"2020-06-30T00:00:00\", \"2020-07-31T00:00:00\", \"2020-08-31T00:00:00\", \"2020-09-30T00:00:00\", \"2020-10-31T00:00:00\", \"2020-11-30T00:00:00\", \"2020-12-31T00:00:00\", \"2021-01-31T00:00:00\", \"2021-02-28T00:00:00\", \"2021-03-31T00:00:00\"], \"xaxis\": \"x\", \"y\": [234, 228, 250, 226, 237, 175, 239, 234, 197, 354, 253, 232, 240, 229, 264, 226, 253, 230, 238, 261, 231, 224, 208, 222, 228, 204, 251, 352, 362, 281, 277, 291, 233, 233, 218, 242, 266, 247, 163], \"yaxis\": \"y\"}, {\"hovertemplate\": \"Companies=Alliance Data Card Services<br>Date=%{x}<br>Complaints=%{y}<extra></extra>\", \"legendgroup\": \"Alliance Data Card Services\", \"line\": {\"color\": \"#D62728\", \"dash\": \"solid\"}, \"mode\": \"lines\", \"name\": \"Alliance Data Card Services\", \"showlegend\": true, \"type\": \"scattergl\", \"x\": [\"2018-01-31T00:00:00\", \"2018-02-28T00:00:00\", \"2018-03-31T00:00:00\", \"2018-04-30T00:00:00\", \"2018-05-31T00:00:00\", \"2018-06-30T00:00:00\", \"2018-07-31T00:00:00\", \"2018-08-31T00:00:00\", \"2018-09-30T00:00:00\", \"2018-10-31T00:00:00\", \"2018-11-30T00:00:00\", \"2018-12-31T00:00:00\", \"2019-01-31T00:00:00\", \"2019-02-28T00:00:00\", \"2019-03-31T00:00:00\", \"2019-04-30T00:00:00\", \"2019-05-31T00:00:00\", \"2019-06-30T00:00:00\", \"2019-07-31T00:00:00\", \"2019-08-31T00:00:00\", \"2019-09-30T00:00:00\", \"2019-10-31T00:00:00\", \"2019-11-30T00:00:00\", \"2019-12-31T00:00:00\", \"2020-01-31T00:00:00\", \"2020-02-29T00:00:00\", \"2020-03-31T00:00:00\", \"2020-04-30T00:00:00\", \"2020-05-31T00:00:00\", \"2020-06-30T00:00:00\", \"2020-07-31T00:00:00\", \"2020-08-31T00:00:00\", \"2020-09-30T00:00:00\", \"2020-10-31T00:00:00\", \"2020-11-30T00:00:00\", \"2020-12-31T00:00:00\", \"2021-01-31T00:00:00\", \"2021-02-28T00:00:00\", \"2021-03-31T00:00:00\"], \"xaxis\": \"x\", \"y\": [257, 229, 247, 257, 254, 225, 207, 211, 182, 220, 190, 176, 187, 212, 233, 215, 221, 223, 260, 222, 221, 241, 218, 213, 206, 205, 224, 256, 275, 266, 246, 321, 237, 259, 308, 287, 281, 344, 190], \"yaxis\": \"y\"}, {\"hovertemplate\": \"Companies=Ameritech Financial<br>Date=%{x}<br>Complaints=%{y}<extra></extra>\", \"legendgroup\": \"Ameritech Financial\", \"line\": {\"color\": \"#9467BD\", \"dash\": \"solid\"}, \"mode\": \"lines\", \"name\": \"Ameritech Financial\", \"showlegend\": true, \"type\": \"scattergl\", \"x\": [\"2018-01-31T00:00:00\", \"2018-02-28T00:00:00\", \"2018-03-31T00:00:00\", \"2018-04-30T00:00:00\", \"2018-05-31T00:00:00\", \"2018-06-30T00:00:00\", \"2018-07-31T00:00:00\", \"2018-08-31T00:00:00\", \"2018-09-30T00:00:00\", \"2018-10-31T00:00:00\", \"2018-11-30T00:00:00\", \"2018-12-31T00:00:00\", \"2019-01-31T00:00:00\", \"2019-02-28T00:00:00\", \"2019-03-31T00:00:00\", \"2019-04-30T00:00:00\", \"2019-05-31T00:00:00\", \"2019-06-30T00:00:00\", \"2019-07-31T00:00:00\", \"2019-08-31T00:00:00\", \"2019-09-30T00:00:00\", \"2019-10-31T00:00:00\", \"2019-11-30T00:00:00\", \"2019-12-31T00:00:00\", \"2020-01-31T00:00:00\", \"2020-02-29T00:00:00\", \"2020-03-31T00:00:00\", \"2020-04-30T00:00:00\", \"2020-05-31T00:00:00\"], \"xaxis\": \"x\", \"y\": [3, 1, 0, 2, 1, 2, 90, 28, 7, 5, 2, 8, 3, 18, 17, 3, 4, 6, 3, 2, 2, 1, 0, 0, 2, 2, 1, 2, 1], \"yaxis\": \"y\"}, {\"hovertemplate\": \"Companies=BANK OF AMERICA, NATIONAL ASSOCIATION<br>Date=%{x}<br>Complaints=%{y}<extra></extra>\", \"legendgroup\": \"BANK OF AMERICA, NATIONAL ASSOCIATION\", \"line\": {\"color\": \"#8C564B\", \"dash\": \"solid\"}, \"mode\": \"lines\", \"name\": \"BANK OF AMERICA, NATIONAL ASSOCIATION\", \"showlegend\": true, \"type\": \"scattergl\", \"x\": [\"2018-01-31T00:00:00\", \"2018-02-28T00:00:00\", \"2018-03-31T00:00:00\", \"2018-04-30T00:00:00\", \"2018-05-31T00:00:00\", \"2018-06-30T00:00:00\", \"2018-07-31T00:00:00\", \"2018-08-31T00:00:00\", \"2018-09-30T00:00:00\", \"2018-10-31T00:00:00\", \"2018-11-30T00:00:00\", \"2018-12-31T00:00:00\", \"2019-01-31T00:00:00\", \"2019-02-28T00:00:00\", \"2019-03-31T00:00:00\", \"2019-04-30T00:00:00\", \"2019-05-31T00:00:00\", \"2019-06-30T00:00:00\", \"2019-07-31T00:00:00\", \"2019-08-31T00:00:00\", \"2019-09-30T00:00:00\", \"2019-10-31T00:00:00\", \"2019-11-30T00:00:00\", \"2019-12-31T00:00:00\", \"2020-01-31T00:00:00\", \"2020-02-29T00:00:00\", \"2020-03-31T00:00:00\", \"2020-04-30T00:00:00\", \"2020-05-31T00:00:00\", \"2020-06-30T00:00:00\", \"2020-07-31T00:00:00\", \"2020-08-31T00:00:00\", \"2020-09-30T00:00:00\", \"2020-10-31T00:00:00\", \"2020-11-30T00:00:00\", \"2020-12-31T00:00:00\", \"2021-01-31T00:00:00\", \"2021-02-28T00:00:00\", \"2021-03-31T00:00:00\"], \"xaxis\": \"x\", \"y\": [711, 662, 790, 936, 762, 686, 731, 700, 678, 741, 496, 419, 455, 414, 540, 699, 650, 638, 716, 767, 695, 702, 603, 656, 693, 626, 675, 806, 690, 794, 718, 769, 851, 923, 880, 1025, 997, 1066, 561], \"yaxis\": \"y\"}, {\"hovertemplate\": \"Companies=BARCLAYS BANK DELAWARE<br>Date=%{x}<br>Complaints=%{y}<extra></extra>\", \"legendgroup\": \"BARCLAYS BANK DELAWARE\", \"line\": {\"color\": \"#E377C2\", \"dash\": \"solid\"}, \"mode\": \"lines\", \"name\": \"BARCLAYS BANK DELAWARE\", \"showlegend\": true, \"type\": \"scattergl\", \"x\": [\"2018-01-31T00:00:00\", \"2018-02-28T00:00:00\", \"2018-03-31T00:00:00\", \"2018-04-30T00:00:00\", \"2018-05-31T00:00:00\", \"2018-06-30T00:00:00\", \"2018-07-31T00:00:00\", \"2018-08-31T00:00:00\", \"2018-09-30T00:00:00\", \"2018-10-31T00:00:00\", \"2018-11-30T00:00:00\", \"2018-12-31T00:00:00\", \"2019-01-31T00:00:00\", \"2019-02-28T00:00:00\", \"2019-03-31T00:00:00\", \"2019-04-30T00:00:00\", \"2019-05-31T00:00:00\", \"2019-06-30T00:00:00\", \"2019-07-31T00:00:00\", \"2019-08-31T00:00:00\", \"2019-09-30T00:00:00\", \"2019-10-31T00:00:00\", \"2019-11-30T00:00:00\", \"2019-12-31T00:00:00\", \"2020-01-31T00:00:00\", \"2020-02-29T00:00:00\", \"2020-03-31T00:00:00\", \"2020-04-30T00:00:00\", \"2020-05-31T00:00:00\", \"2020-06-30T00:00:00\", \"2020-07-31T00:00:00\", \"2020-08-31T00:00:00\", \"2020-09-30T00:00:00\", \"2020-10-31T00:00:00\", \"2020-11-30T00:00:00\", \"2020-12-31T00:00:00\", \"2021-01-31T00:00:00\", \"2021-02-28T00:00:00\", \"2021-03-31T00:00:00\"], \"xaxis\": \"x\", \"y\": [132, 133, 146, 135, 126, 92, 95, 108, 99, 119, 83, 90, 88, 109, 107, 117, 128, 100, 125, 132, 104, 120, 100, 93, 123, 117, 123, 156, 135, 161, 163, 157, 134, 152, 135, 138, 133, 126, 142], \"yaxis\": \"y\"}, {\"hovertemplate\": \"Companies=CAPITAL ONE FINANCIAL CORPORATION<br>Date=%{x}<br>Complaints=%{y}<extra></extra>\", \"legendgroup\": \"CAPITAL ONE FINANCIAL CORPORATION\", \"line\": {\"color\": \"#7F7F7F\", \"dash\": \"solid\"}, \"mode\": \"lines\", \"name\": \"CAPITAL ONE FINANCIAL CORPORATION\", \"showlegend\": true, \"type\": \"scattergl\", \"x\": [\"2018-01-31T00:00:00\", \"2018-02-28T00:00:00\", \"2018-03-31T00:00:00\", \"2018-04-30T00:00:00\", \"2018-05-31T00:00:00\", \"2018-06-30T00:00:00\", \"2018-07-31T00:00:00\", \"2018-08-31T00:00:00\", \"2018-09-30T00:00:00\", \"2018-10-31T00:00:00\", \"2018-11-30T00:00:00\", \"2018-12-31T00:00:00\", \"2019-01-31T00:00:00\", \"2019-02-28T00:00:00\", \"2019-03-31T00:00:00\", \"2019-04-30T00:00:00\", \"2019-05-31T00:00:00\", \"2019-06-30T00:00:00\", \"2019-07-31T00:00:00\", \"2019-08-31T00:00:00\", \"2019-09-30T00:00:00\", \"2019-10-31T00:00:00\", \"2019-11-30T00:00:00\", \"2019-12-31T00:00:00\", \"2020-01-31T00:00:00\", \"2020-02-29T00:00:00\", \"2020-03-31T00:00:00\", \"2020-04-30T00:00:00\", \"2020-05-31T00:00:00\", \"2020-06-30T00:00:00\", \"2020-07-31T00:00:00\", \"2020-08-31T00:00:00\", \"2020-09-30T00:00:00\", \"2020-10-31T00:00:00\", \"2020-11-30T00:00:00\", \"2020-12-31T00:00:00\", \"2021-01-31T00:00:00\", \"2021-02-28T00:00:00\", \"2021-03-31T00:00:00\"], \"xaxis\": \"x\", \"y\": [701, 598, 745, 726, 733, 687, 601, 568, 569, 634, 555, 561, 587, 580, 641, 590, 609, 606, 666, 708, 638, 757, 693, 580, 766, 691, 696, 788, 833, 821, 842, 896, 743, 876, 918, 906, 852, 947, 694], \"yaxis\": \"y\"}, {\"hovertemplate\": \"Companies=CITIBANK, N.A.<br>Date=%{x}<br>Complaints=%{y}<extra></extra>\", \"legendgroup\": \"CITIBANK, N.A.\", \"line\": {\"color\": \"#BCBD22\", \"dash\": \"solid\"}, \"mode\": \"lines\", \"name\": \"CITIBANK, N.A.\", \"showlegend\": true, \"type\": \"scattergl\", \"x\": [\"2018-01-31T00:00:00\", \"2018-02-28T00:00:00\", \"2018-03-31T00:00:00\", \"2018-04-30T00:00:00\", \"2018-05-31T00:00:00\", \"2018-06-30T00:00:00\", \"2018-07-31T00:00:00\", \"2018-08-31T00:00:00\", \"2018-09-30T00:00:00\", \"2018-10-31T00:00:00\", \"2018-11-30T00:00:00\", \"2018-12-31T00:00:00\", \"2019-01-31T00:00:00\", \"2019-02-28T00:00:00\", \"2019-03-31T00:00:00\", \"2019-04-30T00:00:00\", \"2019-05-31T00:00:00\", \"2019-06-30T00:00:00\", \"2019-07-31T00:00:00\", \"2019-08-31T00:00:00\", \"2019-09-30T00:00:00\", \"2019-10-31T00:00:00\", \"2019-11-30T00:00:00\", \"2019-12-31T00:00:00\", \"2020-01-31T00:00:00\", \"2020-02-29T00:00:00\", \"2020-03-31T00:00:00\", \"2020-04-30T00:00:00\", \"2020-05-31T00:00:00\", \"2020-06-30T00:00:00\", \"2020-07-31T00:00:00\", \"2020-08-31T00:00:00\", \"2020-09-30T00:00:00\", \"2020-10-31T00:00:00\", \"2020-11-30T00:00:00\", \"2020-12-31T00:00:00\", \"2021-01-31T00:00:00\", \"2021-02-28T00:00:00\", \"2021-03-31T00:00:00\"], \"xaxis\": \"x\", \"y\": [658, 608, 644, 705, 584, 508, 552, 611, 523, 656, 609, 605, 587, 543, 628, 601, 590, 578, 606, 611, 563, 637, 559, 562, 599, 638, 686, 850, 801, 772, 783, 709, 724, 739, 644, 775, 817, 768, 456], \"yaxis\": \"y\"}, {\"hovertemplate\": \"Companies=CITIZENS FINANCIAL GROUP, INC.<br>Date=%{x}<br>Complaints=%{y}<extra></extra>\", \"legendgroup\": \"CITIZENS FINANCIAL GROUP, INC.\", \"line\": {\"color\": \"#17BECF\", \"dash\": \"solid\"}, \"mode\": \"lines\", \"name\": \"CITIZENS FINANCIAL GROUP, INC.\", \"showlegend\": true, \"type\": \"scattergl\", \"x\": [\"2018-01-31T00:00:00\", \"2018-02-28T00:00:00\", \"2018-03-31T00:00:00\", \"2018-04-30T00:00:00\", \"2018-05-31T00:00:00\", \"2018-06-30T00:00:00\", \"2018-07-31T00:00:00\", \"2018-08-31T00:00:00\", \"2018-09-30T00:00:00\", \"2018-10-31T00:00:00\", \"2018-11-30T00:00:00\", \"2018-12-31T00:00:00\", \"2019-01-31T00:00:00\", \"2019-02-28T00:00:00\", \"2019-03-31T00:00:00\", \"2019-04-30T00:00:00\", \"2019-05-31T00:00:00\", \"2019-06-30T00:00:00\", \"2019-07-31T00:00:00\", \"2019-08-31T00:00:00\", \"2019-09-30T00:00:00\", \"2019-10-31T00:00:00\", \"2019-11-30T00:00:00\", \"2019-12-31T00:00:00\", \"2020-01-31T00:00:00\", \"2020-02-29T00:00:00\", \"2020-03-31T00:00:00\", \"2020-04-30T00:00:00\", \"2020-05-31T00:00:00\", \"2020-06-30T00:00:00\", \"2020-07-31T00:00:00\", \"2020-08-31T00:00:00\", \"2020-09-30T00:00:00\", \"2020-10-31T00:00:00\", \"2020-11-30T00:00:00\", \"2020-12-31T00:00:00\", \"2021-01-31T00:00:00\", \"2021-02-28T00:00:00\", \"2021-03-31T00:00:00\"], \"xaxis\": \"x\", \"y\": [66, 72, 75, 80, 80, 43, 76, 83, 99, 112, 69, 101, 104, 87, 75, 99, 97, 79, 78, 81, 71, 105, 66, 76, 57, 73, 68, 90, 79, 75, 86, 74, 81, 86, 43, 93, 114, 97, 71], \"yaxis\": \"y\"}, {\"hovertemplate\": \"Companies=Chime Financial Inc<br>Date=%{x}<br>Complaints=%{y}<extra></extra>\", \"legendgroup\": \"Chime Financial Inc\", \"line\": {\"color\": \"#1F77B4\", \"dash\": \"solid\"}, \"mode\": \"lines\", \"name\": \"Chime Financial Inc\", \"showlegend\": true, \"type\": \"scattergl\", \"x\": [\"2020-04-30T00:00:00\", \"2020-05-31T00:00:00\", \"2020-06-30T00:00:00\", \"2020-07-31T00:00:00\", \"2020-08-31T00:00:00\", \"2020-09-30T00:00:00\", \"2020-10-31T00:00:00\", \"2020-11-30T00:00:00\", \"2020-12-31T00:00:00\", \"2021-01-31T00:00:00\", \"2021-02-28T00:00:00\", \"2021-03-31T00:00:00\"], \"xaxis\": \"x\", \"y\": [1, 0, 0, 0, 14, 63, 87, 119, 113, 116, 102, 62], \"yaxis\": \"y\"}, {\"hovertemplate\": \"Companies=Coinbase, Inc.<br>Date=%{x}<br>Complaints=%{y}<extra></extra>\", \"legendgroup\": \"Coinbase, Inc.\", \"line\": {\"color\": \"#FF7F0E\", \"dash\": \"solid\"}, \"mode\": \"lines\", \"name\": \"Coinbase, Inc.\", \"showlegend\": true, \"type\": \"scattergl\", \"x\": [\"2018-01-31T00:00:00\", \"2018-02-28T00:00:00\", \"2018-03-31T00:00:00\", \"2018-04-30T00:00:00\", \"2018-05-31T00:00:00\", \"2018-06-30T00:00:00\", \"2018-07-31T00:00:00\", \"2018-08-31T00:00:00\", \"2018-09-30T00:00:00\", \"2018-10-31T00:00:00\", \"2018-11-30T00:00:00\", \"2018-12-31T00:00:00\", \"2019-01-31T00:00:00\", \"2019-02-28T00:00:00\", \"2019-03-31T00:00:00\", \"2019-04-30T00:00:00\", \"2019-05-31T00:00:00\", \"2019-06-30T00:00:00\", \"2019-07-31T00:00:00\", \"2019-08-31T00:00:00\", \"2019-09-30T00:00:00\", \"2019-10-31T00:00:00\", \"2019-11-30T00:00:00\", \"2019-12-31T00:00:00\", \"2020-01-31T00:00:00\", \"2020-02-29T00:00:00\", \"2020-03-31T00:00:00\", \"2020-04-30T00:00:00\", \"2020-05-31T00:00:00\", \"2020-06-30T00:00:00\", \"2020-07-31T00:00:00\", \"2020-08-31T00:00:00\", \"2020-09-30T00:00:00\", \"2020-10-31T00:00:00\", \"2020-11-30T00:00:00\", \"2020-12-31T00:00:00\", \"2021-01-31T00:00:00\", \"2021-02-28T00:00:00\", \"2021-03-31T00:00:00\"], \"xaxis\": \"x\", \"y\": [889, 337, 190, 87, 63, 47, 23, 17, 14, 7, 9, 11, 8, 6, 10, 8, 19, 21, 44, 20, 15, 20, 13, 7, 13, 12, 19, 18, 36, 25, 39, 27, 24, 19, 31, 58, 117, 126, 110], \"yaxis\": \"y\"}, {\"hovertemplate\": \"Companies=Colony Brands, Inc.<br>Date=%{x}<br>Complaints=%{y}<extra></extra>\", \"legendgroup\": \"Colony Brands, Inc.\", \"line\": {\"color\": \"#2CA02C\", \"dash\": \"solid\"}, \"mode\": \"lines\", \"name\": \"Colony Brands, Inc.\", \"showlegend\": true, \"type\": \"scattergl\", \"x\": [\"2018-01-31T00:00:00\", \"2018-02-28T00:00:00\", \"2018-03-31T00:00:00\", \"2018-04-30T00:00:00\", \"2018-05-31T00:00:00\", \"2018-06-30T00:00:00\", \"2018-07-31T00:00:00\", \"2018-08-31T00:00:00\", \"2018-09-30T00:00:00\", \"2018-10-31T00:00:00\", \"2018-11-30T00:00:00\", \"2018-12-31T00:00:00\", \"2019-01-31T00:00:00\", \"2019-02-28T00:00:00\", \"2019-03-31T00:00:00\", \"2019-04-30T00:00:00\", \"2019-05-31T00:00:00\", \"2019-06-30T00:00:00\", \"2019-07-31T00:00:00\", \"2019-08-31T00:00:00\", \"2019-09-30T00:00:00\", \"2019-10-31T00:00:00\", \"2019-11-30T00:00:00\", \"2019-12-31T00:00:00\", \"2020-01-31T00:00:00\", \"2020-02-29T00:00:00\", \"2020-03-31T00:00:00\", \"2020-04-30T00:00:00\", \"2020-05-31T00:00:00\", \"2020-06-30T00:00:00\", \"2020-07-31T00:00:00\", \"2020-08-31T00:00:00\", \"2020-09-30T00:00:00\", \"2020-10-31T00:00:00\", \"2020-11-30T00:00:00\", \"2020-12-31T00:00:00\", \"2021-01-31T00:00:00\", \"2021-02-28T00:00:00\", \"2021-03-31T00:00:00\"], \"xaxis\": \"x\", \"y\": [21, 17, 14, 19, 17, 18, 18, 21, 15, 13, 27, 15, 26, 16, 31, 13, 26, 23, 24, 11, 14, 14, 11, 14, 13, 15, 11, 11, 13, 12, 15, 10, 20, 16, 19, 16, 13, 27, 12], \"yaxis\": \"y\"}, {\"hovertemplate\": \"Companies=DISCOVER BANK<br>Date=%{x}<br>Complaints=%{y}<extra></extra>\", \"legendgroup\": \"DISCOVER BANK\", \"line\": {\"color\": \"#D62728\", \"dash\": \"solid\"}, \"mode\": \"lines\", \"name\": \"DISCOVER BANK\", \"showlegend\": true, \"type\": \"scattergl\", \"x\": [\"2018-01-31T00:00:00\", \"2018-02-28T00:00:00\", \"2018-03-31T00:00:00\", \"2018-04-30T00:00:00\", \"2018-05-31T00:00:00\", \"2018-06-30T00:00:00\", \"2018-07-31T00:00:00\", \"2018-08-31T00:00:00\", \"2018-09-30T00:00:00\", \"2018-10-31T00:00:00\", \"2018-11-30T00:00:00\", \"2018-12-31T00:00:00\", \"2019-01-31T00:00:00\", \"2019-02-28T00:00:00\", \"2019-03-31T00:00:00\", \"2019-04-30T00:00:00\", \"2019-05-31T00:00:00\", \"2019-06-30T00:00:00\", \"2019-07-31T00:00:00\", \"2019-08-31T00:00:00\", \"2019-09-30T00:00:00\", \"2019-10-31T00:00:00\", \"2019-11-30T00:00:00\", \"2019-12-31T00:00:00\", \"2020-01-31T00:00:00\", \"2020-02-29T00:00:00\", \"2020-03-31T00:00:00\", \"2020-04-30T00:00:00\", \"2020-05-31T00:00:00\", \"2020-06-30T00:00:00\", \"2020-07-31T00:00:00\", \"2020-08-31T00:00:00\", \"2020-09-30T00:00:00\", \"2020-10-31T00:00:00\", \"2020-11-30T00:00:00\", \"2020-12-31T00:00:00\", \"2021-01-31T00:00:00\", \"2021-02-28T00:00:00\", \"2021-03-31T00:00:00\"], \"xaxis\": \"x\", \"y\": [172, 174, 195, 182, 183, 165, 140, 200, 151, 147, 161, 138, 145, 148, 177, 168, 178, 193, 195, 188, 171, 209, 179, 190, 208, 203, 227, 243, 198, 216, 205, 224, 177, 235, 215, 228, 220, 277, 153], \"yaxis\": \"y\"}, {\"hovertemplate\": \"Companies=ENCORE CAPITAL GROUP INC.<br>Date=%{x}<br>Complaints=%{y}<extra></extra>\", \"legendgroup\": \"ENCORE CAPITAL GROUP INC.\", \"line\": {\"color\": \"#9467BD\", \"dash\": \"solid\"}, \"mode\": \"lines\", \"name\": \"ENCORE CAPITAL GROUP INC.\", \"showlegend\": true, \"type\": \"scattergl\", \"x\": [\"2018-01-31T00:00:00\", \"2018-02-28T00:00:00\", \"2018-03-31T00:00:00\", \"2018-04-30T00:00:00\", \"2018-05-31T00:00:00\", \"2018-06-30T00:00:00\", \"2018-07-31T00:00:00\", \"2018-08-31T00:00:00\", \"2018-09-30T00:00:00\", \"2018-10-31T00:00:00\", \"2018-11-30T00:00:00\", \"2018-12-31T00:00:00\", \"2019-01-31T00:00:00\", \"2019-02-28T00:00:00\", \"2019-03-31T00:00:00\", \"2019-04-30T00:00:00\", \"2019-05-31T00:00:00\", \"2019-06-30T00:00:00\", \"2019-07-31T00:00:00\", \"2019-08-31T00:00:00\", \"2019-09-30T00:00:00\", \"2019-10-31T00:00:00\", \"2019-11-30T00:00:00\", \"2019-12-31T00:00:00\", \"2020-01-31T00:00:00\", \"2020-02-29T00:00:00\", \"2020-03-31T00:00:00\", \"2020-04-30T00:00:00\", \"2020-05-31T00:00:00\", \"2020-06-30T00:00:00\", \"2020-07-31T00:00:00\", \"2020-08-31T00:00:00\", \"2020-09-30T00:00:00\", \"2020-10-31T00:00:00\", \"2020-11-30T00:00:00\", \"2020-12-31T00:00:00\", \"2021-01-31T00:00:00\", \"2021-02-28T00:00:00\", \"2021-03-31T00:00:00\"], \"xaxis\": \"x\", \"y\": [152, 163, 196, 183, 182, 162, 147, 142, 130, 159, 127, 108, 100, 119, 181, 165, 168, 129, 122, 132, 160, 126, 129, 145, 166, 171, 184, 138, 149, 141, 136, 164, 181, 170, 169, 180, 174, 245, 131], \"yaxis\": \"y\"}, {\"hovertemplate\": \"Companies=EQUIFAX, INC.<br>Date=%{x}<br>Complaints=%{y}<extra></extra>\", \"legendgroup\": \"EQUIFAX, INC.\", \"line\": {\"color\": \"#8C564B\", \"dash\": \"solid\"}, \"mode\": \"lines\", \"name\": \"EQUIFAX, INC.\", \"showlegend\": true, \"type\": \"scattergl\", \"x\": [\"2018-01-31T00:00:00\", \"2018-02-28T00:00:00\", \"2018-03-31T00:00:00\", \"2018-04-30T00:00:00\", \"2018-05-31T00:00:00\", \"2018-06-30T00:00:00\", \"2018-07-31T00:00:00\", \"2018-08-31T00:00:00\", \"2018-09-30T00:00:00\", \"2018-10-31T00:00:00\", \"2018-11-30T00:00:00\", \"2018-12-31T00:00:00\", \"2019-01-31T00:00:00\", \"2019-02-28T00:00:00\", \"2019-03-31T00:00:00\", \"2019-04-30T00:00:00\", \"2019-05-31T00:00:00\", \"2019-06-30T00:00:00\", \"2019-07-31T00:00:00\", \"2019-08-31T00:00:00\", \"2019-09-30T00:00:00\", \"2019-10-31T00:00:00\", \"2019-11-30T00:00:00\", \"2019-12-31T00:00:00\", \"2020-01-31T00:00:00\", \"2020-02-29T00:00:00\", \"2020-03-31T00:00:00\", \"2020-04-30T00:00:00\", \"2020-05-31T00:00:00\", \"2020-06-30T00:00:00\", \"2020-07-31T00:00:00\", \"2020-08-31T00:00:00\", \"2020-09-30T00:00:00\", \"2020-10-31T00:00:00\", \"2020-11-30T00:00:00\", \"2020-12-31T00:00:00\", \"2021-01-31T00:00:00\", \"2021-02-28T00:00:00\", \"2021-03-31T00:00:00\"], \"xaxis\": \"x\", \"y\": [2376, 2484, 2406, 2647, 2529, 2311, 2523, 2590, 2369, 2818, 2586, 2418, 2354, 2571, 3206, 3145, 3338, 3519, 3957, 4058, 3743, 4048, 3570, 3409, 4446, 3971, 5202, 5995, 6572, 6322, 6875, 6562, 7133, 8019, 7634, 9657, 9299, 6729, 5305], \"yaxis\": \"y\"}, {\"hovertemplate\": \"Companies=Experian Information Solutions Inc.<br>Date=%{x}<br>Complaints=%{y}<extra></extra>\", \"legendgroup\": \"Experian Information Solutions Inc.\", \"line\": {\"color\": \"#E377C2\", \"dash\": \"solid\"}, \"mode\": \"lines\", \"name\": \"Experian Information Solutions Inc.\", \"showlegend\": true, \"type\": \"scattergl\", \"x\": [\"2018-01-31T00:00:00\", \"2018-02-28T00:00:00\", \"2018-03-31T00:00:00\", \"2018-04-30T00:00:00\", \"2018-05-31T00:00:00\", \"2018-06-30T00:00:00\", \"2018-07-31T00:00:00\", \"2018-08-31T00:00:00\", \"2018-09-30T00:00:00\", \"2018-10-31T00:00:00\", \"2018-11-30T00:00:00\", \"2018-12-31T00:00:00\", \"2019-01-31T00:00:00\", \"2019-02-28T00:00:00\", \"2019-03-31T00:00:00\", \"2019-04-30T00:00:00\", \"2019-05-31T00:00:00\", \"2019-06-30T00:00:00\", \"2019-07-31T00:00:00\", \"2019-08-31T00:00:00\", \"2019-09-30T00:00:00\", \"2019-10-31T00:00:00\", \"2019-11-30T00:00:00\", \"2019-12-31T00:00:00\", \"2020-01-31T00:00:00\", \"2020-02-29T00:00:00\", \"2020-03-31T00:00:00\", \"2020-04-30T00:00:00\", \"2020-05-31T00:00:00\", \"2020-06-30T00:00:00\", \"2020-07-31T00:00:00\", \"2020-08-31T00:00:00\", \"2020-09-30T00:00:00\", \"2020-10-31T00:00:00\", \"2020-11-30T00:00:00\", \"2020-12-31T00:00:00\", \"2021-01-31T00:00:00\", \"2021-02-28T00:00:00\", \"2021-03-31T00:00:00\"], \"xaxis\": \"x\", \"y\": [2539, 2578, 2648, 2825, 2548, 2375, 2469, 2566, 2165, 2629, 2341, 2238, 2280, 2587, 2981, 2912, 3167, 3164, 3235, 3577, 3194, 3625, 3179, 3103, 4065, 3890, 4866, 6202, 7276, 7549, 8262, 8119, 8632, 9943, 9159, 11258, 3633, 2098, 1780], \"yaxis\": \"y\"}, {\"hovertemplate\": \"Companies=JPMORGAN CHASE & CO.<br>Date=%{x}<br>Complaints=%{y}<extra></extra>\", \"legendgroup\": \"JPMORGAN CHASE & CO.\", \"line\": {\"color\": \"#7F7F7F\", \"dash\": \"solid\"}, \"mode\": \"lines\", \"name\": \"JPMORGAN CHASE & CO.\", \"showlegend\": true, \"type\": \"scattergl\", \"x\": [\"2018-01-31T00:00:00\", \"2018-02-28T00:00:00\", \"2018-03-31T00:00:00\", \"2018-04-30T00:00:00\", \"2018-05-31T00:00:00\", \"2018-06-30T00:00:00\", \"2018-07-31T00:00:00\", \"2018-08-31T00:00:00\", \"2018-09-30T00:00:00\", \"2018-10-31T00:00:00\", \"2018-11-30T00:00:00\", \"2018-12-31T00:00:00\", \"2019-01-31T00:00:00\", \"2019-02-28T00:00:00\", \"2019-03-31T00:00:00\", \"2019-04-30T00:00:00\", \"2019-05-31T00:00:00\", \"2019-06-30T00:00:00\", \"2019-07-31T00:00:00\", \"2019-08-31T00:00:00\", \"2019-09-30T00:00:00\", \"2019-10-31T00:00:00\", \"2019-11-30T00:00:00\", \"2019-12-31T00:00:00\", \"2020-01-31T00:00:00\", \"2020-02-29T00:00:00\", \"2020-03-31T00:00:00\", \"2020-04-30T00:00:00\", \"2020-05-31T00:00:00\", \"2020-06-30T00:00:00\", \"2020-07-31T00:00:00\", \"2020-08-31T00:00:00\", \"2020-09-30T00:00:00\", \"2020-10-31T00:00:00\", \"2020-11-30T00:00:00\", \"2020-12-31T00:00:00\", \"2021-01-31T00:00:00\", \"2021-02-28T00:00:00\", \"2021-03-31T00:00:00\"], \"xaxis\": \"x\", \"y\": [745, 723, 811, 920, 828, 683, 722, 746, 640, 727, 695, 666, 756, 634, 756, 749, 778, 710, 688, 762, 659, 657, 541, 570, 616, 597, 707, 832, 780, 868, 941, 831, 749, 776, 740, 785, 793, 816, 461], \"yaxis\": \"y\"}, {\"hovertemplate\": \"Companies=Mobiloans, LLC<br>Date=%{x}<br>Complaints=%{y}<extra></extra>\", \"legendgroup\": \"Mobiloans, LLC\", \"line\": {\"color\": \"#BCBD22\", \"dash\": \"solid\"}, \"mode\": \"lines\", \"name\": \"Mobiloans, LLC\", \"showlegend\": true, \"type\": \"scattergl\", \"x\": [\"2018-01-31T00:00:00\", \"2018-02-28T00:00:00\", \"2018-03-31T00:00:00\", \"2018-04-30T00:00:00\", \"2018-05-31T00:00:00\", \"2018-06-30T00:00:00\", \"2018-07-31T00:00:00\", \"2018-08-31T00:00:00\", \"2018-09-30T00:00:00\", \"2018-10-31T00:00:00\", \"2018-11-30T00:00:00\", \"2018-12-31T00:00:00\", \"2019-01-31T00:00:00\", \"2019-02-28T00:00:00\", \"2019-03-31T00:00:00\", \"2019-04-30T00:00:00\", \"2019-05-31T00:00:00\", \"2019-06-30T00:00:00\", \"2019-07-31T00:00:00\", \"2019-08-31T00:00:00\", \"2019-09-30T00:00:00\", \"2019-10-31T00:00:00\", \"2019-11-30T00:00:00\", \"2019-12-31T00:00:00\", \"2020-01-31T00:00:00\", \"2020-02-29T00:00:00\", \"2020-03-31T00:00:00\", \"2020-04-30T00:00:00\", \"2020-05-31T00:00:00\", \"2020-06-30T00:00:00\", \"2020-07-31T00:00:00\", \"2020-08-31T00:00:00\", \"2020-09-30T00:00:00\", \"2020-10-31T00:00:00\", \"2020-11-30T00:00:00\", \"2020-12-31T00:00:00\", \"2021-01-31T00:00:00\", \"2021-02-28T00:00:00\"], \"xaxis\": \"x\", \"y\": [3, 6, 5, 5, 4, 5, 2, 6, 3, 9, 3, 3, 5, 4, 3, 3, 4, 5, 10, 4, 2, 6, 3, 6, 5, 5, 4, 3, 2, 3, 4, 6, 2, 3, 3, 1, 2, 2], \"yaxis\": \"y\"}, {\"hovertemplate\": \"Companies=NAVY FEDERAL CREDIT UNION<br>Date=%{x}<br>Complaints=%{y}<extra></extra>\", \"legendgroup\": \"NAVY FEDERAL CREDIT UNION\", \"line\": {\"color\": \"#17BECF\", \"dash\": \"solid\"}, \"mode\": \"lines\", \"name\": \"NAVY FEDERAL CREDIT UNION\", \"showlegend\": true, \"type\": \"scattergl\", \"x\": [\"2018-01-31T00:00:00\", \"2018-02-28T00:00:00\", \"2018-03-31T00:00:00\", \"2018-04-30T00:00:00\", \"2018-05-31T00:00:00\", \"2018-06-30T00:00:00\", \"2018-07-31T00:00:00\", \"2018-08-31T00:00:00\", \"2018-09-30T00:00:00\", \"2018-10-31T00:00:00\", \"2018-11-30T00:00:00\", \"2018-12-31T00:00:00\", \"2019-01-31T00:00:00\", \"2019-02-28T00:00:00\", \"2019-03-31T00:00:00\", \"2019-04-30T00:00:00\", \"2019-05-31T00:00:00\", \"2019-06-30T00:00:00\", \"2019-07-31T00:00:00\", \"2019-08-31T00:00:00\", \"2019-09-30T00:00:00\", \"2019-10-31T00:00:00\", \"2019-11-30T00:00:00\", \"2019-12-31T00:00:00\", \"2020-01-31T00:00:00\", \"2020-02-29T00:00:00\", \"2020-03-31T00:00:00\", \"2020-04-30T00:00:00\", \"2020-05-31T00:00:00\", \"2020-06-30T00:00:00\", \"2020-07-31T00:00:00\", \"2020-08-31T00:00:00\", \"2020-09-30T00:00:00\", \"2020-10-31T00:00:00\", \"2020-11-30T00:00:00\", \"2020-12-31T00:00:00\", \"2021-01-31T00:00:00\", \"2021-02-28T00:00:00\", \"2021-03-31T00:00:00\"], \"xaxis\": \"x\", \"y\": [103, 112, 105, 77, 107, 99, 78, 114, 67, 96, 88, 87, 88, 126, 74, 92, 95, 84, 101, 118, 94, 111, 96, 83, 103, 94, 121, 124, 111, 137, 144, 159, 125, 126, 116, 138, 162, 150, 206], \"yaxis\": \"y\"}, {\"hovertemplate\": \"Companies=Navient Solutions, LLC.<br>Date=%{x}<br>Complaints=%{y}<extra></extra>\", \"legendgroup\": \"Navient Solutions, LLC.\", \"line\": {\"color\": \"#1F77B4\", \"dash\": \"solid\"}, \"mode\": \"lines\", \"name\": \"Navient Solutions, LLC.\", \"showlegend\": true, \"type\": \"scattergl\", \"x\": [\"2018-01-31T00:00:00\", \"2018-02-28T00:00:00\", \"2018-03-31T00:00:00\", \"2018-04-30T00:00:00\", \"2018-05-31T00:00:00\", \"2018-06-30T00:00:00\", \"2018-07-31T00:00:00\", \"2018-08-31T00:00:00\", \"2018-09-30T00:00:00\", \"2018-10-31T00:00:00\", \"2018-11-30T00:00:00\", \"2018-12-31T00:00:00\", \"2019-01-31T00:00:00\", \"2019-02-28T00:00:00\", \"2019-03-31T00:00:00\", \"2019-04-30T00:00:00\", \"2019-05-31T00:00:00\", \"2019-06-30T00:00:00\", \"2019-07-31T00:00:00\", \"2019-08-31T00:00:00\", \"2019-09-30T00:00:00\", \"2019-10-31T00:00:00\", \"2019-11-30T00:00:00\", \"2019-12-31T00:00:00\", \"2020-01-31T00:00:00\", \"2020-02-29T00:00:00\", \"2020-03-31T00:00:00\", \"2020-04-30T00:00:00\", \"2020-05-31T00:00:00\", \"2020-06-30T00:00:00\", \"2020-07-31T00:00:00\", \"2020-08-31T00:00:00\", \"2020-09-30T00:00:00\", \"2020-10-31T00:00:00\", \"2020-11-30T00:00:00\", \"2020-12-31T00:00:00\", \"2021-01-31T00:00:00\", \"2021-02-28T00:00:00\", \"2021-03-31T00:00:00\"], \"xaxis\": \"x\", \"y\": [529, 430, 497, 484, 444, 361, 434, 425, 356, 372, 358, 412, 455, 439, 396, 329, 268, 324, 305, 288, 231, 313, 254, 194, 223, 222, 205, 209, 191, 183, 159, 155, 110, 162, 166, 166, 187, 150, 112], \"yaxis\": \"y\"}, {\"hovertemplate\": \"Companies=PNC Bank N.A.<br>Date=%{x}<br>Complaints=%{y}<extra></extra>\", \"legendgroup\": \"PNC Bank N.A.\", \"line\": {\"color\": \"#FF7F0E\", \"dash\": \"solid\"}, \"mode\": \"lines\", \"name\": \"PNC Bank N.A.\", \"showlegend\": true, \"type\": \"scattergl\", \"x\": [\"2018-01-31T00:00:00\", \"2018-02-28T00:00:00\", \"2018-03-31T00:00:00\", \"2018-04-30T00:00:00\", \"2018-05-31T00:00:00\", \"2018-06-30T00:00:00\", \"2018-07-31T00:00:00\", \"2018-08-31T00:00:00\", \"2018-09-30T00:00:00\", \"2018-10-31T00:00:00\", \"2018-11-30T00:00:00\", \"2018-12-31T00:00:00\", \"2019-01-31T00:00:00\", \"2019-02-28T00:00:00\", \"2019-03-31T00:00:00\", \"2019-04-30T00:00:00\", \"2019-05-31T00:00:00\", \"2019-06-30T00:00:00\", \"2019-07-31T00:00:00\", \"2019-08-31T00:00:00\", \"2019-09-30T00:00:00\", \"2019-10-31T00:00:00\", \"2019-11-30T00:00:00\", \"2019-12-31T00:00:00\", \"2020-01-31T00:00:00\", \"2020-02-29T00:00:00\", \"2020-03-31T00:00:00\", \"2020-04-30T00:00:00\", \"2020-05-31T00:00:00\", \"2020-06-30T00:00:00\", \"2020-07-31T00:00:00\", \"2020-08-31T00:00:00\", \"2020-09-30T00:00:00\", \"2020-10-31T00:00:00\", \"2020-11-30T00:00:00\", \"2020-12-31T00:00:00\", \"2021-01-31T00:00:00\", \"2021-02-28T00:00:00\", \"2021-03-31T00:00:00\"], \"xaxis\": \"x\", \"y\": [105, 126, 140, 192, 140, 141, 166, 151, 117, 146, 123, 103, 115, 123, 142, 149, 128, 130, 112, 125, 119, 144, 106, 113, 115, 119, 125, 332, 318, 1065, 1062, 458, 148, 122, 94, 128, 124, 120, 72], \"yaxis\": \"y\"}, {\"hovertemplate\": \"Companies=PORTFOLIO RECOVERY ASSOCIATES INC<br>Date=%{x}<br>Complaints=%{y}<extra></extra>\", \"legendgroup\": \"PORTFOLIO RECOVERY ASSOCIATES INC\", \"line\": {\"color\": \"#2CA02C\", \"dash\": \"solid\"}, \"mode\": \"lines\", \"name\": \"PORTFOLIO RECOVERY ASSOCIATES INC\", \"showlegend\": true, \"type\": \"scattergl\", \"x\": [\"2018-01-31T00:00:00\", \"2018-02-28T00:00:00\", \"2018-03-31T00:00:00\", \"2018-04-30T00:00:00\", \"2018-05-31T00:00:00\", \"2018-06-30T00:00:00\", \"2018-07-31T00:00:00\", \"2018-08-31T00:00:00\", \"2018-09-30T00:00:00\", \"2018-10-31T00:00:00\", \"2018-11-30T00:00:00\", \"2018-12-31T00:00:00\", \"2019-01-31T00:00:00\", \"2019-02-28T00:00:00\", \"2019-03-31T00:00:00\", \"2019-04-30T00:00:00\", \"2019-05-31T00:00:00\", \"2019-06-30T00:00:00\", \"2019-07-31T00:00:00\", \"2019-08-31T00:00:00\", \"2019-09-30T00:00:00\", \"2019-10-31T00:00:00\", \"2019-11-30T00:00:00\", \"2019-12-31T00:00:00\", \"2020-01-31T00:00:00\", \"2020-02-29T00:00:00\", \"2020-03-31T00:00:00\", \"2020-04-30T00:00:00\", \"2020-05-31T00:00:00\", \"2020-06-30T00:00:00\", \"2020-07-31T00:00:00\", \"2020-08-31T00:00:00\", \"2020-09-30T00:00:00\", \"2020-10-31T00:00:00\", \"2020-11-30T00:00:00\", \"2020-12-31T00:00:00\", \"2021-01-31T00:00:00\", \"2021-02-28T00:00:00\", \"2021-03-31T00:00:00\"], \"xaxis\": \"x\", \"y\": [255, 246, 301, 282, 307, 220, 232, 228, 205, 255, 174, 176, 166, 212, 201, 202, 192, 199, 186, 192, 209, 190, 158, 152, 201, 181, 242, 228, 249, 219, 264, 316, 307, 300, 331, 322, 345, 386, 215], \"yaxis\": \"y\"}, {\"hovertemplate\": \"Companies=Paypal Holdings, Inc<br>Date=%{x}<br>Complaints=%{y}<extra></extra>\", \"legendgroup\": \"Paypal Holdings, Inc\", \"line\": {\"color\": \"#D62728\", \"dash\": \"solid\"}, \"mode\": \"lines\", \"name\": \"Paypal Holdings, Inc\", \"showlegend\": true, \"type\": \"scattergl\", \"x\": [\"2018-01-31T00:00:00\", \"2018-02-28T00:00:00\", \"2018-03-31T00:00:00\", \"2018-04-30T00:00:00\", \"2018-05-31T00:00:00\", \"2018-06-30T00:00:00\", \"2018-07-31T00:00:00\", \"2018-08-31T00:00:00\", \"2018-09-30T00:00:00\", \"2018-10-31T00:00:00\", \"2018-11-30T00:00:00\", \"2018-12-31T00:00:00\", \"2019-01-31T00:00:00\", \"2019-02-28T00:00:00\", \"2019-03-31T00:00:00\", \"2019-04-30T00:00:00\", \"2019-05-31T00:00:00\", \"2019-06-30T00:00:00\", \"2019-07-31T00:00:00\", \"2019-08-31T00:00:00\", \"2019-09-30T00:00:00\", \"2019-10-31T00:00:00\", \"2019-11-30T00:00:00\", \"2019-12-31T00:00:00\", \"2020-01-31T00:00:00\", \"2020-02-29T00:00:00\", \"2020-03-31T00:00:00\", \"2020-04-30T00:00:00\", \"2020-05-31T00:00:00\", \"2020-06-30T00:00:00\", \"2020-07-31T00:00:00\", \"2020-08-31T00:00:00\", \"2020-09-30T00:00:00\", \"2020-10-31T00:00:00\", \"2020-11-30T00:00:00\", \"2020-12-31T00:00:00\", \"2021-01-31T00:00:00\", \"2021-02-28T00:00:00\", \"2021-03-31T00:00:00\"], \"xaxis\": \"x\", \"y\": [77, 82, 72, 83, 73, 78, 69, 95, 72, 88, 90, 108, 120, 126, 129, 122, 142, 137, 148, 128, 142, 145, 147, 142, 124, 122, 124, 190, 221, 271, 277, 267, 216, 230, 191, 264, 234, 486, 335], \"yaxis\": \"y\"}, {\"hovertemplate\": \"Companies=Premier\\u00a0Student\\u00a0Loan\\u00a0Center<br>Date=%{x}<br>Complaints=%{y}<extra></extra>\", \"legendgroup\": \"Premier\\u00a0Student\\u00a0Loan\\u00a0Center\", \"line\": {\"color\": \"#9467BD\", \"dash\": \"solid\"}, \"mode\": \"lines\", \"name\": \"Premier\\u00a0Student\\u00a0Loan\\u00a0Center\", \"showlegend\": true, \"type\": \"scattergl\", \"x\": [\"2018-01-31T00:00:00\", \"2018-02-28T00:00:00\", \"2018-03-31T00:00:00\", \"2018-04-30T00:00:00\", \"2018-05-31T00:00:00\", \"2018-06-30T00:00:00\", \"2018-07-31T00:00:00\", \"2018-08-31T00:00:00\", \"2018-09-30T00:00:00\", \"2018-10-31T00:00:00\", \"2018-11-30T00:00:00\", \"2018-12-31T00:00:00\", \"2019-01-31T00:00:00\", \"2019-02-28T00:00:00\", \"2019-03-31T00:00:00\", \"2019-04-30T00:00:00\", \"2019-05-31T00:00:00\", \"2019-06-30T00:00:00\", \"2019-07-31T00:00:00\", \"2019-08-31T00:00:00\", \"2019-09-30T00:00:00\", \"2019-10-31T00:00:00\", \"2019-11-30T00:00:00\", \"2019-12-31T00:00:00\", \"2020-01-31T00:00:00\", \"2020-02-29T00:00:00\", \"2020-03-31T00:00:00\", \"2020-04-30T00:00:00\", \"2020-05-31T00:00:00\", \"2020-06-30T00:00:00\", \"2020-07-31T00:00:00\", \"2020-08-31T00:00:00\", \"2020-09-30T00:00:00\", \"2020-10-31T00:00:00\", \"2020-11-30T00:00:00\", \"2020-12-31T00:00:00\", \"2021-01-31T00:00:00\"], \"xaxis\": \"x\", \"y\": [2, 7, 2, 4, 4, 9, 7, 7, 4, 3, 5, 3, 9, 2, 6, 5, 5, 2, 4, 1, 2, 6, 20, 18, 15, 13, 8, 2, 1, 1, 1, 0, 0, 2, 2, 1, 2], \"yaxis\": \"y\"}, {\"hovertemplate\": \"Companies=SYNCHRONY FINANCIAL<br>Date=%{x}<br>Complaints=%{y}<extra></extra>\", \"legendgroup\": \"SYNCHRONY FINANCIAL\", \"line\": {\"color\": \"#8C564B\", \"dash\": \"solid\"}, \"mode\": \"lines\", \"name\": \"SYNCHRONY FINANCIAL\", \"showlegend\": true, \"type\": \"scattergl\", \"x\": [\"2018-01-31T00:00:00\", \"2018-02-28T00:00:00\", \"2018-03-31T00:00:00\", \"2018-04-30T00:00:00\", \"2018-05-31T00:00:00\", \"2018-06-30T00:00:00\", \"2018-07-31T00:00:00\", \"2018-08-31T00:00:00\", \"2018-09-30T00:00:00\", \"2018-10-31T00:00:00\", \"2018-11-30T00:00:00\", \"2018-12-31T00:00:00\", \"2019-01-31T00:00:00\", \"2019-02-28T00:00:00\", \"2019-03-31T00:00:00\", \"2019-04-30T00:00:00\", \"2019-05-31T00:00:00\", \"2019-06-30T00:00:00\", \"2019-07-31T00:00:00\", \"2019-08-31T00:00:00\", \"2019-09-30T00:00:00\", \"2019-10-31T00:00:00\", \"2019-11-30T00:00:00\", \"2019-12-31T00:00:00\", \"2020-01-31T00:00:00\", \"2020-02-29T00:00:00\", \"2020-03-31T00:00:00\", \"2020-04-30T00:00:00\", \"2020-05-31T00:00:00\", \"2020-06-30T00:00:00\", \"2020-07-31T00:00:00\", \"2020-08-31T00:00:00\", \"2020-09-30T00:00:00\", \"2020-10-31T00:00:00\", \"2020-11-30T00:00:00\", \"2020-12-31T00:00:00\", \"2021-01-31T00:00:00\", \"2021-02-28T00:00:00\", \"2021-03-31T00:00:00\"], \"xaxis\": \"x\", \"y\": [412, 367, 433, 404, 399, 354, 395, 431, 359, 429, 362, 331, 341, 311, 466, 415, 401, 385, 422, 443, 366, 355, 430, 319, 337, 364, 345, 388, 405, 401, 469, 450, 409, 404, 422, 448, 417, 494, 240], \"yaxis\": \"y\"}, {\"hovertemplate\": \"Companies=Santander Consumer USA Holdings Inc.<br>Date=%{x}<br>Complaints=%{y}<extra></extra>\", \"legendgroup\": \"Santander Consumer USA Holdings Inc.\", \"line\": {\"color\": \"#E377C2\", \"dash\": \"solid\"}, \"mode\": \"lines\", \"name\": \"Santander Consumer USA Holdings Inc.\", \"showlegend\": true, \"type\": \"scattergl\", \"x\": [\"2018-01-31T00:00:00\", \"2018-02-28T00:00:00\", \"2018-03-31T00:00:00\", \"2018-04-30T00:00:00\", \"2018-05-31T00:00:00\", \"2018-06-30T00:00:00\", \"2018-07-31T00:00:00\", \"2018-08-31T00:00:00\", \"2018-09-30T00:00:00\", \"2018-10-31T00:00:00\", \"2018-11-30T00:00:00\", \"2018-12-31T00:00:00\", \"2019-01-31T00:00:00\", \"2019-02-28T00:00:00\", \"2019-03-31T00:00:00\", \"2019-04-30T00:00:00\", \"2019-05-31T00:00:00\", \"2019-06-30T00:00:00\", \"2019-07-31T00:00:00\", \"2019-08-31T00:00:00\", \"2019-09-30T00:00:00\", \"2019-10-31T00:00:00\", \"2019-11-30T00:00:00\", \"2019-12-31T00:00:00\", \"2020-01-31T00:00:00\", \"2020-02-29T00:00:00\", \"2020-03-31T00:00:00\", \"2020-04-30T00:00:00\", \"2020-05-31T00:00:00\", \"2020-06-30T00:00:00\", \"2020-07-31T00:00:00\", \"2020-08-31T00:00:00\", \"2020-09-30T00:00:00\", \"2020-10-31T00:00:00\", \"2020-11-30T00:00:00\", \"2020-12-31T00:00:00\", \"2021-01-31T00:00:00\", \"2021-02-28T00:00:00\", \"2021-03-31T00:00:00\"], \"xaxis\": \"x\", \"y\": [118, 119, 119, 122, 113, 102, 105, 118, 109, 110, 101, 91, 88, 105, 112, 114, 110, 108, 118, 93, 100, 102, 97, 78, 88, 91, 122, 120, 174, 173, 178, 200, 170, 219, 196, 184, 230, 225, 130], \"yaxis\": \"y\"}, {\"hovertemplate\": \"Companies=TD BANK US HOLDING COMPANY<br>Date=%{x}<br>Complaints=%{y}<extra></extra>\", \"legendgroup\": \"TD BANK US HOLDING COMPANY\", \"line\": {\"color\": \"#7F7F7F\", \"dash\": \"solid\"}, \"mode\": \"lines\", \"name\": \"TD BANK US HOLDING COMPANY\", \"showlegend\": true, \"type\": \"scattergl\", \"x\": [\"2018-01-31T00:00:00\", \"2018-02-28T00:00:00\", \"2018-03-31T00:00:00\", \"2018-04-30T00:00:00\", \"2018-05-31T00:00:00\", \"2018-06-30T00:00:00\", \"2018-07-31T00:00:00\", \"2018-08-31T00:00:00\", \"2018-09-30T00:00:00\", \"2018-10-31T00:00:00\", \"2018-11-30T00:00:00\", \"2018-12-31T00:00:00\", \"2019-01-31T00:00:00\", \"2019-02-28T00:00:00\", \"2019-03-31T00:00:00\", \"2019-04-30T00:00:00\", \"2019-05-31T00:00:00\", \"2019-06-30T00:00:00\", \"2019-07-31T00:00:00\", \"2019-08-31T00:00:00\", \"2019-09-30T00:00:00\", \"2019-10-31T00:00:00\", \"2019-11-30T00:00:00\", \"2019-12-31T00:00:00\", \"2020-01-31T00:00:00\", \"2020-02-29T00:00:00\", \"2020-03-31T00:00:00\", \"2020-04-30T00:00:00\", \"2020-05-31T00:00:00\", \"2020-06-30T00:00:00\", \"2020-07-31T00:00:00\", \"2020-08-31T00:00:00\", \"2020-09-30T00:00:00\", \"2020-10-31T00:00:00\", \"2020-11-30T00:00:00\", \"2020-12-31T00:00:00\", \"2021-01-31T00:00:00\", \"2021-02-28T00:00:00\", \"2021-03-31T00:00:00\"], \"xaxis\": \"x\", \"y\": [307, 155, 205, 215, 146, 158, 157, 185, 138, 167, 145, 139, 146, 123, 150, 150, 148, 153, 170, 195, 187, 162, 149, 147, 162, 160, 160, 186, 203, 202, 224, 250, 225, 214, 216, 246, 265, 276, 131], \"yaxis\": \"y\"}, {\"hovertemplate\": \"Companies=TRANSUNION INTERMEDIATE HOLDINGS, INC.<br>Date=%{x}<br>Complaints=%{y}<extra></extra>\", \"legendgroup\": \"TRANSUNION INTERMEDIATE HOLDINGS, INC.\", \"line\": {\"color\": \"#BCBD22\", \"dash\": \"solid\"}, \"mode\": \"lines\", \"name\": \"TRANSUNION INTERMEDIATE HOLDINGS, INC.\", \"showlegend\": true, \"type\": \"scattergl\", \"x\": [\"2018-01-31T00:00:00\", \"2018-02-28T00:00:00\", \"2018-03-31T00:00:00\", \"2018-04-30T00:00:00\", \"2018-05-31T00:00:00\", \"2018-06-30T00:00:00\", \"2018-07-31T00:00:00\", \"2018-08-31T00:00:00\", \"2018-09-30T00:00:00\", \"2018-10-31T00:00:00\", \"2018-11-30T00:00:00\", \"2018-12-31T00:00:00\", \"2019-01-31T00:00:00\", \"2019-02-28T00:00:00\", \"2019-03-31T00:00:00\", \"2019-04-30T00:00:00\", \"2019-05-31T00:00:00\", \"2019-06-30T00:00:00\", \"2019-07-31T00:00:00\", \"2019-08-31T00:00:00\", \"2019-09-30T00:00:00\", \"2019-10-31T00:00:00\", \"2019-11-30T00:00:00\", \"2019-12-31T00:00:00\", \"2020-01-31T00:00:00\", \"2020-02-29T00:00:00\", \"2020-03-31T00:00:00\", \"2020-04-30T00:00:00\", \"2020-05-31T00:00:00\", \"2020-06-30T00:00:00\", \"2020-07-31T00:00:00\", \"2020-08-31T00:00:00\", \"2020-09-30T00:00:00\", \"2020-10-31T00:00:00\", \"2020-11-30T00:00:00\", \"2020-12-31T00:00:00\", \"2021-01-31T00:00:00\", \"2021-02-28T00:00:00\", \"2021-03-31T00:00:00\"], \"xaxis\": \"x\", \"y\": [2376, 2310, 2446, 2599, 2452, 2190, 2326, 2429, 2235, 2596, 2267, 2126, 2176, 2460, 2982, 3042, 3380, 3409, 3686, 3931, 3454, 3765, 3347, 3242, 4308, 3881, 5225, 6339, 7122, 7090, 7701, 7579, 7829, 9131, 8444, 10456, 11478, 5328, 8065], \"yaxis\": \"y\"}, {\"hovertemplate\": \"Companies=U.S. BANCORP<br>Date=%{x}<br>Complaints=%{y}<extra></extra>\", \"legendgroup\": \"U.S. BANCORP\", \"line\": {\"color\": \"#17BECF\", \"dash\": \"solid\"}, \"mode\": \"lines\", \"name\": \"U.S. BANCORP\", \"showlegend\": true, \"type\": \"scattergl\", \"x\": [\"2018-01-31T00:00:00\", \"2018-02-28T00:00:00\", \"2018-03-31T00:00:00\", \"2018-04-30T00:00:00\", \"2018-05-31T00:00:00\", \"2018-06-30T00:00:00\", \"2018-07-31T00:00:00\", \"2018-08-31T00:00:00\", \"2018-09-30T00:00:00\", \"2018-10-31T00:00:00\", \"2018-11-30T00:00:00\", \"2018-12-31T00:00:00\", \"2019-01-31T00:00:00\", \"2019-02-28T00:00:00\", \"2019-03-31T00:00:00\", \"2019-04-30T00:00:00\", \"2019-05-31T00:00:00\", \"2019-06-30T00:00:00\", \"2019-07-31T00:00:00\", \"2019-08-31T00:00:00\", \"2019-09-30T00:00:00\", \"2019-10-31T00:00:00\", \"2019-11-30T00:00:00\", \"2019-12-31T00:00:00\", \"2020-01-31T00:00:00\", \"2020-02-29T00:00:00\", \"2020-03-31T00:00:00\", \"2020-04-30T00:00:00\", \"2020-05-31T00:00:00\", \"2020-06-30T00:00:00\", \"2020-07-31T00:00:00\", \"2020-08-31T00:00:00\", \"2020-09-30T00:00:00\", \"2020-10-31T00:00:00\", \"2020-11-30T00:00:00\", \"2020-12-31T00:00:00\", \"2021-01-31T00:00:00\", \"2021-02-28T00:00:00\", \"2021-03-31T00:00:00\"], \"xaxis\": \"x\", \"y\": [205, 185, 227, 257, 185, 173, 175, 229, 183, 205, 173, 194, 177, 150, 220, 194, 198, 203, 241, 218, 220, 235, 206, 211, 214, 211, 226, 382, 261, 289, 380, 420, 446, 487, 444, 394, 418, 379, 258], \"yaxis\": \"y\"}, {\"hovertemplate\": \"Companies=WELLS FARGO & COMPANY<br>Date=%{x}<br>Complaints=%{y}<extra></extra>\", \"legendgroup\": \"WELLS FARGO & COMPANY\", \"line\": {\"color\": \"#1F77B4\", \"dash\": \"solid\"}, \"mode\": \"lines\", \"name\": \"WELLS FARGO & COMPANY\", \"showlegend\": true, \"type\": \"scattergl\", \"x\": [\"2018-01-31T00:00:00\", \"2018-02-28T00:00:00\", \"2018-03-31T00:00:00\", \"2018-04-30T00:00:00\", \"2018-05-31T00:00:00\", \"2018-06-30T00:00:00\", \"2018-07-31T00:00:00\", \"2018-08-31T00:00:00\", \"2018-09-30T00:00:00\", \"2018-10-31T00:00:00\", \"2018-11-30T00:00:00\", \"2018-12-31T00:00:00\", \"2019-01-31T00:00:00\", \"2019-02-28T00:00:00\", \"2019-03-31T00:00:00\", \"2019-04-30T00:00:00\", \"2019-05-31T00:00:00\", \"2019-06-30T00:00:00\", \"2019-07-31T00:00:00\", \"2019-08-31T00:00:00\", \"2019-09-30T00:00:00\", \"2019-10-31T00:00:00\", \"2019-11-30T00:00:00\", \"2019-12-31T00:00:00\", \"2020-01-31T00:00:00\", \"2020-02-29T00:00:00\", \"2020-03-31T00:00:00\", \"2020-04-30T00:00:00\", \"2020-05-31T00:00:00\", \"2020-06-30T00:00:00\", \"2020-07-31T00:00:00\", \"2020-08-31T00:00:00\", \"2020-09-30T00:00:00\", \"2020-10-31T00:00:00\", \"2020-11-30T00:00:00\", \"2020-12-31T00:00:00\", \"2021-01-31T00:00:00\", \"2021-02-28T00:00:00\", \"2021-03-31T00:00:00\"], \"xaxis\": \"x\", \"y\": [714, 697, 842, 1015, 818, 706, 696, 776, 658, 672, 577, 618, 600, 659, 743, 674, 718, 649, 686, 602, 512, 595, 478, 507, 561, 557, 608, 605, 645, 677, 704, 664, 675, 654, 565, 619, 613, 639, 424], \"yaxis\": \"y\"}],                        {\"height\": 600, \"legend\": {\"orientation\": \"h\", \"title\": {}, \"tracegroupgap\": 0, \"x\": 0.7, \"xanchor\": \"center\", \"y\": 1, \"yanchor\": \"bottom\"}, \"template\": {\"data\": {\"bar\": [{\"error_x\": {\"color\": \"rgb(36,36,36)\"}, \"error_y\": {\"color\": \"rgb(36,36,36)\"}, \"marker\": {\"line\": {\"color\": \"white\", \"width\": 0.5}}, \"type\": \"bar\"}], \"barpolar\": [{\"marker\": {\"line\": {\"color\": \"white\", \"width\": 0.5}}, \"type\": \"barpolar\"}], \"carpet\": [{\"aaxis\": {\"endlinecolor\": \"rgb(36,36,36)\", \"gridcolor\": \"white\", \"linecolor\": \"white\", \"minorgridcolor\": \"white\", \"startlinecolor\": \"rgb(36,36,36)\"}, \"baxis\": {\"endlinecolor\": \"rgb(36,36,36)\", \"gridcolor\": \"white\", \"linecolor\": \"white\", \"minorgridcolor\": \"white\", \"startlinecolor\": \"rgb(36,36,36)\"}, \"type\": \"carpet\"}], \"choropleth\": [{\"colorbar\": {\"outlinewidth\": 1, \"tickcolor\": \"rgb(36,36,36)\", \"ticks\": \"outside\"}, \"type\": \"choropleth\"}], \"contour\": [{\"colorbar\": {\"outlinewidth\": 1, \"tickcolor\": \"rgb(36,36,36)\", \"ticks\": \"outside\"}, \"colorscale\": [[0.0, \"#440154\"], [0.1111111111111111, \"#482878\"], [0.2222222222222222, \"#3e4989\"], [0.3333333333333333, \"#31688e\"], [0.4444444444444444, \"#26828e\"], [0.5555555555555556, \"#1f9e89\"], [0.6666666666666666, \"#35b779\"], [0.7777777777777778, \"#6ece58\"], [0.8888888888888888, \"#b5de2b\"], [1.0, \"#fde725\"]], \"type\": \"contour\"}], \"contourcarpet\": [{\"colorbar\": {\"outlinewidth\": 1, \"tickcolor\": \"rgb(36,36,36)\", \"ticks\": \"outside\"}, \"type\": \"contourcarpet\"}], \"heatmap\": [{\"colorbar\": {\"outlinewidth\": 1, \"tickcolor\": \"rgb(36,36,36)\", \"ticks\": \"outside\"}, \"colorscale\": [[0.0, \"#440154\"], [0.1111111111111111, \"#482878\"], [0.2222222222222222, \"#3e4989\"], [0.3333333333333333, \"#31688e\"], [0.4444444444444444, \"#26828e\"], [0.5555555555555556, \"#1f9e89\"], [0.6666666666666666, \"#35b779\"], [0.7777777777777778, \"#6ece58\"], [0.8888888888888888, \"#b5de2b\"], [1.0, \"#fde725\"]], \"type\": \"heatmap\"}], \"heatmapgl\": [{\"colorbar\": {\"outlinewidth\": 1, \"tickcolor\": \"rgb(36,36,36)\", \"ticks\": \"outside\"}, \"colorscale\": [[0.0, \"#440154\"], [0.1111111111111111, \"#482878\"], [0.2222222222222222, \"#3e4989\"], [0.3333333333333333, \"#31688e\"], [0.4444444444444444, \"#26828e\"], [0.5555555555555556, \"#1f9e89\"], [0.6666666666666666, \"#35b779\"], [0.7777777777777778, \"#6ece58\"], [0.8888888888888888, \"#b5de2b\"], [1.0, \"#fde725\"]], \"type\": \"heatmapgl\"}], \"histogram\": [{\"marker\": {\"line\": {\"color\": \"white\", \"width\": 0.6}}, \"type\": \"histogram\"}], \"histogram2d\": [{\"colorbar\": {\"outlinewidth\": 1, \"tickcolor\": \"rgb(36,36,36)\", \"ticks\": \"outside\"}, \"colorscale\": [[0.0, \"#440154\"], [0.1111111111111111, \"#482878\"], [0.2222222222222222, \"#3e4989\"], [0.3333333333333333, \"#31688e\"], [0.4444444444444444, \"#26828e\"], [0.5555555555555556, \"#1f9e89\"], [0.6666666666666666, \"#35b779\"], [0.7777777777777778, \"#6ece58\"], [0.8888888888888888, \"#b5de2b\"], [1.0, \"#fde725\"]], \"type\": \"histogram2d\"}], \"histogram2dcontour\": [{\"colorbar\": {\"outlinewidth\": 1, \"tickcolor\": \"rgb(36,36,36)\", \"ticks\": \"outside\"}, \"colorscale\": [[0.0, \"#440154\"], [0.1111111111111111, \"#482878\"], [0.2222222222222222, \"#3e4989\"], [0.3333333333333333, \"#31688e\"], [0.4444444444444444, \"#26828e\"], [0.5555555555555556, \"#1f9e89\"], [0.6666666666666666, \"#35b779\"], [0.7777777777777778, \"#6ece58\"], [0.8888888888888888, \"#b5de2b\"], [1.0, \"#fde725\"]], \"type\": \"histogram2dcontour\"}], \"mesh3d\": [{\"colorbar\": {\"outlinewidth\": 1, \"tickcolor\": \"rgb(36,36,36)\", \"ticks\": \"outside\"}, \"type\": \"mesh3d\"}], \"parcoords\": [{\"line\": {\"colorbar\": {\"outlinewidth\": 1, \"tickcolor\": \"rgb(36,36,36)\", \"ticks\": \"outside\"}}, \"type\": \"parcoords\"}], \"pie\": [{\"automargin\": true, \"type\": \"pie\"}], \"scatter\": [{\"marker\": {\"colorbar\": {\"outlinewidth\": 1, \"tickcolor\": \"rgb(36,36,36)\", \"ticks\": \"outside\"}}, \"type\": \"scatter\"}], \"scatter3d\": [{\"line\": {\"colorbar\": {\"outlinewidth\": 1, \"tickcolor\": \"rgb(36,36,36)\", \"ticks\": \"outside\"}}, \"marker\": {\"colorbar\": {\"outlinewidth\": 1, \"tickcolor\": \"rgb(36,36,36)\", \"ticks\": \"outside\"}}, \"type\": \"scatter3d\"}], \"scattercarpet\": [{\"marker\": {\"colorbar\": {\"outlinewidth\": 1, \"tickcolor\": \"rgb(36,36,36)\", \"ticks\": \"outside\"}}, \"type\": \"scattercarpet\"}], \"scattergeo\": [{\"marker\": {\"colorbar\": {\"outlinewidth\": 1, \"tickcolor\": \"rgb(36,36,36)\", \"ticks\": \"outside\"}}, \"type\": \"scattergeo\"}], \"scattergl\": [{\"marker\": {\"colorbar\": {\"outlinewidth\": 1, \"tickcolor\": \"rgb(36,36,36)\", \"ticks\": \"outside\"}}, \"type\": \"scattergl\"}], \"scattermapbox\": [{\"marker\": {\"colorbar\": {\"outlinewidth\": 1, \"tickcolor\": \"rgb(36,36,36)\", \"ticks\": \"outside\"}}, \"type\": \"scattermapbox\"}], \"scatterpolar\": [{\"marker\": {\"colorbar\": {\"outlinewidth\": 1, \"tickcolor\": \"rgb(36,36,36)\", \"ticks\": \"outside\"}}, \"type\": \"scatterpolar\"}], \"scatterpolargl\": [{\"marker\": {\"colorbar\": {\"outlinewidth\": 1, \"tickcolor\": \"rgb(36,36,36)\", \"ticks\": \"outside\"}}, \"type\": \"scatterpolargl\"}], \"scatterternary\": [{\"marker\": {\"colorbar\": {\"outlinewidth\": 1, \"tickcolor\": \"rgb(36,36,36)\", \"ticks\": \"outside\"}}, \"type\": \"scatterternary\"}], \"surface\": [{\"colorbar\": {\"outlinewidth\": 1, \"tickcolor\": \"rgb(36,36,36)\", \"ticks\": \"outside\"}, \"colorscale\": [[0.0, \"#440154\"], [0.1111111111111111, \"#482878\"], [0.2222222222222222, \"#3e4989\"], [0.3333333333333333, \"#31688e\"], [0.4444444444444444, \"#26828e\"], [0.5555555555555556, \"#1f9e89\"], [0.6666666666666666, \"#35b779\"], [0.7777777777777778, \"#6ece58\"], [0.8888888888888888, \"#b5de2b\"], [1.0, \"#fde725\"]], \"type\": \"surface\"}], \"table\": [{\"cells\": {\"fill\": {\"color\": \"rgb(237,237,237)\"}, \"line\": {\"color\": \"white\"}}, \"header\": {\"fill\": {\"color\": \"rgb(217,217,217)\"}, \"line\": {\"color\": \"white\"}}, \"type\": \"table\"}]}, \"layout\": {\"annotationdefaults\": {\"arrowhead\": 0, \"arrowwidth\": 1}, \"autotypenumbers\": \"strict\", \"coloraxis\": {\"colorbar\": {\"outlinewidth\": 1, \"tickcolor\": \"rgb(36,36,36)\", \"ticks\": \"outside\"}}, \"colorscale\": {\"diverging\": [[0.0, \"rgb(103,0,31)\"], [0.1, \"rgb(178,24,43)\"], [0.2, \"rgb(214,96,77)\"], [0.3, \"rgb(244,165,130)\"], [0.4, \"rgb(253,219,199)\"], [0.5, \"rgb(247,247,247)\"], [0.6, \"rgb(209,229,240)\"], [0.7, \"rgb(146,197,222)\"], [0.8, \"rgb(67,147,195)\"], [0.9, \"rgb(33,102,172)\"], [1.0, \"rgb(5,48,97)\"]], \"sequential\": [[0.0, \"#440154\"], [0.1111111111111111, \"#482878\"], [0.2222222222222222, \"#3e4989\"], [0.3333333333333333, \"#31688e\"], [0.4444444444444444, \"#26828e\"], [0.5555555555555556, \"#1f9e89\"], [0.6666666666666666, \"#35b779\"], [0.7777777777777778, \"#6ece58\"], [0.8888888888888888, \"#b5de2b\"], [1.0, \"#fde725\"]], \"sequentialminus\": [[0.0, \"#440154\"], [0.1111111111111111, \"#482878\"], [0.2222222222222222, \"#3e4989\"], [0.3333333333333333, \"#31688e\"], [0.4444444444444444, \"#26828e\"], [0.5555555555555556, \"#1f9e89\"], [0.6666666666666666, \"#35b779\"], [0.7777777777777778, \"#6ece58\"], [0.8888888888888888, \"#b5de2b\"], [1.0, \"#fde725\"]]}, \"colorway\": [\"#1F77B4\", \"#FF7F0E\", \"#2CA02C\", \"#D62728\", \"#9467BD\", \"#8C564B\", \"#E377C2\", \"#7F7F7F\", \"#BCBD22\", \"#17BECF\"], \"font\": {\"color\": \"rgb(36,36,36)\"}, \"geo\": {\"bgcolor\": \"white\", \"lakecolor\": \"white\", \"landcolor\": \"white\", \"showlakes\": true, \"showland\": true, \"subunitcolor\": \"white\"}, \"hoverlabel\": {\"align\": \"left\"}, \"hovermode\": \"closest\", \"mapbox\": {\"style\": \"light\"}, \"paper_bgcolor\": \"white\", \"plot_bgcolor\": \"white\", \"polar\": {\"angularaxis\": {\"gridcolor\": \"rgb(232,232,232)\", \"linecolor\": \"rgb(36,36,36)\", \"showgrid\": false, \"showline\": true, \"ticks\": \"outside\"}, \"bgcolor\": \"white\", \"radialaxis\": {\"gridcolor\": \"rgb(232,232,232)\", \"linecolor\": \"rgb(36,36,36)\", \"showgrid\": false, \"showline\": true, \"ticks\": \"outside\"}}, \"scene\": {\"xaxis\": {\"backgroundcolor\": \"white\", \"gridcolor\": \"rgb(232,232,232)\", \"gridwidth\": 2, \"linecolor\": \"rgb(36,36,36)\", \"showbackground\": true, \"showgrid\": false, \"showline\": true, \"ticks\": \"outside\", \"zeroline\": false, \"zerolinecolor\": \"rgb(36,36,36)\"}, \"yaxis\": {\"backgroundcolor\": \"white\", \"gridcolor\": \"rgb(232,232,232)\", \"gridwidth\": 2, \"linecolor\": \"rgb(36,36,36)\", \"showbackground\": true, \"showgrid\": false, \"showline\": true, \"ticks\": \"outside\", \"zeroline\": false, \"zerolinecolor\": \"rgb(36,36,36)\"}, \"zaxis\": {\"backgroundcolor\": \"white\", \"gridcolor\": \"rgb(232,232,232)\", \"gridwidth\": 2, \"linecolor\": \"rgb(36,36,36)\", \"showbackground\": true, \"showgrid\": false, \"showline\": true, \"ticks\": \"outside\", \"zeroline\": false, \"zerolinecolor\": \"rgb(36,36,36)\"}}, \"shapedefaults\": {\"fillcolor\": \"black\", \"line\": {\"width\": 0}, \"opacity\": 0.3}, \"ternary\": {\"aaxis\": {\"gridcolor\": \"rgb(232,232,232)\", \"linecolor\": \"rgb(36,36,36)\", \"showgrid\": false, \"showline\": true, \"ticks\": \"outside\"}, \"baxis\": {\"gridcolor\": \"rgb(232,232,232)\", \"linecolor\": \"rgb(36,36,36)\", \"showgrid\": false, \"showline\": true, \"ticks\": \"outside\"}, \"bgcolor\": \"white\", \"caxis\": {\"gridcolor\": \"rgb(232,232,232)\", \"linecolor\": \"rgb(36,36,36)\", \"showgrid\": false, \"showline\": true, \"ticks\": \"outside\"}}, \"title\": {\"x\": 0.05}, \"xaxis\": {\"automargin\": true, \"gridcolor\": \"rgb(232,232,232)\", \"linecolor\": \"rgb(36,36,36)\", \"showgrid\": false, \"showline\": true, \"ticks\": \"outside\", \"title\": {\"standoff\": 15}, \"zeroline\": false, \"zerolinecolor\": \"rgb(36,36,36)\"}, \"yaxis\": {\"automargin\": true, \"gridcolor\": \"rgb(232,232,232)\", \"linecolor\": \"rgb(36,36,36)\", \"showgrid\": false, \"showline\": true, \"ticks\": \"outside\", \"title\": {\"standoff\": 15}, \"zeroline\": false, \"zerolinecolor\": \"rgb(36,36,36)\"}}}, \"title\": {\"text\": \"Monthly Complaints\"}, \"width\": 800, \"xaxis\": {\"anchor\": \"y\", \"domain\": [0.0, 1.0], \"title\": {\"text\": \"Date\"}}, \"yaxis\": {\"anchor\": \"x\", \"domain\": [0.0, 1.0], \"title\": {\"text\": \"Complaints\"}}},                        {\"responsive\": true}                    ).then(function(){\n",
       "                            \n",
       "var gd = document.getElementById('607898d4-6306-420b-a27f-3d9c8cc0a401');\n",
       "var x = new MutationObserver(function (mutations, observer) {{\n",
       "        var display = window.getComputedStyle(gd).display;\n",
       "        if (!display || display === 'none') {{\n",
       "            console.log([gd, 'removed!']);\n",
       "            Plotly.purge(gd);\n",
       "            observer.disconnect();\n",
       "        }}\n",
       "}});\n",
       "\n",
       "// Listen for the removal of the full notebook cells\n",
       "var notebookContainer = gd.closest('#notebook-container');\n",
       "if (notebookContainer) {{\n",
       "    x.observe(notebookContainer, {childList: true});\n",
       "}}\n",
       "\n",
       "// Listen for the clearing of the current output cell\n",
       "var outputEl = gd.closest('.output');\n",
       "if (outputEl) {{\n",
       "    x.observe(outputEl, {childList: true});\n",
       "}}\n",
       "\n",
       "                        })                };                });            </script>        </div>"
      ]
     },
     "metadata": {},
     "output_type": "display_data"
    }
   ],
   "source": [
    "# Monthly Complaints\n",
    "df = shortlist_1[['complaint_id', 'company_name']].groupby(['company_name']).resample('M').count()\\\n",
    "['complaint_id'].reset_index()\n",
    "\n",
    "import plotly.express as px\n",
    "fig = px.line(df, x='date_received', y='complaint_id', color='company_name',\n",
    "              title='Monthly Complaints', labels={'company_name': 'Companies',\n",
    "                                                  'date_received': 'Date',\n",
    "                                                  'complaint_id': 'Complaints'\n",
    "                                                  }, width=800, height=600, template='simple_white')\n",
    "\n",
    "fig.update_layout(legend=dict(title=None, orientation=\"h\", y=1, yanchor=\"bottom\", x=0.7, xanchor=\"center\"))"
   ]
  },
  {
   "cell_type": "markdown",
   "id": "indoor-dividend",
   "metadata": {},
   "source": [
    "Despite the trend observed on the three winners of received complaints, there is no major trend and the number of monthly complaints seems very stable. \n",
    "\n",
    "#### What is the average monthly complaints per company? are they statistically different? "
   ]
  },
  {
   "cell_type": "code",
   "execution_count": 60,
   "id": "animated-poverty",
   "metadata": {
    "ExecuteTime": {
     "end_time": "2021-03-30T14:50:18.655590Z",
     "start_time": "2021-03-30T14:50:18.552623Z"
    },
    "scrolled": false
   },
   "outputs": [],
   "source": [
    "df_avg_id = df.groupby(['company_name']).describe()\\\n",
    ".sort_values(by=[('complaint_id',  'mean')], ascending=False)"
   ]
  },
  {
   "cell_type": "code",
   "execution_count": 71,
   "id": "beautiful-spanking",
   "metadata": {
    "ExecuteTime": {
     "end_time": "2021-03-30T15:01:59.373224Z",
     "start_time": "2021-03-30T15:01:59.367651Z"
    }
   },
   "outputs": [],
   "source": [
    "# subset: only if median > 200 complaints per month\n",
    "ls = df_avg_id.loc[df_avg_id[('complaint_id',  '50%')] > 200].index.to_list()"
   ]
  },
  {
   "cell_type": "code",
   "execution_count": 115,
   "id": "short-enclosure",
   "metadata": {
    "ExecuteTime": {
     "end_time": "2021-03-30T15:38:20.181003Z",
     "start_time": "2021-03-30T15:38:20.064941Z"
    }
   },
   "outputs": [
    {
     "data": {
      "application/vnd.plotly.v1+json": {
       "config": {
        "plotlyServerURL": "https://plot.ly"
       },
       "data": [
        {
         "nbinsx": 20,
         "type": "histogram",
         "x": [
          2376,
          2310,
          2446,
          2599,
          2452,
          2190,
          2326,
          2429,
          2235,
          2596,
          2267,
          2126,
          2176,
          2460,
          2982,
          3042,
          3380,
          3409,
          3686,
          3931,
          3454,
          3765,
          3347,
          3242,
          4308,
          3881,
          5225,
          6339,
          7122,
          7090,
          7701,
          7579,
          7829,
          9131,
          8444,
          10456,
          11478,
          5328,
          8065
         ],
         "xaxis": "x",
         "yaxis": "y"
        },
        {
         "nbinsx": 20,
         "type": "histogram",
         "x": [
          2376,
          2484,
          2406,
          2647,
          2529,
          2311,
          2523,
          2590,
          2369,
          2818,
          2586,
          2418,
          2354,
          2571,
          3206,
          3145,
          3338,
          3519,
          3957,
          4058,
          3743,
          4048,
          3570,
          3409,
          4446,
          3971,
          5202,
          5995,
          6572,
          6322,
          6875,
          6562,
          7133,
          8019,
          7634,
          9657,
          9299,
          6729,
          5305
         ],
         "xaxis": "x2",
         "yaxis": "y2"
        },
        {
         "nbinsx": 20,
         "type": "histogram",
         "x": [
          2539,
          2578,
          2648,
          2825,
          2548,
          2375,
          2469,
          2566,
          2165,
          2629,
          2341,
          2238,
          2280,
          2587,
          2981,
          2912,
          3167,
          3164,
          3235,
          3577,
          3194,
          3625,
          3179,
          3103,
          4065,
          3890,
          4866,
          6202,
          7276,
          7549,
          8262,
          8119,
          8632,
          9943,
          9159,
          11258,
          3633,
          2098,
          1780
         ],
         "xaxis": "x3",
         "yaxis": "y3"
        },
        {
         "nbinsx": 20,
         "type": "histogram",
         "x": [
          745,
          723,
          811,
          920,
          828,
          683,
          722,
          746,
          640,
          727,
          695,
          666,
          756,
          634,
          756,
          749,
          778,
          710,
          688,
          762,
          659,
          657,
          541,
          570,
          616,
          597,
          707,
          832,
          780,
          868,
          941,
          831,
          749,
          776,
          740,
          785,
          793,
          816,
          461
         ],
         "xaxis": "x4",
         "yaxis": "y4"
        },
        {
         "nbinsx": 20,
         "type": "histogram",
         "x": [
          711,
          662,
          790,
          936,
          762,
          686,
          731,
          700,
          678,
          741,
          496,
          419,
          455,
          414,
          540,
          699,
          650,
          638,
          716,
          767,
          695,
          702,
          603,
          656,
          693,
          626,
          675,
          806,
          690,
          794,
          718,
          769,
          851,
          923,
          880,
          1025,
          997,
          1066,
          561
         ],
         "xaxis": "x5",
         "yaxis": "y5"
        },
        {
         "nbinsx": 20,
         "type": "histogram",
         "x": [
          701,
          598,
          745,
          726,
          733,
          687,
          601,
          568,
          569,
          634,
          555,
          561,
          587,
          580,
          641,
          590,
          609,
          606,
          666,
          708,
          638,
          757,
          693,
          580,
          766,
          691,
          696,
          788,
          833,
          821,
          842,
          896,
          743,
          876,
          918,
          906,
          852,
          947,
          694
         ],
         "xaxis": "x6",
         "yaxis": "y6"
        },
        {
         "nbinsx": 20,
         "type": "histogram",
         "x": [
          714,
          697,
          842,
          1015,
          818,
          706,
          696,
          776,
          658,
          672,
          577,
          618,
          600,
          659,
          743,
          674,
          718,
          649,
          686,
          602,
          512,
          595,
          478,
          507,
          561,
          557,
          608,
          605,
          645,
          677,
          704,
          664,
          675,
          654,
          565,
          619,
          613,
          639,
          424
         ],
         "xaxis": "x7",
         "yaxis": "y7"
        },
        {
         "nbinsx": 20,
         "type": "histogram",
         "x": [
          658,
          608,
          644,
          705,
          584,
          508,
          552,
          611,
          523,
          656,
          609,
          605,
          587,
          543,
          628,
          601,
          590,
          578,
          606,
          611,
          563,
          637,
          559,
          562,
          599,
          638,
          686,
          850,
          801,
          772,
          783,
          709,
          724,
          739,
          644,
          775,
          817,
          768,
          456
         ],
         "xaxis": "x8",
         "yaxis": "y8"
        },
        {
         "nbinsx": 20,
         "type": "histogram",
         "x": [
          412,
          367,
          433,
          404,
          399,
          354,
          395,
          431,
          359,
          429,
          362,
          331,
          341,
          311,
          466,
          415,
          401,
          385,
          422,
          443,
          366,
          355,
          430,
          319,
          337,
          364,
          345,
          388,
          405,
          401,
          469,
          450,
          409,
          404,
          422,
          448,
          417,
          494,
          240
         ],
         "xaxis": "x9",
         "yaxis": "y9"
        },
        {
         "nbinsx": 20,
         "type": "histogram",
         "x": [
          529,
          430,
          497,
          484,
          444,
          361,
          434,
          425,
          356,
          372,
          358,
          412,
          455,
          439,
          396,
          329,
          268,
          324,
          305,
          288,
          231,
          313,
          254,
          194,
          223,
          222,
          205,
          209,
          191,
          183,
          159,
          155,
          110,
          162,
          166,
          166,
          187,
          150,
          112
         ],
         "xaxis": "x10",
         "yaxis": "y10"
        },
        {
         "nbinsx": 20,
         "type": "histogram",
         "x": [
          205,
          185,
          227,
          257,
          185,
          173,
          175,
          229,
          183,
          205,
          173,
          194,
          177,
          150,
          220,
          194,
          198,
          203,
          241,
          218,
          220,
          235,
          206,
          211,
          214,
          211,
          226,
          382,
          261,
          289,
          380,
          420,
          446,
          487,
          444,
          394,
          418,
          379,
          258
         ],
         "xaxis": "x11",
         "yaxis": "y11"
        },
        {
         "nbinsx": 20,
         "type": "histogram",
         "x": [
          234,
          228,
          250,
          226,
          237,
          175,
          239,
          234,
          197,
          354,
          253,
          232,
          240,
          229,
          264,
          226,
          253,
          230,
          238,
          261,
          231,
          224,
          208,
          222,
          228,
          204,
          251,
          352,
          362,
          281,
          277,
          291,
          233,
          233,
          218,
          242,
          266,
          247,
          163
         ],
         "xaxis": "x12",
         "yaxis": "y12"
        },
        {
         "nbinsx": 20,
         "type": "histogram",
         "x": [
          255,
          246,
          301,
          282,
          307,
          220,
          232,
          228,
          205,
          255,
          174,
          176,
          166,
          212,
          201,
          202,
          192,
          199,
          186,
          192,
          209,
          190,
          158,
          152,
          201,
          181,
          242,
          228,
          249,
          219,
          264,
          316,
          307,
          300,
          331,
          322,
          345,
          386,
          215
         ],
         "xaxis": "x13",
         "yaxis": "y13"
        },
        {
         "nbinsx": 20,
         "type": "histogram",
         "x": [
          257,
          229,
          247,
          257,
          254,
          225,
          207,
          211,
          182,
          220,
          190,
          176,
          187,
          212,
          233,
          215,
          221,
          223,
          260,
          222,
          221,
          241,
          218,
          213,
          206,
          205,
          224,
          256,
          275,
          266,
          246,
          321,
          237,
          259,
          308,
          287,
          281,
          344,
          190
         ],
         "xaxis": "x14",
         "yaxis": "y14"
        }
       ],
       "layout": {
        "template": {
         "data": {
          "bar": [
           {
            "error_x": {
             "color": "#2a3f5f"
            },
            "error_y": {
             "color": "#2a3f5f"
            },
            "marker": {
             "line": {
              "color": "#E5ECF6",
              "width": 0.5
             }
            },
            "type": "bar"
           }
          ],
          "barpolar": [
           {
            "marker": {
             "line": {
              "color": "#E5ECF6",
              "width": 0.5
             }
            },
            "type": "barpolar"
           }
          ],
          "carpet": [
           {
            "aaxis": {
             "endlinecolor": "#2a3f5f",
             "gridcolor": "white",
             "linecolor": "white",
             "minorgridcolor": "white",
             "startlinecolor": "#2a3f5f"
            },
            "baxis": {
             "endlinecolor": "#2a3f5f",
             "gridcolor": "white",
             "linecolor": "white",
             "minorgridcolor": "white",
             "startlinecolor": "#2a3f5f"
            },
            "type": "carpet"
           }
          ],
          "choropleth": [
           {
            "colorbar": {
             "outlinewidth": 0,
             "ticks": ""
            },
            "type": "choropleth"
           }
          ],
          "contour": [
           {
            "colorbar": {
             "outlinewidth": 0,
             "ticks": ""
            },
            "colorscale": [
             [
              0,
              "#0d0887"
             ],
             [
              0.1111111111111111,
              "#46039f"
             ],
             [
              0.2222222222222222,
              "#7201a8"
             ],
             [
              0.3333333333333333,
              "#9c179e"
             ],
             [
              0.4444444444444444,
              "#bd3786"
             ],
             [
              0.5555555555555556,
              "#d8576b"
             ],
             [
              0.6666666666666666,
              "#ed7953"
             ],
             [
              0.7777777777777778,
              "#fb9f3a"
             ],
             [
              0.8888888888888888,
              "#fdca26"
             ],
             [
              1,
              "#f0f921"
             ]
            ],
            "type": "contour"
           }
          ],
          "contourcarpet": [
           {
            "colorbar": {
             "outlinewidth": 0,
             "ticks": ""
            },
            "type": "contourcarpet"
           }
          ],
          "heatmap": [
           {
            "colorbar": {
             "outlinewidth": 0,
             "ticks": ""
            },
            "colorscale": [
             [
              0,
              "#0d0887"
             ],
             [
              0.1111111111111111,
              "#46039f"
             ],
             [
              0.2222222222222222,
              "#7201a8"
             ],
             [
              0.3333333333333333,
              "#9c179e"
             ],
             [
              0.4444444444444444,
              "#bd3786"
             ],
             [
              0.5555555555555556,
              "#d8576b"
             ],
             [
              0.6666666666666666,
              "#ed7953"
             ],
             [
              0.7777777777777778,
              "#fb9f3a"
             ],
             [
              0.8888888888888888,
              "#fdca26"
             ],
             [
              1,
              "#f0f921"
             ]
            ],
            "type": "heatmap"
           }
          ],
          "heatmapgl": [
           {
            "colorbar": {
             "outlinewidth": 0,
             "ticks": ""
            },
            "colorscale": [
             [
              0,
              "#0d0887"
             ],
             [
              0.1111111111111111,
              "#46039f"
             ],
             [
              0.2222222222222222,
              "#7201a8"
             ],
             [
              0.3333333333333333,
              "#9c179e"
             ],
             [
              0.4444444444444444,
              "#bd3786"
             ],
             [
              0.5555555555555556,
              "#d8576b"
             ],
             [
              0.6666666666666666,
              "#ed7953"
             ],
             [
              0.7777777777777778,
              "#fb9f3a"
             ],
             [
              0.8888888888888888,
              "#fdca26"
             ],
             [
              1,
              "#f0f921"
             ]
            ],
            "type": "heatmapgl"
           }
          ],
          "histogram": [
           {
            "marker": {
             "colorbar": {
              "outlinewidth": 0,
              "ticks": ""
             }
            },
            "type": "histogram"
           }
          ],
          "histogram2d": [
           {
            "colorbar": {
             "outlinewidth": 0,
             "ticks": ""
            },
            "colorscale": [
             [
              0,
              "#0d0887"
             ],
             [
              0.1111111111111111,
              "#46039f"
             ],
             [
              0.2222222222222222,
              "#7201a8"
             ],
             [
              0.3333333333333333,
              "#9c179e"
             ],
             [
              0.4444444444444444,
              "#bd3786"
             ],
             [
              0.5555555555555556,
              "#d8576b"
             ],
             [
              0.6666666666666666,
              "#ed7953"
             ],
             [
              0.7777777777777778,
              "#fb9f3a"
             ],
             [
              0.8888888888888888,
              "#fdca26"
             ],
             [
              1,
              "#f0f921"
             ]
            ],
            "type": "histogram2d"
           }
          ],
          "histogram2dcontour": [
           {
            "colorbar": {
             "outlinewidth": 0,
             "ticks": ""
            },
            "colorscale": [
             [
              0,
              "#0d0887"
             ],
             [
              0.1111111111111111,
              "#46039f"
             ],
             [
              0.2222222222222222,
              "#7201a8"
             ],
             [
              0.3333333333333333,
              "#9c179e"
             ],
             [
              0.4444444444444444,
              "#bd3786"
             ],
             [
              0.5555555555555556,
              "#d8576b"
             ],
             [
              0.6666666666666666,
              "#ed7953"
             ],
             [
              0.7777777777777778,
              "#fb9f3a"
             ],
             [
              0.8888888888888888,
              "#fdca26"
             ],
             [
              1,
              "#f0f921"
             ]
            ],
            "type": "histogram2dcontour"
           }
          ],
          "mesh3d": [
           {
            "colorbar": {
             "outlinewidth": 0,
             "ticks": ""
            },
            "type": "mesh3d"
           }
          ],
          "parcoords": [
           {
            "line": {
             "colorbar": {
              "outlinewidth": 0,
              "ticks": ""
             }
            },
            "type": "parcoords"
           }
          ],
          "pie": [
           {
            "automargin": true,
            "type": "pie"
           }
          ],
          "scatter": [
           {
            "marker": {
             "colorbar": {
              "outlinewidth": 0,
              "ticks": ""
             }
            },
            "type": "scatter"
           }
          ],
          "scatter3d": [
           {
            "line": {
             "colorbar": {
              "outlinewidth": 0,
              "ticks": ""
             }
            },
            "marker": {
             "colorbar": {
              "outlinewidth": 0,
              "ticks": ""
             }
            },
            "type": "scatter3d"
           }
          ],
          "scattercarpet": [
           {
            "marker": {
             "colorbar": {
              "outlinewidth": 0,
              "ticks": ""
             }
            },
            "type": "scattercarpet"
           }
          ],
          "scattergeo": [
           {
            "marker": {
             "colorbar": {
              "outlinewidth": 0,
              "ticks": ""
             }
            },
            "type": "scattergeo"
           }
          ],
          "scattergl": [
           {
            "marker": {
             "colorbar": {
              "outlinewidth": 0,
              "ticks": ""
             }
            },
            "type": "scattergl"
           }
          ],
          "scattermapbox": [
           {
            "marker": {
             "colorbar": {
              "outlinewidth": 0,
              "ticks": ""
             }
            },
            "type": "scattermapbox"
           }
          ],
          "scatterpolar": [
           {
            "marker": {
             "colorbar": {
              "outlinewidth": 0,
              "ticks": ""
             }
            },
            "type": "scatterpolar"
           }
          ],
          "scatterpolargl": [
           {
            "marker": {
             "colorbar": {
              "outlinewidth": 0,
              "ticks": ""
             }
            },
            "type": "scatterpolargl"
           }
          ],
          "scatterternary": [
           {
            "marker": {
             "colorbar": {
              "outlinewidth": 0,
              "ticks": ""
             }
            },
            "type": "scatterternary"
           }
          ],
          "surface": [
           {
            "colorbar": {
             "outlinewidth": 0,
             "ticks": ""
            },
            "colorscale": [
             [
              0,
              "#0d0887"
             ],
             [
              0.1111111111111111,
              "#46039f"
             ],
             [
              0.2222222222222222,
              "#7201a8"
             ],
             [
              0.3333333333333333,
              "#9c179e"
             ],
             [
              0.4444444444444444,
              "#bd3786"
             ],
             [
              0.5555555555555556,
              "#d8576b"
             ],
             [
              0.6666666666666666,
              "#ed7953"
             ],
             [
              0.7777777777777778,
              "#fb9f3a"
             ],
             [
              0.8888888888888888,
              "#fdca26"
             ],
             [
              1,
              "#f0f921"
             ]
            ],
            "type": "surface"
           }
          ],
          "table": [
           {
            "cells": {
             "fill": {
              "color": "#EBF0F8"
             },
             "line": {
              "color": "white"
             }
            },
            "header": {
             "fill": {
              "color": "#C8D4E3"
             },
             "line": {
              "color": "white"
             }
            },
            "type": "table"
           }
          ]
         },
         "layout": {
          "annotationdefaults": {
           "arrowcolor": "#2a3f5f",
           "arrowhead": 0,
           "arrowwidth": 1
          },
          "autotypenumbers": "strict",
          "coloraxis": {
           "colorbar": {
            "outlinewidth": 0,
            "ticks": ""
           }
          },
          "colorscale": {
           "diverging": [
            [
             0,
             "#8e0152"
            ],
            [
             0.1,
             "#c51b7d"
            ],
            [
             0.2,
             "#de77ae"
            ],
            [
             0.3,
             "#f1b6da"
            ],
            [
             0.4,
             "#fde0ef"
            ],
            [
             0.5,
             "#f7f7f7"
            ],
            [
             0.6,
             "#e6f5d0"
            ],
            [
             0.7,
             "#b8e186"
            ],
            [
             0.8,
             "#7fbc41"
            ],
            [
             0.9,
             "#4d9221"
            ],
            [
             1,
             "#276419"
            ]
           ],
           "sequential": [
            [
             0,
             "#0d0887"
            ],
            [
             0.1111111111111111,
             "#46039f"
            ],
            [
             0.2222222222222222,
             "#7201a8"
            ],
            [
             0.3333333333333333,
             "#9c179e"
            ],
            [
             0.4444444444444444,
             "#bd3786"
            ],
            [
             0.5555555555555556,
             "#d8576b"
            ],
            [
             0.6666666666666666,
             "#ed7953"
            ],
            [
             0.7777777777777778,
             "#fb9f3a"
            ],
            [
             0.8888888888888888,
             "#fdca26"
            ],
            [
             1,
             "#f0f921"
            ]
           ],
           "sequentialminus": [
            [
             0,
             "#0d0887"
            ],
            [
             0.1111111111111111,
             "#46039f"
            ],
            [
             0.2222222222222222,
             "#7201a8"
            ],
            [
             0.3333333333333333,
             "#9c179e"
            ],
            [
             0.4444444444444444,
             "#bd3786"
            ],
            [
             0.5555555555555556,
             "#d8576b"
            ],
            [
             0.6666666666666666,
             "#ed7953"
            ],
            [
             0.7777777777777778,
             "#fb9f3a"
            ],
            [
             0.8888888888888888,
             "#fdca26"
            ],
            [
             1,
             "#f0f921"
            ]
           ]
          },
          "colorway": [
           "#636efa",
           "#EF553B",
           "#00cc96",
           "#ab63fa",
           "#FFA15A",
           "#19d3f3",
           "#FF6692",
           "#B6E880",
           "#FF97FF",
           "#FECB52"
          ],
          "font": {
           "color": "#2a3f5f"
          },
          "geo": {
           "bgcolor": "white",
           "lakecolor": "white",
           "landcolor": "#E5ECF6",
           "showlakes": true,
           "showland": true,
           "subunitcolor": "white"
          },
          "hoverlabel": {
           "align": "left"
          },
          "hovermode": "closest",
          "mapbox": {
           "style": "light"
          },
          "paper_bgcolor": "white",
          "plot_bgcolor": "#E5ECF6",
          "polar": {
           "angularaxis": {
            "gridcolor": "white",
            "linecolor": "white",
            "ticks": ""
           },
           "bgcolor": "#E5ECF6",
           "radialaxis": {
            "gridcolor": "white",
            "linecolor": "white",
            "ticks": ""
           }
          },
          "scene": {
           "xaxis": {
            "backgroundcolor": "#E5ECF6",
            "gridcolor": "white",
            "gridwidth": 2,
            "linecolor": "white",
            "showbackground": true,
            "ticks": "",
            "zerolinecolor": "white"
           },
           "yaxis": {
            "backgroundcolor": "#E5ECF6",
            "gridcolor": "white",
            "gridwidth": 2,
            "linecolor": "white",
            "showbackground": true,
            "ticks": "",
            "zerolinecolor": "white"
           },
           "zaxis": {
            "backgroundcolor": "#E5ECF6",
            "gridcolor": "white",
            "gridwidth": 2,
            "linecolor": "white",
            "showbackground": true,
            "ticks": "",
            "zerolinecolor": "white"
           }
          },
          "shapedefaults": {
           "line": {
            "color": "#2a3f5f"
           }
          },
          "ternary": {
           "aaxis": {
            "gridcolor": "white",
            "linecolor": "white",
            "ticks": ""
           },
           "baxis": {
            "gridcolor": "white",
            "linecolor": "white",
            "ticks": ""
           },
           "bgcolor": "#E5ECF6",
           "caxis": {
            "gridcolor": "white",
            "linecolor": "white",
            "ticks": ""
           }
          },
          "title": {
           "x": 0.05
          },
          "xaxis": {
           "automargin": true,
           "gridcolor": "white",
           "linecolor": "white",
           "ticks": "",
           "title": {
            "standoff": 15
           },
           "zerolinecolor": "white",
           "zerolinewidth": 2
          },
          "yaxis": {
           "automargin": true,
           "gridcolor": "white",
           "linecolor": "white",
           "ticks": "",
           "title": {
            "standoff": 15
           },
           "zerolinecolor": "white",
           "zerolinewidth": 2
          }
         }
        },
        "xaxis": {
         "anchor": "y",
         "domain": [
          0,
          0.45
         ]
        },
        "xaxis10": {
         "anchor": "y10",
         "domain": [
          0.55,
          1
         ]
        },
        "xaxis11": {
         "anchor": "y11",
         "domain": [
          0,
          0.45
         ]
        },
        "xaxis12": {
         "anchor": "y12",
         "domain": [
          0.55,
          1
         ]
        },
        "xaxis13": {
         "anchor": "y13",
         "domain": [
          0,
          0.45
         ]
        },
        "xaxis14": {
         "anchor": "y14",
         "domain": [
          0.55,
          1
         ]
        },
        "xaxis2": {
         "anchor": "y2",
         "domain": [
          0.55,
          1
         ]
        },
        "xaxis3": {
         "anchor": "y3",
         "domain": [
          0,
          0.45
         ]
        },
        "xaxis4": {
         "anchor": "y4",
         "domain": [
          0.55,
          1
         ]
        },
        "xaxis5": {
         "anchor": "y5",
         "domain": [
          0,
          0.45
         ]
        },
        "xaxis6": {
         "anchor": "y6",
         "domain": [
          0.55,
          1
         ]
        },
        "xaxis7": {
         "anchor": "y7",
         "domain": [
          0,
          0.45
         ]
        },
        "xaxis8": {
         "anchor": "y8",
         "domain": [
          0.55,
          1
         ]
        },
        "xaxis9": {
         "anchor": "y9",
         "domain": [
          0,
          0.45
         ]
        },
        "yaxis": {
         "anchor": "x",
         "domain": [
          0.8938775510204082,
          1
         ]
        },
        "yaxis10": {
         "anchor": "x10",
         "domain": [
          0.2979591836734694,
          0.40408163265306124
         ]
        },
        "yaxis11": {
         "anchor": "x11",
         "domain": [
          0.1489795918367347,
          0.25510204081632654
         ]
        },
        "yaxis12": {
         "anchor": "x12",
         "domain": [
          0.1489795918367347,
          0.25510204081632654
         ]
        },
        "yaxis13": {
         "anchor": "x13",
         "domain": [
          0,
          0.10612244897959185
         ]
        },
        "yaxis14": {
         "anchor": "x14",
         "domain": [
          0,
          0.10612244897959185
         ]
        },
        "yaxis2": {
         "anchor": "x2",
         "domain": [
          0.8938775510204082,
          1
         ]
        },
        "yaxis3": {
         "anchor": "x3",
         "domain": [
          0.7448979591836735,
          0.8510204081632654
         ]
        },
        "yaxis4": {
         "anchor": "x4",
         "domain": [
          0.7448979591836735,
          0.8510204081632654
         ]
        },
        "yaxis5": {
         "anchor": "x5",
         "domain": [
          0.5959183673469388,
          0.7020408163265307
         ]
        },
        "yaxis6": {
         "anchor": "x6",
         "domain": [
          0.5959183673469388,
          0.7020408163265307
         ]
        },
        "yaxis7": {
         "anchor": "x7",
         "domain": [
          0.4469387755102041,
          0.553061224489796
         ]
        },
        "yaxis8": {
         "anchor": "x8",
         "domain": [
          0.4469387755102041,
          0.553061224489796
         ]
        },
        "yaxis9": {
         "anchor": "x9",
         "domain": [
          0.2979591836734694,
          0.40408163265306124
         ]
        }
       }
      },
      "text/html": [
       "<div>                            <div id=\"e949dd50-c63e-4252-b882-465427262dba\" class=\"plotly-graph-div\" style=\"height:525px; width:100%;\"></div>            <script type=\"text/javascript\">                require([\"plotly\"], function(Plotly) {                    window.PLOTLYENV=window.PLOTLYENV || {};                                    if (document.getElementById(\"e949dd50-c63e-4252-b882-465427262dba\")) {                    Plotly.newPlot(                        \"e949dd50-c63e-4252-b882-465427262dba\",                        [{\"nbinsx\": 20, \"type\": \"histogram\", \"x\": [2376, 2310, 2446, 2599, 2452, 2190, 2326, 2429, 2235, 2596, 2267, 2126, 2176, 2460, 2982, 3042, 3380, 3409, 3686, 3931, 3454, 3765, 3347, 3242, 4308, 3881, 5225, 6339, 7122, 7090, 7701, 7579, 7829, 9131, 8444, 10456, 11478, 5328, 8065], \"xaxis\": \"x\", \"yaxis\": \"y\"}, {\"nbinsx\": 20, \"type\": \"histogram\", \"x\": [2376, 2484, 2406, 2647, 2529, 2311, 2523, 2590, 2369, 2818, 2586, 2418, 2354, 2571, 3206, 3145, 3338, 3519, 3957, 4058, 3743, 4048, 3570, 3409, 4446, 3971, 5202, 5995, 6572, 6322, 6875, 6562, 7133, 8019, 7634, 9657, 9299, 6729, 5305], \"xaxis\": \"x2\", \"yaxis\": \"y2\"}, {\"nbinsx\": 20, \"type\": \"histogram\", \"x\": [2539, 2578, 2648, 2825, 2548, 2375, 2469, 2566, 2165, 2629, 2341, 2238, 2280, 2587, 2981, 2912, 3167, 3164, 3235, 3577, 3194, 3625, 3179, 3103, 4065, 3890, 4866, 6202, 7276, 7549, 8262, 8119, 8632, 9943, 9159, 11258, 3633, 2098, 1780], \"xaxis\": \"x3\", \"yaxis\": \"y3\"}, {\"nbinsx\": 20, \"type\": \"histogram\", \"x\": [745, 723, 811, 920, 828, 683, 722, 746, 640, 727, 695, 666, 756, 634, 756, 749, 778, 710, 688, 762, 659, 657, 541, 570, 616, 597, 707, 832, 780, 868, 941, 831, 749, 776, 740, 785, 793, 816, 461], \"xaxis\": \"x4\", \"yaxis\": \"y4\"}, {\"nbinsx\": 20, \"type\": \"histogram\", \"x\": [711, 662, 790, 936, 762, 686, 731, 700, 678, 741, 496, 419, 455, 414, 540, 699, 650, 638, 716, 767, 695, 702, 603, 656, 693, 626, 675, 806, 690, 794, 718, 769, 851, 923, 880, 1025, 997, 1066, 561], \"xaxis\": \"x5\", \"yaxis\": \"y5\"}, {\"nbinsx\": 20, \"type\": \"histogram\", \"x\": [701, 598, 745, 726, 733, 687, 601, 568, 569, 634, 555, 561, 587, 580, 641, 590, 609, 606, 666, 708, 638, 757, 693, 580, 766, 691, 696, 788, 833, 821, 842, 896, 743, 876, 918, 906, 852, 947, 694], \"xaxis\": \"x6\", \"yaxis\": \"y6\"}, {\"nbinsx\": 20, \"type\": \"histogram\", \"x\": [714, 697, 842, 1015, 818, 706, 696, 776, 658, 672, 577, 618, 600, 659, 743, 674, 718, 649, 686, 602, 512, 595, 478, 507, 561, 557, 608, 605, 645, 677, 704, 664, 675, 654, 565, 619, 613, 639, 424], \"xaxis\": \"x7\", \"yaxis\": \"y7\"}, {\"nbinsx\": 20, \"type\": \"histogram\", \"x\": [658, 608, 644, 705, 584, 508, 552, 611, 523, 656, 609, 605, 587, 543, 628, 601, 590, 578, 606, 611, 563, 637, 559, 562, 599, 638, 686, 850, 801, 772, 783, 709, 724, 739, 644, 775, 817, 768, 456], \"xaxis\": \"x8\", \"yaxis\": \"y8\"}, {\"nbinsx\": 20, \"type\": \"histogram\", \"x\": [412, 367, 433, 404, 399, 354, 395, 431, 359, 429, 362, 331, 341, 311, 466, 415, 401, 385, 422, 443, 366, 355, 430, 319, 337, 364, 345, 388, 405, 401, 469, 450, 409, 404, 422, 448, 417, 494, 240], \"xaxis\": \"x9\", \"yaxis\": \"y9\"}, {\"nbinsx\": 20, \"type\": \"histogram\", \"x\": [529, 430, 497, 484, 444, 361, 434, 425, 356, 372, 358, 412, 455, 439, 396, 329, 268, 324, 305, 288, 231, 313, 254, 194, 223, 222, 205, 209, 191, 183, 159, 155, 110, 162, 166, 166, 187, 150, 112], \"xaxis\": \"x10\", \"yaxis\": \"y10\"}, {\"nbinsx\": 20, \"type\": \"histogram\", \"x\": [205, 185, 227, 257, 185, 173, 175, 229, 183, 205, 173, 194, 177, 150, 220, 194, 198, 203, 241, 218, 220, 235, 206, 211, 214, 211, 226, 382, 261, 289, 380, 420, 446, 487, 444, 394, 418, 379, 258], \"xaxis\": \"x11\", \"yaxis\": \"y11\"}, {\"nbinsx\": 20, \"type\": \"histogram\", \"x\": [234, 228, 250, 226, 237, 175, 239, 234, 197, 354, 253, 232, 240, 229, 264, 226, 253, 230, 238, 261, 231, 224, 208, 222, 228, 204, 251, 352, 362, 281, 277, 291, 233, 233, 218, 242, 266, 247, 163], \"xaxis\": \"x12\", \"yaxis\": \"y12\"}, {\"nbinsx\": 20, \"type\": \"histogram\", \"x\": [255, 246, 301, 282, 307, 220, 232, 228, 205, 255, 174, 176, 166, 212, 201, 202, 192, 199, 186, 192, 209, 190, 158, 152, 201, 181, 242, 228, 249, 219, 264, 316, 307, 300, 331, 322, 345, 386, 215], \"xaxis\": \"x13\", \"yaxis\": \"y13\"}, {\"nbinsx\": 20, \"type\": \"histogram\", \"x\": [257, 229, 247, 257, 254, 225, 207, 211, 182, 220, 190, 176, 187, 212, 233, 215, 221, 223, 260, 222, 221, 241, 218, 213, 206, 205, 224, 256, 275, 266, 246, 321, 237, 259, 308, 287, 281, 344, 190], \"xaxis\": \"x14\", \"yaxis\": \"y14\"}],                        {\"template\": {\"data\": {\"bar\": [{\"error_x\": {\"color\": \"#2a3f5f\"}, \"error_y\": {\"color\": \"#2a3f5f\"}, \"marker\": {\"line\": {\"color\": \"#E5ECF6\", \"width\": 0.5}}, \"type\": \"bar\"}], \"barpolar\": [{\"marker\": {\"line\": {\"color\": \"#E5ECF6\", \"width\": 0.5}}, \"type\": \"barpolar\"}], \"carpet\": [{\"aaxis\": {\"endlinecolor\": \"#2a3f5f\", \"gridcolor\": \"white\", \"linecolor\": \"white\", \"minorgridcolor\": \"white\", \"startlinecolor\": \"#2a3f5f\"}, \"baxis\": {\"endlinecolor\": \"#2a3f5f\", \"gridcolor\": \"white\", \"linecolor\": \"white\", \"minorgridcolor\": \"white\", \"startlinecolor\": \"#2a3f5f\"}, \"type\": \"carpet\"}], \"choropleth\": [{\"colorbar\": {\"outlinewidth\": 0, \"ticks\": \"\"}, \"type\": \"choropleth\"}], \"contour\": [{\"colorbar\": {\"outlinewidth\": 0, \"ticks\": \"\"}, \"colorscale\": [[0.0, \"#0d0887\"], [0.1111111111111111, \"#46039f\"], [0.2222222222222222, \"#7201a8\"], [0.3333333333333333, \"#9c179e\"], [0.4444444444444444, \"#bd3786\"], [0.5555555555555556, \"#d8576b\"], [0.6666666666666666, \"#ed7953\"], [0.7777777777777778, \"#fb9f3a\"], [0.8888888888888888, \"#fdca26\"], [1.0, \"#f0f921\"]], \"type\": \"contour\"}], \"contourcarpet\": [{\"colorbar\": {\"outlinewidth\": 0, \"ticks\": \"\"}, \"type\": \"contourcarpet\"}], \"heatmap\": [{\"colorbar\": {\"outlinewidth\": 0, \"ticks\": \"\"}, \"colorscale\": [[0.0, \"#0d0887\"], [0.1111111111111111, \"#46039f\"], [0.2222222222222222, \"#7201a8\"], [0.3333333333333333, \"#9c179e\"], [0.4444444444444444, \"#bd3786\"], [0.5555555555555556, \"#d8576b\"], [0.6666666666666666, \"#ed7953\"], [0.7777777777777778, \"#fb9f3a\"], [0.8888888888888888, \"#fdca26\"], [1.0, \"#f0f921\"]], \"type\": \"heatmap\"}], \"heatmapgl\": [{\"colorbar\": {\"outlinewidth\": 0, \"ticks\": \"\"}, \"colorscale\": [[0.0, \"#0d0887\"], [0.1111111111111111, \"#46039f\"], [0.2222222222222222, \"#7201a8\"], [0.3333333333333333, \"#9c179e\"], [0.4444444444444444, \"#bd3786\"], [0.5555555555555556, \"#d8576b\"], [0.6666666666666666, \"#ed7953\"], [0.7777777777777778, \"#fb9f3a\"], [0.8888888888888888, \"#fdca26\"], [1.0, \"#f0f921\"]], \"type\": \"heatmapgl\"}], \"histogram\": [{\"marker\": {\"colorbar\": {\"outlinewidth\": 0, \"ticks\": \"\"}}, \"type\": \"histogram\"}], \"histogram2d\": [{\"colorbar\": {\"outlinewidth\": 0, \"ticks\": \"\"}, \"colorscale\": [[0.0, \"#0d0887\"], [0.1111111111111111, \"#46039f\"], [0.2222222222222222, \"#7201a8\"], [0.3333333333333333, \"#9c179e\"], [0.4444444444444444, \"#bd3786\"], [0.5555555555555556, \"#d8576b\"], [0.6666666666666666, \"#ed7953\"], [0.7777777777777778, \"#fb9f3a\"], [0.8888888888888888, \"#fdca26\"], [1.0, \"#f0f921\"]], \"type\": \"histogram2d\"}], \"histogram2dcontour\": [{\"colorbar\": {\"outlinewidth\": 0, \"ticks\": \"\"}, \"colorscale\": [[0.0, \"#0d0887\"], [0.1111111111111111, \"#46039f\"], [0.2222222222222222, \"#7201a8\"], [0.3333333333333333, \"#9c179e\"], [0.4444444444444444, \"#bd3786\"], [0.5555555555555556, \"#d8576b\"], [0.6666666666666666, \"#ed7953\"], [0.7777777777777778, \"#fb9f3a\"], [0.8888888888888888, \"#fdca26\"], [1.0, \"#f0f921\"]], \"type\": \"histogram2dcontour\"}], \"mesh3d\": [{\"colorbar\": {\"outlinewidth\": 0, \"ticks\": \"\"}, \"type\": \"mesh3d\"}], \"parcoords\": [{\"line\": {\"colorbar\": {\"outlinewidth\": 0, \"ticks\": \"\"}}, \"type\": \"parcoords\"}], \"pie\": [{\"automargin\": true, \"type\": \"pie\"}], \"scatter\": [{\"marker\": {\"colorbar\": {\"outlinewidth\": 0, \"ticks\": \"\"}}, \"type\": \"scatter\"}], \"scatter3d\": [{\"line\": {\"colorbar\": {\"outlinewidth\": 0, \"ticks\": \"\"}}, \"marker\": {\"colorbar\": {\"outlinewidth\": 0, \"ticks\": \"\"}}, \"type\": \"scatter3d\"}], \"scattercarpet\": [{\"marker\": {\"colorbar\": {\"outlinewidth\": 0, \"ticks\": \"\"}}, \"type\": \"scattercarpet\"}], \"scattergeo\": [{\"marker\": {\"colorbar\": {\"outlinewidth\": 0, \"ticks\": \"\"}}, \"type\": \"scattergeo\"}], \"scattergl\": [{\"marker\": {\"colorbar\": {\"outlinewidth\": 0, \"ticks\": \"\"}}, \"type\": \"scattergl\"}], \"scattermapbox\": [{\"marker\": {\"colorbar\": {\"outlinewidth\": 0, \"ticks\": \"\"}}, \"type\": \"scattermapbox\"}], \"scatterpolar\": [{\"marker\": {\"colorbar\": {\"outlinewidth\": 0, \"ticks\": \"\"}}, \"type\": \"scatterpolar\"}], \"scatterpolargl\": [{\"marker\": {\"colorbar\": {\"outlinewidth\": 0, \"ticks\": \"\"}}, \"type\": \"scatterpolargl\"}], \"scatterternary\": [{\"marker\": {\"colorbar\": {\"outlinewidth\": 0, \"ticks\": \"\"}}, \"type\": \"scatterternary\"}], \"surface\": [{\"colorbar\": {\"outlinewidth\": 0, \"ticks\": \"\"}, \"colorscale\": [[0.0, \"#0d0887\"], [0.1111111111111111, \"#46039f\"], [0.2222222222222222, \"#7201a8\"], [0.3333333333333333, \"#9c179e\"], [0.4444444444444444, \"#bd3786\"], [0.5555555555555556, \"#d8576b\"], [0.6666666666666666, \"#ed7953\"], [0.7777777777777778, \"#fb9f3a\"], [0.8888888888888888, \"#fdca26\"], [1.0, \"#f0f921\"]], \"type\": \"surface\"}], \"table\": [{\"cells\": {\"fill\": {\"color\": \"#EBF0F8\"}, \"line\": {\"color\": \"white\"}}, \"header\": {\"fill\": {\"color\": \"#C8D4E3\"}, \"line\": {\"color\": \"white\"}}, \"type\": \"table\"}]}, \"layout\": {\"annotationdefaults\": {\"arrowcolor\": \"#2a3f5f\", \"arrowhead\": 0, \"arrowwidth\": 1}, \"autotypenumbers\": \"strict\", \"coloraxis\": {\"colorbar\": {\"outlinewidth\": 0, \"ticks\": \"\"}}, \"colorscale\": {\"diverging\": [[0, \"#8e0152\"], [0.1, \"#c51b7d\"], [0.2, \"#de77ae\"], [0.3, \"#f1b6da\"], [0.4, \"#fde0ef\"], [0.5, \"#f7f7f7\"], [0.6, \"#e6f5d0\"], [0.7, \"#b8e186\"], [0.8, \"#7fbc41\"], [0.9, \"#4d9221\"], [1, \"#276419\"]], \"sequential\": [[0.0, \"#0d0887\"], [0.1111111111111111, \"#46039f\"], [0.2222222222222222, \"#7201a8\"], [0.3333333333333333, \"#9c179e\"], [0.4444444444444444, \"#bd3786\"], [0.5555555555555556, \"#d8576b\"], [0.6666666666666666, \"#ed7953\"], [0.7777777777777778, \"#fb9f3a\"], [0.8888888888888888, \"#fdca26\"], [1.0, \"#f0f921\"]], \"sequentialminus\": [[0.0, \"#0d0887\"], [0.1111111111111111, \"#46039f\"], [0.2222222222222222, \"#7201a8\"], [0.3333333333333333, \"#9c179e\"], [0.4444444444444444, \"#bd3786\"], [0.5555555555555556, \"#d8576b\"], [0.6666666666666666, \"#ed7953\"], [0.7777777777777778, \"#fb9f3a\"], [0.8888888888888888, \"#fdca26\"], [1.0, \"#f0f921\"]]}, \"colorway\": [\"#636efa\", \"#EF553B\", \"#00cc96\", \"#ab63fa\", \"#FFA15A\", \"#19d3f3\", \"#FF6692\", \"#B6E880\", \"#FF97FF\", \"#FECB52\"], \"font\": {\"color\": \"#2a3f5f\"}, \"geo\": {\"bgcolor\": \"white\", \"lakecolor\": \"white\", \"landcolor\": \"#E5ECF6\", \"showlakes\": true, \"showland\": true, \"subunitcolor\": \"white\"}, \"hoverlabel\": {\"align\": \"left\"}, \"hovermode\": \"closest\", \"mapbox\": {\"style\": \"light\"}, \"paper_bgcolor\": \"white\", \"plot_bgcolor\": \"#E5ECF6\", \"polar\": {\"angularaxis\": {\"gridcolor\": \"white\", \"linecolor\": \"white\", \"ticks\": \"\"}, \"bgcolor\": \"#E5ECF6\", \"radialaxis\": {\"gridcolor\": \"white\", \"linecolor\": \"white\", \"ticks\": \"\"}}, \"scene\": {\"xaxis\": {\"backgroundcolor\": \"#E5ECF6\", \"gridcolor\": \"white\", \"gridwidth\": 2, \"linecolor\": \"white\", \"showbackground\": true, \"ticks\": \"\", \"zerolinecolor\": \"white\"}, \"yaxis\": {\"backgroundcolor\": \"#E5ECF6\", \"gridcolor\": \"white\", \"gridwidth\": 2, \"linecolor\": \"white\", \"showbackground\": true, \"ticks\": \"\", \"zerolinecolor\": \"white\"}, \"zaxis\": {\"backgroundcolor\": \"#E5ECF6\", \"gridcolor\": \"white\", \"gridwidth\": 2, \"linecolor\": \"white\", \"showbackground\": true, \"ticks\": \"\", \"zerolinecolor\": \"white\"}}, \"shapedefaults\": {\"line\": {\"color\": \"#2a3f5f\"}}, \"ternary\": {\"aaxis\": {\"gridcolor\": \"white\", \"linecolor\": \"white\", \"ticks\": \"\"}, \"baxis\": {\"gridcolor\": \"white\", \"linecolor\": \"white\", \"ticks\": \"\"}, \"bgcolor\": \"#E5ECF6\", \"caxis\": {\"gridcolor\": \"white\", \"linecolor\": \"white\", \"ticks\": \"\"}}, \"title\": {\"x\": 0.05}, \"xaxis\": {\"automargin\": true, \"gridcolor\": \"white\", \"linecolor\": \"white\", \"ticks\": \"\", \"title\": {\"standoff\": 15}, \"zerolinecolor\": \"white\", \"zerolinewidth\": 2}, \"yaxis\": {\"automargin\": true, \"gridcolor\": \"white\", \"linecolor\": \"white\", \"ticks\": \"\", \"title\": {\"standoff\": 15}, \"zerolinecolor\": \"white\", \"zerolinewidth\": 2}}}, \"xaxis\": {\"anchor\": \"y\", \"domain\": [0.0, 0.45]}, \"xaxis10\": {\"anchor\": \"y10\", \"domain\": [0.55, 1.0]}, \"xaxis11\": {\"anchor\": \"y11\", \"domain\": [0.0, 0.45]}, \"xaxis12\": {\"anchor\": \"y12\", \"domain\": [0.55, 1.0]}, \"xaxis13\": {\"anchor\": \"y13\", \"domain\": [0.0, 0.45]}, \"xaxis14\": {\"anchor\": \"y14\", \"domain\": [0.55, 1.0]}, \"xaxis2\": {\"anchor\": \"y2\", \"domain\": [0.55, 1.0]}, \"xaxis3\": {\"anchor\": \"y3\", \"domain\": [0.0, 0.45]}, \"xaxis4\": {\"anchor\": \"y4\", \"domain\": [0.55, 1.0]}, \"xaxis5\": {\"anchor\": \"y5\", \"domain\": [0.0, 0.45]}, \"xaxis6\": {\"anchor\": \"y6\", \"domain\": [0.55, 1.0]}, \"xaxis7\": {\"anchor\": \"y7\", \"domain\": [0.0, 0.45]}, \"xaxis8\": {\"anchor\": \"y8\", \"domain\": [0.55, 1.0]}, \"xaxis9\": {\"anchor\": \"y9\", \"domain\": [0.0, 0.45]}, \"yaxis\": {\"anchor\": \"x\", \"domain\": [0.8938775510204082, 1.0]}, \"yaxis10\": {\"anchor\": \"x10\", \"domain\": [0.2979591836734694, 0.40408163265306124]}, \"yaxis11\": {\"anchor\": \"x11\", \"domain\": [0.1489795918367347, 0.25510204081632654]}, \"yaxis12\": {\"anchor\": \"x12\", \"domain\": [0.1489795918367347, 0.25510204081632654]}, \"yaxis13\": {\"anchor\": \"x13\", \"domain\": [0.0, 0.10612244897959185]}, \"yaxis14\": {\"anchor\": \"x14\", \"domain\": [0.0, 0.10612244897959185]}, \"yaxis2\": {\"anchor\": \"x2\", \"domain\": [0.8938775510204082, 1.0]}, \"yaxis3\": {\"anchor\": \"x3\", \"domain\": [0.7448979591836735, 0.8510204081632654]}, \"yaxis4\": {\"anchor\": \"x4\", \"domain\": [0.7448979591836735, 0.8510204081632654]}, \"yaxis5\": {\"anchor\": \"x5\", \"domain\": [0.5959183673469388, 0.7020408163265307]}, \"yaxis6\": {\"anchor\": \"x6\", \"domain\": [0.5959183673469388, 0.7020408163265307]}, \"yaxis7\": {\"anchor\": \"x7\", \"domain\": [0.4469387755102041, 0.553061224489796]}, \"yaxis8\": {\"anchor\": \"x8\", \"domain\": [0.4469387755102041, 0.553061224489796]}, \"yaxis9\": {\"anchor\": \"x9\", \"domain\": [0.2979591836734694, 0.40408163265306124]}},                        {\"responsive\": true}                    ).then(function(){\n",
       "                            \n",
       "var gd = document.getElementById('e949dd50-c63e-4252-b882-465427262dba');\n",
       "var x = new MutationObserver(function (mutations, observer) {{\n",
       "        var display = window.getComputedStyle(gd).display;\n",
       "        if (!display || display === 'none') {{\n",
       "            console.log([gd, 'removed!']);\n",
       "            Plotly.purge(gd);\n",
       "            observer.disconnect();\n",
       "        }}\n",
       "}});\n",
       "\n",
       "// Listen for the removal of the full notebook cells\n",
       "var notebookContainer = gd.closest('#notebook-container');\n",
       "if (notebookContainer) {{\n",
       "    x.observe(notebookContainer, {childList: true});\n",
       "}}\n",
       "\n",
       "// Listen for the clearing of the current output cell\n",
       "var outputEl = gd.closest('.output');\n",
       "if (outputEl) {{\n",
       "    x.observe(outputEl, {childList: true});\n",
       "}}\n",
       "\n",
       "                        })                };                });            </script>        </div>"
      ]
     },
     "metadata": {},
     "output_type": "display_data"
    }
   ],
   "source": [
    "# Is the distribution by company normal? Not\n",
    "import plotly.graph_objects as go\n",
    "from plotly.subplots import make_subplots\n",
    "\n",
    "fig = make_subplots(rows=7, cols=2)\n",
    "\n",
    "i = 1\n",
    "j = 1\n",
    "for company in ls:\n",
    "    trace = go.Histogram(x=df.loc[df.company_name == company, 'complaint_id'].to_list(), nbinsx=20)\n",
    "    fig.append_trace(trace, i, j)\n",
    "    if (j % 2) == 0:\n",
    "        i += 1\n",
    "        j = 1\n",
    "    else:\n",
    "        j = 2\n",
    "\n",
    "fig.show()"
   ]
  },
  {
   "cell_type": "code",
   "execution_count": 131,
   "id": "furnished-nature",
   "metadata": {
    "ExecuteTime": {
     "end_time": "2021-03-30T15:50:31.677858Z",
     "start_time": "2021-03-30T15:50:31.644441Z"
    }
   },
   "outputs": [
    {
     "name": "stdout",
     "output_type": "stream",
     "text": [
      "TRANSUNION INTERMEDIATE HOLDINGS, INC.==>EQUIFAX, INC.==> 0.8789709138832357\n",
      "EQUIFAX, INC.==>Experian Information Solutions Inc.==> 0.38692360856438646\n",
      "Experian Information Solutions Inc.==>JPMORGAN CHASE & CO.==> 5.255295360476943e-08\n",
      "JPMORGAN CHASE & CO.==>BANK OF AMERICA, NATIONAL ASSOCIATION==> 0.6203118270101942\n",
      "BANK OF AMERICA, NATIONAL ASSOCIATION==>CAPITAL ONE FINANCIAL CORPORATION==> 0.6856872768183606\n",
      "CAPITAL ONE FINANCIAL CORPORATION==>WELLS FARGO & COMPANY==> 0.043021692893199945\n",
      "WELLS FARGO & COMPANY==>CITIBANK, N.A.==> 0.8016530612410625\n",
      "CITIBANK, N.A.==>SYNCHRONY FINANCIAL==> 5.245528926900679e-08\n",
      "SYNCHRONY FINANCIAL==>Navient Solutions, LLC.==> 0.00016922915659280674\n",
      "Navient Solutions, LLC.==>U.S. BANCORP==> 0.27022167906958594\n",
      "U.S. BANCORP==>AMERICAN EXPRESS COMPANY==> 0.7271576859180122\n",
      "AMERICAN EXPRESS COMPANY==>PORTFOLIO RECOVERY ASSOCIATES INC==> 0.4182569303572885\n",
      "PORTFOLIO RECOVERY ASSOCIATES INC==>Alliance Data Card Services==> 0.90989730776631\n"
     ]
    }
   ],
   "source": [
    "# As the majority os the distributions are not normal, I applied the Wilcoxon test to compare with\n",
    "# the samples are statistically similar or not.\n",
    "# the null hypothesis that two related paired samples come from the same distribution\n",
    "\n",
    "from scipy.stats import wilcoxon\n",
    "\n",
    "for i in range(0, 13, 1):\n",
    "    print(f'{ls[i]}==>{ls[i+1]}==>',wilcoxon(x = df.loc[df.company_name == ls[i], \"complaint_id\"].to_list(),\n",
    "                  y = df.loc[df.company_name == ls[i+1], \"complaint_id\"].to_list())[1])"
   ]
  },
  {
   "cell_type": "code",
   "execution_count": 191,
   "id": "clear-candle",
   "metadata": {
    "ExecuteTime": {
     "end_time": "2021-03-30T18:59:56.060567Z",
     "start_time": "2021-03-30T18:59:55.993243Z"
    }
   },
   "outputs": [
    {
     "data": {
      "application/vnd.plotly.v1+json": {
       "config": {
        "plotlyServerURL": "https://plot.ly"
       },
       "data": [
        {
         "alignmentgroup": "True",
         "hovertemplate": "Groups=1<br>Companies=%{x}<br>Monthly complaints=%{y}<extra></extra>",
         "legendgroup": "1",
         "marker": {
          "color": "#1F77B4"
         },
         "name": "1",
         "notched": false,
         "offsetgroup": "1",
         "orientation": "v",
         "showlegend": true,
         "type": "box",
         "x": [
          "EQUIFAX, INC.",
          "EQUIFAX, INC.",
          "EQUIFAX, INC.",
          "EQUIFAX, INC.",
          "EQUIFAX, INC.",
          "EQUIFAX, INC.",
          "EQUIFAX, INC.",
          "EQUIFAX, INC.",
          "EQUIFAX, INC.",
          "EQUIFAX, INC.",
          "EQUIFAX, INC.",
          "EQUIFAX, INC.",
          "EQUIFAX, INC.",
          "EQUIFAX, INC.",
          "EQUIFAX, INC.",
          "EQUIFAX, INC.",
          "EQUIFAX, INC.",
          "EQUIFAX, INC.",
          "EQUIFAX, INC.",
          "EQUIFAX, INC.",
          "EQUIFAX, INC.",
          "EQUIFAX, INC.",
          "EQUIFAX, INC.",
          "EQUIFAX, INC.",
          "EQUIFAX, INC.",
          "EQUIFAX, INC.",
          "EQUIFAX, INC.",
          "EQUIFAX, INC.",
          "EQUIFAX, INC.",
          "EQUIFAX, INC.",
          "EQUIFAX, INC.",
          "EQUIFAX, INC.",
          "EQUIFAX, INC.",
          "EQUIFAX, INC.",
          "EQUIFAX, INC.",
          "EQUIFAX, INC.",
          "EQUIFAX, INC.",
          "EQUIFAX, INC.",
          "EQUIFAX, INC.",
          "Experian Information Solutions Inc.",
          "Experian Information Solutions Inc.",
          "Experian Information Solutions Inc.",
          "Experian Information Solutions Inc.",
          "Experian Information Solutions Inc.",
          "Experian Information Solutions Inc.",
          "Experian Information Solutions Inc.",
          "Experian Information Solutions Inc.",
          "Experian Information Solutions Inc.",
          "Experian Information Solutions Inc.",
          "Experian Information Solutions Inc.",
          "Experian Information Solutions Inc.",
          "Experian Information Solutions Inc.",
          "Experian Information Solutions Inc.",
          "Experian Information Solutions Inc.",
          "Experian Information Solutions Inc.",
          "Experian Information Solutions Inc.",
          "Experian Information Solutions Inc.",
          "Experian Information Solutions Inc.",
          "Experian Information Solutions Inc.",
          "Experian Information Solutions Inc.",
          "Experian Information Solutions Inc.",
          "Experian Information Solutions Inc.",
          "Experian Information Solutions Inc.",
          "Experian Information Solutions Inc.",
          "Experian Information Solutions Inc.",
          "Experian Information Solutions Inc.",
          "Experian Information Solutions Inc.",
          "Experian Information Solutions Inc.",
          "Experian Information Solutions Inc.",
          "Experian Information Solutions Inc.",
          "Experian Information Solutions Inc.",
          "Experian Information Solutions Inc.",
          "Experian Information Solutions Inc.",
          "Experian Information Solutions Inc.",
          "Experian Information Solutions Inc.",
          "Experian Information Solutions Inc.",
          "Experian Information Solutions Inc.",
          "Experian Information Solutions Inc.",
          "TRANSUNION INTERMEDIATE HOLDINGS, INC.",
          "TRANSUNION INTERMEDIATE HOLDINGS, INC.",
          "TRANSUNION INTERMEDIATE HOLDINGS, INC.",
          "TRANSUNION INTERMEDIATE HOLDINGS, INC.",
          "TRANSUNION INTERMEDIATE HOLDINGS, INC.",
          "TRANSUNION INTERMEDIATE HOLDINGS, INC.",
          "TRANSUNION INTERMEDIATE HOLDINGS, INC.",
          "TRANSUNION INTERMEDIATE HOLDINGS, INC.",
          "TRANSUNION INTERMEDIATE HOLDINGS, INC.",
          "TRANSUNION INTERMEDIATE HOLDINGS, INC.",
          "TRANSUNION INTERMEDIATE HOLDINGS, INC.",
          "TRANSUNION INTERMEDIATE HOLDINGS, INC.",
          "TRANSUNION INTERMEDIATE HOLDINGS, INC.",
          "TRANSUNION INTERMEDIATE HOLDINGS, INC.",
          "TRANSUNION INTERMEDIATE HOLDINGS, INC.",
          "TRANSUNION INTERMEDIATE HOLDINGS, INC.",
          "TRANSUNION INTERMEDIATE HOLDINGS, INC.",
          "TRANSUNION INTERMEDIATE HOLDINGS, INC.",
          "TRANSUNION INTERMEDIATE HOLDINGS, INC.",
          "TRANSUNION INTERMEDIATE HOLDINGS, INC.",
          "TRANSUNION INTERMEDIATE HOLDINGS, INC.",
          "TRANSUNION INTERMEDIATE HOLDINGS, INC.",
          "TRANSUNION INTERMEDIATE HOLDINGS, INC.",
          "TRANSUNION INTERMEDIATE HOLDINGS, INC.",
          "TRANSUNION INTERMEDIATE HOLDINGS, INC.",
          "TRANSUNION INTERMEDIATE HOLDINGS, INC.",
          "TRANSUNION INTERMEDIATE HOLDINGS, INC.",
          "TRANSUNION INTERMEDIATE HOLDINGS, INC.",
          "TRANSUNION INTERMEDIATE HOLDINGS, INC.",
          "TRANSUNION INTERMEDIATE HOLDINGS, INC.",
          "TRANSUNION INTERMEDIATE HOLDINGS, INC.",
          "TRANSUNION INTERMEDIATE HOLDINGS, INC.",
          "TRANSUNION INTERMEDIATE HOLDINGS, INC.",
          "TRANSUNION INTERMEDIATE HOLDINGS, INC.",
          "TRANSUNION INTERMEDIATE HOLDINGS, INC.",
          "TRANSUNION INTERMEDIATE HOLDINGS, INC.",
          "TRANSUNION INTERMEDIATE HOLDINGS, INC.",
          "TRANSUNION INTERMEDIATE HOLDINGS, INC.",
          "TRANSUNION INTERMEDIATE HOLDINGS, INC."
         ],
         "x0": " ",
         "xaxis": "x",
         "y": [
          2376,
          2484,
          2406,
          2647,
          2529,
          2311,
          2523,
          2590,
          2369,
          2818,
          2586,
          2418,
          2354,
          2571,
          3206,
          3145,
          3338,
          3519,
          3957,
          4058,
          3743,
          4048,
          3570,
          3409,
          4446,
          3971,
          5202,
          5995,
          6572,
          6322,
          6875,
          6562,
          7133,
          8019,
          7634,
          9657,
          9299,
          6729,
          5305,
          2539,
          2578,
          2648,
          2825,
          2548,
          2375,
          2469,
          2566,
          2165,
          2629,
          2341,
          2238,
          2280,
          2587,
          2981,
          2912,
          3167,
          3164,
          3235,
          3577,
          3194,
          3625,
          3179,
          3103,
          4065,
          3890,
          4866,
          6202,
          7276,
          7549,
          8262,
          8119,
          8632,
          9943,
          9159,
          11258,
          3633,
          2098,
          1780,
          2376,
          2310,
          2446,
          2599,
          2452,
          2190,
          2326,
          2429,
          2235,
          2596,
          2267,
          2126,
          2176,
          2460,
          2982,
          3042,
          3380,
          3409,
          3686,
          3931,
          3454,
          3765,
          3347,
          3242,
          4308,
          3881,
          5225,
          6339,
          7122,
          7090,
          7701,
          7579,
          7829,
          9131,
          8444,
          10456,
          11478,
          5328,
          8065
         ],
         "y0": " ",
         "yaxis": "y"
        },
        {
         "alignmentgroup": "True",
         "hovertemplate": "Groups=2<br>Companies=%{x}<br>Monthly complaints=%{y}<extra></extra>",
         "legendgroup": "2",
         "marker": {
          "color": "#FF7F0E"
         },
         "name": "2",
         "notched": false,
         "offsetgroup": "2",
         "orientation": "v",
         "showlegend": true,
         "type": "box",
         "x": [
          "BANK OF AMERICA, NATIONAL ASSOCIATION",
          "BANK OF AMERICA, NATIONAL ASSOCIATION",
          "BANK OF AMERICA, NATIONAL ASSOCIATION",
          "BANK OF AMERICA, NATIONAL ASSOCIATION",
          "BANK OF AMERICA, NATIONAL ASSOCIATION",
          "BANK OF AMERICA, NATIONAL ASSOCIATION",
          "BANK OF AMERICA, NATIONAL ASSOCIATION",
          "BANK OF AMERICA, NATIONAL ASSOCIATION",
          "BANK OF AMERICA, NATIONAL ASSOCIATION",
          "BANK OF AMERICA, NATIONAL ASSOCIATION",
          "BANK OF AMERICA, NATIONAL ASSOCIATION",
          "BANK OF AMERICA, NATIONAL ASSOCIATION",
          "BANK OF AMERICA, NATIONAL ASSOCIATION",
          "BANK OF AMERICA, NATIONAL ASSOCIATION",
          "BANK OF AMERICA, NATIONAL ASSOCIATION",
          "BANK OF AMERICA, NATIONAL ASSOCIATION",
          "BANK OF AMERICA, NATIONAL ASSOCIATION",
          "BANK OF AMERICA, NATIONAL ASSOCIATION",
          "BANK OF AMERICA, NATIONAL ASSOCIATION",
          "BANK OF AMERICA, NATIONAL ASSOCIATION",
          "BANK OF AMERICA, NATIONAL ASSOCIATION",
          "BANK OF AMERICA, NATIONAL ASSOCIATION",
          "BANK OF AMERICA, NATIONAL ASSOCIATION",
          "BANK OF AMERICA, NATIONAL ASSOCIATION",
          "BANK OF AMERICA, NATIONAL ASSOCIATION",
          "BANK OF AMERICA, NATIONAL ASSOCIATION",
          "BANK OF AMERICA, NATIONAL ASSOCIATION",
          "BANK OF AMERICA, NATIONAL ASSOCIATION",
          "BANK OF AMERICA, NATIONAL ASSOCIATION",
          "BANK OF AMERICA, NATIONAL ASSOCIATION",
          "BANK OF AMERICA, NATIONAL ASSOCIATION",
          "BANK OF AMERICA, NATIONAL ASSOCIATION",
          "BANK OF AMERICA, NATIONAL ASSOCIATION",
          "BANK OF AMERICA, NATIONAL ASSOCIATION",
          "BANK OF AMERICA, NATIONAL ASSOCIATION",
          "BANK OF AMERICA, NATIONAL ASSOCIATION",
          "BANK OF AMERICA, NATIONAL ASSOCIATION",
          "BANK OF AMERICA, NATIONAL ASSOCIATION",
          "BANK OF AMERICA, NATIONAL ASSOCIATION",
          "CAPITAL ONE FINANCIAL CORPORATION",
          "CAPITAL ONE FINANCIAL CORPORATION",
          "CAPITAL ONE FINANCIAL CORPORATION",
          "CAPITAL ONE FINANCIAL CORPORATION",
          "CAPITAL ONE FINANCIAL CORPORATION",
          "CAPITAL ONE FINANCIAL CORPORATION",
          "CAPITAL ONE FINANCIAL CORPORATION",
          "CAPITAL ONE FINANCIAL CORPORATION",
          "CAPITAL ONE FINANCIAL CORPORATION",
          "CAPITAL ONE FINANCIAL CORPORATION",
          "CAPITAL ONE FINANCIAL CORPORATION",
          "CAPITAL ONE FINANCIAL CORPORATION",
          "CAPITAL ONE FINANCIAL CORPORATION",
          "CAPITAL ONE FINANCIAL CORPORATION",
          "CAPITAL ONE FINANCIAL CORPORATION",
          "CAPITAL ONE FINANCIAL CORPORATION",
          "CAPITAL ONE FINANCIAL CORPORATION",
          "CAPITAL ONE FINANCIAL CORPORATION",
          "CAPITAL ONE FINANCIAL CORPORATION",
          "CAPITAL ONE FINANCIAL CORPORATION",
          "CAPITAL ONE FINANCIAL CORPORATION",
          "CAPITAL ONE FINANCIAL CORPORATION",
          "CAPITAL ONE FINANCIAL CORPORATION",
          "CAPITAL ONE FINANCIAL CORPORATION",
          "CAPITAL ONE FINANCIAL CORPORATION",
          "CAPITAL ONE FINANCIAL CORPORATION",
          "CAPITAL ONE FINANCIAL CORPORATION",
          "CAPITAL ONE FINANCIAL CORPORATION",
          "CAPITAL ONE FINANCIAL CORPORATION",
          "CAPITAL ONE FINANCIAL CORPORATION",
          "CAPITAL ONE FINANCIAL CORPORATION",
          "CAPITAL ONE FINANCIAL CORPORATION",
          "CAPITAL ONE FINANCIAL CORPORATION",
          "CAPITAL ONE FINANCIAL CORPORATION",
          "CAPITAL ONE FINANCIAL CORPORATION",
          "CAPITAL ONE FINANCIAL CORPORATION",
          "CAPITAL ONE FINANCIAL CORPORATION",
          "CAPITAL ONE FINANCIAL CORPORATION",
          "CAPITAL ONE FINANCIAL CORPORATION",
          "JPMORGAN CHASE & CO.",
          "JPMORGAN CHASE & CO.",
          "JPMORGAN CHASE & CO.",
          "JPMORGAN CHASE & CO.",
          "JPMORGAN CHASE & CO.",
          "JPMORGAN CHASE & CO.",
          "JPMORGAN CHASE & CO.",
          "JPMORGAN CHASE & CO.",
          "JPMORGAN CHASE & CO.",
          "JPMORGAN CHASE & CO.",
          "JPMORGAN CHASE & CO.",
          "JPMORGAN CHASE & CO.",
          "JPMORGAN CHASE & CO.",
          "JPMORGAN CHASE & CO.",
          "JPMORGAN CHASE & CO.",
          "JPMORGAN CHASE & CO.",
          "JPMORGAN CHASE & CO.",
          "JPMORGAN CHASE & CO.",
          "JPMORGAN CHASE & CO.",
          "JPMORGAN CHASE & CO.",
          "JPMORGAN CHASE & CO.",
          "JPMORGAN CHASE & CO.",
          "JPMORGAN CHASE & CO.",
          "JPMORGAN CHASE & CO.",
          "JPMORGAN CHASE & CO.",
          "JPMORGAN CHASE & CO.",
          "JPMORGAN CHASE & CO.",
          "JPMORGAN CHASE & CO.",
          "JPMORGAN CHASE & CO.",
          "JPMORGAN CHASE & CO.",
          "JPMORGAN CHASE & CO.",
          "JPMORGAN CHASE & CO.",
          "JPMORGAN CHASE & CO.",
          "JPMORGAN CHASE & CO.",
          "JPMORGAN CHASE & CO.",
          "JPMORGAN CHASE & CO.",
          "JPMORGAN CHASE & CO.",
          "JPMORGAN CHASE & CO.",
          "JPMORGAN CHASE & CO."
         ],
         "x0": " ",
         "xaxis": "x",
         "y": [
          711,
          662,
          790,
          936,
          762,
          686,
          731,
          700,
          678,
          741,
          496,
          419,
          455,
          414,
          540,
          699,
          650,
          638,
          716,
          767,
          695,
          702,
          603,
          656,
          693,
          626,
          675,
          806,
          690,
          794,
          718,
          769,
          851,
          923,
          880,
          1025,
          997,
          1066,
          561,
          701,
          598,
          745,
          726,
          733,
          687,
          601,
          568,
          569,
          634,
          555,
          561,
          587,
          580,
          641,
          590,
          609,
          606,
          666,
          708,
          638,
          757,
          693,
          580,
          766,
          691,
          696,
          788,
          833,
          821,
          842,
          896,
          743,
          876,
          918,
          906,
          852,
          947,
          694,
          745,
          723,
          811,
          920,
          828,
          683,
          722,
          746,
          640,
          727,
          695,
          666,
          756,
          634,
          756,
          749,
          778,
          710,
          688,
          762,
          659,
          657,
          541,
          570,
          616,
          597,
          707,
          832,
          780,
          868,
          941,
          831,
          749,
          776,
          740,
          785,
          793,
          816,
          461
         ],
         "y0": " ",
         "yaxis": "y"
        },
        {
         "alignmentgroup": "True",
         "hovertemplate": "Groups=3<br>Companies=%{x}<br>Monthly complaints=%{y}<extra></extra>",
         "legendgroup": "3",
         "marker": {
          "color": "#2CA02C"
         },
         "name": "3",
         "notched": false,
         "offsetgroup": "3",
         "orientation": "v",
         "showlegend": true,
         "type": "box",
         "x": [
          "CITIBANK, N.A.",
          "CITIBANK, N.A.",
          "CITIBANK, N.A.",
          "CITIBANK, N.A.",
          "CITIBANK, N.A.",
          "CITIBANK, N.A.",
          "CITIBANK, N.A.",
          "CITIBANK, N.A.",
          "CITIBANK, N.A.",
          "CITIBANK, N.A.",
          "CITIBANK, N.A.",
          "CITIBANK, N.A.",
          "CITIBANK, N.A.",
          "CITIBANK, N.A.",
          "CITIBANK, N.A.",
          "CITIBANK, N.A.",
          "CITIBANK, N.A.",
          "CITIBANK, N.A.",
          "CITIBANK, N.A.",
          "CITIBANK, N.A.",
          "CITIBANK, N.A.",
          "CITIBANK, N.A.",
          "CITIBANK, N.A.",
          "CITIBANK, N.A.",
          "CITIBANK, N.A.",
          "CITIBANK, N.A.",
          "CITIBANK, N.A.",
          "CITIBANK, N.A.",
          "CITIBANK, N.A.",
          "CITIBANK, N.A.",
          "CITIBANK, N.A.",
          "CITIBANK, N.A.",
          "CITIBANK, N.A.",
          "CITIBANK, N.A.",
          "CITIBANK, N.A.",
          "CITIBANK, N.A.",
          "CITIBANK, N.A.",
          "CITIBANK, N.A.",
          "CITIBANK, N.A.",
          "WELLS FARGO & COMPANY",
          "WELLS FARGO & COMPANY",
          "WELLS FARGO & COMPANY",
          "WELLS FARGO & COMPANY",
          "WELLS FARGO & COMPANY",
          "WELLS FARGO & COMPANY",
          "WELLS FARGO & COMPANY",
          "WELLS FARGO & COMPANY",
          "WELLS FARGO & COMPANY",
          "WELLS FARGO & COMPANY",
          "WELLS FARGO & COMPANY",
          "WELLS FARGO & COMPANY",
          "WELLS FARGO & COMPANY",
          "WELLS FARGO & COMPANY",
          "WELLS FARGO & COMPANY",
          "WELLS FARGO & COMPANY",
          "WELLS FARGO & COMPANY",
          "WELLS FARGO & COMPANY",
          "WELLS FARGO & COMPANY",
          "WELLS FARGO & COMPANY",
          "WELLS FARGO & COMPANY",
          "WELLS FARGO & COMPANY",
          "WELLS FARGO & COMPANY",
          "WELLS FARGO & COMPANY",
          "WELLS FARGO & COMPANY",
          "WELLS FARGO & COMPANY",
          "WELLS FARGO & COMPANY",
          "WELLS FARGO & COMPANY",
          "WELLS FARGO & COMPANY",
          "WELLS FARGO & COMPANY",
          "WELLS FARGO & COMPANY",
          "WELLS FARGO & COMPANY",
          "WELLS FARGO & COMPANY",
          "WELLS FARGO & COMPANY",
          "WELLS FARGO & COMPANY",
          "WELLS FARGO & COMPANY",
          "WELLS FARGO & COMPANY",
          "WELLS FARGO & COMPANY",
          "WELLS FARGO & COMPANY"
         ],
         "x0": " ",
         "xaxis": "x",
         "y": [
          658,
          608,
          644,
          705,
          584,
          508,
          552,
          611,
          523,
          656,
          609,
          605,
          587,
          543,
          628,
          601,
          590,
          578,
          606,
          611,
          563,
          637,
          559,
          562,
          599,
          638,
          686,
          850,
          801,
          772,
          783,
          709,
          724,
          739,
          644,
          775,
          817,
          768,
          456,
          714,
          697,
          842,
          1015,
          818,
          706,
          696,
          776,
          658,
          672,
          577,
          618,
          600,
          659,
          743,
          674,
          718,
          649,
          686,
          602,
          512,
          595,
          478,
          507,
          561,
          557,
          608,
          605,
          645,
          677,
          704,
          664,
          675,
          654,
          565,
          619,
          613,
          639,
          424
         ],
         "y0": " ",
         "yaxis": "y"
        }
       ],
       "layout": {
        "boxmode": "group",
        "height": 600,
        "legend": {
         "title": {
          "text": "Groups"
         },
         "tracegroupgap": 0
        },
        "template": {
         "data": {
          "bar": [
           {
            "error_x": {
             "color": "rgb(36,36,36)"
            },
            "error_y": {
             "color": "rgb(36,36,36)"
            },
            "marker": {
             "line": {
              "color": "white",
              "width": 0.5
             }
            },
            "type": "bar"
           }
          ],
          "barpolar": [
           {
            "marker": {
             "line": {
              "color": "white",
              "width": 0.5
             }
            },
            "type": "barpolar"
           }
          ],
          "carpet": [
           {
            "aaxis": {
             "endlinecolor": "rgb(36,36,36)",
             "gridcolor": "white",
             "linecolor": "white",
             "minorgridcolor": "white",
             "startlinecolor": "rgb(36,36,36)"
            },
            "baxis": {
             "endlinecolor": "rgb(36,36,36)",
             "gridcolor": "white",
             "linecolor": "white",
             "minorgridcolor": "white",
             "startlinecolor": "rgb(36,36,36)"
            },
            "type": "carpet"
           }
          ],
          "choropleth": [
           {
            "colorbar": {
             "outlinewidth": 1,
             "tickcolor": "rgb(36,36,36)",
             "ticks": "outside"
            },
            "type": "choropleth"
           }
          ],
          "contour": [
           {
            "colorbar": {
             "outlinewidth": 1,
             "tickcolor": "rgb(36,36,36)",
             "ticks": "outside"
            },
            "colorscale": [
             [
              0,
              "#440154"
             ],
             [
              0.1111111111111111,
              "#482878"
             ],
             [
              0.2222222222222222,
              "#3e4989"
             ],
             [
              0.3333333333333333,
              "#31688e"
             ],
             [
              0.4444444444444444,
              "#26828e"
             ],
             [
              0.5555555555555556,
              "#1f9e89"
             ],
             [
              0.6666666666666666,
              "#35b779"
             ],
             [
              0.7777777777777778,
              "#6ece58"
             ],
             [
              0.8888888888888888,
              "#b5de2b"
             ],
             [
              1,
              "#fde725"
             ]
            ],
            "type": "contour"
           }
          ],
          "contourcarpet": [
           {
            "colorbar": {
             "outlinewidth": 1,
             "tickcolor": "rgb(36,36,36)",
             "ticks": "outside"
            },
            "type": "contourcarpet"
           }
          ],
          "heatmap": [
           {
            "colorbar": {
             "outlinewidth": 1,
             "tickcolor": "rgb(36,36,36)",
             "ticks": "outside"
            },
            "colorscale": [
             [
              0,
              "#440154"
             ],
             [
              0.1111111111111111,
              "#482878"
             ],
             [
              0.2222222222222222,
              "#3e4989"
             ],
             [
              0.3333333333333333,
              "#31688e"
             ],
             [
              0.4444444444444444,
              "#26828e"
             ],
             [
              0.5555555555555556,
              "#1f9e89"
             ],
             [
              0.6666666666666666,
              "#35b779"
             ],
             [
              0.7777777777777778,
              "#6ece58"
             ],
             [
              0.8888888888888888,
              "#b5de2b"
             ],
             [
              1,
              "#fde725"
             ]
            ],
            "type": "heatmap"
           }
          ],
          "heatmapgl": [
           {
            "colorbar": {
             "outlinewidth": 1,
             "tickcolor": "rgb(36,36,36)",
             "ticks": "outside"
            },
            "colorscale": [
             [
              0,
              "#440154"
             ],
             [
              0.1111111111111111,
              "#482878"
             ],
             [
              0.2222222222222222,
              "#3e4989"
             ],
             [
              0.3333333333333333,
              "#31688e"
             ],
             [
              0.4444444444444444,
              "#26828e"
             ],
             [
              0.5555555555555556,
              "#1f9e89"
             ],
             [
              0.6666666666666666,
              "#35b779"
             ],
             [
              0.7777777777777778,
              "#6ece58"
             ],
             [
              0.8888888888888888,
              "#b5de2b"
             ],
             [
              1,
              "#fde725"
             ]
            ],
            "type": "heatmapgl"
           }
          ],
          "histogram": [
           {
            "marker": {
             "line": {
              "color": "white",
              "width": 0.6
             }
            },
            "type": "histogram"
           }
          ],
          "histogram2d": [
           {
            "colorbar": {
             "outlinewidth": 1,
             "tickcolor": "rgb(36,36,36)",
             "ticks": "outside"
            },
            "colorscale": [
             [
              0,
              "#440154"
             ],
             [
              0.1111111111111111,
              "#482878"
             ],
             [
              0.2222222222222222,
              "#3e4989"
             ],
             [
              0.3333333333333333,
              "#31688e"
             ],
             [
              0.4444444444444444,
              "#26828e"
             ],
             [
              0.5555555555555556,
              "#1f9e89"
             ],
             [
              0.6666666666666666,
              "#35b779"
             ],
             [
              0.7777777777777778,
              "#6ece58"
             ],
             [
              0.8888888888888888,
              "#b5de2b"
             ],
             [
              1,
              "#fde725"
             ]
            ],
            "type": "histogram2d"
           }
          ],
          "histogram2dcontour": [
           {
            "colorbar": {
             "outlinewidth": 1,
             "tickcolor": "rgb(36,36,36)",
             "ticks": "outside"
            },
            "colorscale": [
             [
              0,
              "#440154"
             ],
             [
              0.1111111111111111,
              "#482878"
             ],
             [
              0.2222222222222222,
              "#3e4989"
             ],
             [
              0.3333333333333333,
              "#31688e"
             ],
             [
              0.4444444444444444,
              "#26828e"
             ],
             [
              0.5555555555555556,
              "#1f9e89"
             ],
             [
              0.6666666666666666,
              "#35b779"
             ],
             [
              0.7777777777777778,
              "#6ece58"
             ],
             [
              0.8888888888888888,
              "#b5de2b"
             ],
             [
              1,
              "#fde725"
             ]
            ],
            "type": "histogram2dcontour"
           }
          ],
          "mesh3d": [
           {
            "colorbar": {
             "outlinewidth": 1,
             "tickcolor": "rgb(36,36,36)",
             "ticks": "outside"
            },
            "type": "mesh3d"
           }
          ],
          "parcoords": [
           {
            "line": {
             "colorbar": {
              "outlinewidth": 1,
              "tickcolor": "rgb(36,36,36)",
              "ticks": "outside"
             }
            },
            "type": "parcoords"
           }
          ],
          "pie": [
           {
            "automargin": true,
            "type": "pie"
           }
          ],
          "scatter": [
           {
            "marker": {
             "colorbar": {
              "outlinewidth": 1,
              "tickcolor": "rgb(36,36,36)",
              "ticks": "outside"
             }
            },
            "type": "scatter"
           }
          ],
          "scatter3d": [
           {
            "line": {
             "colorbar": {
              "outlinewidth": 1,
              "tickcolor": "rgb(36,36,36)",
              "ticks": "outside"
             }
            },
            "marker": {
             "colorbar": {
              "outlinewidth": 1,
              "tickcolor": "rgb(36,36,36)",
              "ticks": "outside"
             }
            },
            "type": "scatter3d"
           }
          ],
          "scattercarpet": [
           {
            "marker": {
             "colorbar": {
              "outlinewidth": 1,
              "tickcolor": "rgb(36,36,36)",
              "ticks": "outside"
             }
            },
            "type": "scattercarpet"
           }
          ],
          "scattergeo": [
           {
            "marker": {
             "colorbar": {
              "outlinewidth": 1,
              "tickcolor": "rgb(36,36,36)",
              "ticks": "outside"
             }
            },
            "type": "scattergeo"
           }
          ],
          "scattergl": [
           {
            "marker": {
             "colorbar": {
              "outlinewidth": 1,
              "tickcolor": "rgb(36,36,36)",
              "ticks": "outside"
             }
            },
            "type": "scattergl"
           }
          ],
          "scattermapbox": [
           {
            "marker": {
             "colorbar": {
              "outlinewidth": 1,
              "tickcolor": "rgb(36,36,36)",
              "ticks": "outside"
             }
            },
            "type": "scattermapbox"
           }
          ],
          "scatterpolar": [
           {
            "marker": {
             "colorbar": {
              "outlinewidth": 1,
              "tickcolor": "rgb(36,36,36)",
              "ticks": "outside"
             }
            },
            "type": "scatterpolar"
           }
          ],
          "scatterpolargl": [
           {
            "marker": {
             "colorbar": {
              "outlinewidth": 1,
              "tickcolor": "rgb(36,36,36)",
              "ticks": "outside"
             }
            },
            "type": "scatterpolargl"
           }
          ],
          "scatterternary": [
           {
            "marker": {
             "colorbar": {
              "outlinewidth": 1,
              "tickcolor": "rgb(36,36,36)",
              "ticks": "outside"
             }
            },
            "type": "scatterternary"
           }
          ],
          "surface": [
           {
            "colorbar": {
             "outlinewidth": 1,
             "tickcolor": "rgb(36,36,36)",
             "ticks": "outside"
            },
            "colorscale": [
             [
              0,
              "#440154"
             ],
             [
              0.1111111111111111,
              "#482878"
             ],
             [
              0.2222222222222222,
              "#3e4989"
             ],
             [
              0.3333333333333333,
              "#31688e"
             ],
             [
              0.4444444444444444,
              "#26828e"
             ],
             [
              0.5555555555555556,
              "#1f9e89"
             ],
             [
              0.6666666666666666,
              "#35b779"
             ],
             [
              0.7777777777777778,
              "#6ece58"
             ],
             [
              0.8888888888888888,
              "#b5de2b"
             ],
             [
              1,
              "#fde725"
             ]
            ],
            "type": "surface"
           }
          ],
          "table": [
           {
            "cells": {
             "fill": {
              "color": "rgb(237,237,237)"
             },
             "line": {
              "color": "white"
             }
            },
            "header": {
             "fill": {
              "color": "rgb(217,217,217)"
             },
             "line": {
              "color": "white"
             }
            },
            "type": "table"
           }
          ]
         },
         "layout": {
          "annotationdefaults": {
           "arrowhead": 0,
           "arrowwidth": 1
          },
          "autotypenumbers": "strict",
          "coloraxis": {
           "colorbar": {
            "outlinewidth": 1,
            "tickcolor": "rgb(36,36,36)",
            "ticks": "outside"
           }
          },
          "colorscale": {
           "diverging": [
            [
             0,
             "rgb(103,0,31)"
            ],
            [
             0.1,
             "rgb(178,24,43)"
            ],
            [
             0.2,
             "rgb(214,96,77)"
            ],
            [
             0.3,
             "rgb(244,165,130)"
            ],
            [
             0.4,
             "rgb(253,219,199)"
            ],
            [
             0.5,
             "rgb(247,247,247)"
            ],
            [
             0.6,
             "rgb(209,229,240)"
            ],
            [
             0.7,
             "rgb(146,197,222)"
            ],
            [
             0.8,
             "rgb(67,147,195)"
            ],
            [
             0.9,
             "rgb(33,102,172)"
            ],
            [
             1,
             "rgb(5,48,97)"
            ]
           ],
           "sequential": [
            [
             0,
             "#440154"
            ],
            [
             0.1111111111111111,
             "#482878"
            ],
            [
             0.2222222222222222,
             "#3e4989"
            ],
            [
             0.3333333333333333,
             "#31688e"
            ],
            [
             0.4444444444444444,
             "#26828e"
            ],
            [
             0.5555555555555556,
             "#1f9e89"
            ],
            [
             0.6666666666666666,
             "#35b779"
            ],
            [
             0.7777777777777778,
             "#6ece58"
            ],
            [
             0.8888888888888888,
             "#b5de2b"
            ],
            [
             1,
             "#fde725"
            ]
           ],
           "sequentialminus": [
            [
             0,
             "#440154"
            ],
            [
             0.1111111111111111,
             "#482878"
            ],
            [
             0.2222222222222222,
             "#3e4989"
            ],
            [
             0.3333333333333333,
             "#31688e"
            ],
            [
             0.4444444444444444,
             "#26828e"
            ],
            [
             0.5555555555555556,
             "#1f9e89"
            ],
            [
             0.6666666666666666,
             "#35b779"
            ],
            [
             0.7777777777777778,
             "#6ece58"
            ],
            [
             0.8888888888888888,
             "#b5de2b"
            ],
            [
             1,
             "#fde725"
            ]
           ]
          },
          "colorway": [
           "#1F77B4",
           "#FF7F0E",
           "#2CA02C",
           "#D62728",
           "#9467BD",
           "#8C564B",
           "#E377C2",
           "#7F7F7F",
           "#BCBD22",
           "#17BECF"
          ],
          "font": {
           "color": "rgb(36,36,36)"
          },
          "geo": {
           "bgcolor": "white",
           "lakecolor": "white",
           "landcolor": "white",
           "showlakes": true,
           "showland": true,
           "subunitcolor": "white"
          },
          "hoverlabel": {
           "align": "left"
          },
          "hovermode": "closest",
          "mapbox": {
           "style": "light"
          },
          "paper_bgcolor": "white",
          "plot_bgcolor": "white",
          "polar": {
           "angularaxis": {
            "gridcolor": "rgb(232,232,232)",
            "linecolor": "rgb(36,36,36)",
            "showgrid": false,
            "showline": true,
            "ticks": "outside"
           },
           "bgcolor": "white",
           "radialaxis": {
            "gridcolor": "rgb(232,232,232)",
            "linecolor": "rgb(36,36,36)",
            "showgrid": false,
            "showline": true,
            "ticks": "outside"
           }
          },
          "scene": {
           "xaxis": {
            "backgroundcolor": "white",
            "gridcolor": "rgb(232,232,232)",
            "gridwidth": 2,
            "linecolor": "rgb(36,36,36)",
            "showbackground": true,
            "showgrid": false,
            "showline": true,
            "ticks": "outside",
            "zeroline": false,
            "zerolinecolor": "rgb(36,36,36)"
           },
           "yaxis": {
            "backgroundcolor": "white",
            "gridcolor": "rgb(232,232,232)",
            "gridwidth": 2,
            "linecolor": "rgb(36,36,36)",
            "showbackground": true,
            "showgrid": false,
            "showline": true,
            "ticks": "outside",
            "zeroline": false,
            "zerolinecolor": "rgb(36,36,36)"
           },
           "zaxis": {
            "backgroundcolor": "white",
            "gridcolor": "rgb(232,232,232)",
            "gridwidth": 2,
            "linecolor": "rgb(36,36,36)",
            "showbackground": true,
            "showgrid": false,
            "showline": true,
            "ticks": "outside",
            "zeroline": false,
            "zerolinecolor": "rgb(36,36,36)"
           }
          },
          "shapedefaults": {
           "fillcolor": "black",
           "line": {
            "width": 0
           },
           "opacity": 0.3
          },
          "ternary": {
           "aaxis": {
            "gridcolor": "rgb(232,232,232)",
            "linecolor": "rgb(36,36,36)",
            "showgrid": false,
            "showline": true,
            "ticks": "outside"
           },
           "baxis": {
            "gridcolor": "rgb(232,232,232)",
            "linecolor": "rgb(36,36,36)",
            "showgrid": false,
            "showline": true,
            "ticks": "outside"
           },
           "bgcolor": "white",
           "caxis": {
            "gridcolor": "rgb(232,232,232)",
            "linecolor": "rgb(36,36,36)",
            "showgrid": false,
            "showline": true,
            "ticks": "outside"
           }
          },
          "title": {
           "x": 0.05
          },
          "xaxis": {
           "automargin": true,
           "gridcolor": "rgb(232,232,232)",
           "linecolor": "rgb(36,36,36)",
           "showgrid": false,
           "showline": true,
           "ticks": "outside",
           "title": {
            "standoff": 15
           },
           "zeroline": false,
           "zerolinecolor": "rgb(36,36,36)"
          },
          "yaxis": {
           "automargin": true,
           "gridcolor": "rgb(232,232,232)",
           "linecolor": "rgb(36,36,36)",
           "showgrid": false,
           "showline": true,
           "ticks": "outside",
           "title": {
            "standoff": 15
           },
           "zeroline": false,
           "zerolinecolor": "rgb(36,36,36)"
          }
         }
        },
        "title": {
         "text": "Boxplot - Monthly Complaints per Companies"
        },
        "width": 800,
        "xaxis": {
         "anchor": "y",
         "categoryarray": [
          "TRANSUNION INTERMEDIATE HOLDINGS, INC.",
          "EQUIFAX, INC.",
          "Experian Information Solutions Inc.",
          "JPMORGAN CHASE & CO.",
          "BANK OF AMERICA, NATIONAL ASSOCIATION",
          "CAPITAL ONE FINANCIAL CORPORATION",
          "WELLS FARGO & COMPANY",
          "CITIBANK, N.A."
         ],
         "categoryorder": "array",
         "domain": [
          0,
          1
         ],
         "title": {
          "text": "Companies"
         }
        },
        "yaxis": {
         "anchor": "x",
         "domain": [
          0,
          1
         ],
         "title": {
          "text": "Monthly complaints"
         }
        }
       }
      },
      "text/html": [
       "<div>                            <div id=\"4f8a69d5-122f-423f-b136-6f720d6d6554\" class=\"plotly-graph-div\" style=\"height:600px; width:800px;\"></div>            <script type=\"text/javascript\">                require([\"plotly\"], function(Plotly) {                    window.PLOTLYENV=window.PLOTLYENV || {};                                    if (document.getElementById(\"4f8a69d5-122f-423f-b136-6f720d6d6554\")) {                    Plotly.newPlot(                        \"4f8a69d5-122f-423f-b136-6f720d6d6554\",                        [{\"alignmentgroup\": \"True\", \"hovertemplate\": \"Groups=1<br>Companies=%{x}<br>Monthly complaints=%{y}<extra></extra>\", \"legendgroup\": \"1\", \"marker\": {\"color\": \"#1F77B4\"}, \"name\": \"1\", \"notched\": false, \"offsetgroup\": \"1\", \"orientation\": \"v\", \"showlegend\": true, \"type\": \"box\", \"x\": [\"EQUIFAX, INC.\", \"EQUIFAX, INC.\", \"EQUIFAX, INC.\", \"EQUIFAX, INC.\", \"EQUIFAX, INC.\", \"EQUIFAX, INC.\", \"EQUIFAX, INC.\", \"EQUIFAX, INC.\", \"EQUIFAX, INC.\", \"EQUIFAX, INC.\", \"EQUIFAX, INC.\", \"EQUIFAX, INC.\", \"EQUIFAX, INC.\", \"EQUIFAX, INC.\", \"EQUIFAX, INC.\", \"EQUIFAX, INC.\", \"EQUIFAX, INC.\", \"EQUIFAX, INC.\", \"EQUIFAX, INC.\", \"EQUIFAX, INC.\", \"EQUIFAX, INC.\", \"EQUIFAX, INC.\", \"EQUIFAX, INC.\", \"EQUIFAX, INC.\", \"EQUIFAX, INC.\", \"EQUIFAX, INC.\", \"EQUIFAX, INC.\", \"EQUIFAX, INC.\", \"EQUIFAX, INC.\", \"EQUIFAX, INC.\", \"EQUIFAX, INC.\", \"EQUIFAX, INC.\", \"EQUIFAX, INC.\", \"EQUIFAX, INC.\", \"EQUIFAX, INC.\", \"EQUIFAX, INC.\", \"EQUIFAX, INC.\", \"EQUIFAX, INC.\", \"EQUIFAX, INC.\", \"Experian Information Solutions Inc.\", \"Experian Information Solutions Inc.\", \"Experian Information Solutions Inc.\", \"Experian Information Solutions Inc.\", \"Experian Information Solutions Inc.\", \"Experian Information Solutions Inc.\", \"Experian Information Solutions Inc.\", \"Experian Information Solutions Inc.\", \"Experian Information Solutions Inc.\", \"Experian Information Solutions Inc.\", \"Experian Information Solutions Inc.\", \"Experian Information Solutions Inc.\", \"Experian Information Solutions Inc.\", \"Experian Information Solutions Inc.\", \"Experian Information Solutions Inc.\", \"Experian Information Solutions Inc.\", \"Experian Information Solutions Inc.\", \"Experian Information Solutions Inc.\", \"Experian Information Solutions Inc.\", \"Experian Information Solutions Inc.\", \"Experian Information Solutions Inc.\", \"Experian Information Solutions Inc.\", \"Experian Information Solutions Inc.\", \"Experian Information Solutions Inc.\", \"Experian Information Solutions Inc.\", \"Experian Information Solutions Inc.\", \"Experian Information Solutions Inc.\", \"Experian Information Solutions Inc.\", \"Experian Information Solutions Inc.\", \"Experian Information Solutions Inc.\", \"Experian Information Solutions Inc.\", \"Experian Information Solutions Inc.\", \"Experian Information Solutions Inc.\", \"Experian Information Solutions Inc.\", \"Experian Information Solutions Inc.\", \"Experian Information Solutions Inc.\", \"Experian Information Solutions Inc.\", \"Experian Information Solutions Inc.\", \"Experian Information Solutions Inc.\", \"TRANSUNION INTERMEDIATE HOLDINGS, INC.\", \"TRANSUNION INTERMEDIATE HOLDINGS, INC.\", \"TRANSUNION INTERMEDIATE HOLDINGS, INC.\", \"TRANSUNION INTERMEDIATE HOLDINGS, INC.\", \"TRANSUNION INTERMEDIATE HOLDINGS, INC.\", \"TRANSUNION INTERMEDIATE HOLDINGS, INC.\", \"TRANSUNION INTERMEDIATE HOLDINGS, INC.\", \"TRANSUNION INTERMEDIATE HOLDINGS, INC.\", \"TRANSUNION INTERMEDIATE HOLDINGS, INC.\", \"TRANSUNION INTERMEDIATE HOLDINGS, INC.\", \"TRANSUNION INTERMEDIATE HOLDINGS, INC.\", \"TRANSUNION INTERMEDIATE HOLDINGS, INC.\", \"TRANSUNION INTERMEDIATE HOLDINGS, INC.\", \"TRANSUNION INTERMEDIATE HOLDINGS, INC.\", \"TRANSUNION INTERMEDIATE HOLDINGS, INC.\", \"TRANSUNION INTERMEDIATE HOLDINGS, INC.\", \"TRANSUNION INTERMEDIATE HOLDINGS, INC.\", \"TRANSUNION INTERMEDIATE HOLDINGS, INC.\", \"TRANSUNION INTERMEDIATE HOLDINGS, INC.\", \"TRANSUNION INTERMEDIATE HOLDINGS, INC.\", \"TRANSUNION INTERMEDIATE HOLDINGS, INC.\", \"TRANSUNION INTERMEDIATE HOLDINGS, INC.\", \"TRANSUNION INTERMEDIATE HOLDINGS, INC.\", \"TRANSUNION INTERMEDIATE HOLDINGS, INC.\", \"TRANSUNION INTERMEDIATE HOLDINGS, INC.\", \"TRANSUNION INTERMEDIATE HOLDINGS, INC.\", \"TRANSUNION INTERMEDIATE HOLDINGS, INC.\", \"TRANSUNION INTERMEDIATE HOLDINGS, INC.\", \"TRANSUNION INTERMEDIATE HOLDINGS, INC.\", \"TRANSUNION INTERMEDIATE HOLDINGS, INC.\", \"TRANSUNION INTERMEDIATE HOLDINGS, INC.\", \"TRANSUNION INTERMEDIATE HOLDINGS, INC.\", \"TRANSUNION INTERMEDIATE HOLDINGS, INC.\", \"TRANSUNION INTERMEDIATE HOLDINGS, INC.\", \"TRANSUNION INTERMEDIATE HOLDINGS, INC.\", \"TRANSUNION INTERMEDIATE HOLDINGS, INC.\", \"TRANSUNION INTERMEDIATE HOLDINGS, INC.\", \"TRANSUNION INTERMEDIATE HOLDINGS, INC.\", \"TRANSUNION INTERMEDIATE HOLDINGS, INC.\"], \"x0\": \" \", \"xaxis\": \"x\", \"y\": [2376, 2484, 2406, 2647, 2529, 2311, 2523, 2590, 2369, 2818, 2586, 2418, 2354, 2571, 3206, 3145, 3338, 3519, 3957, 4058, 3743, 4048, 3570, 3409, 4446, 3971, 5202, 5995, 6572, 6322, 6875, 6562, 7133, 8019, 7634, 9657, 9299, 6729, 5305, 2539, 2578, 2648, 2825, 2548, 2375, 2469, 2566, 2165, 2629, 2341, 2238, 2280, 2587, 2981, 2912, 3167, 3164, 3235, 3577, 3194, 3625, 3179, 3103, 4065, 3890, 4866, 6202, 7276, 7549, 8262, 8119, 8632, 9943, 9159, 11258, 3633, 2098, 1780, 2376, 2310, 2446, 2599, 2452, 2190, 2326, 2429, 2235, 2596, 2267, 2126, 2176, 2460, 2982, 3042, 3380, 3409, 3686, 3931, 3454, 3765, 3347, 3242, 4308, 3881, 5225, 6339, 7122, 7090, 7701, 7579, 7829, 9131, 8444, 10456, 11478, 5328, 8065], \"y0\": \" \", \"yaxis\": \"y\"}, {\"alignmentgroup\": \"True\", \"hovertemplate\": \"Groups=2<br>Companies=%{x}<br>Monthly complaints=%{y}<extra></extra>\", \"legendgroup\": \"2\", \"marker\": {\"color\": \"#FF7F0E\"}, \"name\": \"2\", \"notched\": false, \"offsetgroup\": \"2\", \"orientation\": \"v\", \"showlegend\": true, \"type\": \"box\", \"x\": [\"BANK OF AMERICA, NATIONAL ASSOCIATION\", \"BANK OF AMERICA, NATIONAL ASSOCIATION\", \"BANK OF AMERICA, NATIONAL ASSOCIATION\", \"BANK OF AMERICA, NATIONAL ASSOCIATION\", \"BANK OF AMERICA, NATIONAL ASSOCIATION\", \"BANK OF AMERICA, NATIONAL ASSOCIATION\", \"BANK OF AMERICA, NATIONAL ASSOCIATION\", \"BANK OF AMERICA, NATIONAL ASSOCIATION\", \"BANK OF AMERICA, NATIONAL ASSOCIATION\", \"BANK OF AMERICA, NATIONAL ASSOCIATION\", \"BANK OF AMERICA, NATIONAL ASSOCIATION\", \"BANK OF AMERICA, NATIONAL ASSOCIATION\", \"BANK OF AMERICA, NATIONAL ASSOCIATION\", \"BANK OF AMERICA, NATIONAL ASSOCIATION\", \"BANK OF AMERICA, NATIONAL ASSOCIATION\", \"BANK OF AMERICA, NATIONAL ASSOCIATION\", \"BANK OF AMERICA, NATIONAL ASSOCIATION\", \"BANK OF AMERICA, NATIONAL ASSOCIATION\", \"BANK OF AMERICA, NATIONAL ASSOCIATION\", \"BANK OF AMERICA, NATIONAL ASSOCIATION\", \"BANK OF AMERICA, NATIONAL ASSOCIATION\", \"BANK OF AMERICA, NATIONAL ASSOCIATION\", \"BANK OF AMERICA, NATIONAL ASSOCIATION\", \"BANK OF AMERICA, NATIONAL ASSOCIATION\", \"BANK OF AMERICA, NATIONAL ASSOCIATION\", \"BANK OF AMERICA, NATIONAL ASSOCIATION\", \"BANK OF AMERICA, NATIONAL ASSOCIATION\", \"BANK OF AMERICA, NATIONAL ASSOCIATION\", \"BANK OF AMERICA, NATIONAL ASSOCIATION\", \"BANK OF AMERICA, NATIONAL ASSOCIATION\", \"BANK OF AMERICA, NATIONAL ASSOCIATION\", \"BANK OF AMERICA, NATIONAL ASSOCIATION\", \"BANK OF AMERICA, NATIONAL ASSOCIATION\", \"BANK OF AMERICA, NATIONAL ASSOCIATION\", \"BANK OF AMERICA, NATIONAL ASSOCIATION\", \"BANK OF AMERICA, NATIONAL ASSOCIATION\", \"BANK OF AMERICA, NATIONAL ASSOCIATION\", \"BANK OF AMERICA, NATIONAL ASSOCIATION\", \"BANK OF AMERICA, NATIONAL ASSOCIATION\", \"CAPITAL ONE FINANCIAL CORPORATION\", \"CAPITAL ONE FINANCIAL CORPORATION\", \"CAPITAL ONE FINANCIAL CORPORATION\", \"CAPITAL ONE FINANCIAL CORPORATION\", \"CAPITAL ONE FINANCIAL CORPORATION\", \"CAPITAL ONE FINANCIAL CORPORATION\", \"CAPITAL ONE FINANCIAL CORPORATION\", \"CAPITAL ONE FINANCIAL CORPORATION\", \"CAPITAL ONE FINANCIAL CORPORATION\", \"CAPITAL ONE FINANCIAL CORPORATION\", \"CAPITAL ONE FINANCIAL CORPORATION\", \"CAPITAL ONE FINANCIAL CORPORATION\", \"CAPITAL ONE FINANCIAL CORPORATION\", \"CAPITAL ONE FINANCIAL CORPORATION\", \"CAPITAL ONE FINANCIAL CORPORATION\", \"CAPITAL ONE FINANCIAL CORPORATION\", \"CAPITAL ONE FINANCIAL CORPORATION\", \"CAPITAL ONE FINANCIAL CORPORATION\", \"CAPITAL ONE FINANCIAL CORPORATION\", \"CAPITAL ONE FINANCIAL CORPORATION\", \"CAPITAL ONE FINANCIAL CORPORATION\", \"CAPITAL ONE FINANCIAL CORPORATION\", \"CAPITAL ONE FINANCIAL CORPORATION\", \"CAPITAL ONE FINANCIAL CORPORATION\", \"CAPITAL ONE FINANCIAL CORPORATION\", \"CAPITAL ONE FINANCIAL CORPORATION\", \"CAPITAL ONE FINANCIAL CORPORATION\", \"CAPITAL ONE FINANCIAL CORPORATION\", \"CAPITAL ONE FINANCIAL CORPORATION\", \"CAPITAL ONE FINANCIAL CORPORATION\", \"CAPITAL ONE FINANCIAL CORPORATION\", \"CAPITAL ONE FINANCIAL CORPORATION\", \"CAPITAL ONE FINANCIAL CORPORATION\", \"CAPITAL ONE FINANCIAL CORPORATION\", \"CAPITAL ONE FINANCIAL CORPORATION\", \"CAPITAL ONE FINANCIAL CORPORATION\", \"CAPITAL ONE FINANCIAL CORPORATION\", \"CAPITAL ONE FINANCIAL CORPORATION\", \"CAPITAL ONE FINANCIAL CORPORATION\", \"JPMORGAN CHASE & CO.\", \"JPMORGAN CHASE & CO.\", \"JPMORGAN CHASE & CO.\", \"JPMORGAN CHASE & CO.\", \"JPMORGAN CHASE & CO.\", \"JPMORGAN CHASE & CO.\", \"JPMORGAN CHASE & CO.\", \"JPMORGAN CHASE & CO.\", \"JPMORGAN CHASE & CO.\", \"JPMORGAN CHASE & CO.\", \"JPMORGAN CHASE & CO.\", \"JPMORGAN CHASE & CO.\", \"JPMORGAN CHASE & CO.\", \"JPMORGAN CHASE & CO.\", \"JPMORGAN CHASE & CO.\", \"JPMORGAN CHASE & CO.\", \"JPMORGAN CHASE & CO.\", \"JPMORGAN CHASE & CO.\", \"JPMORGAN CHASE & CO.\", \"JPMORGAN CHASE & CO.\", \"JPMORGAN CHASE & CO.\", \"JPMORGAN CHASE & CO.\", \"JPMORGAN CHASE & CO.\", \"JPMORGAN CHASE & CO.\", \"JPMORGAN CHASE & CO.\", \"JPMORGAN CHASE & CO.\", \"JPMORGAN CHASE & CO.\", \"JPMORGAN CHASE & CO.\", \"JPMORGAN CHASE & CO.\", \"JPMORGAN CHASE & CO.\", \"JPMORGAN CHASE & CO.\", \"JPMORGAN CHASE & CO.\", \"JPMORGAN CHASE & CO.\", \"JPMORGAN CHASE & CO.\", \"JPMORGAN CHASE & CO.\", \"JPMORGAN CHASE & CO.\", \"JPMORGAN CHASE & CO.\", \"JPMORGAN CHASE & CO.\", \"JPMORGAN CHASE & CO.\"], \"x0\": \" \", \"xaxis\": \"x\", \"y\": [711, 662, 790, 936, 762, 686, 731, 700, 678, 741, 496, 419, 455, 414, 540, 699, 650, 638, 716, 767, 695, 702, 603, 656, 693, 626, 675, 806, 690, 794, 718, 769, 851, 923, 880, 1025, 997, 1066, 561, 701, 598, 745, 726, 733, 687, 601, 568, 569, 634, 555, 561, 587, 580, 641, 590, 609, 606, 666, 708, 638, 757, 693, 580, 766, 691, 696, 788, 833, 821, 842, 896, 743, 876, 918, 906, 852, 947, 694, 745, 723, 811, 920, 828, 683, 722, 746, 640, 727, 695, 666, 756, 634, 756, 749, 778, 710, 688, 762, 659, 657, 541, 570, 616, 597, 707, 832, 780, 868, 941, 831, 749, 776, 740, 785, 793, 816, 461], \"y0\": \" \", \"yaxis\": \"y\"}, {\"alignmentgroup\": \"True\", \"hovertemplate\": \"Groups=3<br>Companies=%{x}<br>Monthly complaints=%{y}<extra></extra>\", \"legendgroup\": \"3\", \"marker\": {\"color\": \"#2CA02C\"}, \"name\": \"3\", \"notched\": false, \"offsetgroup\": \"3\", \"orientation\": \"v\", \"showlegend\": true, \"type\": \"box\", \"x\": [\"CITIBANK, N.A.\", \"CITIBANK, N.A.\", \"CITIBANK, N.A.\", \"CITIBANK, N.A.\", \"CITIBANK, N.A.\", \"CITIBANK, N.A.\", \"CITIBANK, N.A.\", \"CITIBANK, N.A.\", \"CITIBANK, N.A.\", \"CITIBANK, N.A.\", \"CITIBANK, N.A.\", \"CITIBANK, N.A.\", \"CITIBANK, N.A.\", \"CITIBANK, N.A.\", \"CITIBANK, N.A.\", \"CITIBANK, N.A.\", \"CITIBANK, N.A.\", \"CITIBANK, N.A.\", \"CITIBANK, N.A.\", \"CITIBANK, N.A.\", \"CITIBANK, N.A.\", \"CITIBANK, N.A.\", \"CITIBANK, N.A.\", \"CITIBANK, N.A.\", \"CITIBANK, N.A.\", \"CITIBANK, N.A.\", \"CITIBANK, N.A.\", \"CITIBANK, N.A.\", \"CITIBANK, N.A.\", \"CITIBANK, N.A.\", \"CITIBANK, N.A.\", \"CITIBANK, N.A.\", \"CITIBANK, N.A.\", \"CITIBANK, N.A.\", \"CITIBANK, N.A.\", \"CITIBANK, N.A.\", \"CITIBANK, N.A.\", \"CITIBANK, N.A.\", \"CITIBANK, N.A.\", \"WELLS FARGO & COMPANY\", \"WELLS FARGO & COMPANY\", \"WELLS FARGO & COMPANY\", \"WELLS FARGO & COMPANY\", \"WELLS FARGO & COMPANY\", \"WELLS FARGO & COMPANY\", \"WELLS FARGO & COMPANY\", \"WELLS FARGO & COMPANY\", \"WELLS FARGO & COMPANY\", \"WELLS FARGO & COMPANY\", \"WELLS FARGO & COMPANY\", \"WELLS FARGO & COMPANY\", \"WELLS FARGO & COMPANY\", \"WELLS FARGO & COMPANY\", \"WELLS FARGO & COMPANY\", \"WELLS FARGO & COMPANY\", \"WELLS FARGO & COMPANY\", \"WELLS FARGO & COMPANY\", \"WELLS FARGO & COMPANY\", \"WELLS FARGO & COMPANY\", \"WELLS FARGO & COMPANY\", \"WELLS FARGO & COMPANY\", \"WELLS FARGO & COMPANY\", \"WELLS FARGO & COMPANY\", \"WELLS FARGO & COMPANY\", \"WELLS FARGO & COMPANY\", \"WELLS FARGO & COMPANY\", \"WELLS FARGO & COMPANY\", \"WELLS FARGO & COMPANY\", \"WELLS FARGO & COMPANY\", \"WELLS FARGO & COMPANY\", \"WELLS FARGO & COMPANY\", \"WELLS FARGO & COMPANY\", \"WELLS FARGO & COMPANY\", \"WELLS FARGO & COMPANY\", \"WELLS FARGO & COMPANY\", \"WELLS FARGO & COMPANY\", \"WELLS FARGO & COMPANY\", \"WELLS FARGO & COMPANY\"], \"x0\": \" \", \"xaxis\": \"x\", \"y\": [658, 608, 644, 705, 584, 508, 552, 611, 523, 656, 609, 605, 587, 543, 628, 601, 590, 578, 606, 611, 563, 637, 559, 562, 599, 638, 686, 850, 801, 772, 783, 709, 724, 739, 644, 775, 817, 768, 456, 714, 697, 842, 1015, 818, 706, 696, 776, 658, 672, 577, 618, 600, 659, 743, 674, 718, 649, 686, 602, 512, 595, 478, 507, 561, 557, 608, 605, 645, 677, 704, 664, 675, 654, 565, 619, 613, 639, 424], \"y0\": \" \", \"yaxis\": \"y\"}],                        {\"boxmode\": \"group\", \"height\": 600, \"legend\": {\"title\": {\"text\": \"Groups\"}, \"tracegroupgap\": 0}, \"template\": {\"data\": {\"bar\": [{\"error_x\": {\"color\": \"rgb(36,36,36)\"}, \"error_y\": {\"color\": \"rgb(36,36,36)\"}, \"marker\": {\"line\": {\"color\": \"white\", \"width\": 0.5}}, \"type\": \"bar\"}], \"barpolar\": [{\"marker\": {\"line\": {\"color\": \"white\", \"width\": 0.5}}, \"type\": \"barpolar\"}], \"carpet\": [{\"aaxis\": {\"endlinecolor\": \"rgb(36,36,36)\", \"gridcolor\": \"white\", \"linecolor\": \"white\", \"minorgridcolor\": \"white\", \"startlinecolor\": \"rgb(36,36,36)\"}, \"baxis\": {\"endlinecolor\": \"rgb(36,36,36)\", \"gridcolor\": \"white\", \"linecolor\": \"white\", \"minorgridcolor\": \"white\", \"startlinecolor\": \"rgb(36,36,36)\"}, \"type\": \"carpet\"}], \"choropleth\": [{\"colorbar\": {\"outlinewidth\": 1, \"tickcolor\": \"rgb(36,36,36)\", \"ticks\": \"outside\"}, \"type\": \"choropleth\"}], \"contour\": [{\"colorbar\": {\"outlinewidth\": 1, \"tickcolor\": \"rgb(36,36,36)\", \"ticks\": \"outside\"}, \"colorscale\": [[0.0, \"#440154\"], [0.1111111111111111, \"#482878\"], [0.2222222222222222, \"#3e4989\"], [0.3333333333333333, \"#31688e\"], [0.4444444444444444, \"#26828e\"], [0.5555555555555556, \"#1f9e89\"], [0.6666666666666666, \"#35b779\"], [0.7777777777777778, \"#6ece58\"], [0.8888888888888888, \"#b5de2b\"], [1.0, \"#fde725\"]], \"type\": \"contour\"}], \"contourcarpet\": [{\"colorbar\": {\"outlinewidth\": 1, \"tickcolor\": \"rgb(36,36,36)\", \"ticks\": \"outside\"}, \"type\": \"contourcarpet\"}], \"heatmap\": [{\"colorbar\": {\"outlinewidth\": 1, \"tickcolor\": \"rgb(36,36,36)\", \"ticks\": \"outside\"}, \"colorscale\": [[0.0, \"#440154\"], [0.1111111111111111, \"#482878\"], [0.2222222222222222, \"#3e4989\"], [0.3333333333333333, \"#31688e\"], [0.4444444444444444, \"#26828e\"], [0.5555555555555556, \"#1f9e89\"], [0.6666666666666666, \"#35b779\"], [0.7777777777777778, \"#6ece58\"], [0.8888888888888888, \"#b5de2b\"], [1.0, \"#fde725\"]], \"type\": \"heatmap\"}], \"heatmapgl\": [{\"colorbar\": {\"outlinewidth\": 1, \"tickcolor\": \"rgb(36,36,36)\", \"ticks\": \"outside\"}, \"colorscale\": [[0.0, \"#440154\"], [0.1111111111111111, \"#482878\"], [0.2222222222222222, \"#3e4989\"], [0.3333333333333333, \"#31688e\"], [0.4444444444444444, \"#26828e\"], [0.5555555555555556, \"#1f9e89\"], [0.6666666666666666, \"#35b779\"], [0.7777777777777778, \"#6ece58\"], [0.8888888888888888, \"#b5de2b\"], [1.0, \"#fde725\"]], \"type\": \"heatmapgl\"}], \"histogram\": [{\"marker\": {\"line\": {\"color\": \"white\", \"width\": 0.6}}, \"type\": \"histogram\"}], \"histogram2d\": [{\"colorbar\": {\"outlinewidth\": 1, \"tickcolor\": \"rgb(36,36,36)\", \"ticks\": \"outside\"}, \"colorscale\": [[0.0, \"#440154\"], [0.1111111111111111, \"#482878\"], [0.2222222222222222, \"#3e4989\"], [0.3333333333333333, \"#31688e\"], [0.4444444444444444, \"#26828e\"], [0.5555555555555556, \"#1f9e89\"], [0.6666666666666666, \"#35b779\"], [0.7777777777777778, \"#6ece58\"], [0.8888888888888888, \"#b5de2b\"], [1.0, \"#fde725\"]], \"type\": \"histogram2d\"}], \"histogram2dcontour\": [{\"colorbar\": {\"outlinewidth\": 1, \"tickcolor\": \"rgb(36,36,36)\", \"ticks\": \"outside\"}, \"colorscale\": [[0.0, \"#440154\"], [0.1111111111111111, \"#482878\"], [0.2222222222222222, \"#3e4989\"], [0.3333333333333333, \"#31688e\"], [0.4444444444444444, \"#26828e\"], [0.5555555555555556, \"#1f9e89\"], [0.6666666666666666, \"#35b779\"], [0.7777777777777778, \"#6ece58\"], [0.8888888888888888, \"#b5de2b\"], [1.0, \"#fde725\"]], \"type\": \"histogram2dcontour\"}], \"mesh3d\": [{\"colorbar\": {\"outlinewidth\": 1, \"tickcolor\": \"rgb(36,36,36)\", \"ticks\": \"outside\"}, \"type\": \"mesh3d\"}], \"parcoords\": [{\"line\": {\"colorbar\": {\"outlinewidth\": 1, \"tickcolor\": \"rgb(36,36,36)\", \"ticks\": \"outside\"}}, \"type\": \"parcoords\"}], \"pie\": [{\"automargin\": true, \"type\": \"pie\"}], \"scatter\": [{\"marker\": {\"colorbar\": {\"outlinewidth\": 1, \"tickcolor\": \"rgb(36,36,36)\", \"ticks\": \"outside\"}}, \"type\": \"scatter\"}], \"scatter3d\": [{\"line\": {\"colorbar\": {\"outlinewidth\": 1, \"tickcolor\": \"rgb(36,36,36)\", \"ticks\": \"outside\"}}, \"marker\": {\"colorbar\": {\"outlinewidth\": 1, \"tickcolor\": \"rgb(36,36,36)\", \"ticks\": \"outside\"}}, \"type\": \"scatter3d\"}], \"scattercarpet\": [{\"marker\": {\"colorbar\": {\"outlinewidth\": 1, \"tickcolor\": \"rgb(36,36,36)\", \"ticks\": \"outside\"}}, \"type\": \"scattercarpet\"}], \"scattergeo\": [{\"marker\": {\"colorbar\": {\"outlinewidth\": 1, \"tickcolor\": \"rgb(36,36,36)\", \"ticks\": \"outside\"}}, \"type\": \"scattergeo\"}], \"scattergl\": [{\"marker\": {\"colorbar\": {\"outlinewidth\": 1, \"tickcolor\": \"rgb(36,36,36)\", \"ticks\": \"outside\"}}, \"type\": \"scattergl\"}], \"scattermapbox\": [{\"marker\": {\"colorbar\": {\"outlinewidth\": 1, \"tickcolor\": \"rgb(36,36,36)\", \"ticks\": \"outside\"}}, \"type\": \"scattermapbox\"}], \"scatterpolar\": [{\"marker\": {\"colorbar\": {\"outlinewidth\": 1, \"tickcolor\": \"rgb(36,36,36)\", \"ticks\": \"outside\"}}, \"type\": \"scatterpolar\"}], \"scatterpolargl\": [{\"marker\": {\"colorbar\": {\"outlinewidth\": 1, \"tickcolor\": \"rgb(36,36,36)\", \"ticks\": \"outside\"}}, \"type\": \"scatterpolargl\"}], \"scatterternary\": [{\"marker\": {\"colorbar\": {\"outlinewidth\": 1, \"tickcolor\": \"rgb(36,36,36)\", \"ticks\": \"outside\"}}, \"type\": \"scatterternary\"}], \"surface\": [{\"colorbar\": {\"outlinewidth\": 1, \"tickcolor\": \"rgb(36,36,36)\", \"ticks\": \"outside\"}, \"colorscale\": [[0.0, \"#440154\"], [0.1111111111111111, \"#482878\"], [0.2222222222222222, \"#3e4989\"], [0.3333333333333333, \"#31688e\"], [0.4444444444444444, \"#26828e\"], [0.5555555555555556, \"#1f9e89\"], [0.6666666666666666, \"#35b779\"], [0.7777777777777778, \"#6ece58\"], [0.8888888888888888, \"#b5de2b\"], [1.0, \"#fde725\"]], \"type\": \"surface\"}], \"table\": [{\"cells\": {\"fill\": {\"color\": \"rgb(237,237,237)\"}, \"line\": {\"color\": \"white\"}}, \"header\": {\"fill\": {\"color\": \"rgb(217,217,217)\"}, \"line\": {\"color\": \"white\"}}, \"type\": \"table\"}]}, \"layout\": {\"annotationdefaults\": {\"arrowhead\": 0, \"arrowwidth\": 1}, \"autotypenumbers\": \"strict\", \"coloraxis\": {\"colorbar\": {\"outlinewidth\": 1, \"tickcolor\": \"rgb(36,36,36)\", \"ticks\": \"outside\"}}, \"colorscale\": {\"diverging\": [[0.0, \"rgb(103,0,31)\"], [0.1, \"rgb(178,24,43)\"], [0.2, \"rgb(214,96,77)\"], [0.3, \"rgb(244,165,130)\"], [0.4, \"rgb(253,219,199)\"], [0.5, \"rgb(247,247,247)\"], [0.6, \"rgb(209,229,240)\"], [0.7, \"rgb(146,197,222)\"], [0.8, \"rgb(67,147,195)\"], [0.9, \"rgb(33,102,172)\"], [1.0, \"rgb(5,48,97)\"]], \"sequential\": [[0.0, \"#440154\"], [0.1111111111111111, \"#482878\"], [0.2222222222222222, \"#3e4989\"], [0.3333333333333333, \"#31688e\"], [0.4444444444444444, \"#26828e\"], [0.5555555555555556, \"#1f9e89\"], [0.6666666666666666, \"#35b779\"], [0.7777777777777778, \"#6ece58\"], [0.8888888888888888, \"#b5de2b\"], [1.0, \"#fde725\"]], \"sequentialminus\": [[0.0, \"#440154\"], [0.1111111111111111, \"#482878\"], [0.2222222222222222, \"#3e4989\"], [0.3333333333333333, \"#31688e\"], [0.4444444444444444, \"#26828e\"], [0.5555555555555556, \"#1f9e89\"], [0.6666666666666666, \"#35b779\"], [0.7777777777777778, \"#6ece58\"], [0.8888888888888888, \"#b5de2b\"], [1.0, \"#fde725\"]]}, \"colorway\": [\"#1F77B4\", \"#FF7F0E\", \"#2CA02C\", \"#D62728\", \"#9467BD\", \"#8C564B\", \"#E377C2\", \"#7F7F7F\", \"#BCBD22\", \"#17BECF\"], \"font\": {\"color\": \"rgb(36,36,36)\"}, \"geo\": {\"bgcolor\": \"white\", \"lakecolor\": \"white\", \"landcolor\": \"white\", \"showlakes\": true, \"showland\": true, \"subunitcolor\": \"white\"}, \"hoverlabel\": {\"align\": \"left\"}, \"hovermode\": \"closest\", \"mapbox\": {\"style\": \"light\"}, \"paper_bgcolor\": \"white\", \"plot_bgcolor\": \"white\", \"polar\": {\"angularaxis\": {\"gridcolor\": \"rgb(232,232,232)\", \"linecolor\": \"rgb(36,36,36)\", \"showgrid\": false, \"showline\": true, \"ticks\": \"outside\"}, \"bgcolor\": \"white\", \"radialaxis\": {\"gridcolor\": \"rgb(232,232,232)\", \"linecolor\": \"rgb(36,36,36)\", \"showgrid\": false, \"showline\": true, \"ticks\": \"outside\"}}, \"scene\": {\"xaxis\": {\"backgroundcolor\": \"white\", \"gridcolor\": \"rgb(232,232,232)\", \"gridwidth\": 2, \"linecolor\": \"rgb(36,36,36)\", \"showbackground\": true, \"showgrid\": false, \"showline\": true, \"ticks\": \"outside\", \"zeroline\": false, \"zerolinecolor\": \"rgb(36,36,36)\"}, \"yaxis\": {\"backgroundcolor\": \"white\", \"gridcolor\": \"rgb(232,232,232)\", \"gridwidth\": 2, \"linecolor\": \"rgb(36,36,36)\", \"showbackground\": true, \"showgrid\": false, \"showline\": true, \"ticks\": \"outside\", \"zeroline\": false, \"zerolinecolor\": \"rgb(36,36,36)\"}, \"zaxis\": {\"backgroundcolor\": \"white\", \"gridcolor\": \"rgb(232,232,232)\", \"gridwidth\": 2, \"linecolor\": \"rgb(36,36,36)\", \"showbackground\": true, \"showgrid\": false, \"showline\": true, \"ticks\": \"outside\", \"zeroline\": false, \"zerolinecolor\": \"rgb(36,36,36)\"}}, \"shapedefaults\": {\"fillcolor\": \"black\", \"line\": {\"width\": 0}, \"opacity\": 0.3}, \"ternary\": {\"aaxis\": {\"gridcolor\": \"rgb(232,232,232)\", \"linecolor\": \"rgb(36,36,36)\", \"showgrid\": false, \"showline\": true, \"ticks\": \"outside\"}, \"baxis\": {\"gridcolor\": \"rgb(232,232,232)\", \"linecolor\": \"rgb(36,36,36)\", \"showgrid\": false, \"showline\": true, \"ticks\": \"outside\"}, \"bgcolor\": \"white\", \"caxis\": {\"gridcolor\": \"rgb(232,232,232)\", \"linecolor\": \"rgb(36,36,36)\", \"showgrid\": false, \"showline\": true, \"ticks\": \"outside\"}}, \"title\": {\"x\": 0.05}, \"xaxis\": {\"automargin\": true, \"gridcolor\": \"rgb(232,232,232)\", \"linecolor\": \"rgb(36,36,36)\", \"showgrid\": false, \"showline\": true, \"ticks\": \"outside\", \"title\": {\"standoff\": 15}, \"zeroline\": false, \"zerolinecolor\": \"rgb(36,36,36)\"}, \"yaxis\": {\"automargin\": true, \"gridcolor\": \"rgb(232,232,232)\", \"linecolor\": \"rgb(36,36,36)\", \"showgrid\": false, \"showline\": true, \"ticks\": \"outside\", \"title\": {\"standoff\": 15}, \"zeroline\": false, \"zerolinecolor\": \"rgb(36,36,36)\"}}}, \"title\": {\"text\": \"Boxplot - Monthly Complaints per Companies\"}, \"width\": 800, \"xaxis\": {\"anchor\": \"y\", \"categoryarray\": [\"TRANSUNION INTERMEDIATE HOLDINGS, INC.\", \"EQUIFAX, INC.\", \"Experian Information Solutions Inc.\", \"JPMORGAN CHASE & CO.\", \"BANK OF AMERICA, NATIONAL ASSOCIATION\", \"CAPITAL ONE FINANCIAL CORPORATION\", \"WELLS FARGO & COMPANY\", \"CITIBANK, N.A.\"], \"categoryorder\": \"array\", \"domain\": [0.0, 1.0], \"title\": {\"text\": \"Companies\"}}, \"yaxis\": {\"anchor\": \"x\", \"domain\": [0.0, 1.0], \"title\": {\"text\": \"Monthly complaints\"}}},                        {\"responsive\": true}                    ).then(function(){\n",
       "                            \n",
       "var gd = document.getElementById('4f8a69d5-122f-423f-b136-6f720d6d6554');\n",
       "var x = new MutationObserver(function (mutations, observer) {{\n",
       "        var display = window.getComputedStyle(gd).display;\n",
       "        if (!display || display === 'none') {{\n",
       "            console.log([gd, 'removed!']);\n",
       "            Plotly.purge(gd);\n",
       "            observer.disconnect();\n",
       "        }}\n",
       "}});\n",
       "\n",
       "// Listen for the removal of the full notebook cells\n",
       "var notebookContainer = gd.closest('#notebook-container');\n",
       "if (notebookContainer) {{\n",
       "    x.observe(notebookContainer, {childList: true});\n",
       "}}\n",
       "\n",
       "// Listen for the clearing of the current output cell\n",
       "var outputEl = gd.closest('.output');\n",
       "if (outputEl) {{\n",
       "    x.observe(outputEl, {childList: true});\n",
       "}}\n",
       "\n",
       "                        })                };                });            </script>        </div>"
      ]
     },
     "metadata": {},
     "output_type": "display_data"
    }
   ],
   "source": [
    "# I chose to split the group where the null hypothesis was rejected\n",
    "conditions = [\n",
    "    (df['company_name'].isin(ls[0:3])),\n",
    "    (df['company_name'].isin(ls[3:6])),\n",
    "    (df['company_name'].isin(ls[6:8])),\n",
    "    (df['company_name'].isin([ls[8]])),\n",
    "    (df['company_name'].isin(ls[9:]))    \n",
    "]\n",
    "\n",
    "groups = list(range(1,6,1))\n",
    "                                    \n",
    "     \n",
    "df['group'] = np.select(conditions, groups)\n",
    "\n",
    "fig = make_subplots(rows=1, cols=2)\n",
    "fig = px.box(df[df['company_name'].isin(ls[0:8])], x='company_name', y='complaint_id', color='group',\n",
    "             title='Boxplot - Monthly Complaints per Companies', labels={'company_name': 'Companies', \n",
    "                                                               'complaint_id': 'Monthly complaints',\n",
    "                                                                        'group': 'Groups'},\n",
    "             category_orders={'company_name':ls[0:8], 'group':[1, 2, 3]},\n",
    "             width=800, height=600, template='simple_white')\n",
    "fig.show()"
   ]
  },
  {
   "cell_type": "code",
   "execution_count": 195,
   "id": "academic-merit",
   "metadata": {
    "ExecuteTime": {
     "end_time": "2021-03-30T19:35:39.116306Z",
     "start_time": "2021-03-30T19:35:39.096375Z"
    }
   },
   "outputs": [
    {
     "data": {
      "text/html": [
       "<div>\n",
       "<style scoped>\n",
       "    .dataframe tbody tr th:only-of-type {\n",
       "        vertical-align: middle;\n",
       "    }\n",
       "\n",
       "    .dataframe tbody tr th {\n",
       "        vertical-align: top;\n",
       "    }\n",
       "\n",
       "    .dataframe thead th {\n",
       "        text-align: right;\n",
       "    }\n",
       "</style>\n",
       "<table border=\"1\" class=\"dataframe\">\n",
       "  <thead>\n",
       "    <tr style=\"text-align: right;\">\n",
       "      <th></th>\n",
       "      <th>product</th>\n",
       "      <th>subproduct</th>\n",
       "      <th>issue</th>\n",
       "      <th>company_name</th>\n",
       "      <th>state</th>\n",
       "      <th>date_sent_to_company</th>\n",
       "      <th>company_response_to_consumer</th>\n",
       "      <th>timely_response</th>\n",
       "      <th>complaint_id</th>\n",
       "    </tr>\n",
       "    <tr>\n",
       "      <th>date_received</th>\n",
       "      <th></th>\n",
       "      <th></th>\n",
       "      <th></th>\n",
       "      <th></th>\n",
       "      <th></th>\n",
       "      <th></th>\n",
       "      <th></th>\n",
       "      <th></th>\n",
       "      <th></th>\n",
       "    </tr>\n",
       "  </thead>\n",
       "  <tbody>\n",
       "    <tr>\n",
       "      <th>2021-03-26</th>\n",
       "      <td>Debt collection</td>\n",
       "      <td>Auto debt</td>\n",
       "      <td>Written notification about debt</td>\n",
       "      <td>NAVY FEDERAL CREDIT UNION</td>\n",
       "      <td>NV</td>\n",
       "      <td>2021-03-26</td>\n",
       "      <td>In progress</td>\n",
       "      <td>True</td>\n",
       "      <td>4247708</td>\n",
       "    </tr>\n",
       "    <tr>\n",
       "      <th>2021-03-26</th>\n",
       "      <td>Student loan</td>\n",
       "      <td>Federal student loan servicing</td>\n",
       "      <td>Dealing with your lender or servicer</td>\n",
       "      <td>AES/PHEAA</td>\n",
       "      <td>RI</td>\n",
       "      <td>2021-03-26</td>\n",
       "      <td>Closed with explanation</td>\n",
       "      <td>True</td>\n",
       "      <td>4246344</td>\n",
       "    </tr>\n",
       "    <tr>\n",
       "      <th>2021-03-26</th>\n",
       "      <td>Mortgage</td>\n",
       "      <td>Conventional home mortgage</td>\n",
       "      <td>Closing on a mortgage</td>\n",
       "      <td>NAVY FEDERAL CREDIT UNION</td>\n",
       "      <td>GA</td>\n",
       "      <td>2021-03-26</td>\n",
       "      <td>In progress</td>\n",
       "      <td>True</td>\n",
       "      <td>4248281</td>\n",
       "    </tr>\n",
       "    <tr>\n",
       "      <th>2021-03-26</th>\n",
       "      <td>Debt collection</td>\n",
       "      <td>Credit card debt</td>\n",
       "      <td>Attempts to collect debt not owed</td>\n",
       "      <td>NAVY FEDERAL CREDIT UNION</td>\n",
       "      <td>SC</td>\n",
       "      <td>2021-03-26</td>\n",
       "      <td>In progress</td>\n",
       "      <td>True</td>\n",
       "      <td>4247734</td>\n",
       "    </tr>\n",
       "    <tr>\n",
       "      <th>2021-03-26</th>\n",
       "      <td>Credit reporting, credit repair services, or o...</td>\n",
       "      <td>Credit reporting</td>\n",
       "      <td>Incorrect information on your report</td>\n",
       "      <td>NAVY FEDERAL CREDIT UNION</td>\n",
       "      <td>GA</td>\n",
       "      <td>2021-03-26</td>\n",
       "      <td>In progress</td>\n",
       "      <td>True</td>\n",
       "      <td>4246432</td>\n",
       "    </tr>\n",
       "    <tr>\n",
       "      <th>...</th>\n",
       "      <td>...</td>\n",
       "      <td>...</td>\n",
       "      <td>...</td>\n",
       "      <td>...</td>\n",
       "      <td>...</td>\n",
       "      <td>...</td>\n",
       "      <td>...</td>\n",
       "      <td>...</td>\n",
       "      <td>...</td>\n",
       "    </tr>\n",
       "    <tr>\n",
       "      <th>2018-01-01</th>\n",
       "      <td>Credit reporting, credit repair services, or o...</td>\n",
       "      <td>Credit reporting</td>\n",
       "      <td>Problem with a credit reporting company's inve...</td>\n",
       "      <td>TRANSUNION INTERMEDIATE HOLDINGS, INC.</td>\n",
       "      <td>CA</td>\n",
       "      <td>2018-01-01</td>\n",
       "      <td>Closed with explanation</td>\n",
       "      <td>True</td>\n",
       "      <td>2768849</td>\n",
       "    </tr>\n",
       "    <tr>\n",
       "      <th>2018-01-01</th>\n",
       "      <td>Credit reporting, credit repair services, or o...</td>\n",
       "      <td>Credit reporting</td>\n",
       "      <td>Problem with a credit reporting company's inve...</td>\n",
       "      <td>EQUIFAX, INC.</td>\n",
       "      <td>GA</td>\n",
       "      <td>2018-01-01</td>\n",
       "      <td>Closed with explanation</td>\n",
       "      <td>True</td>\n",
       "      <td>2768808</td>\n",
       "    </tr>\n",
       "    <tr>\n",
       "      <th>2018-01-01</th>\n",
       "      <td>Credit reporting, credit repair services, or o...</td>\n",
       "      <td>Credit reporting</td>\n",
       "      <td>Problem with a credit reporting company's inve...</td>\n",
       "      <td>TRANSUNION INTERMEDIATE HOLDINGS, INC.</td>\n",
       "      <td>TX</td>\n",
       "      <td>2018-01-01</td>\n",
       "      <td>Closed with explanation</td>\n",
       "      <td>True</td>\n",
       "      <td>2768784</td>\n",
       "    </tr>\n",
       "    <tr>\n",
       "      <th>2018-01-01</th>\n",
       "      <td>Credit reporting, credit repair services, or o...</td>\n",
       "      <td>Credit reporting</td>\n",
       "      <td>Problem with a credit reporting company's inve...</td>\n",
       "      <td>Experian Information Solutions Inc.</td>\n",
       "      <td>AL</td>\n",
       "      <td>2018-01-01</td>\n",
       "      <td>Closed with explanation</td>\n",
       "      <td>True</td>\n",
       "      <td>2768912</td>\n",
       "    </tr>\n",
       "    <tr>\n",
       "      <th>2018-01-01</th>\n",
       "      <td>Credit reporting, credit repair services, or o...</td>\n",
       "      <td>Credit reporting</td>\n",
       "      <td>Problem with a credit reporting company's inve...</td>\n",
       "      <td>TRANSUNION INTERMEDIATE HOLDINGS, INC.</td>\n",
       "      <td>CA</td>\n",
       "      <td>2018-01-01</td>\n",
       "      <td>Closed with explanation</td>\n",
       "      <td>True</td>\n",
       "      <td>2768948</td>\n",
       "    </tr>\n",
       "  </tbody>\n",
       "</table>\n",
       "<p>777681 rows × 9 columns</p>\n",
       "</div>"
      ],
      "text/plain": [
       "                                                         product  \\\n",
       "date_received                                                      \n",
       "2021-03-26                                       Debt collection   \n",
       "2021-03-26                                          Student loan   \n",
       "2021-03-26                                              Mortgage   \n",
       "2021-03-26                                       Debt collection   \n",
       "2021-03-26     Credit reporting, credit repair services, or o...   \n",
       "...                                                          ...   \n",
       "2018-01-01     Credit reporting, credit repair services, or o...   \n",
       "2018-01-01     Credit reporting, credit repair services, or o...   \n",
       "2018-01-01     Credit reporting, credit repair services, or o...   \n",
       "2018-01-01     Credit reporting, credit repair services, or o...   \n",
       "2018-01-01     Credit reporting, credit repair services, or o...   \n",
       "\n",
       "                                   subproduct  \\\n",
       "date_received                                   \n",
       "2021-03-26                          Auto debt   \n",
       "2021-03-26     Federal student loan servicing   \n",
       "2021-03-26         Conventional home mortgage   \n",
       "2021-03-26                   Credit card debt   \n",
       "2021-03-26                   Credit reporting   \n",
       "...                                       ...   \n",
       "2018-01-01                   Credit reporting   \n",
       "2018-01-01                   Credit reporting   \n",
       "2018-01-01                   Credit reporting   \n",
       "2018-01-01                   Credit reporting   \n",
       "2018-01-01                   Credit reporting   \n",
       "\n",
       "                                                           issue  \\\n",
       "date_received                                                      \n",
       "2021-03-26                       Written notification about debt   \n",
       "2021-03-26                  Dealing with your lender or servicer   \n",
       "2021-03-26                                 Closing on a mortgage   \n",
       "2021-03-26                     Attempts to collect debt not owed   \n",
       "2021-03-26                  Incorrect information on your report   \n",
       "...                                                          ...   \n",
       "2018-01-01     Problem with a credit reporting company's inve...   \n",
       "2018-01-01     Problem with a credit reporting company's inve...   \n",
       "2018-01-01     Problem with a credit reporting company's inve...   \n",
       "2018-01-01     Problem with a credit reporting company's inve...   \n",
       "2018-01-01     Problem with a credit reporting company's inve...   \n",
       "\n",
       "                                         company_name state  \\\n",
       "date_received                                                 \n",
       "2021-03-26                  NAVY FEDERAL CREDIT UNION    NV   \n",
       "2021-03-26                                  AES/PHEAA    RI   \n",
       "2021-03-26                  NAVY FEDERAL CREDIT UNION    GA   \n",
       "2021-03-26                  NAVY FEDERAL CREDIT UNION    SC   \n",
       "2021-03-26                  NAVY FEDERAL CREDIT UNION    GA   \n",
       "...                                               ...   ...   \n",
       "2018-01-01     TRANSUNION INTERMEDIATE HOLDINGS, INC.    CA   \n",
       "2018-01-01                              EQUIFAX, INC.    GA   \n",
       "2018-01-01     TRANSUNION INTERMEDIATE HOLDINGS, INC.    TX   \n",
       "2018-01-01        Experian Information Solutions Inc.    AL   \n",
       "2018-01-01     TRANSUNION INTERMEDIATE HOLDINGS, INC.    CA   \n",
       "\n",
       "              date_sent_to_company company_response_to_consumer  \\\n",
       "date_received                                                     \n",
       "2021-03-26              2021-03-26                  In progress   \n",
       "2021-03-26              2021-03-26      Closed with explanation   \n",
       "2021-03-26              2021-03-26                  In progress   \n",
       "2021-03-26              2021-03-26                  In progress   \n",
       "2021-03-26              2021-03-26                  In progress   \n",
       "...                            ...                          ...   \n",
       "2018-01-01              2018-01-01      Closed with explanation   \n",
       "2018-01-01              2018-01-01      Closed with explanation   \n",
       "2018-01-01              2018-01-01      Closed with explanation   \n",
       "2018-01-01              2018-01-01      Closed with explanation   \n",
       "2018-01-01              2018-01-01      Closed with explanation   \n",
       "\n",
       "               timely_response  complaint_id  \n",
       "date_received                                 \n",
       "2021-03-26                True       4247708  \n",
       "2021-03-26                True       4246344  \n",
       "2021-03-26                True       4248281  \n",
       "2021-03-26                True       4247734  \n",
       "2021-03-26                True       4246432  \n",
       "...                        ...           ...  \n",
       "2018-01-01                True       2768849  \n",
       "2018-01-01                True       2768808  \n",
       "2018-01-01                True       2768784  \n",
       "2018-01-01                True       2768912  \n",
       "2018-01-01                True       2768948  \n",
       "\n",
       "[777681 rows x 9 columns]"
      ]
     },
     "execution_count": 195,
     "metadata": {},
     "output_type": "execute_result"
    }
   ],
   "source": [
    "shortlist_1"
   ]
  },
  {
   "cell_type": "code",
   "execution_count": 30,
   "id": "cross-issue",
   "metadata": {
    "ExecuteTime": {
     "end_time": "2021-03-30T11:33:43.879410Z",
     "start_time": "2021-03-30T11:33:43.637529Z"
    }
   },
   "outputs": [
    {
     "data": {
      "image/png": "[encoded data removed]",
      "text/plain": [
       "<Figure size 1080x720 with 1 Axes>"
      ]
     },
     "metadata": {},
     "output_type": "display_data"
    }
   ],
   "source": [
    "df = shortlist_1[['complaint_id', 'issue']].groupby(['issue']).count()\\\n",
    ".sort_values(by='complaint_id', ascending=False).head(10).reset_index()\n",
    "\n",
    "sns.set_theme()\n",
    "sns.set_context(\"paper\", font_scale=1.5)\n",
    "fig, ax = plt.subplots(figsize=(15, 10))\n",
    "g = sns.barplot(data=df, x='complaint_id', y=\"issue\",\n",
    "                linewidth=2.5)\n",
    "g.set(xlabel='Returns', ylabel='Stocks', title='Return on Stocks - 2017')\n",
    "sns.despine(left=True, bottom=True)"
   ]
  },
  {
   "cell_type": "code",
   "execution_count": null,
   "id": "major-tsunami",
   "metadata": {},
   "outputs": [],
   "source": []
  }
 ],
 "metadata": {
  "kernelspec": {
   "display_name": "Python [conda env:financial-complaints] *",
   "language": "python",
   "name": "conda-env-financial-complaints-py"
  },
  "language_info": {
   "codemirror_mode": {
    "name": "ipython",
    "version": 3
   },
   "file_extension": ".py",
   "mimetype": "text/x-python",
   "name": "python",
   "nbconvert_exporter": "python",
   "pygments_lexer": "ipython3",
   "version": "3.8.8"
  }
 },
 "nbformat": 4,
 "nbformat_minor": 5
}
