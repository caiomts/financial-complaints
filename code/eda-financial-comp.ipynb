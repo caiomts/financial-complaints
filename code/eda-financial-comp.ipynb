{
 "cells": [
  {
   "cell_type": "markdown",
   "id": "clear-saint",
   "metadata": {},
   "source": [
    "# Imports"
   ]
  },
  {
   "cell_type": "code",
   "execution_count": 153,
   "id": "southern-pointer",
   "metadata": {
    "ExecuteTime": {
     "end_time": "2021-03-26T08:41:01.004284Z",
     "start_time": "2021-03-26T08:41:01.000409Z"
    },
    "scrolled": true
   },
   "outputs": [],
   "source": [
    "import os\n",
    "import pandas as pd\n",
    "from google.cloud import bigquery\n",
    "import matplotlib.pyplot as plt"
   ]
  },
  {
   "cell_type": "code",
   "execution_count": null,
   "id": "communist-billion",
   "metadata": {
    "ExecuteTime": {
     "end_time": "2021-03-25T13:02:06.008654Z",
     "start_time": "2021-03-25T13:02:06.001373Z"
    },
    "scrolled": true
   },
   "outputs": [],
   "source": [
    "# set credentials\n",
    "os.environ['GOOGLE_APPLICATION_CREDENTIALS'] = \"../documents/key.json\"\n",
    "# creates a client\n",
    "client = bigquery.Client()"
   ]
  },
  {
   "cell_type": "markdown",
   "id": "enormous-weekly",
   "metadata": {},
   "source": [
    "# Loading Data"
   ]
  },
  {
   "cell_type": "code",
   "execution_count": null,
   "id": "signal-program",
   "metadata": {
    "ExecuteTime": {
     "end_time": "2021-03-25T13:02:15.943781Z",
     "start_time": "2021-03-25T13:02:15.354156Z"
    },
    "scrolled": true
   },
   "outputs": [],
   "source": [
    "# References\n",
    "ds_ref = client.dataset('cfpb_complaints', project='bigquery-public-data')\n",
    "df_ref = ds_ref.table('complaint_database')\n",
    "# API - request Fetch the table\n",
    "df = client.get_table(df_ref)\n",
    "df.schema"
   ]
  },
  {
   "cell_type": "code",
   "execution_count": null,
   "id": "latin-vegetation",
   "metadata": {
    "ExecuteTime": {
     "end_time": "2021-03-25T13:02:20.510436Z",
     "start_time": "2021-03-25T13:02:19.232258Z"
    }
   },
   "outputs": [],
   "source": [
    "client.list_rows(df, max_results=5).to_dataframe()"
   ]
  },
  {
   "cell_type": "code",
   "execution_count": null,
   "id": "stopped-practitioner",
   "metadata": {
    "ExecuteTime": {
     "end_time": "2021-03-25T13:05:26.670204Z",
     "start_time": "2021-03-25T13:05:26.665683Z"
    },
    "scrolled": true
   },
   "outputs": [],
   "source": [
    "query = \"\"\"\n",
    "        SELECT date_received, product, subproduct, issue, company_name, \n",
    "        state, date_sent_to_company, company_response_to_consumer, timely_response, \n",
    "        complaint_id\n",
    "        FROM `bigquery-public-data.cfpb_complaints.complaint_database`\n",
    "        WHERE EXTRACT(YEAR FROM date_received) >= 2018 OR company_response_to_consumer = 'In progress'\n",
    "        ORDER BY date_received DESC\n",
    "        \"\"\""
   ]
  },
  {
   "cell_type": "code",
   "execution_count": null,
   "id": "architectural-cathedral",
   "metadata": {
    "ExecuteTime": {
     "end_time": "2021-03-25T13:05:28.953559Z",
     "start_time": "2021-03-25T13:05:28.949828Z"
    }
   },
   "outputs": [],
   "source": [
    "# setting limits\n",
    "safe_config = bigquery.QueryJobConfig(maximum_bytes_billed=10**10)"
   ]
  },
  {
   "cell_type": "code",
   "execution_count": null,
   "id": "careful-ownership",
   "metadata": {
    "ExecuteTime": {
     "end_time": "2021-03-25T13:06:31.162039Z",
     "start_time": "2021-03-25T13:05:31.381461Z"
    },
    "scrolled": true
   },
   "outputs": [],
   "source": [
    "query_job = client.query(query, job_config=safe_config)\n",
    "# API request\n",
    "raw_df = query_job.to_dataframe()\n",
    "raw_df.head()"
   ]
  },
  {
   "cell_type": "code",
   "execution_count": null,
   "id": "reserved-spine",
   "metadata": {
    "ExecuteTime": {
     "end_time": "2021-03-25T13:06:36.816091Z",
     "start_time": "2021-03-25T13:06:36.757582Z"
    }
   },
   "outputs": [],
   "source": [
    "# Copy\n",
    "backup_raw_df = raw_df.copy()"
   ]
  },
  {
   "cell_type": "markdown",
   "id": "inappropriate-camera",
   "metadata": {},
   "source": [
    "# Data Preparation"
   ]
  },
  {
   "cell_type": "code",
   "execution_count": null,
   "id": "worth-commons",
   "metadata": {
    "ExecuteTime": {
     "end_time": "2021-03-25T13:06:41.423780Z",
     "start_time": "2021-03-25T13:06:39.861046Z"
    }
   },
   "outputs": [],
   "source": [
    "raw_df.describe()"
   ]
  },
  {
   "cell_type": "code",
   "execution_count": null,
   "id": "mounted-office",
   "metadata": {
    "ExecuteTime": {
     "end_time": "2021-03-25T13:07:03.905828Z",
     "start_time": "2021-03-25T13:07:03.897246Z"
    }
   },
   "outputs": [],
   "source": [
    "raw_df.dtypes"
   ]
  },
  {
   "cell_type": "code",
   "execution_count": null,
   "id": "conservative-shareware",
   "metadata": {
    "ExecuteTime": {
     "end_time": "2021-03-25T13:29:23.881768Z",
     "start_time": "2021-03-25T13:29:23.808871Z"
    }
   },
   "outputs": [],
   "source": [
    "# adjusting the date format\n",
    "dates = ['date_received', 'date_sent_to_company']\n",
    "for date in dates:\n",
    "    raw_df[date] = pd.to_datetime(raw_df[date], format='%Y-%m-%d')"
   ]
  },
  {
   "cell_type": "code",
   "execution_count": null,
   "id": "particular-collins",
   "metadata": {
    "ExecuteTime": {
     "end_time": "2021-03-25T13:59:23.372715Z",
     "start_time": "2021-03-25T13:59:23.360754Z"
    }
   },
   "outputs": [],
   "source": [
    "raw_df.set_index('date_received', inplace=True)"
   ]
  },
  {
   "cell_type": "code",
   "execution_count": 72,
   "id": "cooperative-budget",
   "metadata": {
    "ExecuteTime": {
     "end_time": "2021-03-25T13:59:49.578510Z",
     "start_time": "2021-03-25T13:59:49.563002Z"
    }
   },
   "outputs": [
    {
     "data": {
      "text/html": [
       "<div>\n",
       "<style scoped>\n",
       "    .dataframe tbody tr th:only-of-type {\n",
       "        vertical-align: middle;\n",
       "    }\n",
       "\n",
       "    .dataframe tbody tr th {\n",
       "        vertical-align: top;\n",
       "    }\n",
       "\n",
       "    .dataframe thead th {\n",
       "        text-align: right;\n",
       "    }\n",
       "</style>\n",
       "<table border=\"1\" class=\"dataframe\">\n",
       "  <thead>\n",
       "    <tr style=\"text-align: right;\">\n",
       "      <th></th>\n",
       "      <th>product</th>\n",
       "      <th>subproduct</th>\n",
       "      <th>issue</th>\n",
       "      <th>company_name</th>\n",
       "      <th>state</th>\n",
       "      <th>date_sent_to_company</th>\n",
       "      <th>company_response_to_consumer</th>\n",
       "      <th>timely_response</th>\n",
       "      <th>complaint_id</th>\n",
       "    </tr>\n",
       "    <tr>\n",
       "      <th>date_received</th>\n",
       "      <th></th>\n",
       "      <th></th>\n",
       "      <th></th>\n",
       "      <th></th>\n",
       "      <th></th>\n",
       "      <th></th>\n",
       "      <th></th>\n",
       "      <th></th>\n",
       "      <th></th>\n",
       "    </tr>\n",
       "  </thead>\n",
       "  <tbody>\n",
       "    <tr>\n",
       "      <th>2021-03-23</th>\n",
       "      <td>Checking or savings account</td>\n",
       "      <td>Checking account</td>\n",
       "      <td>Managing an account</td>\n",
       "      <td>ALLY FINANCIAL INC.</td>\n",
       "      <td>FL</td>\n",
       "      <td>2021-03-23</td>\n",
       "      <td>In progress</td>\n",
       "      <td>True</td>\n",
       "      <td>4238871</td>\n",
       "    </tr>\n",
       "    <tr>\n",
       "      <th>2021-03-23</th>\n",
       "      <td>Credit reporting, credit repair services, or o...</td>\n",
       "      <td>Credit reporting</td>\n",
       "      <td>Improper use of your report</td>\n",
       "      <td>Nicholas Financial Inc.</td>\n",
       "      <td>IL</td>\n",
       "      <td>2021-03-23</td>\n",
       "      <td>Closed with explanation</td>\n",
       "      <td>True</td>\n",
       "      <td>4239783</td>\n",
       "    </tr>\n",
       "    <tr>\n",
       "      <th>2021-03-23</th>\n",
       "      <td>Debt collection</td>\n",
       "      <td>I do not know</td>\n",
       "      <td>Written notification about debt</td>\n",
       "      <td>HCFS Health Care Financial Services, Inc.</td>\n",
       "      <td>None</td>\n",
       "      <td>2021-03-23</td>\n",
       "      <td>Closed with explanation</td>\n",
       "      <td>True</td>\n",
       "      <td>4238351</td>\n",
       "    </tr>\n",
       "    <tr>\n",
       "      <th>2021-03-23</th>\n",
       "      <td>Checking or savings account</td>\n",
       "      <td>Checking account</td>\n",
       "      <td>Opening an account</td>\n",
       "      <td>NAVY FEDERAL CREDIT UNION</td>\n",
       "      <td>SC</td>\n",
       "      <td>2021-03-23</td>\n",
       "      <td>In progress</td>\n",
       "      <td>True</td>\n",
       "      <td>4240610</td>\n",
       "    </tr>\n",
       "    <tr>\n",
       "      <th>2021-03-23</th>\n",
       "      <td>Vehicle loan or lease</td>\n",
       "      <td>Loan</td>\n",
       "      <td>Managing the loan or lease</td>\n",
       "      <td>ALLY FINANCIAL INC.</td>\n",
       "      <td>CA</td>\n",
       "      <td>2021-03-23</td>\n",
       "      <td>In progress</td>\n",
       "      <td>True</td>\n",
       "      <td>4236955</td>\n",
       "    </tr>\n",
       "  </tbody>\n",
       "</table>\n",
       "</div>"
      ],
      "text/plain": [
       "                                                         product  \\\n",
       "date_received                                                      \n",
       "2021-03-23                           Checking or savings account   \n",
       "2021-03-23     Credit reporting, credit repair services, or o...   \n",
       "2021-03-23                                       Debt collection   \n",
       "2021-03-23                           Checking or savings account   \n",
       "2021-03-23                                 Vehicle loan or lease   \n",
       "\n",
       "                     subproduct                            issue  \\\n",
       "date_received                                                      \n",
       "2021-03-23     Checking account              Managing an account   \n",
       "2021-03-23     Credit reporting      Improper use of your report   \n",
       "2021-03-23        I do not know  Written notification about debt   \n",
       "2021-03-23     Checking account               Opening an account   \n",
       "2021-03-23                 Loan       Managing the loan or lease   \n",
       "\n",
       "                                            company_name state  \\\n",
       "date_received                                                    \n",
       "2021-03-23                           ALLY FINANCIAL INC.    FL   \n",
       "2021-03-23                       Nicholas Financial Inc.    IL   \n",
       "2021-03-23     HCFS Health Care Financial Services, Inc.  None   \n",
       "2021-03-23                     NAVY FEDERAL CREDIT UNION    SC   \n",
       "2021-03-23                           ALLY FINANCIAL INC.    CA   \n",
       "\n",
       "              date_sent_to_company company_response_to_consumer  \\\n",
       "date_received                                                     \n",
       "2021-03-23              2021-03-23                  In progress   \n",
       "2021-03-23              2021-03-23      Closed with explanation   \n",
       "2021-03-23              2021-03-23      Closed with explanation   \n",
       "2021-03-23              2021-03-23                  In progress   \n",
       "2021-03-23              2021-03-23                  In progress   \n",
       "\n",
       "               timely_response complaint_id  \n",
       "date_received                                \n",
       "2021-03-23                True      4238871  \n",
       "2021-03-23                True      4239783  \n",
       "2021-03-23                True      4238351  \n",
       "2021-03-23                True      4240610  \n",
       "2021-03-23                True      4236955  "
      ]
     },
     "execution_count": 72,
     "metadata": {},
     "output_type": "execute_result"
    }
   ],
   "source": [
    "raw_df.head()"
   ]
  },
  {
   "cell_type": "code",
   "execution_count": 82,
   "id": "endless-tournament",
   "metadata": {
    "ExecuteTime": {
     "end_time": "2021-03-25T14:07:56.336996Z",
     "start_time": "2021-03-25T14:07:56.296580Z"
    }
   },
   "outputs": [
    {
     "data": {
      "text/plain": [
       "array(['In progress', 'Closed with explanation',\n",
       "       'Closed with non-monetary relief', 'Closed with monetary relief',\n",
       "       'Untimely response', None], dtype=object)"
      ]
     },
     "execution_count": 82,
     "metadata": {},
     "output_type": "execute_result"
    }
   ],
   "source": [
    "raw_df.company_response_to_consumer.unique()"
   ]
  },
  {
   "cell_type": "markdown",
   "id": "alert-bonus",
   "metadata": {},
   "source": [
    "# EDA"
   ]
  },
  {
   "cell_type": "markdown",
   "id": "discrete-designer",
   "metadata": {
    "ExecuteTime": {
     "end_time": "2021-03-25T13:20:41.686300Z",
     "start_time": "2021-03-25T13:20:41.666817Z"
    }
   },
   "source": [
    "### 1 - Which companies have the most complaints?"
   ]
  },
  {
   "cell_type": "code",
   "execution_count": 100,
   "id": "played-nudist",
   "metadata": {
    "ExecuteTime": {
     "end_time": "2021-03-25T14:26:41.267053Z",
     "start_time": "2021-03-25T14:26:41.106579Z"
    }
   },
   "outputs": [],
   "source": [
    "comp_most_complaints = raw_df[['company_name', 'complaint_id']] \\\n",
    ".groupby('company_name').count().sort_values(by='complaint_id', ascending=False).head(20).index.to_list()"
   ]
  },
  {
   "cell_type": "markdown",
   "id": "later-privilege",
   "metadata": {
    "ExecuteTime": {
     "end_time": "2021-03-25T13:45:27.911664Z",
     "start_time": "2021-03-25T13:45:18.817381Z"
    }
   },
   "source": [
    "### 2 - Which companies have the most complaints this year?"
   ]
  },
  {
   "cell_type": "code",
   "execution_count": 101,
   "id": "local-gambling",
   "metadata": {
    "ExecuteTime": {
     "end_time": "2021-03-25T14:26:43.101878Z",
     "start_time": "2021-03-25T14:26:43.066849Z"
    },
    "scrolled": true
   },
   "outputs": [],
   "source": [
    "comp_most_complaints_2021 = raw_df.loc['2021' , ['company_name', 'complaint_id']] \\\n",
    ".groupby('company_name').count().sort_values(by='complaint_id', ascending=False).head(20).index.to_list()"
   ]
  },
  {
   "cell_type": "markdown",
   "id": "leading-software",
   "metadata": {},
   "source": [
    "### 3 - Which companies have the most complaints 'in progress' or 'Untimely response'?"
   ]
  },
  {
   "cell_type": "code",
   "execution_count": 114,
   "id": "continuing-silly",
   "metadata": {
    "ExecuteTime": {
     "end_time": "2021-03-25T14:30:46.707030Z",
     "start_time": "2021-03-25T14:30:46.667157Z"
    }
   },
   "outputs": [],
   "source": [
    "comp_most_complaints_unsolved = raw_df.loc[raw_df.company_response_to_consumer.isin(['In progress', 'Untimely response']),\n",
    "           ['company_name', 'complaint_id']] \\\n",
    ".groupby('company_name').count().sort_values(by='complaint_id', ascending=False).head(20).index.to_list()"
   ]
  },
  {
   "cell_type": "markdown",
   "id": "mounted-exhibition",
   "metadata": {},
   "source": [
    "### 4 - What are the most recurring issues per company? "
   ]
  },
  {
   "cell_type": "code",
   "execution_count": 128,
   "id": "continued-estonia",
   "metadata": {
    "ExecuteTime": {
     "end_time": "2021-03-25T14:42:39.326528Z",
     "start_time": "2021-03-25T14:42:39.076647Z"
    }
   },
   "outputs": [],
   "source": [
    "comp_recurring_issue = raw_df[['company_name', 'issue', 'complaint_id']] \\\n",
    ".groupby(['issue', 'company_name']).count().sort_values(by='complaint_id', \n",
    "                                                        ascending=False).head(20).index \\\n",
    ".get_level_values('company_name').to_list()"
   ]
  },
  {
   "cell_type": "code",
   "execution_count": 129,
   "id": "single-extent",
   "metadata": {
    "ExecuteTime": {
     "end_time": "2021-03-25T14:42:57.755703Z",
     "start_time": "2021-03-25T14:42:57.748734Z"
    }
   },
   "outputs": [
    {
     "data": {
      "text/plain": [
       "31"
      ]
     },
     "execution_count": 129,
     "metadata": {},
     "output_type": "execute_result"
    }
   ],
   "source": [
    "potential_customers = list(set(comp_most_complaints) | \n",
    "                        set(comp_most_complaints_2021) |\n",
    "                        set(comp_most_complaints_unsolved)|\n",
    "                          set (comp_recurring_issue))\n",
    "len(potential_customers)"
   ]
  },
  {
   "cell_type": "code",
   "execution_count": 130,
   "id": "valued-deployment",
   "metadata": {
    "ExecuteTime": {
     "end_time": "2021-03-25T14:43:20.118418Z",
     "start_time": "2021-03-25T14:43:20.113369Z"
    }
   },
   "outputs": [
    {
     "data": {
      "text/plain": [
       "['Ameritech Financial',\n",
       " 'Resurgent Capital Services L.P.',\n",
       " 'TD BANK US HOLDING COMPANY',\n",
       " 'Chime Financial Inc',\n",
       " 'CITIBANK, N.A.',\n",
       " 'Navient Solutions, LLC.',\n",
       " 'TRANSUNION INTERMEDIATE HOLDINGS, INC.',\n",
       " 'PNC Bank N.A.',\n",
       " 'CITIZENS FINANCIAL GROUP, INC.',\n",
       " 'Premier\\xa0Student\\xa0Loan\\xa0Center',\n",
       " 'NAVY FEDERAL CREDIT UNION',\n",
       " 'ALLY FINANCIAL INC.',\n",
       " 'AES/PHEAA',\n",
       " 'BANK OF AMERICA, NATIONAL ASSOCIATION',\n",
       " 'PORTFOLIO RECOVERY ASSOCIATES INC',\n",
       " 'Experian Information Solutions Inc.',\n",
       " 'WELLS FARGO & COMPANY',\n",
       " 'U.S. BANCORP',\n",
       " 'BARCLAYS BANK DELAWARE',\n",
       " 'SYNCHRONY FINANCIAL',\n",
       " 'Alliance Data Card Services',\n",
       " 'ENCORE CAPITAL GROUP INC.',\n",
       " 'CAPITAL ONE FINANCIAL CORPORATION',\n",
       " 'Santander Consumer USA Holdings Inc.',\n",
       " 'Mobiloans, LLC',\n",
       " 'Colony Brands, Inc.',\n",
       " 'DISCOVER BANK',\n",
       " 'JPMORGAN CHASE & CO.',\n",
       " 'Paypal Holdings, Inc',\n",
       " 'EQUIFAX, INC.',\n",
       " 'AMERICAN EXPRESS COMPANY']"
      ]
     },
     "execution_count": 130,
     "metadata": {},
     "output_type": "execute_result"
    }
   ],
   "source": [
    "potential_customers"
   ]
  },
  {
   "cell_type": "markdown",
   "id": "developing-alarm",
   "metadata": {},
   "source": [
    "**The first step was to access large numbers. But there are few insights and that list is still large (31 companies), so the next step is to analyse especifically those companies.**"
   ]
  },
  {
   "cell_type": "markdown",
   "id": "sitting-morgan",
   "metadata": {},
   "source": [
    "# Graphs and Insights"
   ]
  },
  {
   "cell_type": "code",
   "execution_count": 137,
   "id": "impossible-running",
   "metadata": {
    "ExecuteTime": {
     "end_time": "2021-03-25T14:57:17.237145Z",
     "start_time": "2021-03-25T14:57:17.136180Z"
    },
    "scrolled": true
   },
   "outputs": [],
   "source": [
    "shortlist_1 = raw_df[raw_df.company_name.isin(potential_customers)]"
   ]
  },
  {
   "cell_type": "code",
   "execution_count": 155,
   "id": "thermal-chase",
   "metadata": {
    "ExecuteTime": {
     "end_time": "2021-03-26T08:41:37.069554Z",
     "start_time": "2021-03-26T08:41:36.817734Z"
    }
   },
   "outputs": [
    {
     "data": {
      "text/html": [
       "<div>\n",
       "<style scoped>\n",
       "    .dataframe tbody tr th:only-of-type {\n",
       "        vertical-align: middle;\n",
       "    }\n",
       "\n",
       "    .dataframe tbody tr th {\n",
       "        vertical-align: top;\n",
       "    }\n",
       "\n",
       "    .dataframe thead th {\n",
       "        text-align: right;\n",
       "    }\n",
       "</style>\n",
       "<table border=\"1\" class=\"dataframe\">\n",
       "  <thead>\n",
       "    <tr style=\"text-align: right;\">\n",
       "      <th></th>\n",
       "      <th></th>\n",
       "      <th>company_name</th>\n",
       "    </tr>\n",
       "    <tr>\n",
       "      <th>company_name</th>\n",
       "      <th>date_received</th>\n",
       "      <th></th>\n",
       "    </tr>\n",
       "  </thead>\n",
       "  <tbody>\n",
       "    <tr>\n",
       "      <th rowspan=\"4\" valign=\"top\">AES/PHEAA</th>\n",
       "      <th>2018-12-31</th>\n",
       "      <td>2267</td>\n",
       "    </tr>\n",
       "    <tr>\n",
       "      <th>2019-12-31</th>\n",
       "      <td>2205</td>\n",
       "    </tr>\n",
       "    <tr>\n",
       "      <th>2020-12-31</th>\n",
       "      <td>1566</td>\n",
       "    </tr>\n",
       "    <tr>\n",
       "      <th>2021-12-31</th>\n",
       "      <td>324</td>\n",
       "    </tr>\n",
       "    <tr>\n",
       "      <th>ALLY FINANCIAL INC.</th>\n",
       "      <th>2018-12-31</th>\n",
       "      <td>1119</td>\n",
       "    </tr>\n",
       "    <tr>\n",
       "      <th>...</th>\n",
       "      <th>...</th>\n",
       "      <td>...</td>\n",
       "    </tr>\n",
       "    <tr>\n",
       "      <th>U.S. BANCORP</th>\n",
       "      <th>2021-12-31</th>\n",
       "      <td>1006</td>\n",
       "    </tr>\n",
       "    <tr>\n",
       "      <th rowspan=\"4\" valign=\"top\">WELLS FARGO &amp; COMPANY</th>\n",
       "      <th>2018-12-31</th>\n",
       "      <td>8789</td>\n",
       "    </tr>\n",
       "    <tr>\n",
       "      <th>2019-12-31</th>\n",
       "      <td>7423</td>\n",
       "    </tr>\n",
       "    <tr>\n",
       "      <th>2020-12-31</th>\n",
       "      <td>7534</td>\n",
       "    </tr>\n",
       "    <tr>\n",
       "      <th>2021-12-31</th>\n",
       "      <td>1569</td>\n",
       "    </tr>\n",
       "  </tbody>\n",
       "</table>\n",
       "<p>121 rows × 1 columns</p>\n",
       "</div>"
      ],
      "text/plain": [
       "                                     company_name\n",
       "company_name          date_received              \n",
       "AES/PHEAA             2018-12-31             2267\n",
       "                      2019-12-31             2205\n",
       "                      2020-12-31             1566\n",
       "                      2021-12-31              324\n",
       "ALLY FINANCIAL INC.   2018-12-31             1119\n",
       "...                                           ...\n",
       "U.S. BANCORP          2021-12-31             1006\n",
       "WELLS FARGO & COMPANY 2018-12-31             8789\n",
       "                      2019-12-31             7423\n",
       "                      2020-12-31             7534\n",
       "                      2021-12-31             1569\n",
       "\n",
       "[121 rows x 1 columns]"
      ]
     },
     "execution_count": 155,
     "metadata": {},
     "output_type": "execute_result"
    }
   ],
   "source": [
    "shortlist_1[['company_name']].groupby(['company_name']).resample('Y').count()"
   ]
  },
  {
   "cell_type": "code",
   "execution_count": 147,
   "id": "suspected-chinese",
   "metadata": {
    "ExecuteTime": {
     "end_time": "2021-03-25T15:03:00.977146Z",
     "start_time": "2021-03-25T15:03:00.888292Z"
    }
   },
   "outputs": [
    {
     "data": {
      "text/plain": [
       "date_received\n",
       "2018-12-31    168293\n",
       "2019-12-31    191925\n",
       "2020-12-31    343268\n",
       "2021-12-31     73459\n",
       "Freq: A-DEC, Name: company_name, dtype: int64"
      ]
     },
     "execution_count": 147,
     "metadata": {},
     "output_type": "execute_result"
    }
   ],
   "source": [
    "shortlist_1.company_name.resample('Y').count()"
   ]
  }
 ],
 "metadata": {
  "kernelspec": {
   "display_name": "Python [conda env:financial-complaints]",
   "language": "python",
   "name": "conda-env-financial-complaints-py"
  },
  "language_info": {
   "codemirror_mode": {
    "name": "ipython",
    "version": 3
   },
   "file_extension": ".py",
   "mimetype": "text/x-python",
   "name": "python",
   "nbconvert_exporter": "python",
   "pygments_lexer": "ipython3",
   "version": "3.8.8"
  }
 },
 "nbformat": 4,
 "nbformat_minor": 5
}
