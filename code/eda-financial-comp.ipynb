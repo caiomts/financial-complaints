{
 "cells": [
  {
   "cell_type": "markdown",
   "id": "clear-saint",
   "metadata": {},
   "source": [
    "# Imports"
   ]
  },
  {
   "cell_type": "code",
   "execution_count": null,
   "id": "southern-pointer",
   "metadata": {
    "ExecuteTime": {
     "end_time": "2021-03-22T16:29:25.832858Z",
     "start_time": "2021-03-22T16:29:25.443347Z"
    },
    "scrolled": true
   },
   "outputs": [],
   "source": [
    "import os\n",
    "import pandas as pd\n",
    "from google.cloud import bigquery"
   ]
  },
  {
   "cell_type": "code",
   "execution_count": null,
   "id": "communist-billion",
   "metadata": {
    "ExecuteTime": {
     "end_time": "2021-03-22T16:29:29.622260Z",
     "start_time": "2021-03-22T16:29:29.613743Z"
    },
    "scrolled": true
   },
   "outputs": [],
   "source": [
    "# set credentials\n",
    "os.environ['GOOGLE_APPLICATION_CREDENTIALS'] = \"../documents/key.json\"\n",
    "# creates a client\n",
    "client = bigquery.Client()"
   ]
  },
  {
   "cell_type": "markdown",
   "id": "enormous-weekly",
   "metadata": {},
   "source": [
    "# Loading Data"
   ]
  },
  {
   "cell_type": "code",
   "execution_count": null,
   "id": "signal-program",
   "metadata": {
    "ExecuteTime": {
     "end_time": "2021-03-22T16:29:33.018450Z",
     "start_time": "2021-03-22T16:29:32.531191Z"
    },
    "scrolled": true
   },
   "outputs": [],
   "source": [
    "# References\n",
    "ds_ref = client.dataset('cfpb_complaints', project='bigquery-public-data')\n",
    "df_ref = ds_ref.table('complaint_database')\n",
    "# API - request Fetch the table\n",
    "df = client.get_table(df_ref)\n",
    "df.schema"
   ]
  },
  {
   "cell_type": "code",
   "execution_count": null,
   "id": "latin-vegetation",
   "metadata": {
    "ExecuteTime": {
     "end_time": "2021-03-22T16:39:21.169681Z",
     "start_time": "2021-03-22T16:39:19.929425Z"
    }
   },
   "outputs": [],
   "source": [
    "client.list_rows(df, max_results=5).to_dataframe()"
   ]
  },
  {
   "cell_type": "code",
   "execution_count": null,
   "id": "stopped-practitioner",
   "metadata": {
    "ExecuteTime": {
     "end_time": "2021-03-23T10:07:12.520086Z",
     "start_time": "2021-03-23T10:07:12.516982Z"
    },
    "scrolled": true
   },
   "outputs": [],
   "source": [
    "query = \"\"\"\n",
    "        SELECT date_received, product, subproduct, issue, company_name, \n",
    "        state, date_sent_to_company, company_response_to_consumer, timely_response, \n",
    "        complaint_id\n",
    "        FROM `bigquery-public-data.cfpb_complaints.complaint_database`\n",
    "        WHERE EXTRACT(YEAR FROM date_received) >= 2018 OR company_response_to_consumer = 'In progress'\n",
    "        ORDER BY date_received DESC\n",
    "        \"\"\""
   ]
  },
  {
   "cell_type": "code",
   "execution_count": null,
   "id": "architectural-cathedral",
   "metadata": {
    "ExecuteTime": {
     "end_time": "2021-03-23T10:07:14.599694Z",
     "start_time": "2021-03-23T10:07:14.596152Z"
    }
   },
   "outputs": [],
   "source": [
    "# setting limits\n",
    "safe_config = bigquery.QueryJobConfig(maximum_bytes_billed=10**10)"
   ]
  },
  {
   "cell_type": "code",
   "execution_count": null,
   "id": "careful-ownership",
   "metadata": {
    "ExecuteTime": {
     "end_time": "2021-03-23T10:07:41.334085Z",
     "start_time": "2021-03-23T10:07:16.693336Z"
    },
    "scrolled": true
   },
   "outputs": [],
   "source": [
    "query_job = client.query(query, job_config=safe_config)\n",
    "# API request\n",
    "raw_df = query_job.to_dataframe()\n",
    "raw_df.head()"
   ]
  },
  {
   "cell_type": "code",
   "execution_count": null,
   "id": "reserved-spine",
   "metadata": {
    "ExecuteTime": {
     "end_time": "2021-03-23T10:07:54.899708Z",
     "start_time": "2021-03-23T10:07:54.896347Z"
    }
   },
   "outputs": [],
   "source": [
    "# Copy\n",
    "backup_raw_df = raw_df"
   ]
  },
  {
   "cell_type": "markdown",
   "id": "inappropriate-camera",
   "metadata": {},
   "source": [
    "# Data Preparation"
   ]
  },
  {
   "cell_type": "code",
   "execution_count": null,
   "id": "worth-commons",
   "metadata": {
    "ExecuteTime": {
     "end_time": "2021-03-23T09:18:08.336458Z",
     "start_time": "2021-03-23T09:18:05.736936Z"
    }
   },
   "outputs": [],
   "source": [
    "raw_df.describe()"
   ]
  },
  {
   "cell_type": "code",
   "execution_count": null,
   "id": "mounted-office",
   "metadata": {
    "ExecuteTime": {
     "end_time": "2021-03-23T09:18:41.925556Z",
     "start_time": "2021-03-23T09:18:41.918501Z"
    }
   },
   "outputs": [],
   "source": [
    "raw_df.dtypes"
   ]
  },
  {
   "cell_type": "code",
   "execution_count": null,
   "id": "conservative-shareware",
   "metadata": {
    "ExecuteTime": {
     "end_time": "2021-03-23T09:18:45.124345Z",
     "start_time": "2021-03-23T09:18:45.048983Z"
    }
   },
   "outputs": [],
   "source": [
    "dates = ['date_received', 'date_sent_to_company']\n",
    "for date in dates:\n",
    "    raw_df[date] = pd.to_datetime(raw_df[date], format='%Y-%m-%d')"
   ]
  },
  {
   "cell_type": "markdown",
   "id": "alert-bonus",
   "metadata": {},
   "source": [
    "# Descriptive Statistics"
   ]
  },
  {
   "cell_type": "code",
   "execution_count": null,
   "id": "played-nudist",
   "metadata": {},
   "outputs": [],
   "source": [
    "# Frquencies\n",
    "# Proportions\n",
    "# Marginals - Cross tabulation\n",
    "# "
   ]
  },
  {
   "cell_type": "markdown",
   "id": "sitting-morgan",
   "metadata": {},
   "source": [
    "# Graphs and Insights"
   ]
  },
  {
   "cell_type": "code",
   "execution_count": null,
   "id": "impossible-running",
   "metadata": {
    "scrolled": true
   },
   "outputs": [],
   "source": []
  }
 ],
 "metadata": {
  "kernelspec": {
   "display_name": "Python [conda env:financial-complaints] *",
   "language": "python",
   "name": "conda-env-financial-complaints-py"
  },
  "language_info": {
   "codemirror_mode": {
    "name": "ipython",
    "version": 3
   },
   "file_extension": ".py",
   "mimetype": "text/x-python",
   "name": "python",
   "nbconvert_exporter": "python",
   "pygments_lexer": "ipython3",
   "version": "3.8.8"
  }
 },
 "nbformat": 4,
 "nbformat_minor": 5
}
