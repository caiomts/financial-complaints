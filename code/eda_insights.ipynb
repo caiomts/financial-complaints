{
 "cells": [
  {
   "cell_type": "markdown",
   "id": "together-ballot",
   "metadata": {},
   "source": [
    "# EDA and Insights"
   ]
  },
  {
   "cell_type": "markdown",
   "id": "collect-characteristic",
   "metadata": {},
   "source": [
    "## Imports"
   ]
  },
  {
   "cell_type": "code",
   "execution_count": 89,
   "id": "hybrid-alaska",
   "metadata": {
    "ExecuteTime": {
     "end_time": "2021-03-31T10:02:03.956081Z",
     "start_time": "2021-03-31T10:02:03.950811Z"
    }
   },
   "outputs": [],
   "source": [
    "import pandas as pd\n",
    "import numpy as np\n",
    "from scipy.stats import mannwhitneyu\n",
    "# Graphs\n",
    "import matplotlib.pyplot as plt\n",
    "import plotly.express as px\n",
    "import plotly.figure_factory as ff\n",
    "import seaborn as sns"
   ]
  },
  {
   "cell_type": "markdown",
   "id": "perceived-passing",
   "metadata": {},
   "source": [
    "## Read data"
   ]
  },
  {
   "cell_type": "code",
   "execution_count": 2,
   "id": "informational-walter",
   "metadata": {
    "ExecuteTime": {
     "end_time": "2021-03-31T08:20:09.223597Z",
     "start_time": "2021-03-31T08:20:08.166823Z"
    }
   },
   "outputs": [],
   "source": [
    "df = pd.read_csv('../raw_data/shortlist.zip', index_col='date_received', parse_dates=True)"
   ]
  },
  {
   "cell_type": "markdown",
   "id": "single-huntington",
   "metadata": {},
   "source": [
    "## Complaints per period - first cycle of analysis"
   ]
  },
  {
   "cell_type": "code",
   "execution_count": 5,
   "id": "wanted-acrobat",
   "metadata": {
    "ExecuteTime": {
     "end_time": "2021-03-31T08:23:41.482034Z",
     "start_time": "2021-03-31T08:23:41.475916Z"
    }
   },
   "outputs": [
    {
     "data": {
      "text/plain": [
       "Index(['product', 'subproduct', 'issue', 'company_name',\n",
       "       'company_response_to_consumer', 'timely_response', 'complaint_id'],\n",
       "      dtype='object')"
      ]
     },
     "execution_count": 5,
     "metadata": {},
     "output_type": "execute_result"
    }
   ],
   "source": [
    "df.columns"
   ]
  },
  {
   "cell_type": "code",
   "execution_count": 7,
   "id": "fuzzy-consent",
   "metadata": {
    "ExecuteTime": {
     "end_time": "2021-03-31T08:25:24.563723Z",
     "start_time": "2021-03-31T08:25:24.345680Z"
    }
   },
   "outputs": [
    {
     "data": {
      "text/plain": [
       "<AxesSubplot:xlabel='date_received'>"
      ]
     },
     "execution_count": 7,
     "metadata": {},
     "output_type": "execute_result"
    },
    {
     "data": {
      "image/png": "[encoded data removed]",
      "text/plain": [
       "<Figure size 432x288 with 1 Axes>"
      ]
     },
     "metadata": {
      "needs_background": "light"
     },
     "output_type": "display_data"
    }
   ],
   "source": [
    "df[['complaint_id']].resample('M').count().plot()"
   ]
  },
  {
   "cell_type": "markdown",
   "id": "aboriginal-cancellation",
   "metadata": {},
   "source": [
    "**complaints skyrocked with the coronavirus outbreak**"
   ]
  },
  {
   "cell_type": "code",
   "execution_count": 59,
   "id": "early-monkey",
   "metadata": {
    "ExecuteTime": {
     "end_time": "2021-03-31T09:16:38.246074Z",
     "start_time": "2021-03-31T09:16:37.874537Z"
    }
   },
   "outputs": [
    {
     "data": {
      "application/vnd.plotly.v1+json": {
       "config": {
        "plotlyServerURL": "https://plot.ly"
       },
       "data": [
        {
         "hovertemplate": "Companies=AES/PHEAA<br>Date=%{x}<br>Complaints=%{y}<extra></extra>",
         "legendgroup": "AES/PHEAA",
         "line": {
          "color": "#1F77B4",
          "dash": "solid"
         },
         "mode": "lines",
         "name": "AES/PHEAA",
         "showlegend": true,
         "type": "scattergl",
         "x": [
          "2018-01-31T00:00:00",
          "2018-02-28T00:00:00",
          "2018-03-31T00:00:00",
          "2018-04-30T00:00:00",
          "2018-05-31T00:00:00",
          "2018-06-30T00:00:00",
          "2018-07-31T00:00:00",
          "2018-08-31T00:00:00",
          "2018-09-30T00:00:00",
          "2018-10-31T00:00:00",
          "2018-11-30T00:00:00",
          "2018-12-31T00:00:00",
          "2019-01-31T00:00:00",
          "2019-02-28T00:00:00",
          "2019-03-31T00:00:00",
          "2019-04-30T00:00:00",
          "2019-05-31T00:00:00",
          "2019-06-30T00:00:00",
          "2019-07-31T00:00:00",
          "2019-08-31T00:00:00",
          "2019-09-30T00:00:00",
          "2019-10-31T00:00:00",
          "2019-11-30T00:00:00",
          "2019-12-31T00:00:00",
          "2020-01-31T00:00:00",
          "2020-02-29T00:00:00",
          "2020-03-31T00:00:00",
          "2020-04-30T00:00:00",
          "2020-05-31T00:00:00",
          "2020-06-30T00:00:00",
          "2020-07-31T00:00:00",
          "2020-08-31T00:00:00",
          "2020-09-30T00:00:00",
          "2020-10-31T00:00:00",
          "2020-11-30T00:00:00",
          "2020-12-31T00:00:00",
          "2021-01-31T00:00:00",
          "2021-02-28T00:00:00",
          "2021-03-31T00:00:00"
         ],
         "xaxis": "x",
         "y": [
          211,
          165,
          205,
          222,
          188,
          145,
          183,
          201,
          185,
          216,
          163,
          183,
          197,
          214,
          229,
          246,
          189,
          149,
          180,
          178,
          161,
          184,
          162,
          116,
          196,
          147,
          170,
          170,
          156,
          95,
          114,
          104,
          99,
          99,
          120,
          96,
          126,
          134,
          84
         ],
         "yaxis": "y"
        },
        {
         "hovertemplate": "Companies=ALLY FINANCIAL INC.<br>Date=%{x}<br>Complaints=%{y}<extra></extra>",
         "legendgroup": "ALLY FINANCIAL INC.",
         "line": {
          "color": "#FF7F0E",
          "dash": "solid"
         },
         "mode": "lines",
         "name": "ALLY FINANCIAL INC.",
         "showlegend": true,
         "type": "scattergl",
         "x": [
          "2018-01-31T00:00:00",
          "2018-02-28T00:00:00",
          "2018-03-31T00:00:00",
          "2018-04-30T00:00:00",
          "2018-05-31T00:00:00",
          "2018-06-30T00:00:00",
          "2018-07-31T00:00:00",
          "2018-08-31T00:00:00",
          "2018-09-30T00:00:00",
          "2018-10-31T00:00:00",
          "2018-11-30T00:00:00",
          "2018-12-31T00:00:00",
          "2019-01-31T00:00:00",
          "2019-02-28T00:00:00",
          "2019-03-31T00:00:00",
          "2019-04-30T00:00:00",
          "2019-05-31T00:00:00",
          "2019-06-30T00:00:00",
          "2019-07-31T00:00:00",
          "2019-08-31T00:00:00",
          "2019-09-30T00:00:00",
          "2019-10-31T00:00:00",
          "2019-11-30T00:00:00",
          "2019-12-31T00:00:00",
          "2020-01-31T00:00:00",
          "2020-02-29T00:00:00",
          "2020-03-31T00:00:00",
          "2020-04-30T00:00:00",
          "2020-05-31T00:00:00",
          "2020-06-30T00:00:00",
          "2020-07-31T00:00:00",
          "2020-08-31T00:00:00",
          "2020-09-30T00:00:00",
          "2020-10-31T00:00:00",
          "2020-11-30T00:00:00",
          "2020-12-31T00:00:00",
          "2021-01-31T00:00:00",
          "2021-02-28T00:00:00",
          "2021-03-31T00:00:00"
         ],
         "xaxis": "x",
         "y": [
          132,
          114,
          101,
          105,
          118,
          84,
          79,
          84,
          82,
          76,
          71,
          73,
          78,
          96,
          102,
          113,
          90,
          81,
          91,
          88,
          85,
          87,
          102,
          68,
          106,
          110,
          122,
          104,
          132,
          142,
          146,
          142,
          158,
          151,
          144,
          164,
          156,
          169,
          209
         ],
         "yaxis": "y"
        },
        {
         "hovertemplate": "Companies=AMERICAN EXPRESS COMPANY<br>Date=%{x}<br>Complaints=%{y}<extra></extra>",
         "legendgroup": "AMERICAN EXPRESS COMPANY",
         "line": {
          "color": "#2CA02C",
          "dash": "solid"
         },
         "mode": "lines",
         "name": "AMERICAN EXPRESS COMPANY",
         "showlegend": true,
         "type": "scattergl",
         "x": [
          "2018-01-31T00:00:00",
          "2018-02-28T00:00:00",
          "2018-03-31T00:00:00",
          "2018-04-30T00:00:00",
          "2018-05-31T00:00:00",
          "2018-06-30T00:00:00",
          "2018-07-31T00:00:00",
          "2018-08-31T00:00:00",
          "2018-09-30T00:00:00",
          "2018-10-31T00:00:00",
          "2018-11-30T00:00:00",
          "2018-12-31T00:00:00",
          "2019-01-31T00:00:00",
          "2019-02-28T00:00:00",
          "2019-03-31T00:00:00",
          "2019-04-30T00:00:00",
          "2019-05-31T00:00:00",
          "2019-06-30T00:00:00",
          "2019-07-31T00:00:00",
          "2019-08-31T00:00:00",
          "2019-09-30T00:00:00",
          "2019-10-31T00:00:00",
          "2019-11-30T00:00:00",
          "2019-12-31T00:00:00",
          "2020-01-31T00:00:00",
          "2020-02-29T00:00:00",
          "2020-03-31T00:00:00",
          "2020-04-30T00:00:00",
          "2020-05-31T00:00:00",
          "2020-06-30T00:00:00",
          "2020-07-31T00:00:00",
          "2020-08-31T00:00:00",
          "2020-09-30T00:00:00",
          "2020-10-31T00:00:00",
          "2020-11-30T00:00:00",
          "2020-12-31T00:00:00",
          "2021-01-31T00:00:00",
          "2021-02-28T00:00:00",
          "2021-03-31T00:00:00"
         ],
         "xaxis": "x",
         "y": [
          234,
          228,
          250,
          226,
          237,
          175,
          239,
          234,
          197,
          354,
          253,
          232,
          240,
          229,
          264,
          226,
          253,
          230,
          238,
          261,
          231,
          224,
          208,
          222,
          228,
          204,
          251,
          352,
          362,
          281,
          277,
          291,
          233,
          233,
          218,
          242,
          266,
          247,
          163
         ],
         "yaxis": "y"
        },
        {
         "hovertemplate": "Companies=Alliance Data Card Services<br>Date=%{x}<br>Complaints=%{y}<extra></extra>",
         "legendgroup": "Alliance Data Card Services",
         "line": {
          "color": "#D62728",
          "dash": "solid"
         },
         "mode": "lines",
         "name": "Alliance Data Card Services",
         "showlegend": true,
         "type": "scattergl",
         "x": [
          "2018-01-31T00:00:00",
          "2018-02-28T00:00:00",
          "2018-03-31T00:00:00",
          "2018-04-30T00:00:00",
          "2018-05-31T00:00:00",
          "2018-06-30T00:00:00",
          "2018-07-31T00:00:00",
          "2018-08-31T00:00:00",
          "2018-09-30T00:00:00",
          "2018-10-31T00:00:00",
          "2018-11-30T00:00:00",
          "2018-12-31T00:00:00",
          "2019-01-31T00:00:00",
          "2019-02-28T00:00:00",
          "2019-03-31T00:00:00",
          "2019-04-30T00:00:00",
          "2019-05-31T00:00:00",
          "2019-06-30T00:00:00",
          "2019-07-31T00:00:00",
          "2019-08-31T00:00:00",
          "2019-09-30T00:00:00",
          "2019-10-31T00:00:00",
          "2019-11-30T00:00:00",
          "2019-12-31T00:00:00",
          "2020-01-31T00:00:00",
          "2020-02-29T00:00:00",
          "2020-03-31T00:00:00",
          "2020-04-30T00:00:00",
          "2020-05-31T00:00:00",
          "2020-06-30T00:00:00",
          "2020-07-31T00:00:00",
          "2020-08-31T00:00:00",
          "2020-09-30T00:00:00",
          "2020-10-31T00:00:00",
          "2020-11-30T00:00:00",
          "2020-12-31T00:00:00",
          "2021-01-31T00:00:00",
          "2021-02-28T00:00:00",
          "2021-03-31T00:00:00"
         ],
         "xaxis": "x",
         "y": [
          257,
          229,
          247,
          257,
          254,
          225,
          207,
          211,
          182,
          220,
          190,
          176,
          187,
          212,
          233,
          215,
          221,
          223,
          260,
          222,
          221,
          241,
          218,
          213,
          206,
          205,
          224,
          256,
          275,
          266,
          246,
          321,
          237,
          259,
          308,
          287,
          281,
          344,
          190
         ],
         "yaxis": "y"
        },
        {
         "hovertemplate": "Companies=Ameritech Financial<br>Date=%{x}<br>Complaints=%{y}<extra></extra>",
         "legendgroup": "Ameritech Financial",
         "line": {
          "color": "#9467BD",
          "dash": "solid"
         },
         "mode": "lines",
         "name": "Ameritech Financial",
         "showlegend": true,
         "type": "scattergl",
         "x": [
          "2018-01-31T00:00:00",
          "2018-02-28T00:00:00",
          "2018-03-31T00:00:00",
          "2018-04-30T00:00:00",
          "2018-05-31T00:00:00",
          "2018-06-30T00:00:00",
          "2018-07-31T00:00:00",
          "2018-08-31T00:00:00",
          "2018-09-30T00:00:00",
          "2018-10-31T00:00:00",
          "2018-11-30T00:00:00",
          "2018-12-31T00:00:00",
          "2019-01-31T00:00:00",
          "2019-02-28T00:00:00",
          "2019-03-31T00:00:00",
          "2019-04-30T00:00:00",
          "2019-05-31T00:00:00",
          "2019-06-30T00:00:00",
          "2019-07-31T00:00:00",
          "2019-08-31T00:00:00",
          "2019-09-30T00:00:00",
          "2019-10-31T00:00:00",
          "2019-11-30T00:00:00",
          "2019-12-31T00:00:00",
          "2020-01-31T00:00:00",
          "2020-02-29T00:00:00",
          "2020-03-31T00:00:00",
          "2020-04-30T00:00:00",
          "2020-05-31T00:00:00"
         ],
         "xaxis": "x",
         "y": [
          3,
          1,
          0,
          2,
          1,
          2,
          90,
          28,
          7,
          5,
          2,
          8,
          3,
          18,
          17,
          3,
          4,
          6,
          3,
          2,
          2,
          1,
          0,
          0,
          2,
          2,
          1,
          2,
          1
         ],
         "yaxis": "y"
        },
        {
         "hovertemplate": "Companies=BANK OF AMERICA, NATIONAL ASSOCIATION<br>Date=%{x}<br>Complaints=%{y}<extra></extra>",
         "legendgroup": "BANK OF AMERICA, NATIONAL ASSOCIATION",
         "line": {
          "color": "#8C564B",
          "dash": "solid"
         },
         "mode": "lines",
         "name": "BANK OF AMERICA, NATIONAL ASSOCIATION",
         "showlegend": true,
         "type": "scattergl",
         "x": [
          "2018-01-31T00:00:00",
          "2018-02-28T00:00:00",
          "2018-03-31T00:00:00",
          "2018-04-30T00:00:00",
          "2018-05-31T00:00:00",
          "2018-06-30T00:00:00",
          "2018-07-31T00:00:00",
          "2018-08-31T00:00:00",
          "2018-09-30T00:00:00",
          "2018-10-31T00:00:00",
          "2018-11-30T00:00:00",
          "2018-12-31T00:00:00",
          "2019-01-31T00:00:00",
          "2019-02-28T00:00:00",
          "2019-03-31T00:00:00",
          "2019-04-30T00:00:00",
          "2019-05-31T00:00:00",
          "2019-06-30T00:00:00",
          "2019-07-31T00:00:00",
          "2019-08-31T00:00:00",
          "2019-09-30T00:00:00",
          "2019-10-31T00:00:00",
          "2019-11-30T00:00:00",
          "2019-12-31T00:00:00",
          "2020-01-31T00:00:00",
          "2020-02-29T00:00:00",
          "2020-03-31T00:00:00",
          "2020-04-30T00:00:00",
          "2020-05-31T00:00:00",
          "2020-06-30T00:00:00",
          "2020-07-31T00:00:00",
          "2020-08-31T00:00:00",
          "2020-09-30T00:00:00",
          "2020-10-31T00:00:00",
          "2020-11-30T00:00:00",
          "2020-12-31T00:00:00",
          "2021-01-31T00:00:00",
          "2021-02-28T00:00:00",
          "2021-03-31T00:00:00"
         ],
         "xaxis": "x",
         "y": [
          711,
          662,
          790,
          936,
          762,
          686,
          731,
          700,
          678,
          741,
          496,
          419,
          455,
          414,
          540,
          699,
          650,
          638,
          716,
          767,
          695,
          702,
          603,
          656,
          693,
          626,
          675,
          806,
          690,
          794,
          718,
          769,
          851,
          923,
          880,
          1025,
          997,
          1066,
          561
         ],
         "yaxis": "y"
        },
        {
         "hovertemplate": "Companies=BARCLAYS BANK DELAWARE<br>Date=%{x}<br>Complaints=%{y}<extra></extra>",
         "legendgroup": "BARCLAYS BANK DELAWARE",
         "line": {
          "color": "#E377C2",
          "dash": "solid"
         },
         "mode": "lines",
         "name": "BARCLAYS BANK DELAWARE",
         "showlegend": true,
         "type": "scattergl",
         "x": [
          "2018-01-31T00:00:00",
          "2018-02-28T00:00:00",
          "2018-03-31T00:00:00",
          "2018-04-30T00:00:00",
          "2018-05-31T00:00:00",
          "2018-06-30T00:00:00",
          "2018-07-31T00:00:00",
          "2018-08-31T00:00:00",
          "2018-09-30T00:00:00",
          "2018-10-31T00:00:00",
          "2018-11-30T00:00:00",
          "2018-12-31T00:00:00",
          "2019-01-31T00:00:00",
          "2019-02-28T00:00:00",
          "2019-03-31T00:00:00",
          "2019-04-30T00:00:00",
          "2019-05-31T00:00:00",
          "2019-06-30T00:00:00",
          "2019-07-31T00:00:00",
          "2019-08-31T00:00:00",
          "2019-09-30T00:00:00",
          "2019-10-31T00:00:00",
          "2019-11-30T00:00:00",
          "2019-12-31T00:00:00",
          "2020-01-31T00:00:00",
          "2020-02-29T00:00:00",
          "2020-03-31T00:00:00",
          "2020-04-30T00:00:00",
          "2020-05-31T00:00:00",
          "2020-06-30T00:00:00",
          "2020-07-31T00:00:00",
          "2020-08-31T00:00:00",
          "2020-09-30T00:00:00",
          "2020-10-31T00:00:00",
          "2020-11-30T00:00:00",
          "2020-12-31T00:00:00",
          "2021-01-31T00:00:00",
          "2021-02-28T00:00:00",
          "2021-03-31T00:00:00"
         ],
         "xaxis": "x",
         "y": [
          132,
          133,
          146,
          135,
          126,
          92,
          95,
          108,
          99,
          119,
          83,
          90,
          88,
          109,
          107,
          117,
          128,
          100,
          125,
          132,
          104,
          120,
          100,
          93,
          123,
          117,
          123,
          156,
          135,
          161,
          163,
          157,
          134,
          152,
          135,
          138,
          133,
          126,
          142
         ],
         "yaxis": "y"
        },
        {
         "hovertemplate": "Companies=CAPITAL ONE FINANCIAL CORPORATION<br>Date=%{x}<br>Complaints=%{y}<extra></extra>",
         "legendgroup": "CAPITAL ONE FINANCIAL CORPORATION",
         "line": {
          "color": "#7F7F7F",
          "dash": "solid"
         },
         "mode": "lines",
         "name": "CAPITAL ONE FINANCIAL CORPORATION",
         "showlegend": true,
         "type": "scattergl",
         "x": [
          "2018-01-31T00:00:00",
          "2018-02-28T00:00:00",
          "2018-03-31T00:00:00",
          "2018-04-30T00:00:00",
          "2018-05-31T00:00:00",
          "2018-06-30T00:00:00",
          "2018-07-31T00:00:00",
          "2018-08-31T00:00:00",
          "2018-09-30T00:00:00",
          "2018-10-31T00:00:00",
          "2018-11-30T00:00:00",
          "2018-12-31T00:00:00",
          "2019-01-31T00:00:00",
          "2019-02-28T00:00:00",
          "2019-03-31T00:00:00",
          "2019-04-30T00:00:00",
          "2019-05-31T00:00:00",
          "2019-06-30T00:00:00",
          "2019-07-31T00:00:00",
          "2019-08-31T00:00:00",
          "2019-09-30T00:00:00",
          "2019-10-31T00:00:00",
          "2019-11-30T00:00:00",
          "2019-12-31T00:00:00",
          "2020-01-31T00:00:00",
          "2020-02-29T00:00:00",
          "2020-03-31T00:00:00",
          "2020-04-30T00:00:00",
          "2020-05-31T00:00:00",
          "2020-06-30T00:00:00",
          "2020-07-31T00:00:00",
          "2020-08-31T00:00:00",
          "2020-09-30T00:00:00",
          "2020-10-31T00:00:00",
          "2020-11-30T00:00:00",
          "2020-12-31T00:00:00",
          "2021-01-31T00:00:00",
          "2021-02-28T00:00:00",
          "2021-03-31T00:00:00"
         ],
         "xaxis": "x",
         "y": [
          701,
          598,
          745,
          726,
          733,
          687,
          601,
          568,
          569,
          634,
          555,
          561,
          587,
          580,
          641,
          590,
          609,
          606,
          666,
          708,
          638,
          757,
          693,
          580,
          766,
          691,
          696,
          788,
          833,
          821,
          842,
          896,
          743,
          876,
          918,
          906,
          852,
          947,
          694
         ],
         "yaxis": "y"
        },
        {
         "hovertemplate": "Companies=CITIBANK, N.A.<br>Date=%{x}<br>Complaints=%{y}<extra></extra>",
         "legendgroup": "CITIBANK, N.A.",
         "line": {
          "color": "#BCBD22",
          "dash": "solid"
         },
         "mode": "lines",
         "name": "CITIBANK, N.A.",
         "showlegend": true,
         "type": "scattergl",
         "x": [
          "2018-01-31T00:00:00",
          "2018-02-28T00:00:00",
          "2018-03-31T00:00:00",
          "2018-04-30T00:00:00",
          "2018-05-31T00:00:00",
          "2018-06-30T00:00:00",
          "2018-07-31T00:00:00",
          "2018-08-31T00:00:00",
          "2018-09-30T00:00:00",
          "2018-10-31T00:00:00",
          "2018-11-30T00:00:00",
          "2018-12-31T00:00:00",
          "2019-01-31T00:00:00",
          "2019-02-28T00:00:00",
          "2019-03-31T00:00:00",
          "2019-04-30T00:00:00",
          "2019-05-31T00:00:00",
          "2019-06-30T00:00:00",
          "2019-07-31T00:00:00",
          "2019-08-31T00:00:00",
          "2019-09-30T00:00:00",
          "2019-10-31T00:00:00",
          "2019-11-30T00:00:00",
          "2019-12-31T00:00:00",
          "2020-01-31T00:00:00",
          "2020-02-29T00:00:00",
          "2020-03-31T00:00:00",
          "2020-04-30T00:00:00",
          "2020-05-31T00:00:00",
          "2020-06-30T00:00:00",
          "2020-07-31T00:00:00",
          "2020-08-31T00:00:00",
          "2020-09-30T00:00:00",
          "2020-10-31T00:00:00",
          "2020-11-30T00:00:00",
          "2020-12-31T00:00:00",
          "2021-01-31T00:00:00",
          "2021-02-28T00:00:00",
          "2021-03-31T00:00:00"
         ],
         "xaxis": "x",
         "y": [
          658,
          608,
          644,
          705,
          584,
          508,
          552,
          611,
          523,
          656,
          609,
          605,
          587,
          543,
          628,
          601,
          590,
          578,
          606,
          611,
          563,
          637,
          559,
          562,
          599,
          638,
          686,
          850,
          801,
          772,
          783,
          709,
          724,
          739,
          644,
          775,
          817,
          768,
          456
         ],
         "yaxis": "y"
        },
        {
         "hovertemplate": "Companies=CITIZENS FINANCIAL GROUP, INC.<br>Date=%{x}<br>Complaints=%{y}<extra></extra>",
         "legendgroup": "CITIZENS FINANCIAL GROUP, INC.",
         "line": {
          "color": "#17BECF",
          "dash": "solid"
         },
         "mode": "lines",
         "name": "CITIZENS FINANCIAL GROUP, INC.",
         "showlegend": true,
         "type": "scattergl",
         "x": [
          "2018-01-31T00:00:00",
          "2018-02-28T00:00:00",
          "2018-03-31T00:00:00",
          "2018-04-30T00:00:00",
          "2018-05-31T00:00:00",
          "2018-06-30T00:00:00",
          "2018-07-31T00:00:00",
          "2018-08-31T00:00:00",
          "2018-09-30T00:00:00",
          "2018-10-31T00:00:00",
          "2018-11-30T00:00:00",
          "2018-12-31T00:00:00",
          "2019-01-31T00:00:00",
          "2019-02-28T00:00:00",
          "2019-03-31T00:00:00",
          "2019-04-30T00:00:00",
          "2019-05-31T00:00:00",
          "2019-06-30T00:00:00",
          "2019-07-31T00:00:00",
          "2019-08-31T00:00:00",
          "2019-09-30T00:00:00",
          "2019-10-31T00:00:00",
          "2019-11-30T00:00:00",
          "2019-12-31T00:00:00",
          "2020-01-31T00:00:00",
          "2020-02-29T00:00:00",
          "2020-03-31T00:00:00",
          "2020-04-30T00:00:00",
          "2020-05-31T00:00:00",
          "2020-06-30T00:00:00",
          "2020-07-31T00:00:00",
          "2020-08-31T00:00:00",
          "2020-09-30T00:00:00",
          "2020-10-31T00:00:00",
          "2020-11-30T00:00:00",
          "2020-12-31T00:00:00",
          "2021-01-31T00:00:00",
          "2021-02-28T00:00:00",
          "2021-03-31T00:00:00"
         ],
         "xaxis": "x",
         "y": [
          66,
          72,
          75,
          80,
          80,
          43,
          76,
          83,
          99,
          112,
          69,
          101,
          104,
          87,
          75,
          99,
          97,
          79,
          78,
          81,
          71,
          105,
          66,
          76,
          57,
          73,
          68,
          90,
          79,
          75,
          86,
          74,
          81,
          86,
          43,
          93,
          115,
          98,
          115
         ],
         "yaxis": "y"
        },
        {
         "hovertemplate": "Companies=Chime Financial Inc<br>Date=%{x}<br>Complaints=%{y}<extra></extra>",
         "legendgroup": "Chime Financial Inc",
         "line": {
          "color": "#1F77B4",
          "dash": "solid"
         },
         "mode": "lines",
         "name": "Chime Financial Inc",
         "showlegend": true,
         "type": "scattergl",
         "x": [
          "2020-04-30T00:00:00",
          "2020-05-31T00:00:00",
          "2020-06-30T00:00:00",
          "2020-07-31T00:00:00",
          "2020-08-31T00:00:00",
          "2020-09-30T00:00:00",
          "2020-10-31T00:00:00",
          "2020-11-30T00:00:00",
          "2020-12-31T00:00:00",
          "2021-01-31T00:00:00",
          "2021-02-28T00:00:00",
          "2021-03-31T00:00:00"
         ],
         "xaxis": "x",
         "y": [
          1,
          0,
          0,
          0,
          14,
          63,
          87,
          119,
          113,
          116,
          102,
          62
         ],
         "yaxis": "y"
        },
        {
         "hovertemplate": "Companies=Coinbase, Inc.<br>Date=%{x}<br>Complaints=%{y}<extra></extra>",
         "legendgroup": "Coinbase, Inc.",
         "line": {
          "color": "#FF7F0E",
          "dash": "solid"
         },
         "mode": "lines",
         "name": "Coinbase, Inc.",
         "showlegend": true,
         "type": "scattergl",
         "x": [
          "2018-01-31T00:00:00",
          "2018-02-28T00:00:00",
          "2018-03-31T00:00:00",
          "2018-04-30T00:00:00",
          "2018-05-31T00:00:00",
          "2018-06-30T00:00:00",
          "2018-07-31T00:00:00",
          "2018-08-31T00:00:00",
          "2018-09-30T00:00:00",
          "2018-10-31T00:00:00",
          "2018-11-30T00:00:00",
          "2018-12-31T00:00:00",
          "2019-01-31T00:00:00",
          "2019-02-28T00:00:00",
          "2019-03-31T00:00:00",
          "2019-04-30T00:00:00",
          "2019-05-31T00:00:00",
          "2019-06-30T00:00:00",
          "2019-07-31T00:00:00",
          "2019-08-31T00:00:00",
          "2019-09-30T00:00:00",
          "2019-10-31T00:00:00",
          "2019-11-30T00:00:00",
          "2019-12-31T00:00:00",
          "2020-01-31T00:00:00",
          "2020-02-29T00:00:00",
          "2020-03-31T00:00:00",
          "2020-04-30T00:00:00",
          "2020-05-31T00:00:00",
          "2020-06-30T00:00:00",
          "2020-07-31T00:00:00",
          "2020-08-31T00:00:00",
          "2020-09-30T00:00:00",
          "2020-10-31T00:00:00",
          "2020-11-30T00:00:00",
          "2020-12-31T00:00:00",
          "2021-01-31T00:00:00",
          "2021-02-28T00:00:00",
          "2021-03-31T00:00:00"
         ],
         "xaxis": "x",
         "y": [
          889,
          337,
          190,
          87,
          63,
          47,
          23,
          17,
          14,
          7,
          9,
          11,
          8,
          6,
          10,
          8,
          19,
          21,
          44,
          20,
          15,
          20,
          13,
          7,
          13,
          12,
          19,
          18,
          36,
          25,
          39,
          27,
          24,
          19,
          31,
          58,
          117,
          126,
          110
         ],
         "yaxis": "y"
        },
        {
         "hovertemplate": "Companies=Colony Brands, Inc.<br>Date=%{x}<br>Complaints=%{y}<extra></extra>",
         "legendgroup": "Colony Brands, Inc.",
         "line": {
          "color": "#2CA02C",
          "dash": "solid"
         },
         "mode": "lines",
         "name": "Colony Brands, Inc.",
         "showlegend": true,
         "type": "scattergl",
         "x": [
          "2018-01-31T00:00:00",
          "2018-02-28T00:00:00",
          "2018-03-31T00:00:00",
          "2018-04-30T00:00:00",
          "2018-05-31T00:00:00",
          "2018-06-30T00:00:00",
          "2018-07-31T00:00:00",
          "2018-08-31T00:00:00",
          "2018-09-30T00:00:00",
          "2018-10-31T00:00:00",
          "2018-11-30T00:00:00",
          "2018-12-31T00:00:00",
          "2019-01-31T00:00:00",
          "2019-02-28T00:00:00",
          "2019-03-31T00:00:00",
          "2019-04-30T00:00:00",
          "2019-05-31T00:00:00",
          "2019-06-30T00:00:00",
          "2019-07-31T00:00:00",
          "2019-08-31T00:00:00",
          "2019-09-30T00:00:00",
          "2019-10-31T00:00:00",
          "2019-11-30T00:00:00",
          "2019-12-31T00:00:00",
          "2020-01-31T00:00:00",
          "2020-02-29T00:00:00",
          "2020-03-31T00:00:00",
          "2020-04-30T00:00:00",
          "2020-05-31T00:00:00",
          "2020-06-30T00:00:00",
          "2020-07-31T00:00:00",
          "2020-08-31T00:00:00",
          "2020-09-30T00:00:00",
          "2020-10-31T00:00:00",
          "2020-11-30T00:00:00",
          "2020-12-31T00:00:00",
          "2021-01-31T00:00:00",
          "2021-02-28T00:00:00",
          "2021-03-31T00:00:00"
         ],
         "xaxis": "x",
         "y": [
          21,
          17,
          14,
          19,
          17,
          18,
          18,
          21,
          15,
          13,
          27,
          15,
          26,
          16,
          31,
          13,
          26,
          23,
          24,
          11,
          14,
          14,
          11,
          14,
          13,
          15,
          11,
          11,
          13,
          12,
          15,
          10,
          20,
          16,
          19,
          16,
          13,
          27,
          12
         ],
         "yaxis": "y"
        },
        {
         "hovertemplate": "Companies=DISCOVER BANK<br>Date=%{x}<br>Complaints=%{y}<extra></extra>",
         "legendgroup": "DISCOVER BANK",
         "line": {
          "color": "#D62728",
          "dash": "solid"
         },
         "mode": "lines",
         "name": "DISCOVER BANK",
         "showlegend": true,
         "type": "scattergl",
         "x": [
          "2018-01-31T00:00:00",
          "2018-02-28T00:00:00",
          "2018-03-31T00:00:00",
          "2018-04-30T00:00:00",
          "2018-05-31T00:00:00",
          "2018-06-30T00:00:00",
          "2018-07-31T00:00:00",
          "2018-08-31T00:00:00",
          "2018-09-30T00:00:00",
          "2018-10-31T00:00:00",
          "2018-11-30T00:00:00",
          "2018-12-31T00:00:00",
          "2019-01-31T00:00:00",
          "2019-02-28T00:00:00",
          "2019-03-31T00:00:00",
          "2019-04-30T00:00:00",
          "2019-05-31T00:00:00",
          "2019-06-30T00:00:00",
          "2019-07-31T00:00:00",
          "2019-08-31T00:00:00",
          "2019-09-30T00:00:00",
          "2019-10-31T00:00:00",
          "2019-11-30T00:00:00",
          "2019-12-31T00:00:00",
          "2020-01-31T00:00:00",
          "2020-02-29T00:00:00",
          "2020-03-31T00:00:00",
          "2020-04-30T00:00:00",
          "2020-05-31T00:00:00",
          "2020-06-30T00:00:00",
          "2020-07-31T00:00:00",
          "2020-08-31T00:00:00",
          "2020-09-30T00:00:00",
          "2020-10-31T00:00:00",
          "2020-11-30T00:00:00",
          "2020-12-31T00:00:00",
          "2021-01-31T00:00:00",
          "2021-02-28T00:00:00",
          "2021-03-31T00:00:00"
         ],
         "xaxis": "x",
         "y": [
          172,
          174,
          195,
          182,
          183,
          165,
          140,
          200,
          151,
          147,
          161,
          138,
          145,
          148,
          177,
          168,
          178,
          193,
          195,
          188,
          171,
          209,
          179,
          190,
          208,
          203,
          227,
          243,
          198,
          216,
          205,
          224,
          177,
          235,
          215,
          228,
          220,
          277,
          154
         ],
         "yaxis": "y"
        },
        {
         "hovertemplate": "Companies=ENCORE CAPITAL GROUP INC.<br>Date=%{x}<br>Complaints=%{y}<extra></extra>",
         "legendgroup": "ENCORE CAPITAL GROUP INC.",
         "line": {
          "color": "#9467BD",
          "dash": "solid"
         },
         "mode": "lines",
         "name": "ENCORE CAPITAL GROUP INC.",
         "showlegend": true,
         "type": "scattergl",
         "x": [
          "2018-01-31T00:00:00",
          "2018-02-28T00:00:00",
          "2018-03-31T00:00:00",
          "2018-04-30T00:00:00",
          "2018-05-31T00:00:00",
          "2018-06-30T00:00:00",
          "2018-07-31T00:00:00",
          "2018-08-31T00:00:00",
          "2018-09-30T00:00:00",
          "2018-10-31T00:00:00",
          "2018-11-30T00:00:00",
          "2018-12-31T00:00:00",
          "2019-01-31T00:00:00",
          "2019-02-28T00:00:00",
          "2019-03-31T00:00:00",
          "2019-04-30T00:00:00",
          "2019-05-31T00:00:00",
          "2019-06-30T00:00:00",
          "2019-07-31T00:00:00",
          "2019-08-31T00:00:00",
          "2019-09-30T00:00:00",
          "2019-10-31T00:00:00",
          "2019-11-30T00:00:00",
          "2019-12-31T00:00:00",
          "2020-01-31T00:00:00",
          "2020-02-29T00:00:00",
          "2020-03-31T00:00:00",
          "2020-04-30T00:00:00",
          "2020-05-31T00:00:00",
          "2020-06-30T00:00:00",
          "2020-07-31T00:00:00",
          "2020-08-31T00:00:00",
          "2020-09-30T00:00:00",
          "2020-10-31T00:00:00",
          "2020-11-30T00:00:00",
          "2020-12-31T00:00:00",
          "2021-01-31T00:00:00",
          "2021-02-28T00:00:00",
          "2021-03-31T00:00:00"
         ],
         "xaxis": "x",
         "y": [
          152,
          163,
          196,
          183,
          182,
          162,
          147,
          142,
          130,
          159,
          127,
          108,
          100,
          119,
          181,
          165,
          168,
          129,
          122,
          132,
          160,
          126,
          129,
          145,
          166,
          171,
          184,
          138,
          149,
          141,
          136,
          164,
          181,
          170,
          169,
          180,
          174,
          245,
          131
         ],
         "yaxis": "y"
        },
        {
         "hovertemplate": "Companies=EQUIFAX, INC.<br>Date=%{x}<br>Complaints=%{y}<extra></extra>",
         "legendgroup": "EQUIFAX, INC.",
         "line": {
          "color": "#8C564B",
          "dash": "solid"
         },
         "mode": "lines",
         "name": "EQUIFAX, INC.",
         "showlegend": true,
         "type": "scattergl",
         "x": [
          "2018-01-31T00:00:00",
          "2018-02-28T00:00:00",
          "2018-03-31T00:00:00",
          "2018-04-30T00:00:00",
          "2018-05-31T00:00:00",
          "2018-06-30T00:00:00",
          "2018-07-31T00:00:00",
          "2018-08-31T00:00:00",
          "2018-09-30T00:00:00",
          "2018-10-31T00:00:00",
          "2018-11-30T00:00:00",
          "2018-12-31T00:00:00",
          "2019-01-31T00:00:00",
          "2019-02-28T00:00:00",
          "2019-03-31T00:00:00",
          "2019-04-30T00:00:00",
          "2019-05-31T00:00:00",
          "2019-06-30T00:00:00",
          "2019-07-31T00:00:00",
          "2019-08-31T00:00:00",
          "2019-09-30T00:00:00",
          "2019-10-31T00:00:00",
          "2019-11-30T00:00:00",
          "2019-12-31T00:00:00",
          "2020-01-31T00:00:00",
          "2020-02-29T00:00:00",
          "2020-03-31T00:00:00",
          "2020-04-30T00:00:00",
          "2020-05-31T00:00:00",
          "2020-06-30T00:00:00",
          "2020-07-31T00:00:00",
          "2020-08-31T00:00:00",
          "2020-09-30T00:00:00",
          "2020-10-31T00:00:00",
          "2020-11-30T00:00:00",
          "2020-12-31T00:00:00",
          "2021-01-31T00:00:00",
          "2021-02-28T00:00:00",
          "2021-03-31T00:00:00"
         ],
         "xaxis": "x",
         "y": [
          2376,
          2484,
          2406,
          2647,
          2529,
          2311,
          2523,
          2590,
          2369,
          2818,
          2586,
          2418,
          2354,
          2571,
          3206,
          3145,
          3338,
          3519,
          3957,
          4058,
          3743,
          4048,
          3570,
          3409,
          4446,
          3971,
          5202,
          5995,
          6572,
          6322,
          6875,
          6562,
          7133,
          8019,
          7634,
          9657,
          9299,
          6729,
          5428
         ],
         "yaxis": "y"
        },
        {
         "hovertemplate": "Companies=Experian Information Solutions Inc.<br>Date=%{x}<br>Complaints=%{y}<extra></extra>",
         "legendgroup": "Experian Information Solutions Inc.",
         "line": {
          "color": "#E377C2",
          "dash": "solid"
         },
         "mode": "lines",
         "name": "Experian Information Solutions Inc.",
         "showlegend": true,
         "type": "scattergl",
         "x": [
          "2018-01-31T00:00:00",
          "2018-02-28T00:00:00",
          "2018-03-31T00:00:00",
          "2018-04-30T00:00:00",
          "2018-05-31T00:00:00",
          "2018-06-30T00:00:00",
          "2018-07-31T00:00:00",
          "2018-08-31T00:00:00",
          "2018-09-30T00:00:00",
          "2018-10-31T00:00:00",
          "2018-11-30T00:00:00",
          "2018-12-31T00:00:00",
          "2019-01-31T00:00:00",
          "2019-02-28T00:00:00",
          "2019-03-31T00:00:00",
          "2019-04-30T00:00:00",
          "2019-05-31T00:00:00",
          "2019-06-30T00:00:00",
          "2019-07-31T00:00:00",
          "2019-08-31T00:00:00",
          "2019-09-30T00:00:00",
          "2019-10-31T00:00:00",
          "2019-11-30T00:00:00",
          "2019-12-31T00:00:00",
          "2020-01-31T00:00:00",
          "2020-02-29T00:00:00",
          "2020-03-31T00:00:00",
          "2020-04-30T00:00:00",
          "2020-05-31T00:00:00",
          "2020-06-30T00:00:00",
          "2020-07-31T00:00:00",
          "2020-08-31T00:00:00",
          "2020-09-30T00:00:00",
          "2020-10-31T00:00:00",
          "2020-11-30T00:00:00",
          "2020-12-31T00:00:00",
          "2021-01-31T00:00:00",
          "2021-02-28T00:00:00",
          "2021-03-31T00:00:00"
         ],
         "xaxis": "x",
         "y": [
          2539,
          2578,
          2648,
          2825,
          2548,
          2375,
          2469,
          2566,
          2165,
          2629,
          2341,
          2238,
          2280,
          2587,
          2981,
          2912,
          3167,
          3164,
          3235,
          3577,
          3194,
          3625,
          3179,
          3103,
          4065,
          3890,
          4866,
          6202,
          7276,
          7549,
          8262,
          8119,
          8632,
          9943,
          9159,
          11258,
          3633,
          2098,
          1780
         ],
         "yaxis": "y"
        },
        {
         "hovertemplate": "Companies=JPMORGAN CHASE & CO.<br>Date=%{x}<br>Complaints=%{y}<extra></extra>",
         "legendgroup": "JPMORGAN CHASE & CO.",
         "line": {
          "color": "#7F7F7F",
          "dash": "solid"
         },
         "mode": "lines",
         "name": "JPMORGAN CHASE & CO.",
         "showlegend": true,
         "type": "scattergl",
         "x": [
          "2018-01-31T00:00:00",
          "2018-02-28T00:00:00",
          "2018-03-31T00:00:00",
          "2018-04-30T00:00:00",
          "2018-05-31T00:00:00",
          "2018-06-30T00:00:00",
          "2018-07-31T00:00:00",
          "2018-08-31T00:00:00",
          "2018-09-30T00:00:00",
          "2018-10-31T00:00:00",
          "2018-11-30T00:00:00",
          "2018-12-31T00:00:00",
          "2019-01-31T00:00:00",
          "2019-02-28T00:00:00",
          "2019-03-31T00:00:00",
          "2019-04-30T00:00:00",
          "2019-05-31T00:00:00",
          "2019-06-30T00:00:00",
          "2019-07-31T00:00:00",
          "2019-08-31T00:00:00",
          "2019-09-30T00:00:00",
          "2019-10-31T00:00:00",
          "2019-11-30T00:00:00",
          "2019-12-31T00:00:00",
          "2020-01-31T00:00:00",
          "2020-02-29T00:00:00",
          "2020-03-31T00:00:00",
          "2020-04-30T00:00:00",
          "2020-05-31T00:00:00",
          "2020-06-30T00:00:00",
          "2020-07-31T00:00:00",
          "2020-08-31T00:00:00",
          "2020-09-30T00:00:00",
          "2020-10-31T00:00:00",
          "2020-11-30T00:00:00",
          "2020-12-31T00:00:00",
          "2021-01-31T00:00:00",
          "2021-02-28T00:00:00",
          "2021-03-31T00:00:00"
         ],
         "xaxis": "x",
         "y": [
          745,
          723,
          811,
          920,
          828,
          683,
          722,
          746,
          640,
          727,
          695,
          666,
          756,
          634,
          756,
          749,
          778,
          710,
          688,
          762,
          659,
          657,
          541,
          570,
          616,
          597,
          707,
          832,
          780,
          868,
          941,
          831,
          749,
          776,
          740,
          785,
          793,
          816,
          464
         ],
         "yaxis": "y"
        },
        {
         "hovertemplate": "Companies=Mobiloans, LLC<br>Date=%{x}<br>Complaints=%{y}<extra></extra>",
         "legendgroup": "Mobiloans, LLC",
         "line": {
          "color": "#BCBD22",
          "dash": "solid"
         },
         "mode": "lines",
         "name": "Mobiloans, LLC",
         "showlegend": true,
         "type": "scattergl",
         "x": [
          "2018-01-31T00:00:00",
          "2018-02-28T00:00:00",
          "2018-03-31T00:00:00",
          "2018-04-30T00:00:00",
          "2018-05-31T00:00:00",
          "2018-06-30T00:00:00",
          "2018-07-31T00:00:00",
          "2018-08-31T00:00:00",
          "2018-09-30T00:00:00",
          "2018-10-31T00:00:00",
          "2018-11-30T00:00:00",
          "2018-12-31T00:00:00",
          "2019-01-31T00:00:00",
          "2019-02-28T00:00:00",
          "2019-03-31T00:00:00",
          "2019-04-30T00:00:00",
          "2019-05-31T00:00:00",
          "2019-06-30T00:00:00",
          "2019-07-31T00:00:00",
          "2019-08-31T00:00:00",
          "2019-09-30T00:00:00",
          "2019-10-31T00:00:00",
          "2019-11-30T00:00:00",
          "2019-12-31T00:00:00",
          "2020-01-31T00:00:00",
          "2020-02-29T00:00:00",
          "2020-03-31T00:00:00",
          "2020-04-30T00:00:00",
          "2020-05-31T00:00:00",
          "2020-06-30T00:00:00",
          "2020-07-31T00:00:00",
          "2020-08-31T00:00:00",
          "2020-09-30T00:00:00",
          "2020-10-31T00:00:00",
          "2020-11-30T00:00:00",
          "2020-12-31T00:00:00",
          "2021-01-31T00:00:00",
          "2021-02-28T00:00:00"
         ],
         "xaxis": "x",
         "y": [
          3,
          6,
          5,
          5,
          4,
          5,
          2,
          6,
          3,
          9,
          3,
          3,
          5,
          4,
          3,
          3,
          4,
          5,
          10,
          4,
          2,
          6,
          3,
          6,
          5,
          5,
          4,
          3,
          2,
          3,
          4,
          6,
          2,
          3,
          3,
          1,
          2,
          2
         ],
         "yaxis": "y"
        },
        {
         "hovertemplate": "Companies=NAVY FEDERAL CREDIT UNION<br>Date=%{x}<br>Complaints=%{y}<extra></extra>",
         "legendgroup": "NAVY FEDERAL CREDIT UNION",
         "line": {
          "color": "#17BECF",
          "dash": "solid"
         },
         "mode": "lines",
         "name": "NAVY FEDERAL CREDIT UNION",
         "showlegend": true,
         "type": "scattergl",
         "x": [
          "2018-01-31T00:00:00",
          "2018-02-28T00:00:00",
          "2018-03-31T00:00:00",
          "2018-04-30T00:00:00",
          "2018-05-31T00:00:00",
          "2018-06-30T00:00:00",
          "2018-07-31T00:00:00",
          "2018-08-31T00:00:00",
          "2018-09-30T00:00:00",
          "2018-10-31T00:00:00",
          "2018-11-30T00:00:00",
          "2018-12-31T00:00:00",
          "2019-01-31T00:00:00",
          "2019-02-28T00:00:00",
          "2019-03-31T00:00:00",
          "2019-04-30T00:00:00",
          "2019-05-31T00:00:00",
          "2019-06-30T00:00:00",
          "2019-07-31T00:00:00",
          "2019-08-31T00:00:00",
          "2019-09-30T00:00:00",
          "2019-10-31T00:00:00",
          "2019-11-30T00:00:00",
          "2019-12-31T00:00:00",
          "2020-01-31T00:00:00",
          "2020-02-29T00:00:00",
          "2020-03-31T00:00:00",
          "2020-04-30T00:00:00",
          "2020-05-31T00:00:00",
          "2020-06-30T00:00:00",
          "2020-07-31T00:00:00",
          "2020-08-31T00:00:00",
          "2020-09-30T00:00:00",
          "2020-10-31T00:00:00",
          "2020-11-30T00:00:00",
          "2020-12-31T00:00:00",
          "2021-01-31T00:00:00",
          "2021-02-28T00:00:00",
          "2021-03-31T00:00:00"
         ],
         "xaxis": "x",
         "y": [
          103,
          112,
          105,
          77,
          107,
          99,
          78,
          114,
          67,
          96,
          88,
          87,
          88,
          126,
          74,
          92,
          95,
          84,
          101,
          118,
          94,
          111,
          96,
          83,
          103,
          94,
          121,
          124,
          111,
          137,
          144,
          159,
          125,
          126,
          116,
          138,
          162,
          150,
          206
         ],
         "yaxis": "y"
        },
        {
         "hovertemplate": "Companies=Navient Solutions, LLC.<br>Date=%{x}<br>Complaints=%{y}<extra></extra>",
         "legendgroup": "Navient Solutions, LLC.",
         "line": {
          "color": "#1F77B4",
          "dash": "solid"
         },
         "mode": "lines",
         "name": "Navient Solutions, LLC.",
         "showlegend": true,
         "type": "scattergl",
         "x": [
          "2018-01-31T00:00:00",
          "2018-02-28T00:00:00",
          "2018-03-31T00:00:00",
          "2018-04-30T00:00:00",
          "2018-05-31T00:00:00",
          "2018-06-30T00:00:00",
          "2018-07-31T00:00:00",
          "2018-08-31T00:00:00",
          "2018-09-30T00:00:00",
          "2018-10-31T00:00:00",
          "2018-11-30T00:00:00",
          "2018-12-31T00:00:00",
          "2019-01-31T00:00:00",
          "2019-02-28T00:00:00",
          "2019-03-31T00:00:00",
          "2019-04-30T00:00:00",
          "2019-05-31T00:00:00",
          "2019-06-30T00:00:00",
          "2019-07-31T00:00:00",
          "2019-08-31T00:00:00",
          "2019-09-30T00:00:00",
          "2019-10-31T00:00:00",
          "2019-11-30T00:00:00",
          "2019-12-31T00:00:00",
          "2020-01-31T00:00:00",
          "2020-02-29T00:00:00",
          "2020-03-31T00:00:00",
          "2020-04-30T00:00:00",
          "2020-05-31T00:00:00",
          "2020-06-30T00:00:00",
          "2020-07-31T00:00:00",
          "2020-08-31T00:00:00",
          "2020-09-30T00:00:00",
          "2020-10-31T00:00:00",
          "2020-11-30T00:00:00",
          "2020-12-31T00:00:00",
          "2021-01-31T00:00:00",
          "2021-02-28T00:00:00",
          "2021-03-31T00:00:00"
         ],
         "xaxis": "x",
         "y": [
          529,
          430,
          497,
          484,
          444,
          361,
          434,
          425,
          356,
          372,
          358,
          412,
          455,
          439,
          396,
          329,
          268,
          324,
          305,
          288,
          231,
          313,
          254,
          194,
          223,
          222,
          205,
          209,
          191,
          183,
          159,
          155,
          110,
          162,
          166,
          166,
          187,
          150,
          112
         ],
         "yaxis": "y"
        },
        {
         "hovertemplate": "Companies=PNC Bank N.A.<br>Date=%{x}<br>Complaints=%{y}<extra></extra>",
         "legendgroup": "PNC Bank N.A.",
         "line": {
          "color": "#FF7F0E",
          "dash": "solid"
         },
         "mode": "lines",
         "name": "PNC Bank N.A.",
         "showlegend": true,
         "type": "scattergl",
         "x": [
          "2018-01-31T00:00:00",
          "2018-02-28T00:00:00",
          "2018-03-31T00:00:00",
          "2018-04-30T00:00:00",
          "2018-05-31T00:00:00",
          "2018-06-30T00:00:00",
          "2018-07-31T00:00:00",
          "2018-08-31T00:00:00",
          "2018-09-30T00:00:00",
          "2018-10-31T00:00:00",
          "2018-11-30T00:00:00",
          "2018-12-31T00:00:00",
          "2019-01-31T00:00:00",
          "2019-02-28T00:00:00",
          "2019-03-31T00:00:00",
          "2019-04-30T00:00:00",
          "2019-05-31T00:00:00",
          "2019-06-30T00:00:00",
          "2019-07-31T00:00:00",
          "2019-08-31T00:00:00",
          "2019-09-30T00:00:00",
          "2019-10-31T00:00:00",
          "2019-11-30T00:00:00",
          "2019-12-31T00:00:00",
          "2020-01-31T00:00:00",
          "2020-02-29T00:00:00",
          "2020-03-31T00:00:00",
          "2020-04-30T00:00:00",
          "2020-05-31T00:00:00",
          "2020-06-30T00:00:00",
          "2020-07-31T00:00:00",
          "2020-08-31T00:00:00",
          "2020-09-30T00:00:00",
          "2020-10-31T00:00:00",
          "2020-11-30T00:00:00",
          "2020-12-31T00:00:00",
          "2021-01-31T00:00:00",
          "2021-02-28T00:00:00",
          "2021-03-31T00:00:00"
         ],
         "xaxis": "x",
         "y": [
          105,
          126,
          140,
          192,
          140,
          141,
          166,
          151,
          117,
          146,
          123,
          103,
          115,
          123,
          142,
          149,
          128,
          130,
          112,
          125,
          119,
          144,
          106,
          113,
          115,
          119,
          125,
          332,
          318,
          1065,
          1062,
          458,
          148,
          122,
          94,
          128,
          124,
          120,
          72
         ],
         "yaxis": "y"
        },
        {
         "hovertemplate": "Companies=PORTFOLIO RECOVERY ASSOCIATES INC<br>Date=%{x}<br>Complaints=%{y}<extra></extra>",
         "legendgroup": "PORTFOLIO RECOVERY ASSOCIATES INC",
         "line": {
          "color": "#2CA02C",
          "dash": "solid"
         },
         "mode": "lines",
         "name": "PORTFOLIO RECOVERY ASSOCIATES INC",
         "showlegend": true,
         "type": "scattergl",
         "x": [
          "2018-01-31T00:00:00",
          "2018-02-28T00:00:00",
          "2018-03-31T00:00:00",
          "2018-04-30T00:00:00",
          "2018-05-31T00:00:00",
          "2018-06-30T00:00:00",
          "2018-07-31T00:00:00",
          "2018-08-31T00:00:00",
          "2018-09-30T00:00:00",
          "2018-10-31T00:00:00",
          "2018-11-30T00:00:00",
          "2018-12-31T00:00:00",
          "2019-01-31T00:00:00",
          "2019-02-28T00:00:00",
          "2019-03-31T00:00:00",
          "2019-04-30T00:00:00",
          "2019-05-31T00:00:00",
          "2019-06-30T00:00:00",
          "2019-07-31T00:00:00",
          "2019-08-31T00:00:00",
          "2019-09-30T00:00:00",
          "2019-10-31T00:00:00",
          "2019-11-30T00:00:00",
          "2019-12-31T00:00:00",
          "2020-01-31T00:00:00",
          "2020-02-29T00:00:00",
          "2020-03-31T00:00:00",
          "2020-04-30T00:00:00",
          "2020-05-31T00:00:00",
          "2020-06-30T00:00:00",
          "2020-07-31T00:00:00",
          "2020-08-31T00:00:00",
          "2020-09-30T00:00:00",
          "2020-10-31T00:00:00",
          "2020-11-30T00:00:00",
          "2020-12-31T00:00:00",
          "2021-01-31T00:00:00",
          "2021-02-28T00:00:00",
          "2021-03-31T00:00:00"
         ],
         "xaxis": "x",
         "y": [
          255,
          246,
          301,
          282,
          307,
          220,
          232,
          228,
          205,
          255,
          174,
          176,
          166,
          212,
          201,
          202,
          192,
          199,
          186,
          192,
          209,
          190,
          158,
          152,
          201,
          181,
          242,
          228,
          249,
          219,
          264,
          316,
          307,
          300,
          331,
          322,
          345,
          386,
          219
         ],
         "yaxis": "y"
        },
        {
         "hovertemplate": "Companies=Paypal Holdings, Inc<br>Date=%{x}<br>Complaints=%{y}<extra></extra>",
         "legendgroup": "Paypal Holdings, Inc",
         "line": {
          "color": "#D62728",
          "dash": "solid"
         },
         "mode": "lines",
         "name": "Paypal Holdings, Inc",
         "showlegend": true,
         "type": "scattergl",
         "x": [
          "2018-01-31T00:00:00",
          "2018-02-28T00:00:00",
          "2018-03-31T00:00:00",
          "2018-04-30T00:00:00",
          "2018-05-31T00:00:00",
          "2018-06-30T00:00:00",
          "2018-07-31T00:00:00",
          "2018-08-31T00:00:00",
          "2018-09-30T00:00:00",
          "2018-10-31T00:00:00",
          "2018-11-30T00:00:00",
          "2018-12-31T00:00:00",
          "2019-01-31T00:00:00",
          "2019-02-28T00:00:00",
          "2019-03-31T00:00:00",
          "2019-04-30T00:00:00",
          "2019-05-31T00:00:00",
          "2019-06-30T00:00:00",
          "2019-07-31T00:00:00",
          "2019-08-31T00:00:00",
          "2019-09-30T00:00:00",
          "2019-10-31T00:00:00",
          "2019-11-30T00:00:00",
          "2019-12-31T00:00:00",
          "2020-01-31T00:00:00",
          "2020-02-29T00:00:00",
          "2020-03-31T00:00:00",
          "2020-04-30T00:00:00",
          "2020-05-31T00:00:00",
          "2020-06-30T00:00:00",
          "2020-07-31T00:00:00",
          "2020-08-31T00:00:00",
          "2020-09-30T00:00:00",
          "2020-10-31T00:00:00",
          "2020-11-30T00:00:00",
          "2020-12-31T00:00:00",
          "2021-01-31T00:00:00",
          "2021-02-28T00:00:00",
          "2021-03-31T00:00:00"
         ],
         "xaxis": "x",
         "y": [
          77,
          82,
          72,
          83,
          73,
          78,
          69,
          95,
          72,
          88,
          90,
          108,
          120,
          126,
          129,
          122,
          142,
          137,
          148,
          128,
          142,
          145,
          147,
          142,
          124,
          122,
          124,
          190,
          221,
          271,
          277,
          267,
          216,
          230,
          191,
          264,
          234,
          486,
          335
         ],
         "yaxis": "y"
        },
        {
         "hovertemplate": "Companies=Premier Student Loan Center<br>Date=%{x}<br>Complaints=%{y}<extra></extra>",
         "legendgroup": "Premier Student Loan Center",
         "line": {
          "color": "#9467BD",
          "dash": "solid"
         },
         "mode": "lines",
         "name": "Premier Student Loan Center",
         "showlegend": true,
         "type": "scattergl",
         "x": [
          "2018-01-31T00:00:00",
          "2018-02-28T00:00:00",
          "2018-03-31T00:00:00",
          "2018-04-30T00:00:00",
          "2018-05-31T00:00:00",
          "2018-06-30T00:00:00",
          "2018-07-31T00:00:00",
          "2018-08-31T00:00:00",
          "2018-09-30T00:00:00",
          "2018-10-31T00:00:00",
          "2018-11-30T00:00:00",
          "2018-12-31T00:00:00",
          "2019-01-31T00:00:00",
          "2019-02-28T00:00:00",
          "2019-03-31T00:00:00",
          "2019-04-30T00:00:00",
          "2019-05-31T00:00:00",
          "2019-06-30T00:00:00",
          "2019-07-31T00:00:00",
          "2019-08-31T00:00:00",
          "2019-09-30T00:00:00",
          "2019-10-31T00:00:00",
          "2019-11-30T00:00:00",
          "2019-12-31T00:00:00",
          "2020-01-31T00:00:00",
          "2020-02-29T00:00:00",
          "2020-03-31T00:00:00",
          "2020-04-30T00:00:00",
          "2020-05-31T00:00:00",
          "2020-06-30T00:00:00",
          "2020-07-31T00:00:00",
          "2020-08-31T00:00:00",
          "2020-09-30T00:00:00",
          "2020-10-31T00:00:00",
          "2020-11-30T00:00:00",
          "2020-12-31T00:00:00",
          "2021-01-31T00:00:00"
         ],
         "xaxis": "x",
         "y": [
          2,
          7,
          2,
          4,
          4,
          9,
          7,
          7,
          4,
          3,
          5,
          3,
          9,
          2,
          6,
          5,
          5,
          2,
          4,
          1,
          2,
          6,
          20,
          18,
          15,
          13,
          8,
          2,
          1,
          1,
          1,
          0,
          0,
          2,
          2,
          1,
          2
         ],
         "yaxis": "y"
        },
        {
         "hovertemplate": "Companies=SYNCHRONY FINANCIAL<br>Date=%{x}<br>Complaints=%{y}<extra></extra>",
         "legendgroup": "SYNCHRONY FINANCIAL",
         "line": {
          "color": "#8C564B",
          "dash": "solid"
         },
         "mode": "lines",
         "name": "SYNCHRONY FINANCIAL",
         "showlegend": true,
         "type": "scattergl",
         "x": [
          "2018-01-31T00:00:00",
          "2018-02-28T00:00:00",
          "2018-03-31T00:00:00",
          "2018-04-30T00:00:00",
          "2018-05-31T00:00:00",
          "2018-06-30T00:00:00",
          "2018-07-31T00:00:00",
          "2018-08-31T00:00:00",
          "2018-09-30T00:00:00",
          "2018-10-31T00:00:00",
          "2018-11-30T00:00:00",
          "2018-12-31T00:00:00",
          "2019-01-31T00:00:00",
          "2019-02-28T00:00:00",
          "2019-03-31T00:00:00",
          "2019-04-30T00:00:00",
          "2019-05-31T00:00:00",
          "2019-06-30T00:00:00",
          "2019-07-31T00:00:00",
          "2019-08-31T00:00:00",
          "2019-09-30T00:00:00",
          "2019-10-31T00:00:00",
          "2019-11-30T00:00:00",
          "2019-12-31T00:00:00",
          "2020-01-31T00:00:00",
          "2020-02-29T00:00:00",
          "2020-03-31T00:00:00",
          "2020-04-30T00:00:00",
          "2020-05-31T00:00:00",
          "2020-06-30T00:00:00",
          "2020-07-31T00:00:00",
          "2020-08-31T00:00:00",
          "2020-09-30T00:00:00",
          "2020-10-31T00:00:00",
          "2020-11-30T00:00:00",
          "2020-12-31T00:00:00",
          "2021-01-31T00:00:00",
          "2021-02-28T00:00:00",
          "2021-03-31T00:00:00"
         ],
         "xaxis": "x",
         "y": [
          412,
          367,
          433,
          404,
          399,
          354,
          395,
          431,
          359,
          429,
          362,
          331,
          341,
          311,
          466,
          415,
          401,
          385,
          422,
          443,
          366,
          355,
          430,
          319,
          337,
          364,
          345,
          388,
          405,
          401,
          469,
          450,
          409,
          404,
          422,
          448,
          417,
          494,
          240
         ],
         "yaxis": "y"
        },
        {
         "hovertemplate": "Companies=Santander Consumer USA Holdings Inc.<br>Date=%{x}<br>Complaints=%{y}<extra></extra>",
         "legendgroup": "Santander Consumer USA Holdings Inc.",
         "line": {
          "color": "#E377C2",
          "dash": "solid"
         },
         "mode": "lines",
         "name": "Santander Consumer USA Holdings Inc.",
         "showlegend": true,
         "type": "scattergl",
         "x": [
          "2018-01-31T00:00:00",
          "2018-02-28T00:00:00",
          "2018-03-31T00:00:00",
          "2018-04-30T00:00:00",
          "2018-05-31T00:00:00",
          "2018-06-30T00:00:00",
          "2018-07-31T00:00:00",
          "2018-08-31T00:00:00",
          "2018-09-30T00:00:00",
          "2018-10-31T00:00:00",
          "2018-11-30T00:00:00",
          "2018-12-31T00:00:00",
          "2019-01-31T00:00:00",
          "2019-02-28T00:00:00",
          "2019-03-31T00:00:00",
          "2019-04-30T00:00:00",
          "2019-05-31T00:00:00",
          "2019-06-30T00:00:00",
          "2019-07-31T00:00:00",
          "2019-08-31T00:00:00",
          "2019-09-30T00:00:00",
          "2019-10-31T00:00:00",
          "2019-11-30T00:00:00",
          "2019-12-31T00:00:00",
          "2020-01-31T00:00:00",
          "2020-02-29T00:00:00",
          "2020-03-31T00:00:00",
          "2020-04-30T00:00:00",
          "2020-05-31T00:00:00",
          "2020-06-30T00:00:00",
          "2020-07-31T00:00:00",
          "2020-08-31T00:00:00",
          "2020-09-30T00:00:00",
          "2020-10-31T00:00:00",
          "2020-11-30T00:00:00",
          "2020-12-31T00:00:00",
          "2021-01-31T00:00:00",
          "2021-02-28T00:00:00",
          "2021-03-31T00:00:00"
         ],
         "xaxis": "x",
         "y": [
          118,
          119,
          119,
          122,
          113,
          102,
          105,
          118,
          109,
          110,
          101,
          91,
          88,
          105,
          112,
          114,
          110,
          108,
          118,
          93,
          100,
          102,
          97,
          78,
          88,
          91,
          122,
          120,
          174,
          173,
          178,
          200,
          170,
          219,
          196,
          184,
          230,
          225,
          130
         ],
         "yaxis": "y"
        },
        {
         "hovertemplate": "Companies=TD BANK US HOLDING COMPANY<br>Date=%{x}<br>Complaints=%{y}<extra></extra>",
         "legendgroup": "TD BANK US HOLDING COMPANY",
         "line": {
          "color": "#7F7F7F",
          "dash": "solid"
         },
         "mode": "lines",
         "name": "TD BANK US HOLDING COMPANY",
         "showlegend": true,
         "type": "scattergl",
         "x": [
          "2018-01-31T00:00:00",
          "2018-02-28T00:00:00",
          "2018-03-31T00:00:00",
          "2018-04-30T00:00:00",
          "2018-05-31T00:00:00",
          "2018-06-30T00:00:00",
          "2018-07-31T00:00:00",
          "2018-08-31T00:00:00",
          "2018-09-30T00:00:00",
          "2018-10-31T00:00:00",
          "2018-11-30T00:00:00",
          "2018-12-31T00:00:00",
          "2019-01-31T00:00:00",
          "2019-02-28T00:00:00",
          "2019-03-31T00:00:00",
          "2019-04-30T00:00:00",
          "2019-05-31T00:00:00",
          "2019-06-30T00:00:00",
          "2019-07-31T00:00:00",
          "2019-08-31T00:00:00",
          "2019-09-30T00:00:00",
          "2019-10-31T00:00:00",
          "2019-11-30T00:00:00",
          "2019-12-31T00:00:00",
          "2020-01-31T00:00:00",
          "2020-02-29T00:00:00",
          "2020-03-31T00:00:00",
          "2020-04-30T00:00:00",
          "2020-05-31T00:00:00",
          "2020-06-30T00:00:00",
          "2020-07-31T00:00:00",
          "2020-08-31T00:00:00",
          "2020-09-30T00:00:00",
          "2020-10-31T00:00:00",
          "2020-11-30T00:00:00",
          "2020-12-31T00:00:00",
          "2021-01-31T00:00:00",
          "2021-02-28T00:00:00",
          "2021-03-31T00:00:00"
         ],
         "xaxis": "x",
         "y": [
          307,
          155,
          205,
          215,
          146,
          158,
          157,
          185,
          138,
          167,
          145,
          139,
          146,
          123,
          150,
          150,
          148,
          153,
          170,
          195,
          187,
          162,
          149,
          147,
          162,
          160,
          160,
          186,
          203,
          202,
          224,
          250,
          225,
          214,
          216,
          246,
          265,
          276,
          131
         ],
         "yaxis": "y"
        },
        {
         "hovertemplate": "Companies=TRANSUNION INTERMEDIATE HOLDINGS, INC.<br>Date=%{x}<br>Complaints=%{y}<extra></extra>",
         "legendgroup": "TRANSUNION INTERMEDIATE HOLDINGS, INC.",
         "line": {
          "color": "#BCBD22",
          "dash": "solid"
         },
         "mode": "lines",
         "name": "TRANSUNION INTERMEDIATE HOLDINGS, INC.",
         "showlegend": true,
         "type": "scattergl",
         "x": [
          "2018-01-31T00:00:00",
          "2018-02-28T00:00:00",
          "2018-03-31T00:00:00",
          "2018-04-30T00:00:00",
          "2018-05-31T00:00:00",
          "2018-06-30T00:00:00",
          "2018-07-31T00:00:00",
          "2018-08-31T00:00:00",
          "2018-09-30T00:00:00",
          "2018-10-31T00:00:00",
          "2018-11-30T00:00:00",
          "2018-12-31T00:00:00",
          "2019-01-31T00:00:00",
          "2019-02-28T00:00:00",
          "2019-03-31T00:00:00",
          "2019-04-30T00:00:00",
          "2019-05-31T00:00:00",
          "2019-06-30T00:00:00",
          "2019-07-31T00:00:00",
          "2019-08-31T00:00:00",
          "2019-09-30T00:00:00",
          "2019-10-31T00:00:00",
          "2019-11-30T00:00:00",
          "2019-12-31T00:00:00",
          "2020-01-31T00:00:00",
          "2020-02-29T00:00:00",
          "2020-03-31T00:00:00",
          "2020-04-30T00:00:00",
          "2020-05-31T00:00:00",
          "2020-06-30T00:00:00",
          "2020-07-31T00:00:00",
          "2020-08-31T00:00:00",
          "2020-09-30T00:00:00",
          "2020-10-31T00:00:00",
          "2020-11-30T00:00:00",
          "2020-12-31T00:00:00",
          "2021-01-31T00:00:00",
          "2021-02-28T00:00:00",
          "2021-03-31T00:00:00"
         ],
         "xaxis": "x",
         "y": [
          2376,
          2310,
          2446,
          2599,
          2452,
          2190,
          2326,
          2429,
          2235,
          2596,
          2267,
          2126,
          2176,
          2460,
          2982,
          3042,
          3380,
          3409,
          3686,
          3931,
          3454,
          3765,
          3347,
          3242,
          4308,
          3881,
          5225,
          6339,
          7122,
          7090,
          7701,
          7579,
          7829,
          9131,
          8444,
          10456,
          11478,
          5328,
          8874
         ],
         "yaxis": "y"
        },
        {
         "hovertemplate": "Companies=U.S. BANCORP<br>Date=%{x}<br>Complaints=%{y}<extra></extra>",
         "legendgroup": "U.S. BANCORP",
         "line": {
          "color": "#17BECF",
          "dash": "solid"
         },
         "mode": "lines",
         "name": "U.S. BANCORP",
         "showlegend": true,
         "type": "scattergl",
         "x": [
          "2018-01-31T00:00:00",
          "2018-02-28T00:00:00",
          "2018-03-31T00:00:00",
          "2018-04-30T00:00:00",
          "2018-05-31T00:00:00",
          "2018-06-30T00:00:00",
          "2018-07-31T00:00:00",
          "2018-08-31T00:00:00",
          "2018-09-30T00:00:00",
          "2018-10-31T00:00:00",
          "2018-11-30T00:00:00",
          "2018-12-31T00:00:00",
          "2019-01-31T00:00:00",
          "2019-02-28T00:00:00",
          "2019-03-31T00:00:00",
          "2019-04-30T00:00:00",
          "2019-05-31T00:00:00",
          "2019-06-30T00:00:00",
          "2019-07-31T00:00:00",
          "2019-08-31T00:00:00",
          "2019-09-30T00:00:00",
          "2019-10-31T00:00:00",
          "2019-11-30T00:00:00",
          "2019-12-31T00:00:00",
          "2020-01-31T00:00:00",
          "2020-02-29T00:00:00",
          "2020-03-31T00:00:00",
          "2020-04-30T00:00:00",
          "2020-05-31T00:00:00",
          "2020-06-30T00:00:00",
          "2020-07-31T00:00:00",
          "2020-08-31T00:00:00",
          "2020-09-30T00:00:00",
          "2020-10-31T00:00:00",
          "2020-11-30T00:00:00",
          "2020-12-31T00:00:00",
          "2021-01-31T00:00:00",
          "2021-02-28T00:00:00",
          "2021-03-31T00:00:00"
         ],
         "xaxis": "x",
         "y": [
          205,
          185,
          227,
          257,
          185,
          173,
          175,
          229,
          183,
          205,
          173,
          194,
          177,
          150,
          220,
          194,
          198,
          203,
          241,
          218,
          220,
          235,
          206,
          211,
          214,
          211,
          226,
          382,
          261,
          289,
          380,
          420,
          446,
          487,
          444,
          394,
          418,
          379,
          258
         ],
         "yaxis": "y"
        },
        {
         "hovertemplate": "Companies=WELLS FARGO & COMPANY<br>Date=%{x}<br>Complaints=%{y}<extra></extra>",
         "legendgroup": "WELLS FARGO & COMPANY",
         "line": {
          "color": "#1F77B4",
          "dash": "solid"
         },
         "mode": "lines",
         "name": "WELLS FARGO & COMPANY",
         "showlegend": true,
         "type": "scattergl",
         "x": [
          "2018-01-31T00:00:00",
          "2018-02-28T00:00:00",
          "2018-03-31T00:00:00",
          "2018-04-30T00:00:00",
          "2018-05-31T00:00:00",
          "2018-06-30T00:00:00",
          "2018-07-31T00:00:00",
          "2018-08-31T00:00:00",
          "2018-09-30T00:00:00",
          "2018-10-31T00:00:00",
          "2018-11-30T00:00:00",
          "2018-12-31T00:00:00",
          "2019-01-31T00:00:00",
          "2019-02-28T00:00:00",
          "2019-03-31T00:00:00",
          "2019-04-30T00:00:00",
          "2019-05-31T00:00:00",
          "2019-06-30T00:00:00",
          "2019-07-31T00:00:00",
          "2019-08-31T00:00:00",
          "2019-09-30T00:00:00",
          "2019-10-31T00:00:00",
          "2019-11-30T00:00:00",
          "2019-12-31T00:00:00",
          "2020-01-31T00:00:00",
          "2020-02-29T00:00:00",
          "2020-03-31T00:00:00",
          "2020-04-30T00:00:00",
          "2020-05-31T00:00:00",
          "2020-06-30T00:00:00",
          "2020-07-31T00:00:00",
          "2020-08-31T00:00:00",
          "2020-09-30T00:00:00",
          "2020-10-31T00:00:00",
          "2020-11-30T00:00:00",
          "2020-12-31T00:00:00",
          "2021-01-31T00:00:00",
          "2021-02-28T00:00:00",
          "2021-03-31T00:00:00"
         ],
         "xaxis": "x",
         "y": [
          714,
          697,
          842,
          1015,
          818,
          706,
          696,
          776,
          658,
          672,
          577,
          618,
          600,
          659,
          743,
          674,
          718,
          649,
          686,
          602,
          512,
          595,
          478,
          507,
          561,
          557,
          608,
          605,
          645,
          677,
          704,
          664,
          675,
          654,
          565,
          619,
          613,
          639,
          424
         ],
         "yaxis": "y"
        }
       ],
       "layout": {
        "height": 600,
        "legend": {
         "orientation": "h",
         "title": {},
         "tracegroupgap": 0,
         "x": 0.7,
         "xanchor": "center",
         "y": 1,
         "yanchor": "bottom"
        },
        "template": {
         "data": {
          "bar": [
           {
            "error_x": {
             "color": "rgb(36,36,36)"
            },
            "error_y": {
             "color": "rgb(36,36,36)"
            },
            "marker": {
             "line": {
              "color": "white",
              "width": 0.5
             }
            },
            "type": "bar"
           }
          ],
          "barpolar": [
           {
            "marker": {
             "line": {
              "color": "white",
              "width": 0.5
             }
            },
            "type": "barpolar"
           }
          ],
          "carpet": [
           {
            "aaxis": {
             "endlinecolor": "rgb(36,36,36)",
             "gridcolor": "white",
             "linecolor": "white",
             "minorgridcolor": "white",
             "startlinecolor": "rgb(36,36,36)"
            },
            "baxis": {
             "endlinecolor": "rgb(36,36,36)",
             "gridcolor": "white",
             "linecolor": "white",
             "minorgridcolor": "white",
             "startlinecolor": "rgb(36,36,36)"
            },
            "type": "carpet"
           }
          ],
          "choropleth": [
           {
            "colorbar": {
             "outlinewidth": 1,
             "tickcolor": "rgb(36,36,36)",
             "ticks": "outside"
            },
            "type": "choropleth"
           }
          ],
          "contour": [
           {
            "colorbar": {
             "outlinewidth": 1,
             "tickcolor": "rgb(36,36,36)",
             "ticks": "outside"
            },
            "colorscale": [
             [
              0,
              "#440154"
             ],
             [
              0.1111111111111111,
              "#482878"
             ],
             [
              0.2222222222222222,
              "#3e4989"
             ],
             [
              0.3333333333333333,
              "#31688e"
             ],
             [
              0.4444444444444444,
              "#26828e"
             ],
             [
              0.5555555555555556,
              "#1f9e89"
             ],
             [
              0.6666666666666666,
              "#35b779"
             ],
             [
              0.7777777777777778,
              "#6ece58"
             ],
             [
              0.8888888888888888,
              "#b5de2b"
             ],
             [
              1,
              "#fde725"
             ]
            ],
            "type": "contour"
           }
          ],
          "contourcarpet": [
           {
            "colorbar": {
             "outlinewidth": 1,
             "tickcolor": "rgb(36,36,36)",
             "ticks": "outside"
            },
            "type": "contourcarpet"
           }
          ],
          "heatmap": [
           {
            "colorbar": {
             "outlinewidth": 1,
             "tickcolor": "rgb(36,36,36)",
             "ticks": "outside"
            },
            "colorscale": [
             [
              0,
              "#440154"
             ],
             [
              0.1111111111111111,
              "#482878"
             ],
             [
              0.2222222222222222,
              "#3e4989"
             ],
             [
              0.3333333333333333,
              "#31688e"
             ],
             [
              0.4444444444444444,
              "#26828e"
             ],
             [
              0.5555555555555556,
              "#1f9e89"
             ],
             [
              0.6666666666666666,
              "#35b779"
             ],
             [
              0.7777777777777778,
              "#6ece58"
             ],
             [
              0.8888888888888888,
              "#b5de2b"
             ],
             [
              1,
              "#fde725"
             ]
            ],
            "type": "heatmap"
           }
          ],
          "heatmapgl": [
           {
            "colorbar": {
             "outlinewidth": 1,
             "tickcolor": "rgb(36,36,36)",
             "ticks": "outside"
            },
            "colorscale": [
             [
              0,
              "#440154"
             ],
             [
              0.1111111111111111,
              "#482878"
             ],
             [
              0.2222222222222222,
              "#3e4989"
             ],
             [
              0.3333333333333333,
              "#31688e"
             ],
             [
              0.4444444444444444,
              "#26828e"
             ],
             [
              0.5555555555555556,
              "#1f9e89"
             ],
             [
              0.6666666666666666,
              "#35b779"
             ],
             [
              0.7777777777777778,
              "#6ece58"
             ],
             [
              0.8888888888888888,
              "#b5de2b"
             ],
             [
              1,
              "#fde725"
             ]
            ],
            "type": "heatmapgl"
           }
          ],
          "histogram": [
           {
            "marker": {
             "line": {
              "color": "white",
              "width": 0.6
             }
            },
            "type": "histogram"
           }
          ],
          "histogram2d": [
           {
            "colorbar": {
             "outlinewidth": 1,
             "tickcolor": "rgb(36,36,36)",
             "ticks": "outside"
            },
            "colorscale": [
             [
              0,
              "#440154"
             ],
             [
              0.1111111111111111,
              "#482878"
             ],
             [
              0.2222222222222222,
              "#3e4989"
             ],
             [
              0.3333333333333333,
              "#31688e"
             ],
             [
              0.4444444444444444,
              "#26828e"
             ],
             [
              0.5555555555555556,
              "#1f9e89"
             ],
             [
              0.6666666666666666,
              "#35b779"
             ],
             [
              0.7777777777777778,
              "#6ece58"
             ],
             [
              0.8888888888888888,
              "#b5de2b"
             ],
             [
              1,
              "#fde725"
             ]
            ],
            "type": "histogram2d"
           }
          ],
          "histogram2dcontour": [
           {
            "colorbar": {
             "outlinewidth": 1,
             "tickcolor": "rgb(36,36,36)",
             "ticks": "outside"
            },
            "colorscale": [
             [
              0,
              "#440154"
             ],
             [
              0.1111111111111111,
              "#482878"
             ],
             [
              0.2222222222222222,
              "#3e4989"
             ],
             [
              0.3333333333333333,
              "#31688e"
             ],
             [
              0.4444444444444444,
              "#26828e"
             ],
             [
              0.5555555555555556,
              "#1f9e89"
             ],
             [
              0.6666666666666666,
              "#35b779"
             ],
             [
              0.7777777777777778,
              "#6ece58"
             ],
             [
              0.8888888888888888,
              "#b5de2b"
             ],
             [
              1,
              "#fde725"
             ]
            ],
            "type": "histogram2dcontour"
           }
          ],
          "mesh3d": [
           {
            "colorbar": {
             "outlinewidth": 1,
             "tickcolor": "rgb(36,36,36)",
             "ticks": "outside"
            },
            "type": "mesh3d"
           }
          ],
          "parcoords": [
           {
            "line": {
             "colorbar": {
              "outlinewidth": 1,
              "tickcolor": "rgb(36,36,36)",
              "ticks": "outside"
             }
            },
            "type": "parcoords"
           }
          ],
          "pie": [
           {
            "automargin": true,
            "type": "pie"
           }
          ],
          "scatter": [
           {
            "marker": {
             "colorbar": {
              "outlinewidth": 1,
              "tickcolor": "rgb(36,36,36)",
              "ticks": "outside"
             }
            },
            "type": "scatter"
           }
          ],
          "scatter3d": [
           {
            "line": {
             "colorbar": {
              "outlinewidth": 1,
              "tickcolor": "rgb(36,36,36)",
              "ticks": "outside"
             }
            },
            "marker": {
             "colorbar": {
              "outlinewidth": 1,
              "tickcolor": "rgb(36,36,36)",
              "ticks": "outside"
             }
            },
            "type": "scatter3d"
           }
          ],
          "scattercarpet": [
           {
            "marker": {
             "colorbar": {
              "outlinewidth": 1,
              "tickcolor": "rgb(36,36,36)",
              "ticks": "outside"
             }
            },
            "type": "scattercarpet"
           }
          ],
          "scattergeo": [
           {
            "marker": {
             "colorbar": {
              "outlinewidth": 1,
              "tickcolor": "rgb(36,36,36)",
              "ticks": "outside"
             }
            },
            "type": "scattergeo"
           }
          ],
          "scattergl": [
           {
            "marker": {
             "colorbar": {
              "outlinewidth": 1,
              "tickcolor": "rgb(36,36,36)",
              "ticks": "outside"
             }
            },
            "type": "scattergl"
           }
          ],
          "scattermapbox": [
           {
            "marker": {
             "colorbar": {
              "outlinewidth": 1,
              "tickcolor": "rgb(36,36,36)",
              "ticks": "outside"
             }
            },
            "type": "scattermapbox"
           }
          ],
          "scatterpolar": [
           {
            "marker": {
             "colorbar": {
              "outlinewidth": 1,
              "tickcolor": "rgb(36,36,36)",
              "ticks": "outside"
             }
            },
            "type": "scatterpolar"
           }
          ],
          "scatterpolargl": [
           {
            "marker": {
             "colorbar": {
              "outlinewidth": 1,
              "tickcolor": "rgb(36,36,36)",
              "ticks": "outside"
             }
            },
            "type": "scatterpolargl"
           }
          ],
          "scatterternary": [
           {
            "marker": {
             "colorbar": {
              "outlinewidth": 1,
              "tickcolor": "rgb(36,36,36)",
              "ticks": "outside"
             }
            },
            "type": "scatterternary"
           }
          ],
          "surface": [
           {
            "colorbar": {
             "outlinewidth": 1,
             "tickcolor": "rgb(36,36,36)",
             "ticks": "outside"
            },
            "colorscale": [
             [
              0,
              "#440154"
             ],
             [
              0.1111111111111111,
              "#482878"
             ],
             [
              0.2222222222222222,
              "#3e4989"
             ],
             [
              0.3333333333333333,
              "#31688e"
             ],
             [
              0.4444444444444444,
              "#26828e"
             ],
             [
              0.5555555555555556,
              "#1f9e89"
             ],
             [
              0.6666666666666666,
              "#35b779"
             ],
             [
              0.7777777777777778,
              "#6ece58"
             ],
             [
              0.8888888888888888,
              "#b5de2b"
             ],
             [
              1,
              "#fde725"
             ]
            ],
            "type": "surface"
           }
          ],
          "table": [
           {
            "cells": {
             "fill": {
              "color": "rgb(237,237,237)"
             },
             "line": {
              "color": "white"
             }
            },
            "header": {
             "fill": {
              "color": "rgb(217,217,217)"
             },
             "line": {
              "color": "white"
             }
            },
            "type": "table"
           }
          ]
         },
         "layout": {
          "annotationdefaults": {
           "arrowhead": 0,
           "arrowwidth": 1
          },
          "autotypenumbers": "strict",
          "coloraxis": {
           "colorbar": {
            "outlinewidth": 1,
            "tickcolor": "rgb(36,36,36)",
            "ticks": "outside"
           }
          },
          "colorscale": {
           "diverging": [
            [
             0,
             "rgb(103,0,31)"
            ],
            [
             0.1,
             "rgb(178,24,43)"
            ],
            [
             0.2,
             "rgb(214,96,77)"
            ],
            [
             0.3,
             "rgb(244,165,130)"
            ],
            [
             0.4,
             "rgb(253,219,199)"
            ],
            [
             0.5,
             "rgb(247,247,247)"
            ],
            [
             0.6,
             "rgb(209,229,240)"
            ],
            [
             0.7,
             "rgb(146,197,222)"
            ],
            [
             0.8,
             "rgb(67,147,195)"
            ],
            [
             0.9,
             "rgb(33,102,172)"
            ],
            [
             1,
             "rgb(5,48,97)"
            ]
           ],
           "sequential": [
            [
             0,
             "#440154"
            ],
            [
             0.1111111111111111,
             "#482878"
            ],
            [
             0.2222222222222222,
             "#3e4989"
            ],
            [
             0.3333333333333333,
             "#31688e"
            ],
            [
             0.4444444444444444,
             "#26828e"
            ],
            [
             0.5555555555555556,
             "#1f9e89"
            ],
            [
             0.6666666666666666,
             "#35b779"
            ],
            [
             0.7777777777777778,
             "#6ece58"
            ],
            [
             0.8888888888888888,
             "#b5de2b"
            ],
            [
             1,
             "#fde725"
            ]
           ],
           "sequentialminus": [
            [
             0,
             "#440154"
            ],
            [
             0.1111111111111111,
             "#482878"
            ],
            [
             0.2222222222222222,
             "#3e4989"
            ],
            [
             0.3333333333333333,
             "#31688e"
            ],
            [
             0.4444444444444444,
             "#26828e"
            ],
            [
             0.5555555555555556,
             "#1f9e89"
            ],
            [
             0.6666666666666666,
             "#35b779"
            ],
            [
             0.7777777777777778,
             "#6ece58"
            ],
            [
             0.8888888888888888,
             "#b5de2b"
            ],
            [
             1,
             "#fde725"
            ]
           ]
          },
          "colorway": [
           "#1F77B4",
           "#FF7F0E",
           "#2CA02C",
           "#D62728",
           "#9467BD",
           "#8C564B",
           "#E377C2",
           "#7F7F7F",
           "#BCBD22",
           "#17BECF"
          ],
          "font": {
           "color": "rgb(36,36,36)"
          },
          "geo": {
           "bgcolor": "white",
           "lakecolor": "white",
           "landcolor": "white",
           "showlakes": true,
           "showland": true,
           "subunitcolor": "white"
          },
          "hoverlabel": {
           "align": "left"
          },
          "hovermode": "closest",
          "mapbox": {
           "style": "light"
          },
          "paper_bgcolor": "white",
          "plot_bgcolor": "white",
          "polar": {
           "angularaxis": {
            "gridcolor": "rgb(232,232,232)",
            "linecolor": "rgb(36,36,36)",
            "showgrid": false,
            "showline": true,
            "ticks": "outside"
           },
           "bgcolor": "white",
           "radialaxis": {
            "gridcolor": "rgb(232,232,232)",
            "linecolor": "rgb(36,36,36)",
            "showgrid": false,
            "showline": true,
            "ticks": "outside"
           }
          },
          "scene": {
           "xaxis": {
            "backgroundcolor": "white",
            "gridcolor": "rgb(232,232,232)",
            "gridwidth": 2,
            "linecolor": "rgb(36,36,36)",
            "showbackground": true,
            "showgrid": false,
            "showline": true,
            "ticks": "outside",
            "zeroline": false,
            "zerolinecolor": "rgb(36,36,36)"
           },
           "yaxis": {
            "backgroundcolor": "white",
            "gridcolor": "rgb(232,232,232)",
            "gridwidth": 2,
            "linecolor": "rgb(36,36,36)",
            "showbackground": true,
            "showgrid": false,
            "showline": true,
            "ticks": "outside",
            "zeroline": false,
            "zerolinecolor": "rgb(36,36,36)"
           },
           "zaxis": {
            "backgroundcolor": "white",
            "gridcolor": "rgb(232,232,232)",
            "gridwidth": 2,
            "linecolor": "rgb(36,36,36)",
            "showbackground": true,
            "showgrid": false,
            "showline": true,
            "ticks": "outside",
            "zeroline": false,
            "zerolinecolor": "rgb(36,36,36)"
           }
          },
          "shapedefaults": {
           "fillcolor": "black",
           "line": {
            "width": 0
           },
           "opacity": 0.3
          },
          "ternary": {
           "aaxis": {
            "gridcolor": "rgb(232,232,232)",
            "linecolor": "rgb(36,36,36)",
            "showgrid": false,
            "showline": true,
            "ticks": "outside"
           },
           "baxis": {
            "gridcolor": "rgb(232,232,232)",
            "linecolor": "rgb(36,36,36)",
            "showgrid": false,
            "showline": true,
            "ticks": "outside"
           },
           "bgcolor": "white",
           "caxis": {
            "gridcolor": "rgb(232,232,232)",
            "linecolor": "rgb(36,36,36)",
            "showgrid": false,
            "showline": true,
            "ticks": "outside"
           }
          },
          "title": {
           "x": 0.05
          },
          "xaxis": {
           "automargin": true,
           "gridcolor": "rgb(232,232,232)",
           "linecolor": "rgb(36,36,36)",
           "showgrid": false,
           "showline": true,
           "ticks": "outside",
           "title": {
            "standoff": 15
           },
           "zeroline": false,
           "zerolinecolor": "rgb(36,36,36)"
          },
          "yaxis": {
           "automargin": true,
           "gridcolor": "rgb(232,232,232)",
           "linecolor": "rgb(36,36,36)",
           "showgrid": false,
           "showline": true,
           "ticks": "outside",
           "title": {
            "standoff": 15
           },
           "zeroline": false,
           "zerolinecolor": "rgb(36,36,36)"
          }
         }
        },
        "title": {
         "text": "Monthly Complaints"
        },
        "width": 800,
        "xaxis": {
         "anchor": "y",
         "domain": [
          0,
          1
         ],
         "title": {
          "text": "Date"
         }
        },
        "yaxis": {
         "anchor": "x",
         "domain": [
          0,
          1
         ],
         "title": {
          "text": "Complaints"
         }
        }
       }
      },
      "text/html": [
       "<div>                            <div id=\"bc939f84-0150-4c32-9f2f-1a2ceabd613c\" class=\"plotly-graph-div\" style=\"height:600px; width:800px;\"></div>            <script type=\"text/javascript\">                require([\"plotly\"], function(Plotly) {                    window.PLOTLYENV=window.PLOTLYENV || {};                                    if (document.getElementById(\"bc939f84-0150-4c32-9f2f-1a2ceabd613c\")) {                    Plotly.newPlot(                        \"bc939f84-0150-4c32-9f2f-1a2ceabd613c\",                        [{\"hovertemplate\": \"Companies=AES/PHEAA<br>Date=%{x}<br>Complaints=%{y}<extra></extra>\", \"legendgroup\": \"AES/PHEAA\", \"line\": {\"color\": \"#1F77B4\", \"dash\": \"solid\"}, \"mode\": \"lines\", \"name\": \"AES/PHEAA\", \"showlegend\": true, \"type\": \"scattergl\", \"x\": [\"2018-01-31T00:00:00\", \"2018-02-28T00:00:00\", \"2018-03-31T00:00:00\", \"2018-04-30T00:00:00\", \"2018-05-31T00:00:00\", \"2018-06-30T00:00:00\", \"2018-07-31T00:00:00\", \"2018-08-31T00:00:00\", \"2018-09-30T00:00:00\", \"2018-10-31T00:00:00\", \"2018-11-30T00:00:00\", \"2018-12-31T00:00:00\", \"2019-01-31T00:00:00\", \"2019-02-28T00:00:00\", \"2019-03-31T00:00:00\", \"2019-04-30T00:00:00\", \"2019-05-31T00:00:00\", \"2019-06-30T00:00:00\", \"2019-07-31T00:00:00\", \"2019-08-31T00:00:00\", \"2019-09-30T00:00:00\", \"2019-10-31T00:00:00\", \"2019-11-30T00:00:00\", \"2019-12-31T00:00:00\", \"2020-01-31T00:00:00\", \"2020-02-29T00:00:00\", \"2020-03-31T00:00:00\", \"2020-04-30T00:00:00\", \"2020-05-31T00:00:00\", \"2020-06-30T00:00:00\", \"2020-07-31T00:00:00\", \"2020-08-31T00:00:00\", \"2020-09-30T00:00:00\", \"2020-10-31T00:00:00\", \"2020-11-30T00:00:00\", \"2020-12-31T00:00:00\", \"2021-01-31T00:00:00\", \"2021-02-28T00:00:00\", \"2021-03-31T00:00:00\"], \"xaxis\": \"x\", \"y\": [211, 165, 205, 222, 188, 145, 183, 201, 185, 216, 163, 183, 197, 214, 229, 246, 189, 149, 180, 178, 161, 184, 162, 116, 196, 147, 170, 170, 156, 95, 114, 104, 99, 99, 120, 96, 126, 134, 84], \"yaxis\": \"y\"}, {\"hovertemplate\": \"Companies=ALLY FINANCIAL INC.<br>Date=%{x}<br>Complaints=%{y}<extra></extra>\", \"legendgroup\": \"ALLY FINANCIAL INC.\", \"line\": {\"color\": \"#FF7F0E\", \"dash\": \"solid\"}, \"mode\": \"lines\", \"name\": \"ALLY FINANCIAL INC.\", \"showlegend\": true, \"type\": \"scattergl\", \"x\": [\"2018-01-31T00:00:00\", \"2018-02-28T00:00:00\", \"2018-03-31T00:00:00\", \"2018-04-30T00:00:00\", \"2018-05-31T00:00:00\", \"2018-06-30T00:00:00\", \"2018-07-31T00:00:00\", \"2018-08-31T00:00:00\", \"2018-09-30T00:00:00\", \"2018-10-31T00:00:00\", \"2018-11-30T00:00:00\", \"2018-12-31T00:00:00\", \"2019-01-31T00:00:00\", \"2019-02-28T00:00:00\", \"2019-03-31T00:00:00\", \"2019-04-30T00:00:00\", \"2019-05-31T00:00:00\", \"2019-06-30T00:00:00\", \"2019-07-31T00:00:00\", \"2019-08-31T00:00:00\", \"2019-09-30T00:00:00\", \"2019-10-31T00:00:00\", \"2019-11-30T00:00:00\", \"2019-12-31T00:00:00\", \"2020-01-31T00:00:00\", \"2020-02-29T00:00:00\", \"2020-03-31T00:00:00\", \"2020-04-30T00:00:00\", \"2020-05-31T00:00:00\", \"2020-06-30T00:00:00\", \"2020-07-31T00:00:00\", \"2020-08-31T00:00:00\", \"2020-09-30T00:00:00\", \"2020-10-31T00:00:00\", \"2020-11-30T00:00:00\", \"2020-12-31T00:00:00\", \"2021-01-31T00:00:00\", \"2021-02-28T00:00:00\", \"2021-03-31T00:00:00\"], \"xaxis\": \"x\", \"y\": [132, 114, 101, 105, 118, 84, 79, 84, 82, 76, 71, 73, 78, 96, 102, 113, 90, 81, 91, 88, 85, 87, 102, 68, 106, 110, 122, 104, 132, 142, 146, 142, 158, 151, 144, 164, 156, 169, 209], \"yaxis\": \"y\"}, {\"hovertemplate\": \"Companies=AMERICAN EXPRESS COMPANY<br>Date=%{x}<br>Complaints=%{y}<extra></extra>\", \"legendgroup\": \"AMERICAN EXPRESS COMPANY\", \"line\": {\"color\": \"#2CA02C\", \"dash\": \"solid\"}, \"mode\": \"lines\", \"name\": \"AMERICAN EXPRESS COMPANY\", \"showlegend\": true, \"type\": \"scattergl\", \"x\": [\"2018-01-31T00:00:00\", \"2018-02-28T00:00:00\", \"2018-03-31T00:00:00\", \"2018-04-30T00:00:00\", \"2018-05-31T00:00:00\", \"2018-06-30T00:00:00\", \"2018-07-31T00:00:00\", \"2018-08-31T00:00:00\", \"2018-09-30T00:00:00\", \"2018-10-31T00:00:00\", \"2018-11-30T00:00:00\", \"2018-12-31T00:00:00\", \"2019-01-31T00:00:00\", \"2019-02-28T00:00:00\", \"2019-03-31T00:00:00\", \"2019-04-30T00:00:00\", \"2019-05-31T00:00:00\", \"2019-06-30T00:00:00\", \"2019-07-31T00:00:00\", \"2019-08-31T00:00:00\", \"2019-09-30T00:00:00\", \"2019-10-31T00:00:00\", \"2019-11-30T00:00:00\", \"2019-12-31T00:00:00\", \"2020-01-31T00:00:00\", \"2020-02-29T00:00:00\", \"2020-03-31T00:00:00\", \"2020-04-30T00:00:00\", \"2020-05-31T00:00:00\", \"2020-06-30T00:00:00\", \"2020-07-31T00:00:00\", \"2020-08-31T00:00:00\", \"2020-09-30T00:00:00\", \"2020-10-31T00:00:00\", \"2020-11-30T00:00:00\", \"2020-12-31T00:00:00\", \"2021-01-31T00:00:00\", \"2021-02-28T00:00:00\", \"2021-03-31T00:00:00\"], \"xaxis\": \"x\", \"y\": [234, 228, 250, 226, 237, 175, 239, 234, 197, 354, 253, 232, 240, 229, 264, 226, 253, 230, 238, 261, 231, 224, 208, 222, 228, 204, 251, 352, 362, 281, 277, 291, 233, 233, 218, 242, 266, 247, 163], \"yaxis\": \"y\"}, {\"hovertemplate\": \"Companies=Alliance Data Card Services<br>Date=%{x}<br>Complaints=%{y}<extra></extra>\", \"legendgroup\": \"Alliance Data Card Services\", \"line\": {\"color\": \"#D62728\", \"dash\": \"solid\"}, \"mode\": \"lines\", \"name\": \"Alliance Data Card Services\", \"showlegend\": true, \"type\": \"scattergl\", \"x\": [\"2018-01-31T00:00:00\", \"2018-02-28T00:00:00\", \"2018-03-31T00:00:00\", \"2018-04-30T00:00:00\", \"2018-05-31T00:00:00\", \"2018-06-30T00:00:00\", \"2018-07-31T00:00:00\", \"2018-08-31T00:00:00\", \"2018-09-30T00:00:00\", \"2018-10-31T00:00:00\", \"2018-11-30T00:00:00\", \"2018-12-31T00:00:00\", \"2019-01-31T00:00:00\", \"2019-02-28T00:00:00\", \"2019-03-31T00:00:00\", \"2019-04-30T00:00:00\", \"2019-05-31T00:00:00\", \"2019-06-30T00:00:00\", \"2019-07-31T00:00:00\", \"2019-08-31T00:00:00\", \"2019-09-30T00:00:00\", \"2019-10-31T00:00:00\", \"2019-11-30T00:00:00\", \"2019-12-31T00:00:00\", \"2020-01-31T00:00:00\", \"2020-02-29T00:00:00\", \"2020-03-31T00:00:00\", \"2020-04-30T00:00:00\", \"2020-05-31T00:00:00\", \"2020-06-30T00:00:00\", \"2020-07-31T00:00:00\", \"2020-08-31T00:00:00\", \"2020-09-30T00:00:00\", \"2020-10-31T00:00:00\", \"2020-11-30T00:00:00\", \"2020-12-31T00:00:00\", \"2021-01-31T00:00:00\", \"2021-02-28T00:00:00\", \"2021-03-31T00:00:00\"], \"xaxis\": \"x\", \"y\": [257, 229, 247, 257, 254, 225, 207, 211, 182, 220, 190, 176, 187, 212, 233, 215, 221, 223, 260, 222, 221, 241, 218, 213, 206, 205, 224, 256, 275, 266, 246, 321, 237, 259, 308, 287, 281, 344, 190], \"yaxis\": \"y\"}, {\"hovertemplate\": \"Companies=Ameritech Financial<br>Date=%{x}<br>Complaints=%{y}<extra></extra>\", \"legendgroup\": \"Ameritech Financial\", \"line\": {\"color\": \"#9467BD\", \"dash\": \"solid\"}, \"mode\": \"lines\", \"name\": \"Ameritech Financial\", \"showlegend\": true, \"type\": \"scattergl\", \"x\": [\"2018-01-31T00:00:00\", \"2018-02-28T00:00:00\", \"2018-03-31T00:00:00\", \"2018-04-30T00:00:00\", \"2018-05-31T00:00:00\", \"2018-06-30T00:00:00\", \"2018-07-31T00:00:00\", \"2018-08-31T00:00:00\", \"2018-09-30T00:00:00\", \"2018-10-31T00:00:00\", \"2018-11-30T00:00:00\", \"2018-12-31T00:00:00\", \"2019-01-31T00:00:00\", \"2019-02-28T00:00:00\", \"2019-03-31T00:00:00\", \"2019-04-30T00:00:00\", \"2019-05-31T00:00:00\", \"2019-06-30T00:00:00\", \"2019-07-31T00:00:00\", \"2019-08-31T00:00:00\", \"2019-09-30T00:00:00\", \"2019-10-31T00:00:00\", \"2019-11-30T00:00:00\", \"2019-12-31T00:00:00\", \"2020-01-31T00:00:00\", \"2020-02-29T00:00:00\", \"2020-03-31T00:00:00\", \"2020-04-30T00:00:00\", \"2020-05-31T00:00:00\"], \"xaxis\": \"x\", \"y\": [3, 1, 0, 2, 1, 2, 90, 28, 7, 5, 2, 8, 3, 18, 17, 3, 4, 6, 3, 2, 2, 1, 0, 0, 2, 2, 1, 2, 1], \"yaxis\": \"y\"}, {\"hovertemplate\": \"Companies=BANK OF AMERICA, NATIONAL ASSOCIATION<br>Date=%{x}<br>Complaints=%{y}<extra></extra>\", \"legendgroup\": \"BANK OF AMERICA, NATIONAL ASSOCIATION\", \"line\": {\"color\": \"#8C564B\", \"dash\": \"solid\"}, \"mode\": \"lines\", \"name\": \"BANK OF AMERICA, NATIONAL ASSOCIATION\", \"showlegend\": true, \"type\": \"scattergl\", \"x\": [\"2018-01-31T00:00:00\", \"2018-02-28T00:00:00\", \"2018-03-31T00:00:00\", \"2018-04-30T00:00:00\", \"2018-05-31T00:00:00\", \"2018-06-30T00:00:00\", \"2018-07-31T00:00:00\", \"2018-08-31T00:00:00\", \"2018-09-30T00:00:00\", \"2018-10-31T00:00:00\", \"2018-11-30T00:00:00\", \"2018-12-31T00:00:00\", \"2019-01-31T00:00:00\", \"2019-02-28T00:00:00\", \"2019-03-31T00:00:00\", \"2019-04-30T00:00:00\", \"2019-05-31T00:00:00\", \"2019-06-30T00:00:00\", \"2019-07-31T00:00:00\", \"2019-08-31T00:00:00\", \"2019-09-30T00:00:00\", \"2019-10-31T00:00:00\", \"2019-11-30T00:00:00\", \"2019-12-31T00:00:00\", \"2020-01-31T00:00:00\", \"2020-02-29T00:00:00\", \"2020-03-31T00:00:00\", \"2020-04-30T00:00:00\", \"2020-05-31T00:00:00\", \"2020-06-30T00:00:00\", \"2020-07-31T00:00:00\", \"2020-08-31T00:00:00\", \"2020-09-30T00:00:00\", \"2020-10-31T00:00:00\", \"2020-11-30T00:00:00\", \"2020-12-31T00:00:00\", \"2021-01-31T00:00:00\", \"2021-02-28T00:00:00\", \"2021-03-31T00:00:00\"], \"xaxis\": \"x\", \"y\": [711, 662, 790, 936, 762, 686, 731, 700, 678, 741, 496, 419, 455, 414, 540, 699, 650, 638, 716, 767, 695, 702, 603, 656, 693, 626, 675, 806, 690, 794, 718, 769, 851, 923, 880, 1025, 997, 1066, 561], \"yaxis\": \"y\"}, {\"hovertemplate\": \"Companies=BARCLAYS BANK DELAWARE<br>Date=%{x}<br>Complaints=%{y}<extra></extra>\", \"legendgroup\": \"BARCLAYS BANK DELAWARE\", \"line\": {\"color\": \"#E377C2\", \"dash\": \"solid\"}, \"mode\": \"lines\", \"name\": \"BARCLAYS BANK DELAWARE\", \"showlegend\": true, \"type\": \"scattergl\", \"x\": [\"2018-01-31T00:00:00\", \"2018-02-28T00:00:00\", \"2018-03-31T00:00:00\", \"2018-04-30T00:00:00\", \"2018-05-31T00:00:00\", \"2018-06-30T00:00:00\", \"2018-07-31T00:00:00\", \"2018-08-31T00:00:00\", \"2018-09-30T00:00:00\", \"2018-10-31T00:00:00\", \"2018-11-30T00:00:00\", \"2018-12-31T00:00:00\", \"2019-01-31T00:00:00\", \"2019-02-28T00:00:00\", \"2019-03-31T00:00:00\", \"2019-04-30T00:00:00\", \"2019-05-31T00:00:00\", \"2019-06-30T00:00:00\", \"2019-07-31T00:00:00\", \"2019-08-31T00:00:00\", \"2019-09-30T00:00:00\", \"2019-10-31T00:00:00\", \"2019-11-30T00:00:00\", \"2019-12-31T00:00:00\", \"2020-01-31T00:00:00\", \"2020-02-29T00:00:00\", \"2020-03-31T00:00:00\", \"2020-04-30T00:00:00\", \"2020-05-31T00:00:00\", \"2020-06-30T00:00:00\", \"2020-07-31T00:00:00\", \"2020-08-31T00:00:00\", \"2020-09-30T00:00:00\", \"2020-10-31T00:00:00\", \"2020-11-30T00:00:00\", \"2020-12-31T00:00:00\", \"2021-01-31T00:00:00\", \"2021-02-28T00:00:00\", \"2021-03-31T00:00:00\"], \"xaxis\": \"x\", \"y\": [132, 133, 146, 135, 126, 92, 95, 108, 99, 119, 83, 90, 88, 109, 107, 117, 128, 100, 125, 132, 104, 120, 100, 93, 123, 117, 123, 156, 135, 161, 163, 157, 134, 152, 135, 138, 133, 126, 142], \"yaxis\": \"y\"}, {\"hovertemplate\": \"Companies=CAPITAL ONE FINANCIAL CORPORATION<br>Date=%{x}<br>Complaints=%{y}<extra></extra>\", \"legendgroup\": \"CAPITAL ONE FINANCIAL CORPORATION\", \"line\": {\"color\": \"#7F7F7F\", \"dash\": \"solid\"}, \"mode\": \"lines\", \"name\": \"CAPITAL ONE FINANCIAL CORPORATION\", \"showlegend\": true, \"type\": \"scattergl\", \"x\": [\"2018-01-31T00:00:00\", \"2018-02-28T00:00:00\", \"2018-03-31T00:00:00\", \"2018-04-30T00:00:00\", \"2018-05-31T00:00:00\", \"2018-06-30T00:00:00\", \"2018-07-31T00:00:00\", \"2018-08-31T00:00:00\", \"2018-09-30T00:00:00\", \"2018-10-31T00:00:00\", \"2018-11-30T00:00:00\", \"2018-12-31T00:00:00\", \"2019-01-31T00:00:00\", \"2019-02-28T00:00:00\", \"2019-03-31T00:00:00\", \"2019-04-30T00:00:00\", \"2019-05-31T00:00:00\", \"2019-06-30T00:00:00\", \"2019-07-31T00:00:00\", \"2019-08-31T00:00:00\", \"2019-09-30T00:00:00\", \"2019-10-31T00:00:00\", \"2019-11-30T00:00:00\", \"2019-12-31T00:00:00\", \"2020-01-31T00:00:00\", \"2020-02-29T00:00:00\", \"2020-03-31T00:00:00\", \"2020-04-30T00:00:00\", \"2020-05-31T00:00:00\", \"2020-06-30T00:00:00\", \"2020-07-31T00:00:00\", \"2020-08-31T00:00:00\", \"2020-09-30T00:00:00\", \"2020-10-31T00:00:00\", \"2020-11-30T00:00:00\", \"2020-12-31T00:00:00\", \"2021-01-31T00:00:00\", \"2021-02-28T00:00:00\", \"2021-03-31T00:00:00\"], \"xaxis\": \"x\", \"y\": [701, 598, 745, 726, 733, 687, 601, 568, 569, 634, 555, 561, 587, 580, 641, 590, 609, 606, 666, 708, 638, 757, 693, 580, 766, 691, 696, 788, 833, 821, 842, 896, 743, 876, 918, 906, 852, 947, 694], \"yaxis\": \"y\"}, {\"hovertemplate\": \"Companies=CITIBANK, N.A.<br>Date=%{x}<br>Complaints=%{y}<extra></extra>\", \"legendgroup\": \"CITIBANK, N.A.\", \"line\": {\"color\": \"#BCBD22\", \"dash\": \"solid\"}, \"mode\": \"lines\", \"name\": \"CITIBANK, N.A.\", \"showlegend\": true, \"type\": \"scattergl\", \"x\": [\"2018-01-31T00:00:00\", \"2018-02-28T00:00:00\", \"2018-03-31T00:00:00\", \"2018-04-30T00:00:00\", \"2018-05-31T00:00:00\", \"2018-06-30T00:00:00\", \"2018-07-31T00:00:00\", \"2018-08-31T00:00:00\", \"2018-09-30T00:00:00\", \"2018-10-31T00:00:00\", \"2018-11-30T00:00:00\", \"2018-12-31T00:00:00\", \"2019-01-31T00:00:00\", \"2019-02-28T00:00:00\", \"2019-03-31T00:00:00\", \"2019-04-30T00:00:00\", \"2019-05-31T00:00:00\", \"2019-06-30T00:00:00\", \"2019-07-31T00:00:00\", \"2019-08-31T00:00:00\", \"2019-09-30T00:00:00\", \"2019-10-31T00:00:00\", \"2019-11-30T00:00:00\", \"2019-12-31T00:00:00\", \"2020-01-31T00:00:00\", \"2020-02-29T00:00:00\", \"2020-03-31T00:00:00\", \"2020-04-30T00:00:00\", \"2020-05-31T00:00:00\", \"2020-06-30T00:00:00\", \"2020-07-31T00:00:00\", \"2020-08-31T00:00:00\", \"2020-09-30T00:00:00\", \"2020-10-31T00:00:00\", \"2020-11-30T00:00:00\", \"2020-12-31T00:00:00\", \"2021-01-31T00:00:00\", \"2021-02-28T00:00:00\", \"2021-03-31T00:00:00\"], \"xaxis\": \"x\", \"y\": [658, 608, 644, 705, 584, 508, 552, 611, 523, 656, 609, 605, 587, 543, 628, 601, 590, 578, 606, 611, 563, 637, 559, 562, 599, 638, 686, 850, 801, 772, 783, 709, 724, 739, 644, 775, 817, 768, 456], \"yaxis\": \"y\"}, {\"hovertemplate\": \"Companies=CITIZENS FINANCIAL GROUP, INC.<br>Date=%{x}<br>Complaints=%{y}<extra></extra>\", \"legendgroup\": \"CITIZENS FINANCIAL GROUP, INC.\", \"line\": {\"color\": \"#17BECF\", \"dash\": \"solid\"}, \"mode\": \"lines\", \"name\": \"CITIZENS FINANCIAL GROUP, INC.\", \"showlegend\": true, \"type\": \"scattergl\", \"x\": [\"2018-01-31T00:00:00\", \"2018-02-28T00:00:00\", \"2018-03-31T00:00:00\", \"2018-04-30T00:00:00\", \"2018-05-31T00:00:00\", \"2018-06-30T00:00:00\", \"2018-07-31T00:00:00\", \"2018-08-31T00:00:00\", \"2018-09-30T00:00:00\", \"2018-10-31T00:00:00\", \"2018-11-30T00:00:00\", \"2018-12-31T00:00:00\", \"2019-01-31T00:00:00\", \"2019-02-28T00:00:00\", \"2019-03-31T00:00:00\", \"2019-04-30T00:00:00\", \"2019-05-31T00:00:00\", \"2019-06-30T00:00:00\", \"2019-07-31T00:00:00\", \"2019-08-31T00:00:00\", \"2019-09-30T00:00:00\", \"2019-10-31T00:00:00\", \"2019-11-30T00:00:00\", \"2019-12-31T00:00:00\", \"2020-01-31T00:00:00\", \"2020-02-29T00:00:00\", \"2020-03-31T00:00:00\", \"2020-04-30T00:00:00\", \"2020-05-31T00:00:00\", \"2020-06-30T00:00:00\", \"2020-07-31T00:00:00\", \"2020-08-31T00:00:00\", \"2020-09-30T00:00:00\", \"2020-10-31T00:00:00\", \"2020-11-30T00:00:00\", \"2020-12-31T00:00:00\", \"2021-01-31T00:00:00\", \"2021-02-28T00:00:00\", \"2021-03-31T00:00:00\"], \"xaxis\": \"x\", \"y\": [66, 72, 75, 80, 80, 43, 76, 83, 99, 112, 69, 101, 104, 87, 75, 99, 97, 79, 78, 81, 71, 105, 66, 76, 57, 73, 68, 90, 79, 75, 86, 74, 81, 86, 43, 93, 115, 98, 115], \"yaxis\": \"y\"}, {\"hovertemplate\": \"Companies=Chime Financial Inc<br>Date=%{x}<br>Complaints=%{y}<extra></extra>\", \"legendgroup\": \"Chime Financial Inc\", \"line\": {\"color\": \"#1F77B4\", \"dash\": \"solid\"}, \"mode\": \"lines\", \"name\": \"Chime Financial Inc\", \"showlegend\": true, \"type\": \"scattergl\", \"x\": [\"2020-04-30T00:00:00\", \"2020-05-31T00:00:00\", \"2020-06-30T00:00:00\", \"2020-07-31T00:00:00\", \"2020-08-31T00:00:00\", \"2020-09-30T00:00:00\", \"2020-10-31T00:00:00\", \"2020-11-30T00:00:00\", \"2020-12-31T00:00:00\", \"2021-01-31T00:00:00\", \"2021-02-28T00:00:00\", \"2021-03-31T00:00:00\"], \"xaxis\": \"x\", \"y\": [1, 0, 0, 0, 14, 63, 87, 119, 113, 116, 102, 62], \"yaxis\": \"y\"}, {\"hovertemplate\": \"Companies=Coinbase, Inc.<br>Date=%{x}<br>Complaints=%{y}<extra></extra>\", \"legendgroup\": \"Coinbase, Inc.\", \"line\": {\"color\": \"#FF7F0E\", \"dash\": \"solid\"}, \"mode\": \"lines\", \"name\": \"Coinbase, Inc.\", \"showlegend\": true, \"type\": \"scattergl\", \"x\": [\"2018-01-31T00:00:00\", \"2018-02-28T00:00:00\", \"2018-03-31T00:00:00\", \"2018-04-30T00:00:00\", \"2018-05-31T00:00:00\", \"2018-06-30T00:00:00\", \"2018-07-31T00:00:00\", \"2018-08-31T00:00:00\", \"2018-09-30T00:00:00\", \"2018-10-31T00:00:00\", \"2018-11-30T00:00:00\", \"2018-12-31T00:00:00\", \"2019-01-31T00:00:00\", \"2019-02-28T00:00:00\", \"2019-03-31T00:00:00\", \"2019-04-30T00:00:00\", \"2019-05-31T00:00:00\", \"2019-06-30T00:00:00\", \"2019-07-31T00:00:00\", \"2019-08-31T00:00:00\", \"2019-09-30T00:00:00\", \"2019-10-31T00:00:00\", \"2019-11-30T00:00:00\", \"2019-12-31T00:00:00\", \"2020-01-31T00:00:00\", \"2020-02-29T00:00:00\", \"2020-03-31T00:00:00\", \"2020-04-30T00:00:00\", \"2020-05-31T00:00:00\", \"2020-06-30T00:00:00\", \"2020-07-31T00:00:00\", \"2020-08-31T00:00:00\", \"2020-09-30T00:00:00\", \"2020-10-31T00:00:00\", \"2020-11-30T00:00:00\", \"2020-12-31T00:00:00\", \"2021-01-31T00:00:00\", \"2021-02-28T00:00:00\", \"2021-03-31T00:00:00\"], \"xaxis\": \"x\", \"y\": [889, 337, 190, 87, 63, 47, 23, 17, 14, 7, 9, 11, 8, 6, 10, 8, 19, 21, 44, 20, 15, 20, 13, 7, 13, 12, 19, 18, 36, 25, 39, 27, 24, 19, 31, 58, 117, 126, 110], \"yaxis\": \"y\"}, {\"hovertemplate\": \"Companies=Colony Brands, Inc.<br>Date=%{x}<br>Complaints=%{y}<extra></extra>\", \"legendgroup\": \"Colony Brands, Inc.\", \"line\": {\"color\": \"#2CA02C\", \"dash\": \"solid\"}, \"mode\": \"lines\", \"name\": \"Colony Brands, Inc.\", \"showlegend\": true, \"type\": \"scattergl\", \"x\": [\"2018-01-31T00:00:00\", \"2018-02-28T00:00:00\", \"2018-03-31T00:00:00\", \"2018-04-30T00:00:00\", \"2018-05-31T00:00:00\", \"2018-06-30T00:00:00\", \"2018-07-31T00:00:00\", \"2018-08-31T00:00:00\", \"2018-09-30T00:00:00\", \"2018-10-31T00:00:00\", \"2018-11-30T00:00:00\", \"2018-12-31T00:00:00\", \"2019-01-31T00:00:00\", \"2019-02-28T00:00:00\", \"2019-03-31T00:00:00\", \"2019-04-30T00:00:00\", \"2019-05-31T00:00:00\", \"2019-06-30T00:00:00\", \"2019-07-31T00:00:00\", \"2019-08-31T00:00:00\", \"2019-09-30T00:00:00\", \"2019-10-31T00:00:00\", \"2019-11-30T00:00:00\", \"2019-12-31T00:00:00\", \"2020-01-31T00:00:00\", \"2020-02-29T00:00:00\", \"2020-03-31T00:00:00\", \"2020-04-30T00:00:00\", \"2020-05-31T00:00:00\", \"2020-06-30T00:00:00\", \"2020-07-31T00:00:00\", \"2020-08-31T00:00:00\", \"2020-09-30T00:00:00\", \"2020-10-31T00:00:00\", \"2020-11-30T00:00:00\", \"2020-12-31T00:00:00\", \"2021-01-31T00:00:00\", \"2021-02-28T00:00:00\", \"2021-03-31T00:00:00\"], \"xaxis\": \"x\", \"y\": [21, 17, 14, 19, 17, 18, 18, 21, 15, 13, 27, 15, 26, 16, 31, 13, 26, 23, 24, 11, 14, 14, 11, 14, 13, 15, 11, 11, 13, 12, 15, 10, 20, 16, 19, 16, 13, 27, 12], \"yaxis\": \"y\"}, {\"hovertemplate\": \"Companies=DISCOVER BANK<br>Date=%{x}<br>Complaints=%{y}<extra></extra>\", \"legendgroup\": \"DISCOVER BANK\", \"line\": {\"color\": \"#D62728\", \"dash\": \"solid\"}, \"mode\": \"lines\", \"name\": \"DISCOVER BANK\", \"showlegend\": true, \"type\": \"scattergl\", \"x\": [\"2018-01-31T00:00:00\", \"2018-02-28T00:00:00\", \"2018-03-31T00:00:00\", \"2018-04-30T00:00:00\", \"2018-05-31T00:00:00\", \"2018-06-30T00:00:00\", \"2018-07-31T00:00:00\", \"2018-08-31T00:00:00\", \"2018-09-30T00:00:00\", \"2018-10-31T00:00:00\", \"2018-11-30T00:00:00\", \"2018-12-31T00:00:00\", \"2019-01-31T00:00:00\", \"2019-02-28T00:00:00\", \"2019-03-31T00:00:00\", \"2019-04-30T00:00:00\", \"2019-05-31T00:00:00\", \"2019-06-30T00:00:00\", \"2019-07-31T00:00:00\", \"2019-08-31T00:00:00\", \"2019-09-30T00:00:00\", \"2019-10-31T00:00:00\", \"2019-11-30T00:00:00\", \"2019-12-31T00:00:00\", \"2020-01-31T00:00:00\", \"2020-02-29T00:00:00\", \"2020-03-31T00:00:00\", \"2020-04-30T00:00:00\", \"2020-05-31T00:00:00\", \"2020-06-30T00:00:00\", \"2020-07-31T00:00:00\", \"2020-08-31T00:00:00\", \"2020-09-30T00:00:00\", \"2020-10-31T00:00:00\", \"2020-11-30T00:00:00\", \"2020-12-31T00:00:00\", \"2021-01-31T00:00:00\", \"2021-02-28T00:00:00\", \"2021-03-31T00:00:00\"], \"xaxis\": \"x\", \"y\": [172, 174, 195, 182, 183, 165, 140, 200, 151, 147, 161, 138, 145, 148, 177, 168, 178, 193, 195, 188, 171, 209, 179, 190, 208, 203, 227, 243, 198, 216, 205, 224, 177, 235, 215, 228, 220, 277, 154], \"yaxis\": \"y\"}, {\"hovertemplate\": \"Companies=ENCORE CAPITAL GROUP INC.<br>Date=%{x}<br>Complaints=%{y}<extra></extra>\", \"legendgroup\": \"ENCORE CAPITAL GROUP INC.\", \"line\": {\"color\": \"#9467BD\", \"dash\": \"solid\"}, \"mode\": \"lines\", \"name\": \"ENCORE CAPITAL GROUP INC.\", \"showlegend\": true, \"type\": \"scattergl\", \"x\": [\"2018-01-31T00:00:00\", \"2018-02-28T00:00:00\", \"2018-03-31T00:00:00\", \"2018-04-30T00:00:00\", \"2018-05-31T00:00:00\", \"2018-06-30T00:00:00\", \"2018-07-31T00:00:00\", \"2018-08-31T00:00:00\", \"2018-09-30T00:00:00\", \"2018-10-31T00:00:00\", \"2018-11-30T00:00:00\", \"2018-12-31T00:00:00\", \"2019-01-31T00:00:00\", \"2019-02-28T00:00:00\", \"2019-03-31T00:00:00\", \"2019-04-30T00:00:00\", \"2019-05-31T00:00:00\", \"2019-06-30T00:00:00\", \"2019-07-31T00:00:00\", \"2019-08-31T00:00:00\", \"2019-09-30T00:00:00\", \"2019-10-31T00:00:00\", \"2019-11-30T00:00:00\", \"2019-12-31T00:00:00\", \"2020-01-31T00:00:00\", \"2020-02-29T00:00:00\", \"2020-03-31T00:00:00\", \"2020-04-30T00:00:00\", \"2020-05-31T00:00:00\", \"2020-06-30T00:00:00\", \"2020-07-31T00:00:00\", \"2020-08-31T00:00:00\", \"2020-09-30T00:00:00\", \"2020-10-31T00:00:00\", \"2020-11-30T00:00:00\", \"2020-12-31T00:00:00\", \"2021-01-31T00:00:00\", \"2021-02-28T00:00:00\", \"2021-03-31T00:00:00\"], \"xaxis\": \"x\", \"y\": [152, 163, 196, 183, 182, 162, 147, 142, 130, 159, 127, 108, 100, 119, 181, 165, 168, 129, 122, 132, 160, 126, 129, 145, 166, 171, 184, 138, 149, 141, 136, 164, 181, 170, 169, 180, 174, 245, 131], \"yaxis\": \"y\"}, {\"hovertemplate\": \"Companies=EQUIFAX, INC.<br>Date=%{x}<br>Complaints=%{y}<extra></extra>\", \"legendgroup\": \"EQUIFAX, INC.\", \"line\": {\"color\": \"#8C564B\", \"dash\": \"solid\"}, \"mode\": \"lines\", \"name\": \"EQUIFAX, INC.\", \"showlegend\": true, \"type\": \"scattergl\", \"x\": [\"2018-01-31T00:00:00\", \"2018-02-28T00:00:00\", \"2018-03-31T00:00:00\", \"2018-04-30T00:00:00\", \"2018-05-31T00:00:00\", \"2018-06-30T00:00:00\", \"2018-07-31T00:00:00\", \"2018-08-31T00:00:00\", \"2018-09-30T00:00:00\", \"2018-10-31T00:00:00\", \"2018-11-30T00:00:00\", \"2018-12-31T00:00:00\", \"2019-01-31T00:00:00\", \"2019-02-28T00:00:00\", \"2019-03-31T00:00:00\", \"2019-04-30T00:00:00\", \"2019-05-31T00:00:00\", \"2019-06-30T00:00:00\", \"2019-07-31T00:00:00\", \"2019-08-31T00:00:00\", \"2019-09-30T00:00:00\", \"2019-10-31T00:00:00\", \"2019-11-30T00:00:00\", \"2019-12-31T00:00:00\", \"2020-01-31T00:00:00\", \"2020-02-29T00:00:00\", \"2020-03-31T00:00:00\", \"2020-04-30T00:00:00\", \"2020-05-31T00:00:00\", \"2020-06-30T00:00:00\", \"2020-07-31T00:00:00\", \"2020-08-31T00:00:00\", \"2020-09-30T00:00:00\", \"2020-10-31T00:00:00\", \"2020-11-30T00:00:00\", \"2020-12-31T00:00:00\", \"2021-01-31T00:00:00\", \"2021-02-28T00:00:00\", \"2021-03-31T00:00:00\"], \"xaxis\": \"x\", \"y\": [2376, 2484, 2406, 2647, 2529, 2311, 2523, 2590, 2369, 2818, 2586, 2418, 2354, 2571, 3206, 3145, 3338, 3519, 3957, 4058, 3743, 4048, 3570, 3409, 4446, 3971, 5202, 5995, 6572, 6322, 6875, 6562, 7133, 8019, 7634, 9657, 9299, 6729, 5428], \"yaxis\": \"y\"}, {\"hovertemplate\": \"Companies=Experian Information Solutions Inc.<br>Date=%{x}<br>Complaints=%{y}<extra></extra>\", \"legendgroup\": \"Experian Information Solutions Inc.\", \"line\": {\"color\": \"#E377C2\", \"dash\": \"solid\"}, \"mode\": \"lines\", \"name\": \"Experian Information Solutions Inc.\", \"showlegend\": true, \"type\": \"scattergl\", \"x\": [\"2018-01-31T00:00:00\", \"2018-02-28T00:00:00\", \"2018-03-31T00:00:00\", \"2018-04-30T00:00:00\", \"2018-05-31T00:00:00\", \"2018-06-30T00:00:00\", \"2018-07-31T00:00:00\", \"2018-08-31T00:00:00\", \"2018-09-30T00:00:00\", \"2018-10-31T00:00:00\", \"2018-11-30T00:00:00\", \"2018-12-31T00:00:00\", \"2019-01-31T00:00:00\", \"2019-02-28T00:00:00\", \"2019-03-31T00:00:00\", \"2019-04-30T00:00:00\", \"2019-05-31T00:00:00\", \"2019-06-30T00:00:00\", \"2019-07-31T00:00:00\", \"2019-08-31T00:00:00\", \"2019-09-30T00:00:00\", \"2019-10-31T00:00:00\", \"2019-11-30T00:00:00\", \"2019-12-31T00:00:00\", \"2020-01-31T00:00:00\", \"2020-02-29T00:00:00\", \"2020-03-31T00:00:00\", \"2020-04-30T00:00:00\", \"2020-05-31T00:00:00\", \"2020-06-30T00:00:00\", \"2020-07-31T00:00:00\", \"2020-08-31T00:00:00\", \"2020-09-30T00:00:00\", \"2020-10-31T00:00:00\", \"2020-11-30T00:00:00\", \"2020-12-31T00:00:00\", \"2021-01-31T00:00:00\", \"2021-02-28T00:00:00\", \"2021-03-31T00:00:00\"], \"xaxis\": \"x\", \"y\": [2539, 2578, 2648, 2825, 2548, 2375, 2469, 2566, 2165, 2629, 2341, 2238, 2280, 2587, 2981, 2912, 3167, 3164, 3235, 3577, 3194, 3625, 3179, 3103, 4065, 3890, 4866, 6202, 7276, 7549, 8262, 8119, 8632, 9943, 9159, 11258, 3633, 2098, 1780], \"yaxis\": \"y\"}, {\"hovertemplate\": \"Companies=JPMORGAN CHASE & CO.<br>Date=%{x}<br>Complaints=%{y}<extra></extra>\", \"legendgroup\": \"JPMORGAN CHASE & CO.\", \"line\": {\"color\": \"#7F7F7F\", \"dash\": \"solid\"}, \"mode\": \"lines\", \"name\": \"JPMORGAN CHASE & CO.\", \"showlegend\": true, \"type\": \"scattergl\", \"x\": [\"2018-01-31T00:00:00\", \"2018-02-28T00:00:00\", \"2018-03-31T00:00:00\", \"2018-04-30T00:00:00\", \"2018-05-31T00:00:00\", \"2018-06-30T00:00:00\", \"2018-07-31T00:00:00\", \"2018-08-31T00:00:00\", \"2018-09-30T00:00:00\", \"2018-10-31T00:00:00\", \"2018-11-30T00:00:00\", \"2018-12-31T00:00:00\", \"2019-01-31T00:00:00\", \"2019-02-28T00:00:00\", \"2019-03-31T00:00:00\", \"2019-04-30T00:00:00\", \"2019-05-31T00:00:00\", \"2019-06-30T00:00:00\", \"2019-07-31T00:00:00\", \"2019-08-31T00:00:00\", \"2019-09-30T00:00:00\", \"2019-10-31T00:00:00\", \"2019-11-30T00:00:00\", \"2019-12-31T00:00:00\", \"2020-01-31T00:00:00\", \"2020-02-29T00:00:00\", \"2020-03-31T00:00:00\", \"2020-04-30T00:00:00\", \"2020-05-31T00:00:00\", \"2020-06-30T00:00:00\", \"2020-07-31T00:00:00\", \"2020-08-31T00:00:00\", \"2020-09-30T00:00:00\", \"2020-10-31T00:00:00\", \"2020-11-30T00:00:00\", \"2020-12-31T00:00:00\", \"2021-01-31T00:00:00\", \"2021-02-28T00:00:00\", \"2021-03-31T00:00:00\"], \"xaxis\": \"x\", \"y\": [745, 723, 811, 920, 828, 683, 722, 746, 640, 727, 695, 666, 756, 634, 756, 749, 778, 710, 688, 762, 659, 657, 541, 570, 616, 597, 707, 832, 780, 868, 941, 831, 749, 776, 740, 785, 793, 816, 464], \"yaxis\": \"y\"}, {\"hovertemplate\": \"Companies=Mobiloans, LLC<br>Date=%{x}<br>Complaints=%{y}<extra></extra>\", \"legendgroup\": \"Mobiloans, LLC\", \"line\": {\"color\": \"#BCBD22\", \"dash\": \"solid\"}, \"mode\": \"lines\", \"name\": \"Mobiloans, LLC\", \"showlegend\": true, \"type\": \"scattergl\", \"x\": [\"2018-01-31T00:00:00\", \"2018-02-28T00:00:00\", \"2018-03-31T00:00:00\", \"2018-04-30T00:00:00\", \"2018-05-31T00:00:00\", \"2018-06-30T00:00:00\", \"2018-07-31T00:00:00\", \"2018-08-31T00:00:00\", \"2018-09-30T00:00:00\", \"2018-10-31T00:00:00\", \"2018-11-30T00:00:00\", \"2018-12-31T00:00:00\", \"2019-01-31T00:00:00\", \"2019-02-28T00:00:00\", \"2019-03-31T00:00:00\", \"2019-04-30T00:00:00\", \"2019-05-31T00:00:00\", \"2019-06-30T00:00:00\", \"2019-07-31T00:00:00\", \"2019-08-31T00:00:00\", \"2019-09-30T00:00:00\", \"2019-10-31T00:00:00\", \"2019-11-30T00:00:00\", \"2019-12-31T00:00:00\", \"2020-01-31T00:00:00\", \"2020-02-29T00:00:00\", \"2020-03-31T00:00:00\", \"2020-04-30T00:00:00\", \"2020-05-31T00:00:00\", \"2020-06-30T00:00:00\", \"2020-07-31T00:00:00\", \"2020-08-31T00:00:00\", \"2020-09-30T00:00:00\", \"2020-10-31T00:00:00\", \"2020-11-30T00:00:00\", \"2020-12-31T00:00:00\", \"2021-01-31T00:00:00\", \"2021-02-28T00:00:00\"], \"xaxis\": \"x\", \"y\": [3, 6, 5, 5, 4, 5, 2, 6, 3, 9, 3, 3, 5, 4, 3, 3, 4, 5, 10, 4, 2, 6, 3, 6, 5, 5, 4, 3, 2, 3, 4, 6, 2, 3, 3, 1, 2, 2], \"yaxis\": \"y\"}, {\"hovertemplate\": \"Companies=NAVY FEDERAL CREDIT UNION<br>Date=%{x}<br>Complaints=%{y}<extra></extra>\", \"legendgroup\": \"NAVY FEDERAL CREDIT UNION\", \"line\": {\"color\": \"#17BECF\", \"dash\": \"solid\"}, \"mode\": \"lines\", \"name\": \"NAVY FEDERAL CREDIT UNION\", \"showlegend\": true, \"type\": \"scattergl\", \"x\": [\"2018-01-31T00:00:00\", \"2018-02-28T00:00:00\", \"2018-03-31T00:00:00\", \"2018-04-30T00:00:00\", \"2018-05-31T00:00:00\", \"2018-06-30T00:00:00\", \"2018-07-31T00:00:00\", \"2018-08-31T00:00:00\", \"2018-09-30T00:00:00\", \"2018-10-31T00:00:00\", \"2018-11-30T00:00:00\", \"2018-12-31T00:00:00\", \"2019-01-31T00:00:00\", \"2019-02-28T00:00:00\", \"2019-03-31T00:00:00\", \"2019-04-30T00:00:00\", \"2019-05-31T00:00:00\", \"2019-06-30T00:00:00\", \"2019-07-31T00:00:00\", \"2019-08-31T00:00:00\", \"2019-09-30T00:00:00\", \"2019-10-31T00:00:00\", \"2019-11-30T00:00:00\", \"2019-12-31T00:00:00\", \"2020-01-31T00:00:00\", \"2020-02-29T00:00:00\", \"2020-03-31T00:00:00\", \"2020-04-30T00:00:00\", \"2020-05-31T00:00:00\", \"2020-06-30T00:00:00\", \"2020-07-31T00:00:00\", \"2020-08-31T00:00:00\", \"2020-09-30T00:00:00\", \"2020-10-31T00:00:00\", \"2020-11-30T00:00:00\", \"2020-12-31T00:00:00\", \"2021-01-31T00:00:00\", \"2021-02-28T00:00:00\", \"2021-03-31T00:00:00\"], \"xaxis\": \"x\", \"y\": [103, 112, 105, 77, 107, 99, 78, 114, 67, 96, 88, 87, 88, 126, 74, 92, 95, 84, 101, 118, 94, 111, 96, 83, 103, 94, 121, 124, 111, 137, 144, 159, 125, 126, 116, 138, 162, 150, 206], \"yaxis\": \"y\"}, {\"hovertemplate\": \"Companies=Navient Solutions, LLC.<br>Date=%{x}<br>Complaints=%{y}<extra></extra>\", \"legendgroup\": \"Navient Solutions, LLC.\", \"line\": {\"color\": \"#1F77B4\", \"dash\": \"solid\"}, \"mode\": \"lines\", \"name\": \"Navient Solutions, LLC.\", \"showlegend\": true, \"type\": \"scattergl\", \"x\": [\"2018-01-31T00:00:00\", \"2018-02-28T00:00:00\", \"2018-03-31T00:00:00\", \"2018-04-30T00:00:00\", \"2018-05-31T00:00:00\", \"2018-06-30T00:00:00\", \"2018-07-31T00:00:00\", \"2018-08-31T00:00:00\", \"2018-09-30T00:00:00\", \"2018-10-31T00:00:00\", \"2018-11-30T00:00:00\", \"2018-12-31T00:00:00\", \"2019-01-31T00:00:00\", \"2019-02-28T00:00:00\", \"2019-03-31T00:00:00\", \"2019-04-30T00:00:00\", \"2019-05-31T00:00:00\", \"2019-06-30T00:00:00\", \"2019-07-31T00:00:00\", \"2019-08-31T00:00:00\", \"2019-09-30T00:00:00\", \"2019-10-31T00:00:00\", \"2019-11-30T00:00:00\", \"2019-12-31T00:00:00\", \"2020-01-31T00:00:00\", \"2020-02-29T00:00:00\", \"2020-03-31T00:00:00\", \"2020-04-30T00:00:00\", \"2020-05-31T00:00:00\", \"2020-06-30T00:00:00\", \"2020-07-31T00:00:00\", \"2020-08-31T00:00:00\", \"2020-09-30T00:00:00\", \"2020-10-31T00:00:00\", \"2020-11-30T00:00:00\", \"2020-12-31T00:00:00\", \"2021-01-31T00:00:00\", \"2021-02-28T00:00:00\", \"2021-03-31T00:00:00\"], \"xaxis\": \"x\", \"y\": [529, 430, 497, 484, 444, 361, 434, 425, 356, 372, 358, 412, 455, 439, 396, 329, 268, 324, 305, 288, 231, 313, 254, 194, 223, 222, 205, 209, 191, 183, 159, 155, 110, 162, 166, 166, 187, 150, 112], \"yaxis\": \"y\"}, {\"hovertemplate\": \"Companies=PNC Bank N.A.<br>Date=%{x}<br>Complaints=%{y}<extra></extra>\", \"legendgroup\": \"PNC Bank N.A.\", \"line\": {\"color\": \"#FF7F0E\", \"dash\": \"solid\"}, \"mode\": \"lines\", \"name\": \"PNC Bank N.A.\", \"showlegend\": true, \"type\": \"scattergl\", \"x\": [\"2018-01-31T00:00:00\", \"2018-02-28T00:00:00\", \"2018-03-31T00:00:00\", \"2018-04-30T00:00:00\", \"2018-05-31T00:00:00\", \"2018-06-30T00:00:00\", \"2018-07-31T00:00:00\", \"2018-08-31T00:00:00\", \"2018-09-30T00:00:00\", \"2018-10-31T00:00:00\", \"2018-11-30T00:00:00\", \"2018-12-31T00:00:00\", \"2019-01-31T00:00:00\", \"2019-02-28T00:00:00\", \"2019-03-31T00:00:00\", \"2019-04-30T00:00:00\", \"2019-05-31T00:00:00\", \"2019-06-30T00:00:00\", \"2019-07-31T00:00:00\", \"2019-08-31T00:00:00\", \"2019-09-30T00:00:00\", \"2019-10-31T00:00:00\", \"2019-11-30T00:00:00\", \"2019-12-31T00:00:00\", \"2020-01-31T00:00:00\", \"2020-02-29T00:00:00\", \"2020-03-31T00:00:00\", \"2020-04-30T00:00:00\", \"2020-05-31T00:00:00\", \"2020-06-30T00:00:00\", \"2020-07-31T00:00:00\", \"2020-08-31T00:00:00\", \"2020-09-30T00:00:00\", \"2020-10-31T00:00:00\", \"2020-11-30T00:00:00\", \"2020-12-31T00:00:00\", \"2021-01-31T00:00:00\", \"2021-02-28T00:00:00\", \"2021-03-31T00:00:00\"], \"xaxis\": \"x\", \"y\": [105, 126, 140, 192, 140, 141, 166, 151, 117, 146, 123, 103, 115, 123, 142, 149, 128, 130, 112, 125, 119, 144, 106, 113, 115, 119, 125, 332, 318, 1065, 1062, 458, 148, 122, 94, 128, 124, 120, 72], \"yaxis\": \"y\"}, {\"hovertemplate\": \"Companies=PORTFOLIO RECOVERY ASSOCIATES INC<br>Date=%{x}<br>Complaints=%{y}<extra></extra>\", \"legendgroup\": \"PORTFOLIO RECOVERY ASSOCIATES INC\", \"line\": {\"color\": \"#2CA02C\", \"dash\": \"solid\"}, \"mode\": \"lines\", \"name\": \"PORTFOLIO RECOVERY ASSOCIATES INC\", \"showlegend\": true, \"type\": \"scattergl\", \"x\": [\"2018-01-31T00:00:00\", \"2018-02-28T00:00:00\", \"2018-03-31T00:00:00\", \"2018-04-30T00:00:00\", \"2018-05-31T00:00:00\", \"2018-06-30T00:00:00\", \"2018-07-31T00:00:00\", \"2018-08-31T00:00:00\", \"2018-09-30T00:00:00\", \"2018-10-31T00:00:00\", \"2018-11-30T00:00:00\", \"2018-12-31T00:00:00\", \"2019-01-31T00:00:00\", \"2019-02-28T00:00:00\", \"2019-03-31T00:00:00\", \"2019-04-30T00:00:00\", \"2019-05-31T00:00:00\", \"2019-06-30T00:00:00\", \"2019-07-31T00:00:00\", \"2019-08-31T00:00:00\", \"2019-09-30T00:00:00\", \"2019-10-31T00:00:00\", \"2019-11-30T00:00:00\", \"2019-12-31T00:00:00\", \"2020-01-31T00:00:00\", \"2020-02-29T00:00:00\", \"2020-03-31T00:00:00\", \"2020-04-30T00:00:00\", \"2020-05-31T00:00:00\", \"2020-06-30T00:00:00\", \"2020-07-31T00:00:00\", \"2020-08-31T00:00:00\", \"2020-09-30T00:00:00\", \"2020-10-31T00:00:00\", \"2020-11-30T00:00:00\", \"2020-12-31T00:00:00\", \"2021-01-31T00:00:00\", \"2021-02-28T00:00:00\", \"2021-03-31T00:00:00\"], \"xaxis\": \"x\", \"y\": [255, 246, 301, 282, 307, 220, 232, 228, 205, 255, 174, 176, 166, 212, 201, 202, 192, 199, 186, 192, 209, 190, 158, 152, 201, 181, 242, 228, 249, 219, 264, 316, 307, 300, 331, 322, 345, 386, 219], \"yaxis\": \"y\"}, {\"hovertemplate\": \"Companies=Paypal Holdings, Inc<br>Date=%{x}<br>Complaints=%{y}<extra></extra>\", \"legendgroup\": \"Paypal Holdings, Inc\", \"line\": {\"color\": \"#D62728\", \"dash\": \"solid\"}, \"mode\": \"lines\", \"name\": \"Paypal Holdings, Inc\", \"showlegend\": true, \"type\": \"scattergl\", \"x\": [\"2018-01-31T00:00:00\", \"2018-02-28T00:00:00\", \"2018-03-31T00:00:00\", \"2018-04-30T00:00:00\", \"2018-05-31T00:00:00\", \"2018-06-30T00:00:00\", \"2018-07-31T00:00:00\", \"2018-08-31T00:00:00\", \"2018-09-30T00:00:00\", \"2018-10-31T00:00:00\", \"2018-11-30T00:00:00\", \"2018-12-31T00:00:00\", \"2019-01-31T00:00:00\", \"2019-02-28T00:00:00\", \"2019-03-31T00:00:00\", \"2019-04-30T00:00:00\", \"2019-05-31T00:00:00\", \"2019-06-30T00:00:00\", \"2019-07-31T00:00:00\", \"2019-08-31T00:00:00\", \"2019-09-30T00:00:00\", \"2019-10-31T00:00:00\", \"2019-11-30T00:00:00\", \"2019-12-31T00:00:00\", \"2020-01-31T00:00:00\", \"2020-02-29T00:00:00\", \"2020-03-31T00:00:00\", \"2020-04-30T00:00:00\", \"2020-05-31T00:00:00\", \"2020-06-30T00:00:00\", \"2020-07-31T00:00:00\", \"2020-08-31T00:00:00\", \"2020-09-30T00:00:00\", \"2020-10-31T00:00:00\", \"2020-11-30T00:00:00\", \"2020-12-31T00:00:00\", \"2021-01-31T00:00:00\", \"2021-02-28T00:00:00\", \"2021-03-31T00:00:00\"], \"xaxis\": \"x\", \"y\": [77, 82, 72, 83, 73, 78, 69, 95, 72, 88, 90, 108, 120, 126, 129, 122, 142, 137, 148, 128, 142, 145, 147, 142, 124, 122, 124, 190, 221, 271, 277, 267, 216, 230, 191, 264, 234, 486, 335], \"yaxis\": \"y\"}, {\"hovertemplate\": \"Companies=Premier\\u00a0Student\\u00a0Loan\\u00a0Center<br>Date=%{x}<br>Complaints=%{y}<extra></extra>\", \"legendgroup\": \"Premier\\u00a0Student\\u00a0Loan\\u00a0Center\", \"line\": {\"color\": \"#9467BD\", \"dash\": \"solid\"}, \"mode\": \"lines\", \"name\": \"Premier\\u00a0Student\\u00a0Loan\\u00a0Center\", \"showlegend\": true, \"type\": \"scattergl\", \"x\": [\"2018-01-31T00:00:00\", \"2018-02-28T00:00:00\", \"2018-03-31T00:00:00\", \"2018-04-30T00:00:00\", \"2018-05-31T00:00:00\", \"2018-06-30T00:00:00\", \"2018-07-31T00:00:00\", \"2018-08-31T00:00:00\", \"2018-09-30T00:00:00\", \"2018-10-31T00:00:00\", \"2018-11-30T00:00:00\", \"2018-12-31T00:00:00\", \"2019-01-31T00:00:00\", \"2019-02-28T00:00:00\", \"2019-03-31T00:00:00\", \"2019-04-30T00:00:00\", \"2019-05-31T00:00:00\", \"2019-06-30T00:00:00\", \"2019-07-31T00:00:00\", \"2019-08-31T00:00:00\", \"2019-09-30T00:00:00\", \"2019-10-31T00:00:00\", \"2019-11-30T00:00:00\", \"2019-12-31T00:00:00\", \"2020-01-31T00:00:00\", \"2020-02-29T00:00:00\", \"2020-03-31T00:00:00\", \"2020-04-30T00:00:00\", \"2020-05-31T00:00:00\", \"2020-06-30T00:00:00\", \"2020-07-31T00:00:00\", \"2020-08-31T00:00:00\", \"2020-09-30T00:00:00\", \"2020-10-31T00:00:00\", \"2020-11-30T00:00:00\", \"2020-12-31T00:00:00\", \"2021-01-31T00:00:00\"], \"xaxis\": \"x\", \"y\": [2, 7, 2, 4, 4, 9, 7, 7, 4, 3, 5, 3, 9, 2, 6, 5, 5, 2, 4, 1, 2, 6, 20, 18, 15, 13, 8, 2, 1, 1, 1, 0, 0, 2, 2, 1, 2], \"yaxis\": \"y\"}, {\"hovertemplate\": \"Companies=SYNCHRONY FINANCIAL<br>Date=%{x}<br>Complaints=%{y}<extra></extra>\", \"legendgroup\": \"SYNCHRONY FINANCIAL\", \"line\": {\"color\": \"#8C564B\", \"dash\": \"solid\"}, \"mode\": \"lines\", \"name\": \"SYNCHRONY FINANCIAL\", \"showlegend\": true, \"type\": \"scattergl\", \"x\": [\"2018-01-31T00:00:00\", \"2018-02-28T00:00:00\", \"2018-03-31T00:00:00\", \"2018-04-30T00:00:00\", \"2018-05-31T00:00:00\", \"2018-06-30T00:00:00\", \"2018-07-31T00:00:00\", \"2018-08-31T00:00:00\", \"2018-09-30T00:00:00\", \"2018-10-31T00:00:00\", \"2018-11-30T00:00:00\", \"2018-12-31T00:00:00\", \"2019-01-31T00:00:00\", \"2019-02-28T00:00:00\", \"2019-03-31T00:00:00\", \"2019-04-30T00:00:00\", \"2019-05-31T00:00:00\", \"2019-06-30T00:00:00\", \"2019-07-31T00:00:00\", \"2019-08-31T00:00:00\", \"2019-09-30T00:00:00\", \"2019-10-31T00:00:00\", \"2019-11-30T00:00:00\", \"2019-12-31T00:00:00\", \"2020-01-31T00:00:00\", \"2020-02-29T00:00:00\", \"2020-03-31T00:00:00\", \"2020-04-30T00:00:00\", \"2020-05-31T00:00:00\", \"2020-06-30T00:00:00\", \"2020-07-31T00:00:00\", \"2020-08-31T00:00:00\", \"2020-09-30T00:00:00\", \"2020-10-31T00:00:00\", \"2020-11-30T00:00:00\", \"2020-12-31T00:00:00\", \"2021-01-31T00:00:00\", \"2021-02-28T00:00:00\", \"2021-03-31T00:00:00\"], \"xaxis\": \"x\", \"y\": [412, 367, 433, 404, 399, 354, 395, 431, 359, 429, 362, 331, 341, 311, 466, 415, 401, 385, 422, 443, 366, 355, 430, 319, 337, 364, 345, 388, 405, 401, 469, 450, 409, 404, 422, 448, 417, 494, 240], \"yaxis\": \"y\"}, {\"hovertemplate\": \"Companies=Santander Consumer USA Holdings Inc.<br>Date=%{x}<br>Complaints=%{y}<extra></extra>\", \"legendgroup\": \"Santander Consumer USA Holdings Inc.\", \"line\": {\"color\": \"#E377C2\", \"dash\": \"solid\"}, \"mode\": \"lines\", \"name\": \"Santander Consumer USA Holdings Inc.\", \"showlegend\": true, \"type\": \"scattergl\", \"x\": [\"2018-01-31T00:00:00\", \"2018-02-28T00:00:00\", \"2018-03-31T00:00:00\", \"2018-04-30T00:00:00\", \"2018-05-31T00:00:00\", \"2018-06-30T00:00:00\", \"2018-07-31T00:00:00\", \"2018-08-31T00:00:00\", \"2018-09-30T00:00:00\", \"2018-10-31T00:00:00\", \"2018-11-30T00:00:00\", \"2018-12-31T00:00:00\", \"2019-01-31T00:00:00\", \"2019-02-28T00:00:00\", \"2019-03-31T00:00:00\", \"2019-04-30T00:00:00\", \"2019-05-31T00:00:00\", \"2019-06-30T00:00:00\", \"2019-07-31T00:00:00\", \"2019-08-31T00:00:00\", \"2019-09-30T00:00:00\", \"2019-10-31T00:00:00\", \"2019-11-30T00:00:00\", \"2019-12-31T00:00:00\", \"2020-01-31T00:00:00\", \"2020-02-29T00:00:00\", \"2020-03-31T00:00:00\", \"2020-04-30T00:00:00\", \"2020-05-31T00:00:00\", \"2020-06-30T00:00:00\", \"2020-07-31T00:00:00\", \"2020-08-31T00:00:00\", \"2020-09-30T00:00:00\", \"2020-10-31T00:00:00\", \"2020-11-30T00:00:00\", \"2020-12-31T00:00:00\", \"2021-01-31T00:00:00\", \"2021-02-28T00:00:00\", \"2021-03-31T00:00:00\"], \"xaxis\": \"x\", \"y\": [118, 119, 119, 122, 113, 102, 105, 118, 109, 110, 101, 91, 88, 105, 112, 114, 110, 108, 118, 93, 100, 102, 97, 78, 88, 91, 122, 120, 174, 173, 178, 200, 170, 219, 196, 184, 230, 225, 130], \"yaxis\": \"y\"}, {\"hovertemplate\": \"Companies=TD BANK US HOLDING COMPANY<br>Date=%{x}<br>Complaints=%{y}<extra></extra>\", \"legendgroup\": \"TD BANK US HOLDING COMPANY\", \"line\": {\"color\": \"#7F7F7F\", \"dash\": \"solid\"}, \"mode\": \"lines\", \"name\": \"TD BANK US HOLDING COMPANY\", \"showlegend\": true, \"type\": \"scattergl\", \"x\": [\"2018-01-31T00:00:00\", \"2018-02-28T00:00:00\", \"2018-03-31T00:00:00\", \"2018-04-30T00:00:00\", \"2018-05-31T00:00:00\", \"2018-06-30T00:00:00\", \"2018-07-31T00:00:00\", \"2018-08-31T00:00:00\", \"2018-09-30T00:00:00\", \"2018-10-31T00:00:00\", \"2018-11-30T00:00:00\", \"2018-12-31T00:00:00\", \"2019-01-31T00:00:00\", \"2019-02-28T00:00:00\", \"2019-03-31T00:00:00\", \"2019-04-30T00:00:00\", \"2019-05-31T00:00:00\", \"2019-06-30T00:00:00\", \"2019-07-31T00:00:00\", \"2019-08-31T00:00:00\", \"2019-09-30T00:00:00\", \"2019-10-31T00:00:00\", \"2019-11-30T00:00:00\", \"2019-12-31T00:00:00\", \"2020-01-31T00:00:00\", \"2020-02-29T00:00:00\", \"2020-03-31T00:00:00\", \"2020-04-30T00:00:00\", \"2020-05-31T00:00:00\", \"2020-06-30T00:00:00\", \"2020-07-31T00:00:00\", \"2020-08-31T00:00:00\", \"2020-09-30T00:00:00\", \"2020-10-31T00:00:00\", \"2020-11-30T00:00:00\", \"2020-12-31T00:00:00\", \"2021-01-31T00:00:00\", \"2021-02-28T00:00:00\", \"2021-03-31T00:00:00\"], \"xaxis\": \"x\", \"y\": [307, 155, 205, 215, 146, 158, 157, 185, 138, 167, 145, 139, 146, 123, 150, 150, 148, 153, 170, 195, 187, 162, 149, 147, 162, 160, 160, 186, 203, 202, 224, 250, 225, 214, 216, 246, 265, 276, 131], \"yaxis\": \"y\"}, {\"hovertemplate\": \"Companies=TRANSUNION INTERMEDIATE HOLDINGS, INC.<br>Date=%{x}<br>Complaints=%{y}<extra></extra>\", \"legendgroup\": \"TRANSUNION INTERMEDIATE HOLDINGS, INC.\", \"line\": {\"color\": \"#BCBD22\", \"dash\": \"solid\"}, \"mode\": \"lines\", \"name\": \"TRANSUNION INTERMEDIATE HOLDINGS, INC.\", \"showlegend\": true, \"type\": \"scattergl\", \"x\": [\"2018-01-31T00:00:00\", \"2018-02-28T00:00:00\", \"2018-03-31T00:00:00\", \"2018-04-30T00:00:00\", \"2018-05-31T00:00:00\", \"2018-06-30T00:00:00\", \"2018-07-31T00:00:00\", \"2018-08-31T00:00:00\", \"2018-09-30T00:00:00\", \"2018-10-31T00:00:00\", \"2018-11-30T00:00:00\", \"2018-12-31T00:00:00\", \"2019-01-31T00:00:00\", \"2019-02-28T00:00:00\", \"2019-03-31T00:00:00\", \"2019-04-30T00:00:00\", \"2019-05-31T00:00:00\", \"2019-06-30T00:00:00\", \"2019-07-31T00:00:00\", \"2019-08-31T00:00:00\", \"2019-09-30T00:00:00\", \"2019-10-31T00:00:00\", \"2019-11-30T00:00:00\", \"2019-12-31T00:00:00\", \"2020-01-31T00:00:00\", \"2020-02-29T00:00:00\", \"2020-03-31T00:00:00\", \"2020-04-30T00:00:00\", \"2020-05-31T00:00:00\", \"2020-06-30T00:00:00\", \"2020-07-31T00:00:00\", \"2020-08-31T00:00:00\", \"2020-09-30T00:00:00\", \"2020-10-31T00:00:00\", \"2020-11-30T00:00:00\", \"2020-12-31T00:00:00\", \"2021-01-31T00:00:00\", \"2021-02-28T00:00:00\", \"2021-03-31T00:00:00\"], \"xaxis\": \"x\", \"y\": [2376, 2310, 2446, 2599, 2452, 2190, 2326, 2429, 2235, 2596, 2267, 2126, 2176, 2460, 2982, 3042, 3380, 3409, 3686, 3931, 3454, 3765, 3347, 3242, 4308, 3881, 5225, 6339, 7122, 7090, 7701, 7579, 7829, 9131, 8444, 10456, 11478, 5328, 8874], \"yaxis\": \"y\"}, {\"hovertemplate\": \"Companies=U.S. BANCORP<br>Date=%{x}<br>Complaints=%{y}<extra></extra>\", \"legendgroup\": \"U.S. BANCORP\", \"line\": {\"color\": \"#17BECF\", \"dash\": \"solid\"}, \"mode\": \"lines\", \"name\": \"U.S. BANCORP\", \"showlegend\": true, \"type\": \"scattergl\", \"x\": [\"2018-01-31T00:00:00\", \"2018-02-28T00:00:00\", \"2018-03-31T00:00:00\", \"2018-04-30T00:00:00\", \"2018-05-31T00:00:00\", \"2018-06-30T00:00:00\", \"2018-07-31T00:00:00\", \"2018-08-31T00:00:00\", \"2018-09-30T00:00:00\", \"2018-10-31T00:00:00\", \"2018-11-30T00:00:00\", \"2018-12-31T00:00:00\", \"2019-01-31T00:00:00\", \"2019-02-28T00:00:00\", \"2019-03-31T00:00:00\", \"2019-04-30T00:00:00\", \"2019-05-31T00:00:00\", \"2019-06-30T00:00:00\", \"2019-07-31T00:00:00\", \"2019-08-31T00:00:00\", \"2019-09-30T00:00:00\", \"2019-10-31T00:00:00\", \"2019-11-30T00:00:00\", \"2019-12-31T00:00:00\", \"2020-01-31T00:00:00\", \"2020-02-29T00:00:00\", \"2020-03-31T00:00:00\", \"2020-04-30T00:00:00\", \"2020-05-31T00:00:00\", \"2020-06-30T00:00:00\", \"2020-07-31T00:00:00\", \"2020-08-31T00:00:00\", \"2020-09-30T00:00:00\", \"2020-10-31T00:00:00\", \"2020-11-30T00:00:00\", \"2020-12-31T00:00:00\", \"2021-01-31T00:00:00\", \"2021-02-28T00:00:00\", \"2021-03-31T00:00:00\"], \"xaxis\": \"x\", \"y\": [205, 185, 227, 257, 185, 173, 175, 229, 183, 205, 173, 194, 177, 150, 220, 194, 198, 203, 241, 218, 220, 235, 206, 211, 214, 211, 226, 382, 261, 289, 380, 420, 446, 487, 444, 394, 418, 379, 258], \"yaxis\": \"y\"}, {\"hovertemplate\": \"Companies=WELLS FARGO & COMPANY<br>Date=%{x}<br>Complaints=%{y}<extra></extra>\", \"legendgroup\": \"WELLS FARGO & COMPANY\", \"line\": {\"color\": \"#1F77B4\", \"dash\": \"solid\"}, \"mode\": \"lines\", \"name\": \"WELLS FARGO & COMPANY\", \"showlegend\": true, \"type\": \"scattergl\", \"x\": [\"2018-01-31T00:00:00\", \"2018-02-28T00:00:00\", \"2018-03-31T00:00:00\", \"2018-04-30T00:00:00\", \"2018-05-31T00:00:00\", \"2018-06-30T00:00:00\", \"2018-07-31T00:00:00\", \"2018-08-31T00:00:00\", \"2018-09-30T00:00:00\", \"2018-10-31T00:00:00\", \"2018-11-30T00:00:00\", \"2018-12-31T00:00:00\", \"2019-01-31T00:00:00\", \"2019-02-28T00:00:00\", \"2019-03-31T00:00:00\", \"2019-04-30T00:00:00\", \"2019-05-31T00:00:00\", \"2019-06-30T00:00:00\", \"2019-07-31T00:00:00\", \"2019-08-31T00:00:00\", \"2019-09-30T00:00:00\", \"2019-10-31T00:00:00\", \"2019-11-30T00:00:00\", \"2019-12-31T00:00:00\", \"2020-01-31T00:00:00\", \"2020-02-29T00:00:00\", \"2020-03-31T00:00:00\", \"2020-04-30T00:00:00\", \"2020-05-31T00:00:00\", \"2020-06-30T00:00:00\", \"2020-07-31T00:00:00\", \"2020-08-31T00:00:00\", \"2020-09-30T00:00:00\", \"2020-10-31T00:00:00\", \"2020-11-30T00:00:00\", \"2020-12-31T00:00:00\", \"2021-01-31T00:00:00\", \"2021-02-28T00:00:00\", \"2021-03-31T00:00:00\"], \"xaxis\": \"x\", \"y\": [714, 697, 842, 1015, 818, 706, 696, 776, 658, 672, 577, 618, 600, 659, 743, 674, 718, 649, 686, 602, 512, 595, 478, 507, 561, 557, 608, 605, 645, 677, 704, 664, 675, 654, 565, 619, 613, 639, 424], \"yaxis\": \"y\"}],                        {\"height\": 600, \"legend\": {\"orientation\": \"h\", \"title\": {}, \"tracegroupgap\": 0, \"x\": 0.7, \"xanchor\": \"center\", \"y\": 1, \"yanchor\": \"bottom\"}, \"template\": {\"data\": {\"bar\": [{\"error_x\": {\"color\": \"rgb(36,36,36)\"}, \"error_y\": {\"color\": \"rgb(36,36,36)\"}, \"marker\": {\"line\": {\"color\": \"white\", \"width\": 0.5}}, \"type\": \"bar\"}], \"barpolar\": [{\"marker\": {\"line\": {\"color\": \"white\", \"width\": 0.5}}, \"type\": \"barpolar\"}], \"carpet\": [{\"aaxis\": {\"endlinecolor\": \"rgb(36,36,36)\", \"gridcolor\": \"white\", \"linecolor\": \"white\", \"minorgridcolor\": \"white\", \"startlinecolor\": \"rgb(36,36,36)\"}, \"baxis\": {\"endlinecolor\": \"rgb(36,36,36)\", \"gridcolor\": \"white\", \"linecolor\": \"white\", \"minorgridcolor\": \"white\", \"startlinecolor\": \"rgb(36,36,36)\"}, \"type\": \"carpet\"}], \"choropleth\": [{\"colorbar\": {\"outlinewidth\": 1, \"tickcolor\": \"rgb(36,36,36)\", \"ticks\": \"outside\"}, \"type\": \"choropleth\"}], \"contour\": [{\"colorbar\": {\"outlinewidth\": 1, \"tickcolor\": \"rgb(36,36,36)\", \"ticks\": \"outside\"}, \"colorscale\": [[0.0, \"#440154\"], [0.1111111111111111, \"#482878\"], [0.2222222222222222, \"#3e4989\"], [0.3333333333333333, \"#31688e\"], [0.4444444444444444, \"#26828e\"], [0.5555555555555556, \"#1f9e89\"], [0.6666666666666666, \"#35b779\"], [0.7777777777777778, \"#6ece58\"], [0.8888888888888888, \"#b5de2b\"], [1.0, \"#fde725\"]], \"type\": \"contour\"}], \"contourcarpet\": [{\"colorbar\": {\"outlinewidth\": 1, \"tickcolor\": \"rgb(36,36,36)\", \"ticks\": \"outside\"}, \"type\": \"contourcarpet\"}], \"heatmap\": [{\"colorbar\": {\"outlinewidth\": 1, \"tickcolor\": \"rgb(36,36,36)\", \"ticks\": \"outside\"}, \"colorscale\": [[0.0, \"#440154\"], [0.1111111111111111, \"#482878\"], [0.2222222222222222, \"#3e4989\"], [0.3333333333333333, \"#31688e\"], [0.4444444444444444, \"#26828e\"], [0.5555555555555556, \"#1f9e89\"], [0.6666666666666666, \"#35b779\"], [0.7777777777777778, \"#6ece58\"], [0.8888888888888888, \"#b5de2b\"], [1.0, \"#fde725\"]], \"type\": \"heatmap\"}], \"heatmapgl\": [{\"colorbar\": {\"outlinewidth\": 1, \"tickcolor\": \"rgb(36,36,36)\", \"ticks\": \"outside\"}, \"colorscale\": [[0.0, \"#440154\"], [0.1111111111111111, \"#482878\"], [0.2222222222222222, \"#3e4989\"], [0.3333333333333333, \"#31688e\"], [0.4444444444444444, \"#26828e\"], [0.5555555555555556, \"#1f9e89\"], [0.6666666666666666, \"#35b779\"], [0.7777777777777778, \"#6ece58\"], [0.8888888888888888, \"#b5de2b\"], [1.0, \"#fde725\"]], \"type\": \"heatmapgl\"}], \"histogram\": [{\"marker\": {\"line\": {\"color\": \"white\", \"width\": 0.6}}, \"type\": \"histogram\"}], \"histogram2d\": [{\"colorbar\": {\"outlinewidth\": 1, \"tickcolor\": \"rgb(36,36,36)\", \"ticks\": \"outside\"}, \"colorscale\": [[0.0, \"#440154\"], [0.1111111111111111, \"#482878\"], [0.2222222222222222, \"#3e4989\"], [0.3333333333333333, \"#31688e\"], [0.4444444444444444, \"#26828e\"], [0.5555555555555556, \"#1f9e89\"], [0.6666666666666666, \"#35b779\"], [0.7777777777777778, \"#6ece58\"], [0.8888888888888888, \"#b5de2b\"], [1.0, \"#fde725\"]], \"type\": \"histogram2d\"}], \"histogram2dcontour\": [{\"colorbar\": {\"outlinewidth\": 1, \"tickcolor\": \"rgb(36,36,36)\", \"ticks\": \"outside\"}, \"colorscale\": [[0.0, \"#440154\"], [0.1111111111111111, \"#482878\"], [0.2222222222222222, \"#3e4989\"], [0.3333333333333333, \"#31688e\"], [0.4444444444444444, \"#26828e\"], [0.5555555555555556, \"#1f9e89\"], [0.6666666666666666, \"#35b779\"], [0.7777777777777778, \"#6ece58\"], [0.8888888888888888, \"#b5de2b\"], [1.0, \"#fde725\"]], \"type\": \"histogram2dcontour\"}], \"mesh3d\": [{\"colorbar\": {\"outlinewidth\": 1, \"tickcolor\": \"rgb(36,36,36)\", \"ticks\": \"outside\"}, \"type\": \"mesh3d\"}], \"parcoords\": [{\"line\": {\"colorbar\": {\"outlinewidth\": 1, \"tickcolor\": \"rgb(36,36,36)\", \"ticks\": \"outside\"}}, \"type\": \"parcoords\"}], \"pie\": [{\"automargin\": true, \"type\": \"pie\"}], \"scatter\": [{\"marker\": {\"colorbar\": {\"outlinewidth\": 1, \"tickcolor\": \"rgb(36,36,36)\", \"ticks\": \"outside\"}}, \"type\": \"scatter\"}], \"scatter3d\": [{\"line\": {\"colorbar\": {\"outlinewidth\": 1, \"tickcolor\": \"rgb(36,36,36)\", \"ticks\": \"outside\"}}, \"marker\": {\"colorbar\": {\"outlinewidth\": 1, \"tickcolor\": \"rgb(36,36,36)\", \"ticks\": \"outside\"}}, \"type\": \"scatter3d\"}], \"scattercarpet\": [{\"marker\": {\"colorbar\": {\"outlinewidth\": 1, \"tickcolor\": \"rgb(36,36,36)\", \"ticks\": \"outside\"}}, \"type\": \"scattercarpet\"}], \"scattergeo\": [{\"marker\": {\"colorbar\": {\"outlinewidth\": 1, \"tickcolor\": \"rgb(36,36,36)\", \"ticks\": \"outside\"}}, \"type\": \"scattergeo\"}], \"scattergl\": [{\"marker\": {\"colorbar\": {\"outlinewidth\": 1, \"tickcolor\": \"rgb(36,36,36)\", \"ticks\": \"outside\"}}, \"type\": \"scattergl\"}], \"scattermapbox\": [{\"marker\": {\"colorbar\": {\"outlinewidth\": 1, \"tickcolor\": \"rgb(36,36,36)\", \"ticks\": \"outside\"}}, \"type\": \"scattermapbox\"}], \"scatterpolar\": [{\"marker\": {\"colorbar\": {\"outlinewidth\": 1, \"tickcolor\": \"rgb(36,36,36)\", \"ticks\": \"outside\"}}, \"type\": \"scatterpolar\"}], \"scatterpolargl\": [{\"marker\": {\"colorbar\": {\"outlinewidth\": 1, \"tickcolor\": \"rgb(36,36,36)\", \"ticks\": \"outside\"}}, \"type\": \"scatterpolargl\"}], \"scatterternary\": [{\"marker\": {\"colorbar\": {\"outlinewidth\": 1, \"tickcolor\": \"rgb(36,36,36)\", \"ticks\": \"outside\"}}, \"type\": \"scatterternary\"}], \"surface\": [{\"colorbar\": {\"outlinewidth\": 1, \"tickcolor\": \"rgb(36,36,36)\", \"ticks\": \"outside\"}, \"colorscale\": [[0.0, \"#440154\"], [0.1111111111111111, \"#482878\"], [0.2222222222222222, \"#3e4989\"], [0.3333333333333333, \"#31688e\"], [0.4444444444444444, \"#26828e\"], [0.5555555555555556, \"#1f9e89\"], [0.6666666666666666, \"#35b779\"], [0.7777777777777778, \"#6ece58\"], [0.8888888888888888, \"#b5de2b\"], [1.0, \"#fde725\"]], \"type\": \"surface\"}], \"table\": [{\"cells\": {\"fill\": {\"color\": \"rgb(237,237,237)\"}, \"line\": {\"color\": \"white\"}}, \"header\": {\"fill\": {\"color\": \"rgb(217,217,217)\"}, \"line\": {\"color\": \"white\"}}, \"type\": \"table\"}]}, \"layout\": {\"annotationdefaults\": {\"arrowhead\": 0, \"arrowwidth\": 1}, \"autotypenumbers\": \"strict\", \"coloraxis\": {\"colorbar\": {\"outlinewidth\": 1, \"tickcolor\": \"rgb(36,36,36)\", \"ticks\": \"outside\"}}, \"colorscale\": {\"diverging\": [[0.0, \"rgb(103,0,31)\"], [0.1, \"rgb(178,24,43)\"], [0.2, \"rgb(214,96,77)\"], [0.3, \"rgb(244,165,130)\"], [0.4, \"rgb(253,219,199)\"], [0.5, \"rgb(247,247,247)\"], [0.6, \"rgb(209,229,240)\"], [0.7, \"rgb(146,197,222)\"], [0.8, \"rgb(67,147,195)\"], [0.9, \"rgb(33,102,172)\"], [1.0, \"rgb(5,48,97)\"]], \"sequential\": [[0.0, \"#440154\"], [0.1111111111111111, \"#482878\"], [0.2222222222222222, \"#3e4989\"], [0.3333333333333333, \"#31688e\"], [0.4444444444444444, \"#26828e\"], [0.5555555555555556, \"#1f9e89\"], [0.6666666666666666, \"#35b779\"], [0.7777777777777778, \"#6ece58\"], [0.8888888888888888, \"#b5de2b\"], [1.0, \"#fde725\"]], \"sequentialminus\": [[0.0, \"#440154\"], [0.1111111111111111, \"#482878\"], [0.2222222222222222, \"#3e4989\"], [0.3333333333333333, \"#31688e\"], [0.4444444444444444, \"#26828e\"], [0.5555555555555556, \"#1f9e89\"], [0.6666666666666666, \"#35b779\"], [0.7777777777777778, \"#6ece58\"], [0.8888888888888888, \"#b5de2b\"], [1.0, \"#fde725\"]]}, \"colorway\": [\"#1F77B4\", \"#FF7F0E\", \"#2CA02C\", \"#D62728\", \"#9467BD\", \"#8C564B\", \"#E377C2\", \"#7F7F7F\", \"#BCBD22\", \"#17BECF\"], \"font\": {\"color\": \"rgb(36,36,36)\"}, \"geo\": {\"bgcolor\": \"white\", \"lakecolor\": \"white\", \"landcolor\": \"white\", \"showlakes\": true, \"showland\": true, \"subunitcolor\": \"white\"}, \"hoverlabel\": {\"align\": \"left\"}, \"hovermode\": \"closest\", \"mapbox\": {\"style\": \"light\"}, \"paper_bgcolor\": \"white\", \"plot_bgcolor\": \"white\", \"polar\": {\"angularaxis\": {\"gridcolor\": \"rgb(232,232,232)\", \"linecolor\": \"rgb(36,36,36)\", \"showgrid\": false, \"showline\": true, \"ticks\": \"outside\"}, \"bgcolor\": \"white\", \"radialaxis\": {\"gridcolor\": \"rgb(232,232,232)\", \"linecolor\": \"rgb(36,36,36)\", \"showgrid\": false, \"showline\": true, \"ticks\": \"outside\"}}, \"scene\": {\"xaxis\": {\"backgroundcolor\": \"white\", \"gridcolor\": \"rgb(232,232,232)\", \"gridwidth\": 2, \"linecolor\": \"rgb(36,36,36)\", \"showbackground\": true, \"showgrid\": false, \"showline\": true, \"ticks\": \"outside\", \"zeroline\": false, \"zerolinecolor\": \"rgb(36,36,36)\"}, \"yaxis\": {\"backgroundcolor\": \"white\", \"gridcolor\": \"rgb(232,232,232)\", \"gridwidth\": 2, \"linecolor\": \"rgb(36,36,36)\", \"showbackground\": true, \"showgrid\": false, \"showline\": true, \"ticks\": \"outside\", \"zeroline\": false, \"zerolinecolor\": \"rgb(36,36,36)\"}, \"zaxis\": {\"backgroundcolor\": \"white\", \"gridcolor\": \"rgb(232,232,232)\", \"gridwidth\": 2, \"linecolor\": \"rgb(36,36,36)\", \"showbackground\": true, \"showgrid\": false, \"showline\": true, \"ticks\": \"outside\", \"zeroline\": false, \"zerolinecolor\": \"rgb(36,36,36)\"}}, \"shapedefaults\": {\"fillcolor\": \"black\", \"line\": {\"width\": 0}, \"opacity\": 0.3}, \"ternary\": {\"aaxis\": {\"gridcolor\": \"rgb(232,232,232)\", \"linecolor\": \"rgb(36,36,36)\", \"showgrid\": false, \"showline\": true, \"ticks\": \"outside\"}, \"baxis\": {\"gridcolor\": \"rgb(232,232,232)\", \"linecolor\": \"rgb(36,36,36)\", \"showgrid\": false, \"showline\": true, \"ticks\": \"outside\"}, \"bgcolor\": \"white\", \"caxis\": {\"gridcolor\": \"rgb(232,232,232)\", \"linecolor\": \"rgb(36,36,36)\", \"showgrid\": false, \"showline\": true, \"ticks\": \"outside\"}}, \"title\": {\"x\": 0.05}, \"xaxis\": {\"automargin\": true, \"gridcolor\": \"rgb(232,232,232)\", \"linecolor\": \"rgb(36,36,36)\", \"showgrid\": false, \"showline\": true, \"ticks\": \"outside\", \"title\": {\"standoff\": 15}, \"zeroline\": false, \"zerolinecolor\": \"rgb(36,36,36)\"}, \"yaxis\": {\"automargin\": true, \"gridcolor\": \"rgb(232,232,232)\", \"linecolor\": \"rgb(36,36,36)\", \"showgrid\": false, \"showline\": true, \"ticks\": \"outside\", \"title\": {\"standoff\": 15}, \"zeroline\": false, \"zerolinecolor\": \"rgb(36,36,36)\"}}}, \"title\": {\"text\": \"Monthly Complaints\"}, \"width\": 800, \"xaxis\": {\"anchor\": \"y\", \"domain\": [0.0, 1.0], \"title\": {\"text\": \"Date\"}}, \"yaxis\": {\"anchor\": \"x\", \"domain\": [0.0, 1.0], \"title\": {\"text\": \"Complaints\"}}},                        {\"responsive\": true}                    ).then(function(){\n",
       "                            \n",
       "var gd = document.getElementById('bc939f84-0150-4c32-9f2f-1a2ceabd613c');\n",
       "var x = new MutationObserver(function (mutations, observer) {{\n",
       "        var display = window.getComputedStyle(gd).display;\n",
       "        if (!display || display === 'none') {{\n",
       "            console.log([gd, 'removed!']);\n",
       "            Plotly.purge(gd);\n",
       "            observer.disconnect();\n",
       "        }}\n",
       "}});\n",
       "\n",
       "// Listen for the removal of the full notebook cells\n",
       "var notebookContainer = gd.closest('#notebook-container');\n",
       "if (notebookContainer) {{\n",
       "    x.observe(notebookContainer, {childList: true});\n",
       "}}\n",
       "\n",
       "// Listen for the clearing of the current output cell\n",
       "var outputEl = gd.closest('.output');\n",
       "if (outputEl) {{\n",
       "    x.observe(outputEl, {childList: true});\n",
       "}}\n",
       "\n",
       "                        })                };                });            </script>        </div>"
      ]
     },
     "metadata": {},
     "output_type": "display_data"
    }
   ],
   "source": [
    "# Looking that trend by companies\n",
    "compl_p_month = df[['complaint_id', 'company_name']].groupby(['company_name']) \\\n",
    ".resample('M').count()['complaint_id'].reset_index()\n",
    "\n",
    "# Plot: Complaints per month\n",
    "fig = px.line(compl_p_month, x='date_received', y='complaint_id', color='company_name',\n",
    "              title='Monthly Complaints', labels={'company_name': 'Companies',\n",
    "                                                  'date_received': 'Date',\n",
    "                                                  'complaint_id': 'Complaints'\n",
    "                                                  }, width=800, height=600, template='simple_white')\n",
    "\n",
    "fig.update_layout(legend=dict(title=None, orientation=\"h\", y=1, yanchor=\"bottom\", x=0.7, xanchor=\"center\"))"
   ]
  },
  {
   "cell_type": "markdown",
   "id": "dress-dover",
   "metadata": {},
   "source": [
    "**Three companies are responsible for the trend**. 1. The monthly complaints seems stable among companies, despite the three first.\n",
    "\n",
    "### What is the average monthly complaints per company? are they statistically different? "
   ]
  },
  {
   "cell_type": "code",
   "execution_count": 91,
   "id": "vital-subcommittee",
   "metadata": {
    "ExecuteTime": {
     "end_time": "2021-03-31T10:03:17.464565Z",
     "start_time": "2021-03-31T10:03:17.349948Z"
    }
   },
   "outputs": [
    {
     "data": {
      "text/html": [
       "<div>\n",
       "<style scoped>\n",
       "    .dataframe tbody tr th:only-of-type {\n",
       "        vertical-align: middle;\n",
       "    }\n",
       "\n",
       "    .dataframe tbody tr th {\n",
       "        vertical-align: top;\n",
       "    }\n",
       "\n",
       "    .dataframe thead tr th {\n",
       "        text-align: left;\n",
       "    }\n",
       "\n",
       "    .dataframe thead tr:last-of-type th {\n",
       "        text-align: right;\n",
       "    }\n",
       "</style>\n",
       "<table border=\"1\" class=\"dataframe\">\n",
       "  <thead>\n",
       "    <tr>\n",
       "      <th></th>\n",
       "      <th colspan=\"8\" halign=\"left\">complaint_id</th>\n",
       "    </tr>\n",
       "    <tr>\n",
       "      <th></th>\n",
       "      <th>count</th>\n",
       "      <th>mean</th>\n",
       "      <th>std</th>\n",
       "      <th>min</th>\n",
       "      <th>25%</th>\n",
       "      <th>50%</th>\n",
       "      <th>75%</th>\n",
       "      <th>max</th>\n",
       "    </tr>\n",
       "    <tr>\n",
       "      <th>company_name</th>\n",
       "      <th></th>\n",
       "      <th></th>\n",
       "      <th></th>\n",
       "      <th></th>\n",
       "      <th></th>\n",
       "      <th></th>\n",
       "      <th></th>\n",
       "      <th></th>\n",
       "    </tr>\n",
       "  </thead>\n",
       "  <tbody>\n",
       "    <tr>\n",
       "      <th>TRANSUNION INTERMEDIATE HOLDINGS, INC.</th>\n",
       "      <td>39.0</td>\n",
       "      <td>4564.384615</td>\n",
       "      <td>2648.616726</td>\n",
       "      <td>2126.0</td>\n",
       "      <td>2449.00</td>\n",
       "      <td>3409.0</td>\n",
       "      <td>6714.50</td>\n",
       "      <td>11478.0</td>\n",
       "    </tr>\n",
       "    <tr>\n",
       "      <th>EQUIFAX, INC.</th>\n",
       "      <td>39.0</td>\n",
       "      <td>4379.974359</td>\n",
       "      <td>2115.199424</td>\n",
       "      <td>2311.0</td>\n",
       "      <td>2578.50</td>\n",
       "      <td>3570.0</td>\n",
       "      <td>6158.50</td>\n",
       "      <td>9657.0</td>\n",
       "    </tr>\n",
       "    <tr>\n",
       "      <th>Experian Information Solutions Inc.</th>\n",
       "      <td>39.0</td>\n",
       "      <td>4196.333333</td>\n",
       "      <td>2547.136931</td>\n",
       "      <td>1780.0</td>\n",
       "      <td>2557.00</td>\n",
       "      <td>3164.0</td>\n",
       "      <td>4465.50</td>\n",
       "      <td>11258.0</td>\n",
       "    </tr>\n",
       "    <tr>\n",
       "      <th>JPMORGAN CHASE &amp; CO.</th>\n",
       "      <td>39.0</td>\n",
       "      <td>729.769231</td>\n",
       "      <td>97.631817</td>\n",
       "      <td>464.0</td>\n",
       "      <td>674.50</td>\n",
       "      <td>745.0</td>\n",
       "      <td>782.50</td>\n",
       "      <td>941.0</td>\n",
       "    </tr>\n",
       "    <tr>\n",
       "      <th>BANK OF AMERICA, NATIONAL ASSOCIATION</th>\n",
       "      <td>39.0</td>\n",
       "      <td>715.923077</td>\n",
       "      <td>150.135795</td>\n",
       "      <td>414.0</td>\n",
       "      <td>653.00</td>\n",
       "      <td>700.0</td>\n",
       "      <td>779.50</td>\n",
       "      <td>1066.0</td>\n",
       "    </tr>\n",
       "    <tr>\n",
       "      <th>CAPITAL ONE FINANCIAL CORPORATION</th>\n",
       "      <td>39.0</td>\n",
       "      <td>707.743590</td>\n",
       "      <td>113.992548</td>\n",
       "      <td>555.0</td>\n",
       "      <td>603.50</td>\n",
       "      <td>694.0</td>\n",
       "      <td>777.00</td>\n",
       "      <td>947.0</td>\n",
       "    </tr>\n",
       "    <tr>\n",
       "      <th>WELLS FARGO &amp; COMPANY</th>\n",
       "      <td>39.0</td>\n",
       "      <td>651.846154</td>\n",
       "      <td>103.905964</td>\n",
       "      <td>424.0</td>\n",
       "      <td>601.00</td>\n",
       "      <td>654.0</td>\n",
       "      <td>696.50</td>\n",
       "      <td>1015.0</td>\n",
       "    </tr>\n",
       "    <tr>\n",
       "      <th>CITIBANK, N.A.</th>\n",
       "      <td>39.0</td>\n",
       "      <td>643.307692</td>\n",
       "      <td>92.390520</td>\n",
       "      <td>456.0</td>\n",
       "      <td>585.50</td>\n",
       "      <td>611.0</td>\n",
       "      <td>707.00</td>\n",
       "      <td>850.0</td>\n",
       "    </tr>\n",
       "    <tr>\n",
       "      <th>SYNCHRONY FINANCIAL</th>\n",
       "      <td>39.0</td>\n",
       "      <td>392.897436</td>\n",
       "      <td>49.925099</td>\n",
       "      <td>240.0</td>\n",
       "      <td>360.50</td>\n",
       "      <td>401.0</td>\n",
       "      <td>425.50</td>\n",
       "      <td>494.0</td>\n",
       "    </tr>\n",
       "    <tr>\n",
       "      <th>Navient Solutions, LLC.</th>\n",
       "      <td>39.0</td>\n",
       "      <td>294.820513</td>\n",
       "      <td>120.758975</td>\n",
       "      <td>110.0</td>\n",
       "      <td>189.00</td>\n",
       "      <td>288.0</td>\n",
       "      <td>404.00</td>\n",
       "      <td>529.0</td>\n",
       "    </tr>\n",
       "    <tr>\n",
       "      <th>U.S. BANCORP</th>\n",
       "      <td>39.0</td>\n",
       "      <td>258.282051</td>\n",
       "      <td>93.479789</td>\n",
       "      <td>150.0</td>\n",
       "      <td>196.00</td>\n",
       "      <td>220.0</td>\n",
       "      <td>275.00</td>\n",
       "      <td>487.0</td>\n",
       "    </tr>\n",
       "    <tr>\n",
       "      <th>AMERICAN EXPRESS COMPANY</th>\n",
       "      <td>39.0</td>\n",
       "      <td>244.435897</td>\n",
       "      <td>41.112679</td>\n",
       "      <td>163.0</td>\n",
       "      <td>227.00</td>\n",
       "      <td>234.0</td>\n",
       "      <td>253.00</td>\n",
       "      <td>362.0</td>\n",
       "    </tr>\n",
       "    <tr>\n",
       "      <th>PORTFOLIO RECOVERY ASSOCIATES INC</th>\n",
       "      <td>39.0</td>\n",
       "      <td>237.179487</td>\n",
       "      <td>57.283630</td>\n",
       "      <td>152.0</td>\n",
       "      <td>195.50</td>\n",
       "      <td>220.0</td>\n",
       "      <td>273.00</td>\n",
       "      <td>386.0</td>\n",
       "    </tr>\n",
       "    <tr>\n",
       "      <th>Alliance Data Card Services</th>\n",
       "      <td>39.0</td>\n",
       "      <td>236.564103</td>\n",
       "      <td>37.628933</td>\n",
       "      <td>176.0</td>\n",
       "      <td>212.50</td>\n",
       "      <td>225.0</td>\n",
       "      <td>257.00</td>\n",
       "      <td>344.0</td>\n",
       "    </tr>\n",
       "    <tr>\n",
       "      <th>PNC Bank N.A.</th>\n",
       "      <td>39.0</td>\n",
       "      <td>193.794872</td>\n",
       "      <td>216.641734</td>\n",
       "      <td>72.0</td>\n",
       "      <td>118.00</td>\n",
       "      <td>126.0</td>\n",
       "      <td>147.00</td>\n",
       "      <td>1065.0</td>\n",
       "    </tr>\n",
       "    <tr>\n",
       "      <th>DISCOVER BANK</th>\n",
       "      <td>39.0</td>\n",
       "      <td>189.205128</td>\n",
       "      <td>31.254624</td>\n",
       "      <td>138.0</td>\n",
       "      <td>169.50</td>\n",
       "      <td>188.0</td>\n",
       "      <td>208.50</td>\n",
       "      <td>277.0</td>\n",
       "    </tr>\n",
       "    <tr>\n",
       "      <th>TD BANK US HOLDING COMPANY</th>\n",
       "      <td>39.0</td>\n",
       "      <td>182.487179</td>\n",
       "      <td>43.765446</td>\n",
       "      <td>123.0</td>\n",
       "      <td>149.50</td>\n",
       "      <td>162.0</td>\n",
       "      <td>209.50</td>\n",
       "      <td>307.0</td>\n",
       "    </tr>\n",
       "    <tr>\n",
       "      <th>AES/PHEAA</th>\n",
       "      <td>39.0</td>\n",
       "      <td>163.641026</td>\n",
       "      <td>42.316158</td>\n",
       "      <td>84.0</td>\n",
       "      <td>130.00</td>\n",
       "      <td>170.0</td>\n",
       "      <td>192.50</td>\n",
       "      <td>246.0</td>\n",
       "    </tr>\n",
       "    <tr>\n",
       "      <th>Paypal Holdings, Inc</th>\n",
       "      <td>39.0</td>\n",
       "      <td>158.128205</td>\n",
       "      <td>87.414674</td>\n",
       "      <td>69.0</td>\n",
       "      <td>92.50</td>\n",
       "      <td>129.0</td>\n",
       "      <td>203.50</td>\n",
       "      <td>486.0</td>\n",
       "    </tr>\n",
       "    <tr>\n",
       "      <th>ENCORE CAPITAL GROUP INC.</th>\n",
       "      <td>39.0</td>\n",
       "      <td>154.512821</td>\n",
       "      <td>27.775294</td>\n",
       "      <td>100.0</td>\n",
       "      <td>131.50</td>\n",
       "      <td>159.0</td>\n",
       "      <td>170.50</td>\n",
       "      <td>245.0</td>\n",
       "    </tr>\n",
       "    <tr>\n",
       "      <th>Santander Consumer USA Holdings Inc.</th>\n",
       "      <td>39.0</td>\n",
       "      <td>129.538462</td>\n",
       "      <td>41.859946</td>\n",
       "      <td>78.0</td>\n",
       "      <td>102.00</td>\n",
       "      <td>114.0</td>\n",
       "      <td>150.00</td>\n",
       "      <td>230.0</td>\n",
       "    </tr>\n",
       "    <tr>\n",
       "      <th>BARCLAYS BANK DELAWARE</th>\n",
       "      <td>39.0</td>\n",
       "      <td>122.461538</td>\n",
       "      <td>21.474399</td>\n",
       "      <td>83.0</td>\n",
       "      <td>105.50</td>\n",
       "      <td>125.0</td>\n",
       "      <td>135.00</td>\n",
       "      <td>163.0</td>\n",
       "    </tr>\n",
       "    <tr>\n",
       "      <th>ALLY FINANCIAL INC.</th>\n",
       "      <td>39.0</td>\n",
       "      <td>111.666667</td>\n",
       "      <td>33.064796</td>\n",
       "      <td>68.0</td>\n",
       "      <td>84.50</td>\n",
       "      <td>104.0</td>\n",
       "      <td>137.00</td>\n",
       "      <td>209.0</td>\n",
       "    </tr>\n",
       "    <tr>\n",
       "      <th>NAVY FEDERAL CREDIT UNION</th>\n",
       "      <td>39.0</td>\n",
       "      <td>110.538462</td>\n",
       "      <td>27.957530</td>\n",
       "      <td>67.0</td>\n",
       "      <td>93.00</td>\n",
       "      <td>105.0</td>\n",
       "      <td>124.50</td>\n",
       "      <td>206.0</td>\n",
       "    </tr>\n",
       "    <tr>\n",
       "      <th>CITIZENS FINANCIAL GROUP, INC.</th>\n",
       "      <td>39.0</td>\n",
       "      <td>82.230769</td>\n",
       "      <td>16.955765</td>\n",
       "      <td>43.0</td>\n",
       "      <td>73.50</td>\n",
       "      <td>80.0</td>\n",
       "      <td>95.00</td>\n",
       "      <td>115.0</td>\n",
       "    </tr>\n",
       "    <tr>\n",
       "      <th>Coinbase, Inc.</th>\n",
       "      <td>39.0</td>\n",
       "      <td>65.615385</td>\n",
       "      <td>148.981916</td>\n",
       "      <td>6.0</td>\n",
       "      <td>13.00</td>\n",
       "      <td>20.0</td>\n",
       "      <td>45.50</td>\n",
       "      <td>889.0</td>\n",
       "    </tr>\n",
       "    <tr>\n",
       "      <th>Chime Financial Inc</th>\n",
       "      <td>12.0</td>\n",
       "      <td>56.416667</td>\n",
       "      <td>50.609842</td>\n",
       "      <td>0.0</td>\n",
       "      <td>0.75</td>\n",
       "      <td>62.5</td>\n",
       "      <td>104.75</td>\n",
       "      <td>119.0</td>\n",
       "    </tr>\n",
       "    <tr>\n",
       "      <th>Colony Brands, Inc.</th>\n",
       "      <td>39.0</td>\n",
       "      <td>16.948718</td>\n",
       "      <td>5.311104</td>\n",
       "      <td>10.0</td>\n",
       "      <td>13.00</td>\n",
       "      <td>15.0</td>\n",
       "      <td>19.50</td>\n",
       "      <td>31.0</td>\n",
       "    </tr>\n",
       "    <tr>\n",
       "      <th>Ameritech Financial</th>\n",
       "      <td>29.0</td>\n",
       "      <td>7.448276</td>\n",
       "      <td>17.062043</td>\n",
       "      <td>0.0</td>\n",
       "      <td>1.00</td>\n",
       "      <td>2.0</td>\n",
       "      <td>5.00</td>\n",
       "      <td>90.0</td>\n",
       "    </tr>\n",
       "    <tr>\n",
       "      <th>Premier Student Loan Center</th>\n",
       "      <td>37.0</td>\n",
       "      <td>5.000000</td>\n",
       "      <td>4.818944</td>\n",
       "      <td>0.0</td>\n",
       "      <td>2.00</td>\n",
       "      <td>4.0</td>\n",
       "      <td>7.00</td>\n",
       "      <td>20.0</td>\n",
       "    </tr>\n",
       "    <tr>\n",
       "      <th>Mobiloans, LLC</th>\n",
       "      <td>38.0</td>\n",
       "      <td>4.052632</td>\n",
       "      <td>1.888047</td>\n",
       "      <td>1.0</td>\n",
       "      <td>3.00</td>\n",
       "      <td>4.0</td>\n",
       "      <td>5.00</td>\n",
       "      <td>10.0</td>\n",
       "    </tr>\n",
       "  </tbody>\n",
       "</table>\n",
       "</div>"
      ],
      "text/plain": [
       "                                       complaint_id                            \\\n",
       "                                              count         mean          std   \n",
       "company_name                                                                    \n",
       "TRANSUNION INTERMEDIATE HOLDINGS, INC.         39.0  4564.384615  2648.616726   \n",
       "EQUIFAX, INC.                                  39.0  4379.974359  2115.199424   \n",
       "Experian Information Solutions Inc.            39.0  4196.333333  2547.136931   \n",
       "JPMORGAN CHASE & CO.                           39.0   729.769231    97.631817   \n",
       "BANK OF AMERICA, NATIONAL ASSOCIATION          39.0   715.923077   150.135795   \n",
       "CAPITAL ONE FINANCIAL CORPORATION              39.0   707.743590   113.992548   \n",
       "WELLS FARGO & COMPANY                          39.0   651.846154   103.905964   \n",
       "CITIBANK, N.A.                                 39.0   643.307692    92.390520   \n",
       "SYNCHRONY FINANCIAL                            39.0   392.897436    49.925099   \n",
       "Navient Solutions, LLC.                        39.0   294.820513   120.758975   \n",
       "U.S. BANCORP                                   39.0   258.282051    93.479789   \n",
       "AMERICAN EXPRESS COMPANY                       39.0   244.435897    41.112679   \n",
       "PORTFOLIO RECOVERY ASSOCIATES INC              39.0   237.179487    57.283630   \n",
       "Alliance Data Card Services                    39.0   236.564103    37.628933   \n",
       "PNC Bank N.A.                                  39.0   193.794872   216.641734   \n",
       "DISCOVER BANK                                  39.0   189.205128    31.254624   \n",
       "TD BANK US HOLDING COMPANY                     39.0   182.487179    43.765446   \n",
       "AES/PHEAA                                      39.0   163.641026    42.316158   \n",
       "Paypal Holdings, Inc                           39.0   158.128205    87.414674   \n",
       "ENCORE CAPITAL GROUP INC.                      39.0   154.512821    27.775294   \n",
       "Santander Consumer USA Holdings Inc.           39.0   129.538462    41.859946   \n",
       "BARCLAYS BANK DELAWARE                         39.0   122.461538    21.474399   \n",
       "ALLY FINANCIAL INC.                            39.0   111.666667    33.064796   \n",
       "NAVY FEDERAL CREDIT UNION                      39.0   110.538462    27.957530   \n",
       "CITIZENS FINANCIAL GROUP, INC.                 39.0    82.230769    16.955765   \n",
       "Coinbase, Inc.                                 39.0    65.615385   148.981916   \n",
       "Chime Financial Inc                            12.0    56.416667    50.609842   \n",
       "Colony Brands, Inc.                            39.0    16.948718     5.311104   \n",
       "Ameritech Financial                            29.0     7.448276    17.062043   \n",
       "Premier Student Loan Center                    37.0     5.000000     4.818944   \n",
       "Mobiloans, LLC                                 38.0     4.052632     1.888047   \n",
       "\n",
       "                                                                          \\\n",
       "                                           min      25%     50%      75%   \n",
       "company_name                                                               \n",
       "TRANSUNION INTERMEDIATE HOLDINGS, INC.  2126.0  2449.00  3409.0  6714.50   \n",
       "EQUIFAX, INC.                           2311.0  2578.50  3570.0  6158.50   \n",
       "Experian Information Solutions Inc.     1780.0  2557.00  3164.0  4465.50   \n",
       "JPMORGAN CHASE & CO.                     464.0   674.50   745.0   782.50   \n",
       "BANK OF AMERICA, NATIONAL ASSOCIATION    414.0   653.00   700.0   779.50   \n",
       "CAPITAL ONE FINANCIAL CORPORATION        555.0   603.50   694.0   777.00   \n",
       "WELLS FARGO & COMPANY                    424.0   601.00   654.0   696.50   \n",
       "CITIBANK, N.A.                           456.0   585.50   611.0   707.00   \n",
       "SYNCHRONY FINANCIAL                      240.0   360.50   401.0   425.50   \n",
       "Navient Solutions, LLC.                  110.0   189.00   288.0   404.00   \n",
       "U.S. BANCORP                             150.0   196.00   220.0   275.00   \n",
       "AMERICAN EXPRESS COMPANY                 163.0   227.00   234.0   253.00   \n",
       "PORTFOLIO RECOVERY ASSOCIATES INC        152.0   195.50   220.0   273.00   \n",
       "Alliance Data Card Services              176.0   212.50   225.0   257.00   \n",
       "PNC Bank N.A.                             72.0   118.00   126.0   147.00   \n",
       "DISCOVER BANK                            138.0   169.50   188.0   208.50   \n",
       "TD BANK US HOLDING COMPANY               123.0   149.50   162.0   209.50   \n",
       "AES/PHEAA                                 84.0   130.00   170.0   192.50   \n",
       "Paypal Holdings, Inc                      69.0    92.50   129.0   203.50   \n",
       "ENCORE CAPITAL GROUP INC.                100.0   131.50   159.0   170.50   \n",
       "Santander Consumer USA Holdings Inc.      78.0   102.00   114.0   150.00   \n",
       "BARCLAYS BANK DELAWARE                    83.0   105.50   125.0   135.00   \n",
       "ALLY FINANCIAL INC.                       68.0    84.50   104.0   137.00   \n",
       "NAVY FEDERAL CREDIT UNION                 67.0    93.00   105.0   124.50   \n",
       "CITIZENS FINANCIAL GROUP, INC.            43.0    73.50    80.0    95.00   \n",
       "Coinbase, Inc.                             6.0    13.00    20.0    45.50   \n",
       "Chime Financial Inc                        0.0     0.75    62.5   104.75   \n",
       "Colony Brands, Inc.                       10.0    13.00    15.0    19.50   \n",
       "Ameritech Financial                        0.0     1.00     2.0     5.00   \n",
       "Premier Student Loan Center                0.0     2.00     4.0     7.00   \n",
       "Mobiloans, LLC                             1.0     3.00     4.0     5.00   \n",
       "\n",
       "                                                 \n",
       "                                            max  \n",
       "company_name                                     \n",
       "TRANSUNION INTERMEDIATE HOLDINGS, INC.  11478.0  \n",
       "EQUIFAX, INC.                            9657.0  \n",
       "Experian Information Solutions Inc.     11258.0  \n",
       "JPMORGAN CHASE & CO.                      941.0  \n",
       "BANK OF AMERICA, NATIONAL ASSOCIATION    1066.0  \n",
       "CAPITAL ONE FINANCIAL CORPORATION         947.0  \n",
       "WELLS FARGO & COMPANY                    1015.0  \n",
       "CITIBANK, N.A.                            850.0  \n",
       "SYNCHRONY FINANCIAL                       494.0  \n",
       "Navient Solutions, LLC.                   529.0  \n",
       "U.S. BANCORP                              487.0  \n",
       "AMERICAN EXPRESS COMPANY                  362.0  \n",
       "PORTFOLIO RECOVERY ASSOCIATES INC         386.0  \n",
       "Alliance Data Card Services               344.0  \n",
       "PNC Bank N.A.                            1065.0  \n",
       "DISCOVER BANK                             277.0  \n",
       "TD BANK US HOLDING COMPANY                307.0  \n",
       "AES/PHEAA                                 246.0  \n",
       "Paypal Holdings, Inc                      486.0  \n",
       "ENCORE CAPITAL GROUP INC.                 245.0  \n",
       "Santander Consumer USA Holdings Inc.      230.0  \n",
       "BARCLAYS BANK DELAWARE                    163.0  \n",
       "ALLY FINANCIAL INC.                       209.0  \n",
       "NAVY FEDERAL CREDIT UNION                 206.0  \n",
       "CITIZENS FINANCIAL GROUP, INC.            115.0  \n",
       "Coinbase, Inc.                            889.0  \n",
       "Chime Financial Inc                       119.0  \n",
       "Colony Brands, Inc.                        31.0  \n",
       "Ameritech Financial                        90.0  \n",
       "Premier Student Loan Center                20.0  \n",
       "Mobiloans, LLC                             10.0  "
      ]
     },
     "execution_count": 91,
     "metadata": {},
     "output_type": "execute_result"
    }
   ],
   "source": [
    "# Some descriptive statistics\n",
    "des_p_month = compl_p_month.groupby(['company_name']).describe().sort_values(by=[('complaint_id', 'mean')],\n",
    "                                                                             ascending=False)\n",
    "des_p_month"
   ]
  },
  {
   "cell_type": "code",
   "execution_count": 98,
   "id": "sunset-blade",
   "metadata": {
    "ExecuteTime": {
     "end_time": "2021-03-31T10:14:48.748312Z",
     "start_time": "2021-03-31T10:14:48.708825Z"
    }
   },
   "outputs": [
    {
     "data": {
      "text/plain": [
       "{'TRANSUNION INTERMEDIATE HOLDINGS, INC.': 1,\n",
       " 'EQUIFAX, INC.': 1,\n",
       " 'Experian Information Solutions Inc.': 1,\n",
       " 'JPMORGAN CHASE & CO.': 2,\n",
       " 'BANK OF AMERICA, NATIONAL ASSOCIATION': 2,\n",
       " 'CAPITAL ONE FINANCIAL CORPORATION': 2,\n",
       " 'WELLS FARGO & COMPANY': 3,\n",
       " 'CITIBANK, N.A.': 3,\n",
       " 'SYNCHRONY FINANCIAL': 4,\n",
       " 'Navient Solutions, LLC.': 5,\n",
       " 'U.S. BANCORP': 5,\n",
       " 'AMERICAN EXPRESS COMPANY': 5,\n",
       " 'PORTFOLIO RECOVERY ASSOCIATES INC': 5,\n",
       " 'Alliance Data Card Services': 5,\n",
       " 'PNC Bank N.A.': 6,\n",
       " 'DISCOVER BANK': 7,\n",
       " 'TD BANK US HOLDING COMPANY': 7,\n",
       " 'AES/PHEAA': 7,\n",
       " 'Paypal Holdings, Inc': 7,\n",
       " 'ENCORE CAPITAL GROUP INC.': 7,\n",
       " 'Santander Consumer USA Holdings Inc.': 8,\n",
       " 'BARCLAYS BANK DELAWARE': 8,\n",
       " 'ALLY FINANCIAL INC.': 9,\n",
       " 'NAVY FEDERAL CREDIT UNION': 9,\n",
       " 'CITIZENS FINANCIAL GROUP, INC.': 10,\n",
       " 'Coinbase, Inc.': 11,\n",
       " 'Chime Financial Inc': 11,\n",
       " 'Colony Brands, Inc.': 11,\n",
       " 'Ameritech Financial': 12,\n",
       " 'Premier\\xa0Student\\xa0Loan\\xa0Center': 12,\n",
       " 'Mobiloans, LLC': 12}"
      ]
     },
     "execution_count": 98,
     "metadata": {},
     "output_type": "execute_result"
    }
   ],
   "source": [
    "# defining loosely statistical groups\n",
    "company_list = des_p_month.index.unique()\n",
    "\n",
    "groups = {}\n",
    "g_num = 1\n",
    "for i in range(0, des_p_month.index.nunique()-1):\n",
    "    p_value = mannwhitneyu(x = compl_p_month.loc[compl_p_month.company_name == company_list[i], \n",
    "                                                 'complaint_id'].to_list(), \n",
    "                           y = compl_p_month.loc[compl_p_month.company_name == company_list[i+1], \n",
    "                                                 'complaint_id'].to_list())[1]\n",
    "    if p_value < 0.05:\n",
    "        groups[company_list[i]] = g_num\n",
    "        g_num += 1\n",
    "        groups[company_list[i+1]] = g_num\n",
    "    else:\n",
    "        groups[company_list[i]] = g_num\n",
    "        groups[company_list[i+1]] = g_num\n",
    "    \n",
    "groups"
   ]
  },
  {
   "cell_type": "markdown",
   "id": "differential-bronze",
   "metadata": {
    "ExecuteTime": {
     "end_time": "2021-03-31T10:04:28.904061Z",
     "start_time": "2021-03-31T10:04:28.898710Z"
    }
   },
   "source": [
    "Appliying a non-parametric test we loosely slit the companies into 12 groups, each groups is statistically similar within it."
   ]
  },
  {
   "cell_type": "code",
   "execution_count": 100,
   "id": "liquid-passing",
   "metadata": {
    "ExecuteTime": {
     "end_time": "2021-03-31T11:12:40.805517Z",
     "start_time": "2021-03-31T11:12:40.578215Z"
    }
   },
   "outputs": [],
   "source": [
    "df['group'] = [groups[key] for key in df.company_name]"
   ]
  },
  {
   "cell_type": "code",
   "execution_count": 326,
   "id": "purple-landscape",
   "metadata": {
    "ExecuteTime": {
     "end_time": "2021-03-31T16:29:17.177236Z",
     "start_time": "2021-03-31T16:29:16.719307Z"
    }
   },
   "outputs": [
    {
     "data": {
      "application/vnd.plotly.v1+json": {
       "config": {
        "plotlyServerURL": "https://plot.ly"
       },
       "data": [
        {
         "alignmentgroup": "True",
         "hovertemplate": "Groups=1<br>Companies=%{x}<br>Monthly complaints=%{y}<extra></extra>",
         "legendgroup": "1",
         "marker": {
          "color": "#1F77B4"
         },
         "name": "1",
         "notched": false,
         "offsetgroup": "1",
         "orientation": "v",
         "showlegend": true,
         "type": "box",
         "x": [
          "EQUIFAX, INC.",
          "EQUIFAX, INC.",
          "EQUIFAX, INC.",
          "EQUIFAX, INC.",
          "EQUIFAX, INC.",
          "EQUIFAX, INC.",
          "EQUIFAX, INC.",
          "EQUIFAX, INC.",
          "EQUIFAX, INC.",
          "EQUIFAX, INC.",
          "EQUIFAX, INC.",
          "EQUIFAX, INC.",
          "EQUIFAX, INC.",
          "EQUIFAX, INC.",
          "EQUIFAX, INC.",
          "EQUIFAX, INC.",
          "EQUIFAX, INC.",
          "EQUIFAX, INC.",
          "EQUIFAX, INC.",
          "EQUIFAX, INC.",
          "EQUIFAX, INC.",
          "EQUIFAX, INC.",
          "EQUIFAX, INC.",
          "EQUIFAX, INC.",
          "EQUIFAX, INC.",
          "EQUIFAX, INC.",
          "EQUIFAX, INC.",
          "EQUIFAX, INC.",
          "EQUIFAX, INC.",
          "EQUIFAX, INC.",
          "EQUIFAX, INC.",
          "EQUIFAX, INC.",
          "EQUIFAX, INC.",
          "EQUIFAX, INC.",
          "EQUIFAX, INC.",
          "EQUIFAX, INC.",
          "EQUIFAX, INC.",
          "EQUIFAX, INC.",
          "EQUIFAX, INC.",
          "Experian Information Solutions Inc.",
          "Experian Information Solutions Inc.",
          "Experian Information Solutions Inc.",
          "Experian Information Solutions Inc.",
          "Experian Information Solutions Inc.",
          "Experian Information Solutions Inc.",
          "Experian Information Solutions Inc.",
          "Experian Information Solutions Inc.",
          "Experian Information Solutions Inc.",
          "Experian Information Solutions Inc.",
          "Experian Information Solutions Inc.",
          "Experian Information Solutions Inc.",
          "Experian Information Solutions Inc.",
          "Experian Information Solutions Inc.",
          "Experian Information Solutions Inc.",
          "Experian Information Solutions Inc.",
          "Experian Information Solutions Inc.",
          "Experian Information Solutions Inc.",
          "Experian Information Solutions Inc.",
          "Experian Information Solutions Inc.",
          "Experian Information Solutions Inc.",
          "Experian Information Solutions Inc.",
          "Experian Information Solutions Inc.",
          "Experian Information Solutions Inc.",
          "Experian Information Solutions Inc.",
          "Experian Information Solutions Inc.",
          "Experian Information Solutions Inc.",
          "Experian Information Solutions Inc.",
          "Experian Information Solutions Inc.",
          "Experian Information Solutions Inc.",
          "Experian Information Solutions Inc.",
          "Experian Information Solutions Inc.",
          "Experian Information Solutions Inc.",
          "Experian Information Solutions Inc.",
          "Experian Information Solutions Inc.",
          "Experian Information Solutions Inc.",
          "Experian Information Solutions Inc.",
          "Experian Information Solutions Inc.",
          "Experian Information Solutions Inc.",
          "TRANSUNION INTERMEDIATE HOLDINGS, INC.",
          "TRANSUNION INTERMEDIATE HOLDINGS, INC.",
          "TRANSUNION INTERMEDIATE HOLDINGS, INC.",
          "TRANSUNION INTERMEDIATE HOLDINGS, INC.",
          "TRANSUNION INTERMEDIATE HOLDINGS, INC.",
          "TRANSUNION INTERMEDIATE HOLDINGS, INC.",
          "TRANSUNION INTERMEDIATE HOLDINGS, INC.",
          "TRANSUNION INTERMEDIATE HOLDINGS, INC.",
          "TRANSUNION INTERMEDIATE HOLDINGS, INC.",
          "TRANSUNION INTERMEDIATE HOLDINGS, INC.",
          "TRANSUNION INTERMEDIATE HOLDINGS, INC.",
          "TRANSUNION INTERMEDIATE HOLDINGS, INC.",
          "TRANSUNION INTERMEDIATE HOLDINGS, INC.",
          "TRANSUNION INTERMEDIATE HOLDINGS, INC.",
          "TRANSUNION INTERMEDIATE HOLDINGS, INC.",
          "TRANSUNION INTERMEDIATE HOLDINGS, INC.",
          "TRANSUNION INTERMEDIATE HOLDINGS, INC.",
          "TRANSUNION INTERMEDIATE HOLDINGS, INC.",
          "TRANSUNION INTERMEDIATE HOLDINGS, INC.",
          "TRANSUNION INTERMEDIATE HOLDINGS, INC.",
          "TRANSUNION INTERMEDIATE HOLDINGS, INC.",
          "TRANSUNION INTERMEDIATE HOLDINGS, INC.",
          "TRANSUNION INTERMEDIATE HOLDINGS, INC.",
          "TRANSUNION INTERMEDIATE HOLDINGS, INC.",
          "TRANSUNION INTERMEDIATE HOLDINGS, INC.",
          "TRANSUNION INTERMEDIATE HOLDINGS, INC.",
          "TRANSUNION INTERMEDIATE HOLDINGS, INC.",
          "TRANSUNION INTERMEDIATE HOLDINGS, INC.",
          "TRANSUNION INTERMEDIATE HOLDINGS, INC.",
          "TRANSUNION INTERMEDIATE HOLDINGS, INC.",
          "TRANSUNION INTERMEDIATE HOLDINGS, INC.",
          "TRANSUNION INTERMEDIATE HOLDINGS, INC.",
          "TRANSUNION INTERMEDIATE HOLDINGS, INC.",
          "TRANSUNION INTERMEDIATE HOLDINGS, INC.",
          "TRANSUNION INTERMEDIATE HOLDINGS, INC.",
          "TRANSUNION INTERMEDIATE HOLDINGS, INC.",
          "TRANSUNION INTERMEDIATE HOLDINGS, INC.",
          "TRANSUNION INTERMEDIATE HOLDINGS, INC.",
          "TRANSUNION INTERMEDIATE HOLDINGS, INC."
         ],
         "x0": " ",
         "xaxis": "x",
         "y": [
          2376,
          2484,
          2406,
          2647,
          2529,
          2311,
          2523,
          2590,
          2369,
          2818,
          2586,
          2418,
          2354,
          2571,
          3206,
          3145,
          3338,
          3519,
          3957,
          4058,
          3743,
          4048,
          3570,
          3409,
          4446,
          3971,
          5202,
          5995,
          6572,
          6322,
          6875,
          6562,
          7133,
          8019,
          7634,
          9657,
          9299,
          6729,
          5428,
          2539,
          2578,
          2648,
          2825,
          2548,
          2375,
          2469,
          2566,
          2165,
          2629,
          2341,
          2238,
          2280,
          2587,
          2981,
          2912,
          3167,
          3164,
          3235,
          3577,
          3194,
          3625,
          3179,
          3103,
          4065,
          3890,
          4866,
          6202,
          7276,
          7549,
          8262,
          8119,
          8632,
          9943,
          9159,
          11258,
          3633,
          2098,
          1780,
          2376,
          2310,
          2446,
          2599,
          2452,
          2190,
          2326,
          2429,
          2235,
          2596,
          2267,
          2126,
          2176,
          2460,
          2982,
          3042,
          3380,
          3409,
          3686,
          3931,
          3454,
          3765,
          3347,
          3242,
          4308,
          3881,
          5225,
          6339,
          7122,
          7090,
          7701,
          7579,
          7829,
          9131,
          8444,
          10456,
          11478,
          5328,
          8874
         ],
         "y0": " ",
         "yaxis": "y"
        },
        {
         "alignmentgroup": "True",
         "hovertemplate": "Groups=2<br>Companies=%{x}<br>Monthly complaints=%{y}<extra></extra>",
         "legendgroup": "2",
         "marker": {
          "color": "#FF7F0E"
         },
         "name": "2",
         "notched": false,
         "offsetgroup": "2",
         "orientation": "v",
         "showlegend": true,
         "type": "box",
         "x": [
          "BANK OF AMERICA, NATIONAL ASSOCIATION",
          "BANK OF AMERICA, NATIONAL ASSOCIATION",
          "BANK OF AMERICA, NATIONAL ASSOCIATION",
          "BANK OF AMERICA, NATIONAL ASSOCIATION",
          "BANK OF AMERICA, NATIONAL ASSOCIATION",
          "BANK OF AMERICA, NATIONAL ASSOCIATION",
          "BANK OF AMERICA, NATIONAL ASSOCIATION",
          "BANK OF AMERICA, NATIONAL ASSOCIATION",
          "BANK OF AMERICA, NATIONAL ASSOCIATION",
          "BANK OF AMERICA, NATIONAL ASSOCIATION",
          "BANK OF AMERICA, NATIONAL ASSOCIATION",
          "BANK OF AMERICA, NATIONAL ASSOCIATION",
          "BANK OF AMERICA, NATIONAL ASSOCIATION",
          "BANK OF AMERICA, NATIONAL ASSOCIATION",
          "BANK OF AMERICA, NATIONAL ASSOCIATION",
          "BANK OF AMERICA, NATIONAL ASSOCIATION",
          "BANK OF AMERICA, NATIONAL ASSOCIATION",
          "BANK OF AMERICA, NATIONAL ASSOCIATION",
          "BANK OF AMERICA, NATIONAL ASSOCIATION",
          "BANK OF AMERICA, NATIONAL ASSOCIATION",
          "BANK OF AMERICA, NATIONAL ASSOCIATION",
          "BANK OF AMERICA, NATIONAL ASSOCIATION",
          "BANK OF AMERICA, NATIONAL ASSOCIATION",
          "BANK OF AMERICA, NATIONAL ASSOCIATION",
          "BANK OF AMERICA, NATIONAL ASSOCIATION",
          "BANK OF AMERICA, NATIONAL ASSOCIATION",
          "BANK OF AMERICA, NATIONAL ASSOCIATION",
          "BANK OF AMERICA, NATIONAL ASSOCIATION",
          "BANK OF AMERICA, NATIONAL ASSOCIATION",
          "BANK OF AMERICA, NATIONAL ASSOCIATION",
          "BANK OF AMERICA, NATIONAL ASSOCIATION",
          "BANK OF AMERICA, NATIONAL ASSOCIATION",
          "BANK OF AMERICA, NATIONAL ASSOCIATION",
          "BANK OF AMERICA, NATIONAL ASSOCIATION",
          "BANK OF AMERICA, NATIONAL ASSOCIATION",
          "BANK OF AMERICA, NATIONAL ASSOCIATION",
          "BANK OF AMERICA, NATIONAL ASSOCIATION",
          "BANK OF AMERICA, NATIONAL ASSOCIATION",
          "BANK OF AMERICA, NATIONAL ASSOCIATION",
          "CAPITAL ONE FINANCIAL CORPORATION",
          "CAPITAL ONE FINANCIAL CORPORATION",
          "CAPITAL ONE FINANCIAL CORPORATION",
          "CAPITAL ONE FINANCIAL CORPORATION",
          "CAPITAL ONE FINANCIAL CORPORATION",
          "CAPITAL ONE FINANCIAL CORPORATION",
          "CAPITAL ONE FINANCIAL CORPORATION",
          "CAPITAL ONE FINANCIAL CORPORATION",
          "CAPITAL ONE FINANCIAL CORPORATION",
          "CAPITAL ONE FINANCIAL CORPORATION",
          "CAPITAL ONE FINANCIAL CORPORATION",
          "CAPITAL ONE FINANCIAL CORPORATION",
          "CAPITAL ONE FINANCIAL CORPORATION",
          "CAPITAL ONE FINANCIAL CORPORATION",
          "CAPITAL ONE FINANCIAL CORPORATION",
          "CAPITAL ONE FINANCIAL CORPORATION",
          "CAPITAL ONE FINANCIAL CORPORATION",
          "CAPITAL ONE FINANCIAL CORPORATION",
          "CAPITAL ONE FINANCIAL CORPORATION",
          "CAPITAL ONE FINANCIAL CORPORATION",
          "CAPITAL ONE FINANCIAL CORPORATION",
          "CAPITAL ONE FINANCIAL CORPORATION",
          "CAPITAL ONE FINANCIAL CORPORATION",
          "CAPITAL ONE FINANCIAL CORPORATION",
          "CAPITAL ONE FINANCIAL CORPORATION",
          "CAPITAL ONE FINANCIAL CORPORATION",
          "CAPITAL ONE FINANCIAL CORPORATION",
          "CAPITAL ONE FINANCIAL CORPORATION",
          "CAPITAL ONE FINANCIAL CORPORATION",
          "CAPITAL ONE FINANCIAL CORPORATION",
          "CAPITAL ONE FINANCIAL CORPORATION",
          "CAPITAL ONE FINANCIAL CORPORATION",
          "CAPITAL ONE FINANCIAL CORPORATION",
          "CAPITAL ONE FINANCIAL CORPORATION",
          "CAPITAL ONE FINANCIAL CORPORATION",
          "CAPITAL ONE FINANCIAL CORPORATION",
          "CAPITAL ONE FINANCIAL CORPORATION",
          "CAPITAL ONE FINANCIAL CORPORATION",
          "CAPITAL ONE FINANCIAL CORPORATION",
          "JPMORGAN CHASE & CO.",
          "JPMORGAN CHASE & CO.",
          "JPMORGAN CHASE & CO.",
          "JPMORGAN CHASE & CO.",
          "JPMORGAN CHASE & CO.",
          "JPMORGAN CHASE & CO.",
          "JPMORGAN CHASE & CO.",
          "JPMORGAN CHASE & CO.",
          "JPMORGAN CHASE & CO.",
          "JPMORGAN CHASE & CO.",
          "JPMORGAN CHASE & CO.",
          "JPMORGAN CHASE & CO.",
          "JPMORGAN CHASE & CO.",
          "JPMORGAN CHASE & CO.",
          "JPMORGAN CHASE & CO.",
          "JPMORGAN CHASE & CO.",
          "JPMORGAN CHASE & CO.",
          "JPMORGAN CHASE & CO.",
          "JPMORGAN CHASE & CO.",
          "JPMORGAN CHASE & CO.",
          "JPMORGAN CHASE & CO.",
          "JPMORGAN CHASE & CO.",
          "JPMORGAN CHASE & CO.",
          "JPMORGAN CHASE & CO.",
          "JPMORGAN CHASE & CO.",
          "JPMORGAN CHASE & CO.",
          "JPMORGAN CHASE & CO.",
          "JPMORGAN CHASE & CO.",
          "JPMORGAN CHASE & CO.",
          "JPMORGAN CHASE & CO.",
          "JPMORGAN CHASE & CO.",
          "JPMORGAN CHASE & CO.",
          "JPMORGAN CHASE & CO.",
          "JPMORGAN CHASE & CO.",
          "JPMORGAN CHASE & CO.",
          "JPMORGAN CHASE & CO.",
          "JPMORGAN CHASE & CO.",
          "JPMORGAN CHASE & CO.",
          "JPMORGAN CHASE & CO."
         ],
         "x0": " ",
         "xaxis": "x",
         "y": [
          711,
          662,
          790,
          936,
          762,
          686,
          731,
          700,
          678,
          741,
          496,
          419,
          455,
          414,
          540,
          699,
          650,
          638,
          716,
          767,
          695,
          702,
          603,
          656,
          693,
          626,
          675,
          806,
          690,
          794,
          718,
          769,
          851,
          923,
          880,
          1025,
          997,
          1066,
          561,
          701,
          598,
          745,
          726,
          733,
          687,
          601,
          568,
          569,
          634,
          555,
          561,
          587,
          580,
          641,
          590,
          609,
          606,
          666,
          708,
          638,
          757,
          693,
          580,
          766,
          691,
          696,
          788,
          833,
          821,
          842,
          896,
          743,
          876,
          918,
          906,
          852,
          947,
          694,
          745,
          723,
          811,
          920,
          828,
          683,
          722,
          746,
          640,
          727,
          695,
          666,
          756,
          634,
          756,
          749,
          778,
          710,
          688,
          762,
          659,
          657,
          541,
          570,
          616,
          597,
          707,
          832,
          780,
          868,
          941,
          831,
          749,
          776,
          740,
          785,
          793,
          816,
          464
         ],
         "y0": " ",
         "yaxis": "y"
        },
        {
         "alignmentgroup": "True",
         "hovertemplate": "Groups=3<br>Companies=%{x}<br>Monthly complaints=%{y}<extra></extra>",
         "legendgroup": "3",
         "marker": {
          "color": "#2CA02C"
         },
         "name": "3",
         "notched": false,
         "offsetgroup": "3",
         "orientation": "v",
         "showlegend": true,
         "type": "box",
         "x": [
          "CITIBANK, N.A.",
          "CITIBANK, N.A.",
          "CITIBANK, N.A.",
          "CITIBANK, N.A.",
          "CITIBANK, N.A.",
          "CITIBANK, N.A.",
          "CITIBANK, N.A.",
          "CITIBANK, N.A.",
          "CITIBANK, N.A.",
          "CITIBANK, N.A.",
          "CITIBANK, N.A.",
          "CITIBANK, N.A.",
          "CITIBANK, N.A.",
          "CITIBANK, N.A.",
          "CITIBANK, N.A.",
          "CITIBANK, N.A.",
          "CITIBANK, N.A.",
          "CITIBANK, N.A.",
          "CITIBANK, N.A.",
          "CITIBANK, N.A.",
          "CITIBANK, N.A.",
          "CITIBANK, N.A.",
          "CITIBANK, N.A.",
          "CITIBANK, N.A.",
          "CITIBANK, N.A.",
          "CITIBANK, N.A.",
          "CITIBANK, N.A.",
          "CITIBANK, N.A.",
          "CITIBANK, N.A.",
          "CITIBANK, N.A.",
          "CITIBANK, N.A.",
          "CITIBANK, N.A.",
          "CITIBANK, N.A.",
          "CITIBANK, N.A.",
          "CITIBANK, N.A.",
          "CITIBANK, N.A.",
          "CITIBANK, N.A.",
          "CITIBANK, N.A.",
          "CITIBANK, N.A.",
          "WELLS FARGO & COMPANY",
          "WELLS FARGO & COMPANY",
          "WELLS FARGO & COMPANY",
          "WELLS FARGO & COMPANY",
          "WELLS FARGO & COMPANY",
          "WELLS FARGO & COMPANY",
          "WELLS FARGO & COMPANY",
          "WELLS FARGO & COMPANY",
          "WELLS FARGO & COMPANY",
          "WELLS FARGO & COMPANY",
          "WELLS FARGO & COMPANY",
          "WELLS FARGO & COMPANY",
          "WELLS FARGO & COMPANY",
          "WELLS FARGO & COMPANY",
          "WELLS FARGO & COMPANY",
          "WELLS FARGO & COMPANY",
          "WELLS FARGO & COMPANY",
          "WELLS FARGO & COMPANY",
          "WELLS FARGO & COMPANY",
          "WELLS FARGO & COMPANY",
          "WELLS FARGO & COMPANY",
          "WELLS FARGO & COMPANY",
          "WELLS FARGO & COMPANY",
          "WELLS FARGO & COMPANY",
          "WELLS FARGO & COMPANY",
          "WELLS FARGO & COMPANY",
          "WELLS FARGO & COMPANY",
          "WELLS FARGO & COMPANY",
          "WELLS FARGO & COMPANY",
          "WELLS FARGO & COMPANY",
          "WELLS FARGO & COMPANY",
          "WELLS FARGO & COMPANY",
          "WELLS FARGO & COMPANY",
          "WELLS FARGO & COMPANY",
          "WELLS FARGO & COMPANY",
          "WELLS FARGO & COMPANY",
          "WELLS FARGO & COMPANY",
          "WELLS FARGO & COMPANY",
          "WELLS FARGO & COMPANY"
         ],
         "x0": " ",
         "xaxis": "x",
         "y": [
          658,
          608,
          644,
          705,
          584,
          508,
          552,
          611,
          523,
          656,
          609,
          605,
          587,
          543,
          628,
          601,
          590,
          578,
          606,
          611,
          563,
          637,
          559,
          562,
          599,
          638,
          686,
          850,
          801,
          772,
          783,
          709,
          724,
          739,
          644,
          775,
          817,
          768,
          456,
          714,
          697,
          842,
          1015,
          818,
          706,
          696,
          776,
          658,
          672,
          577,
          618,
          600,
          659,
          743,
          674,
          718,
          649,
          686,
          602,
          512,
          595,
          478,
          507,
          561,
          557,
          608,
          605,
          645,
          677,
          704,
          664,
          675,
          654,
          565,
          619,
          613,
          639,
          424
         ],
         "y0": " ",
         "yaxis": "y"
        },
        {
         "alignmentgroup": "True",
         "hovertemplate": "Groups=4<br>Companies=%{x}<br>Monthly complaints=%{y}<extra></extra>",
         "legendgroup": "4",
         "marker": {
          "color": "#D62728"
         },
         "name": "4",
         "notched": false,
         "offsetgroup": "4",
         "orientation": "v",
         "showlegend": true,
         "type": "box",
         "x": [
          "SYNCHRONY FINANCIAL",
          "SYNCHRONY FINANCIAL",
          "SYNCHRONY FINANCIAL",
          "SYNCHRONY FINANCIAL",
          "SYNCHRONY FINANCIAL",
          "SYNCHRONY FINANCIAL",
          "SYNCHRONY FINANCIAL",
          "SYNCHRONY FINANCIAL",
          "SYNCHRONY FINANCIAL",
          "SYNCHRONY FINANCIAL",
          "SYNCHRONY FINANCIAL",
          "SYNCHRONY FINANCIAL",
          "SYNCHRONY FINANCIAL",
          "SYNCHRONY FINANCIAL",
          "SYNCHRONY FINANCIAL",
          "SYNCHRONY FINANCIAL",
          "SYNCHRONY FINANCIAL",
          "SYNCHRONY FINANCIAL",
          "SYNCHRONY FINANCIAL",
          "SYNCHRONY FINANCIAL",
          "SYNCHRONY FINANCIAL",
          "SYNCHRONY FINANCIAL",
          "SYNCHRONY FINANCIAL",
          "SYNCHRONY FINANCIAL",
          "SYNCHRONY FINANCIAL",
          "SYNCHRONY FINANCIAL",
          "SYNCHRONY FINANCIAL",
          "SYNCHRONY FINANCIAL",
          "SYNCHRONY FINANCIAL",
          "SYNCHRONY FINANCIAL",
          "SYNCHRONY FINANCIAL",
          "SYNCHRONY FINANCIAL",
          "SYNCHRONY FINANCIAL",
          "SYNCHRONY FINANCIAL",
          "SYNCHRONY FINANCIAL",
          "SYNCHRONY FINANCIAL",
          "SYNCHRONY FINANCIAL",
          "SYNCHRONY FINANCIAL",
          "SYNCHRONY FINANCIAL"
         ],
         "x0": " ",
         "xaxis": "x",
         "y": [
          412,
          367,
          433,
          404,
          399,
          354,
          395,
          431,
          359,
          429,
          362,
          331,
          341,
          311,
          466,
          415,
          401,
          385,
          422,
          443,
          366,
          355,
          430,
          319,
          337,
          364,
          345,
          388,
          405,
          401,
          469,
          450,
          409,
          404,
          422,
          448,
          417,
          494,
          240
         ],
         "y0": " ",
         "yaxis": "y"
        },
        {
         "alignmentgroup": "True",
         "hovertemplate": "Groups=5<br>Companies=%{x}<br>Monthly complaints=%{y}<extra></extra>",
         "legendgroup": "5",
         "marker": {
          "color": "#9467BD"
         },
         "name": "5",
         "notched": false,
         "offsetgroup": "5",
         "orientation": "v",
         "showlegend": true,
         "type": "box",
         "x": [
          "AMERICAN EXPRESS COMPANY",
          "AMERICAN EXPRESS COMPANY",
          "AMERICAN EXPRESS COMPANY",
          "AMERICAN EXPRESS COMPANY",
          "AMERICAN EXPRESS COMPANY",
          "AMERICAN EXPRESS COMPANY",
          "AMERICAN EXPRESS COMPANY",
          "AMERICAN EXPRESS COMPANY",
          "AMERICAN EXPRESS COMPANY",
          "AMERICAN EXPRESS COMPANY",
          "AMERICAN EXPRESS COMPANY",
          "AMERICAN EXPRESS COMPANY",
          "AMERICAN EXPRESS COMPANY",
          "AMERICAN EXPRESS COMPANY",
          "AMERICAN EXPRESS COMPANY",
          "AMERICAN EXPRESS COMPANY",
          "AMERICAN EXPRESS COMPANY",
          "AMERICAN EXPRESS COMPANY",
          "AMERICAN EXPRESS COMPANY",
          "AMERICAN EXPRESS COMPANY",
          "AMERICAN EXPRESS COMPANY",
          "AMERICAN EXPRESS COMPANY",
          "AMERICAN EXPRESS COMPANY",
          "AMERICAN EXPRESS COMPANY",
          "AMERICAN EXPRESS COMPANY",
          "AMERICAN EXPRESS COMPANY",
          "AMERICAN EXPRESS COMPANY",
          "AMERICAN EXPRESS COMPANY",
          "AMERICAN EXPRESS COMPANY",
          "AMERICAN EXPRESS COMPANY",
          "AMERICAN EXPRESS COMPANY",
          "AMERICAN EXPRESS COMPANY",
          "AMERICAN EXPRESS COMPANY",
          "AMERICAN EXPRESS COMPANY",
          "AMERICAN EXPRESS COMPANY",
          "AMERICAN EXPRESS COMPANY",
          "AMERICAN EXPRESS COMPANY",
          "AMERICAN EXPRESS COMPANY",
          "AMERICAN EXPRESS COMPANY",
          "Alliance Data Card Services",
          "Alliance Data Card Services",
          "Alliance Data Card Services",
          "Alliance Data Card Services",
          "Alliance Data Card Services",
          "Alliance Data Card Services",
          "Alliance Data Card Services",
          "Alliance Data Card Services",
          "Alliance Data Card Services",
          "Alliance Data Card Services",
          "Alliance Data Card Services",
          "Alliance Data Card Services",
          "Alliance Data Card Services",
          "Alliance Data Card Services",
          "Alliance Data Card Services",
          "Alliance Data Card Services",
          "Alliance Data Card Services",
          "Alliance Data Card Services",
          "Alliance Data Card Services",
          "Alliance Data Card Services",
          "Alliance Data Card Services",
          "Alliance Data Card Services",
          "Alliance Data Card Services",
          "Alliance Data Card Services",
          "Alliance Data Card Services",
          "Alliance Data Card Services",
          "Alliance Data Card Services",
          "Alliance Data Card Services",
          "Alliance Data Card Services",
          "Alliance Data Card Services",
          "Alliance Data Card Services",
          "Alliance Data Card Services",
          "Alliance Data Card Services",
          "Alliance Data Card Services",
          "Alliance Data Card Services",
          "Alliance Data Card Services",
          "Alliance Data Card Services",
          "Alliance Data Card Services",
          "Alliance Data Card Services",
          "Navient Solutions, LLC.",
          "Navient Solutions, LLC.",
          "Navient Solutions, LLC.",
          "Navient Solutions, LLC.",
          "Navient Solutions, LLC.",
          "Navient Solutions, LLC.",
          "Navient Solutions, LLC.",
          "Navient Solutions, LLC.",
          "Navient Solutions, LLC.",
          "Navient Solutions, LLC.",
          "Navient Solutions, LLC.",
          "Navient Solutions, LLC.",
          "Navient Solutions, LLC.",
          "Navient Solutions, LLC.",
          "Navient Solutions, LLC.",
          "Navient Solutions, LLC.",
          "Navient Solutions, LLC.",
          "Navient Solutions, LLC.",
          "Navient Solutions, LLC.",
          "Navient Solutions, LLC.",
          "Navient Solutions, LLC.",
          "Navient Solutions, LLC.",
          "Navient Solutions, LLC.",
          "Navient Solutions, LLC.",
          "Navient Solutions, LLC.",
          "Navient Solutions, LLC.",
          "Navient Solutions, LLC.",
          "Navient Solutions, LLC.",
          "Navient Solutions, LLC.",
          "Navient Solutions, LLC.",
          "Navient Solutions, LLC.",
          "Navient Solutions, LLC.",
          "Navient Solutions, LLC.",
          "Navient Solutions, LLC.",
          "Navient Solutions, LLC.",
          "Navient Solutions, LLC.",
          "Navient Solutions, LLC.",
          "Navient Solutions, LLC.",
          "Navient Solutions, LLC.",
          "PORTFOLIO RECOVERY ASSOCIATES INC",
          "PORTFOLIO RECOVERY ASSOCIATES INC",
          "PORTFOLIO RECOVERY ASSOCIATES INC",
          "PORTFOLIO RECOVERY ASSOCIATES INC",
          "PORTFOLIO RECOVERY ASSOCIATES INC",
          "PORTFOLIO RECOVERY ASSOCIATES INC",
          "PORTFOLIO RECOVERY ASSOCIATES INC",
          "PORTFOLIO RECOVERY ASSOCIATES INC",
          "PORTFOLIO RECOVERY ASSOCIATES INC",
          "PORTFOLIO RECOVERY ASSOCIATES INC",
          "PORTFOLIO RECOVERY ASSOCIATES INC",
          "PORTFOLIO RECOVERY ASSOCIATES INC",
          "PORTFOLIO RECOVERY ASSOCIATES INC",
          "PORTFOLIO RECOVERY ASSOCIATES INC",
          "PORTFOLIO RECOVERY ASSOCIATES INC",
          "PORTFOLIO RECOVERY ASSOCIATES INC",
          "PORTFOLIO RECOVERY ASSOCIATES INC",
          "PORTFOLIO RECOVERY ASSOCIATES INC",
          "PORTFOLIO RECOVERY ASSOCIATES INC",
          "PORTFOLIO RECOVERY ASSOCIATES INC",
          "PORTFOLIO RECOVERY ASSOCIATES INC",
          "PORTFOLIO RECOVERY ASSOCIATES INC",
          "PORTFOLIO RECOVERY ASSOCIATES INC",
          "PORTFOLIO RECOVERY ASSOCIATES INC",
          "PORTFOLIO RECOVERY ASSOCIATES INC",
          "PORTFOLIO RECOVERY ASSOCIATES INC",
          "PORTFOLIO RECOVERY ASSOCIATES INC",
          "PORTFOLIO RECOVERY ASSOCIATES INC",
          "PORTFOLIO RECOVERY ASSOCIATES INC",
          "PORTFOLIO RECOVERY ASSOCIATES INC",
          "PORTFOLIO RECOVERY ASSOCIATES INC",
          "PORTFOLIO RECOVERY ASSOCIATES INC",
          "PORTFOLIO RECOVERY ASSOCIATES INC",
          "PORTFOLIO RECOVERY ASSOCIATES INC",
          "PORTFOLIO RECOVERY ASSOCIATES INC",
          "PORTFOLIO RECOVERY ASSOCIATES INC",
          "PORTFOLIO RECOVERY ASSOCIATES INC",
          "PORTFOLIO RECOVERY ASSOCIATES INC",
          "PORTFOLIO RECOVERY ASSOCIATES INC",
          "U.S. BANCORP",
          "U.S. BANCORP",
          "U.S. BANCORP",
          "U.S. BANCORP",
          "U.S. BANCORP",
          "U.S. BANCORP",
          "U.S. BANCORP",
          "U.S. BANCORP",
          "U.S. BANCORP",
          "U.S. BANCORP",
          "U.S. BANCORP",
          "U.S. BANCORP",
          "U.S. BANCORP",
          "U.S. BANCORP",
          "U.S. BANCORP",
          "U.S. BANCORP",
          "U.S. BANCORP",
          "U.S. BANCORP",
          "U.S. BANCORP",
          "U.S. BANCORP",
          "U.S. BANCORP",
          "U.S. BANCORP",
          "U.S. BANCORP",
          "U.S. BANCORP",
          "U.S. BANCORP",
          "U.S. BANCORP",
          "U.S. BANCORP",
          "U.S. BANCORP",
          "U.S. BANCORP",
          "U.S. BANCORP",
          "U.S. BANCORP",
          "U.S. BANCORP",
          "U.S. BANCORP",
          "U.S. BANCORP",
          "U.S. BANCORP",
          "U.S. BANCORP",
          "U.S. BANCORP",
          "U.S. BANCORP",
          "U.S. BANCORP"
         ],
         "x0": " ",
         "xaxis": "x",
         "y": [
          234,
          228,
          250,
          226,
          237,
          175,
          239,
          234,
          197,
          354,
          253,
          232,
          240,
          229,
          264,
          226,
          253,
          230,
          238,
          261,
          231,
          224,
          208,
          222,
          228,
          204,
          251,
          352,
          362,
          281,
          277,
          291,
          233,
          233,
          218,
          242,
          266,
          247,
          163,
          257,
          229,
          247,
          257,
          254,
          225,
          207,
          211,
          182,
          220,
          190,
          176,
          187,
          212,
          233,
          215,
          221,
          223,
          260,
          222,
          221,
          241,
          218,
          213,
          206,
          205,
          224,
          256,
          275,
          266,
          246,
          321,
          237,
          259,
          308,
          287,
          281,
          344,
          190,
          529,
          430,
          497,
          484,
          444,
          361,
          434,
          425,
          356,
          372,
          358,
          412,
          455,
          439,
          396,
          329,
          268,
          324,
          305,
          288,
          231,
          313,
          254,
          194,
          223,
          222,
          205,
          209,
          191,
          183,
          159,
          155,
          110,
          162,
          166,
          166,
          187,
          150,
          112,
          255,
          246,
          301,
          282,
          307,
          220,
          232,
          228,
          205,
          255,
          174,
          176,
          166,
          212,
          201,
          202,
          192,
          199,
          186,
          192,
          209,
          190,
          158,
          152,
          201,
          181,
          242,
          228,
          249,
          219,
          264,
          316,
          307,
          300,
          331,
          322,
          345,
          386,
          219,
          205,
          185,
          227,
          257,
          185,
          173,
          175,
          229,
          183,
          205,
          173,
          194,
          177,
          150,
          220,
          194,
          198,
          203,
          241,
          218,
          220,
          235,
          206,
          211,
          214,
          211,
          226,
          382,
          261,
          289,
          380,
          420,
          446,
          487,
          444,
          394,
          418,
          379,
          258
         ],
         "y0": " ",
         "yaxis": "y"
        },
        {
         "alignmentgroup": "True",
         "hovertemplate": "Groups=6<br>Companies=%{x}<br>Monthly complaints=%{y}<extra></extra>",
         "legendgroup": "6",
         "marker": {
          "color": "#8C564B"
         },
         "name": "6",
         "notched": false,
         "offsetgroup": "6",
         "orientation": "v",
         "showlegend": true,
         "type": "box",
         "x": [
          "PNC Bank N.A.",
          "PNC Bank N.A.",
          "PNC Bank N.A.",
          "PNC Bank N.A.",
          "PNC Bank N.A.",
          "PNC Bank N.A.",
          "PNC Bank N.A.",
          "PNC Bank N.A.",
          "PNC Bank N.A.",
          "PNC Bank N.A.",
          "PNC Bank N.A.",
          "PNC Bank N.A.",
          "PNC Bank N.A.",
          "PNC Bank N.A.",
          "PNC Bank N.A.",
          "PNC Bank N.A.",
          "PNC Bank N.A.",
          "PNC Bank N.A.",
          "PNC Bank N.A.",
          "PNC Bank N.A.",
          "PNC Bank N.A.",
          "PNC Bank N.A.",
          "PNC Bank N.A.",
          "PNC Bank N.A.",
          "PNC Bank N.A.",
          "PNC Bank N.A.",
          "PNC Bank N.A.",
          "PNC Bank N.A.",
          "PNC Bank N.A.",
          "PNC Bank N.A.",
          "PNC Bank N.A.",
          "PNC Bank N.A.",
          "PNC Bank N.A.",
          "PNC Bank N.A.",
          "PNC Bank N.A.",
          "PNC Bank N.A.",
          "PNC Bank N.A.",
          "PNC Bank N.A.",
          "PNC Bank N.A."
         ],
         "x0": " ",
         "xaxis": "x",
         "y": [
          105,
          126,
          140,
          192,
          140,
          141,
          166,
          151,
          117,
          146,
          123,
          103,
          115,
          123,
          142,
          149,
          128,
          130,
          112,
          125,
          119,
          144,
          106,
          113,
          115,
          119,
          125,
          332,
          318,
          1065,
          1062,
          458,
          148,
          122,
          94,
          128,
          124,
          120,
          72
         ],
         "y0": " ",
         "yaxis": "y"
        }
       ],
       "layout": {
        "boxmode": "group",
        "height": 600,
        "legend": {
         "orientation": "h",
         "title": {},
         "tracegroupgap": 0,
         "x": 0.5,
         "xanchor": "center",
         "y": 1,
         "yanchor": "bottom"
        },
        "template": {
         "data": {
          "bar": [
           {
            "error_x": {
             "color": "rgb(36,36,36)"
            },
            "error_y": {
             "color": "rgb(36,36,36)"
            },
            "marker": {
             "line": {
              "color": "white",
              "width": 0.5
             }
            },
            "type": "bar"
           }
          ],
          "barpolar": [
           {
            "marker": {
             "line": {
              "color": "white",
              "width": 0.5
             }
            },
            "type": "barpolar"
           }
          ],
          "carpet": [
           {
            "aaxis": {
             "endlinecolor": "rgb(36,36,36)",
             "gridcolor": "white",
             "linecolor": "white",
             "minorgridcolor": "white",
             "startlinecolor": "rgb(36,36,36)"
            },
            "baxis": {
             "endlinecolor": "rgb(36,36,36)",
             "gridcolor": "white",
             "linecolor": "white",
             "minorgridcolor": "white",
             "startlinecolor": "rgb(36,36,36)"
            },
            "type": "carpet"
           }
          ],
          "choropleth": [
           {
            "colorbar": {
             "outlinewidth": 1,
             "tickcolor": "rgb(36,36,36)",
             "ticks": "outside"
            },
            "type": "choropleth"
           }
          ],
          "contour": [
           {
            "colorbar": {
             "outlinewidth": 1,
             "tickcolor": "rgb(36,36,36)",
             "ticks": "outside"
            },
            "colorscale": [
             [
              0,
              "#440154"
             ],
             [
              0.1111111111111111,
              "#482878"
             ],
             [
              0.2222222222222222,
              "#3e4989"
             ],
             [
              0.3333333333333333,
              "#31688e"
             ],
             [
              0.4444444444444444,
              "#26828e"
             ],
             [
              0.5555555555555556,
              "#1f9e89"
             ],
             [
              0.6666666666666666,
              "#35b779"
             ],
             [
              0.7777777777777778,
              "#6ece58"
             ],
             [
              0.8888888888888888,
              "#b5de2b"
             ],
             [
              1,
              "#fde725"
             ]
            ],
            "type": "contour"
           }
          ],
          "contourcarpet": [
           {
            "colorbar": {
             "outlinewidth": 1,
             "tickcolor": "rgb(36,36,36)",
             "ticks": "outside"
            },
            "type": "contourcarpet"
           }
          ],
          "heatmap": [
           {
            "colorbar": {
             "outlinewidth": 1,
             "tickcolor": "rgb(36,36,36)",
             "ticks": "outside"
            },
            "colorscale": [
             [
              0,
              "#440154"
             ],
             [
              0.1111111111111111,
              "#482878"
             ],
             [
              0.2222222222222222,
              "#3e4989"
             ],
             [
              0.3333333333333333,
              "#31688e"
             ],
             [
              0.4444444444444444,
              "#26828e"
             ],
             [
              0.5555555555555556,
              "#1f9e89"
             ],
             [
              0.6666666666666666,
              "#35b779"
             ],
             [
              0.7777777777777778,
              "#6ece58"
             ],
             [
              0.8888888888888888,
              "#b5de2b"
             ],
             [
              1,
              "#fde725"
             ]
            ],
            "type": "heatmap"
           }
          ],
          "heatmapgl": [
           {
            "colorbar": {
             "outlinewidth": 1,
             "tickcolor": "rgb(36,36,36)",
             "ticks": "outside"
            },
            "colorscale": [
             [
              0,
              "#440154"
             ],
             [
              0.1111111111111111,
              "#482878"
             ],
             [
              0.2222222222222222,
              "#3e4989"
             ],
             [
              0.3333333333333333,
              "#31688e"
             ],
             [
              0.4444444444444444,
              "#26828e"
             ],
             [
              0.5555555555555556,
              "#1f9e89"
             ],
             [
              0.6666666666666666,
              "#35b779"
             ],
             [
              0.7777777777777778,
              "#6ece58"
             ],
             [
              0.8888888888888888,
              "#b5de2b"
             ],
             [
              1,
              "#fde725"
             ]
            ],
            "type": "heatmapgl"
           }
          ],
          "histogram": [
           {
            "marker": {
             "line": {
              "color": "white",
              "width": 0.6
             }
            },
            "type": "histogram"
           }
          ],
          "histogram2d": [
           {
            "colorbar": {
             "outlinewidth": 1,
             "tickcolor": "rgb(36,36,36)",
             "ticks": "outside"
            },
            "colorscale": [
             [
              0,
              "#440154"
             ],
             [
              0.1111111111111111,
              "#482878"
             ],
             [
              0.2222222222222222,
              "#3e4989"
             ],
             [
              0.3333333333333333,
              "#31688e"
             ],
             [
              0.4444444444444444,
              "#26828e"
             ],
             [
              0.5555555555555556,
              "#1f9e89"
             ],
             [
              0.6666666666666666,
              "#35b779"
             ],
             [
              0.7777777777777778,
              "#6ece58"
             ],
             [
              0.8888888888888888,
              "#b5de2b"
             ],
             [
              1,
              "#fde725"
             ]
            ],
            "type": "histogram2d"
           }
          ],
          "histogram2dcontour": [
           {
            "colorbar": {
             "outlinewidth": 1,
             "tickcolor": "rgb(36,36,36)",
             "ticks": "outside"
            },
            "colorscale": [
             [
              0,
              "#440154"
             ],
             [
              0.1111111111111111,
              "#482878"
             ],
             [
              0.2222222222222222,
              "#3e4989"
             ],
             [
              0.3333333333333333,
              "#31688e"
             ],
             [
              0.4444444444444444,
              "#26828e"
             ],
             [
              0.5555555555555556,
              "#1f9e89"
             ],
             [
              0.6666666666666666,
              "#35b779"
             ],
             [
              0.7777777777777778,
              "#6ece58"
             ],
             [
              0.8888888888888888,
              "#b5de2b"
             ],
             [
              1,
              "#fde725"
             ]
            ],
            "type": "histogram2dcontour"
           }
          ],
          "mesh3d": [
           {
            "colorbar": {
             "outlinewidth": 1,
             "tickcolor": "rgb(36,36,36)",
             "ticks": "outside"
            },
            "type": "mesh3d"
           }
          ],
          "parcoords": [
           {
            "line": {
             "colorbar": {
              "outlinewidth": 1,
              "tickcolor": "rgb(36,36,36)",
              "ticks": "outside"
             }
            },
            "type": "parcoords"
           }
          ],
          "pie": [
           {
            "automargin": true,
            "type": "pie"
           }
          ],
          "scatter": [
           {
            "marker": {
             "colorbar": {
              "outlinewidth": 1,
              "tickcolor": "rgb(36,36,36)",
              "ticks": "outside"
             }
            },
            "type": "scatter"
           }
          ],
          "scatter3d": [
           {
            "line": {
             "colorbar": {
              "outlinewidth": 1,
              "tickcolor": "rgb(36,36,36)",
              "ticks": "outside"
             }
            },
            "marker": {
             "colorbar": {
              "outlinewidth": 1,
              "tickcolor": "rgb(36,36,36)",
              "ticks": "outside"
             }
            },
            "type": "scatter3d"
           }
          ],
          "scattercarpet": [
           {
            "marker": {
             "colorbar": {
              "outlinewidth": 1,
              "tickcolor": "rgb(36,36,36)",
              "ticks": "outside"
             }
            },
            "type": "scattercarpet"
           }
          ],
          "scattergeo": [
           {
            "marker": {
             "colorbar": {
              "outlinewidth": 1,
              "tickcolor": "rgb(36,36,36)",
              "ticks": "outside"
             }
            },
            "type": "scattergeo"
           }
          ],
          "scattergl": [
           {
            "marker": {
             "colorbar": {
              "outlinewidth": 1,
              "tickcolor": "rgb(36,36,36)",
              "ticks": "outside"
             }
            },
            "type": "scattergl"
           }
          ],
          "scattermapbox": [
           {
            "marker": {
             "colorbar": {
              "outlinewidth": 1,
              "tickcolor": "rgb(36,36,36)",
              "ticks": "outside"
             }
            },
            "type": "scattermapbox"
           }
          ],
          "scatterpolar": [
           {
            "marker": {
             "colorbar": {
              "outlinewidth": 1,
              "tickcolor": "rgb(36,36,36)",
              "ticks": "outside"
             }
            },
            "type": "scatterpolar"
           }
          ],
          "scatterpolargl": [
           {
            "marker": {
             "colorbar": {
              "outlinewidth": 1,
              "tickcolor": "rgb(36,36,36)",
              "ticks": "outside"
             }
            },
            "type": "scatterpolargl"
           }
          ],
          "scatterternary": [
           {
            "marker": {
             "colorbar": {
              "outlinewidth": 1,
              "tickcolor": "rgb(36,36,36)",
              "ticks": "outside"
             }
            },
            "type": "scatterternary"
           }
          ],
          "surface": [
           {
            "colorbar": {
             "outlinewidth": 1,
             "tickcolor": "rgb(36,36,36)",
             "ticks": "outside"
            },
            "colorscale": [
             [
              0,
              "#440154"
             ],
             [
              0.1111111111111111,
              "#482878"
             ],
             [
              0.2222222222222222,
              "#3e4989"
             ],
             [
              0.3333333333333333,
              "#31688e"
             ],
             [
              0.4444444444444444,
              "#26828e"
             ],
             [
              0.5555555555555556,
              "#1f9e89"
             ],
             [
              0.6666666666666666,
              "#35b779"
             ],
             [
              0.7777777777777778,
              "#6ece58"
             ],
             [
              0.8888888888888888,
              "#b5de2b"
             ],
             [
              1,
              "#fde725"
             ]
            ],
            "type": "surface"
           }
          ],
          "table": [
           {
            "cells": {
             "fill": {
              "color": "rgb(237,237,237)"
             },
             "line": {
              "color": "white"
             }
            },
            "header": {
             "fill": {
              "color": "rgb(217,217,217)"
             },
             "line": {
              "color": "white"
             }
            },
            "type": "table"
           }
          ]
         },
         "layout": {
          "annotationdefaults": {
           "arrowhead": 0,
           "arrowwidth": 1
          },
          "autotypenumbers": "strict",
          "coloraxis": {
           "colorbar": {
            "outlinewidth": 1,
            "tickcolor": "rgb(36,36,36)",
            "ticks": "outside"
           }
          },
          "colorscale": {
           "diverging": [
            [
             0,
             "rgb(103,0,31)"
            ],
            [
             0.1,
             "rgb(178,24,43)"
            ],
            [
             0.2,
             "rgb(214,96,77)"
            ],
            [
             0.3,
             "rgb(244,165,130)"
            ],
            [
             0.4,
             "rgb(253,219,199)"
            ],
            [
             0.5,
             "rgb(247,247,247)"
            ],
            [
             0.6,
             "rgb(209,229,240)"
            ],
            [
             0.7,
             "rgb(146,197,222)"
            ],
            [
             0.8,
             "rgb(67,147,195)"
            ],
            [
             0.9,
             "rgb(33,102,172)"
            ],
            [
             1,
             "rgb(5,48,97)"
            ]
           ],
           "sequential": [
            [
             0,
             "#440154"
            ],
            [
             0.1111111111111111,
             "#482878"
            ],
            [
             0.2222222222222222,
             "#3e4989"
            ],
            [
             0.3333333333333333,
             "#31688e"
            ],
            [
             0.4444444444444444,
             "#26828e"
            ],
            [
             0.5555555555555556,
             "#1f9e89"
            ],
            [
             0.6666666666666666,
             "#35b779"
            ],
            [
             0.7777777777777778,
             "#6ece58"
            ],
            [
             0.8888888888888888,
             "#b5de2b"
            ],
            [
             1,
             "#fde725"
            ]
           ],
           "sequentialminus": [
            [
             0,
             "#440154"
            ],
            [
             0.1111111111111111,
             "#482878"
            ],
            [
             0.2222222222222222,
             "#3e4989"
            ],
            [
             0.3333333333333333,
             "#31688e"
            ],
            [
             0.4444444444444444,
             "#26828e"
            ],
            [
             0.5555555555555556,
             "#1f9e89"
            ],
            [
             0.6666666666666666,
             "#35b779"
            ],
            [
             0.7777777777777778,
             "#6ece58"
            ],
            [
             0.8888888888888888,
             "#b5de2b"
            ],
            [
             1,
             "#fde725"
            ]
           ]
          },
          "colorway": [
           "#1F77B4",
           "#FF7F0E",
           "#2CA02C",
           "#D62728",
           "#9467BD",
           "#8C564B",
           "#E377C2",
           "#7F7F7F",
           "#BCBD22",
           "#17BECF"
          ],
          "font": {
           "color": "rgb(36,36,36)"
          },
          "geo": {
           "bgcolor": "white",
           "lakecolor": "white",
           "landcolor": "white",
           "showlakes": true,
           "showland": true,
           "subunitcolor": "white"
          },
          "hoverlabel": {
           "align": "left"
          },
          "hovermode": "closest",
          "mapbox": {
           "style": "light"
          },
          "paper_bgcolor": "white",
          "plot_bgcolor": "white",
          "polar": {
           "angularaxis": {
            "gridcolor": "rgb(232,232,232)",
            "linecolor": "rgb(36,36,36)",
            "showgrid": false,
            "showline": true,
            "ticks": "outside"
           },
           "bgcolor": "white",
           "radialaxis": {
            "gridcolor": "rgb(232,232,232)",
            "linecolor": "rgb(36,36,36)",
            "showgrid": false,
            "showline": true,
            "ticks": "outside"
           }
          },
          "scene": {
           "xaxis": {
            "backgroundcolor": "white",
            "gridcolor": "rgb(232,232,232)",
            "gridwidth": 2,
            "linecolor": "rgb(36,36,36)",
            "showbackground": true,
            "showgrid": false,
            "showline": true,
            "ticks": "outside",
            "zeroline": false,
            "zerolinecolor": "rgb(36,36,36)"
           },
           "yaxis": {
            "backgroundcolor": "white",
            "gridcolor": "rgb(232,232,232)",
            "gridwidth": 2,
            "linecolor": "rgb(36,36,36)",
            "showbackground": true,
            "showgrid": false,
            "showline": true,
            "ticks": "outside",
            "zeroline": false,
            "zerolinecolor": "rgb(36,36,36)"
           },
           "zaxis": {
            "backgroundcolor": "white",
            "gridcolor": "rgb(232,232,232)",
            "gridwidth": 2,
            "linecolor": "rgb(36,36,36)",
            "showbackground": true,
            "showgrid": false,
            "showline": true,
            "ticks": "outside",
            "zeroline": false,
            "zerolinecolor": "rgb(36,36,36)"
           }
          },
          "shapedefaults": {
           "fillcolor": "black",
           "line": {
            "width": 0
           },
           "opacity": 0.3
          },
          "ternary": {
           "aaxis": {
            "gridcolor": "rgb(232,232,232)",
            "linecolor": "rgb(36,36,36)",
            "showgrid": false,
            "showline": true,
            "ticks": "outside"
           },
           "baxis": {
            "gridcolor": "rgb(232,232,232)",
            "linecolor": "rgb(36,36,36)",
            "showgrid": false,
            "showline": true,
            "ticks": "outside"
           },
           "bgcolor": "white",
           "caxis": {
            "gridcolor": "rgb(232,232,232)",
            "linecolor": "rgb(36,36,36)",
            "showgrid": false,
            "showline": true,
            "ticks": "outside"
           }
          },
          "title": {
           "x": 0.05
          },
          "xaxis": {
           "automargin": true,
           "gridcolor": "rgb(232,232,232)",
           "linecolor": "rgb(36,36,36)",
           "showgrid": false,
           "showline": true,
           "ticks": "outside",
           "title": {
            "standoff": 15
           },
           "zeroline": false,
           "zerolinecolor": "rgb(36,36,36)"
          },
          "yaxis": {
           "automargin": true,
           "gridcolor": "rgb(232,232,232)",
           "linecolor": "rgb(36,36,36)",
           "showgrid": false,
           "showline": true,
           "ticks": "outside",
           "title": {
            "standoff": 15
           },
           "zeroline": false,
           "zerolinecolor": "rgb(36,36,36)"
          }
         }
        },
        "title": {
         "text": "Boxplot - Monthly Complaints per Companies"
        },
        "width": 800,
        "xaxis": {
         "anchor": "y",
         "domain": [
          0,
          1
         ],
         "title": {
          "text": "Companies"
         }
        },
        "yaxis": {
         "anchor": "x",
         "domain": [
          0,
          1
         ],
         "title": {
          "text": "Monthly complaints"
         }
        }
       }
      },
      "text/html": [
       "<div>                            <div id=\"e084a490-bfdf-445b-8594-05e566887f65\" class=\"plotly-graph-div\" style=\"height:600px; width:800px;\"></div>            <script type=\"text/javascript\">                require([\"plotly\"], function(Plotly) {                    window.PLOTLYENV=window.PLOTLYENV || {};                                    if (document.getElementById(\"e084a490-bfdf-445b-8594-05e566887f65\")) {                    Plotly.newPlot(                        \"e084a490-bfdf-445b-8594-05e566887f65\",                        [{\"alignmentgroup\": \"True\", \"hovertemplate\": \"Groups=1<br>Companies=%{x}<br>Monthly complaints=%{y}<extra></extra>\", \"legendgroup\": \"1\", \"marker\": {\"color\": \"#1F77B4\"}, \"name\": \"1\", \"notched\": false, \"offsetgroup\": \"1\", \"orientation\": \"v\", \"showlegend\": true, \"type\": \"box\", \"x\": [\"EQUIFAX, INC.\", \"EQUIFAX, INC.\", \"EQUIFAX, INC.\", \"EQUIFAX, INC.\", \"EQUIFAX, INC.\", \"EQUIFAX, INC.\", \"EQUIFAX, INC.\", \"EQUIFAX, INC.\", \"EQUIFAX, INC.\", \"EQUIFAX, INC.\", \"EQUIFAX, INC.\", \"EQUIFAX, INC.\", \"EQUIFAX, INC.\", \"EQUIFAX, INC.\", \"EQUIFAX, INC.\", \"EQUIFAX, INC.\", \"EQUIFAX, INC.\", \"EQUIFAX, INC.\", \"EQUIFAX, INC.\", \"EQUIFAX, INC.\", \"EQUIFAX, INC.\", \"EQUIFAX, INC.\", \"EQUIFAX, INC.\", \"EQUIFAX, INC.\", \"EQUIFAX, INC.\", \"EQUIFAX, INC.\", \"EQUIFAX, INC.\", \"EQUIFAX, INC.\", \"EQUIFAX, INC.\", \"EQUIFAX, INC.\", \"EQUIFAX, INC.\", \"EQUIFAX, INC.\", \"EQUIFAX, INC.\", \"EQUIFAX, INC.\", \"EQUIFAX, INC.\", \"EQUIFAX, INC.\", \"EQUIFAX, INC.\", \"EQUIFAX, INC.\", \"EQUIFAX, INC.\", \"Experian Information Solutions Inc.\", \"Experian Information Solutions Inc.\", \"Experian Information Solutions Inc.\", \"Experian Information Solutions Inc.\", \"Experian Information Solutions Inc.\", \"Experian Information Solutions Inc.\", \"Experian Information Solutions Inc.\", \"Experian Information Solutions Inc.\", \"Experian Information Solutions Inc.\", \"Experian Information Solutions Inc.\", \"Experian Information Solutions Inc.\", \"Experian Information Solutions Inc.\", \"Experian Information Solutions Inc.\", \"Experian Information Solutions Inc.\", \"Experian Information Solutions Inc.\", \"Experian Information Solutions Inc.\", \"Experian Information Solutions Inc.\", \"Experian Information Solutions Inc.\", \"Experian Information Solutions Inc.\", \"Experian Information Solutions Inc.\", \"Experian Information Solutions Inc.\", \"Experian Information Solutions Inc.\", \"Experian Information Solutions Inc.\", \"Experian Information Solutions Inc.\", \"Experian Information Solutions Inc.\", \"Experian Information Solutions Inc.\", \"Experian Information Solutions Inc.\", \"Experian Information Solutions Inc.\", \"Experian Information Solutions Inc.\", \"Experian Information Solutions Inc.\", \"Experian Information Solutions Inc.\", \"Experian Information Solutions Inc.\", \"Experian Information Solutions Inc.\", \"Experian Information Solutions Inc.\", \"Experian Information Solutions Inc.\", \"Experian Information Solutions Inc.\", \"Experian Information Solutions Inc.\", \"Experian Information Solutions Inc.\", \"Experian Information Solutions Inc.\", \"TRANSUNION INTERMEDIATE HOLDINGS, INC.\", \"TRANSUNION INTERMEDIATE HOLDINGS, INC.\", \"TRANSUNION INTERMEDIATE HOLDINGS, INC.\", \"TRANSUNION INTERMEDIATE HOLDINGS, INC.\", \"TRANSUNION INTERMEDIATE HOLDINGS, INC.\", \"TRANSUNION INTERMEDIATE HOLDINGS, INC.\", \"TRANSUNION INTERMEDIATE HOLDINGS, INC.\", \"TRANSUNION INTERMEDIATE HOLDINGS, INC.\", \"TRANSUNION INTERMEDIATE HOLDINGS, INC.\", \"TRANSUNION INTERMEDIATE HOLDINGS, INC.\", \"TRANSUNION INTERMEDIATE HOLDINGS, INC.\", \"TRANSUNION INTERMEDIATE HOLDINGS, INC.\", \"TRANSUNION INTERMEDIATE HOLDINGS, INC.\", \"TRANSUNION INTERMEDIATE HOLDINGS, INC.\", \"TRANSUNION INTERMEDIATE HOLDINGS, INC.\", \"TRANSUNION INTERMEDIATE HOLDINGS, INC.\", \"TRANSUNION INTERMEDIATE HOLDINGS, INC.\", \"TRANSUNION INTERMEDIATE HOLDINGS, INC.\", \"TRANSUNION INTERMEDIATE HOLDINGS, INC.\", \"TRANSUNION INTERMEDIATE HOLDINGS, INC.\", \"TRANSUNION INTERMEDIATE HOLDINGS, INC.\", \"TRANSUNION INTERMEDIATE HOLDINGS, INC.\", \"TRANSUNION INTERMEDIATE HOLDINGS, INC.\", \"TRANSUNION INTERMEDIATE HOLDINGS, INC.\", \"TRANSUNION INTERMEDIATE HOLDINGS, INC.\", \"TRANSUNION INTERMEDIATE HOLDINGS, INC.\", \"TRANSUNION INTERMEDIATE HOLDINGS, INC.\", \"TRANSUNION INTERMEDIATE HOLDINGS, INC.\", \"TRANSUNION INTERMEDIATE HOLDINGS, INC.\", \"TRANSUNION INTERMEDIATE HOLDINGS, INC.\", \"TRANSUNION INTERMEDIATE HOLDINGS, INC.\", \"TRANSUNION INTERMEDIATE HOLDINGS, INC.\", \"TRANSUNION INTERMEDIATE HOLDINGS, INC.\", \"TRANSUNION INTERMEDIATE HOLDINGS, INC.\", \"TRANSUNION INTERMEDIATE HOLDINGS, INC.\", \"TRANSUNION INTERMEDIATE HOLDINGS, INC.\", \"TRANSUNION INTERMEDIATE HOLDINGS, INC.\", \"TRANSUNION INTERMEDIATE HOLDINGS, INC.\", \"TRANSUNION INTERMEDIATE HOLDINGS, INC.\"], \"x0\": \" \", \"xaxis\": \"x\", \"y\": [2376, 2484, 2406, 2647, 2529, 2311, 2523, 2590, 2369, 2818, 2586, 2418, 2354, 2571, 3206, 3145, 3338, 3519, 3957, 4058, 3743, 4048, 3570, 3409, 4446, 3971, 5202, 5995, 6572, 6322, 6875, 6562, 7133, 8019, 7634, 9657, 9299, 6729, 5428, 2539, 2578, 2648, 2825, 2548, 2375, 2469, 2566, 2165, 2629, 2341, 2238, 2280, 2587, 2981, 2912, 3167, 3164, 3235, 3577, 3194, 3625, 3179, 3103, 4065, 3890, 4866, 6202, 7276, 7549, 8262, 8119, 8632, 9943, 9159, 11258, 3633, 2098, 1780, 2376, 2310, 2446, 2599, 2452, 2190, 2326, 2429, 2235, 2596, 2267, 2126, 2176, 2460, 2982, 3042, 3380, 3409, 3686, 3931, 3454, 3765, 3347, 3242, 4308, 3881, 5225, 6339, 7122, 7090, 7701, 7579, 7829, 9131, 8444, 10456, 11478, 5328, 8874], \"y0\": \" \", \"yaxis\": \"y\"}, {\"alignmentgroup\": \"True\", \"hovertemplate\": \"Groups=2<br>Companies=%{x}<br>Monthly complaints=%{y}<extra></extra>\", \"legendgroup\": \"2\", \"marker\": {\"color\": \"#FF7F0E\"}, \"name\": \"2\", \"notched\": false, \"offsetgroup\": \"2\", \"orientation\": \"v\", \"showlegend\": true, \"type\": \"box\", \"x\": [\"BANK OF AMERICA, NATIONAL ASSOCIATION\", \"BANK OF AMERICA, NATIONAL ASSOCIATION\", \"BANK OF AMERICA, NATIONAL ASSOCIATION\", \"BANK OF AMERICA, NATIONAL ASSOCIATION\", \"BANK OF AMERICA, NATIONAL ASSOCIATION\", \"BANK OF AMERICA, NATIONAL ASSOCIATION\", \"BANK OF AMERICA, NATIONAL ASSOCIATION\", \"BANK OF AMERICA, NATIONAL ASSOCIATION\", \"BANK OF AMERICA, NATIONAL ASSOCIATION\", \"BANK OF AMERICA, NATIONAL ASSOCIATION\", \"BANK OF AMERICA, NATIONAL ASSOCIATION\", \"BANK OF AMERICA, NATIONAL ASSOCIATION\", \"BANK OF AMERICA, NATIONAL ASSOCIATION\", \"BANK OF AMERICA, NATIONAL ASSOCIATION\", \"BANK OF AMERICA, NATIONAL ASSOCIATION\", \"BANK OF AMERICA, NATIONAL ASSOCIATION\", \"BANK OF AMERICA, NATIONAL ASSOCIATION\", \"BANK OF AMERICA, NATIONAL ASSOCIATION\", \"BANK OF AMERICA, NATIONAL ASSOCIATION\", \"BANK OF AMERICA, NATIONAL ASSOCIATION\", \"BANK OF AMERICA, NATIONAL ASSOCIATION\", \"BANK OF AMERICA, NATIONAL ASSOCIATION\", \"BANK OF AMERICA, NATIONAL ASSOCIATION\", \"BANK OF AMERICA, NATIONAL ASSOCIATION\", \"BANK OF AMERICA, NATIONAL ASSOCIATION\", \"BANK OF AMERICA, NATIONAL ASSOCIATION\", \"BANK OF AMERICA, NATIONAL ASSOCIATION\", \"BANK OF AMERICA, NATIONAL ASSOCIATION\", \"BANK OF AMERICA, NATIONAL ASSOCIATION\", \"BANK OF AMERICA, NATIONAL ASSOCIATION\", \"BANK OF AMERICA, NATIONAL ASSOCIATION\", \"BANK OF AMERICA, NATIONAL ASSOCIATION\", \"BANK OF AMERICA, NATIONAL ASSOCIATION\", \"BANK OF AMERICA, NATIONAL ASSOCIATION\", \"BANK OF AMERICA, NATIONAL ASSOCIATION\", \"BANK OF AMERICA, NATIONAL ASSOCIATION\", \"BANK OF AMERICA, NATIONAL ASSOCIATION\", \"BANK OF AMERICA, NATIONAL ASSOCIATION\", \"BANK OF AMERICA, NATIONAL ASSOCIATION\", \"CAPITAL ONE FINANCIAL CORPORATION\", \"CAPITAL ONE FINANCIAL CORPORATION\", \"CAPITAL ONE FINANCIAL CORPORATION\", \"CAPITAL ONE FINANCIAL CORPORATION\", \"CAPITAL ONE FINANCIAL CORPORATION\", \"CAPITAL ONE FINANCIAL CORPORATION\", \"CAPITAL ONE FINANCIAL CORPORATION\", \"CAPITAL ONE FINANCIAL CORPORATION\", \"CAPITAL ONE FINANCIAL CORPORATION\", \"CAPITAL ONE FINANCIAL CORPORATION\", \"CAPITAL ONE FINANCIAL CORPORATION\", \"CAPITAL ONE FINANCIAL CORPORATION\", \"CAPITAL ONE FINANCIAL CORPORATION\", \"CAPITAL ONE FINANCIAL CORPORATION\", \"CAPITAL ONE FINANCIAL CORPORATION\", \"CAPITAL ONE FINANCIAL CORPORATION\", \"CAPITAL ONE FINANCIAL CORPORATION\", \"CAPITAL ONE FINANCIAL CORPORATION\", \"CAPITAL ONE FINANCIAL CORPORATION\", \"CAPITAL ONE FINANCIAL CORPORATION\", \"CAPITAL ONE FINANCIAL CORPORATION\", \"CAPITAL ONE FINANCIAL CORPORATION\", \"CAPITAL ONE FINANCIAL CORPORATION\", \"CAPITAL ONE FINANCIAL CORPORATION\", \"CAPITAL ONE FINANCIAL CORPORATION\", \"CAPITAL ONE FINANCIAL CORPORATION\", \"CAPITAL ONE FINANCIAL CORPORATION\", \"CAPITAL ONE FINANCIAL CORPORATION\", \"CAPITAL ONE FINANCIAL CORPORATION\", \"CAPITAL ONE FINANCIAL CORPORATION\", \"CAPITAL ONE FINANCIAL CORPORATION\", \"CAPITAL ONE FINANCIAL CORPORATION\", \"CAPITAL ONE FINANCIAL CORPORATION\", \"CAPITAL ONE FINANCIAL CORPORATION\", \"CAPITAL ONE FINANCIAL CORPORATION\", \"CAPITAL ONE FINANCIAL CORPORATION\", \"CAPITAL ONE FINANCIAL CORPORATION\", \"CAPITAL ONE FINANCIAL CORPORATION\", \"CAPITAL ONE FINANCIAL CORPORATION\", \"JPMORGAN CHASE & CO.\", \"JPMORGAN CHASE & CO.\", \"JPMORGAN CHASE & CO.\", \"JPMORGAN CHASE & CO.\", \"JPMORGAN CHASE & CO.\", \"JPMORGAN CHASE & CO.\", \"JPMORGAN CHASE & CO.\", \"JPMORGAN CHASE & CO.\", \"JPMORGAN CHASE & CO.\", \"JPMORGAN CHASE & CO.\", \"JPMORGAN CHASE & CO.\", \"JPMORGAN CHASE & CO.\", \"JPMORGAN CHASE & CO.\", \"JPMORGAN CHASE & CO.\", \"JPMORGAN CHASE & CO.\", \"JPMORGAN CHASE & CO.\", \"JPMORGAN CHASE & CO.\", \"JPMORGAN CHASE & CO.\", \"JPMORGAN CHASE & CO.\", \"JPMORGAN CHASE & CO.\", \"JPMORGAN CHASE & CO.\", \"JPMORGAN CHASE & CO.\", \"JPMORGAN CHASE & CO.\", \"JPMORGAN CHASE & CO.\", \"JPMORGAN CHASE & CO.\", \"JPMORGAN CHASE & CO.\", \"JPMORGAN CHASE & CO.\", \"JPMORGAN CHASE & CO.\", \"JPMORGAN CHASE & CO.\", \"JPMORGAN CHASE & CO.\", \"JPMORGAN CHASE & CO.\", \"JPMORGAN CHASE & CO.\", \"JPMORGAN CHASE & CO.\", \"JPMORGAN CHASE & CO.\", \"JPMORGAN CHASE & CO.\", \"JPMORGAN CHASE & CO.\", \"JPMORGAN CHASE & CO.\", \"JPMORGAN CHASE & CO.\", \"JPMORGAN CHASE & CO.\"], \"x0\": \" \", \"xaxis\": \"x\", \"y\": [711, 662, 790, 936, 762, 686, 731, 700, 678, 741, 496, 419, 455, 414, 540, 699, 650, 638, 716, 767, 695, 702, 603, 656, 693, 626, 675, 806, 690, 794, 718, 769, 851, 923, 880, 1025, 997, 1066, 561, 701, 598, 745, 726, 733, 687, 601, 568, 569, 634, 555, 561, 587, 580, 641, 590, 609, 606, 666, 708, 638, 757, 693, 580, 766, 691, 696, 788, 833, 821, 842, 896, 743, 876, 918, 906, 852, 947, 694, 745, 723, 811, 920, 828, 683, 722, 746, 640, 727, 695, 666, 756, 634, 756, 749, 778, 710, 688, 762, 659, 657, 541, 570, 616, 597, 707, 832, 780, 868, 941, 831, 749, 776, 740, 785, 793, 816, 464], \"y0\": \" \", \"yaxis\": \"y\"}, {\"alignmentgroup\": \"True\", \"hovertemplate\": \"Groups=3<br>Companies=%{x}<br>Monthly complaints=%{y}<extra></extra>\", \"legendgroup\": \"3\", \"marker\": {\"color\": \"#2CA02C\"}, \"name\": \"3\", \"notched\": false, \"offsetgroup\": \"3\", \"orientation\": \"v\", \"showlegend\": true, \"type\": \"box\", \"x\": [\"CITIBANK, N.A.\", \"CITIBANK, N.A.\", \"CITIBANK, N.A.\", \"CITIBANK, N.A.\", \"CITIBANK, N.A.\", \"CITIBANK, N.A.\", \"CITIBANK, N.A.\", \"CITIBANK, N.A.\", \"CITIBANK, N.A.\", \"CITIBANK, N.A.\", \"CITIBANK, N.A.\", \"CITIBANK, N.A.\", \"CITIBANK, N.A.\", \"CITIBANK, N.A.\", \"CITIBANK, N.A.\", \"CITIBANK, N.A.\", \"CITIBANK, N.A.\", \"CITIBANK, N.A.\", \"CITIBANK, N.A.\", \"CITIBANK, N.A.\", \"CITIBANK, N.A.\", \"CITIBANK, N.A.\", \"CITIBANK, N.A.\", \"CITIBANK, N.A.\", \"CITIBANK, N.A.\", \"CITIBANK, N.A.\", \"CITIBANK, N.A.\", \"CITIBANK, N.A.\", \"CITIBANK, N.A.\", \"CITIBANK, N.A.\", \"CITIBANK, N.A.\", \"CITIBANK, N.A.\", \"CITIBANK, N.A.\", \"CITIBANK, N.A.\", \"CITIBANK, N.A.\", \"CITIBANK, N.A.\", \"CITIBANK, N.A.\", \"CITIBANK, N.A.\", \"CITIBANK, N.A.\", \"WELLS FARGO & COMPANY\", \"WELLS FARGO & COMPANY\", \"WELLS FARGO & COMPANY\", \"WELLS FARGO & COMPANY\", \"WELLS FARGO & COMPANY\", \"WELLS FARGO & COMPANY\", \"WELLS FARGO & COMPANY\", \"WELLS FARGO & COMPANY\", \"WELLS FARGO & COMPANY\", \"WELLS FARGO & COMPANY\", \"WELLS FARGO & COMPANY\", \"WELLS FARGO & COMPANY\", \"WELLS FARGO & COMPANY\", \"WELLS FARGO & COMPANY\", \"WELLS FARGO & COMPANY\", \"WELLS FARGO & COMPANY\", \"WELLS FARGO & COMPANY\", \"WELLS FARGO & COMPANY\", \"WELLS FARGO & COMPANY\", \"WELLS FARGO & COMPANY\", \"WELLS FARGO & COMPANY\", \"WELLS FARGO & COMPANY\", \"WELLS FARGO & COMPANY\", \"WELLS FARGO & COMPANY\", \"WELLS FARGO & COMPANY\", \"WELLS FARGO & COMPANY\", \"WELLS FARGO & COMPANY\", \"WELLS FARGO & COMPANY\", \"WELLS FARGO & COMPANY\", \"WELLS FARGO & COMPANY\", \"WELLS FARGO & COMPANY\", \"WELLS FARGO & COMPANY\", \"WELLS FARGO & COMPANY\", \"WELLS FARGO & COMPANY\", \"WELLS FARGO & COMPANY\", \"WELLS FARGO & COMPANY\", \"WELLS FARGO & COMPANY\", \"WELLS FARGO & COMPANY\", \"WELLS FARGO & COMPANY\"], \"x0\": \" \", \"xaxis\": \"x\", \"y\": [658, 608, 644, 705, 584, 508, 552, 611, 523, 656, 609, 605, 587, 543, 628, 601, 590, 578, 606, 611, 563, 637, 559, 562, 599, 638, 686, 850, 801, 772, 783, 709, 724, 739, 644, 775, 817, 768, 456, 714, 697, 842, 1015, 818, 706, 696, 776, 658, 672, 577, 618, 600, 659, 743, 674, 718, 649, 686, 602, 512, 595, 478, 507, 561, 557, 608, 605, 645, 677, 704, 664, 675, 654, 565, 619, 613, 639, 424], \"y0\": \" \", \"yaxis\": \"y\"}, {\"alignmentgroup\": \"True\", \"hovertemplate\": \"Groups=4<br>Companies=%{x}<br>Monthly complaints=%{y}<extra></extra>\", \"legendgroup\": \"4\", \"marker\": {\"color\": \"#D62728\"}, \"name\": \"4\", \"notched\": false, \"offsetgroup\": \"4\", \"orientation\": \"v\", \"showlegend\": true, \"type\": \"box\", \"x\": [\"SYNCHRONY FINANCIAL\", \"SYNCHRONY FINANCIAL\", \"SYNCHRONY FINANCIAL\", \"SYNCHRONY FINANCIAL\", \"SYNCHRONY FINANCIAL\", \"SYNCHRONY FINANCIAL\", \"SYNCHRONY FINANCIAL\", \"SYNCHRONY FINANCIAL\", \"SYNCHRONY FINANCIAL\", \"SYNCHRONY FINANCIAL\", \"SYNCHRONY FINANCIAL\", \"SYNCHRONY FINANCIAL\", \"SYNCHRONY FINANCIAL\", \"SYNCHRONY FINANCIAL\", \"SYNCHRONY FINANCIAL\", \"SYNCHRONY FINANCIAL\", \"SYNCHRONY FINANCIAL\", \"SYNCHRONY FINANCIAL\", \"SYNCHRONY FINANCIAL\", \"SYNCHRONY FINANCIAL\", \"SYNCHRONY FINANCIAL\", \"SYNCHRONY FINANCIAL\", \"SYNCHRONY FINANCIAL\", \"SYNCHRONY FINANCIAL\", \"SYNCHRONY FINANCIAL\", \"SYNCHRONY FINANCIAL\", \"SYNCHRONY FINANCIAL\", \"SYNCHRONY FINANCIAL\", \"SYNCHRONY FINANCIAL\", \"SYNCHRONY FINANCIAL\", \"SYNCHRONY FINANCIAL\", \"SYNCHRONY FINANCIAL\", \"SYNCHRONY FINANCIAL\", \"SYNCHRONY FINANCIAL\", \"SYNCHRONY FINANCIAL\", \"SYNCHRONY FINANCIAL\", \"SYNCHRONY FINANCIAL\", \"SYNCHRONY FINANCIAL\", \"SYNCHRONY FINANCIAL\"], \"x0\": \" \", \"xaxis\": \"x\", \"y\": [412, 367, 433, 404, 399, 354, 395, 431, 359, 429, 362, 331, 341, 311, 466, 415, 401, 385, 422, 443, 366, 355, 430, 319, 337, 364, 345, 388, 405, 401, 469, 450, 409, 404, 422, 448, 417, 494, 240], \"y0\": \" \", \"yaxis\": \"y\"}, {\"alignmentgroup\": \"True\", \"hovertemplate\": \"Groups=5<br>Companies=%{x}<br>Monthly complaints=%{y}<extra></extra>\", \"legendgroup\": \"5\", \"marker\": {\"color\": \"#9467BD\"}, \"name\": \"5\", \"notched\": false, \"offsetgroup\": \"5\", \"orientation\": \"v\", \"showlegend\": true, \"type\": \"box\", \"x\": [\"AMERICAN EXPRESS COMPANY\", \"AMERICAN EXPRESS COMPANY\", \"AMERICAN EXPRESS COMPANY\", \"AMERICAN EXPRESS COMPANY\", \"AMERICAN EXPRESS COMPANY\", \"AMERICAN EXPRESS COMPANY\", \"AMERICAN EXPRESS COMPANY\", \"AMERICAN EXPRESS COMPANY\", \"AMERICAN EXPRESS COMPANY\", \"AMERICAN EXPRESS COMPANY\", \"AMERICAN EXPRESS COMPANY\", \"AMERICAN EXPRESS COMPANY\", \"AMERICAN EXPRESS COMPANY\", \"AMERICAN EXPRESS COMPANY\", \"AMERICAN EXPRESS COMPANY\", \"AMERICAN EXPRESS COMPANY\", \"AMERICAN EXPRESS COMPANY\", \"AMERICAN EXPRESS COMPANY\", \"AMERICAN EXPRESS COMPANY\", \"AMERICAN EXPRESS COMPANY\", \"AMERICAN EXPRESS COMPANY\", \"AMERICAN EXPRESS COMPANY\", \"AMERICAN EXPRESS COMPANY\", \"AMERICAN EXPRESS COMPANY\", \"AMERICAN EXPRESS COMPANY\", \"AMERICAN EXPRESS COMPANY\", \"AMERICAN EXPRESS COMPANY\", \"AMERICAN EXPRESS COMPANY\", \"AMERICAN EXPRESS COMPANY\", \"AMERICAN EXPRESS COMPANY\", \"AMERICAN EXPRESS COMPANY\", \"AMERICAN EXPRESS COMPANY\", \"AMERICAN EXPRESS COMPANY\", \"AMERICAN EXPRESS COMPANY\", \"AMERICAN EXPRESS COMPANY\", \"AMERICAN EXPRESS COMPANY\", \"AMERICAN EXPRESS COMPANY\", \"AMERICAN EXPRESS COMPANY\", \"AMERICAN EXPRESS COMPANY\", \"Alliance Data Card Services\", \"Alliance Data Card Services\", \"Alliance Data Card Services\", \"Alliance Data Card Services\", \"Alliance Data Card Services\", \"Alliance Data Card Services\", \"Alliance Data Card Services\", \"Alliance Data Card Services\", \"Alliance Data Card Services\", \"Alliance Data Card Services\", \"Alliance Data Card Services\", \"Alliance Data Card Services\", \"Alliance Data Card Services\", \"Alliance Data Card Services\", \"Alliance Data Card Services\", \"Alliance Data Card Services\", \"Alliance Data Card Services\", \"Alliance Data Card Services\", \"Alliance Data Card Services\", \"Alliance Data Card Services\", \"Alliance Data Card Services\", \"Alliance Data Card Services\", \"Alliance Data Card Services\", \"Alliance Data Card Services\", \"Alliance Data Card Services\", \"Alliance Data Card Services\", \"Alliance Data Card Services\", \"Alliance Data Card Services\", \"Alliance Data Card Services\", \"Alliance Data Card Services\", \"Alliance Data Card Services\", \"Alliance Data Card Services\", \"Alliance Data Card Services\", \"Alliance Data Card Services\", \"Alliance Data Card Services\", \"Alliance Data Card Services\", \"Alliance Data Card Services\", \"Alliance Data Card Services\", \"Alliance Data Card Services\", \"Navient Solutions, LLC.\", \"Navient Solutions, LLC.\", \"Navient Solutions, LLC.\", \"Navient Solutions, LLC.\", \"Navient Solutions, LLC.\", \"Navient Solutions, LLC.\", \"Navient Solutions, LLC.\", \"Navient Solutions, LLC.\", \"Navient Solutions, LLC.\", \"Navient Solutions, LLC.\", \"Navient Solutions, LLC.\", \"Navient Solutions, LLC.\", \"Navient Solutions, LLC.\", \"Navient Solutions, LLC.\", \"Navient Solutions, LLC.\", \"Navient Solutions, LLC.\", \"Navient Solutions, LLC.\", \"Navient Solutions, LLC.\", \"Navient Solutions, LLC.\", \"Navient Solutions, LLC.\", \"Navient Solutions, LLC.\", \"Navient Solutions, LLC.\", \"Navient Solutions, LLC.\", \"Navient Solutions, LLC.\", \"Navient Solutions, LLC.\", \"Navient Solutions, LLC.\", \"Navient Solutions, LLC.\", \"Navient Solutions, LLC.\", \"Navient Solutions, LLC.\", \"Navient Solutions, LLC.\", \"Navient Solutions, LLC.\", \"Navient Solutions, LLC.\", \"Navient Solutions, LLC.\", \"Navient Solutions, LLC.\", \"Navient Solutions, LLC.\", \"Navient Solutions, LLC.\", \"Navient Solutions, LLC.\", \"Navient Solutions, LLC.\", \"Navient Solutions, LLC.\", \"PORTFOLIO RECOVERY ASSOCIATES INC\", \"PORTFOLIO RECOVERY ASSOCIATES INC\", \"PORTFOLIO RECOVERY ASSOCIATES INC\", \"PORTFOLIO RECOVERY ASSOCIATES INC\", \"PORTFOLIO RECOVERY ASSOCIATES INC\", \"PORTFOLIO RECOVERY ASSOCIATES INC\", \"PORTFOLIO RECOVERY ASSOCIATES INC\", \"PORTFOLIO RECOVERY ASSOCIATES INC\", \"PORTFOLIO RECOVERY ASSOCIATES INC\", \"PORTFOLIO RECOVERY ASSOCIATES INC\", \"PORTFOLIO RECOVERY ASSOCIATES INC\", \"PORTFOLIO RECOVERY ASSOCIATES INC\", \"PORTFOLIO RECOVERY ASSOCIATES INC\", \"PORTFOLIO RECOVERY ASSOCIATES INC\", \"PORTFOLIO RECOVERY ASSOCIATES INC\", \"PORTFOLIO RECOVERY ASSOCIATES INC\", \"PORTFOLIO RECOVERY ASSOCIATES INC\", \"PORTFOLIO RECOVERY ASSOCIATES INC\", \"PORTFOLIO RECOVERY ASSOCIATES INC\", \"PORTFOLIO RECOVERY ASSOCIATES INC\", \"PORTFOLIO RECOVERY ASSOCIATES INC\", \"PORTFOLIO RECOVERY ASSOCIATES INC\", \"PORTFOLIO RECOVERY ASSOCIATES INC\", \"PORTFOLIO RECOVERY ASSOCIATES INC\", \"PORTFOLIO RECOVERY ASSOCIATES INC\", \"PORTFOLIO RECOVERY ASSOCIATES INC\", \"PORTFOLIO RECOVERY ASSOCIATES INC\", \"PORTFOLIO RECOVERY ASSOCIATES INC\", \"PORTFOLIO RECOVERY ASSOCIATES INC\", \"PORTFOLIO RECOVERY ASSOCIATES INC\", \"PORTFOLIO RECOVERY ASSOCIATES INC\", \"PORTFOLIO RECOVERY ASSOCIATES INC\", \"PORTFOLIO RECOVERY ASSOCIATES INC\", \"PORTFOLIO RECOVERY ASSOCIATES INC\", \"PORTFOLIO RECOVERY ASSOCIATES INC\", \"PORTFOLIO RECOVERY ASSOCIATES INC\", \"PORTFOLIO RECOVERY ASSOCIATES INC\", \"PORTFOLIO RECOVERY ASSOCIATES INC\", \"PORTFOLIO RECOVERY ASSOCIATES INC\", \"U.S. BANCORP\", \"U.S. BANCORP\", \"U.S. BANCORP\", \"U.S. BANCORP\", \"U.S. BANCORP\", \"U.S. BANCORP\", \"U.S. BANCORP\", \"U.S. BANCORP\", \"U.S. BANCORP\", \"U.S. BANCORP\", \"U.S. BANCORP\", \"U.S. BANCORP\", \"U.S. BANCORP\", \"U.S. BANCORP\", \"U.S. BANCORP\", \"U.S. BANCORP\", \"U.S. BANCORP\", \"U.S. BANCORP\", \"U.S. BANCORP\", \"U.S. BANCORP\", \"U.S. BANCORP\", \"U.S. BANCORP\", \"U.S. BANCORP\", \"U.S. BANCORP\", \"U.S. BANCORP\", \"U.S. BANCORP\", \"U.S. BANCORP\", \"U.S. BANCORP\", \"U.S. BANCORP\", \"U.S. BANCORP\", \"U.S. BANCORP\", \"U.S. BANCORP\", \"U.S. BANCORP\", \"U.S. BANCORP\", \"U.S. BANCORP\", \"U.S. BANCORP\", \"U.S. BANCORP\", \"U.S. BANCORP\", \"U.S. BANCORP\"], \"x0\": \" \", \"xaxis\": \"x\", \"y\": [234, 228, 250, 226, 237, 175, 239, 234, 197, 354, 253, 232, 240, 229, 264, 226, 253, 230, 238, 261, 231, 224, 208, 222, 228, 204, 251, 352, 362, 281, 277, 291, 233, 233, 218, 242, 266, 247, 163, 257, 229, 247, 257, 254, 225, 207, 211, 182, 220, 190, 176, 187, 212, 233, 215, 221, 223, 260, 222, 221, 241, 218, 213, 206, 205, 224, 256, 275, 266, 246, 321, 237, 259, 308, 287, 281, 344, 190, 529, 430, 497, 484, 444, 361, 434, 425, 356, 372, 358, 412, 455, 439, 396, 329, 268, 324, 305, 288, 231, 313, 254, 194, 223, 222, 205, 209, 191, 183, 159, 155, 110, 162, 166, 166, 187, 150, 112, 255, 246, 301, 282, 307, 220, 232, 228, 205, 255, 174, 176, 166, 212, 201, 202, 192, 199, 186, 192, 209, 190, 158, 152, 201, 181, 242, 228, 249, 219, 264, 316, 307, 300, 331, 322, 345, 386, 219, 205, 185, 227, 257, 185, 173, 175, 229, 183, 205, 173, 194, 177, 150, 220, 194, 198, 203, 241, 218, 220, 235, 206, 211, 214, 211, 226, 382, 261, 289, 380, 420, 446, 487, 444, 394, 418, 379, 258], \"y0\": \" \", \"yaxis\": \"y\"}, {\"alignmentgroup\": \"True\", \"hovertemplate\": \"Groups=6<br>Companies=%{x}<br>Monthly complaints=%{y}<extra></extra>\", \"legendgroup\": \"6\", \"marker\": {\"color\": \"#8C564B\"}, \"name\": \"6\", \"notched\": false, \"offsetgroup\": \"6\", \"orientation\": \"v\", \"showlegend\": true, \"type\": \"box\", \"x\": [\"PNC Bank N.A.\", \"PNC Bank N.A.\", \"PNC Bank N.A.\", \"PNC Bank N.A.\", \"PNC Bank N.A.\", \"PNC Bank N.A.\", \"PNC Bank N.A.\", \"PNC Bank N.A.\", \"PNC Bank N.A.\", \"PNC Bank N.A.\", \"PNC Bank N.A.\", \"PNC Bank N.A.\", \"PNC Bank N.A.\", \"PNC Bank N.A.\", \"PNC Bank N.A.\", \"PNC Bank N.A.\", \"PNC Bank N.A.\", \"PNC Bank N.A.\", \"PNC Bank N.A.\", \"PNC Bank N.A.\", \"PNC Bank N.A.\", \"PNC Bank N.A.\", \"PNC Bank N.A.\", \"PNC Bank N.A.\", \"PNC Bank N.A.\", \"PNC Bank N.A.\", \"PNC Bank N.A.\", \"PNC Bank N.A.\", \"PNC Bank N.A.\", \"PNC Bank N.A.\", \"PNC Bank N.A.\", \"PNC Bank N.A.\", \"PNC Bank N.A.\", \"PNC Bank N.A.\", \"PNC Bank N.A.\", \"PNC Bank N.A.\", \"PNC Bank N.A.\", \"PNC Bank N.A.\", \"PNC Bank N.A.\"], \"x0\": \" \", \"xaxis\": \"x\", \"y\": [105, 126, 140, 192, 140, 141, 166, 151, 117, 146, 123, 103, 115, 123, 142, 149, 128, 130, 112, 125, 119, 144, 106, 113, 115, 119, 125, 332, 318, 1065, 1062, 458, 148, 122, 94, 128, 124, 120, 72], \"y0\": \" \", \"yaxis\": \"y\"}],                        {\"boxmode\": \"group\", \"height\": 600, \"legend\": {\"orientation\": \"h\", \"title\": {}, \"tracegroupgap\": 0, \"x\": 0.5, \"xanchor\": \"center\", \"y\": 1, \"yanchor\": \"bottom\"}, \"template\": {\"data\": {\"bar\": [{\"error_x\": {\"color\": \"rgb(36,36,36)\"}, \"error_y\": {\"color\": \"rgb(36,36,36)\"}, \"marker\": {\"line\": {\"color\": \"white\", \"width\": 0.5}}, \"type\": \"bar\"}], \"barpolar\": [{\"marker\": {\"line\": {\"color\": \"white\", \"width\": 0.5}}, \"type\": \"barpolar\"}], \"carpet\": [{\"aaxis\": {\"endlinecolor\": \"rgb(36,36,36)\", \"gridcolor\": \"white\", \"linecolor\": \"white\", \"minorgridcolor\": \"white\", \"startlinecolor\": \"rgb(36,36,36)\"}, \"baxis\": {\"endlinecolor\": \"rgb(36,36,36)\", \"gridcolor\": \"white\", \"linecolor\": \"white\", \"minorgridcolor\": \"white\", \"startlinecolor\": \"rgb(36,36,36)\"}, \"type\": \"carpet\"}], \"choropleth\": [{\"colorbar\": {\"outlinewidth\": 1, \"tickcolor\": \"rgb(36,36,36)\", \"ticks\": \"outside\"}, \"type\": \"choropleth\"}], \"contour\": [{\"colorbar\": {\"outlinewidth\": 1, \"tickcolor\": \"rgb(36,36,36)\", \"ticks\": \"outside\"}, \"colorscale\": [[0.0, \"#440154\"], [0.1111111111111111, \"#482878\"], [0.2222222222222222, \"#3e4989\"], [0.3333333333333333, \"#31688e\"], [0.4444444444444444, \"#26828e\"], [0.5555555555555556, \"#1f9e89\"], [0.6666666666666666, \"#35b779\"], [0.7777777777777778, \"#6ece58\"], [0.8888888888888888, \"#b5de2b\"], [1.0, \"#fde725\"]], \"type\": \"contour\"}], \"contourcarpet\": [{\"colorbar\": {\"outlinewidth\": 1, \"tickcolor\": \"rgb(36,36,36)\", \"ticks\": \"outside\"}, \"type\": \"contourcarpet\"}], \"heatmap\": [{\"colorbar\": {\"outlinewidth\": 1, \"tickcolor\": \"rgb(36,36,36)\", \"ticks\": \"outside\"}, \"colorscale\": [[0.0, \"#440154\"], [0.1111111111111111, \"#482878\"], [0.2222222222222222, \"#3e4989\"], [0.3333333333333333, \"#31688e\"], [0.4444444444444444, \"#26828e\"], [0.5555555555555556, \"#1f9e89\"], [0.6666666666666666, \"#35b779\"], [0.7777777777777778, \"#6ece58\"], [0.8888888888888888, \"#b5de2b\"], [1.0, \"#fde725\"]], \"type\": \"heatmap\"}], \"heatmapgl\": [{\"colorbar\": {\"outlinewidth\": 1, \"tickcolor\": \"rgb(36,36,36)\", \"ticks\": \"outside\"}, \"colorscale\": [[0.0, \"#440154\"], [0.1111111111111111, \"#482878\"], [0.2222222222222222, \"#3e4989\"], [0.3333333333333333, \"#31688e\"], [0.4444444444444444, \"#26828e\"], [0.5555555555555556, \"#1f9e89\"], [0.6666666666666666, \"#35b779\"], [0.7777777777777778, \"#6ece58\"], [0.8888888888888888, \"#b5de2b\"], [1.0, \"#fde725\"]], \"type\": \"heatmapgl\"}], \"histogram\": [{\"marker\": {\"line\": {\"color\": \"white\", \"width\": 0.6}}, \"type\": \"histogram\"}], \"histogram2d\": [{\"colorbar\": {\"outlinewidth\": 1, \"tickcolor\": \"rgb(36,36,36)\", \"ticks\": \"outside\"}, \"colorscale\": [[0.0, \"#440154\"], [0.1111111111111111, \"#482878\"], [0.2222222222222222, \"#3e4989\"], [0.3333333333333333, \"#31688e\"], [0.4444444444444444, \"#26828e\"], [0.5555555555555556, \"#1f9e89\"], [0.6666666666666666, \"#35b779\"], [0.7777777777777778, \"#6ece58\"], [0.8888888888888888, \"#b5de2b\"], [1.0, \"#fde725\"]], \"type\": \"histogram2d\"}], \"histogram2dcontour\": [{\"colorbar\": {\"outlinewidth\": 1, \"tickcolor\": \"rgb(36,36,36)\", \"ticks\": \"outside\"}, \"colorscale\": [[0.0, \"#440154\"], [0.1111111111111111, \"#482878\"], [0.2222222222222222, \"#3e4989\"], [0.3333333333333333, \"#31688e\"], [0.4444444444444444, \"#26828e\"], [0.5555555555555556, \"#1f9e89\"], [0.6666666666666666, \"#35b779\"], [0.7777777777777778, \"#6ece58\"], [0.8888888888888888, \"#b5de2b\"], [1.0, \"#fde725\"]], \"type\": \"histogram2dcontour\"}], \"mesh3d\": [{\"colorbar\": {\"outlinewidth\": 1, \"tickcolor\": \"rgb(36,36,36)\", \"ticks\": \"outside\"}, \"type\": \"mesh3d\"}], \"parcoords\": [{\"line\": {\"colorbar\": {\"outlinewidth\": 1, \"tickcolor\": \"rgb(36,36,36)\", \"ticks\": \"outside\"}}, \"type\": \"parcoords\"}], \"pie\": [{\"automargin\": true, \"type\": \"pie\"}], \"scatter\": [{\"marker\": {\"colorbar\": {\"outlinewidth\": 1, \"tickcolor\": \"rgb(36,36,36)\", \"ticks\": \"outside\"}}, \"type\": \"scatter\"}], \"scatter3d\": [{\"line\": {\"colorbar\": {\"outlinewidth\": 1, \"tickcolor\": \"rgb(36,36,36)\", \"ticks\": \"outside\"}}, \"marker\": {\"colorbar\": {\"outlinewidth\": 1, \"tickcolor\": \"rgb(36,36,36)\", \"ticks\": \"outside\"}}, \"type\": \"scatter3d\"}], \"scattercarpet\": [{\"marker\": {\"colorbar\": {\"outlinewidth\": 1, \"tickcolor\": \"rgb(36,36,36)\", \"ticks\": \"outside\"}}, \"type\": \"scattercarpet\"}], \"scattergeo\": [{\"marker\": {\"colorbar\": {\"outlinewidth\": 1, \"tickcolor\": \"rgb(36,36,36)\", \"ticks\": \"outside\"}}, \"type\": \"scattergeo\"}], \"scattergl\": [{\"marker\": {\"colorbar\": {\"outlinewidth\": 1, \"tickcolor\": \"rgb(36,36,36)\", \"ticks\": \"outside\"}}, \"type\": \"scattergl\"}], \"scattermapbox\": [{\"marker\": {\"colorbar\": {\"outlinewidth\": 1, \"tickcolor\": \"rgb(36,36,36)\", \"ticks\": \"outside\"}}, \"type\": \"scattermapbox\"}], \"scatterpolar\": [{\"marker\": {\"colorbar\": {\"outlinewidth\": 1, \"tickcolor\": \"rgb(36,36,36)\", \"ticks\": \"outside\"}}, \"type\": \"scatterpolar\"}], \"scatterpolargl\": [{\"marker\": {\"colorbar\": {\"outlinewidth\": 1, \"tickcolor\": \"rgb(36,36,36)\", \"ticks\": \"outside\"}}, \"type\": \"scatterpolargl\"}], \"scatterternary\": [{\"marker\": {\"colorbar\": {\"outlinewidth\": 1, \"tickcolor\": \"rgb(36,36,36)\", \"ticks\": \"outside\"}}, \"type\": \"scatterternary\"}], \"surface\": [{\"colorbar\": {\"outlinewidth\": 1, \"tickcolor\": \"rgb(36,36,36)\", \"ticks\": \"outside\"}, \"colorscale\": [[0.0, \"#440154\"], [0.1111111111111111, \"#482878\"], [0.2222222222222222, \"#3e4989\"], [0.3333333333333333, \"#31688e\"], [0.4444444444444444, \"#26828e\"], [0.5555555555555556, \"#1f9e89\"], [0.6666666666666666, \"#35b779\"], [0.7777777777777778, \"#6ece58\"], [0.8888888888888888, \"#b5de2b\"], [1.0, \"#fde725\"]], \"type\": \"surface\"}], \"table\": [{\"cells\": {\"fill\": {\"color\": \"rgb(237,237,237)\"}, \"line\": {\"color\": \"white\"}}, \"header\": {\"fill\": {\"color\": \"rgb(217,217,217)\"}, \"line\": {\"color\": \"white\"}}, \"type\": \"table\"}]}, \"layout\": {\"annotationdefaults\": {\"arrowhead\": 0, \"arrowwidth\": 1}, \"autotypenumbers\": \"strict\", \"coloraxis\": {\"colorbar\": {\"outlinewidth\": 1, \"tickcolor\": \"rgb(36,36,36)\", \"ticks\": \"outside\"}}, \"colorscale\": {\"diverging\": [[0.0, \"rgb(103,0,31)\"], [0.1, \"rgb(178,24,43)\"], [0.2, \"rgb(214,96,77)\"], [0.3, \"rgb(244,165,130)\"], [0.4, \"rgb(253,219,199)\"], [0.5, \"rgb(247,247,247)\"], [0.6, \"rgb(209,229,240)\"], [0.7, \"rgb(146,197,222)\"], [0.8, \"rgb(67,147,195)\"], [0.9, \"rgb(33,102,172)\"], [1.0, \"rgb(5,48,97)\"]], \"sequential\": [[0.0, \"#440154\"], [0.1111111111111111, \"#482878\"], [0.2222222222222222, \"#3e4989\"], [0.3333333333333333, \"#31688e\"], [0.4444444444444444, \"#26828e\"], [0.5555555555555556, \"#1f9e89\"], [0.6666666666666666, \"#35b779\"], [0.7777777777777778, \"#6ece58\"], [0.8888888888888888, \"#b5de2b\"], [1.0, \"#fde725\"]], \"sequentialminus\": [[0.0, \"#440154\"], [0.1111111111111111, \"#482878\"], [0.2222222222222222, \"#3e4989\"], [0.3333333333333333, \"#31688e\"], [0.4444444444444444, \"#26828e\"], [0.5555555555555556, \"#1f9e89\"], [0.6666666666666666, \"#35b779\"], [0.7777777777777778, \"#6ece58\"], [0.8888888888888888, \"#b5de2b\"], [1.0, \"#fde725\"]]}, \"colorway\": [\"#1F77B4\", \"#FF7F0E\", \"#2CA02C\", \"#D62728\", \"#9467BD\", \"#8C564B\", \"#E377C2\", \"#7F7F7F\", \"#BCBD22\", \"#17BECF\"], \"font\": {\"color\": \"rgb(36,36,36)\"}, \"geo\": {\"bgcolor\": \"white\", \"lakecolor\": \"white\", \"landcolor\": \"white\", \"showlakes\": true, \"showland\": true, \"subunitcolor\": \"white\"}, \"hoverlabel\": {\"align\": \"left\"}, \"hovermode\": \"closest\", \"mapbox\": {\"style\": \"light\"}, \"paper_bgcolor\": \"white\", \"plot_bgcolor\": \"white\", \"polar\": {\"angularaxis\": {\"gridcolor\": \"rgb(232,232,232)\", \"linecolor\": \"rgb(36,36,36)\", \"showgrid\": false, \"showline\": true, \"ticks\": \"outside\"}, \"bgcolor\": \"white\", \"radialaxis\": {\"gridcolor\": \"rgb(232,232,232)\", \"linecolor\": \"rgb(36,36,36)\", \"showgrid\": false, \"showline\": true, \"ticks\": \"outside\"}}, \"scene\": {\"xaxis\": {\"backgroundcolor\": \"white\", \"gridcolor\": \"rgb(232,232,232)\", \"gridwidth\": 2, \"linecolor\": \"rgb(36,36,36)\", \"showbackground\": true, \"showgrid\": false, \"showline\": true, \"ticks\": \"outside\", \"zeroline\": false, \"zerolinecolor\": \"rgb(36,36,36)\"}, \"yaxis\": {\"backgroundcolor\": \"white\", \"gridcolor\": \"rgb(232,232,232)\", \"gridwidth\": 2, \"linecolor\": \"rgb(36,36,36)\", \"showbackground\": true, \"showgrid\": false, \"showline\": true, \"ticks\": \"outside\", \"zeroline\": false, \"zerolinecolor\": \"rgb(36,36,36)\"}, \"zaxis\": {\"backgroundcolor\": \"white\", \"gridcolor\": \"rgb(232,232,232)\", \"gridwidth\": 2, \"linecolor\": \"rgb(36,36,36)\", \"showbackground\": true, \"showgrid\": false, \"showline\": true, \"ticks\": \"outside\", \"zeroline\": false, \"zerolinecolor\": \"rgb(36,36,36)\"}}, \"shapedefaults\": {\"fillcolor\": \"black\", \"line\": {\"width\": 0}, \"opacity\": 0.3}, \"ternary\": {\"aaxis\": {\"gridcolor\": \"rgb(232,232,232)\", \"linecolor\": \"rgb(36,36,36)\", \"showgrid\": false, \"showline\": true, \"ticks\": \"outside\"}, \"baxis\": {\"gridcolor\": \"rgb(232,232,232)\", \"linecolor\": \"rgb(36,36,36)\", \"showgrid\": false, \"showline\": true, \"ticks\": \"outside\"}, \"bgcolor\": \"white\", \"caxis\": {\"gridcolor\": \"rgb(232,232,232)\", \"linecolor\": \"rgb(36,36,36)\", \"showgrid\": false, \"showline\": true, \"ticks\": \"outside\"}}, \"title\": {\"x\": 0.05}, \"xaxis\": {\"automargin\": true, \"gridcolor\": \"rgb(232,232,232)\", \"linecolor\": \"rgb(36,36,36)\", \"showgrid\": false, \"showline\": true, \"ticks\": \"outside\", \"title\": {\"standoff\": 15}, \"zeroline\": false, \"zerolinecolor\": \"rgb(36,36,36)\"}, \"yaxis\": {\"automargin\": true, \"gridcolor\": \"rgb(232,232,232)\", \"linecolor\": \"rgb(36,36,36)\", \"showgrid\": false, \"showline\": true, \"ticks\": \"outside\", \"title\": {\"standoff\": 15}, \"zeroline\": false, \"zerolinecolor\": \"rgb(36,36,36)\"}}}, \"title\": {\"text\": \"Boxplot - Monthly Complaints per Companies\"}, \"width\": 800, \"xaxis\": {\"anchor\": \"y\", \"domain\": [0.0, 1.0], \"title\": {\"text\": \"Companies\"}}, \"yaxis\": {\"anchor\": \"x\", \"domain\": [0.0, 1.0], \"title\": {\"text\": \"Monthly complaints\"}}},                        {\"responsive\": true}                    ).then(function(){\n",
       "                            \n",
       "var gd = document.getElementById('e084a490-bfdf-445b-8594-05e566887f65');\n",
       "var x = new MutationObserver(function (mutations, observer) {{\n",
       "        var display = window.getComputedStyle(gd).display;\n",
       "        if (!display || display === 'none') {{\n",
       "            console.log([gd, 'removed!']);\n",
       "            Plotly.purge(gd);\n",
       "            observer.disconnect();\n",
       "        }}\n",
       "}});\n",
       "\n",
       "// Listen for the removal of the full notebook cells\n",
       "var notebookContainer = gd.closest('#notebook-container');\n",
       "if (notebookContainer) {{\n",
       "    x.observe(notebookContainer, {childList: true});\n",
       "}}\n",
       "\n",
       "// Listen for the clearing of the current output cell\n",
       "var outputEl = gd.closest('.output');\n",
       "if (outputEl) {{\n",
       "    x.observe(outputEl, {childList: true});\n",
       "}}\n",
       "\n",
       "                        })                };                });            </script>        </div>"
      ]
     },
     "metadata": {},
     "output_type": "display_data"
    }
   ],
   "source": [
    "# 5 first groups\n",
    "\n",
    "df_bplot = df[df.group <= 6].groupby(['group','company_name']) \\\n",
    ".resample('M').count()['complaint_id'].reset_index()\n",
    "\n",
    "# Streamlit\n",
    "df_bplot.to_json('../tidy_data/df_bpolt.json')\n",
    "\n",
    "fig = px.box(df_bplot, x='company_name', y='complaint_id', color='group',\n",
    "             title='Boxplot - Monthly Complaints per Companies', labels={'company_name': 'Companies',\n",
    "                                                                         'complaint_id': 'Monthly complaints',\n",
    "                                                                         'group': 'Groups'},\n",
    "             category_orders={'group': [1, 2, 3, 4, 5, 6]},\n",
    "             width=800, height=600, template='simple_white')\n",
    "\n",
    "fig.update_layout(legend=dict(title=None, orientation=\"h\", y=1, yanchor=\"bottom\", x=0.5, xanchor=\"center\"))"
   ]
  },
  {
   "cell_type": "markdown",
   "id": "adapted-shadow",
   "metadata": {
    "ExecuteTime": {
     "end_time": "2021-03-31T11:38:34.274234Z",
     "start_time": "2021-03-31T11:38:34.270035Z"
    }
   },
   "source": [
    "### Do companies respond on time? (subset group <= 6)"
   ]
  },
  {
   "cell_type": "code",
   "execution_count": 327,
   "id": "average-talent",
   "metadata": {
    "ExecuteTime": {
     "end_time": "2021-03-31T16:42:29.691235Z",
     "start_time": "2021-03-31T16:42:29.591194Z"
    }
   },
   "outputs": [
    {
     "data": {
      "application/vnd.plotly.v1+json": {
       "config": {
        "plotlyServerURL": "https://plot.ly"
       },
       "data": [
        {
         "alignmentgroup": "True",
         "hovertemplate": "group=3<br>company_name=%{x}<br>complaint_id=%{y}<extra></extra>",
         "legendgroup": "3",
         "marker": {
          "color": "#1F77B4"
         },
         "name": "3",
         "offsetgroup": "3",
         "orientation": "v",
         "showlegend": true,
         "textposition": "auto",
         "type": "bar",
         "x": [
          "WELLS FARGO & COMPANY",
          "CITIBANK, N.A."
         ],
         "xaxis": "x",
         "y": [
          31.166666666666668,
          0.38461538461538464
         ],
         "yaxis": "y"
        },
        {
         "alignmentgroup": "True",
         "hovertemplate": "group=1<br>company_name=%{x}<br>complaint_id=%{y}<extra></extra>",
         "legendgroup": "1",
         "marker": {
          "color": "#FF7F0E"
         },
         "name": "1",
         "offsetgroup": "1",
         "orientation": "v",
         "showlegend": true,
         "textposition": "auto",
         "type": "bar",
         "x": [
          "EQUIFAX, INC.",
          "TRANSUNION INTERMEDIATE HOLDINGS, INC.",
          "Experian Information Solutions Inc."
         ],
         "xaxis": "x",
         "y": [
          4.371428571428571,
          0.8,
          0.4
         ],
         "yaxis": "y"
        },
        {
         "alignmentgroup": "True",
         "hovertemplate": "group=2<br>company_name=%{x}<br>complaint_id=%{y}<extra></extra>",
         "legendgroup": "2",
         "marker": {
          "color": "#2CA02C"
         },
         "name": "2",
         "offsetgroup": "2",
         "orientation": "v",
         "showlegend": true,
         "textposition": "auto",
         "type": "bar",
         "x": [
          "BANK OF AMERICA, NATIONAL ASSOCIATION",
          "JPMORGAN CHASE & CO.",
          "CAPITAL ONE FINANCIAL CORPORATION"
         ],
         "xaxis": "x",
         "y": [
          2.0526315789473686,
          1,
          0.38461538461538464
         ],
         "yaxis": "y"
        },
        {
         "alignmentgroup": "True",
         "hovertemplate": "group=5<br>company_name=%{x}<br>complaint_id=%{y}<extra></extra>",
         "legendgroup": "5",
         "marker": {
          "color": "#D62728"
         },
         "name": "5",
         "offsetgroup": "5",
         "orientation": "v",
         "showlegend": true,
         "textposition": "auto",
         "type": "bar",
         "x": [
          "AMERICAN EXPRESS COMPANY",
          "PORTFOLIO RECOVERY ASSOCIATES INC",
          "Alliance Data Card Services",
          "Navient Solutions, LLC."
         ],
         "xaxis": "x",
         "y": [
          2,
          2,
          1,
          1
         ],
         "yaxis": "y"
        },
        {
         "alignmentgroup": "True",
         "hovertemplate": "group=6<br>company_name=%{x}<br>complaint_id=%{y}<extra></extra>",
         "legendgroup": "6",
         "marker": {
          "color": "#9467BD"
         },
         "name": "6",
         "offsetgroup": "6",
         "orientation": "v",
         "showlegend": true,
         "textposition": "auto",
         "type": "bar",
         "x": [
          "PNC Bank N.A."
         ],
         "xaxis": "x",
         "y": [
          1
         ],
         "yaxis": "y"
        }
       ],
       "layout": {
        "barmode": "relative",
        "height": 600,
        "legend": {
         "title": {
          "text": "group"
         },
         "tracegroupgap": 0
        },
        "margin": {
         "t": 60
        },
        "template": {
         "data": {
          "bar": [
           {
            "error_x": {
             "color": "rgb(36,36,36)"
            },
            "error_y": {
             "color": "rgb(36,36,36)"
            },
            "marker": {
             "line": {
              "color": "white",
              "width": 0.5
             }
            },
            "type": "bar"
           }
          ],
          "barpolar": [
           {
            "marker": {
             "line": {
              "color": "white",
              "width": 0.5
             }
            },
            "type": "barpolar"
           }
          ],
          "carpet": [
           {
            "aaxis": {
             "endlinecolor": "rgb(36,36,36)",
             "gridcolor": "white",
             "linecolor": "white",
             "minorgridcolor": "white",
             "startlinecolor": "rgb(36,36,36)"
            },
            "baxis": {
             "endlinecolor": "rgb(36,36,36)",
             "gridcolor": "white",
             "linecolor": "white",
             "minorgridcolor": "white",
             "startlinecolor": "rgb(36,36,36)"
            },
            "type": "carpet"
           }
          ],
          "choropleth": [
           {
            "colorbar": {
             "outlinewidth": 1,
             "tickcolor": "rgb(36,36,36)",
             "ticks": "outside"
            },
            "type": "choropleth"
           }
          ],
          "contour": [
           {
            "colorbar": {
             "outlinewidth": 1,
             "tickcolor": "rgb(36,36,36)",
             "ticks": "outside"
            },
            "colorscale": [
             [
              0,
              "#440154"
             ],
             [
              0.1111111111111111,
              "#482878"
             ],
             [
              0.2222222222222222,
              "#3e4989"
             ],
             [
              0.3333333333333333,
              "#31688e"
             ],
             [
              0.4444444444444444,
              "#26828e"
             ],
             [
              0.5555555555555556,
              "#1f9e89"
             ],
             [
              0.6666666666666666,
              "#35b779"
             ],
             [
              0.7777777777777778,
              "#6ece58"
             ],
             [
              0.8888888888888888,
              "#b5de2b"
             ],
             [
              1,
              "#fde725"
             ]
            ],
            "type": "contour"
           }
          ],
          "contourcarpet": [
           {
            "colorbar": {
             "outlinewidth": 1,
             "tickcolor": "rgb(36,36,36)",
             "ticks": "outside"
            },
            "type": "contourcarpet"
           }
          ],
          "heatmap": [
           {
            "colorbar": {
             "outlinewidth": 1,
             "tickcolor": "rgb(36,36,36)",
             "ticks": "outside"
            },
            "colorscale": [
             [
              0,
              "#440154"
             ],
             [
              0.1111111111111111,
              "#482878"
             ],
             [
              0.2222222222222222,
              "#3e4989"
             ],
             [
              0.3333333333333333,
              "#31688e"
             ],
             [
              0.4444444444444444,
              "#26828e"
             ],
             [
              0.5555555555555556,
              "#1f9e89"
             ],
             [
              0.6666666666666666,
              "#35b779"
             ],
             [
              0.7777777777777778,
              "#6ece58"
             ],
             [
              0.8888888888888888,
              "#b5de2b"
             ],
             [
              1,
              "#fde725"
             ]
            ],
            "type": "heatmap"
           }
          ],
          "heatmapgl": [
           {
            "colorbar": {
             "outlinewidth": 1,
             "tickcolor": "rgb(36,36,36)",
             "ticks": "outside"
            },
            "colorscale": [
             [
              0,
              "#440154"
             ],
             [
              0.1111111111111111,
              "#482878"
             ],
             [
              0.2222222222222222,
              "#3e4989"
             ],
             [
              0.3333333333333333,
              "#31688e"
             ],
             [
              0.4444444444444444,
              "#26828e"
             ],
             [
              0.5555555555555556,
              "#1f9e89"
             ],
             [
              0.6666666666666666,
              "#35b779"
             ],
             [
              0.7777777777777778,
              "#6ece58"
             ],
             [
              0.8888888888888888,
              "#b5de2b"
             ],
             [
              1,
              "#fde725"
             ]
            ],
            "type": "heatmapgl"
           }
          ],
          "histogram": [
           {
            "marker": {
             "line": {
              "color": "white",
              "width": 0.6
             }
            },
            "type": "histogram"
           }
          ],
          "histogram2d": [
           {
            "colorbar": {
             "outlinewidth": 1,
             "tickcolor": "rgb(36,36,36)",
             "ticks": "outside"
            },
            "colorscale": [
             [
              0,
              "#440154"
             ],
             [
              0.1111111111111111,
              "#482878"
             ],
             [
              0.2222222222222222,
              "#3e4989"
             ],
             [
              0.3333333333333333,
              "#31688e"
             ],
             [
              0.4444444444444444,
              "#26828e"
             ],
             [
              0.5555555555555556,
              "#1f9e89"
             ],
             [
              0.6666666666666666,
              "#35b779"
             ],
             [
              0.7777777777777778,
              "#6ece58"
             ],
             [
              0.8888888888888888,
              "#b5de2b"
             ],
             [
              1,
              "#fde725"
             ]
            ],
            "type": "histogram2d"
           }
          ],
          "histogram2dcontour": [
           {
            "colorbar": {
             "outlinewidth": 1,
             "tickcolor": "rgb(36,36,36)",
             "ticks": "outside"
            },
            "colorscale": [
             [
              0,
              "#440154"
             ],
             [
              0.1111111111111111,
              "#482878"
             ],
             [
              0.2222222222222222,
              "#3e4989"
             ],
             [
              0.3333333333333333,
              "#31688e"
             ],
             [
              0.4444444444444444,
              "#26828e"
             ],
             [
              0.5555555555555556,
              "#1f9e89"
             ],
             [
              0.6666666666666666,
              "#35b779"
             ],
             [
              0.7777777777777778,
              "#6ece58"
             ],
             [
              0.8888888888888888,
              "#b5de2b"
             ],
             [
              1,
              "#fde725"
             ]
            ],
            "type": "histogram2dcontour"
           }
          ],
          "mesh3d": [
           {
            "colorbar": {
             "outlinewidth": 1,
             "tickcolor": "rgb(36,36,36)",
             "ticks": "outside"
            },
            "type": "mesh3d"
           }
          ],
          "parcoords": [
           {
            "line": {
             "colorbar": {
              "outlinewidth": 1,
              "tickcolor": "rgb(36,36,36)",
              "ticks": "outside"
             }
            },
            "type": "parcoords"
           }
          ],
          "pie": [
           {
            "automargin": true,
            "type": "pie"
           }
          ],
          "scatter": [
           {
            "marker": {
             "colorbar": {
              "outlinewidth": 1,
              "tickcolor": "rgb(36,36,36)",
              "ticks": "outside"
             }
            },
            "type": "scatter"
           }
          ],
          "scatter3d": [
           {
            "line": {
             "colorbar": {
              "outlinewidth": 1,
              "tickcolor": "rgb(36,36,36)",
              "ticks": "outside"
             }
            },
            "marker": {
             "colorbar": {
              "outlinewidth": 1,
              "tickcolor": "rgb(36,36,36)",
              "ticks": "outside"
             }
            },
            "type": "scatter3d"
           }
          ],
          "scattercarpet": [
           {
            "marker": {
             "colorbar": {
              "outlinewidth": 1,
              "tickcolor": "rgb(36,36,36)",
              "ticks": "outside"
             }
            },
            "type": "scattercarpet"
           }
          ],
          "scattergeo": [
           {
            "marker": {
             "colorbar": {
              "outlinewidth": 1,
              "tickcolor": "rgb(36,36,36)",
              "ticks": "outside"
             }
            },
            "type": "scattergeo"
           }
          ],
          "scattergl": [
           {
            "marker": {
             "colorbar": {
              "outlinewidth": 1,
              "tickcolor": "rgb(36,36,36)",
              "ticks": "outside"
             }
            },
            "type": "scattergl"
           }
          ],
          "scattermapbox": [
           {
            "marker": {
             "colorbar": {
              "outlinewidth": 1,
              "tickcolor": "rgb(36,36,36)",
              "ticks": "outside"
             }
            },
            "type": "scattermapbox"
           }
          ],
          "scatterpolar": [
           {
            "marker": {
             "colorbar": {
              "outlinewidth": 1,
              "tickcolor": "rgb(36,36,36)",
              "ticks": "outside"
             }
            },
            "type": "scatterpolar"
           }
          ],
          "scatterpolargl": [
           {
            "marker": {
             "colorbar": {
              "outlinewidth": 1,
              "tickcolor": "rgb(36,36,36)",
              "ticks": "outside"
             }
            },
            "type": "scatterpolargl"
           }
          ],
          "scatterternary": [
           {
            "marker": {
             "colorbar": {
              "outlinewidth": 1,
              "tickcolor": "rgb(36,36,36)",
              "ticks": "outside"
             }
            },
            "type": "scatterternary"
           }
          ],
          "surface": [
           {
            "colorbar": {
             "outlinewidth": 1,
             "tickcolor": "rgb(36,36,36)",
             "ticks": "outside"
            },
            "colorscale": [
             [
              0,
              "#440154"
             ],
             [
              0.1111111111111111,
              "#482878"
             ],
             [
              0.2222222222222222,
              "#3e4989"
             ],
             [
              0.3333333333333333,
              "#31688e"
             ],
             [
              0.4444444444444444,
              "#26828e"
             ],
             [
              0.5555555555555556,
              "#1f9e89"
             ],
             [
              0.6666666666666666,
              "#35b779"
             ],
             [
              0.7777777777777778,
              "#6ece58"
             ],
             [
              0.8888888888888888,
              "#b5de2b"
             ],
             [
              1,
              "#fde725"
             ]
            ],
            "type": "surface"
           }
          ],
          "table": [
           {
            "cells": {
             "fill": {
              "color": "rgb(237,237,237)"
             },
             "line": {
              "color": "white"
             }
            },
            "header": {
             "fill": {
              "color": "rgb(217,217,217)"
             },
             "line": {
              "color": "white"
             }
            },
            "type": "table"
           }
          ]
         },
         "layout": {
          "annotationdefaults": {
           "arrowhead": 0,
           "arrowwidth": 1
          },
          "autotypenumbers": "strict",
          "coloraxis": {
           "colorbar": {
            "outlinewidth": 1,
            "tickcolor": "rgb(36,36,36)",
            "ticks": "outside"
           }
          },
          "colorscale": {
           "diverging": [
            [
             0,
             "rgb(103,0,31)"
            ],
            [
             0.1,
             "rgb(178,24,43)"
            ],
            [
             0.2,
             "rgb(214,96,77)"
            ],
            [
             0.3,
             "rgb(244,165,130)"
            ],
            [
             0.4,
             "rgb(253,219,199)"
            ],
            [
             0.5,
             "rgb(247,247,247)"
            ],
            [
             0.6,
             "rgb(209,229,240)"
            ],
            [
             0.7,
             "rgb(146,197,222)"
            ],
            [
             0.8,
             "rgb(67,147,195)"
            ],
            [
             0.9,
             "rgb(33,102,172)"
            ],
            [
             1,
             "rgb(5,48,97)"
            ]
           ],
           "sequential": [
            [
             0,
             "#440154"
            ],
            [
             0.1111111111111111,
             "#482878"
            ],
            [
             0.2222222222222222,
             "#3e4989"
            ],
            [
             0.3333333333333333,
             "#31688e"
            ],
            [
             0.4444444444444444,
             "#26828e"
            ],
            [
             0.5555555555555556,
             "#1f9e89"
            ],
            [
             0.6666666666666666,
             "#35b779"
            ],
            [
             0.7777777777777778,
             "#6ece58"
            ],
            [
             0.8888888888888888,
             "#b5de2b"
            ],
            [
             1,
             "#fde725"
            ]
           ],
           "sequentialminus": [
            [
             0,
             "#440154"
            ],
            [
             0.1111111111111111,
             "#482878"
            ],
            [
             0.2222222222222222,
             "#3e4989"
            ],
            [
             0.3333333333333333,
             "#31688e"
            ],
            [
             0.4444444444444444,
             "#26828e"
            ],
            [
             0.5555555555555556,
             "#1f9e89"
            ],
            [
             0.6666666666666666,
             "#35b779"
            ],
            [
             0.7777777777777778,
             "#6ece58"
            ],
            [
             0.8888888888888888,
             "#b5de2b"
            ],
            [
             1,
             "#fde725"
            ]
           ]
          },
          "colorway": [
           "#1F77B4",
           "#FF7F0E",
           "#2CA02C",
           "#D62728",
           "#9467BD",
           "#8C564B",
           "#E377C2",
           "#7F7F7F",
           "#BCBD22",
           "#17BECF"
          ],
          "font": {
           "color": "rgb(36,36,36)"
          },
          "geo": {
           "bgcolor": "white",
           "lakecolor": "white",
           "landcolor": "white",
           "showlakes": true,
           "showland": true,
           "subunitcolor": "white"
          },
          "hoverlabel": {
           "align": "left"
          },
          "hovermode": "closest",
          "mapbox": {
           "style": "light"
          },
          "paper_bgcolor": "white",
          "plot_bgcolor": "white",
          "polar": {
           "angularaxis": {
            "gridcolor": "rgb(232,232,232)",
            "linecolor": "rgb(36,36,36)",
            "showgrid": false,
            "showline": true,
            "ticks": "outside"
           },
           "bgcolor": "white",
           "radialaxis": {
            "gridcolor": "rgb(232,232,232)",
            "linecolor": "rgb(36,36,36)",
            "showgrid": false,
            "showline": true,
            "ticks": "outside"
           }
          },
          "scene": {
           "xaxis": {
            "backgroundcolor": "white",
            "gridcolor": "rgb(232,232,232)",
            "gridwidth": 2,
            "linecolor": "rgb(36,36,36)",
            "showbackground": true,
            "showgrid": false,
            "showline": true,
            "ticks": "outside",
            "zeroline": false,
            "zerolinecolor": "rgb(36,36,36)"
           },
           "yaxis": {
            "backgroundcolor": "white",
            "gridcolor": "rgb(232,232,232)",
            "gridwidth": 2,
            "linecolor": "rgb(36,36,36)",
            "showbackground": true,
            "showgrid": false,
            "showline": true,
            "ticks": "outside",
            "zeroline": false,
            "zerolinecolor": "rgb(36,36,36)"
           },
           "zaxis": {
            "backgroundcolor": "white",
            "gridcolor": "rgb(232,232,232)",
            "gridwidth": 2,
            "linecolor": "rgb(36,36,36)",
            "showbackground": true,
            "showgrid": false,
            "showline": true,
            "ticks": "outside",
            "zeroline": false,
            "zerolinecolor": "rgb(36,36,36)"
           }
          },
          "shapedefaults": {
           "fillcolor": "black",
           "line": {
            "width": 0
           },
           "opacity": 0.3
          },
          "ternary": {
           "aaxis": {
            "gridcolor": "rgb(232,232,232)",
            "linecolor": "rgb(36,36,36)",
            "showgrid": false,
            "showline": true,
            "ticks": "outside"
           },
           "baxis": {
            "gridcolor": "rgb(232,232,232)",
            "linecolor": "rgb(36,36,36)",
            "showgrid": false,
            "showline": true,
            "ticks": "outside"
           },
           "bgcolor": "white",
           "caxis": {
            "gridcolor": "rgb(232,232,232)",
            "linecolor": "rgb(36,36,36)",
            "showgrid": false,
            "showline": true,
            "ticks": "outside"
           }
          },
          "title": {
           "x": 0.05
          },
          "xaxis": {
           "automargin": true,
           "gridcolor": "rgb(232,232,232)",
           "linecolor": "rgb(36,36,36)",
           "showgrid": false,
           "showline": true,
           "ticks": "outside",
           "title": {
            "standoff": 15
           },
           "zeroline": false,
           "zerolinecolor": "rgb(36,36,36)"
          },
          "yaxis": {
           "automargin": true,
           "gridcolor": "rgb(232,232,232)",
           "linecolor": "rgb(36,36,36)",
           "showgrid": false,
           "showline": true,
           "ticks": "outside",
           "title": {
            "standoff": 15
           },
           "zeroline": false,
           "zerolinecolor": "rgb(36,36,36)"
          }
         }
        },
        "width": 800,
        "xaxis": {
         "anchor": "y",
         "categoryarray": [
          "WELLS FARGO & COMPANY",
          "EQUIFAX, INC.",
          "BANK OF AMERICA, NATIONAL ASSOCIATION",
          "AMERICAN EXPRESS COMPANY",
          "PORTFOLIO RECOVERY ASSOCIATES INC",
          "JPMORGAN CHASE & CO.",
          "Alliance Data Card Services",
          "Navient Solutions, LLC.",
          "PNC Bank N.A.",
          "TRANSUNION INTERMEDIATE HOLDINGS, INC.",
          "Experian Information Solutions Inc.",
          "CAPITAL ONE FINANCIAL CORPORATION",
          "CITIBANK, N.A."
         ],
         "categoryorder": "array",
         "domain": [
          0,
          1
         ],
         "title": {
          "text": "company_name"
         }
        },
        "yaxis": {
         "anchor": "x",
         "domain": [
          0,
          1
         ],
         "title": {
          "text": "complaint_id"
         }
        }
       }
      },
      "text/html": [
       "<div>                            <div id=\"dd24ca80-f0f0-48ab-90ec-6339bd8f00a2\" class=\"plotly-graph-div\" style=\"height:600px; width:800px;\"></div>            <script type=\"text/javascript\">                require([\"plotly\"], function(Plotly) {                    window.PLOTLYENV=window.PLOTLYENV || {};                                    if (document.getElementById(\"dd24ca80-f0f0-48ab-90ec-6339bd8f00a2\")) {                    Plotly.newPlot(                        \"dd24ca80-f0f0-48ab-90ec-6339bd8f00a2\",                        [{\"alignmentgroup\": \"True\", \"hovertemplate\": \"group=3<br>company_name=%{x}<br>complaint_id=%{y}<extra></extra>\", \"legendgroup\": \"3\", \"marker\": {\"color\": \"#1F77B4\"}, \"name\": \"3\", \"offsetgroup\": \"3\", \"orientation\": \"v\", \"showlegend\": true, \"textposition\": \"auto\", \"type\": \"bar\", \"x\": [\"WELLS FARGO & COMPANY\", \"CITIBANK, N.A.\"], \"xaxis\": \"x\", \"y\": [31.166666666666668, 0.38461538461538464], \"yaxis\": \"y\"}, {\"alignmentgroup\": \"True\", \"hovertemplate\": \"group=1<br>company_name=%{x}<br>complaint_id=%{y}<extra></extra>\", \"legendgroup\": \"1\", \"marker\": {\"color\": \"#FF7F0E\"}, \"name\": \"1\", \"offsetgroup\": \"1\", \"orientation\": \"v\", \"showlegend\": true, \"textposition\": \"auto\", \"type\": \"bar\", \"x\": [\"EQUIFAX, INC.\", \"TRANSUNION INTERMEDIATE HOLDINGS, INC.\", \"Experian Information Solutions Inc.\"], \"xaxis\": \"x\", \"y\": [4.371428571428571, 0.8, 0.4], \"yaxis\": \"y\"}, {\"alignmentgroup\": \"True\", \"hovertemplate\": \"group=2<br>company_name=%{x}<br>complaint_id=%{y}<extra></extra>\", \"legendgroup\": \"2\", \"marker\": {\"color\": \"#2CA02C\"}, \"name\": \"2\", \"offsetgroup\": \"2\", \"orientation\": \"v\", \"showlegend\": true, \"textposition\": \"auto\", \"type\": \"bar\", \"x\": [\"BANK OF AMERICA, NATIONAL ASSOCIATION\", \"JPMORGAN CHASE & CO.\", \"CAPITAL ONE FINANCIAL CORPORATION\"], \"xaxis\": \"x\", \"y\": [2.0526315789473686, 1.0, 0.38461538461538464], \"yaxis\": \"y\"}, {\"alignmentgroup\": \"True\", \"hovertemplate\": \"group=5<br>company_name=%{x}<br>complaint_id=%{y}<extra></extra>\", \"legendgroup\": \"5\", \"marker\": {\"color\": \"#D62728\"}, \"name\": \"5\", \"offsetgroup\": \"5\", \"orientation\": \"v\", \"showlegend\": true, \"textposition\": \"auto\", \"type\": \"bar\", \"x\": [\"AMERICAN EXPRESS COMPANY\", \"PORTFOLIO RECOVERY ASSOCIATES INC\", \"Alliance Data Card Services\", \"Navient Solutions, LLC.\"], \"xaxis\": \"x\", \"y\": [2.0, 2.0, 1.0, 1.0], \"yaxis\": \"y\"}, {\"alignmentgroup\": \"True\", \"hovertemplate\": \"group=6<br>company_name=%{x}<br>complaint_id=%{y}<extra></extra>\", \"legendgroup\": \"6\", \"marker\": {\"color\": \"#9467BD\"}, \"name\": \"6\", \"offsetgroup\": \"6\", \"orientation\": \"v\", \"showlegend\": true, \"textposition\": \"auto\", \"type\": \"bar\", \"x\": [\"PNC Bank N.A.\"], \"xaxis\": \"x\", \"y\": [1.0], \"yaxis\": \"y\"}],                        {\"barmode\": \"relative\", \"height\": 600, \"legend\": {\"title\": {\"text\": \"group\"}, \"tracegroupgap\": 0}, \"margin\": {\"t\": 60}, \"template\": {\"data\": {\"bar\": [{\"error_x\": {\"color\": \"rgb(36,36,36)\"}, \"error_y\": {\"color\": \"rgb(36,36,36)\"}, \"marker\": {\"line\": {\"color\": \"white\", \"width\": 0.5}}, \"type\": \"bar\"}], \"barpolar\": [{\"marker\": {\"line\": {\"color\": \"white\", \"width\": 0.5}}, \"type\": \"barpolar\"}], \"carpet\": [{\"aaxis\": {\"endlinecolor\": \"rgb(36,36,36)\", \"gridcolor\": \"white\", \"linecolor\": \"white\", \"minorgridcolor\": \"white\", \"startlinecolor\": \"rgb(36,36,36)\"}, \"baxis\": {\"endlinecolor\": \"rgb(36,36,36)\", \"gridcolor\": \"white\", \"linecolor\": \"white\", \"minorgridcolor\": \"white\", \"startlinecolor\": \"rgb(36,36,36)\"}, \"type\": \"carpet\"}], \"choropleth\": [{\"colorbar\": {\"outlinewidth\": 1, \"tickcolor\": \"rgb(36,36,36)\", \"ticks\": \"outside\"}, \"type\": \"choropleth\"}], \"contour\": [{\"colorbar\": {\"outlinewidth\": 1, \"tickcolor\": \"rgb(36,36,36)\", \"ticks\": \"outside\"}, \"colorscale\": [[0.0, \"#440154\"], [0.1111111111111111, \"#482878\"], [0.2222222222222222, \"#3e4989\"], [0.3333333333333333, \"#31688e\"], [0.4444444444444444, \"#26828e\"], [0.5555555555555556, \"#1f9e89\"], [0.6666666666666666, \"#35b779\"], [0.7777777777777778, \"#6ece58\"], [0.8888888888888888, \"#b5de2b\"], [1.0, \"#fde725\"]], \"type\": \"contour\"}], \"contourcarpet\": [{\"colorbar\": {\"outlinewidth\": 1, \"tickcolor\": \"rgb(36,36,36)\", \"ticks\": \"outside\"}, \"type\": \"contourcarpet\"}], \"heatmap\": [{\"colorbar\": {\"outlinewidth\": 1, \"tickcolor\": \"rgb(36,36,36)\", \"ticks\": \"outside\"}, \"colorscale\": [[0.0, \"#440154\"], [0.1111111111111111, \"#482878\"], [0.2222222222222222, \"#3e4989\"], [0.3333333333333333, \"#31688e\"], [0.4444444444444444, \"#26828e\"], [0.5555555555555556, \"#1f9e89\"], [0.6666666666666666, \"#35b779\"], [0.7777777777777778, \"#6ece58\"], [0.8888888888888888, \"#b5de2b\"], [1.0, \"#fde725\"]], \"type\": \"heatmap\"}], \"heatmapgl\": [{\"colorbar\": {\"outlinewidth\": 1, \"tickcolor\": \"rgb(36,36,36)\", \"ticks\": \"outside\"}, \"colorscale\": [[0.0, \"#440154\"], [0.1111111111111111, \"#482878\"], [0.2222222222222222, \"#3e4989\"], [0.3333333333333333, \"#31688e\"], [0.4444444444444444, \"#26828e\"], [0.5555555555555556, \"#1f9e89\"], [0.6666666666666666, \"#35b779\"], [0.7777777777777778, \"#6ece58\"], [0.8888888888888888, \"#b5de2b\"], [1.0, \"#fde725\"]], \"type\": \"heatmapgl\"}], \"histogram\": [{\"marker\": {\"line\": {\"color\": \"white\", \"width\": 0.6}}, \"type\": \"histogram\"}], \"histogram2d\": [{\"colorbar\": {\"outlinewidth\": 1, \"tickcolor\": \"rgb(36,36,36)\", \"ticks\": \"outside\"}, \"colorscale\": [[0.0, \"#440154\"], [0.1111111111111111, \"#482878\"], [0.2222222222222222, \"#3e4989\"], [0.3333333333333333, \"#31688e\"], [0.4444444444444444, \"#26828e\"], [0.5555555555555556, \"#1f9e89\"], [0.6666666666666666, \"#35b779\"], [0.7777777777777778, \"#6ece58\"], [0.8888888888888888, \"#b5de2b\"], [1.0, \"#fde725\"]], \"type\": \"histogram2d\"}], \"histogram2dcontour\": [{\"colorbar\": {\"outlinewidth\": 1, \"tickcolor\": \"rgb(36,36,36)\", \"ticks\": \"outside\"}, \"colorscale\": [[0.0, \"#440154\"], [0.1111111111111111, \"#482878\"], [0.2222222222222222, \"#3e4989\"], [0.3333333333333333, \"#31688e\"], [0.4444444444444444, \"#26828e\"], [0.5555555555555556, \"#1f9e89\"], [0.6666666666666666, \"#35b779\"], [0.7777777777777778, \"#6ece58\"], [0.8888888888888888, \"#b5de2b\"], [1.0, \"#fde725\"]], \"type\": \"histogram2dcontour\"}], \"mesh3d\": [{\"colorbar\": {\"outlinewidth\": 1, \"tickcolor\": \"rgb(36,36,36)\", \"ticks\": \"outside\"}, \"type\": \"mesh3d\"}], \"parcoords\": [{\"line\": {\"colorbar\": {\"outlinewidth\": 1, \"tickcolor\": \"rgb(36,36,36)\", \"ticks\": \"outside\"}}, \"type\": \"parcoords\"}], \"pie\": [{\"automargin\": true, \"type\": \"pie\"}], \"scatter\": [{\"marker\": {\"colorbar\": {\"outlinewidth\": 1, \"tickcolor\": \"rgb(36,36,36)\", \"ticks\": \"outside\"}}, \"type\": \"scatter\"}], \"scatter3d\": [{\"line\": {\"colorbar\": {\"outlinewidth\": 1, \"tickcolor\": \"rgb(36,36,36)\", \"ticks\": \"outside\"}}, \"marker\": {\"colorbar\": {\"outlinewidth\": 1, \"tickcolor\": \"rgb(36,36,36)\", \"ticks\": \"outside\"}}, \"type\": \"scatter3d\"}], \"scattercarpet\": [{\"marker\": {\"colorbar\": {\"outlinewidth\": 1, \"tickcolor\": \"rgb(36,36,36)\", \"ticks\": \"outside\"}}, \"type\": \"scattercarpet\"}], \"scattergeo\": [{\"marker\": {\"colorbar\": {\"outlinewidth\": 1, \"tickcolor\": \"rgb(36,36,36)\", \"ticks\": \"outside\"}}, \"type\": \"scattergeo\"}], \"scattergl\": [{\"marker\": {\"colorbar\": {\"outlinewidth\": 1, \"tickcolor\": \"rgb(36,36,36)\", \"ticks\": \"outside\"}}, \"type\": \"scattergl\"}], \"scattermapbox\": [{\"marker\": {\"colorbar\": {\"outlinewidth\": 1, \"tickcolor\": \"rgb(36,36,36)\", \"ticks\": \"outside\"}}, \"type\": \"scattermapbox\"}], \"scatterpolar\": [{\"marker\": {\"colorbar\": {\"outlinewidth\": 1, \"tickcolor\": \"rgb(36,36,36)\", \"ticks\": \"outside\"}}, \"type\": \"scatterpolar\"}], \"scatterpolargl\": [{\"marker\": {\"colorbar\": {\"outlinewidth\": 1, \"tickcolor\": \"rgb(36,36,36)\", \"ticks\": \"outside\"}}, \"type\": \"scatterpolargl\"}], \"scatterternary\": [{\"marker\": {\"colorbar\": {\"outlinewidth\": 1, \"tickcolor\": \"rgb(36,36,36)\", \"ticks\": \"outside\"}}, \"type\": \"scatterternary\"}], \"surface\": [{\"colorbar\": {\"outlinewidth\": 1, \"tickcolor\": \"rgb(36,36,36)\", \"ticks\": \"outside\"}, \"colorscale\": [[0.0, \"#440154\"], [0.1111111111111111, \"#482878\"], [0.2222222222222222, \"#3e4989\"], [0.3333333333333333, \"#31688e\"], [0.4444444444444444, \"#26828e\"], [0.5555555555555556, \"#1f9e89\"], [0.6666666666666666, \"#35b779\"], [0.7777777777777778, \"#6ece58\"], [0.8888888888888888, \"#b5de2b\"], [1.0, \"#fde725\"]], \"type\": \"surface\"}], \"table\": [{\"cells\": {\"fill\": {\"color\": \"rgb(237,237,237)\"}, \"line\": {\"color\": \"white\"}}, \"header\": {\"fill\": {\"color\": \"rgb(217,217,217)\"}, \"line\": {\"color\": \"white\"}}, \"type\": \"table\"}]}, \"layout\": {\"annotationdefaults\": {\"arrowhead\": 0, \"arrowwidth\": 1}, \"autotypenumbers\": \"strict\", \"coloraxis\": {\"colorbar\": {\"outlinewidth\": 1, \"tickcolor\": \"rgb(36,36,36)\", \"ticks\": \"outside\"}}, \"colorscale\": {\"diverging\": [[0.0, \"rgb(103,0,31)\"], [0.1, \"rgb(178,24,43)\"], [0.2, \"rgb(214,96,77)\"], [0.3, \"rgb(244,165,130)\"], [0.4, \"rgb(253,219,199)\"], [0.5, \"rgb(247,247,247)\"], [0.6, \"rgb(209,229,240)\"], [0.7, \"rgb(146,197,222)\"], [0.8, \"rgb(67,147,195)\"], [0.9, \"rgb(33,102,172)\"], [1.0, \"rgb(5,48,97)\"]], \"sequential\": [[0.0, \"#440154\"], [0.1111111111111111, \"#482878\"], [0.2222222222222222, \"#3e4989\"], [0.3333333333333333, \"#31688e\"], [0.4444444444444444, \"#26828e\"], [0.5555555555555556, \"#1f9e89\"], [0.6666666666666666, \"#35b779\"], [0.7777777777777778, \"#6ece58\"], [0.8888888888888888, \"#b5de2b\"], [1.0, \"#fde725\"]], \"sequentialminus\": [[0.0, \"#440154\"], [0.1111111111111111, \"#482878\"], [0.2222222222222222, \"#3e4989\"], [0.3333333333333333, \"#31688e\"], [0.4444444444444444, \"#26828e\"], [0.5555555555555556, \"#1f9e89\"], [0.6666666666666666, \"#35b779\"], [0.7777777777777778, \"#6ece58\"], [0.8888888888888888, \"#b5de2b\"], [1.0, \"#fde725\"]]}, \"colorway\": [\"#1F77B4\", \"#FF7F0E\", \"#2CA02C\", \"#D62728\", \"#9467BD\", \"#8C564B\", \"#E377C2\", \"#7F7F7F\", \"#BCBD22\", \"#17BECF\"], \"font\": {\"color\": \"rgb(36,36,36)\"}, \"geo\": {\"bgcolor\": \"white\", \"lakecolor\": \"white\", \"landcolor\": \"white\", \"showlakes\": true, \"showland\": true, \"subunitcolor\": \"white\"}, \"hoverlabel\": {\"align\": \"left\"}, \"hovermode\": \"closest\", \"mapbox\": {\"style\": \"light\"}, \"paper_bgcolor\": \"white\", \"plot_bgcolor\": \"white\", \"polar\": {\"angularaxis\": {\"gridcolor\": \"rgb(232,232,232)\", \"linecolor\": \"rgb(36,36,36)\", \"showgrid\": false, \"showline\": true, \"ticks\": \"outside\"}, \"bgcolor\": \"white\", \"radialaxis\": {\"gridcolor\": \"rgb(232,232,232)\", \"linecolor\": \"rgb(36,36,36)\", \"showgrid\": false, \"showline\": true, \"ticks\": \"outside\"}}, \"scene\": {\"xaxis\": {\"backgroundcolor\": \"white\", \"gridcolor\": \"rgb(232,232,232)\", \"gridwidth\": 2, \"linecolor\": \"rgb(36,36,36)\", \"showbackground\": true, \"showgrid\": false, \"showline\": true, \"ticks\": \"outside\", \"zeroline\": false, \"zerolinecolor\": \"rgb(36,36,36)\"}, \"yaxis\": {\"backgroundcolor\": \"white\", \"gridcolor\": \"rgb(232,232,232)\", \"gridwidth\": 2, \"linecolor\": \"rgb(36,36,36)\", \"showbackground\": true, \"showgrid\": false, \"showline\": true, \"ticks\": \"outside\", \"zeroline\": false, \"zerolinecolor\": \"rgb(36,36,36)\"}, \"zaxis\": {\"backgroundcolor\": \"white\", \"gridcolor\": \"rgb(232,232,232)\", \"gridwidth\": 2, \"linecolor\": \"rgb(36,36,36)\", \"showbackground\": true, \"showgrid\": false, \"showline\": true, \"ticks\": \"outside\", \"zeroline\": false, \"zerolinecolor\": \"rgb(36,36,36)\"}}, \"shapedefaults\": {\"fillcolor\": \"black\", \"line\": {\"width\": 0}, \"opacity\": 0.3}, \"ternary\": {\"aaxis\": {\"gridcolor\": \"rgb(232,232,232)\", \"linecolor\": \"rgb(36,36,36)\", \"showgrid\": false, \"showline\": true, \"ticks\": \"outside\"}, \"baxis\": {\"gridcolor\": \"rgb(232,232,232)\", \"linecolor\": \"rgb(36,36,36)\", \"showgrid\": false, \"showline\": true, \"ticks\": \"outside\"}, \"bgcolor\": \"white\", \"caxis\": {\"gridcolor\": \"rgb(232,232,232)\", \"linecolor\": \"rgb(36,36,36)\", \"showgrid\": false, \"showline\": true, \"ticks\": \"outside\"}}, \"title\": {\"x\": 0.05}, \"xaxis\": {\"automargin\": true, \"gridcolor\": \"rgb(232,232,232)\", \"linecolor\": \"rgb(36,36,36)\", \"showgrid\": false, \"showline\": true, \"ticks\": \"outside\", \"title\": {\"standoff\": 15}, \"zeroline\": false, \"zerolinecolor\": \"rgb(36,36,36)\"}, \"yaxis\": {\"automargin\": true, \"gridcolor\": \"rgb(232,232,232)\", \"linecolor\": \"rgb(36,36,36)\", \"showgrid\": false, \"showline\": true, \"ticks\": \"outside\", \"title\": {\"standoff\": 15}, \"zeroline\": false, \"zerolinecolor\": \"rgb(36,36,36)\"}}}, \"width\": 800, \"xaxis\": {\"anchor\": \"y\", \"categoryarray\": [\"WELLS FARGO & COMPANY\", \"EQUIFAX, INC.\", \"BANK OF AMERICA, NATIONAL ASSOCIATION\", \"AMERICAN EXPRESS COMPANY\", \"PORTFOLIO RECOVERY ASSOCIATES INC\", \"JPMORGAN CHASE & CO.\", \"Alliance Data Card Services\", \"Navient Solutions, LLC.\", \"PNC Bank N.A.\", \"TRANSUNION INTERMEDIATE HOLDINGS, INC.\", \"Experian Information Solutions Inc.\", \"CAPITAL ONE FINANCIAL CORPORATION\", \"CITIBANK, N.A.\"], \"categoryorder\": \"array\", \"domain\": [0.0, 1.0], \"title\": {\"text\": \"company_name\"}}, \"yaxis\": {\"anchor\": \"x\", \"domain\": [0.0, 1.0], \"title\": {\"text\": \"complaint_id\"}}},                        {\"responsive\": true}                    ).then(function(){\n",
       "                            \n",
       "var gd = document.getElementById('dd24ca80-f0f0-48ab-90ec-6339bd8f00a2');\n",
       "var x = new MutationObserver(function (mutations, observer) {{\n",
       "        var display = window.getComputedStyle(gd).display;\n",
       "        if (!display || display === 'none') {{\n",
       "            console.log([gd, 'removed!']);\n",
       "            Plotly.purge(gd);\n",
       "            observer.disconnect();\n",
       "        }}\n",
       "}});\n",
       "\n",
       "// Listen for the removal of the full notebook cells\n",
       "var notebookContainer = gd.closest('#notebook-container');\n",
       "if (notebookContainer) {{\n",
       "    x.observe(notebookContainer, {childList: true});\n",
       "}}\n",
       "\n",
       "// Listen for the clearing of the current output cell\n",
       "var outputEl = gd.closest('.output');\n",
       "if (outputEl) {{\n",
       "    x.observe(outputEl, {childList: true});\n",
       "}}\n",
       "\n",
       "                        })                };                });            </script>        </div>"
      ]
     },
     "metadata": {},
     "output_type": "display_data"
    }
   ],
   "source": [
    "df_sub7 = df.loc[(df.group <= 6) & (df.timely_response == False)]\n",
    "df_sub7_bplot = df_sub7.groupby(['group', 'company_name']).resample('M') \\\n",
    ".count()['complaint_id'].reset_index().groupby(['group', 'company_name']).mean() \\\n",
    ".reset_index().sort_values(by=['complaint_id'], ascending=False)\n",
    "\n",
    "df_sub7_bplot['group'] = df_sub7_bplot['group'].astype(str)\n",
    "\n",
    "# Streamlit\n",
    "df_sub7_bplot.to_json('../tidy_data/df_sub7_bplot.json')\n",
    "\n",
    "fig = px.bar(df_sub7_bplot, x='company_name', y='complaint_id', color='group',\n",
    "             category_orders ={'company_name': df_sub7_bplot.company_name},\n",
    "             width=800, height=600, template='simple_white')\n",
    "fig.show()"
   ]
  },
  {
   "cell_type": "markdown",
   "id": "preliminary-wrestling",
   "metadata": {
    "ExecuteTime": {
     "end_time": "2021-03-31T13:39:29.825572Z",
     "start_time": "2021-03-31T13:39:29.807365Z"
    }
   },
   "source": [
    "### Which companies has the most 'In progress' responses"
   ]
  },
  {
   "cell_type": "code",
   "execution_count": 328,
   "id": "imperial-comparison",
   "metadata": {
    "ExecuteTime": {
     "end_time": "2021-03-31T19:42:49.187582Z",
     "start_time": "2021-03-31T19:42:49.088448Z"
    }
   },
   "outputs": [
    {
     "data": {
      "application/vnd.plotly.v1+json": {
       "config": {
        "plotlyServerURL": "https://plot.ly"
       },
       "data": [
        {
         "alignmentgroup": "True",
         "hovertemplate": "group=1<br>company_name=%{x}<br>complaint_id=%{y}<extra></extra>",
         "legendgroup": "1",
         "marker": {
          "color": "#1F77B4"
         },
         "name": "1",
         "offsetgroup": "1",
         "orientation": "v",
         "showlegend": true,
         "textposition": "auto",
         "type": "bar",
         "x": [
          "TRANSUNION INTERMEDIATE HOLDINGS, INC.",
          "Experian Information Solutions Inc.",
          "EQUIFAX, INC."
         ],
         "xaxis": "x",
         "y": [
          6507,
          527,
          3
         ],
         "yaxis": "y"
        },
        {
         "alignmentgroup": "True",
         "hovertemplate": "group=2<br>company_name=%{x}<br>complaint_id=%{y}<extra></extra>",
         "legendgroup": "2",
         "marker": {
          "color": "#FF7F0E"
         },
         "name": "2",
         "offsetgroup": "2",
         "orientation": "v",
         "showlegend": true,
         "textposition": "auto",
         "type": "bar",
         "x": [
          "BANK OF AMERICA, NATIONAL ASSOCIATION",
          "CAPITAL ONE FINANCIAL CORPORATION",
          "JPMORGAN CHASE & CO."
         ],
         "xaxis": "x",
         "y": [
          1452,
          184,
          151
         ],
         "yaxis": "y"
        },
        {
         "alignmentgroup": "True",
         "hovertemplate": "group=5<br>company_name=%{x}<br>complaint_id=%{y}<extra></extra>",
         "legendgroup": "5",
         "marker": {
          "color": "#2CA02C"
         },
         "name": "5",
         "offsetgroup": "5",
         "orientation": "v",
         "showlegend": true,
         "textposition": "auto",
         "type": "bar",
         "x": [
          "Alliance Data Card Services",
          "U.S. BANCORP",
          "AMERICAN EXPRESS COMPANY",
          "Navient Solutions, LLC."
         ],
         "xaxis": "x",
         "y": [
          280,
          13,
          11,
          9
         ],
         "yaxis": "y"
        },
        {
         "alignmentgroup": "True",
         "hovertemplate": "group=4<br>company_name=%{x}<br>complaint_id=%{y}<extra></extra>",
         "legendgroup": "4",
         "marker": {
          "color": "#D62728"
         },
         "name": "4",
         "offsetgroup": "4",
         "orientation": "v",
         "showlegend": true,
         "textposition": "auto",
         "type": "bar",
         "x": [
          "SYNCHRONY FINANCIAL"
         ],
         "xaxis": "x",
         "y": [
          159
         ],
         "yaxis": "y"
        },
        {
         "alignmentgroup": "True",
         "hovertemplate": "group=6<br>company_name=%{x}<br>complaint_id=%{y}<extra></extra>",
         "legendgroup": "6",
         "marker": {
          "color": "#9467BD"
         },
         "name": "6",
         "offsetgroup": "6",
         "orientation": "v",
         "showlegend": true,
         "textposition": "auto",
         "type": "bar",
         "x": [
          "PNC Bank N.A."
         ],
         "xaxis": "x",
         "y": [
          104
         ],
         "yaxis": "y"
        },
        {
         "alignmentgroup": "True",
         "hovertemplate": "group=3<br>company_name=%{x}<br>complaint_id=%{y}<extra></extra>",
         "legendgroup": "3",
         "marker": {
          "color": "#8C564B"
         },
         "name": "3",
         "offsetgroup": "3",
         "orientation": "v",
         "showlegend": true,
         "textposition": "auto",
         "type": "bar",
         "x": [
          "WELLS FARGO & COMPANY",
          "CITIBANK, N.A."
         ],
         "xaxis": "x",
         "y": [
          87,
          16
         ],
         "yaxis": "y"
        }
       ],
       "layout": {
        "barmode": "relative",
        "height": 600,
        "legend": {
         "title": {
          "text": "group"
         },
         "tracegroupgap": 0
        },
        "margin": {
         "t": 60
        },
        "template": {
         "data": {
          "bar": [
           {
            "error_x": {
             "color": "rgb(36,36,36)"
            },
            "error_y": {
             "color": "rgb(36,36,36)"
            },
            "marker": {
             "line": {
              "color": "white",
              "width": 0.5
             }
            },
            "type": "bar"
           }
          ],
          "barpolar": [
           {
            "marker": {
             "line": {
              "color": "white",
              "width": 0.5
             }
            },
            "type": "barpolar"
           }
          ],
          "carpet": [
           {
            "aaxis": {
             "endlinecolor": "rgb(36,36,36)",
             "gridcolor": "white",
             "linecolor": "white",
             "minorgridcolor": "white",
             "startlinecolor": "rgb(36,36,36)"
            },
            "baxis": {
             "endlinecolor": "rgb(36,36,36)",
             "gridcolor": "white",
             "linecolor": "white",
             "minorgridcolor": "white",
             "startlinecolor": "rgb(36,36,36)"
            },
            "type": "carpet"
           }
          ],
          "choropleth": [
           {
            "colorbar": {
             "outlinewidth": 1,
             "tickcolor": "rgb(36,36,36)",
             "ticks": "outside"
            },
            "type": "choropleth"
           }
          ],
          "contour": [
           {
            "colorbar": {
             "outlinewidth": 1,
             "tickcolor": "rgb(36,36,36)",
             "ticks": "outside"
            },
            "colorscale": [
             [
              0,
              "#440154"
             ],
             [
              0.1111111111111111,
              "#482878"
             ],
             [
              0.2222222222222222,
              "#3e4989"
             ],
             [
              0.3333333333333333,
              "#31688e"
             ],
             [
              0.4444444444444444,
              "#26828e"
             ],
             [
              0.5555555555555556,
              "#1f9e89"
             ],
             [
              0.6666666666666666,
              "#35b779"
             ],
             [
              0.7777777777777778,
              "#6ece58"
             ],
             [
              0.8888888888888888,
              "#b5de2b"
             ],
             [
              1,
              "#fde725"
             ]
            ],
            "type": "contour"
           }
          ],
          "contourcarpet": [
           {
            "colorbar": {
             "outlinewidth": 1,
             "tickcolor": "rgb(36,36,36)",
             "ticks": "outside"
            },
            "type": "contourcarpet"
           }
          ],
          "heatmap": [
           {
            "colorbar": {
             "outlinewidth": 1,
             "tickcolor": "rgb(36,36,36)",
             "ticks": "outside"
            },
            "colorscale": [
             [
              0,
              "#440154"
             ],
             [
              0.1111111111111111,
              "#482878"
             ],
             [
              0.2222222222222222,
              "#3e4989"
             ],
             [
              0.3333333333333333,
              "#31688e"
             ],
             [
              0.4444444444444444,
              "#26828e"
             ],
             [
              0.5555555555555556,
              "#1f9e89"
             ],
             [
              0.6666666666666666,
              "#35b779"
             ],
             [
              0.7777777777777778,
              "#6ece58"
             ],
             [
              0.8888888888888888,
              "#b5de2b"
             ],
             [
              1,
              "#fde725"
             ]
            ],
            "type": "heatmap"
           }
          ],
          "heatmapgl": [
           {
            "colorbar": {
             "outlinewidth": 1,
             "tickcolor": "rgb(36,36,36)",
             "ticks": "outside"
            },
            "colorscale": [
             [
              0,
              "#440154"
             ],
             [
              0.1111111111111111,
              "#482878"
             ],
             [
              0.2222222222222222,
              "#3e4989"
             ],
             [
              0.3333333333333333,
              "#31688e"
             ],
             [
              0.4444444444444444,
              "#26828e"
             ],
             [
              0.5555555555555556,
              "#1f9e89"
             ],
             [
              0.6666666666666666,
              "#35b779"
             ],
             [
              0.7777777777777778,
              "#6ece58"
             ],
             [
              0.8888888888888888,
              "#b5de2b"
             ],
             [
              1,
              "#fde725"
             ]
            ],
            "type": "heatmapgl"
           }
          ],
          "histogram": [
           {
            "marker": {
             "line": {
              "color": "white",
              "width": 0.6
             }
            },
            "type": "histogram"
           }
          ],
          "histogram2d": [
           {
            "colorbar": {
             "outlinewidth": 1,
             "tickcolor": "rgb(36,36,36)",
             "ticks": "outside"
            },
            "colorscale": [
             [
              0,
              "#440154"
             ],
             [
              0.1111111111111111,
              "#482878"
             ],
             [
              0.2222222222222222,
              "#3e4989"
             ],
             [
              0.3333333333333333,
              "#31688e"
             ],
             [
              0.4444444444444444,
              "#26828e"
             ],
             [
              0.5555555555555556,
              "#1f9e89"
             ],
             [
              0.6666666666666666,
              "#35b779"
             ],
             [
              0.7777777777777778,
              "#6ece58"
             ],
             [
              0.8888888888888888,
              "#b5de2b"
             ],
             [
              1,
              "#fde725"
             ]
            ],
            "type": "histogram2d"
           }
          ],
          "histogram2dcontour": [
           {
            "colorbar": {
             "outlinewidth": 1,
             "tickcolor": "rgb(36,36,36)",
             "ticks": "outside"
            },
            "colorscale": [
             [
              0,
              "#440154"
             ],
             [
              0.1111111111111111,
              "#482878"
             ],
             [
              0.2222222222222222,
              "#3e4989"
             ],
             [
              0.3333333333333333,
              "#31688e"
             ],
             [
              0.4444444444444444,
              "#26828e"
             ],
             [
              0.5555555555555556,
              "#1f9e89"
             ],
             [
              0.6666666666666666,
              "#35b779"
             ],
             [
              0.7777777777777778,
              "#6ece58"
             ],
             [
              0.8888888888888888,
              "#b5de2b"
             ],
             [
              1,
              "#fde725"
             ]
            ],
            "type": "histogram2dcontour"
           }
          ],
          "mesh3d": [
           {
            "colorbar": {
             "outlinewidth": 1,
             "tickcolor": "rgb(36,36,36)",
             "ticks": "outside"
            },
            "type": "mesh3d"
           }
          ],
          "parcoords": [
           {
            "line": {
             "colorbar": {
              "outlinewidth": 1,
              "tickcolor": "rgb(36,36,36)",
              "ticks": "outside"
             }
            },
            "type": "parcoords"
           }
          ],
          "pie": [
           {
            "automargin": true,
            "type": "pie"
           }
          ],
          "scatter": [
           {
            "marker": {
             "colorbar": {
              "outlinewidth": 1,
              "tickcolor": "rgb(36,36,36)",
              "ticks": "outside"
             }
            },
            "type": "scatter"
           }
          ],
          "scatter3d": [
           {
            "line": {
             "colorbar": {
              "outlinewidth": 1,
              "tickcolor": "rgb(36,36,36)",
              "ticks": "outside"
             }
            },
            "marker": {
             "colorbar": {
              "outlinewidth": 1,
              "tickcolor": "rgb(36,36,36)",
              "ticks": "outside"
             }
            },
            "type": "scatter3d"
           }
          ],
          "scattercarpet": [
           {
            "marker": {
             "colorbar": {
              "outlinewidth": 1,
              "tickcolor": "rgb(36,36,36)",
              "ticks": "outside"
             }
            },
            "type": "scattercarpet"
           }
          ],
          "scattergeo": [
           {
            "marker": {
             "colorbar": {
              "outlinewidth": 1,
              "tickcolor": "rgb(36,36,36)",
              "ticks": "outside"
             }
            },
            "type": "scattergeo"
           }
          ],
          "scattergl": [
           {
            "marker": {
             "colorbar": {
              "outlinewidth": 1,
              "tickcolor": "rgb(36,36,36)",
              "ticks": "outside"
             }
            },
            "type": "scattergl"
           }
          ],
          "scattermapbox": [
           {
            "marker": {
             "colorbar": {
              "outlinewidth": 1,
              "tickcolor": "rgb(36,36,36)",
              "ticks": "outside"
             }
            },
            "type": "scattermapbox"
           }
          ],
          "scatterpolar": [
           {
            "marker": {
             "colorbar": {
              "outlinewidth": 1,
              "tickcolor": "rgb(36,36,36)",
              "ticks": "outside"
             }
            },
            "type": "scatterpolar"
           }
          ],
          "scatterpolargl": [
           {
            "marker": {
             "colorbar": {
              "outlinewidth": 1,
              "tickcolor": "rgb(36,36,36)",
              "ticks": "outside"
             }
            },
            "type": "scatterpolargl"
           }
          ],
          "scatterternary": [
           {
            "marker": {
             "colorbar": {
              "outlinewidth": 1,
              "tickcolor": "rgb(36,36,36)",
              "ticks": "outside"
             }
            },
            "type": "scatterternary"
           }
          ],
          "surface": [
           {
            "colorbar": {
             "outlinewidth": 1,
             "tickcolor": "rgb(36,36,36)",
             "ticks": "outside"
            },
            "colorscale": [
             [
              0,
              "#440154"
             ],
             [
              0.1111111111111111,
              "#482878"
             ],
             [
              0.2222222222222222,
              "#3e4989"
             ],
             [
              0.3333333333333333,
              "#31688e"
             ],
             [
              0.4444444444444444,
              "#26828e"
             ],
             [
              0.5555555555555556,
              "#1f9e89"
             ],
             [
              0.6666666666666666,
              "#35b779"
             ],
             [
              0.7777777777777778,
              "#6ece58"
             ],
             [
              0.8888888888888888,
              "#b5de2b"
             ],
             [
              1,
              "#fde725"
             ]
            ],
            "type": "surface"
           }
          ],
          "table": [
           {
            "cells": {
             "fill": {
              "color": "rgb(237,237,237)"
             },
             "line": {
              "color": "white"
             }
            },
            "header": {
             "fill": {
              "color": "rgb(217,217,217)"
             },
             "line": {
              "color": "white"
             }
            },
            "type": "table"
           }
          ]
         },
         "layout": {
          "annotationdefaults": {
           "arrowhead": 0,
           "arrowwidth": 1
          },
          "autotypenumbers": "strict",
          "coloraxis": {
           "colorbar": {
            "outlinewidth": 1,
            "tickcolor": "rgb(36,36,36)",
            "ticks": "outside"
           }
          },
          "colorscale": {
           "diverging": [
            [
             0,
             "rgb(103,0,31)"
            ],
            [
             0.1,
             "rgb(178,24,43)"
            ],
            [
             0.2,
             "rgb(214,96,77)"
            ],
            [
             0.3,
             "rgb(244,165,130)"
            ],
            [
             0.4,
             "rgb(253,219,199)"
            ],
            [
             0.5,
             "rgb(247,247,247)"
            ],
            [
             0.6,
             "rgb(209,229,240)"
            ],
            [
             0.7,
             "rgb(146,197,222)"
            ],
            [
             0.8,
             "rgb(67,147,195)"
            ],
            [
             0.9,
             "rgb(33,102,172)"
            ],
            [
             1,
             "rgb(5,48,97)"
            ]
           ],
           "sequential": [
            [
             0,
             "#440154"
            ],
            [
             0.1111111111111111,
             "#482878"
            ],
            [
             0.2222222222222222,
             "#3e4989"
            ],
            [
             0.3333333333333333,
             "#31688e"
            ],
            [
             0.4444444444444444,
             "#26828e"
            ],
            [
             0.5555555555555556,
             "#1f9e89"
            ],
            [
             0.6666666666666666,
             "#35b779"
            ],
            [
             0.7777777777777778,
             "#6ece58"
            ],
            [
             0.8888888888888888,
             "#b5de2b"
            ],
            [
             1,
             "#fde725"
            ]
           ],
           "sequentialminus": [
            [
             0,
             "#440154"
            ],
            [
             0.1111111111111111,
             "#482878"
            ],
            [
             0.2222222222222222,
             "#3e4989"
            ],
            [
             0.3333333333333333,
             "#31688e"
            ],
            [
             0.4444444444444444,
             "#26828e"
            ],
            [
             0.5555555555555556,
             "#1f9e89"
            ],
            [
             0.6666666666666666,
             "#35b779"
            ],
            [
             0.7777777777777778,
             "#6ece58"
            ],
            [
             0.8888888888888888,
             "#b5de2b"
            ],
            [
             1,
             "#fde725"
            ]
           ]
          },
          "colorway": [
           "#1F77B4",
           "#FF7F0E",
           "#2CA02C",
           "#D62728",
           "#9467BD",
           "#8C564B",
           "#E377C2",
           "#7F7F7F",
           "#BCBD22",
           "#17BECF"
          ],
          "font": {
           "color": "rgb(36,36,36)"
          },
          "geo": {
           "bgcolor": "white",
           "lakecolor": "white",
           "landcolor": "white",
           "showlakes": true,
           "showland": true,
           "subunitcolor": "white"
          },
          "hoverlabel": {
           "align": "left"
          },
          "hovermode": "closest",
          "mapbox": {
           "style": "light"
          },
          "paper_bgcolor": "white",
          "plot_bgcolor": "white",
          "polar": {
           "angularaxis": {
            "gridcolor": "rgb(232,232,232)",
            "linecolor": "rgb(36,36,36)",
            "showgrid": false,
            "showline": true,
            "ticks": "outside"
           },
           "bgcolor": "white",
           "radialaxis": {
            "gridcolor": "rgb(232,232,232)",
            "linecolor": "rgb(36,36,36)",
            "showgrid": false,
            "showline": true,
            "ticks": "outside"
           }
          },
          "scene": {
           "xaxis": {
            "backgroundcolor": "white",
            "gridcolor": "rgb(232,232,232)",
            "gridwidth": 2,
            "linecolor": "rgb(36,36,36)",
            "showbackground": true,
            "showgrid": false,
            "showline": true,
            "ticks": "outside",
            "zeroline": false,
            "zerolinecolor": "rgb(36,36,36)"
           },
           "yaxis": {
            "backgroundcolor": "white",
            "gridcolor": "rgb(232,232,232)",
            "gridwidth": 2,
            "linecolor": "rgb(36,36,36)",
            "showbackground": true,
            "showgrid": false,
            "showline": true,
            "ticks": "outside",
            "zeroline": false,
            "zerolinecolor": "rgb(36,36,36)"
           },
           "zaxis": {
            "backgroundcolor": "white",
            "gridcolor": "rgb(232,232,232)",
            "gridwidth": 2,
            "linecolor": "rgb(36,36,36)",
            "showbackground": true,
            "showgrid": false,
            "showline": true,
            "ticks": "outside",
            "zeroline": false,
            "zerolinecolor": "rgb(36,36,36)"
           }
          },
          "shapedefaults": {
           "fillcolor": "black",
           "line": {
            "width": 0
           },
           "opacity": 0.3
          },
          "ternary": {
           "aaxis": {
            "gridcolor": "rgb(232,232,232)",
            "linecolor": "rgb(36,36,36)",
            "showgrid": false,
            "showline": true,
            "ticks": "outside"
           },
           "baxis": {
            "gridcolor": "rgb(232,232,232)",
            "linecolor": "rgb(36,36,36)",
            "showgrid": false,
            "showline": true,
            "ticks": "outside"
           },
           "bgcolor": "white",
           "caxis": {
            "gridcolor": "rgb(232,232,232)",
            "linecolor": "rgb(36,36,36)",
            "showgrid": false,
            "showline": true,
            "ticks": "outside"
           }
          },
          "title": {
           "x": 0.05
          },
          "xaxis": {
           "automargin": true,
           "gridcolor": "rgb(232,232,232)",
           "linecolor": "rgb(36,36,36)",
           "showgrid": false,
           "showline": true,
           "ticks": "outside",
           "title": {
            "standoff": 15
           },
           "zeroline": false,
           "zerolinecolor": "rgb(36,36,36)"
          },
          "yaxis": {
           "automargin": true,
           "gridcolor": "rgb(232,232,232)",
           "linecolor": "rgb(36,36,36)",
           "showgrid": false,
           "showline": true,
           "ticks": "outside",
           "title": {
            "standoff": 15
           },
           "zeroline": false,
           "zerolinecolor": "rgb(36,36,36)"
          }
         }
        },
        "width": 800,
        "xaxis": {
         "anchor": "y",
         "categoryarray": [
          "TRANSUNION INTERMEDIATE HOLDINGS, INC.",
          "BANK OF AMERICA, NATIONAL ASSOCIATION",
          "Experian Information Solutions Inc.",
          "Alliance Data Card Services",
          "CAPITAL ONE FINANCIAL CORPORATION",
          "SYNCHRONY FINANCIAL",
          "JPMORGAN CHASE & CO.",
          "PNC Bank N.A.",
          "WELLS FARGO & COMPANY",
          "CITIBANK, N.A.",
          "U.S. BANCORP",
          "AMERICAN EXPRESS COMPANY",
          "Navient Solutions, LLC.",
          "EQUIFAX, INC."
         ],
         "categoryorder": "array",
         "domain": [
          0,
          1
         ],
         "title": {
          "text": "company_name"
         }
        },
        "yaxis": {
         "anchor": "x",
         "domain": [
          0,
          1
         ],
         "title": {
          "text": "complaint_id"
         }
        }
       }
      },
      "text/html": [
       "<div>                            <div id=\"c5a1d88a-a3dd-4f1d-8fc3-54f004e7bd8e\" class=\"plotly-graph-div\" style=\"height:600px; width:800px;\"></div>            <script type=\"text/javascript\">                require([\"plotly\"], function(Plotly) {                    window.PLOTLYENV=window.PLOTLYENV || {};                                    if (document.getElementById(\"c5a1d88a-a3dd-4f1d-8fc3-54f004e7bd8e\")) {                    Plotly.newPlot(                        \"c5a1d88a-a3dd-4f1d-8fc3-54f004e7bd8e\",                        [{\"alignmentgroup\": \"True\", \"hovertemplate\": \"group=1<br>company_name=%{x}<br>complaint_id=%{y}<extra></extra>\", \"legendgroup\": \"1\", \"marker\": {\"color\": \"#1F77B4\"}, \"name\": \"1\", \"offsetgroup\": \"1\", \"orientation\": \"v\", \"showlegend\": true, \"textposition\": \"auto\", \"type\": \"bar\", \"x\": [\"TRANSUNION INTERMEDIATE HOLDINGS, INC.\", \"Experian Information Solutions Inc.\", \"EQUIFAX, INC.\"], \"xaxis\": \"x\", \"y\": [6507, 527, 3], \"yaxis\": \"y\"}, {\"alignmentgroup\": \"True\", \"hovertemplate\": \"group=2<br>company_name=%{x}<br>complaint_id=%{y}<extra></extra>\", \"legendgroup\": \"2\", \"marker\": {\"color\": \"#FF7F0E\"}, \"name\": \"2\", \"offsetgroup\": \"2\", \"orientation\": \"v\", \"showlegend\": true, \"textposition\": \"auto\", \"type\": \"bar\", \"x\": [\"BANK OF AMERICA, NATIONAL ASSOCIATION\", \"CAPITAL ONE FINANCIAL CORPORATION\", \"JPMORGAN CHASE & CO.\"], \"xaxis\": \"x\", \"y\": [1452, 184, 151], \"yaxis\": \"y\"}, {\"alignmentgroup\": \"True\", \"hovertemplate\": \"group=5<br>company_name=%{x}<br>complaint_id=%{y}<extra></extra>\", \"legendgroup\": \"5\", \"marker\": {\"color\": \"#2CA02C\"}, \"name\": \"5\", \"offsetgroup\": \"5\", \"orientation\": \"v\", \"showlegend\": true, \"textposition\": \"auto\", \"type\": \"bar\", \"x\": [\"Alliance Data Card Services\", \"U.S. BANCORP\", \"AMERICAN EXPRESS COMPANY\", \"Navient Solutions, LLC.\"], \"xaxis\": \"x\", \"y\": [280, 13, 11, 9], \"yaxis\": \"y\"}, {\"alignmentgroup\": \"True\", \"hovertemplate\": \"group=4<br>company_name=%{x}<br>complaint_id=%{y}<extra></extra>\", \"legendgroup\": \"4\", \"marker\": {\"color\": \"#D62728\"}, \"name\": \"4\", \"offsetgroup\": \"4\", \"orientation\": \"v\", \"showlegend\": true, \"textposition\": \"auto\", \"type\": \"bar\", \"x\": [\"SYNCHRONY FINANCIAL\"], \"xaxis\": \"x\", \"y\": [159], \"yaxis\": \"y\"}, {\"alignmentgroup\": \"True\", \"hovertemplate\": \"group=6<br>company_name=%{x}<br>complaint_id=%{y}<extra></extra>\", \"legendgroup\": \"6\", \"marker\": {\"color\": \"#9467BD\"}, \"name\": \"6\", \"offsetgroup\": \"6\", \"orientation\": \"v\", \"showlegend\": true, \"textposition\": \"auto\", \"type\": \"bar\", \"x\": [\"PNC Bank N.A.\"], \"xaxis\": \"x\", \"y\": [104], \"yaxis\": \"y\"}, {\"alignmentgroup\": \"True\", \"hovertemplate\": \"group=3<br>company_name=%{x}<br>complaint_id=%{y}<extra></extra>\", \"legendgroup\": \"3\", \"marker\": {\"color\": \"#8C564B\"}, \"name\": \"3\", \"offsetgroup\": \"3\", \"orientation\": \"v\", \"showlegend\": true, \"textposition\": \"auto\", \"type\": \"bar\", \"x\": [\"WELLS FARGO & COMPANY\", \"CITIBANK, N.A.\"], \"xaxis\": \"x\", \"y\": [87, 16], \"yaxis\": \"y\"}],                        {\"barmode\": \"relative\", \"height\": 600, \"legend\": {\"title\": {\"text\": \"group\"}, \"tracegroupgap\": 0}, \"margin\": {\"t\": 60}, \"template\": {\"data\": {\"bar\": [{\"error_x\": {\"color\": \"rgb(36,36,36)\"}, \"error_y\": {\"color\": \"rgb(36,36,36)\"}, \"marker\": {\"line\": {\"color\": \"white\", \"width\": 0.5}}, \"type\": \"bar\"}], \"barpolar\": [{\"marker\": {\"line\": {\"color\": \"white\", \"width\": 0.5}}, \"type\": \"barpolar\"}], \"carpet\": [{\"aaxis\": {\"endlinecolor\": \"rgb(36,36,36)\", \"gridcolor\": \"white\", \"linecolor\": \"white\", \"minorgridcolor\": \"white\", \"startlinecolor\": \"rgb(36,36,36)\"}, \"baxis\": {\"endlinecolor\": \"rgb(36,36,36)\", \"gridcolor\": \"white\", \"linecolor\": \"white\", \"minorgridcolor\": \"white\", \"startlinecolor\": \"rgb(36,36,36)\"}, \"type\": \"carpet\"}], \"choropleth\": [{\"colorbar\": {\"outlinewidth\": 1, \"tickcolor\": \"rgb(36,36,36)\", \"ticks\": \"outside\"}, \"type\": \"choropleth\"}], \"contour\": [{\"colorbar\": {\"outlinewidth\": 1, \"tickcolor\": \"rgb(36,36,36)\", \"ticks\": \"outside\"}, \"colorscale\": [[0.0, \"#440154\"], [0.1111111111111111, \"#482878\"], [0.2222222222222222, \"#3e4989\"], [0.3333333333333333, \"#31688e\"], [0.4444444444444444, \"#26828e\"], [0.5555555555555556, \"#1f9e89\"], [0.6666666666666666, \"#35b779\"], [0.7777777777777778, \"#6ece58\"], [0.8888888888888888, \"#b5de2b\"], [1.0, \"#fde725\"]], \"type\": \"contour\"}], \"contourcarpet\": [{\"colorbar\": {\"outlinewidth\": 1, \"tickcolor\": \"rgb(36,36,36)\", \"ticks\": \"outside\"}, \"type\": \"contourcarpet\"}], \"heatmap\": [{\"colorbar\": {\"outlinewidth\": 1, \"tickcolor\": \"rgb(36,36,36)\", \"ticks\": \"outside\"}, \"colorscale\": [[0.0, \"#440154\"], [0.1111111111111111, \"#482878\"], [0.2222222222222222, \"#3e4989\"], [0.3333333333333333, \"#31688e\"], [0.4444444444444444, \"#26828e\"], [0.5555555555555556, \"#1f9e89\"], [0.6666666666666666, \"#35b779\"], [0.7777777777777778, \"#6ece58\"], [0.8888888888888888, \"#b5de2b\"], [1.0, \"#fde725\"]], \"type\": \"heatmap\"}], \"heatmapgl\": [{\"colorbar\": {\"outlinewidth\": 1, \"tickcolor\": \"rgb(36,36,36)\", \"ticks\": \"outside\"}, \"colorscale\": [[0.0, \"#440154\"], [0.1111111111111111, \"#482878\"], [0.2222222222222222, \"#3e4989\"], [0.3333333333333333, \"#31688e\"], [0.4444444444444444, \"#26828e\"], [0.5555555555555556, \"#1f9e89\"], [0.6666666666666666, \"#35b779\"], [0.7777777777777778, \"#6ece58\"], [0.8888888888888888, \"#b5de2b\"], [1.0, \"#fde725\"]], \"type\": \"heatmapgl\"}], \"histogram\": [{\"marker\": {\"line\": {\"color\": \"white\", \"width\": 0.6}}, \"type\": \"histogram\"}], \"histogram2d\": [{\"colorbar\": {\"outlinewidth\": 1, \"tickcolor\": \"rgb(36,36,36)\", \"ticks\": \"outside\"}, \"colorscale\": [[0.0, \"#440154\"], [0.1111111111111111, \"#482878\"], [0.2222222222222222, \"#3e4989\"], [0.3333333333333333, \"#31688e\"], [0.4444444444444444, \"#26828e\"], [0.5555555555555556, \"#1f9e89\"], [0.6666666666666666, \"#35b779\"], [0.7777777777777778, \"#6ece58\"], [0.8888888888888888, \"#b5de2b\"], [1.0, \"#fde725\"]], \"type\": \"histogram2d\"}], \"histogram2dcontour\": [{\"colorbar\": {\"outlinewidth\": 1, \"tickcolor\": \"rgb(36,36,36)\", \"ticks\": \"outside\"}, \"colorscale\": [[0.0, \"#440154\"], [0.1111111111111111, \"#482878\"], [0.2222222222222222, \"#3e4989\"], [0.3333333333333333, \"#31688e\"], [0.4444444444444444, \"#26828e\"], [0.5555555555555556, \"#1f9e89\"], [0.6666666666666666, \"#35b779\"], [0.7777777777777778, \"#6ece58\"], [0.8888888888888888, \"#b5de2b\"], [1.0, \"#fde725\"]], \"type\": \"histogram2dcontour\"}], \"mesh3d\": [{\"colorbar\": {\"outlinewidth\": 1, \"tickcolor\": \"rgb(36,36,36)\", \"ticks\": \"outside\"}, \"type\": \"mesh3d\"}], \"parcoords\": [{\"line\": {\"colorbar\": {\"outlinewidth\": 1, \"tickcolor\": \"rgb(36,36,36)\", \"ticks\": \"outside\"}}, \"type\": \"parcoords\"}], \"pie\": [{\"automargin\": true, \"type\": \"pie\"}], \"scatter\": [{\"marker\": {\"colorbar\": {\"outlinewidth\": 1, \"tickcolor\": \"rgb(36,36,36)\", \"ticks\": \"outside\"}}, \"type\": \"scatter\"}], \"scatter3d\": [{\"line\": {\"colorbar\": {\"outlinewidth\": 1, \"tickcolor\": \"rgb(36,36,36)\", \"ticks\": \"outside\"}}, \"marker\": {\"colorbar\": {\"outlinewidth\": 1, \"tickcolor\": \"rgb(36,36,36)\", \"ticks\": \"outside\"}}, \"type\": \"scatter3d\"}], \"scattercarpet\": [{\"marker\": {\"colorbar\": {\"outlinewidth\": 1, \"tickcolor\": \"rgb(36,36,36)\", \"ticks\": \"outside\"}}, \"type\": \"scattercarpet\"}], \"scattergeo\": [{\"marker\": {\"colorbar\": {\"outlinewidth\": 1, \"tickcolor\": \"rgb(36,36,36)\", \"ticks\": \"outside\"}}, \"type\": \"scattergeo\"}], \"scattergl\": [{\"marker\": {\"colorbar\": {\"outlinewidth\": 1, \"tickcolor\": \"rgb(36,36,36)\", \"ticks\": \"outside\"}}, \"type\": \"scattergl\"}], \"scattermapbox\": [{\"marker\": {\"colorbar\": {\"outlinewidth\": 1, \"tickcolor\": \"rgb(36,36,36)\", \"ticks\": \"outside\"}}, \"type\": \"scattermapbox\"}], \"scatterpolar\": [{\"marker\": {\"colorbar\": {\"outlinewidth\": 1, \"tickcolor\": \"rgb(36,36,36)\", \"ticks\": \"outside\"}}, \"type\": \"scatterpolar\"}], \"scatterpolargl\": [{\"marker\": {\"colorbar\": {\"outlinewidth\": 1, \"tickcolor\": \"rgb(36,36,36)\", \"ticks\": \"outside\"}}, \"type\": \"scatterpolargl\"}], \"scatterternary\": [{\"marker\": {\"colorbar\": {\"outlinewidth\": 1, \"tickcolor\": \"rgb(36,36,36)\", \"ticks\": \"outside\"}}, \"type\": \"scatterternary\"}], \"surface\": [{\"colorbar\": {\"outlinewidth\": 1, \"tickcolor\": \"rgb(36,36,36)\", \"ticks\": \"outside\"}, \"colorscale\": [[0.0, \"#440154\"], [0.1111111111111111, \"#482878\"], [0.2222222222222222, \"#3e4989\"], [0.3333333333333333, \"#31688e\"], [0.4444444444444444, \"#26828e\"], [0.5555555555555556, \"#1f9e89\"], [0.6666666666666666, \"#35b779\"], [0.7777777777777778, \"#6ece58\"], [0.8888888888888888, \"#b5de2b\"], [1.0, \"#fde725\"]], \"type\": \"surface\"}], \"table\": [{\"cells\": {\"fill\": {\"color\": \"rgb(237,237,237)\"}, \"line\": {\"color\": \"white\"}}, \"header\": {\"fill\": {\"color\": \"rgb(217,217,217)\"}, \"line\": {\"color\": \"white\"}}, \"type\": \"table\"}]}, \"layout\": {\"annotationdefaults\": {\"arrowhead\": 0, \"arrowwidth\": 1}, \"autotypenumbers\": \"strict\", \"coloraxis\": {\"colorbar\": {\"outlinewidth\": 1, \"tickcolor\": \"rgb(36,36,36)\", \"ticks\": \"outside\"}}, \"colorscale\": {\"diverging\": [[0.0, \"rgb(103,0,31)\"], [0.1, \"rgb(178,24,43)\"], [0.2, \"rgb(214,96,77)\"], [0.3, \"rgb(244,165,130)\"], [0.4, \"rgb(253,219,199)\"], [0.5, \"rgb(247,247,247)\"], [0.6, \"rgb(209,229,240)\"], [0.7, \"rgb(146,197,222)\"], [0.8, \"rgb(67,147,195)\"], [0.9, \"rgb(33,102,172)\"], [1.0, \"rgb(5,48,97)\"]], \"sequential\": [[0.0, \"#440154\"], [0.1111111111111111, \"#482878\"], [0.2222222222222222, \"#3e4989\"], [0.3333333333333333, \"#31688e\"], [0.4444444444444444, \"#26828e\"], [0.5555555555555556, \"#1f9e89\"], [0.6666666666666666, \"#35b779\"], [0.7777777777777778, \"#6ece58\"], [0.8888888888888888, \"#b5de2b\"], [1.0, \"#fde725\"]], \"sequentialminus\": [[0.0, \"#440154\"], [0.1111111111111111, \"#482878\"], [0.2222222222222222, \"#3e4989\"], [0.3333333333333333, \"#31688e\"], [0.4444444444444444, \"#26828e\"], [0.5555555555555556, \"#1f9e89\"], [0.6666666666666666, \"#35b779\"], [0.7777777777777778, \"#6ece58\"], [0.8888888888888888, \"#b5de2b\"], [1.0, \"#fde725\"]]}, \"colorway\": [\"#1F77B4\", \"#FF7F0E\", \"#2CA02C\", \"#D62728\", \"#9467BD\", \"#8C564B\", \"#E377C2\", \"#7F7F7F\", \"#BCBD22\", \"#17BECF\"], \"font\": {\"color\": \"rgb(36,36,36)\"}, \"geo\": {\"bgcolor\": \"white\", \"lakecolor\": \"white\", \"landcolor\": \"white\", \"showlakes\": true, \"showland\": true, \"subunitcolor\": \"white\"}, \"hoverlabel\": {\"align\": \"left\"}, \"hovermode\": \"closest\", \"mapbox\": {\"style\": \"light\"}, \"paper_bgcolor\": \"white\", \"plot_bgcolor\": \"white\", \"polar\": {\"angularaxis\": {\"gridcolor\": \"rgb(232,232,232)\", \"linecolor\": \"rgb(36,36,36)\", \"showgrid\": false, \"showline\": true, \"ticks\": \"outside\"}, \"bgcolor\": \"white\", \"radialaxis\": {\"gridcolor\": \"rgb(232,232,232)\", \"linecolor\": \"rgb(36,36,36)\", \"showgrid\": false, \"showline\": true, \"ticks\": \"outside\"}}, \"scene\": {\"xaxis\": {\"backgroundcolor\": \"white\", \"gridcolor\": \"rgb(232,232,232)\", \"gridwidth\": 2, \"linecolor\": \"rgb(36,36,36)\", \"showbackground\": true, \"showgrid\": false, \"showline\": true, \"ticks\": \"outside\", \"zeroline\": false, \"zerolinecolor\": \"rgb(36,36,36)\"}, \"yaxis\": {\"backgroundcolor\": \"white\", \"gridcolor\": \"rgb(232,232,232)\", \"gridwidth\": 2, \"linecolor\": \"rgb(36,36,36)\", \"showbackground\": true, \"showgrid\": false, \"showline\": true, \"ticks\": \"outside\", \"zeroline\": false, \"zerolinecolor\": \"rgb(36,36,36)\"}, \"zaxis\": {\"backgroundcolor\": \"white\", \"gridcolor\": \"rgb(232,232,232)\", \"gridwidth\": 2, \"linecolor\": \"rgb(36,36,36)\", \"showbackground\": true, \"showgrid\": false, \"showline\": true, \"ticks\": \"outside\", \"zeroline\": false, \"zerolinecolor\": \"rgb(36,36,36)\"}}, \"shapedefaults\": {\"fillcolor\": \"black\", \"line\": {\"width\": 0}, \"opacity\": 0.3}, \"ternary\": {\"aaxis\": {\"gridcolor\": \"rgb(232,232,232)\", \"linecolor\": \"rgb(36,36,36)\", \"showgrid\": false, \"showline\": true, \"ticks\": \"outside\"}, \"baxis\": {\"gridcolor\": \"rgb(232,232,232)\", \"linecolor\": \"rgb(36,36,36)\", \"showgrid\": false, \"showline\": true, \"ticks\": \"outside\"}, \"bgcolor\": \"white\", \"caxis\": {\"gridcolor\": \"rgb(232,232,232)\", \"linecolor\": \"rgb(36,36,36)\", \"showgrid\": false, \"showline\": true, \"ticks\": \"outside\"}}, \"title\": {\"x\": 0.05}, \"xaxis\": {\"automargin\": true, \"gridcolor\": \"rgb(232,232,232)\", \"linecolor\": \"rgb(36,36,36)\", \"showgrid\": false, \"showline\": true, \"ticks\": \"outside\", \"title\": {\"standoff\": 15}, \"zeroline\": false, \"zerolinecolor\": \"rgb(36,36,36)\"}, \"yaxis\": {\"automargin\": true, \"gridcolor\": \"rgb(232,232,232)\", \"linecolor\": \"rgb(36,36,36)\", \"showgrid\": false, \"showline\": true, \"ticks\": \"outside\", \"title\": {\"standoff\": 15}, \"zeroline\": false, \"zerolinecolor\": \"rgb(36,36,36)\"}}}, \"width\": 800, \"xaxis\": {\"anchor\": \"y\", \"categoryarray\": [\"TRANSUNION INTERMEDIATE HOLDINGS, INC.\", \"BANK OF AMERICA, NATIONAL ASSOCIATION\", \"Experian Information Solutions Inc.\", \"Alliance Data Card Services\", \"CAPITAL ONE FINANCIAL CORPORATION\", \"SYNCHRONY FINANCIAL\", \"JPMORGAN CHASE & CO.\", \"PNC Bank N.A.\", \"WELLS FARGO & COMPANY\", \"CITIBANK, N.A.\", \"U.S. BANCORP\", \"AMERICAN EXPRESS COMPANY\", \"Navient Solutions, LLC.\", \"EQUIFAX, INC.\"], \"categoryorder\": \"array\", \"domain\": [0.0, 1.0], \"title\": {\"text\": \"company_name\"}}, \"yaxis\": {\"anchor\": \"x\", \"domain\": [0.0, 1.0], \"title\": {\"text\": \"complaint_id\"}}},                        {\"responsive\": true}                    ).then(function(){\n",
       "                            \n",
       "var gd = document.getElementById('c5a1d88a-a3dd-4f1d-8fc3-54f004e7bd8e');\n",
       "var x = new MutationObserver(function (mutations, observer) {{\n",
       "        var display = window.getComputedStyle(gd).display;\n",
       "        if (!display || display === 'none') {{\n",
       "            console.log([gd, 'removed!']);\n",
       "            Plotly.purge(gd);\n",
       "            observer.disconnect();\n",
       "        }}\n",
       "}});\n",
       "\n",
       "// Listen for the removal of the full notebook cells\n",
       "var notebookContainer = gd.closest('#notebook-container');\n",
       "if (notebookContainer) {{\n",
       "    x.observe(notebookContainer, {childList: true});\n",
       "}}\n",
       "\n",
       "// Listen for the clearing of the current output cell\n",
       "var outputEl = gd.closest('.output');\n",
       "if (outputEl) {{\n",
       "    x.observe(outputEl, {childList: true});\n",
       "}}\n",
       "\n",
       "                        })                };                });            </script>        </div>"
      ]
     },
     "metadata": {},
     "output_type": "display_data"
    }
   ],
   "source": [
    "df_in_prog = df.loc[(df.group <= 6) & (df.company_response_to_consumer == 'In progress')]\n",
    "df_in_prog = df_in_prog.groupby(['group', 'company_name']).count()['complaint_id'] \\\n",
    ".reset_index().sort_values(by=['complaint_id'], ascending=False)\n",
    "\n",
    "# Streamlit\n",
    "df_in_prog.to_json('../tidy_data/df_in_prog.json')\n",
    "\n",
    "df_in_prog['group'] = df_in_prog['group'].astype(str)\n",
    "\n",
    "fig = px.bar(df_in_prog, x='company_name', y='complaint_id', color='group',\n",
    "             category_orders ={'company_name': df_in_prog.company_name},\n",
    "             width=800, height=600, template='simple_white')\n",
    "fig.show()"
   ]
  },
  {
   "cell_type": "code",
   "execution_count": 301,
   "id": "genuine-black",
   "metadata": {
    "ExecuteTime": {
     "end_time": "2021-03-31T14:21:26.647023Z",
     "start_time": "2021-03-31T14:21:26.569908Z"
    }
   },
   "outputs": [
    {
     "data": {
      "application/vnd.plotly.v1+json": {
       "config": {
        "plotlyServerURL": "https://plot.ly"
       },
       "data": [
        {
         "alignmentgroup": "True",
         "hovertemplate": "company_response_to_consumer=Closed with explanation<br>company_name=%{x}<br>complaint_id=%{y}<extra></extra>",
         "legendgroup": "Closed with explanation",
         "marker": {
          "color": "#1F77B4"
         },
         "name": "Closed with explanation",
         "offsetgroup": "Closed with explanation",
         "orientation": "v",
         "showlegend": true,
         "textposition": "auto",
         "type": "bar",
         "x": [
          "SYNCHRONY FINANCIAL",
          "Alliance Data Card Services"
         ],
         "xaxis": "x",
         "y": [
          683,
          415
         ],
         "yaxis": "y"
        },
        {
         "alignmentgroup": "True",
         "hovertemplate": "company_response_to_consumer=In progress<br>company_name=%{x}<br>complaint_id=%{y}<extra></extra>",
         "legendgroup": "In progress",
         "marker": {
          "color": "#FF7F0E"
         },
         "name": "In progress",
         "offsetgroup": "In progress",
         "orientation": "v",
         "showlegend": true,
         "textposition": "auto",
         "type": "bar",
         "x": [
          "Alliance Data Card Services",
          "SYNCHRONY FINANCIAL"
         ],
         "xaxis": "x",
         "y": [
          280,
          159
         ],
         "yaxis": "y"
        },
        {
         "alignmentgroup": "True",
         "hovertemplate": "company_response_to_consumer=Closed with non-monetary relief<br>company_name=%{x}<br>complaint_id=%{y}<extra></extra>",
         "legendgroup": "Closed with non-monetary relief",
         "marker": {
          "color": "#2CA02C"
         },
         "name": "Closed with non-monetary relief",
         "offsetgroup": "Closed with non-monetary relief",
         "orientation": "v",
         "showlegend": true,
         "textposition": "auto",
         "type": "bar",
         "x": [
          "SYNCHRONY FINANCIAL",
          "Alliance Data Card Services"
         ],
         "xaxis": "x",
         "y": [
          172,
          72
         ],
         "yaxis": "y"
        },
        {
         "alignmentgroup": "True",
         "hovertemplate": "company_response_to_consumer=Closed with monetary relief<br>company_name=%{x}<br>complaint_id=%{y}<extra></extra>",
         "legendgroup": "Closed with monetary relief",
         "marker": {
          "color": "#D62728"
         },
         "name": "Closed with monetary relief",
         "offsetgroup": "Closed with monetary relief",
         "orientation": "v",
         "showlegend": true,
         "textposition": "auto",
         "type": "bar",
         "x": [
          "SYNCHRONY FINANCIAL",
          "Alliance Data Card Services"
         ],
         "xaxis": "x",
         "y": [
          132,
          46
         ],
         "yaxis": "y"
        }
       ],
       "layout": {
        "barmode": "relative",
        "height": 600,
        "legend": {
         "title": {
          "text": "company_response_to_consumer"
         },
         "tracegroupgap": 0
        },
        "margin": {
         "t": 60
        },
        "template": {
         "data": {
          "bar": [
           {
            "error_x": {
             "color": "rgb(36,36,36)"
            },
            "error_y": {
             "color": "rgb(36,36,36)"
            },
            "marker": {
             "line": {
              "color": "white",
              "width": 0.5
             }
            },
            "type": "bar"
           }
          ],
          "barpolar": [
           {
            "marker": {
             "line": {
              "color": "white",
              "width": 0.5
             }
            },
            "type": "barpolar"
           }
          ],
          "carpet": [
           {
            "aaxis": {
             "endlinecolor": "rgb(36,36,36)",
             "gridcolor": "white",
             "linecolor": "white",
             "minorgridcolor": "white",
             "startlinecolor": "rgb(36,36,36)"
            },
            "baxis": {
             "endlinecolor": "rgb(36,36,36)",
             "gridcolor": "white",
             "linecolor": "white",
             "minorgridcolor": "white",
             "startlinecolor": "rgb(36,36,36)"
            },
            "type": "carpet"
           }
          ],
          "choropleth": [
           {
            "colorbar": {
             "outlinewidth": 1,
             "tickcolor": "rgb(36,36,36)",
             "ticks": "outside"
            },
            "type": "choropleth"
           }
          ],
          "contour": [
           {
            "colorbar": {
             "outlinewidth": 1,
             "tickcolor": "rgb(36,36,36)",
             "ticks": "outside"
            },
            "colorscale": [
             [
              0,
              "#440154"
             ],
             [
              0.1111111111111111,
              "#482878"
             ],
             [
              0.2222222222222222,
              "#3e4989"
             ],
             [
              0.3333333333333333,
              "#31688e"
             ],
             [
              0.4444444444444444,
              "#26828e"
             ],
             [
              0.5555555555555556,
              "#1f9e89"
             ],
             [
              0.6666666666666666,
              "#35b779"
             ],
             [
              0.7777777777777778,
              "#6ece58"
             ],
             [
              0.8888888888888888,
              "#b5de2b"
             ],
             [
              1,
              "#fde725"
             ]
            ],
            "type": "contour"
           }
          ],
          "contourcarpet": [
           {
            "colorbar": {
             "outlinewidth": 1,
             "tickcolor": "rgb(36,36,36)",
             "ticks": "outside"
            },
            "type": "contourcarpet"
           }
          ],
          "heatmap": [
           {
            "colorbar": {
             "outlinewidth": 1,
             "tickcolor": "rgb(36,36,36)",
             "ticks": "outside"
            },
            "colorscale": [
             [
              0,
              "#440154"
             ],
             [
              0.1111111111111111,
              "#482878"
             ],
             [
              0.2222222222222222,
              "#3e4989"
             ],
             [
              0.3333333333333333,
              "#31688e"
             ],
             [
              0.4444444444444444,
              "#26828e"
             ],
             [
              0.5555555555555556,
              "#1f9e89"
             ],
             [
              0.6666666666666666,
              "#35b779"
             ],
             [
              0.7777777777777778,
              "#6ece58"
             ],
             [
              0.8888888888888888,
              "#b5de2b"
             ],
             [
              1,
              "#fde725"
             ]
            ],
            "type": "heatmap"
           }
          ],
          "heatmapgl": [
           {
            "colorbar": {
             "outlinewidth": 1,
             "tickcolor": "rgb(36,36,36)",
             "ticks": "outside"
            },
            "colorscale": [
             [
              0,
              "#440154"
             ],
             [
              0.1111111111111111,
              "#482878"
             ],
             [
              0.2222222222222222,
              "#3e4989"
             ],
             [
              0.3333333333333333,
              "#31688e"
             ],
             [
              0.4444444444444444,
              "#26828e"
             ],
             [
              0.5555555555555556,
              "#1f9e89"
             ],
             [
              0.6666666666666666,
              "#35b779"
             ],
             [
              0.7777777777777778,
              "#6ece58"
             ],
             [
              0.8888888888888888,
              "#b5de2b"
             ],
             [
              1,
              "#fde725"
             ]
            ],
            "type": "heatmapgl"
           }
          ],
          "histogram": [
           {
            "marker": {
             "line": {
              "color": "white",
              "width": 0.6
             }
            },
            "type": "histogram"
           }
          ],
          "histogram2d": [
           {
            "colorbar": {
             "outlinewidth": 1,
             "tickcolor": "rgb(36,36,36)",
             "ticks": "outside"
            },
            "colorscale": [
             [
              0,
              "#440154"
             ],
             [
              0.1111111111111111,
              "#482878"
             ],
             [
              0.2222222222222222,
              "#3e4989"
             ],
             [
              0.3333333333333333,
              "#31688e"
             ],
             [
              0.4444444444444444,
              "#26828e"
             ],
             [
              0.5555555555555556,
              "#1f9e89"
             ],
             [
              0.6666666666666666,
              "#35b779"
             ],
             [
              0.7777777777777778,
              "#6ece58"
             ],
             [
              0.8888888888888888,
              "#b5de2b"
             ],
             [
              1,
              "#fde725"
             ]
            ],
            "type": "histogram2d"
           }
          ],
          "histogram2dcontour": [
           {
            "colorbar": {
             "outlinewidth": 1,
             "tickcolor": "rgb(36,36,36)",
             "ticks": "outside"
            },
            "colorscale": [
             [
              0,
              "#440154"
             ],
             [
              0.1111111111111111,
              "#482878"
             ],
             [
              0.2222222222222222,
              "#3e4989"
             ],
             [
              0.3333333333333333,
              "#31688e"
             ],
             [
              0.4444444444444444,
              "#26828e"
             ],
             [
              0.5555555555555556,
              "#1f9e89"
             ],
             [
              0.6666666666666666,
              "#35b779"
             ],
             [
              0.7777777777777778,
              "#6ece58"
             ],
             [
              0.8888888888888888,
              "#b5de2b"
             ],
             [
              1,
              "#fde725"
             ]
            ],
            "type": "histogram2dcontour"
           }
          ],
          "mesh3d": [
           {
            "colorbar": {
             "outlinewidth": 1,
             "tickcolor": "rgb(36,36,36)",
             "ticks": "outside"
            },
            "type": "mesh3d"
           }
          ],
          "parcoords": [
           {
            "line": {
             "colorbar": {
              "outlinewidth": 1,
              "tickcolor": "rgb(36,36,36)",
              "ticks": "outside"
             }
            },
            "type": "parcoords"
           }
          ],
          "pie": [
           {
            "automargin": true,
            "type": "pie"
           }
          ],
          "scatter": [
           {
            "marker": {
             "colorbar": {
              "outlinewidth": 1,
              "tickcolor": "rgb(36,36,36)",
              "ticks": "outside"
             }
            },
            "type": "scatter"
           }
          ],
          "scatter3d": [
           {
            "line": {
             "colorbar": {
              "outlinewidth": 1,
              "tickcolor": "rgb(36,36,36)",
              "ticks": "outside"
             }
            },
            "marker": {
             "colorbar": {
              "outlinewidth": 1,
              "tickcolor": "rgb(36,36,36)",
              "ticks": "outside"
             }
            },
            "type": "scatter3d"
           }
          ],
          "scattercarpet": [
           {
            "marker": {
             "colorbar": {
              "outlinewidth": 1,
              "tickcolor": "rgb(36,36,36)",
              "ticks": "outside"
             }
            },
            "type": "scattercarpet"
           }
          ],
          "scattergeo": [
           {
            "marker": {
             "colorbar": {
              "outlinewidth": 1,
              "tickcolor": "rgb(36,36,36)",
              "ticks": "outside"
             }
            },
            "type": "scattergeo"
           }
          ],
          "scattergl": [
           {
            "marker": {
             "colorbar": {
              "outlinewidth": 1,
              "tickcolor": "rgb(36,36,36)",
              "ticks": "outside"
             }
            },
            "type": "scattergl"
           }
          ],
          "scattermapbox": [
           {
            "marker": {
             "colorbar": {
              "outlinewidth": 1,
              "tickcolor": "rgb(36,36,36)",
              "ticks": "outside"
             }
            },
            "type": "scattermapbox"
           }
          ],
          "scatterpolar": [
           {
            "marker": {
             "colorbar": {
              "outlinewidth": 1,
              "tickcolor": "rgb(36,36,36)",
              "ticks": "outside"
             }
            },
            "type": "scatterpolar"
           }
          ],
          "scatterpolargl": [
           {
            "marker": {
             "colorbar": {
              "outlinewidth": 1,
              "tickcolor": "rgb(36,36,36)",
              "ticks": "outside"
             }
            },
            "type": "scatterpolargl"
           }
          ],
          "scatterternary": [
           {
            "marker": {
             "colorbar": {
              "outlinewidth": 1,
              "tickcolor": "rgb(36,36,36)",
              "ticks": "outside"
             }
            },
            "type": "scatterternary"
           }
          ],
          "surface": [
           {
            "colorbar": {
             "outlinewidth": 1,
             "tickcolor": "rgb(36,36,36)",
             "ticks": "outside"
            },
            "colorscale": [
             [
              0,
              "#440154"
             ],
             [
              0.1111111111111111,
              "#482878"
             ],
             [
              0.2222222222222222,
              "#3e4989"
             ],
             [
              0.3333333333333333,
              "#31688e"
             ],
             [
              0.4444444444444444,
              "#26828e"
             ],
             [
              0.5555555555555556,
              "#1f9e89"
             ],
             [
              0.6666666666666666,
              "#35b779"
             ],
             [
              0.7777777777777778,
              "#6ece58"
             ],
             [
              0.8888888888888888,
              "#b5de2b"
             ],
             [
              1,
              "#fde725"
             ]
            ],
            "type": "surface"
           }
          ],
          "table": [
           {
            "cells": {
             "fill": {
              "color": "rgb(237,237,237)"
             },
             "line": {
              "color": "white"
             }
            },
            "header": {
             "fill": {
              "color": "rgb(217,217,217)"
             },
             "line": {
              "color": "white"
             }
            },
            "type": "table"
           }
          ]
         },
         "layout": {
          "annotationdefaults": {
           "arrowhead": 0,
           "arrowwidth": 1
          },
          "autotypenumbers": "strict",
          "coloraxis": {
           "colorbar": {
            "outlinewidth": 1,
            "tickcolor": "rgb(36,36,36)",
            "ticks": "outside"
           }
          },
          "colorscale": {
           "diverging": [
            [
             0,
             "rgb(103,0,31)"
            ],
            [
             0.1,
             "rgb(178,24,43)"
            ],
            [
             0.2,
             "rgb(214,96,77)"
            ],
            [
             0.3,
             "rgb(244,165,130)"
            ],
            [
             0.4,
             "rgb(253,219,199)"
            ],
            [
             0.5,
             "rgb(247,247,247)"
            ],
            [
             0.6,
             "rgb(209,229,240)"
            ],
            [
             0.7,
             "rgb(146,197,222)"
            ],
            [
             0.8,
             "rgb(67,147,195)"
            ],
            [
             0.9,
             "rgb(33,102,172)"
            ],
            [
             1,
             "rgb(5,48,97)"
            ]
           ],
           "sequential": [
            [
             0,
             "#440154"
            ],
            [
             0.1111111111111111,
             "#482878"
            ],
            [
             0.2222222222222222,
             "#3e4989"
            ],
            [
             0.3333333333333333,
             "#31688e"
            ],
            [
             0.4444444444444444,
             "#26828e"
            ],
            [
             0.5555555555555556,
             "#1f9e89"
            ],
            [
             0.6666666666666666,
             "#35b779"
            ],
            [
             0.7777777777777778,
             "#6ece58"
            ],
            [
             0.8888888888888888,
             "#b5de2b"
            ],
            [
             1,
             "#fde725"
            ]
           ],
           "sequentialminus": [
            [
             0,
             "#440154"
            ],
            [
             0.1111111111111111,
             "#482878"
            ],
            [
             0.2222222222222222,
             "#3e4989"
            ],
            [
             0.3333333333333333,
             "#31688e"
            ],
            [
             0.4444444444444444,
             "#26828e"
            ],
            [
             0.5555555555555556,
             "#1f9e89"
            ],
            [
             0.6666666666666666,
             "#35b779"
            ],
            [
             0.7777777777777778,
             "#6ece58"
            ],
            [
             0.8888888888888888,
             "#b5de2b"
            ],
            [
             1,
             "#fde725"
            ]
           ]
          },
          "colorway": [
           "#1F77B4",
           "#FF7F0E",
           "#2CA02C",
           "#D62728",
           "#9467BD",
           "#8C564B",
           "#E377C2",
           "#7F7F7F",
           "#BCBD22",
           "#17BECF"
          ],
          "font": {
           "color": "rgb(36,36,36)"
          },
          "geo": {
           "bgcolor": "white",
           "lakecolor": "white",
           "landcolor": "white",
           "showlakes": true,
           "showland": true,
           "subunitcolor": "white"
          },
          "hoverlabel": {
           "align": "left"
          },
          "hovermode": "closest",
          "mapbox": {
           "style": "light"
          },
          "paper_bgcolor": "white",
          "plot_bgcolor": "white",
          "polar": {
           "angularaxis": {
            "gridcolor": "rgb(232,232,232)",
            "linecolor": "rgb(36,36,36)",
            "showgrid": false,
            "showline": true,
            "ticks": "outside"
           },
           "bgcolor": "white",
           "radialaxis": {
            "gridcolor": "rgb(232,232,232)",
            "linecolor": "rgb(36,36,36)",
            "showgrid": false,
            "showline": true,
            "ticks": "outside"
           }
          },
          "scene": {
           "xaxis": {
            "backgroundcolor": "white",
            "gridcolor": "rgb(232,232,232)",
            "gridwidth": 2,
            "linecolor": "rgb(36,36,36)",
            "showbackground": true,
            "showgrid": false,
            "showline": true,
            "ticks": "outside",
            "zeroline": false,
            "zerolinecolor": "rgb(36,36,36)"
           },
           "yaxis": {
            "backgroundcolor": "white",
            "gridcolor": "rgb(232,232,232)",
            "gridwidth": 2,
            "linecolor": "rgb(36,36,36)",
            "showbackground": true,
            "showgrid": false,
            "showline": true,
            "ticks": "outside",
            "zeroline": false,
            "zerolinecolor": "rgb(36,36,36)"
           },
           "zaxis": {
            "backgroundcolor": "white",
            "gridcolor": "rgb(232,232,232)",
            "gridwidth": 2,
            "linecolor": "rgb(36,36,36)",
            "showbackground": true,
            "showgrid": false,
            "showline": true,
            "ticks": "outside",
            "zeroline": false,
            "zerolinecolor": "rgb(36,36,36)"
           }
          },
          "shapedefaults": {
           "fillcolor": "black",
           "line": {
            "width": 0
           },
           "opacity": 0.3
          },
          "ternary": {
           "aaxis": {
            "gridcolor": "rgb(232,232,232)",
            "linecolor": "rgb(36,36,36)",
            "showgrid": false,
            "showline": true,
            "ticks": "outside"
           },
           "baxis": {
            "gridcolor": "rgb(232,232,232)",
            "linecolor": "rgb(36,36,36)",
            "showgrid": false,
            "showline": true,
            "ticks": "outside"
           },
           "bgcolor": "white",
           "caxis": {
            "gridcolor": "rgb(232,232,232)",
            "linecolor": "rgb(36,36,36)",
            "showgrid": false,
            "showline": true,
            "ticks": "outside"
           }
          },
          "title": {
           "x": 0.05
          },
          "xaxis": {
           "automargin": true,
           "gridcolor": "rgb(232,232,232)",
           "linecolor": "rgb(36,36,36)",
           "showgrid": false,
           "showline": true,
           "ticks": "outside",
           "title": {
            "standoff": 15
           },
           "zeroline": false,
           "zerolinecolor": "rgb(36,36,36)"
          },
          "yaxis": {
           "automargin": true,
           "gridcolor": "rgb(232,232,232)",
           "linecolor": "rgb(36,36,36)",
           "showgrid": false,
           "showline": true,
           "ticks": "outside",
           "title": {
            "standoff": 15
           },
           "zeroline": false,
           "zerolinecolor": "rgb(36,36,36)"
          }
         }
        },
        "width": 800,
        "xaxis": {
         "anchor": "y",
         "categoryarray": [
          "TRANSUNION INTERMEDIATE HOLDINGS, INC.",
          "BANK OF AMERICA, NATIONAL ASSOCIATION",
          "Experian Information Solutions Inc.",
          "Alliance Data Card Services",
          "CAPITAL ONE FINANCIAL CORPORATION",
          "SYNCHRONY FINANCIAL",
          "JPMORGAN CHASE & CO.",
          "PNC Bank N.A.",
          "WELLS FARGO & COMPANY",
          "CITIBANK, N.A.",
          "U.S. BANCORP",
          "AMERICAN EXPRESS COMPANY",
          "Navient Solutions, LLC.",
          "EQUIFAX, INC."
         ],
         "categoryorder": "array",
         "domain": [
          0,
          1
         ],
         "title": {
          "text": "company_name"
         }
        },
        "yaxis": {
         "anchor": "x",
         "domain": [
          0,
          1
         ],
         "title": {
          "text": "complaint_id"
         }
        }
       }
      },
      "text/html": [
       "<div>                            <div id=\"d940d7cf-8c5c-4e17-af93-927c2e48a349\" class=\"plotly-graph-div\" style=\"height:600px; width:800px;\"></div>            <script type=\"text/javascript\">                require([\"plotly\"], function(Plotly) {                    window.PLOTLYENV=window.PLOTLYENV || {};                                    if (document.getElementById(\"d940d7cf-8c5c-4e17-af93-927c2e48a349\")) {                    Plotly.newPlot(                        \"d940d7cf-8c5c-4e17-af93-927c2e48a349\",                        [{\"alignmentgroup\": \"True\", \"hovertemplate\": \"company_response_to_consumer=Closed with explanation<br>company_name=%{x}<br>complaint_id=%{y}<extra></extra>\", \"legendgroup\": \"Closed with explanation\", \"marker\": {\"color\": \"#1F77B4\"}, \"name\": \"Closed with explanation\", \"offsetgroup\": \"Closed with explanation\", \"orientation\": \"v\", \"showlegend\": true, \"textposition\": \"auto\", \"type\": \"bar\", \"x\": [\"SYNCHRONY FINANCIAL\", \"Alliance Data Card Services\"], \"xaxis\": \"x\", \"y\": [683, 415], \"yaxis\": \"y\"}, {\"alignmentgroup\": \"True\", \"hovertemplate\": \"company_response_to_consumer=In progress<br>company_name=%{x}<br>complaint_id=%{y}<extra></extra>\", \"legendgroup\": \"In progress\", \"marker\": {\"color\": \"#FF7F0E\"}, \"name\": \"In progress\", \"offsetgroup\": \"In progress\", \"orientation\": \"v\", \"showlegend\": true, \"textposition\": \"auto\", \"type\": \"bar\", \"x\": [\"Alliance Data Card Services\", \"SYNCHRONY FINANCIAL\"], \"xaxis\": \"x\", \"y\": [280, 159], \"yaxis\": \"y\"}, {\"alignmentgroup\": \"True\", \"hovertemplate\": \"company_response_to_consumer=Closed with non-monetary relief<br>company_name=%{x}<br>complaint_id=%{y}<extra></extra>\", \"legendgroup\": \"Closed with non-monetary relief\", \"marker\": {\"color\": \"#2CA02C\"}, \"name\": \"Closed with non-monetary relief\", \"offsetgroup\": \"Closed with non-monetary relief\", \"orientation\": \"v\", \"showlegend\": true, \"textposition\": \"auto\", \"type\": \"bar\", \"x\": [\"SYNCHRONY FINANCIAL\", \"Alliance Data Card Services\"], \"xaxis\": \"x\", \"y\": [172, 72], \"yaxis\": \"y\"}, {\"alignmentgroup\": \"True\", \"hovertemplate\": \"company_response_to_consumer=Closed with monetary relief<br>company_name=%{x}<br>complaint_id=%{y}<extra></extra>\", \"legendgroup\": \"Closed with monetary relief\", \"marker\": {\"color\": \"#D62728\"}, \"name\": \"Closed with monetary relief\", \"offsetgroup\": \"Closed with monetary relief\", \"orientation\": \"v\", \"showlegend\": true, \"textposition\": \"auto\", \"type\": \"bar\", \"x\": [\"SYNCHRONY FINANCIAL\", \"Alliance Data Card Services\"], \"xaxis\": \"x\", \"y\": [132, 46], \"yaxis\": \"y\"}],                        {\"barmode\": \"relative\", \"height\": 600, \"legend\": {\"title\": {\"text\": \"company_response_to_consumer\"}, \"tracegroupgap\": 0}, \"margin\": {\"t\": 60}, \"template\": {\"data\": {\"bar\": [{\"error_x\": {\"color\": \"rgb(36,36,36)\"}, \"error_y\": {\"color\": \"rgb(36,36,36)\"}, \"marker\": {\"line\": {\"color\": \"white\", \"width\": 0.5}}, \"type\": \"bar\"}], \"barpolar\": [{\"marker\": {\"line\": {\"color\": \"white\", \"width\": 0.5}}, \"type\": \"barpolar\"}], \"carpet\": [{\"aaxis\": {\"endlinecolor\": \"rgb(36,36,36)\", \"gridcolor\": \"white\", \"linecolor\": \"white\", \"minorgridcolor\": \"white\", \"startlinecolor\": \"rgb(36,36,36)\"}, \"baxis\": {\"endlinecolor\": \"rgb(36,36,36)\", \"gridcolor\": \"white\", \"linecolor\": \"white\", \"minorgridcolor\": \"white\", \"startlinecolor\": \"rgb(36,36,36)\"}, \"type\": \"carpet\"}], \"choropleth\": [{\"colorbar\": {\"outlinewidth\": 1, \"tickcolor\": \"rgb(36,36,36)\", \"ticks\": \"outside\"}, \"type\": \"choropleth\"}], \"contour\": [{\"colorbar\": {\"outlinewidth\": 1, \"tickcolor\": \"rgb(36,36,36)\", \"ticks\": \"outside\"}, \"colorscale\": [[0.0, \"#440154\"], [0.1111111111111111, \"#482878\"], [0.2222222222222222, \"#3e4989\"], [0.3333333333333333, \"#31688e\"], [0.4444444444444444, \"#26828e\"], [0.5555555555555556, \"#1f9e89\"], [0.6666666666666666, \"#35b779\"], [0.7777777777777778, \"#6ece58\"], [0.8888888888888888, \"#b5de2b\"], [1.0, \"#fde725\"]], \"type\": \"contour\"}], \"contourcarpet\": [{\"colorbar\": {\"outlinewidth\": 1, \"tickcolor\": \"rgb(36,36,36)\", \"ticks\": \"outside\"}, \"type\": \"contourcarpet\"}], \"heatmap\": [{\"colorbar\": {\"outlinewidth\": 1, \"tickcolor\": \"rgb(36,36,36)\", \"ticks\": \"outside\"}, \"colorscale\": [[0.0, \"#440154\"], [0.1111111111111111, \"#482878\"], [0.2222222222222222, \"#3e4989\"], [0.3333333333333333, \"#31688e\"], [0.4444444444444444, \"#26828e\"], [0.5555555555555556, \"#1f9e89\"], [0.6666666666666666, \"#35b779\"], [0.7777777777777778, \"#6ece58\"], [0.8888888888888888, \"#b5de2b\"], [1.0, \"#fde725\"]], \"type\": \"heatmap\"}], \"heatmapgl\": [{\"colorbar\": {\"outlinewidth\": 1, \"tickcolor\": \"rgb(36,36,36)\", \"ticks\": \"outside\"}, \"colorscale\": [[0.0, \"#440154\"], [0.1111111111111111, \"#482878\"], [0.2222222222222222, \"#3e4989\"], [0.3333333333333333, \"#31688e\"], [0.4444444444444444, \"#26828e\"], [0.5555555555555556, \"#1f9e89\"], [0.6666666666666666, \"#35b779\"], [0.7777777777777778, \"#6ece58\"], [0.8888888888888888, \"#b5de2b\"], [1.0, \"#fde725\"]], \"type\": \"heatmapgl\"}], \"histogram\": [{\"marker\": {\"line\": {\"color\": \"white\", \"width\": 0.6}}, \"type\": \"histogram\"}], \"histogram2d\": [{\"colorbar\": {\"outlinewidth\": 1, \"tickcolor\": \"rgb(36,36,36)\", \"ticks\": \"outside\"}, \"colorscale\": [[0.0, \"#440154\"], [0.1111111111111111, \"#482878\"], [0.2222222222222222, \"#3e4989\"], [0.3333333333333333, \"#31688e\"], [0.4444444444444444, \"#26828e\"], [0.5555555555555556, \"#1f9e89\"], [0.6666666666666666, \"#35b779\"], [0.7777777777777778, \"#6ece58\"], [0.8888888888888888, \"#b5de2b\"], [1.0, \"#fde725\"]], \"type\": \"histogram2d\"}], \"histogram2dcontour\": [{\"colorbar\": {\"outlinewidth\": 1, \"tickcolor\": \"rgb(36,36,36)\", \"ticks\": \"outside\"}, \"colorscale\": [[0.0, \"#440154\"], [0.1111111111111111, \"#482878\"], [0.2222222222222222, \"#3e4989\"], [0.3333333333333333, \"#31688e\"], [0.4444444444444444, \"#26828e\"], [0.5555555555555556, \"#1f9e89\"], [0.6666666666666666, \"#35b779\"], [0.7777777777777778, \"#6ece58\"], [0.8888888888888888, \"#b5de2b\"], [1.0, \"#fde725\"]], \"type\": \"histogram2dcontour\"}], \"mesh3d\": [{\"colorbar\": {\"outlinewidth\": 1, \"tickcolor\": \"rgb(36,36,36)\", \"ticks\": \"outside\"}, \"type\": \"mesh3d\"}], \"parcoords\": [{\"line\": {\"colorbar\": {\"outlinewidth\": 1, \"tickcolor\": \"rgb(36,36,36)\", \"ticks\": \"outside\"}}, \"type\": \"parcoords\"}], \"pie\": [{\"automargin\": true, \"type\": \"pie\"}], \"scatter\": [{\"marker\": {\"colorbar\": {\"outlinewidth\": 1, \"tickcolor\": \"rgb(36,36,36)\", \"ticks\": \"outside\"}}, \"type\": \"scatter\"}], \"scatter3d\": [{\"line\": {\"colorbar\": {\"outlinewidth\": 1, \"tickcolor\": \"rgb(36,36,36)\", \"ticks\": \"outside\"}}, \"marker\": {\"colorbar\": {\"outlinewidth\": 1, \"tickcolor\": \"rgb(36,36,36)\", \"ticks\": \"outside\"}}, \"type\": \"scatter3d\"}], \"scattercarpet\": [{\"marker\": {\"colorbar\": {\"outlinewidth\": 1, \"tickcolor\": \"rgb(36,36,36)\", \"ticks\": \"outside\"}}, \"type\": \"scattercarpet\"}], \"scattergeo\": [{\"marker\": {\"colorbar\": {\"outlinewidth\": 1, \"tickcolor\": \"rgb(36,36,36)\", \"ticks\": \"outside\"}}, \"type\": \"scattergeo\"}], \"scattergl\": [{\"marker\": {\"colorbar\": {\"outlinewidth\": 1, \"tickcolor\": \"rgb(36,36,36)\", \"ticks\": \"outside\"}}, \"type\": \"scattergl\"}], \"scattermapbox\": [{\"marker\": {\"colorbar\": {\"outlinewidth\": 1, \"tickcolor\": \"rgb(36,36,36)\", \"ticks\": \"outside\"}}, \"type\": \"scattermapbox\"}], \"scatterpolar\": [{\"marker\": {\"colorbar\": {\"outlinewidth\": 1, \"tickcolor\": \"rgb(36,36,36)\", \"ticks\": \"outside\"}}, \"type\": \"scatterpolar\"}], \"scatterpolargl\": [{\"marker\": {\"colorbar\": {\"outlinewidth\": 1, \"tickcolor\": \"rgb(36,36,36)\", \"ticks\": \"outside\"}}, \"type\": \"scatterpolargl\"}], \"scatterternary\": [{\"marker\": {\"colorbar\": {\"outlinewidth\": 1, \"tickcolor\": \"rgb(36,36,36)\", \"ticks\": \"outside\"}}, \"type\": \"scatterternary\"}], \"surface\": [{\"colorbar\": {\"outlinewidth\": 1, \"tickcolor\": \"rgb(36,36,36)\", \"ticks\": \"outside\"}, \"colorscale\": [[0.0, \"#440154\"], [0.1111111111111111, \"#482878\"], [0.2222222222222222, \"#3e4989\"], [0.3333333333333333, \"#31688e\"], [0.4444444444444444, \"#26828e\"], [0.5555555555555556, \"#1f9e89\"], [0.6666666666666666, \"#35b779\"], [0.7777777777777778, \"#6ece58\"], [0.8888888888888888, \"#b5de2b\"], [1.0, \"#fde725\"]], \"type\": \"surface\"}], \"table\": [{\"cells\": {\"fill\": {\"color\": \"rgb(237,237,237)\"}, \"line\": {\"color\": \"white\"}}, \"header\": {\"fill\": {\"color\": \"rgb(217,217,217)\"}, \"line\": {\"color\": \"white\"}}, \"type\": \"table\"}]}, \"layout\": {\"annotationdefaults\": {\"arrowhead\": 0, \"arrowwidth\": 1}, \"autotypenumbers\": \"strict\", \"coloraxis\": {\"colorbar\": {\"outlinewidth\": 1, \"tickcolor\": \"rgb(36,36,36)\", \"ticks\": \"outside\"}}, \"colorscale\": {\"diverging\": [[0.0, \"rgb(103,0,31)\"], [0.1, \"rgb(178,24,43)\"], [0.2, \"rgb(214,96,77)\"], [0.3, \"rgb(244,165,130)\"], [0.4, \"rgb(253,219,199)\"], [0.5, \"rgb(247,247,247)\"], [0.6, \"rgb(209,229,240)\"], [0.7, \"rgb(146,197,222)\"], [0.8, \"rgb(67,147,195)\"], [0.9, \"rgb(33,102,172)\"], [1.0, \"rgb(5,48,97)\"]], \"sequential\": [[0.0, \"#440154\"], [0.1111111111111111, \"#482878\"], [0.2222222222222222, \"#3e4989\"], [0.3333333333333333, \"#31688e\"], [0.4444444444444444, \"#26828e\"], [0.5555555555555556, \"#1f9e89\"], [0.6666666666666666, \"#35b779\"], [0.7777777777777778, \"#6ece58\"], [0.8888888888888888, \"#b5de2b\"], [1.0, \"#fde725\"]], \"sequentialminus\": [[0.0, \"#440154\"], [0.1111111111111111, \"#482878\"], [0.2222222222222222, \"#3e4989\"], [0.3333333333333333, \"#31688e\"], [0.4444444444444444, \"#26828e\"], [0.5555555555555556, \"#1f9e89\"], [0.6666666666666666, \"#35b779\"], [0.7777777777777778, \"#6ece58\"], [0.8888888888888888, \"#b5de2b\"], [1.0, \"#fde725\"]]}, \"colorway\": [\"#1F77B4\", \"#FF7F0E\", \"#2CA02C\", \"#D62728\", \"#9467BD\", \"#8C564B\", \"#E377C2\", \"#7F7F7F\", \"#BCBD22\", \"#17BECF\"], \"font\": {\"color\": \"rgb(36,36,36)\"}, \"geo\": {\"bgcolor\": \"white\", \"lakecolor\": \"white\", \"landcolor\": \"white\", \"showlakes\": true, \"showland\": true, \"subunitcolor\": \"white\"}, \"hoverlabel\": {\"align\": \"left\"}, \"hovermode\": \"closest\", \"mapbox\": {\"style\": \"light\"}, \"paper_bgcolor\": \"white\", \"plot_bgcolor\": \"white\", \"polar\": {\"angularaxis\": {\"gridcolor\": \"rgb(232,232,232)\", \"linecolor\": \"rgb(36,36,36)\", \"showgrid\": false, \"showline\": true, \"ticks\": \"outside\"}, \"bgcolor\": \"white\", \"radialaxis\": {\"gridcolor\": \"rgb(232,232,232)\", \"linecolor\": \"rgb(36,36,36)\", \"showgrid\": false, \"showline\": true, \"ticks\": \"outside\"}}, \"scene\": {\"xaxis\": {\"backgroundcolor\": \"white\", \"gridcolor\": \"rgb(232,232,232)\", \"gridwidth\": 2, \"linecolor\": \"rgb(36,36,36)\", \"showbackground\": true, \"showgrid\": false, \"showline\": true, \"ticks\": \"outside\", \"zeroline\": false, \"zerolinecolor\": \"rgb(36,36,36)\"}, \"yaxis\": {\"backgroundcolor\": \"white\", \"gridcolor\": \"rgb(232,232,232)\", \"gridwidth\": 2, \"linecolor\": \"rgb(36,36,36)\", \"showbackground\": true, \"showgrid\": false, \"showline\": true, \"ticks\": \"outside\", \"zeroline\": false, \"zerolinecolor\": \"rgb(36,36,36)\"}, \"zaxis\": {\"backgroundcolor\": \"white\", \"gridcolor\": \"rgb(232,232,232)\", \"gridwidth\": 2, \"linecolor\": \"rgb(36,36,36)\", \"showbackground\": true, \"showgrid\": false, \"showline\": true, \"ticks\": \"outside\", \"zeroline\": false, \"zerolinecolor\": \"rgb(36,36,36)\"}}, \"shapedefaults\": {\"fillcolor\": \"black\", \"line\": {\"width\": 0}, \"opacity\": 0.3}, \"ternary\": {\"aaxis\": {\"gridcolor\": \"rgb(232,232,232)\", \"linecolor\": \"rgb(36,36,36)\", \"showgrid\": false, \"showline\": true, \"ticks\": \"outside\"}, \"baxis\": {\"gridcolor\": \"rgb(232,232,232)\", \"linecolor\": \"rgb(36,36,36)\", \"showgrid\": false, \"showline\": true, \"ticks\": \"outside\"}, \"bgcolor\": \"white\", \"caxis\": {\"gridcolor\": \"rgb(232,232,232)\", \"linecolor\": \"rgb(36,36,36)\", \"showgrid\": false, \"showline\": true, \"ticks\": \"outside\"}}, \"title\": {\"x\": 0.05}, \"xaxis\": {\"automargin\": true, \"gridcolor\": \"rgb(232,232,232)\", \"linecolor\": \"rgb(36,36,36)\", \"showgrid\": false, \"showline\": true, \"ticks\": \"outside\", \"title\": {\"standoff\": 15}, \"zeroline\": false, \"zerolinecolor\": \"rgb(36,36,36)\"}, \"yaxis\": {\"automargin\": true, \"gridcolor\": \"rgb(232,232,232)\", \"linecolor\": \"rgb(36,36,36)\", \"showgrid\": false, \"showline\": true, \"ticks\": \"outside\", \"title\": {\"standoff\": 15}, \"zeroline\": false, \"zerolinecolor\": \"rgb(36,36,36)\"}}}, \"width\": 800, \"xaxis\": {\"anchor\": \"y\", \"categoryarray\": [\"TRANSUNION INTERMEDIATE HOLDINGS, INC.\", \"BANK OF AMERICA, NATIONAL ASSOCIATION\", \"Experian Information Solutions Inc.\", \"Alliance Data Card Services\", \"CAPITAL ONE FINANCIAL CORPORATION\", \"SYNCHRONY FINANCIAL\", \"JPMORGAN CHASE & CO.\", \"PNC Bank N.A.\", \"WELLS FARGO & COMPANY\", \"CITIBANK, N.A.\", \"U.S. BANCORP\", \"AMERICAN EXPRESS COMPANY\", \"Navient Solutions, LLC.\", \"EQUIFAX, INC.\"], \"categoryorder\": \"array\", \"domain\": [0.0, 1.0], \"title\": {\"text\": \"company_name\"}}, \"yaxis\": {\"anchor\": \"x\", \"domain\": [0.0, 1.0], \"title\": {\"text\": \"complaint_id\"}}},                        {\"responsive\": true}                    ).then(function(){\n",
       "                            \n",
       "var gd = document.getElementById('d940d7cf-8c5c-4e17-af93-927c2e48a349');\n",
       "var x = new MutationObserver(function (mutations, observer) {{\n",
       "        var display = window.getComputedStyle(gd).display;\n",
       "        if (!display || display === 'none') {{\n",
       "            console.log([gd, 'removed!']);\n",
       "            Plotly.purge(gd);\n",
       "            observer.disconnect();\n",
       "        }}\n",
       "}});\n",
       "\n",
       "// Listen for the removal of the full notebook cells\n",
       "var notebookContainer = gd.closest('#notebook-container');\n",
       "if (notebookContainer) {{\n",
       "    x.observe(notebookContainer, {childList: true});\n",
       "}}\n",
       "\n",
       "// Listen for the clearing of the current output cell\n",
       "var outputEl = gd.closest('.output');\n",
       "if (outputEl) {{\n",
       "    x.observe(outputEl, {childList: true});\n",
       "}}\n",
       "\n",
       "                        })                };                });            </script>        </div>"
      ]
     },
     "metadata": {},
     "output_type": "display_data"
    }
   ],
   "source": [
    "df_resp = df.loc[(df.company_name.isin(['Alliance Data Card Services', 'SYNCHRONY FINANCIAL'])) & \n",
    "                 (df.index > '2021-01-01')]\n",
    "df_resp = df_resp.groupby(['company_name', 'company_response_to_consumer']).count()['complaint_id'] \\\n",
    ".reset_index().sort_values(by=['complaint_id'], ascending=False)\n",
    "\n",
    "\n",
    "fig = px.bar(df_resp, x='company_name', y='complaint_id', color='company_response_to_consumer',\n",
    "             category_orders ={'company_name': df_in_prog.company_name},\n",
    "             width=800, height=600, template='simple_white')\n",
    "fig.show()"
   ]
  },
  {
   "cell_type": "markdown",
   "id": "spanish-bradley",
   "metadata": {},
   "source": [
    "There is no link between monthly complaints and timely response. In addition, only five companies postpone two or more responses per month. However, when we look to complaints with \"In progress\" status one company with few monthly complaints presents almost the same amount in progress - Alliance Data Card Services. Backlog is an interest feature to observe because companies that don't present a high monthly complaints might not have people to deal with the backlog.\n",
    "\n",
    "### Which companies have the biggest ratio between In progress and mnthly median"
   ]
  },
  {
   "cell_type": "code",
   "execution_count": 330,
   "id": "stock-synthetic",
   "metadata": {
    "ExecuteTime": {
     "end_time": "2021-03-31T19:55:44.444860Z",
     "start_time": "2021-03-31T19:55:44.425106Z"
    }
   },
   "outputs": [
    {
     "data": {
      "text/html": [
       "<div>\n",
       "<style scoped>\n",
       "    .dataframe tbody tr th:only-of-type {\n",
       "        vertical-align: middle;\n",
       "    }\n",
       "\n",
       "    .dataframe tbody tr th {\n",
       "        vertical-align: top;\n",
       "    }\n",
       "\n",
       "    .dataframe thead th {\n",
       "        text-align: right;\n",
       "    }\n",
       "</style>\n",
       "<table border=\"1\" class=\"dataframe\">\n",
       "  <thead>\n",
       "    <tr style=\"text-align: right;\">\n",
       "      <th></th>\n",
       "      <th>Company Name</th>\n",
       "      <th>In progress</th>\n",
       "      <th>Median</th>\n",
       "      <th>Complaint ratio</th>\n",
       "    </tr>\n",
       "    <tr>\n",
       "      <th>Group</th>\n",
       "      <th></th>\n",
       "      <th></th>\n",
       "      <th></th>\n",
       "      <th></th>\n",
       "    </tr>\n",
       "  </thead>\n",
       "  <tbody>\n",
       "    <tr>\n",
       "      <th>2</th>\n",
       "      <td>BANK OF AMERICA, NATIONAL ASSOCIATION</td>\n",
       "      <td>1452</td>\n",
       "      <td>700</td>\n",
       "      <td>2.074286</td>\n",
       "    </tr>\n",
       "    <tr>\n",
       "      <th>1</th>\n",
       "      <td>TRANSUNION INTERMEDIATE HOLDINGS, INC.</td>\n",
       "      <td>6507</td>\n",
       "      <td>3409</td>\n",
       "      <td>1.908771</td>\n",
       "    </tr>\n",
       "    <tr>\n",
       "      <th>5</th>\n",
       "      <td>Alliance Data Card Services</td>\n",
       "      <td>280</td>\n",
       "      <td>225</td>\n",
       "      <td>1.244444</td>\n",
       "    </tr>\n",
       "    <tr>\n",
       "      <th>6</th>\n",
       "      <td>PNC Bank N.A.</td>\n",
       "      <td>104</td>\n",
       "      <td>126</td>\n",
       "      <td>0.825397</td>\n",
       "    </tr>\n",
       "    <tr>\n",
       "      <th>4</th>\n",
       "      <td>SYNCHRONY FINANCIAL</td>\n",
       "      <td>159</td>\n",
       "      <td>401</td>\n",
       "      <td>0.396509</td>\n",
       "    </tr>\n",
       "    <tr>\n",
       "      <th>2</th>\n",
       "      <td>CAPITAL ONE FINANCIAL CORPORATION</td>\n",
       "      <td>184</td>\n",
       "      <td>694</td>\n",
       "      <td>0.265130</td>\n",
       "    </tr>\n",
       "    <tr>\n",
       "      <th>2</th>\n",
       "      <td>JPMORGAN CHASE &amp; CO.</td>\n",
       "      <td>151</td>\n",
       "      <td>745</td>\n",
       "      <td>0.202685</td>\n",
       "    </tr>\n",
       "    <tr>\n",
       "      <th>1</th>\n",
       "      <td>Experian Information Solutions Inc.</td>\n",
       "      <td>527</td>\n",
       "      <td>3164</td>\n",
       "      <td>0.166561</td>\n",
       "    </tr>\n",
       "    <tr>\n",
       "      <th>3</th>\n",
       "      <td>WELLS FARGO &amp; COMPANY</td>\n",
       "      <td>87</td>\n",
       "      <td>654</td>\n",
       "      <td>0.133028</td>\n",
       "    </tr>\n",
       "    <tr>\n",
       "      <th>5</th>\n",
       "      <td>U.S. BANCORP</td>\n",
       "      <td>13</td>\n",
       "      <td>220</td>\n",
       "      <td>0.059091</td>\n",
       "    </tr>\n",
       "    <tr>\n",
       "      <th>5</th>\n",
       "      <td>AMERICAN EXPRESS COMPANY</td>\n",
       "      <td>11</td>\n",
       "      <td>234</td>\n",
       "      <td>0.047009</td>\n",
       "    </tr>\n",
       "    <tr>\n",
       "      <th>5</th>\n",
       "      <td>Navient Solutions, LLC.</td>\n",
       "      <td>9</td>\n",
       "      <td>288</td>\n",
       "      <td>0.031250</td>\n",
       "    </tr>\n",
       "    <tr>\n",
       "      <th>3</th>\n",
       "      <td>CITIBANK, N.A.</td>\n",
       "      <td>16</td>\n",
       "      <td>611</td>\n",
       "      <td>0.026187</td>\n",
       "    </tr>\n",
       "    <tr>\n",
       "      <th>1</th>\n",
       "      <td>EQUIFAX, INC.</td>\n",
       "      <td>3</td>\n",
       "      <td>3570</td>\n",
       "      <td>0.000840</td>\n",
       "    </tr>\n",
       "  </tbody>\n",
       "</table>\n",
       "</div>"
      ],
      "text/plain": [
       "                                 Company Name  In progress  Median  \\\n",
       "Group                                                                \n",
       "2       BANK OF AMERICA, NATIONAL ASSOCIATION         1452     700   \n",
       "1      TRANSUNION INTERMEDIATE HOLDINGS, INC.         6507    3409   \n",
       "5                 Alliance Data Card Services          280     225   \n",
       "6                               PNC Bank N.A.          104     126   \n",
       "4                         SYNCHRONY FINANCIAL          159     401   \n",
       "2           CAPITAL ONE FINANCIAL CORPORATION          184     694   \n",
       "2                        JPMORGAN CHASE & CO.          151     745   \n",
       "1         Experian Information Solutions Inc.          527    3164   \n",
       "3                       WELLS FARGO & COMPANY           87     654   \n",
       "5                                U.S. BANCORP           13     220   \n",
       "5                    AMERICAN EXPRESS COMPANY           11     234   \n",
       "5                     Navient Solutions, LLC.            9     288   \n",
       "3                              CITIBANK, N.A.           16     611   \n",
       "1                               EQUIFAX, INC.            3    3570   \n",
       "\n",
       "       Complaint ratio  \n",
       "Group                   \n",
       "2             2.074286  \n",
       "1             1.908771  \n",
       "5             1.244444  \n",
       "6             0.825397  \n",
       "4             0.396509  \n",
       "2             0.265130  \n",
       "2             0.202685  \n",
       "1             0.166561  \n",
       "3             0.133028  \n",
       "5             0.059091  \n",
       "5             0.047009  \n",
       "5             0.031250  \n",
       "3             0.026187  \n",
       "1             0.000840  "
      ]
     },
     "execution_count": 330,
     "metadata": {},
     "output_type": "execute_result"
    }
   ],
   "source": [
    "df_median_prog = df_in_prog.merge(df_bplot.groupby(['group', \n",
    "                                                    'company_name']).median(), \n",
    "                                  how='left', on=['company_name'])\n",
    "\n",
    "df_median_prog.rename(columns={'complaint_id_x': 'In progress', 'complaint_id_y': 'Median',\n",
    "                      'company_name': 'Company Name', 'group': 'Group'}, inplace=True)\n",
    "df_median_prog['Complaint ratio'] = df_median_prog['In progress'] / df_median_prog['Median']\n",
    "df_median_prog.sort_values(by=['Complaint ratio'], ascending=False, inplace=True)\n",
    "df_median_prog.set_index('Group')"
   ]
  },
  {
   "cell_type": "markdown",
   "id": "passive-services",
   "metadata": {},
   "source": [
    "### Which products has the most complaints "
   ]
  },
  {
   "cell_type": "code",
   "execution_count": 331,
   "id": "meaningful-highway",
   "metadata": {
    "ExecuteTime": {
     "end_time": "2021-03-31T20:15:37.184213Z",
     "start_time": "2021-03-31T20:15:36.916690Z"
    }
   },
   "outputs": [
    {
     "data": {
      "application/vnd.plotly.v1+json": {
       "config": {
        "plotlyServerURL": "https://plot.ly"
       },
       "data": [
        {
         "alignmentgroup": "True",
         "hovertemplate": "company_name=TRANSUNION INTERMEDIATE HOLDINGS, INC.<br>product=%{x}<br>complaint_id=%{y}<extra></extra>",
         "legendgroup": "TRANSUNION INTERMEDIATE HOLDINGS, INC.",
         "marker": {
          "color": "#1F77B4"
         },
         "name": "TRANSUNION INTERMEDIATE HOLDINGS, INC.",
         "offsetgroup": "TRANSUNION INTERMEDIATE HOLDINGS, INC.",
         "orientation": "v",
         "showlegend": true,
         "textposition": "auto",
         "type": "bar",
         "x": [
          "Credit reporting, credit repair services, or other personal consumer reports",
          "Debt collection",
          "Credit card or prepaid card",
          "Vehicle loan or lease",
          "Mortgage",
          "Student loan",
          "Payday loan, title loan, or personal loan",
          "Money transfer, virtual currency, or money service",
          "Checking or savings account"
         ],
         "xaxis": "x",
         "y": [
          173198,
          4509,
          162,
          43,
          31,
          24,
          20,
          14,
          10
         ],
         "yaxis": "y"
        },
        {
         "alignmentgroup": "True",
         "hovertemplate": "company_name=EQUIFAX, INC.<br>product=%{x}<br>complaint_id=%{y}<extra></extra>",
         "legendgroup": "EQUIFAX, INC.",
         "marker": {
          "color": "#FF7F0E"
         },
         "name": "EQUIFAX, INC.",
         "offsetgroup": "EQUIFAX, INC.",
         "orientation": "v",
         "showlegend": true,
         "textposition": "auto",
         "type": "bar",
         "x": [
          "Credit reporting, credit repair services, or other personal consumer reports",
          "Debt collection",
          "Credit card or prepaid card",
          "Mortgage",
          "Vehicle loan or lease",
          "Student loan",
          "Money transfer, virtual currency, or money service",
          "Payday loan, title loan, or personal loan",
          "Checking or savings account"
         ],
         "xaxis": "x",
         "y": [
          166176,
          4321,
          195,
          49,
          32,
          21,
          10,
          9,
          6
         ],
         "yaxis": "y"
        },
        {
         "alignmentgroup": "True",
         "hovertemplate": "company_name=Experian Information Solutions Inc.<br>product=%{x}<br>complaint_id=%{y}<extra></extra>",
         "legendgroup": "Experian Information Solutions Inc.",
         "marker": {
          "color": "#2CA02C"
         },
         "name": "Experian Information Solutions Inc.",
         "offsetgroup": "Experian Information Solutions Inc.",
         "orientation": "v",
         "showlegend": true,
         "textposition": "auto",
         "type": "bar",
         "x": [
          "Credit reporting, credit repair services, or other personal consumer reports",
          "Debt collection",
          "Credit card or prepaid card",
          "Vehicle loan or lease",
          "Mortgage",
          "Payday loan, title loan, or personal loan",
          "Student loan",
          "Checking or savings account",
          "Money transfer, virtual currency, or money service"
         ],
         "xaxis": "x",
         "y": [
          158947,
          4326,
          205,
          65,
          31,
          24,
          22,
          22,
          15
         ],
         "yaxis": "y"
        },
        {
         "alignmentgroup": "True",
         "hovertemplate": "company_name=CITIBANK, N.A.<br>product=%{x}<br>complaint_id=%{y}<extra></extra>",
         "legendgroup": "CITIBANK, N.A.",
         "marker": {
          "color": "#D62728"
         },
         "name": "CITIBANK, N.A.",
         "offsetgroup": "CITIBANK, N.A.",
         "orientation": "v",
         "showlegend": true,
         "textposition": "auto",
         "type": "bar",
         "x": [
          "Credit card or prepaid card",
          "Checking or savings account",
          "Credit reporting, credit repair services, or other personal consumer reports",
          "Debt collection",
          "Mortgage",
          "Money transfer, virtual currency, or money service",
          "Payday loan, title loan, or personal loan",
          "Student loan",
          "Vehicle loan or lease"
         ],
         "xaxis": "x",
         "y": [
          13239,
          4305,
          3978,
          2246,
          790,
          316,
          118,
          77,
          20
         ],
         "yaxis": "y"
        },
        {
         "alignmentgroup": "True",
         "hovertemplate": "company_name=CAPITAL ONE FINANCIAL CORPORATION<br>product=%{x}<br>complaint_id=%{y}<extra></extra>",
         "legendgroup": "CAPITAL ONE FINANCIAL CORPORATION",
         "marker": {
          "color": "#9467BD"
         },
         "name": "CAPITAL ONE FINANCIAL CORPORATION",
         "offsetgroup": "CAPITAL ONE FINANCIAL CORPORATION",
         "orientation": "v",
         "showlegend": true,
         "textposition": "auto",
         "type": "bar",
         "x": [
          "Credit card or prepaid card",
          "Credit reporting, credit repair services, or other personal consumer reports",
          "Debt collection",
          "Checking or savings account",
          "Vehicle loan or lease",
          "Money transfer, virtual currency, or money service",
          "Mortgage",
          "Payday loan, title loan, or personal loan",
          "Student loan"
         ],
         "xaxis": "x",
         "y": [
          12430,
          7633,
          3283,
          2928,
          868,
          264,
          115,
          80,
          1
         ],
         "yaxis": "y"
        },
        {
         "alignmentgroup": "True",
         "hovertemplate": "company_name=BANK OF AMERICA, NATIONAL ASSOCIATION<br>product=%{x}<br>complaint_id=%{y}<extra></extra>",
         "legendgroup": "BANK OF AMERICA, NATIONAL ASSOCIATION",
         "marker": {
          "color": "#8C564B"
         },
         "name": "BANK OF AMERICA, NATIONAL ASSOCIATION",
         "offsetgroup": "BANK OF AMERICA, NATIONAL ASSOCIATION",
         "orientation": "v",
         "showlegend": true,
         "textposition": "auto",
         "type": "bar",
         "x": [
          "Checking or savings account",
          "Credit card or prepaid card",
          "Mortgage",
          "Credit reporting, credit repair services, or other personal consumer reports",
          "Money transfer, virtual currency, or money service",
          "Debt collection",
          "Vehicle loan or lease",
          "Payday loan, title loan, or personal loan",
          "Student loan"
         ],
         "xaxis": "x",
         "y": [
          11170,
          7270,
          3689,
          2821,
          1264,
          1250,
          277,
          157,
          23
         ],
         "yaxis": "y"
        },
        {
         "alignmentgroup": "True",
         "hovertemplate": "company_name=JPMORGAN CHASE & CO.<br>product=%{x}<br>complaint_id=%{y}<extra></extra>",
         "legendgroup": "JPMORGAN CHASE & CO.",
         "marker": {
          "color": "#E377C2"
         },
         "name": "JPMORGAN CHASE & CO.",
         "offsetgroup": "JPMORGAN CHASE & CO.",
         "orientation": "v",
         "showlegend": true,
         "textposition": "auto",
         "type": "bar",
         "x": [
          "Checking or savings account",
          "Credit card or prepaid card",
          "Credit reporting, credit repair services, or other personal consumer reports",
          "Mortgage",
          "Money transfer, virtual currency, or money service",
          "Debt collection",
          "Vehicle loan or lease",
          "Payday loan, title loan, or personal loan",
          "Student loan"
         ],
         "xaxis": "x",
         "y": [
          9870,
          8714,
          3484,
          3163,
          1250,
          1110,
          713,
          106,
          51
         ],
         "yaxis": "y"
        },
        {
         "alignmentgroup": "True",
         "hovertemplate": "company_name=Navient Solutions, LLC.<br>product=%{x}<br>complaint_id=%{y}<extra></extra>",
         "legendgroup": "Navient Solutions, LLC.",
         "marker": {
          "color": "#7F7F7F"
         },
         "name": "Navient Solutions, LLC.",
         "offsetgroup": "Navient Solutions, LLC.",
         "orientation": "v",
         "showlegend": true,
         "textposition": "auto",
         "type": "bar",
         "x": [
          "Student loan",
          "Credit reporting, credit repair services, or other personal consumer reports",
          "Debt collection",
          "Credit card or prepaid card",
          "Payday loan, title loan, or personal loan",
          "Money transfer, virtual currency, or money service",
          "Checking or savings account",
          "Mortgage",
          "Vehicle loan or lease"
         ],
         "xaxis": "x",
         "y": [
          8711,
          1562,
          1186,
          14,
          14,
          5,
          3,
          2,
          1
         ],
         "yaxis": "y"
        },
        {
         "alignmentgroup": "True",
         "hovertemplate": "company_name=WELLS FARGO & COMPANY<br>product=%{x}<br>complaint_id=%{y}<extra></extra>",
         "legendgroup": "WELLS FARGO & COMPANY",
         "marker": {
          "color": "#BCBD22"
         },
         "name": "WELLS FARGO & COMPANY",
         "offsetgroup": "WELLS FARGO & COMPANY",
         "orientation": "v",
         "showlegend": true,
         "textposition": "auto",
         "type": "bar",
         "x": [
          "Checking or savings account",
          "Mortgage",
          "Credit reporting, credit repair services, or other personal consumer reports",
          "Credit card or prepaid card",
          "Debt collection",
          "Money transfer, virtual currency, or money service",
          "Vehicle loan or lease",
          "Payday loan, title loan, or personal loan",
          "Student loan"
         ],
         "xaxis": "x",
         "y": [
          7750,
          7274,
          3186,
          3015,
          1389,
          1109,
          927,
          413,
          359
         ],
         "yaxis": "y"
        },
        {
         "alignmentgroup": "True",
         "hovertemplate": "company_name=SYNCHRONY FINANCIAL<br>product=%{x}<br>complaint_id=%{y}<extra></extra>",
         "legendgroup": "SYNCHRONY FINANCIAL",
         "marker": {
          "color": "#17BECF"
         },
         "name": "SYNCHRONY FINANCIAL",
         "offsetgroup": "SYNCHRONY FINANCIAL",
         "orientation": "v",
         "showlegend": true,
         "textposition": "auto",
         "type": "bar",
         "x": [
          "Credit card or prepaid card",
          "Credit reporting, credit repair services, or other personal consumer reports",
          "Debt collection",
          "Checking or savings account",
          "Payday loan, title loan, or personal loan",
          "Money transfer, virtual currency, or money service",
          "Vehicle loan or lease",
          "Mortgage"
         ],
         "xaxis": "x",
         "y": [
          7670,
          4117,
          2601,
          340,
          290,
          267,
          32,
          6
         ],
         "yaxis": "y"
        },
        {
         "alignmentgroup": "True",
         "hovertemplate": "company_name=PORTFOLIO RECOVERY ASSOCIATES INC<br>product=%{x}<br>complaint_id=%{y}<extra></extra>",
         "legendgroup": "PORTFOLIO RECOVERY ASSOCIATES INC",
         "marker": {
          "color": "#1F77B4"
         },
         "name": "PORTFOLIO RECOVERY ASSOCIATES INC",
         "offsetgroup": "PORTFOLIO RECOVERY ASSOCIATES INC",
         "orientation": "v",
         "showlegend": true,
         "textposition": "auto",
         "type": "bar",
         "x": [
          "Debt collection",
          "Credit reporting, credit repair services, or other personal consumer reports",
          "Credit card or prepaid card",
          "Vehicle loan or lease",
          "Mortgage",
          "Money transfer, virtual currency, or money service",
          "Payday loan, title loan, or personal loan"
         ],
         "xaxis": "x",
         "y": [
          7557,
          1601,
          80,
          6,
          3,
          2,
          1
         ],
         "yaxis": "y"
        },
        {
         "alignmentgroup": "True",
         "hovertemplate": "company_name=AMERICAN EXPRESS COMPANY<br>product=%{x}<br>complaint_id=%{y}<extra></extra>",
         "legendgroup": "AMERICAN EXPRESS COMPANY",
         "marker": {
          "color": "#FF7F0E"
         },
         "name": "AMERICAN EXPRESS COMPANY",
         "offsetgroup": "AMERICAN EXPRESS COMPANY",
         "orientation": "v",
         "showlegend": true,
         "textposition": "auto",
         "type": "bar",
         "x": [
          "Credit card or prepaid card",
          "Credit reporting, credit repair services, or other personal consumer reports",
          "Debt collection",
          "Checking or savings account",
          "Money transfer, virtual currency, or money service",
          "Payday loan, title loan, or personal loan",
          "Mortgage",
          "Vehicle loan or lease"
         ],
         "xaxis": "x",
         "y": [
          6634,
          1340,
          1004,
          452,
          62,
          35,
          5,
          1
         ],
         "yaxis": "y"
        },
        {
         "alignmentgroup": "True",
         "hovertemplate": "company_name=Alliance Data Card Services<br>product=%{x}<br>complaint_id=%{y}<extra></extra>",
         "legendgroup": "Alliance Data Card Services",
         "marker": {
          "color": "#2CA02C"
         },
         "name": "Alliance Data Card Services",
         "offsetgroup": "Alliance Data Card Services",
         "orientation": "v",
         "showlegend": true,
         "textposition": "auto",
         "type": "bar",
         "x": [
          "Credit card or prepaid card",
          "Credit reporting, credit repair services, or other personal consumer reports",
          "Debt collection",
          "Checking or savings account",
          "Payday loan, title loan, or personal loan",
          "Money transfer, virtual currency, or money service",
          "Mortgage",
          "Student loan"
         ],
         "xaxis": "x",
         "y": [
          4596,
          2250,
          2044,
          157,
          132,
          41,
          5,
          1
         ],
         "yaxis": "y"
        },
        {
         "alignmentgroup": "True",
         "hovertemplate": "company_name=U.S. BANCORP<br>product=%{x}<br>complaint_id=%{y}<extra></extra>",
         "legendgroup": "U.S. BANCORP",
         "marker": {
          "color": "#D62728"
         },
         "name": "U.S. BANCORP",
         "offsetgroup": "U.S. BANCORP",
         "orientation": "v",
         "showlegend": true,
         "textposition": "auto",
         "type": "bar",
         "x": [
          "Credit card or prepaid card",
          "Checking or savings account",
          "Mortgage",
          "Credit reporting, credit repair services, or other personal consumer reports",
          "Debt collection",
          "Vehicle loan or lease",
          "Money transfer, virtual currency, or money service",
          "Payday loan, title loan, or personal loan",
          "Student loan"
         ],
         "xaxis": "x",
         "y": [
          3880,
          2639,
          1524,
          941,
          425,
          334,
          204,
          121,
          5
         ],
         "yaxis": "y"
        },
        {
         "alignmentgroup": "True",
         "hovertemplate": "company_name=PNC Bank N.A.<br>product=%{x}<br>complaint_id=%{y}<extra></extra>",
         "legendgroup": "PNC Bank N.A.",
         "marker": {
          "color": "#9467BD"
         },
         "name": "PNC Bank N.A.",
         "offsetgroup": "PNC Bank N.A.",
         "orientation": "v",
         "showlegend": true,
         "textposition": "auto",
         "type": "bar",
         "x": [
          "Checking or savings account",
          "Money transfer, virtual currency, or money service",
          "Mortgage",
          "Credit card or prepaid card",
          "Credit reporting, credit repair services, or other personal consumer reports",
          "Payday loan, title loan, or personal loan",
          "Vehicle loan or lease",
          "Debt collection",
          "Student loan"
         ],
         "xaxis": "x",
         "y": [
          3510,
          1457,
          1208,
          440,
          348,
          221,
          204,
          154,
          16
         ],
         "yaxis": "y"
        }
       ],
       "layout": {
        "barmode": "relative",
        "height": 600,
        "legend": {
         "title": {
          "text": "company_name"
         },
         "tracegroupgap": 0
        },
        "margin": {
         "t": 60
        },
        "template": {
         "data": {
          "bar": [
           {
            "error_x": {
             "color": "rgb(36,36,36)"
            },
            "error_y": {
             "color": "rgb(36,36,36)"
            },
            "marker": {
             "line": {
              "color": "white",
              "width": 0.5
             }
            },
            "type": "bar"
           }
          ],
          "barpolar": [
           {
            "marker": {
             "line": {
              "color": "white",
              "width": 0.5
             }
            },
            "type": "barpolar"
           }
          ],
          "carpet": [
           {
            "aaxis": {
             "endlinecolor": "rgb(36,36,36)",
             "gridcolor": "white",
             "linecolor": "white",
             "minorgridcolor": "white",
             "startlinecolor": "rgb(36,36,36)"
            },
            "baxis": {
             "endlinecolor": "rgb(36,36,36)",
             "gridcolor": "white",
             "linecolor": "white",
             "minorgridcolor": "white",
             "startlinecolor": "rgb(36,36,36)"
            },
            "type": "carpet"
           }
          ],
          "choropleth": [
           {
            "colorbar": {
             "outlinewidth": 1,
             "tickcolor": "rgb(36,36,36)",
             "ticks": "outside"
            },
            "type": "choropleth"
           }
          ],
          "contour": [
           {
            "colorbar": {
             "outlinewidth": 1,
             "tickcolor": "rgb(36,36,36)",
             "ticks": "outside"
            },
            "colorscale": [
             [
              0,
              "#440154"
             ],
             [
              0.1111111111111111,
              "#482878"
             ],
             [
              0.2222222222222222,
              "#3e4989"
             ],
             [
              0.3333333333333333,
              "#31688e"
             ],
             [
              0.4444444444444444,
              "#26828e"
             ],
             [
              0.5555555555555556,
              "#1f9e89"
             ],
             [
              0.6666666666666666,
              "#35b779"
             ],
             [
              0.7777777777777778,
              "#6ece58"
             ],
             [
              0.8888888888888888,
              "#b5de2b"
             ],
             [
              1,
              "#fde725"
             ]
            ],
            "type": "contour"
           }
          ],
          "contourcarpet": [
           {
            "colorbar": {
             "outlinewidth": 1,
             "tickcolor": "rgb(36,36,36)",
             "ticks": "outside"
            },
            "type": "contourcarpet"
           }
          ],
          "heatmap": [
           {
            "colorbar": {
             "outlinewidth": 1,
             "tickcolor": "rgb(36,36,36)",
             "ticks": "outside"
            },
            "colorscale": [
             [
              0,
              "#440154"
             ],
             [
              0.1111111111111111,
              "#482878"
             ],
             [
              0.2222222222222222,
              "#3e4989"
             ],
             [
              0.3333333333333333,
              "#31688e"
             ],
             [
              0.4444444444444444,
              "#26828e"
             ],
             [
              0.5555555555555556,
              "#1f9e89"
             ],
             [
              0.6666666666666666,
              "#35b779"
             ],
             [
              0.7777777777777778,
              "#6ece58"
             ],
             [
              0.8888888888888888,
              "#b5de2b"
             ],
             [
              1,
              "#fde725"
             ]
            ],
            "type": "heatmap"
           }
          ],
          "heatmapgl": [
           {
            "colorbar": {
             "outlinewidth": 1,
             "tickcolor": "rgb(36,36,36)",
             "ticks": "outside"
            },
            "colorscale": [
             [
              0,
              "#440154"
             ],
             [
              0.1111111111111111,
              "#482878"
             ],
             [
              0.2222222222222222,
              "#3e4989"
             ],
             [
              0.3333333333333333,
              "#31688e"
             ],
             [
              0.4444444444444444,
              "#26828e"
             ],
             [
              0.5555555555555556,
              "#1f9e89"
             ],
             [
              0.6666666666666666,
              "#35b779"
             ],
             [
              0.7777777777777778,
              "#6ece58"
             ],
             [
              0.8888888888888888,
              "#b5de2b"
             ],
             [
              1,
              "#fde725"
             ]
            ],
            "type": "heatmapgl"
           }
          ],
          "histogram": [
           {
            "marker": {
             "line": {
              "color": "white",
              "width": 0.6
             }
            },
            "type": "histogram"
           }
          ],
          "histogram2d": [
           {
            "colorbar": {
             "outlinewidth": 1,
             "tickcolor": "rgb(36,36,36)",
             "ticks": "outside"
            },
            "colorscale": [
             [
              0,
              "#440154"
             ],
             [
              0.1111111111111111,
              "#482878"
             ],
             [
              0.2222222222222222,
              "#3e4989"
             ],
             [
              0.3333333333333333,
              "#31688e"
             ],
             [
              0.4444444444444444,
              "#26828e"
             ],
             [
              0.5555555555555556,
              "#1f9e89"
             ],
             [
              0.6666666666666666,
              "#35b779"
             ],
             [
              0.7777777777777778,
              "#6ece58"
             ],
             [
              0.8888888888888888,
              "#b5de2b"
             ],
             [
              1,
              "#fde725"
             ]
            ],
            "type": "histogram2d"
           }
          ],
          "histogram2dcontour": [
           {
            "colorbar": {
             "outlinewidth": 1,
             "tickcolor": "rgb(36,36,36)",
             "ticks": "outside"
            },
            "colorscale": [
             [
              0,
              "#440154"
             ],
             [
              0.1111111111111111,
              "#482878"
             ],
             [
              0.2222222222222222,
              "#3e4989"
             ],
             [
              0.3333333333333333,
              "#31688e"
             ],
             [
              0.4444444444444444,
              "#26828e"
             ],
             [
              0.5555555555555556,
              "#1f9e89"
             ],
             [
              0.6666666666666666,
              "#35b779"
             ],
             [
              0.7777777777777778,
              "#6ece58"
             ],
             [
              0.8888888888888888,
              "#b5de2b"
             ],
             [
              1,
              "#fde725"
             ]
            ],
            "type": "histogram2dcontour"
           }
          ],
          "mesh3d": [
           {
            "colorbar": {
             "outlinewidth": 1,
             "tickcolor": "rgb(36,36,36)",
             "ticks": "outside"
            },
            "type": "mesh3d"
           }
          ],
          "parcoords": [
           {
            "line": {
             "colorbar": {
              "outlinewidth": 1,
              "tickcolor": "rgb(36,36,36)",
              "ticks": "outside"
             }
            },
            "type": "parcoords"
           }
          ],
          "pie": [
           {
            "automargin": true,
            "type": "pie"
           }
          ],
          "scatter": [
           {
            "marker": {
             "colorbar": {
              "outlinewidth": 1,
              "tickcolor": "rgb(36,36,36)",
              "ticks": "outside"
             }
            },
            "type": "scatter"
           }
          ],
          "scatter3d": [
           {
            "line": {
             "colorbar": {
              "outlinewidth": 1,
              "tickcolor": "rgb(36,36,36)",
              "ticks": "outside"
             }
            },
            "marker": {
             "colorbar": {
              "outlinewidth": 1,
              "tickcolor": "rgb(36,36,36)",
              "ticks": "outside"
             }
            },
            "type": "scatter3d"
           }
          ],
          "scattercarpet": [
           {
            "marker": {
             "colorbar": {
              "outlinewidth": 1,
              "tickcolor": "rgb(36,36,36)",
              "ticks": "outside"
             }
            },
            "type": "scattercarpet"
           }
          ],
          "scattergeo": [
           {
            "marker": {
             "colorbar": {
              "outlinewidth": 1,
              "tickcolor": "rgb(36,36,36)",
              "ticks": "outside"
             }
            },
            "type": "scattergeo"
           }
          ],
          "scattergl": [
           {
            "marker": {
             "colorbar": {
              "outlinewidth": 1,
              "tickcolor": "rgb(36,36,36)",
              "ticks": "outside"
             }
            },
            "type": "scattergl"
           }
          ],
          "scattermapbox": [
           {
            "marker": {
             "colorbar": {
              "outlinewidth": 1,
              "tickcolor": "rgb(36,36,36)",
              "ticks": "outside"
             }
            },
            "type": "scattermapbox"
           }
          ],
          "scatterpolar": [
           {
            "marker": {
             "colorbar": {
              "outlinewidth": 1,
              "tickcolor": "rgb(36,36,36)",
              "ticks": "outside"
             }
            },
            "type": "scatterpolar"
           }
          ],
          "scatterpolargl": [
           {
            "marker": {
             "colorbar": {
              "outlinewidth": 1,
              "tickcolor": "rgb(36,36,36)",
              "ticks": "outside"
             }
            },
            "type": "scatterpolargl"
           }
          ],
          "scatterternary": [
           {
            "marker": {
             "colorbar": {
              "outlinewidth": 1,
              "tickcolor": "rgb(36,36,36)",
              "ticks": "outside"
             }
            },
            "type": "scatterternary"
           }
          ],
          "surface": [
           {
            "colorbar": {
             "outlinewidth": 1,
             "tickcolor": "rgb(36,36,36)",
             "ticks": "outside"
            },
            "colorscale": [
             [
              0,
              "#440154"
             ],
             [
              0.1111111111111111,
              "#482878"
             ],
             [
              0.2222222222222222,
              "#3e4989"
             ],
             [
              0.3333333333333333,
              "#31688e"
             ],
             [
              0.4444444444444444,
              "#26828e"
             ],
             [
              0.5555555555555556,
              "#1f9e89"
             ],
             [
              0.6666666666666666,
              "#35b779"
             ],
             [
              0.7777777777777778,
              "#6ece58"
             ],
             [
              0.8888888888888888,
              "#b5de2b"
             ],
             [
              1,
              "#fde725"
             ]
            ],
            "type": "surface"
           }
          ],
          "table": [
           {
            "cells": {
             "fill": {
              "color": "rgb(237,237,237)"
             },
             "line": {
              "color": "white"
             }
            },
            "header": {
             "fill": {
              "color": "rgb(217,217,217)"
             },
             "line": {
              "color": "white"
             }
            },
            "type": "table"
           }
          ]
         },
         "layout": {
          "annotationdefaults": {
           "arrowhead": 0,
           "arrowwidth": 1
          },
          "autotypenumbers": "strict",
          "coloraxis": {
           "colorbar": {
            "outlinewidth": 1,
            "tickcolor": "rgb(36,36,36)",
            "ticks": "outside"
           }
          },
          "colorscale": {
           "diverging": [
            [
             0,
             "rgb(103,0,31)"
            ],
            [
             0.1,
             "rgb(178,24,43)"
            ],
            [
             0.2,
             "rgb(214,96,77)"
            ],
            [
             0.3,
             "rgb(244,165,130)"
            ],
            [
             0.4,
             "rgb(253,219,199)"
            ],
            [
             0.5,
             "rgb(247,247,247)"
            ],
            [
             0.6,
             "rgb(209,229,240)"
            ],
            [
             0.7,
             "rgb(146,197,222)"
            ],
            [
             0.8,
             "rgb(67,147,195)"
            ],
            [
             0.9,
             "rgb(33,102,172)"
            ],
            [
             1,
             "rgb(5,48,97)"
            ]
           ],
           "sequential": [
            [
             0,
             "#440154"
            ],
            [
             0.1111111111111111,
             "#482878"
            ],
            [
             0.2222222222222222,
             "#3e4989"
            ],
            [
             0.3333333333333333,
             "#31688e"
            ],
            [
             0.4444444444444444,
             "#26828e"
            ],
            [
             0.5555555555555556,
             "#1f9e89"
            ],
            [
             0.6666666666666666,
             "#35b779"
            ],
            [
             0.7777777777777778,
             "#6ece58"
            ],
            [
             0.8888888888888888,
             "#b5de2b"
            ],
            [
             1,
             "#fde725"
            ]
           ],
           "sequentialminus": [
            [
             0,
             "#440154"
            ],
            [
             0.1111111111111111,
             "#482878"
            ],
            [
             0.2222222222222222,
             "#3e4989"
            ],
            [
             0.3333333333333333,
             "#31688e"
            ],
            [
             0.4444444444444444,
             "#26828e"
            ],
            [
             0.5555555555555556,
             "#1f9e89"
            ],
            [
             0.6666666666666666,
             "#35b779"
            ],
            [
             0.7777777777777778,
             "#6ece58"
            ],
            [
             0.8888888888888888,
             "#b5de2b"
            ],
            [
             1,
             "#fde725"
            ]
           ]
          },
          "colorway": [
           "#1F77B4",
           "#FF7F0E",
           "#2CA02C",
           "#D62728",
           "#9467BD",
           "#8C564B",
           "#E377C2",
           "#7F7F7F",
           "#BCBD22",
           "#17BECF"
          ],
          "font": {
           "color": "rgb(36,36,36)"
          },
          "geo": {
           "bgcolor": "white",
           "lakecolor": "white",
           "landcolor": "white",
           "showlakes": true,
           "showland": true,
           "subunitcolor": "white"
          },
          "hoverlabel": {
           "align": "left"
          },
          "hovermode": "closest",
          "mapbox": {
           "style": "light"
          },
          "paper_bgcolor": "white",
          "plot_bgcolor": "white",
          "polar": {
           "angularaxis": {
            "gridcolor": "rgb(232,232,232)",
            "linecolor": "rgb(36,36,36)",
            "showgrid": false,
            "showline": true,
            "ticks": "outside"
           },
           "bgcolor": "white",
           "radialaxis": {
            "gridcolor": "rgb(232,232,232)",
            "linecolor": "rgb(36,36,36)",
            "showgrid": false,
            "showline": true,
            "ticks": "outside"
           }
          },
          "scene": {
           "xaxis": {
            "backgroundcolor": "white",
            "gridcolor": "rgb(232,232,232)",
            "gridwidth": 2,
            "linecolor": "rgb(36,36,36)",
            "showbackground": true,
            "showgrid": false,
            "showline": true,
            "ticks": "outside",
            "zeroline": false,
            "zerolinecolor": "rgb(36,36,36)"
           },
           "yaxis": {
            "backgroundcolor": "white",
            "gridcolor": "rgb(232,232,232)",
            "gridwidth": 2,
            "linecolor": "rgb(36,36,36)",
            "showbackground": true,
            "showgrid": false,
            "showline": true,
            "ticks": "outside",
            "zeroline": false,
            "zerolinecolor": "rgb(36,36,36)"
           },
           "zaxis": {
            "backgroundcolor": "white",
            "gridcolor": "rgb(232,232,232)",
            "gridwidth": 2,
            "linecolor": "rgb(36,36,36)",
            "showbackground": true,
            "showgrid": false,
            "showline": true,
            "ticks": "outside",
            "zeroline": false,
            "zerolinecolor": "rgb(36,36,36)"
           }
          },
          "shapedefaults": {
           "fillcolor": "black",
           "line": {
            "width": 0
           },
           "opacity": 0.3
          },
          "ternary": {
           "aaxis": {
            "gridcolor": "rgb(232,232,232)",
            "linecolor": "rgb(36,36,36)",
            "showgrid": false,
            "showline": true,
            "ticks": "outside"
           },
           "baxis": {
            "gridcolor": "rgb(232,232,232)",
            "linecolor": "rgb(36,36,36)",
            "showgrid": false,
            "showline": true,
            "ticks": "outside"
           },
           "bgcolor": "white",
           "caxis": {
            "gridcolor": "rgb(232,232,232)",
            "linecolor": "rgb(36,36,36)",
            "showgrid": false,
            "showline": true,
            "ticks": "outside"
           }
          },
          "title": {
           "x": 0.05
          },
          "xaxis": {
           "automargin": true,
           "gridcolor": "rgb(232,232,232)",
           "linecolor": "rgb(36,36,36)",
           "showgrid": false,
           "showline": true,
           "ticks": "outside",
           "title": {
            "standoff": 15
           },
           "zeroline": false,
           "zerolinecolor": "rgb(36,36,36)"
          },
          "yaxis": {
           "automargin": true,
           "gridcolor": "rgb(232,232,232)",
           "linecolor": "rgb(36,36,36)",
           "showgrid": false,
           "showline": true,
           "ticks": "outside",
           "title": {
            "standoff": 15
           },
           "zeroline": false,
           "zerolinecolor": "rgb(36,36,36)"
          }
         }
        },
        "width": 800,
        "xaxis": {
         "anchor": "y",
         "domain": [
          0,
          1
         ],
         "title": {
          "text": "product"
         }
        },
        "yaxis": {
         "anchor": "x",
         "domain": [
          0,
          1
         ],
         "title": {
          "text": "complaint_id"
         }
        }
       }
      },
      "text/html": [
       "<div>                            <div id=\"4ebfd6a4-27b7-451c-9a2b-7bd053e6cf63\" class=\"plotly-graph-div\" style=\"height:600px; width:800px;\"></div>            <script type=\"text/javascript\">                require([\"plotly\"], function(Plotly) {                    window.PLOTLYENV=window.PLOTLYENV || {};                                    if (document.getElementById(\"4ebfd6a4-27b7-451c-9a2b-7bd053e6cf63\")) {                    Plotly.newPlot(                        \"4ebfd6a4-27b7-451c-9a2b-7bd053e6cf63\",                        [{\"alignmentgroup\": \"True\", \"hovertemplate\": \"company_name=TRANSUNION INTERMEDIATE HOLDINGS, INC.<br>product=%{x}<br>complaint_id=%{y}<extra></extra>\", \"legendgroup\": \"TRANSUNION INTERMEDIATE HOLDINGS, INC.\", \"marker\": {\"color\": \"#1F77B4\"}, \"name\": \"TRANSUNION INTERMEDIATE HOLDINGS, INC.\", \"offsetgroup\": \"TRANSUNION INTERMEDIATE HOLDINGS, INC.\", \"orientation\": \"v\", \"showlegend\": true, \"textposition\": \"auto\", \"type\": \"bar\", \"x\": [\"Credit reporting, credit repair services, or other personal consumer reports\", \"Debt collection\", \"Credit card or prepaid card\", \"Vehicle loan or lease\", \"Mortgage\", \"Student loan\", \"Payday loan, title loan, or personal loan\", \"Money transfer, virtual currency, or money service\", \"Checking or savings account\"], \"xaxis\": \"x\", \"y\": [173198, 4509, 162, 43, 31, 24, 20, 14, 10], \"yaxis\": \"y\"}, {\"alignmentgroup\": \"True\", \"hovertemplate\": \"company_name=EQUIFAX, INC.<br>product=%{x}<br>complaint_id=%{y}<extra></extra>\", \"legendgroup\": \"EQUIFAX, INC.\", \"marker\": {\"color\": \"#FF7F0E\"}, \"name\": \"EQUIFAX, INC.\", \"offsetgroup\": \"EQUIFAX, INC.\", \"orientation\": \"v\", \"showlegend\": true, \"textposition\": \"auto\", \"type\": \"bar\", \"x\": [\"Credit reporting, credit repair services, or other personal consumer reports\", \"Debt collection\", \"Credit card or prepaid card\", \"Mortgage\", \"Vehicle loan or lease\", \"Student loan\", \"Money transfer, virtual currency, or money service\", \"Payday loan, title loan, or personal loan\", \"Checking or savings account\"], \"xaxis\": \"x\", \"y\": [166176, 4321, 195, 49, 32, 21, 10, 9, 6], \"yaxis\": \"y\"}, {\"alignmentgroup\": \"True\", \"hovertemplate\": \"company_name=Experian Information Solutions Inc.<br>product=%{x}<br>complaint_id=%{y}<extra></extra>\", \"legendgroup\": \"Experian Information Solutions Inc.\", \"marker\": {\"color\": \"#2CA02C\"}, \"name\": \"Experian Information Solutions Inc.\", \"offsetgroup\": \"Experian Information Solutions Inc.\", \"orientation\": \"v\", \"showlegend\": true, \"textposition\": \"auto\", \"type\": \"bar\", \"x\": [\"Credit reporting, credit repair services, or other personal consumer reports\", \"Debt collection\", \"Credit card or prepaid card\", \"Vehicle loan or lease\", \"Mortgage\", \"Payday loan, title loan, or personal loan\", \"Student loan\", \"Checking or savings account\", \"Money transfer, virtual currency, or money service\"], \"xaxis\": \"x\", \"y\": [158947, 4326, 205, 65, 31, 24, 22, 22, 15], \"yaxis\": \"y\"}, {\"alignmentgroup\": \"True\", \"hovertemplate\": \"company_name=CITIBANK, N.A.<br>product=%{x}<br>complaint_id=%{y}<extra></extra>\", \"legendgroup\": \"CITIBANK, N.A.\", \"marker\": {\"color\": \"#D62728\"}, \"name\": \"CITIBANK, N.A.\", \"offsetgroup\": \"CITIBANK, N.A.\", \"orientation\": \"v\", \"showlegend\": true, \"textposition\": \"auto\", \"type\": \"bar\", \"x\": [\"Credit card or prepaid card\", \"Checking or savings account\", \"Credit reporting, credit repair services, or other personal consumer reports\", \"Debt collection\", \"Mortgage\", \"Money transfer, virtual currency, or money service\", \"Payday loan, title loan, or personal loan\", \"Student loan\", \"Vehicle loan or lease\"], \"xaxis\": \"x\", \"y\": [13239, 4305, 3978, 2246, 790, 316, 118, 77, 20], \"yaxis\": \"y\"}, {\"alignmentgroup\": \"True\", \"hovertemplate\": \"company_name=CAPITAL ONE FINANCIAL CORPORATION<br>product=%{x}<br>complaint_id=%{y}<extra></extra>\", \"legendgroup\": \"CAPITAL ONE FINANCIAL CORPORATION\", \"marker\": {\"color\": \"#9467BD\"}, \"name\": \"CAPITAL ONE FINANCIAL CORPORATION\", \"offsetgroup\": \"CAPITAL ONE FINANCIAL CORPORATION\", \"orientation\": \"v\", \"showlegend\": true, \"textposition\": \"auto\", \"type\": \"bar\", \"x\": [\"Credit card or prepaid card\", \"Credit reporting, credit repair services, or other personal consumer reports\", \"Debt collection\", \"Checking or savings account\", \"Vehicle loan or lease\", \"Money transfer, virtual currency, or money service\", \"Mortgage\", \"Payday loan, title loan, or personal loan\", \"Student loan\"], \"xaxis\": \"x\", \"y\": [12430, 7633, 3283, 2928, 868, 264, 115, 80, 1], \"yaxis\": \"y\"}, {\"alignmentgroup\": \"True\", \"hovertemplate\": \"company_name=BANK OF AMERICA, NATIONAL ASSOCIATION<br>product=%{x}<br>complaint_id=%{y}<extra></extra>\", \"legendgroup\": \"BANK OF AMERICA, NATIONAL ASSOCIATION\", \"marker\": {\"color\": \"#8C564B\"}, \"name\": \"BANK OF AMERICA, NATIONAL ASSOCIATION\", \"offsetgroup\": \"BANK OF AMERICA, NATIONAL ASSOCIATION\", \"orientation\": \"v\", \"showlegend\": true, \"textposition\": \"auto\", \"type\": \"bar\", \"x\": [\"Checking or savings account\", \"Credit card or prepaid card\", \"Mortgage\", \"Credit reporting, credit repair services, or other personal consumer reports\", \"Money transfer, virtual currency, or money service\", \"Debt collection\", \"Vehicle loan or lease\", \"Payday loan, title loan, or personal loan\", \"Student loan\"], \"xaxis\": \"x\", \"y\": [11170, 7270, 3689, 2821, 1264, 1250, 277, 157, 23], \"yaxis\": \"y\"}, {\"alignmentgroup\": \"True\", \"hovertemplate\": \"company_name=JPMORGAN CHASE & CO.<br>product=%{x}<br>complaint_id=%{y}<extra></extra>\", \"legendgroup\": \"JPMORGAN CHASE & CO.\", \"marker\": {\"color\": \"#E377C2\"}, \"name\": \"JPMORGAN CHASE & CO.\", \"offsetgroup\": \"JPMORGAN CHASE & CO.\", \"orientation\": \"v\", \"showlegend\": true, \"textposition\": \"auto\", \"type\": \"bar\", \"x\": [\"Checking or savings account\", \"Credit card or prepaid card\", \"Credit reporting, credit repair services, or other personal consumer reports\", \"Mortgage\", \"Money transfer, virtual currency, or money service\", \"Debt collection\", \"Vehicle loan or lease\", \"Payday loan, title loan, or personal loan\", \"Student loan\"], \"xaxis\": \"x\", \"y\": [9870, 8714, 3484, 3163, 1250, 1110, 713, 106, 51], \"yaxis\": \"y\"}, {\"alignmentgroup\": \"True\", \"hovertemplate\": \"company_name=Navient Solutions, LLC.<br>product=%{x}<br>complaint_id=%{y}<extra></extra>\", \"legendgroup\": \"Navient Solutions, LLC.\", \"marker\": {\"color\": \"#7F7F7F\"}, \"name\": \"Navient Solutions, LLC.\", \"offsetgroup\": \"Navient Solutions, LLC.\", \"orientation\": \"v\", \"showlegend\": true, \"textposition\": \"auto\", \"type\": \"bar\", \"x\": [\"Student loan\", \"Credit reporting, credit repair services, or other personal consumer reports\", \"Debt collection\", \"Credit card or prepaid card\", \"Payday loan, title loan, or personal loan\", \"Money transfer, virtual currency, or money service\", \"Checking or savings account\", \"Mortgage\", \"Vehicle loan or lease\"], \"xaxis\": \"x\", \"y\": [8711, 1562, 1186, 14, 14, 5, 3, 2, 1], \"yaxis\": \"y\"}, {\"alignmentgroup\": \"True\", \"hovertemplate\": \"company_name=WELLS FARGO & COMPANY<br>product=%{x}<br>complaint_id=%{y}<extra></extra>\", \"legendgroup\": \"WELLS FARGO & COMPANY\", \"marker\": {\"color\": \"#BCBD22\"}, \"name\": \"WELLS FARGO & COMPANY\", \"offsetgroup\": \"WELLS FARGO & COMPANY\", \"orientation\": \"v\", \"showlegend\": true, \"textposition\": \"auto\", \"type\": \"bar\", \"x\": [\"Checking or savings account\", \"Mortgage\", \"Credit reporting, credit repair services, or other personal consumer reports\", \"Credit card or prepaid card\", \"Debt collection\", \"Money transfer, virtual currency, or money service\", \"Vehicle loan or lease\", \"Payday loan, title loan, or personal loan\", \"Student loan\"], \"xaxis\": \"x\", \"y\": [7750, 7274, 3186, 3015, 1389, 1109, 927, 413, 359], \"yaxis\": \"y\"}, {\"alignmentgroup\": \"True\", \"hovertemplate\": \"company_name=SYNCHRONY FINANCIAL<br>product=%{x}<br>complaint_id=%{y}<extra></extra>\", \"legendgroup\": \"SYNCHRONY FINANCIAL\", \"marker\": {\"color\": \"#17BECF\"}, \"name\": \"SYNCHRONY FINANCIAL\", \"offsetgroup\": \"SYNCHRONY FINANCIAL\", \"orientation\": \"v\", \"showlegend\": true, \"textposition\": \"auto\", \"type\": \"bar\", \"x\": [\"Credit card or prepaid card\", \"Credit reporting, credit repair services, or other personal consumer reports\", \"Debt collection\", \"Checking or savings account\", \"Payday loan, title loan, or personal loan\", \"Money transfer, virtual currency, or money service\", \"Vehicle loan or lease\", \"Mortgage\"], \"xaxis\": \"x\", \"y\": [7670, 4117, 2601, 340, 290, 267, 32, 6], \"yaxis\": \"y\"}, {\"alignmentgroup\": \"True\", \"hovertemplate\": \"company_name=PORTFOLIO RECOVERY ASSOCIATES INC<br>product=%{x}<br>complaint_id=%{y}<extra></extra>\", \"legendgroup\": \"PORTFOLIO RECOVERY ASSOCIATES INC\", \"marker\": {\"color\": \"#1F77B4\"}, \"name\": \"PORTFOLIO RECOVERY ASSOCIATES INC\", \"offsetgroup\": \"PORTFOLIO RECOVERY ASSOCIATES INC\", \"orientation\": \"v\", \"showlegend\": true, \"textposition\": \"auto\", \"type\": \"bar\", \"x\": [\"Debt collection\", \"Credit reporting, credit repair services, or other personal consumer reports\", \"Credit card or prepaid card\", \"Vehicle loan or lease\", \"Mortgage\", \"Money transfer, virtual currency, or money service\", \"Payday loan, title loan, or personal loan\"], \"xaxis\": \"x\", \"y\": [7557, 1601, 80, 6, 3, 2, 1], \"yaxis\": \"y\"}, {\"alignmentgroup\": \"True\", \"hovertemplate\": \"company_name=AMERICAN EXPRESS COMPANY<br>product=%{x}<br>complaint_id=%{y}<extra></extra>\", \"legendgroup\": \"AMERICAN EXPRESS COMPANY\", \"marker\": {\"color\": \"#FF7F0E\"}, \"name\": \"AMERICAN EXPRESS COMPANY\", \"offsetgroup\": \"AMERICAN EXPRESS COMPANY\", \"orientation\": \"v\", \"showlegend\": true, \"textposition\": \"auto\", \"type\": \"bar\", \"x\": [\"Credit card or prepaid card\", \"Credit reporting, credit repair services, or other personal consumer reports\", \"Debt collection\", \"Checking or savings account\", \"Money transfer, virtual currency, or money service\", \"Payday loan, title loan, or personal loan\", \"Mortgage\", \"Vehicle loan or lease\"], \"xaxis\": \"x\", \"y\": [6634, 1340, 1004, 452, 62, 35, 5, 1], \"yaxis\": \"y\"}, {\"alignmentgroup\": \"True\", \"hovertemplate\": \"company_name=Alliance Data Card Services<br>product=%{x}<br>complaint_id=%{y}<extra></extra>\", \"legendgroup\": \"Alliance Data Card Services\", \"marker\": {\"color\": \"#2CA02C\"}, \"name\": \"Alliance Data Card Services\", \"offsetgroup\": \"Alliance Data Card Services\", \"orientation\": \"v\", \"showlegend\": true, \"textposition\": \"auto\", \"type\": \"bar\", \"x\": [\"Credit card or prepaid card\", \"Credit reporting, credit repair services, or other personal consumer reports\", \"Debt collection\", \"Checking or savings account\", \"Payday loan, title loan, or personal loan\", \"Money transfer, virtual currency, or money service\", \"Mortgage\", \"Student loan\"], \"xaxis\": \"x\", \"y\": [4596, 2250, 2044, 157, 132, 41, 5, 1], \"yaxis\": \"y\"}, {\"alignmentgroup\": \"True\", \"hovertemplate\": \"company_name=U.S. BANCORP<br>product=%{x}<br>complaint_id=%{y}<extra></extra>\", \"legendgroup\": \"U.S. BANCORP\", \"marker\": {\"color\": \"#D62728\"}, \"name\": \"U.S. BANCORP\", \"offsetgroup\": \"U.S. BANCORP\", \"orientation\": \"v\", \"showlegend\": true, \"textposition\": \"auto\", \"type\": \"bar\", \"x\": [\"Credit card or prepaid card\", \"Checking or savings account\", \"Mortgage\", \"Credit reporting, credit repair services, or other personal consumer reports\", \"Debt collection\", \"Vehicle loan or lease\", \"Money transfer, virtual currency, or money service\", \"Payday loan, title loan, or personal loan\", \"Student loan\"], \"xaxis\": \"x\", \"y\": [3880, 2639, 1524, 941, 425, 334, 204, 121, 5], \"yaxis\": \"y\"}, {\"alignmentgroup\": \"True\", \"hovertemplate\": \"company_name=PNC Bank N.A.<br>product=%{x}<br>complaint_id=%{y}<extra></extra>\", \"legendgroup\": \"PNC Bank N.A.\", \"marker\": {\"color\": \"#9467BD\"}, \"name\": \"PNC Bank N.A.\", \"offsetgroup\": \"PNC Bank N.A.\", \"orientation\": \"v\", \"showlegend\": true, \"textposition\": \"auto\", \"type\": \"bar\", \"x\": [\"Checking or savings account\", \"Money transfer, virtual currency, or money service\", \"Mortgage\", \"Credit card or prepaid card\", \"Credit reporting, credit repair services, or other personal consumer reports\", \"Payday loan, title loan, or personal loan\", \"Vehicle loan or lease\", \"Debt collection\", \"Student loan\"], \"xaxis\": \"x\", \"y\": [3510, 1457, 1208, 440, 348, 221, 204, 154, 16], \"yaxis\": \"y\"}],                        {\"barmode\": \"relative\", \"height\": 600, \"legend\": {\"title\": {\"text\": \"company_name\"}, \"tracegroupgap\": 0}, \"margin\": {\"t\": 60}, \"template\": {\"data\": {\"bar\": [{\"error_x\": {\"color\": \"rgb(36,36,36)\"}, \"error_y\": {\"color\": \"rgb(36,36,36)\"}, \"marker\": {\"line\": {\"color\": \"white\", \"width\": 0.5}}, \"type\": \"bar\"}], \"barpolar\": [{\"marker\": {\"line\": {\"color\": \"white\", \"width\": 0.5}}, \"type\": \"barpolar\"}], \"carpet\": [{\"aaxis\": {\"endlinecolor\": \"rgb(36,36,36)\", \"gridcolor\": \"white\", \"linecolor\": \"white\", \"minorgridcolor\": \"white\", \"startlinecolor\": \"rgb(36,36,36)\"}, \"baxis\": {\"endlinecolor\": \"rgb(36,36,36)\", \"gridcolor\": \"white\", \"linecolor\": \"white\", \"minorgridcolor\": \"white\", \"startlinecolor\": \"rgb(36,36,36)\"}, \"type\": \"carpet\"}], \"choropleth\": [{\"colorbar\": {\"outlinewidth\": 1, \"tickcolor\": \"rgb(36,36,36)\", \"ticks\": \"outside\"}, \"type\": \"choropleth\"}], \"contour\": [{\"colorbar\": {\"outlinewidth\": 1, \"tickcolor\": \"rgb(36,36,36)\", \"ticks\": \"outside\"}, \"colorscale\": [[0.0, \"#440154\"], [0.1111111111111111, \"#482878\"], [0.2222222222222222, \"#3e4989\"], [0.3333333333333333, \"#31688e\"], [0.4444444444444444, \"#26828e\"], [0.5555555555555556, \"#1f9e89\"], [0.6666666666666666, \"#35b779\"], [0.7777777777777778, \"#6ece58\"], [0.8888888888888888, \"#b5de2b\"], [1.0, \"#fde725\"]], \"type\": \"contour\"}], \"contourcarpet\": [{\"colorbar\": {\"outlinewidth\": 1, \"tickcolor\": \"rgb(36,36,36)\", \"ticks\": \"outside\"}, \"type\": \"contourcarpet\"}], \"heatmap\": [{\"colorbar\": {\"outlinewidth\": 1, \"tickcolor\": \"rgb(36,36,36)\", \"ticks\": \"outside\"}, \"colorscale\": [[0.0, \"#440154\"], [0.1111111111111111, \"#482878\"], [0.2222222222222222, \"#3e4989\"], [0.3333333333333333, \"#31688e\"], [0.4444444444444444, \"#26828e\"], [0.5555555555555556, \"#1f9e89\"], [0.6666666666666666, \"#35b779\"], [0.7777777777777778, \"#6ece58\"], [0.8888888888888888, \"#b5de2b\"], [1.0, \"#fde725\"]], \"type\": \"heatmap\"}], \"heatmapgl\": [{\"colorbar\": {\"outlinewidth\": 1, \"tickcolor\": \"rgb(36,36,36)\", \"ticks\": \"outside\"}, \"colorscale\": [[0.0, \"#440154\"], [0.1111111111111111, \"#482878\"], [0.2222222222222222, \"#3e4989\"], [0.3333333333333333, \"#31688e\"], [0.4444444444444444, \"#26828e\"], [0.5555555555555556, \"#1f9e89\"], [0.6666666666666666, \"#35b779\"], [0.7777777777777778, \"#6ece58\"], [0.8888888888888888, \"#b5de2b\"], [1.0, \"#fde725\"]], \"type\": \"heatmapgl\"}], \"histogram\": [{\"marker\": {\"line\": {\"color\": \"white\", \"width\": 0.6}}, \"type\": \"histogram\"}], \"histogram2d\": [{\"colorbar\": {\"outlinewidth\": 1, \"tickcolor\": \"rgb(36,36,36)\", \"ticks\": \"outside\"}, \"colorscale\": [[0.0, \"#440154\"], [0.1111111111111111, \"#482878\"], [0.2222222222222222, \"#3e4989\"], [0.3333333333333333, \"#31688e\"], [0.4444444444444444, \"#26828e\"], [0.5555555555555556, \"#1f9e89\"], [0.6666666666666666, \"#35b779\"], [0.7777777777777778, \"#6ece58\"], [0.8888888888888888, \"#b5de2b\"], [1.0, \"#fde725\"]], \"type\": \"histogram2d\"}], \"histogram2dcontour\": [{\"colorbar\": {\"outlinewidth\": 1, \"tickcolor\": \"rgb(36,36,36)\", \"ticks\": \"outside\"}, \"colorscale\": [[0.0, \"#440154\"], [0.1111111111111111, \"#482878\"], [0.2222222222222222, \"#3e4989\"], [0.3333333333333333, \"#31688e\"], [0.4444444444444444, \"#26828e\"], [0.5555555555555556, \"#1f9e89\"], [0.6666666666666666, \"#35b779\"], [0.7777777777777778, \"#6ece58\"], [0.8888888888888888, \"#b5de2b\"], [1.0, \"#fde725\"]], \"type\": \"histogram2dcontour\"}], \"mesh3d\": [{\"colorbar\": {\"outlinewidth\": 1, \"tickcolor\": \"rgb(36,36,36)\", \"ticks\": \"outside\"}, \"type\": \"mesh3d\"}], \"parcoords\": [{\"line\": {\"colorbar\": {\"outlinewidth\": 1, \"tickcolor\": \"rgb(36,36,36)\", \"ticks\": \"outside\"}}, \"type\": \"parcoords\"}], \"pie\": [{\"automargin\": true, \"type\": \"pie\"}], \"scatter\": [{\"marker\": {\"colorbar\": {\"outlinewidth\": 1, \"tickcolor\": \"rgb(36,36,36)\", \"ticks\": \"outside\"}}, \"type\": \"scatter\"}], \"scatter3d\": [{\"line\": {\"colorbar\": {\"outlinewidth\": 1, \"tickcolor\": \"rgb(36,36,36)\", \"ticks\": \"outside\"}}, \"marker\": {\"colorbar\": {\"outlinewidth\": 1, \"tickcolor\": \"rgb(36,36,36)\", \"ticks\": \"outside\"}}, \"type\": \"scatter3d\"}], \"scattercarpet\": [{\"marker\": {\"colorbar\": {\"outlinewidth\": 1, \"tickcolor\": \"rgb(36,36,36)\", \"ticks\": \"outside\"}}, \"type\": \"scattercarpet\"}], \"scattergeo\": [{\"marker\": {\"colorbar\": {\"outlinewidth\": 1, \"tickcolor\": \"rgb(36,36,36)\", \"ticks\": \"outside\"}}, \"type\": \"scattergeo\"}], \"scattergl\": [{\"marker\": {\"colorbar\": {\"outlinewidth\": 1, \"tickcolor\": \"rgb(36,36,36)\", \"ticks\": \"outside\"}}, \"type\": \"scattergl\"}], \"scattermapbox\": [{\"marker\": {\"colorbar\": {\"outlinewidth\": 1, \"tickcolor\": \"rgb(36,36,36)\", \"ticks\": \"outside\"}}, \"type\": \"scattermapbox\"}], \"scatterpolar\": [{\"marker\": {\"colorbar\": {\"outlinewidth\": 1, \"tickcolor\": \"rgb(36,36,36)\", \"ticks\": \"outside\"}}, \"type\": \"scatterpolar\"}], \"scatterpolargl\": [{\"marker\": {\"colorbar\": {\"outlinewidth\": 1, \"tickcolor\": \"rgb(36,36,36)\", \"ticks\": \"outside\"}}, \"type\": \"scatterpolargl\"}], \"scatterternary\": [{\"marker\": {\"colorbar\": {\"outlinewidth\": 1, \"tickcolor\": \"rgb(36,36,36)\", \"ticks\": \"outside\"}}, \"type\": \"scatterternary\"}], \"surface\": [{\"colorbar\": {\"outlinewidth\": 1, \"tickcolor\": \"rgb(36,36,36)\", \"ticks\": \"outside\"}, \"colorscale\": [[0.0, \"#440154\"], [0.1111111111111111, \"#482878\"], [0.2222222222222222, \"#3e4989\"], [0.3333333333333333, \"#31688e\"], [0.4444444444444444, \"#26828e\"], [0.5555555555555556, \"#1f9e89\"], [0.6666666666666666, \"#35b779\"], [0.7777777777777778, \"#6ece58\"], [0.8888888888888888, \"#b5de2b\"], [1.0, \"#fde725\"]], \"type\": \"surface\"}], \"table\": [{\"cells\": {\"fill\": {\"color\": \"rgb(237,237,237)\"}, \"line\": {\"color\": \"white\"}}, \"header\": {\"fill\": {\"color\": \"rgb(217,217,217)\"}, \"line\": {\"color\": \"white\"}}, \"type\": \"table\"}]}, \"layout\": {\"annotationdefaults\": {\"arrowhead\": 0, \"arrowwidth\": 1}, \"autotypenumbers\": \"strict\", \"coloraxis\": {\"colorbar\": {\"outlinewidth\": 1, \"tickcolor\": \"rgb(36,36,36)\", \"ticks\": \"outside\"}}, \"colorscale\": {\"diverging\": [[0.0, \"rgb(103,0,31)\"], [0.1, \"rgb(178,24,43)\"], [0.2, \"rgb(214,96,77)\"], [0.3, \"rgb(244,165,130)\"], [0.4, \"rgb(253,219,199)\"], [0.5, \"rgb(247,247,247)\"], [0.6, \"rgb(209,229,240)\"], [0.7, \"rgb(146,197,222)\"], [0.8, \"rgb(67,147,195)\"], [0.9, \"rgb(33,102,172)\"], [1.0, \"rgb(5,48,97)\"]], \"sequential\": [[0.0, \"#440154\"], [0.1111111111111111, \"#482878\"], [0.2222222222222222, \"#3e4989\"], [0.3333333333333333, \"#31688e\"], [0.4444444444444444, \"#26828e\"], [0.5555555555555556, \"#1f9e89\"], [0.6666666666666666, \"#35b779\"], [0.7777777777777778, \"#6ece58\"], [0.8888888888888888, \"#b5de2b\"], [1.0, \"#fde725\"]], \"sequentialminus\": [[0.0, \"#440154\"], [0.1111111111111111, \"#482878\"], [0.2222222222222222, \"#3e4989\"], [0.3333333333333333, \"#31688e\"], [0.4444444444444444, \"#26828e\"], [0.5555555555555556, \"#1f9e89\"], [0.6666666666666666, \"#35b779\"], [0.7777777777777778, \"#6ece58\"], [0.8888888888888888, \"#b5de2b\"], [1.0, \"#fde725\"]]}, \"colorway\": [\"#1F77B4\", \"#FF7F0E\", \"#2CA02C\", \"#D62728\", \"#9467BD\", \"#8C564B\", \"#E377C2\", \"#7F7F7F\", \"#BCBD22\", \"#17BECF\"], \"font\": {\"color\": \"rgb(36,36,36)\"}, \"geo\": {\"bgcolor\": \"white\", \"lakecolor\": \"white\", \"landcolor\": \"white\", \"showlakes\": true, \"showland\": true, \"subunitcolor\": \"white\"}, \"hoverlabel\": {\"align\": \"left\"}, \"hovermode\": \"closest\", \"mapbox\": {\"style\": \"light\"}, \"paper_bgcolor\": \"white\", \"plot_bgcolor\": \"white\", \"polar\": {\"angularaxis\": {\"gridcolor\": \"rgb(232,232,232)\", \"linecolor\": \"rgb(36,36,36)\", \"showgrid\": false, \"showline\": true, \"ticks\": \"outside\"}, \"bgcolor\": \"white\", \"radialaxis\": {\"gridcolor\": \"rgb(232,232,232)\", \"linecolor\": \"rgb(36,36,36)\", \"showgrid\": false, \"showline\": true, \"ticks\": \"outside\"}}, \"scene\": {\"xaxis\": {\"backgroundcolor\": \"white\", \"gridcolor\": \"rgb(232,232,232)\", \"gridwidth\": 2, \"linecolor\": \"rgb(36,36,36)\", \"showbackground\": true, \"showgrid\": false, \"showline\": true, \"ticks\": \"outside\", \"zeroline\": false, \"zerolinecolor\": \"rgb(36,36,36)\"}, \"yaxis\": {\"backgroundcolor\": \"white\", \"gridcolor\": \"rgb(232,232,232)\", \"gridwidth\": 2, \"linecolor\": \"rgb(36,36,36)\", \"showbackground\": true, \"showgrid\": false, \"showline\": true, \"ticks\": \"outside\", \"zeroline\": false, \"zerolinecolor\": \"rgb(36,36,36)\"}, \"zaxis\": {\"backgroundcolor\": \"white\", \"gridcolor\": \"rgb(232,232,232)\", \"gridwidth\": 2, \"linecolor\": \"rgb(36,36,36)\", \"showbackground\": true, \"showgrid\": false, \"showline\": true, \"ticks\": \"outside\", \"zeroline\": false, \"zerolinecolor\": \"rgb(36,36,36)\"}}, \"shapedefaults\": {\"fillcolor\": \"black\", \"line\": {\"width\": 0}, \"opacity\": 0.3}, \"ternary\": {\"aaxis\": {\"gridcolor\": \"rgb(232,232,232)\", \"linecolor\": \"rgb(36,36,36)\", \"showgrid\": false, \"showline\": true, \"ticks\": \"outside\"}, \"baxis\": {\"gridcolor\": \"rgb(232,232,232)\", \"linecolor\": \"rgb(36,36,36)\", \"showgrid\": false, \"showline\": true, \"ticks\": \"outside\"}, \"bgcolor\": \"white\", \"caxis\": {\"gridcolor\": \"rgb(232,232,232)\", \"linecolor\": \"rgb(36,36,36)\", \"showgrid\": false, \"showline\": true, \"ticks\": \"outside\"}}, \"title\": {\"x\": 0.05}, \"xaxis\": {\"automargin\": true, \"gridcolor\": \"rgb(232,232,232)\", \"linecolor\": \"rgb(36,36,36)\", \"showgrid\": false, \"showline\": true, \"ticks\": \"outside\", \"title\": {\"standoff\": 15}, \"zeroline\": false, \"zerolinecolor\": \"rgb(36,36,36)\"}, \"yaxis\": {\"automargin\": true, \"gridcolor\": \"rgb(232,232,232)\", \"linecolor\": \"rgb(36,36,36)\", \"showgrid\": false, \"showline\": true, \"ticks\": \"outside\", \"title\": {\"standoff\": 15}, \"zeroline\": false, \"zerolinecolor\": \"rgb(36,36,36)\"}}}, \"width\": 800, \"xaxis\": {\"anchor\": \"y\", \"domain\": [0.0, 1.0], \"title\": {\"text\": \"product\"}}, \"yaxis\": {\"anchor\": \"x\", \"domain\": [0.0, 1.0], \"title\": {\"text\": \"complaint_id\"}}},                        {\"responsive\": true}                    ).then(function(){\n",
       "                            \n",
       "var gd = document.getElementById('4ebfd6a4-27b7-451c-9a2b-7bd053e6cf63');\n",
       "var x = new MutationObserver(function (mutations, observer) {{\n",
       "        var display = window.getComputedStyle(gd).display;\n",
       "        if (!display || display === 'none') {{\n",
       "            console.log([gd, 'removed!']);\n",
       "            Plotly.purge(gd);\n",
       "            observer.disconnect();\n",
       "        }}\n",
       "}});\n",
       "\n",
       "// Listen for the removal of the full notebook cells\n",
       "var notebookContainer = gd.closest('#notebook-container');\n",
       "if (notebookContainer) {{\n",
       "    x.observe(notebookContainer, {childList: true});\n",
       "}}\n",
       "\n",
       "// Listen for the clearing of the current output cell\n",
       "var outputEl = gd.closest('.output');\n",
       "if (outputEl) {{\n",
       "    x.observe(outputEl, {childList: true});\n",
       "}}\n",
       "\n",
       "                        })                };                });            </script>        </div>"
      ]
     },
     "metadata": {},
     "output_type": "display_data"
    }
   ],
   "source": [
    "df_prods = df.loc[(df.group <= 6)].groupby(['product', \n",
    "                                              'company_name']).count()['complaint_id'] \\\n",
    "             .reset_index().sort_values(by=['complaint_id'], ascending=False)\n",
    "\n",
    "# Streamlit\n",
    "df_prods.to_json('../tidy_data/df_prods.json')                                        \n",
    "\n",
    "fig = px.bar(df_prods, x='product', y='complaint_id', color='company_name',\n",
    "             width=800, height=600, template='simple_white')\n",
    "fig.show()"
   ]
  },
  {
   "cell_type": "markdown",
   "id": "previous-morning",
   "metadata": {
    "ExecuteTime": {
     "end_time": "2021-03-31T13:48:55.771595Z",
     "start_time": "2021-03-31T13:48:55.749179Z"
    }
   },
   "source": [
    "Of course, we have a winner among the products, with the first product also being responsible for the majority of group 1 complaints. Among other companies apart the first product that is also lider, the complaints are less \"specialized\""
   ]
  },
  {
   "cell_type": "code",
   "execution_count": 342,
   "id": "taken-posting",
   "metadata": {
    "ExecuteTime": {
     "end_time": "2021-03-31T20:44:51.572350Z",
     "start_time": "2021-03-31T20:44:51.502514Z"
    }
   },
   "outputs": [
    {
     "data": {
      "text/plain": [
       "['EQUIFAX, INC.',\n",
       " 'Experian Information Solutions Inc.',\n",
       " 'Alliance Data Card Services',\n",
       " 'WELLS FARGO & COMPANY',\n",
       " 'TRANSUNION INTERMEDIATE HOLDINGS, INC.',\n",
       " 'BANK OF AMERICA, NATIONAL ASSOCIATION',\n",
       " 'SYNCHRONY FINANCIAL',\n",
       " 'PNC Bank N.A.']"
      ]
     },
     "execution_count": 342,
     "metadata": {},
     "output_type": "execute_result"
    }
   ],
   "source": [
    "list(set(df[df.group <= 1]['company_name']) | \n",
    "     set(df_median_prog.loc[df_median_prog['Complaint ratio'] > 0.3]['Company Name']) |\n",
    "     set(df_sub7_bplot.loc[df_sub7_bplot.complaint_id > 2]['company_name']))     "
   ]
  }
 ],
 "metadata": {
  "kernelspec": {
   "display_name": "Python [conda env:financial-complaints] *",
   "language": "python",
   "name": "conda-env-financial-complaints-py"
  },
  "language_info": {
   "codemirror_mode": {
    "name": "ipython",
    "version": 3
   },
   "file_extension": ".py",
   "mimetype": "text/x-python",
   "name": "python",
   "nbconvert_exporter": "python",
   "pygments_lexer": "ipython3",
   "version": "3.8.8"
  }
 },
 "nbformat": 4,
 "nbformat_minor": 5
}
