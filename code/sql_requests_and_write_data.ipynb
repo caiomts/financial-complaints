{
 "cells": [
  {
   "cell_type": "markdown",
   "id": "negative-prague",
   "metadata": {
    "ExecuteTime": {
     "end_time": "2021-03-31T08:10:46.533021Z",
     "start_time": "2021-03-31T08:10:46.525930Z"
    }
   },
   "source": [
    "# SQL - API Request and Write data"
   ]
  },
  {
   "cell_type": "markdown",
   "id": "clear-saint",
   "metadata": {},
   "source": [
    "## Imports"
   ]
  },
  {
   "cell_type": "code",
   "execution_count": 2,
   "id": "southern-pointer",
   "metadata": {
    "ExecuteTime": {
     "end_time": "2021-03-31T08:11:41.595611Z",
     "start_time": "2021-03-31T08:11:40.220584Z"
    },
    "scrolled": true
   },
   "outputs": [],
   "source": [
    "import os\n",
    "import pandas as pd\n",
    "from google.cloud import bigquery\n",
    "import matplotlib.pyplot as plt\n",
    "import plotly.figure_factory as ff\n",
    "import seaborn as sns\n",
    "import numpy as np"
   ]
  },
  {
   "cell_type": "code",
   "execution_count": 3,
   "id": "communist-billion",
   "metadata": {
    "ExecuteTime": {
     "end_time": "2021-03-31T08:11:42.982145Z",
     "start_time": "2021-03-31T08:11:42.962691Z"
    },
    "scrolled": true
   },
   "outputs": [],
   "source": [
    "# set credentials\n",
    "os.environ['GOOGLE_APPLICATION_CREDENTIALS'] = \"../documents/key.json\"\n",
    "# creates a client\n",
    "client = bigquery.Client()"
   ]
  },
  {
   "cell_type": "markdown",
   "id": "enormous-weekly",
   "metadata": {},
   "source": [
    "## Loading Data"
   ]
  },
  {
   "cell_type": "code",
   "execution_count": 4,
   "id": "signal-program",
   "metadata": {
    "ExecuteTime": {
     "end_time": "2021-03-31T08:11:45.204367Z",
     "start_time": "2021-03-31T08:11:44.716637Z"
    },
    "scrolled": true
   },
   "outputs": [
    {
     "data": {
      "text/plain": [
       "[SchemaField('date_received', 'DATE', 'NULLABLE', 'Date the complaint was received by the CPFB', (), None),\n",
       " SchemaField('product', 'STRING', 'NULLABLE', 'The type of product the consumer identified in the complaint', (), None),\n",
       " SchemaField('subproduct', 'STRING', 'NULLABLE', 'The type of sub-product the consumer identified in the complaint', (), None),\n",
       " SchemaField('issue', 'STRING', 'NULLABLE', 'The issue the consumer identified in the complaint', (), None),\n",
       " SchemaField('subissue', 'STRING', 'NULLABLE', 'The sub-issue the consumer identified in the complaint', (), None),\n",
       " SchemaField('consumer_complaint_narrative', 'STRING', 'NULLABLE', 'A description of the complaint provided by the consumer', (), None),\n",
       " SchemaField('company_public_response', 'STRING', 'NULLABLE', \"The company's optional, public-facing response to a consumer's complaint\", (), None),\n",
       " SchemaField('company_name', 'STRING', 'NULLABLE', 'Name of the company identified in the complaint by the consumer', (), None),\n",
       " SchemaField('state', 'STRING', 'NULLABLE', 'Two letter postal abbreviation of the state of the mailing address provided by the consumer', (), None),\n",
       " SchemaField('zip_code', 'STRING', 'NULLABLE', 'The mailing ZIP code provided by the consumer', (), None),\n",
       " SchemaField('tags', 'STRING', 'NULLABLE', 'Data that supports easier searching and sorting of complaints', (), None),\n",
       " SchemaField('consumer_consent_provided', 'STRING', 'NULLABLE', 'Identifies whether the consumer opted in to publish their complaint narrative', (), None),\n",
       " SchemaField('submitted_via', 'STRING', 'NULLABLE', 'How the complaint was submitted to the CFPB', (), None),\n",
       " SchemaField('date_sent_to_company', 'DATE', 'NULLABLE', 'The date the CFPB sent the complaint to the company', (), None),\n",
       " SchemaField('company_response_to_consumer', 'STRING', 'NULLABLE', 'The response from the company about this complaint', (), None),\n",
       " SchemaField('timely_response', 'BOOLEAN', 'NULLABLE', 'Indicates whether the company gave a timely response or not', (), None),\n",
       " SchemaField('consumer_disputed', 'BOOLEAN', 'NULLABLE', \"Whether the consumer disputed the company's response\", (), None),\n",
       " SchemaField('complaint_id', 'STRING', 'NULLABLE', 'Unique ID for complaints registered with the CFPB', (), None)]"
      ]
     },
     "execution_count": 4,
     "metadata": {},
     "output_type": "execute_result"
    }
   ],
   "source": [
    "# References\n",
    "ds_ref = client.dataset('cfpb_complaints', project='bigquery-public-data')\n",
    "df_ref = ds_ref.table('complaint_database')\n",
    "# API - request Fetch the table\n",
    "df = client.get_table(df_ref)\n",
    "df.schema"
   ]
  },
  {
   "cell_type": "code",
   "execution_count": 5,
   "id": "latin-vegetation",
   "metadata": {
    "ExecuteTime": {
     "end_time": "2021-03-31T08:11:49.511663Z",
     "start_time": "2021-03-31T08:11:48.269295Z"
    }
   },
   "outputs": [
    {
     "name": "stderr",
     "output_type": "stream",
     "text": [
      "/home/caiomts/anaconda3/envs/financial-complaints/lib/python3.8/site-packages/google/cloud/bigquery/table.py:1763: UserWarning: Cannot use bqstorage_client if max_results is set, reverting to fetching data with the REST endpoint.\n",
      "  if not self._validate_bqstorage(bqstorage_client, create_bqstorage_client):\n"
     ]
    },
    {
     "data": {
      "text/html": [
       "<div>\n",
       "<style scoped>\n",
       "    .dataframe tbody tr th:only-of-type {\n",
       "        vertical-align: middle;\n",
       "    }\n",
       "\n",
       "    .dataframe tbody tr th {\n",
       "        vertical-align: top;\n",
       "    }\n",
       "\n",
       "    .dataframe thead th {\n",
       "        text-align: right;\n",
       "    }\n",
       "</style>\n",
       "<table border=\"1\" class=\"dataframe\">\n",
       "  <thead>\n",
       "    <tr style=\"text-align: right;\">\n",
       "      <th></th>\n",
       "      <th>date_received</th>\n",
       "      <th>product</th>\n",
       "      <th>subproduct</th>\n",
       "      <th>issue</th>\n",
       "      <th>subissue</th>\n",
       "      <th>consumer_complaint_narrative</th>\n",
       "      <th>company_public_response</th>\n",
       "      <th>company_name</th>\n",
       "      <th>state</th>\n",
       "      <th>zip_code</th>\n",
       "      <th>tags</th>\n",
       "      <th>consumer_consent_provided</th>\n",
       "      <th>submitted_via</th>\n",
       "      <th>date_sent_to_company</th>\n",
       "      <th>company_response_to_consumer</th>\n",
       "      <th>timely_response</th>\n",
       "      <th>consumer_disputed</th>\n",
       "      <th>complaint_id</th>\n",
       "    </tr>\n",
       "  </thead>\n",
       "  <tbody>\n",
       "    <tr>\n",
       "      <th>0</th>\n",
       "      <td>2017-03-26</td>\n",
       "      <td>Credit card</td>\n",
       "      <td>None</td>\n",
       "      <td>Late fee</td>\n",
       "      <td>None</td>\n",
       "      <td>None</td>\n",
       "      <td>None</td>\n",
       "      <td>Alliance Data Card Services</td>\n",
       "      <td>IL</td>\n",
       "      <td>60074</td>\n",
       "      <td>None</td>\n",
       "      <td>None</td>\n",
       "      <td>Web</td>\n",
       "      <td>2017-03-26</td>\n",
       "      <td>Closed with explanation</td>\n",
       "      <td>True</td>\n",
       "      <td>False</td>\n",
       "      <td>2404586</td>\n",
       "    </tr>\n",
       "    <tr>\n",
       "      <th>1</th>\n",
       "      <td>2021-01-21</td>\n",
       "      <td>Credit card or prepaid card</td>\n",
       "      <td>General-purpose prepaid card</td>\n",
       "      <td>Advertising</td>\n",
       "      <td>Confusing or misleading advertising about the ...</td>\n",
       "      <td>None</td>\n",
       "      <td>None</td>\n",
       "      <td>NETSPEND CORPORATION</td>\n",
       "      <td>NM</td>\n",
       "      <td>871XX</td>\n",
       "      <td>None</td>\n",
       "      <td>None</td>\n",
       "      <td>Web</td>\n",
       "      <td>2021-02-05</td>\n",
       "      <td>In progress</td>\n",
       "      <td>True</td>\n",
       "      <td>None</td>\n",
       "      <td>4083912</td>\n",
       "    </tr>\n",
       "    <tr>\n",
       "      <th>2</th>\n",
       "      <td>2021-02-06</td>\n",
       "      <td>Money transfer, virtual currency, or money ser...</td>\n",
       "      <td>Domestic (US) money transfer</td>\n",
       "      <td>Fraud or scam</td>\n",
       "      <td>None</td>\n",
       "      <td>None</td>\n",
       "      <td>None</td>\n",
       "      <td>TD BANK US HOLDING COMPANY</td>\n",
       "      <td>MN</td>\n",
       "      <td>55449</td>\n",
       "      <td>Older American</td>\n",
       "      <td>None</td>\n",
       "      <td>Web</td>\n",
       "      <td>2021-02-06</td>\n",
       "      <td>Closed with explanation</td>\n",
       "      <td>True</td>\n",
       "      <td>None</td>\n",
       "      <td>4120827</td>\n",
       "    </tr>\n",
       "    <tr>\n",
       "      <th>3</th>\n",
       "      <td>2021-02-26</td>\n",
       "      <td>Money transfer, virtual currency, or money ser...</td>\n",
       "      <td>International money transfer</td>\n",
       "      <td>Fraud or scam</td>\n",
       "      <td>None</td>\n",
       "      <td>None</td>\n",
       "      <td>None</td>\n",
       "      <td>JPMORGAN CHASE &amp; CO.</td>\n",
       "      <td>TX</td>\n",
       "      <td>770XX</td>\n",
       "      <td>None</td>\n",
       "      <td>None</td>\n",
       "      <td>Web</td>\n",
       "      <td>2021-03-01</td>\n",
       "      <td>In progress</td>\n",
       "      <td>True</td>\n",
       "      <td>None</td>\n",
       "      <td>4169537</td>\n",
       "    </tr>\n",
       "    <tr>\n",
       "      <th>4</th>\n",
       "      <td>2021-03-09</td>\n",
       "      <td>Money transfer, virtual currency, or money ser...</td>\n",
       "      <td>Domestic (US) money transfer</td>\n",
       "      <td>Fraud or scam</td>\n",
       "      <td>None</td>\n",
       "      <td>None</td>\n",
       "      <td>None</td>\n",
       "      <td>TD BANK US HOLDING COMPANY</td>\n",
       "      <td>NY</td>\n",
       "      <td>None</td>\n",
       "      <td>None</td>\n",
       "      <td>None</td>\n",
       "      <td>Web</td>\n",
       "      <td>2021-03-09</td>\n",
       "      <td>Closed with explanation</td>\n",
       "      <td>True</td>\n",
       "      <td>None</td>\n",
       "      <td>4195384</td>\n",
       "    </tr>\n",
       "  </tbody>\n",
       "</table>\n",
       "</div>"
      ],
      "text/plain": [
       "  date_received                                            product  \\\n",
       "0    2017-03-26                                        Credit card   \n",
       "1    2021-01-21                        Credit card or prepaid card   \n",
       "2    2021-02-06  Money transfer, virtual currency, or money ser...   \n",
       "3    2021-02-26  Money transfer, virtual currency, or money ser...   \n",
       "4    2021-03-09  Money transfer, virtual currency, or money ser...   \n",
       "\n",
       "                     subproduct          issue  \\\n",
       "0                          None       Late fee   \n",
       "1  General-purpose prepaid card    Advertising   \n",
       "2  Domestic (US) money transfer  Fraud or scam   \n",
       "3  International money transfer  Fraud or scam   \n",
       "4  Domestic (US) money transfer  Fraud or scam   \n",
       "\n",
       "                                            subissue  \\\n",
       "0                                               None   \n",
       "1  Confusing or misleading advertising about the ...   \n",
       "2                                               None   \n",
       "3                                               None   \n",
       "4                                               None   \n",
       "\n",
       "  consumer_complaint_narrative company_public_response  \\\n",
       "0                         None                    None   \n",
       "1                         None                    None   \n",
       "2                         None                    None   \n",
       "3                         None                    None   \n",
       "4                         None                    None   \n",
       "\n",
       "                  company_name state zip_code            tags  \\\n",
       "0  Alliance Data Card Services    IL    60074            None   \n",
       "1         NETSPEND CORPORATION    NM    871XX            None   \n",
       "2   TD BANK US HOLDING COMPANY    MN    55449  Older American   \n",
       "3         JPMORGAN CHASE & CO.    TX    770XX            None   \n",
       "4   TD BANK US HOLDING COMPANY    NY     None            None   \n",
       "\n",
       "  consumer_consent_provided submitted_via date_sent_to_company  \\\n",
       "0                      None           Web           2017-03-26   \n",
       "1                      None           Web           2021-02-05   \n",
       "2                      None           Web           2021-02-06   \n",
       "3                      None           Web           2021-03-01   \n",
       "4                      None           Web           2021-03-09   \n",
       "\n",
       "  company_response_to_consumer  timely_response consumer_disputed complaint_id  \n",
       "0      Closed with explanation             True             False      2404586  \n",
       "1                  In progress             True              None      4083912  \n",
       "2      Closed with explanation             True              None      4120827  \n",
       "3                  In progress             True              None      4169537  \n",
       "4      Closed with explanation             True              None      4195384  "
      ]
     },
     "execution_count": 5,
     "metadata": {},
     "output_type": "execute_result"
    }
   ],
   "source": [
    "client.list_rows(df, max_results=5).to_dataframe()"
   ]
  },
  {
   "cell_type": "code",
   "execution_count": 6,
   "id": "stopped-practitioner",
   "metadata": {
    "ExecuteTime": {
     "end_time": "2021-03-31T08:11:51.846843Z",
     "start_time": "2021-03-31T08:11:51.842744Z"
    },
    "scrolled": true
   },
   "outputs": [],
   "source": [
    "query = \"\"\"\n",
    "        SELECT date_received, product, subproduct, issue, company_name, \n",
    "            company_response_to_consumer, timely_response, complaint_id\n",
    "        FROM `bigquery-public-data.cfpb_complaints.complaint_database`\n",
    "        WHERE EXTRACT(YEAR FROM date_received) >= 2018 OR company_response_to_consumer = 'In progress'\n",
    "        ORDER BY date_received DESC\n",
    "        \"\"\""
   ]
  },
  {
   "cell_type": "code",
   "execution_count": 7,
   "id": "architectural-cathedral",
   "metadata": {
    "ExecuteTime": {
     "end_time": "2021-03-31T08:11:53.743293Z",
     "start_time": "2021-03-31T08:11:53.739050Z"
    }
   },
   "outputs": [],
   "source": [
    "# setting limits\n",
    "safe_config = bigquery.QueryJobConfig(maximum_bytes_billed=10**10)"
   ]
  },
  {
   "cell_type": "code",
   "execution_count": 8,
   "id": "careful-ownership",
   "metadata": {
    "ExecuteTime": {
     "end_time": "2021-03-31T08:12:16.143070Z",
     "start_time": "2021-03-31T08:11:55.987976Z"
    },
    "scrolled": true
   },
   "outputs": [
    {
     "data": {
      "text/html": [
       "<div>\n",
       "<style scoped>\n",
       "    .dataframe tbody tr th:only-of-type {\n",
       "        vertical-align: middle;\n",
       "    }\n",
       "\n",
       "    .dataframe tbody tr th {\n",
       "        vertical-align: top;\n",
       "    }\n",
       "\n",
       "    .dataframe thead th {\n",
       "        text-align: right;\n",
       "    }\n",
       "</style>\n",
       "<table border=\"1\" class=\"dataframe\">\n",
       "  <thead>\n",
       "    <tr style=\"text-align: right;\">\n",
       "      <th></th>\n",
       "      <th>date_received</th>\n",
       "      <th>product</th>\n",
       "      <th>subproduct</th>\n",
       "      <th>issue</th>\n",
       "      <th>company_name</th>\n",
       "      <th>company_response_to_consumer</th>\n",
       "      <th>timely_response</th>\n",
       "      <th>complaint_id</th>\n",
       "    </tr>\n",
       "  </thead>\n",
       "  <tbody>\n",
       "    <tr>\n",
       "      <th>0</th>\n",
       "      <td>2021-03-27</td>\n",
       "      <td>Credit reporting, credit repair services, or o...</td>\n",
       "      <td>Credit reporting</td>\n",
       "      <td>Improper use of your report</td>\n",
       "      <td>TRANSUNION INTERMEDIATE HOLDINGS, INC.</td>\n",
       "      <td>In progress</td>\n",
       "      <td>True</td>\n",
       "      <td>4251013</td>\n",
       "    </tr>\n",
       "    <tr>\n",
       "      <th>1</th>\n",
       "      <td>2021-03-27</td>\n",
       "      <td>Credit reporting, credit repair services, or o...</td>\n",
       "      <td>Credit reporting</td>\n",
       "      <td>Improper use of your report</td>\n",
       "      <td>TRANSUNION INTERMEDIATE HOLDINGS, INC.</td>\n",
       "      <td>In progress</td>\n",
       "      <td>True</td>\n",
       "      <td>4251000</td>\n",
       "    </tr>\n",
       "    <tr>\n",
       "      <th>2</th>\n",
       "      <td>2021-03-27</td>\n",
       "      <td>Credit reporting, credit repair services, or o...</td>\n",
       "      <td>Credit reporting</td>\n",
       "      <td>Improper use of your report</td>\n",
       "      <td>TRANSUNION INTERMEDIATE HOLDINGS, INC.</td>\n",
       "      <td>In progress</td>\n",
       "      <td>True</td>\n",
       "      <td>4250942</td>\n",
       "    </tr>\n",
       "    <tr>\n",
       "      <th>3</th>\n",
       "      <td>2021-03-27</td>\n",
       "      <td>Credit reporting, credit repair services, or o...</td>\n",
       "      <td>Credit reporting</td>\n",
       "      <td>Improper use of your report</td>\n",
       "      <td>TRANSUNION INTERMEDIATE HOLDINGS, INC.</td>\n",
       "      <td>In progress</td>\n",
       "      <td>True</td>\n",
       "      <td>4250975</td>\n",
       "    </tr>\n",
       "    <tr>\n",
       "      <th>4</th>\n",
       "      <td>2021-03-27</td>\n",
       "      <td>Credit reporting, credit repair services, or o...</td>\n",
       "      <td>Credit reporting</td>\n",
       "      <td>Improper use of your report</td>\n",
       "      <td>TRANSUNION INTERMEDIATE HOLDINGS, INC.</td>\n",
       "      <td>In progress</td>\n",
       "      <td>True</td>\n",
       "      <td>4251186</td>\n",
       "    </tr>\n",
       "  </tbody>\n",
       "</table>\n",
       "</div>"
      ],
      "text/plain": [
       "  date_received                                            product  \\\n",
       "0    2021-03-27  Credit reporting, credit repair services, or o...   \n",
       "1    2021-03-27  Credit reporting, credit repair services, or o...   \n",
       "2    2021-03-27  Credit reporting, credit repair services, or o...   \n",
       "3    2021-03-27  Credit reporting, credit repair services, or o...   \n",
       "4    2021-03-27  Credit reporting, credit repair services, or o...   \n",
       "\n",
       "         subproduct                        issue  \\\n",
       "0  Credit reporting  Improper use of your report   \n",
       "1  Credit reporting  Improper use of your report   \n",
       "2  Credit reporting  Improper use of your report   \n",
       "3  Credit reporting  Improper use of your report   \n",
       "4  Credit reporting  Improper use of your report   \n",
       "\n",
       "                             company_name company_response_to_consumer  \\\n",
       "0  TRANSUNION INTERMEDIATE HOLDINGS, INC.                  In progress   \n",
       "1  TRANSUNION INTERMEDIATE HOLDINGS, INC.                  In progress   \n",
       "2  TRANSUNION INTERMEDIATE HOLDINGS, INC.                  In progress   \n",
       "3  TRANSUNION INTERMEDIATE HOLDINGS, INC.                  In progress   \n",
       "4  TRANSUNION INTERMEDIATE HOLDINGS, INC.                  In progress   \n",
       "\n",
       "   timely_response complaint_id  \n",
       "0             True      4251013  \n",
       "1             True      4251000  \n",
       "2             True      4250942  \n",
       "3             True      4250975  \n",
       "4             True      4251186  "
      ]
     },
     "execution_count": 8,
     "metadata": {},
     "output_type": "execute_result"
    }
   ],
   "source": [
    "query_job = client.query(query, job_config=safe_config)\n",
    "# API request\n",
    "raw_df = query_job.to_dataframe()\n",
    "raw_df.head()"
   ]
  },
  {
   "cell_type": "markdown",
   "id": "inappropriate-camera",
   "metadata": {},
   "source": [
    "## Data Preparation"
   ]
  },
  {
   "cell_type": "code",
   "execution_count": 9,
   "id": "worth-commons",
   "metadata": {
    "ExecuteTime": {
     "end_time": "2021-03-31T08:12:29.848328Z",
     "start_time": "2021-03-31T08:12:28.466059Z"
    }
   },
   "outputs": [
    {
     "data": {
      "text/html": [
       "<div>\n",
       "<style scoped>\n",
       "    .dataframe tbody tr th:only-of-type {\n",
       "        vertical-align: middle;\n",
       "    }\n",
       "\n",
       "    .dataframe tbody tr th {\n",
       "        vertical-align: top;\n",
       "    }\n",
       "\n",
       "    .dataframe thead th {\n",
       "        text-align: right;\n",
       "    }\n",
       "</style>\n",
       "<table border=\"1\" class=\"dataframe\">\n",
       "  <thead>\n",
       "    <tr style=\"text-align: right;\">\n",
       "      <th></th>\n",
       "      <th>date_received</th>\n",
       "      <th>product</th>\n",
       "      <th>subproduct</th>\n",
       "      <th>issue</th>\n",
       "      <th>company_name</th>\n",
       "      <th>company_response_to_consumer</th>\n",
       "      <th>timely_response</th>\n",
       "      <th>complaint_id</th>\n",
       "    </tr>\n",
       "  </thead>\n",
       "  <tbody>\n",
       "    <tr>\n",
       "      <th>count</th>\n",
       "      <td>1083403</td>\n",
       "      <td>1083403</td>\n",
       "      <td>1083403</td>\n",
       "      <td>1083403</td>\n",
       "      <td>1083403</td>\n",
       "      <td>1083401</td>\n",
       "      <td>1083403</td>\n",
       "      <td>1083403</td>\n",
       "    </tr>\n",
       "    <tr>\n",
       "      <th>unique</th>\n",
       "      <td>1182</td>\n",
       "      <td>9</td>\n",
       "      <td>48</td>\n",
       "      <td>81</td>\n",
       "      <td>4675</td>\n",
       "      <td>5</td>\n",
       "      <td>2</td>\n",
       "      <td>1083403</td>\n",
       "    </tr>\n",
       "    <tr>\n",
       "      <th>top</th>\n",
       "      <td>2021-01-05</td>\n",
       "      <td>Credit reporting, credit repair services, or o...</td>\n",
       "      <td>Credit reporting</td>\n",
       "      <td>Incorrect information on your report</td>\n",
       "      <td>TRANSUNION INTERMEDIATE HOLDINGS, INC.</td>\n",
       "      <td>Closed with explanation</td>\n",
       "      <td>True</td>\n",
       "      <td>3053145</td>\n",
       "    </tr>\n",
       "    <tr>\n",
       "      <th>freq</th>\n",
       "      <td>2309</td>\n",
       "      <td>599283</td>\n",
       "      <td>592330</td>\n",
       "      <td>398462</td>\n",
       "      <td>178011</td>\n",
       "      <td>918100</td>\n",
       "      <td>1069006</td>\n",
       "      <td>1</td>\n",
       "    </tr>\n",
       "  </tbody>\n",
       "</table>\n",
       "</div>"
      ],
      "text/plain": [
       "       date_received                                            product  \\\n",
       "count        1083403                                            1083403   \n",
       "unique          1182                                                  9   \n",
       "top       2021-01-05  Credit reporting, credit repair services, or o...   \n",
       "freq            2309                                             599283   \n",
       "\n",
       "              subproduct                                 issue  \\\n",
       "count            1083403                               1083403   \n",
       "unique                48                                    81   \n",
       "top     Credit reporting  Incorrect information on your report   \n",
       "freq              592330                                398462   \n",
       "\n",
       "                                  company_name company_response_to_consumer  \\\n",
       "count                                  1083403                      1083401   \n",
       "unique                                    4675                            5   \n",
       "top     TRANSUNION INTERMEDIATE HOLDINGS, INC.      Closed with explanation   \n",
       "freq                                    178011                       918100   \n",
       "\n",
       "       timely_response complaint_id  \n",
       "count          1083403      1083403  \n",
       "unique               2      1083403  \n",
       "top               True      3053145  \n",
       "freq           1069006            1  "
      ]
     },
     "execution_count": 9,
     "metadata": {},
     "output_type": "execute_result"
    }
   ],
   "source": [
    "raw_df.describe()"
   ]
  },
  {
   "cell_type": "code",
   "execution_count": 10,
   "id": "mounted-office",
   "metadata": {
    "ExecuteTime": {
     "end_time": "2021-03-31T08:12:31.678547Z",
     "start_time": "2021-03-31T08:12:31.670837Z"
    }
   },
   "outputs": [
    {
     "data": {
      "text/plain": [
       "date_received                   object\n",
       "product                         object\n",
       "subproduct                      object\n",
       "issue                           object\n",
       "company_name                    object\n",
       "company_response_to_consumer    object\n",
       "timely_response                   bool\n",
       "complaint_id                    object\n",
       "dtype: object"
      ]
     },
     "execution_count": 10,
     "metadata": {},
     "output_type": "execute_result"
    }
   ],
   "source": [
    "raw_df.dtypes"
   ]
  },
  {
   "cell_type": "code",
   "execution_count": 12,
   "id": "conservative-shareware",
   "metadata": {
    "ExecuteTime": {
     "end_time": "2021-03-31T08:12:43.942454Z",
     "start_time": "2021-03-31T08:12:43.906979Z"
    }
   },
   "outputs": [],
   "source": [
    "# adjusting the date format\n",
    "dates = ['date_received']\n",
    "for date in dates:\n",
    "    raw_df[date] = pd.to_datetime(raw_df[date], format='%Y-%m-%d')"
   ]
  },
  {
   "cell_type": "code",
   "execution_count": 13,
   "id": "particular-collins",
   "metadata": {
    "ExecuteTime": {
     "end_time": "2021-03-31T08:12:48.680679Z",
     "start_time": "2021-03-31T08:12:48.675441Z"
    }
   },
   "outputs": [],
   "source": [
    "raw_df.set_index('date_received', inplace=True)"
   ]
  },
  {
   "cell_type": "code",
   "execution_count": 14,
   "id": "cooperative-budget",
   "metadata": {
    "ExecuteTime": {
     "end_time": "2021-03-31T08:12:50.633235Z",
     "start_time": "2021-03-31T08:12:50.619492Z"
    }
   },
   "outputs": [
    {
     "data": {
      "text/html": [
       "<div>\n",
       "<style scoped>\n",
       "    .dataframe tbody tr th:only-of-type {\n",
       "        vertical-align: middle;\n",
       "    }\n",
       "\n",
       "    .dataframe tbody tr th {\n",
       "        vertical-align: top;\n",
       "    }\n",
       "\n",
       "    .dataframe thead th {\n",
       "        text-align: right;\n",
       "    }\n",
       "</style>\n",
       "<table border=\"1\" class=\"dataframe\">\n",
       "  <thead>\n",
       "    <tr style=\"text-align: right;\">\n",
       "      <th></th>\n",
       "      <th>product</th>\n",
       "      <th>subproduct</th>\n",
       "      <th>issue</th>\n",
       "      <th>company_name</th>\n",
       "      <th>company_response_to_consumer</th>\n",
       "      <th>timely_response</th>\n",
       "      <th>complaint_id</th>\n",
       "    </tr>\n",
       "    <tr>\n",
       "      <th>date_received</th>\n",
       "      <th></th>\n",
       "      <th></th>\n",
       "      <th></th>\n",
       "      <th></th>\n",
       "      <th></th>\n",
       "      <th></th>\n",
       "      <th></th>\n",
       "    </tr>\n",
       "  </thead>\n",
       "  <tbody>\n",
       "    <tr>\n",
       "      <th>2021-03-27</th>\n",
       "      <td>Credit reporting, credit repair services, or o...</td>\n",
       "      <td>Credit reporting</td>\n",
       "      <td>Improper use of your report</td>\n",
       "      <td>TRANSUNION INTERMEDIATE HOLDINGS, INC.</td>\n",
       "      <td>In progress</td>\n",
       "      <td>True</td>\n",
       "      <td>4251013</td>\n",
       "    </tr>\n",
       "    <tr>\n",
       "      <th>2021-03-27</th>\n",
       "      <td>Credit reporting, credit repair services, or o...</td>\n",
       "      <td>Credit reporting</td>\n",
       "      <td>Improper use of your report</td>\n",
       "      <td>TRANSUNION INTERMEDIATE HOLDINGS, INC.</td>\n",
       "      <td>In progress</td>\n",
       "      <td>True</td>\n",
       "      <td>4251000</td>\n",
       "    </tr>\n",
       "    <tr>\n",
       "      <th>2021-03-27</th>\n",
       "      <td>Credit reporting, credit repair services, or o...</td>\n",
       "      <td>Credit reporting</td>\n",
       "      <td>Improper use of your report</td>\n",
       "      <td>TRANSUNION INTERMEDIATE HOLDINGS, INC.</td>\n",
       "      <td>In progress</td>\n",
       "      <td>True</td>\n",
       "      <td>4250942</td>\n",
       "    </tr>\n",
       "    <tr>\n",
       "      <th>2021-03-27</th>\n",
       "      <td>Credit reporting, credit repair services, or o...</td>\n",
       "      <td>Credit reporting</td>\n",
       "      <td>Improper use of your report</td>\n",
       "      <td>TRANSUNION INTERMEDIATE HOLDINGS, INC.</td>\n",
       "      <td>In progress</td>\n",
       "      <td>True</td>\n",
       "      <td>4250975</td>\n",
       "    </tr>\n",
       "    <tr>\n",
       "      <th>2021-03-27</th>\n",
       "      <td>Credit reporting, credit repair services, or o...</td>\n",
       "      <td>Credit reporting</td>\n",
       "      <td>Improper use of your report</td>\n",
       "      <td>TRANSUNION INTERMEDIATE HOLDINGS, INC.</td>\n",
       "      <td>In progress</td>\n",
       "      <td>True</td>\n",
       "      <td>4251186</td>\n",
       "    </tr>\n",
       "  </tbody>\n",
       "</table>\n",
       "</div>"
      ],
      "text/plain": [
       "                                                         product  \\\n",
       "date_received                                                      \n",
       "2021-03-27     Credit reporting, credit repair services, or o...   \n",
       "2021-03-27     Credit reporting, credit repair services, or o...   \n",
       "2021-03-27     Credit reporting, credit repair services, or o...   \n",
       "2021-03-27     Credit reporting, credit repair services, or o...   \n",
       "2021-03-27     Credit reporting, credit repair services, or o...   \n",
       "\n",
       "                     subproduct                        issue  \\\n",
       "date_received                                                  \n",
       "2021-03-27     Credit reporting  Improper use of your report   \n",
       "2021-03-27     Credit reporting  Improper use of your report   \n",
       "2021-03-27     Credit reporting  Improper use of your report   \n",
       "2021-03-27     Credit reporting  Improper use of your report   \n",
       "2021-03-27     Credit reporting  Improper use of your report   \n",
       "\n",
       "                                         company_name  \\\n",
       "date_received                                           \n",
       "2021-03-27     TRANSUNION INTERMEDIATE HOLDINGS, INC.   \n",
       "2021-03-27     TRANSUNION INTERMEDIATE HOLDINGS, INC.   \n",
       "2021-03-27     TRANSUNION INTERMEDIATE HOLDINGS, INC.   \n",
       "2021-03-27     TRANSUNION INTERMEDIATE HOLDINGS, INC.   \n",
       "2021-03-27     TRANSUNION INTERMEDIATE HOLDINGS, INC.   \n",
       "\n",
       "              company_response_to_consumer  timely_response complaint_id  \n",
       "date_received                                                             \n",
       "2021-03-27                     In progress             True      4251013  \n",
       "2021-03-27                     In progress             True      4251000  \n",
       "2021-03-27                     In progress             True      4250942  \n",
       "2021-03-27                     In progress             True      4250975  \n",
       "2021-03-27                     In progress             True      4251186  "
      ]
     },
     "execution_count": 14,
     "metadata": {},
     "output_type": "execute_result"
    }
   ],
   "source": [
    "raw_df.head()"
   ]
  },
  {
   "cell_type": "code",
   "execution_count": 15,
   "id": "endless-tournament",
   "metadata": {
    "ExecuteTime": {
     "end_time": "2021-03-31T08:13:05.635320Z",
     "start_time": "2021-03-31T08:13:05.596262Z"
    }
   },
   "outputs": [
    {
     "data": {
      "text/plain": [
       "array(['In progress', 'Closed with explanation',\n",
       "       'Closed with non-monetary relief', 'Closed with monetary relief',\n",
       "       'Untimely response', None], dtype=object)"
      ]
     },
     "execution_count": 15,
     "metadata": {},
     "output_type": "execute_result"
    }
   ],
   "source": [
    "raw_df.company_response_to_consumer.unique()"
   ]
  },
  {
   "cell_type": "markdown",
   "id": "alert-bonus",
   "metadata": {},
   "source": [
    "## Filter data"
   ]
  },
  {
   "cell_type": "markdown",
   "id": "discrete-designer",
   "metadata": {
    "ExecuteTime": {
     "end_time": "2021-03-25T13:20:41.686300Z",
     "start_time": "2021-03-25T13:20:41.666817Z"
    }
   },
   "source": [
    "### 1 - Which companies have the most complaints?"
   ]
  },
  {
   "cell_type": "code",
   "execution_count": 16,
   "id": "played-nudist",
   "metadata": {
    "ExecuteTime": {
     "end_time": "2021-03-31T08:13:53.522217Z",
     "start_time": "2021-03-31T08:13:53.324438Z"
    }
   },
   "outputs": [],
   "source": [
    "comp_most_complaints = raw_df[['company_name', 'complaint_id']] \\\n",
    ".groupby('company_name').count().sort_values(by='complaint_id', ascending=False).head(20).index.to_list()"
   ]
  },
  {
   "cell_type": "markdown",
   "id": "later-privilege",
   "metadata": {
    "ExecuteTime": {
     "end_time": "2021-03-25T13:45:27.911664Z",
     "start_time": "2021-03-25T13:45:18.817381Z"
    }
   },
   "source": [
    "### 2 - Which companies have the most complaints this year?"
   ]
  },
  {
   "cell_type": "code",
   "execution_count": 17,
   "id": "local-gambling",
   "metadata": {
    "ExecuteTime": {
     "end_time": "2021-03-31T08:13:55.942796Z",
     "start_time": "2021-03-31T08:13:55.890731Z"
    },
    "scrolled": true
   },
   "outputs": [],
   "source": [
    "comp_most_complaints_2021 = raw_df.loc['2021' , ['company_name', 'complaint_id']] \\\n",
    ".groupby('company_name').count().sort_values(by='complaint_id', ascending=False).head(20).index.to_list()"
   ]
  },
  {
   "cell_type": "markdown",
   "id": "leading-software",
   "metadata": {},
   "source": [
    "### 3 - Which companies have the most complaints 'in progress' or 'Untimely response'?"
   ]
  },
  {
   "cell_type": "code",
   "execution_count": 18,
   "id": "continuing-silly",
   "metadata": {
    "ExecuteTime": {
     "end_time": "2021-03-31T08:14:41.075013Z",
     "start_time": "2021-03-31T08:14:41.041286Z"
    }
   },
   "outputs": [],
   "source": [
    "comp_most_complaints_unsolved = raw_df.loc[raw_df.company_response_to_consumer \\\n",
    "                                           .isin(['In progress', 'Untimely response']),\n",
    "                                           ['company_name', 'complaint_id']] \\\n",
    ".groupby('company_name').count().sort_values(by='complaint_id', ascending=False).head(20).index.to_list()"
   ]
  },
  {
   "cell_type": "markdown",
   "id": "mounted-exhibition",
   "metadata": {},
   "source": [
    "### 4 - What are the most recurring issues per company? "
   ]
  },
  {
   "cell_type": "code",
   "execution_count": 19,
   "id": "continued-estonia",
   "metadata": {
    "ExecuteTime": {
     "end_time": "2021-03-31T08:14:51.523946Z",
     "start_time": "2021-03-31T08:14:51.283954Z"
    }
   },
   "outputs": [],
   "source": [
    "comp_recurring_issue = raw_df[['company_name', 'issue', 'complaint_id']] \\\n",
    ".groupby(['issue', 'company_name']).count().sort_values(by='complaint_id', \n",
    "                                                        ascending=False).head(20).index \\\n",
    ".get_level_values('company_name').to_list()"
   ]
  },
  {
   "cell_type": "markdown",
   "id": "computational-means",
   "metadata": {},
   "source": [
    "### Initial list of potential customers"
   ]
  },
  {
   "cell_type": "code",
   "execution_count": 21,
   "id": "single-extent",
   "metadata": {
    "ExecuteTime": {
     "end_time": "2021-03-31T08:17:13.206816Z",
     "start_time": "2021-03-31T08:17:13.200484Z"
    }
   },
   "outputs": [
    {
     "data": {
      "text/plain": [
       "31"
      ]
     },
     "execution_count": 21,
     "metadata": {},
     "output_type": "execute_result"
    }
   ],
   "source": [
    "potential_customers = list(set(comp_most_complaints) | \n",
    "                        set(comp_most_complaints_2021) |\n",
    "                        set(comp_most_complaints_unsolved)|\n",
    "                          set (comp_recurring_issue))\n",
    "len(potential_customers)"
   ]
  },
  {
   "cell_type": "code",
   "execution_count": 22,
   "id": "valued-deployment",
   "metadata": {
    "ExecuteTime": {
     "end_time": "2021-03-31T08:17:15.397411Z",
     "start_time": "2021-03-31T08:17:15.390094Z"
    }
   },
   "outputs": [
    {
     "data": {
      "text/plain": [
       "['AES/PHEAA',\n",
       " 'Mobiloans, LLC',\n",
       " 'PORTFOLIO RECOVERY ASSOCIATES INC',\n",
       " 'SYNCHRONY FINANCIAL',\n",
       " 'ENCORE CAPITAL GROUP INC.',\n",
       " 'Premier\\xa0Student\\xa0Loan\\xa0Center',\n",
       " 'JPMORGAN CHASE & CO.',\n",
       " 'CAPITAL ONE FINANCIAL CORPORATION',\n",
       " 'AMERICAN EXPRESS COMPANY',\n",
       " 'PNC Bank N.A.',\n",
       " 'Coinbase, Inc.',\n",
       " 'Ameritech Financial',\n",
       " 'Experian Information Solutions Inc.',\n",
       " 'Santander Consumer USA Holdings Inc.',\n",
       " 'Alliance Data Card Services',\n",
       " 'ALLY FINANCIAL INC.',\n",
       " 'CITIBANK, N.A.',\n",
       " 'CITIZENS FINANCIAL GROUP, INC.',\n",
       " 'U.S. BANCORP',\n",
       " 'DISCOVER BANK',\n",
       " 'TD BANK US HOLDING COMPANY',\n",
       " 'WELLS FARGO & COMPANY',\n",
       " 'EQUIFAX, INC.',\n",
       " 'Colony Brands, Inc.',\n",
       " 'Chime Financial Inc',\n",
       " 'BARCLAYS BANK DELAWARE',\n",
       " 'Navient Solutions, LLC.',\n",
       " 'Paypal Holdings, Inc',\n",
       " 'TRANSUNION INTERMEDIATE HOLDINGS, INC.',\n",
       " 'NAVY FEDERAL CREDIT UNION',\n",
       " 'BANK OF AMERICA, NATIONAL ASSOCIATION']"
      ]
     },
     "execution_count": 22,
     "metadata": {},
     "output_type": "execute_result"
    }
   ],
   "source": [
    "potential_customers"
   ]
  },
  {
   "cell_type": "markdown",
   "id": "developing-alarm",
   "metadata": {},
   "source": [
    "**The first step was to access large numbers. But there are few insights and that list is still large (31 companies), so the next step is to analyse especifically those companies.**"
   ]
  },
  {
   "cell_type": "markdown",
   "id": "sitting-morgan",
   "metadata": {},
   "source": [
    "## Saving data\n",
    "\n",
    "Saves shortlist data for further analysis"
   ]
  },
  {
   "cell_type": "code",
   "execution_count": 23,
   "id": "impossible-running",
   "metadata": {
    "ExecuteTime": {
     "end_time": "2021-03-31T08:17:44.590806Z",
     "start_time": "2021-03-31T08:17:38.162636Z"
    },
    "scrolled": true
   },
   "outputs": [],
   "source": [
    "shortlist_1 = raw_df[raw_df.company_name.isin(potential_customers)]\n",
    "compression_opts = dict(method='zip', archive_name='shortlist.csv') \n",
    "shortlist_1.to_csv('../raw_data/shortlist.zip', compression=compression_opts)"
   ]
  },
  {
   "cell_type": "code",
   "execution_count": 4,
   "id": "thermal-chase",
   "metadata": {
    "ExecuteTime": {
     "end_time": "2021-03-30T11:23:13.596612Z",
     "start_time": "2021-03-30T11:23:12.196131Z"
    }
   },
   "outputs": [],
   "source": [
    "# Complaints by company per year\n",
    "df_1 = shortlist_1[['company_name']].groupby(['company_name']).resample('Y').count().unstack(level=1)\n",
    "data_1 = df_1.sort_values(by=('company_name', '2021-12-31'), ascending=False).values\n",
    "index_1 = df_1.sort_values(by=('company_name', '2021-12-31'), ascending=False).index\n",
    "\n",
    "# CSV (streamlit)\n",
    "pd.DataFrame(data=data_1, index=index_1, columns=[2018, 2019, 2020, 2021]).to_csv('../tidy_data/fc_per_y.zip',\n",
    "                                                                                 compression=compression_opts)"
   ]
  },
  {
   "cell_type": "code",
   "execution_count": null,
   "id": "major-tsunami",
   "metadata": {},
   "outputs": [],
   "source": []
  }
 ],
 "metadata": {
  "kernelspec": {
   "display_name": "Python [conda env:financial-complaints] *",
   "language": "python",
   "name": "conda-env-financial-complaints-py"
  },
  "language_info": {
   "codemirror_mode": {
    "name": "ipython",
    "version": 3
   },
   "file_extension": ".py",
   "mimetype": "text/x-python",
   "name": "python",
   "nbconvert_exporter": "python",
   "pygments_lexer": "ipython3",
   "version": "3.8.8"
  }
 },
 "nbformat": 4,
 "nbformat_minor": 5
}
